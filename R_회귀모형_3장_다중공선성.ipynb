{
  "nbformat": 4,
  "nbformat_minor": 0,
  "metadata": {
    "colab": {
      "name": "R_회귀모형_3장_다중공선성",
      "private_outputs": true,
      "provenance": [],
      "collapsed_sections": [],
      "authorship_tag": "ABX9TyOkK7KHk+1Wy09kjYsWYWCQ",
      "include_colab_link": true
    },
    "kernelspec": {
      "name": "ir",
      "display_name": "R"
    }
  },
  "cells": [
    {
      "cell_type": "markdown",
      "metadata": {
        "id": "view-in-github",
        "colab_type": "text"
      },
      "source": [
        "<a href=\"https://colab.research.google.com/github/seunghee0518/R_File/blob/main/R_%ED%9A%8C%EA%B7%80%EB%AA%A8%ED%98%95_3%EC%9E%A5_%EB%8B%A4%EC%A4%91%EA%B3%B5%EC%84%A0%EC%84%B1.ipynb\" target=\"_parent\"><img src=\"https://colab.research.google.com/assets/colab-badge.svg\" alt=\"Open In Colab\"/></a>"
      ]
    },
    {
      "cell_type": "markdown",
      "metadata": {
        "id": "k8oWgXbuZVNh"
      },
      "source": [
        "#<표 3.1> 해군병원의 인력자료\n",
        "* 분산팽창인자값 구하기\n",
        "* Y : 월간 의사 연 근무시간\n",
        "* X1 : 일 평균 환자수\n",
        "* X2 : 월간 X-ray 촬영 횟수\n",
        "* X3 : 월간 이용 병석수\n",
        "* X4 : 해당 지역의 병원 이용가능 인구/100\n",
        "* X5 : 평균 입원일"
      ]
    },
    {
      "cell_type": "code",
      "metadata": {
        "id": "CwRV6f-LmRW8"
      },
      "source": [
        "#데이터 불러오기\n",
        "hospital.url = 'https://raw.githubusercontent.com/seunghee0518/R_File/main/%ED%9A%8C%EA%B7%80%EB%AA%A8%ED%98%95/hospital.txt'\n",
        "hospital = read.table(hospital.url, header=T)\n",
        "head(hospital, 3)\n",
        "attach(hospital)"
      ],
      "execution_count": null,
      "outputs": []
    },
    {
      "cell_type": "markdown",
      "metadata": {
        "id": "czOunMpxrcf9"
      },
      "source": [
        "각 변수의 대한 분산팽창인자 값 구하기"
      ]
    },
    {
      "cell_type": "code",
      "metadata": {
        "id": "2BLR1C7jb_L1"
      },
      "source": [
        "#1. 회귀적합 결과\n",
        "hospital.lm = lm(Y ~ ., data = hospital)\n",
        "summary(hospital.lm)"
      ],
      "execution_count": null,
      "outputs": []
    },
    {
      "cell_type": "code",
      "metadata": {
        "id": "NXC09pV06VHH"
      },
      "source": [
        "anova(hospital.lm)"
      ],
      "execution_count": null,
      "outputs": []
    },
    {
      "cell_type": "markdown",
      "metadata": {
        "id": "fIc8XYBcsVDt"
      },
      "source": [
        "* 추정회귀식 : Y = 1962.948-15.852 X1 +0.056 X2 + 1.590 X3 - 4.219 X4 - 394.314 X5\n",
        "* 분산σ2의 추정량 MSE = 412277\n",
        "* 결정계수 R2 = 0.9908\n",
        "* 경험적으로 Y는 X1, X3, X5에 비례할 것으로 예상되나 이들의 설명변수에 대한 회귀계수의 추정값의 부호가 음이므로 설명변수들 간에 다중공선성의 존재가 예상되며 따라서 분산팽창인자 등에 대한 진단이 요구된다"
      ]
    },
    {
      "cell_type": "code",
      "metadata": {
        "id": "ofuy8hEC6kHf"
      },
      "source": [
        "#분산팽창인자계산을 위한 패키지 : fmsb - VIF()\n",
        "install.packages(\"fmsb\")\n",
        "library(fmsb)"
      ],
      "execution_count": null,
      "outputs": []
    },
    {
      "cell_type": "code",
      "metadata": {
        "id": "2-I_Ib5_SsEn"
      },
      "source": [
        "#분산팽창인자계산\n",
        "vif1 = VIF(lm(X1 ~ X2+X3+X4+X5, data = hospital))\n",
        "vif2 = VIF(lm(X2 ~ X1+X3+X4+X5, data = hospital))\n",
        "vif3 = VIF(lm(X3 ~ X1+X2+X4+X5, data = hospital))\n",
        "vif4 = VIF(lm(X4 ~ X1+X2+X3+X5, data = hospital))\n",
        "vif5 = VIF(lm(X5 ~ X1+X2+X3+X4, data = hospital))"
      ],
      "execution_count": null,
      "outputs": []
    },
    {
      "cell_type": "code",
      "metadata": {
        "id": "qfuoO6CItzD4"
      },
      "source": [
        "#분산팽창인자 표\n",
        "variable = c('X1', 'X2', 'X3', 'X4', 'X5')\n",
        "vif.value = c(vif1, vif2 ,vif3, vif4, vif5)\n",
        "vif = data.frame(variable, vif.value)\n",
        "vif"
      ],
      "execution_count": null,
      "outputs": []
    },
    {
      "cell_type": "markdown",
      "metadata": {
        "id": "TKHAROj0S_08"
      },
      "source": [
        "* 최대분산팽창인자 : VIF1 = 9597.57\n",
        "* 따라서 다중공선성 문제가 존재함"
      ]
    },
    {
      "cell_type": "code",
      "metadata": {
        "id": "pkmfJohtcRl9"
      },
      "source": [
        "#독립변수들의 상관계수\n",
        "cor(hospital[, -6])"
      ],
      "execution_count": null,
      "outputs": []
    },
    {
      "cell_type": "markdown",
      "metadata": {
        "id": "V2t2O8pncck0"
      },
      "source": [
        "* 설명변수들 사이에 (특히 X1, X2, X3,X4) 강한 선형종속관계가 있음을 짐작 할 수 있음\n",
        "* 이 중 X1, X3사이의 표본상관계수가 0.9999로 매우 강한 상관관계가 있다.\n",
        "\n"
      ]
    },
    {
      "cell_type": "code",
      "metadata": {
        "id": "OclVh7FQcak_"
      },
      "source": [
        "# 설명변수 X1을 제거한 회귀적합\n",
        "summary(lm(Y~X2+X3+X4+X5, data = hospital))"
      ],
      "execution_count": null,
      "outputs": []
    },
    {
      "cell_type": "markdown",
      "metadata": {
        "id": "R_kSBLyVdUP2"
      },
      "source": [
        "* X1을 제외한 회귀식 : Y = 2032.188 + 0.05608 X2 + 1.0884 X3 - 5.0041 X4 - 410.083 X5\n",
        "* 결정계수 R2 = 0.99080 : 거의 변하지 않음\n",
        "* 또한 각각의 추정된 회귀계수의 표준오차도 모두 줄어즘"
      ]
    },
    {
      "cell_type": "code",
      "metadata": {
        "id": "aVgnCq6-wuv4"
      },
      "source": [
        "#X1을 제외한 분산팽창인자\n",
        "exceptX1.vif2 = VIF(lm(X2 ~ X3+X4+X5, data = hospital))\n",
        "exceptX1.vif3 = VIF(lm(X3 ~ X2+X4+X5, data = hospital))\n",
        "exceptX1.vif4 = VIF(lm(X4 ~ X2+X3+X5, data = hospital))\n",
        "exceptX1.vif5 = VIF(lm(X5 ~ X2+X3+X4, data = hospital))"
      ],
      "execution_count": null,
      "outputs": []
    },
    {
      "cell_type": "code",
      "metadata": {
        "id": "ZVKZLu2gxH9M"
      },
      "source": [
        "#X1을 제외한분산팽창인자 표(X1포함한 VIF함께 비교)\n",
        "exceptX1.vif.value = c('NULL', exceptX1.vif2 ,exceptX1.vif3, exceptX1.vif4, exceptX1.vif5)\n",
        "exceptX1.vif = data.frame(variable, vif.value, exceptX1.vif.value)\n",
        "exceptX1.vif"
      ],
      "execution_count": null,
      "outputs": []
    },
    {
      "cell_type": "markdown",
      "metadata": {
        "id": "IPeSminAxeua"
      },
      "source": [
        "* X1을 포함하는 경우와 비교했을때 모두 작은 값을 가짐"
      ]
    },
    {
      "cell_type": "markdown",
      "metadata": {
        "id": "utf0kWOMdjuQ"
      },
      "source": [
        "## 분산분석표 작성"
      ]
    },
    {
      "cell_type": "code",
      "metadata": {
        "id": "2PqUOqaMdSmm"
      },
      "source": [
        "anova(market.lm)"
      ],
      "execution_count": null,
      "outputs": []
    },
    {
      "cell_type": "markdown",
      "metadata": {
        "id": "ZghciRxkdvp4"
      },
      "source": [
        "* SS(X1) = 485.57 : X1이 적합됬을 때 제곱합\n",
        "* SS(X2|X1) = 22.30 : X1이 적합된 후, 변수 X2가 추가되었을 때의 추가제곱합\n",
        "* 회귀제곱합 SS(X1, X2) = SS(X1)+SS(X2|X1) = 507.87\n"
      ]
    },
    {
      "cell_type": "markdown",
      "metadata": {
        "id": "aUyXt4gJlwR3"
      },
      "source": [
        "# 표준화된 중회귀모형 적합\n",
        "* lm.beta 패키지 이용"
      ]
    },
    {
      "cell_type": "code",
      "metadata": {
        "id": "uUY3l8RSdnCg"
      },
      "source": [
        "install.packages(\"lm.beta\")\n",
        "library(lm.beta)"
      ],
      "execution_count": null,
      "outputs": []
    },
    {
      "cell_type": "code",
      "metadata": {
        "id": "cZMmxFncl7XX"
      },
      "source": [
        "market.beta = lm.beta(market.lm)\n",
        "print(market.beta)"
      ],
      "execution_count": null,
      "outputs": []
    },
    {
      "cell_type": "code",
      "metadata": {
        "id": "RD7vMFfkmLf0"
      },
      "source": [
        "coef(market.beta)"
      ],
      "execution_count": null,
      "outputs": []
    },
    {
      "cell_type": "code",
      "metadata": {
        "id": "8HqsE-5lmRk3"
      },
      "source": [
        "summary(market.beta)"
      ],
      "execution_count": null,
      "outputs": []
    },
    {
      "cell_type": "markdown",
      "metadata": {
        "id": "WCFVnRE9nAt4"
      },
      "source": [
        "* 적합된 표준회귀계수 모형 : Y* = 0.7016Z1 + 0.3376Z2\n",
        "* 이때 X1의 계수가 X2의 계수보다 크므로 상대적으로 X1의 영향이 더 큼을 알 수 있음음"
      ]
    },
    {
      "cell_type": "markdown",
      "metadata": {
        "id": "YROne8k2yWXT"
      },
      "source": [
        "###"
      ]
    }
  ]
}