{
  "nbformat": 4,
  "nbformat_minor": 0,
  "metadata": {
    "colab": {
      "name": "R_회귀모형_2강_중회귀모형",
      "private_outputs": true,
      "provenance": [],
      "collapsed_sections": [],
      "authorship_tag": "ABX9TyNs7GPMPnamTa5lJwm7pfGS",
      "include_colab_link": true
    },
    "kernelspec": {
      "name": "ir",
      "display_name": "R"
    }
  },
  "cells": [
    {
      "cell_type": "markdown",
      "metadata": {
        "id": "view-in-github",
        "colab_type": "text"
      },
      "source": [
        "<a href=\"https://colab.research.google.com/github/seunghee0518/R_File/blob/main/R_%ED%9A%8C%EA%B7%80%EB%AA%A8%ED%98%95_2%EA%B0%95_%EC%A4%91%ED%9A%8C%EA%B7%80%EB%AA%A8%ED%98%95.ipynb\" target=\"_parent\"><img src=\"https://colab.research.google.com/assets/colab-badge.svg\" alt=\"Open In Colab\"/></a>"
      ]
    },
    {
      "cell_type": "markdown",
      "metadata": {
        "id": "k8oWgXbuZVNh"
      },
      "source": [
        "#<표 2.1> 표본상점의 총판매액 자료\n",
        "*중회귀모형식(Yi = b0+b1X1+b2X2+ei) 구해보기\n",
        "* ID : 상점번호\n",
        "* X1 : 광고료(단위: 100만원)\n",
        "* X2 : 상점의 크기 (단위 : 10m2)\n",
        "* Y : 총판매액(단위 : 1,000만원)"
      ]
    },
    {
      "cell_type": "code",
      "metadata": {
        "id": "CwRV6f-LmRW8"
      },
      "source": [
        "#데이터 불러오기\n",
        "market.url = 'https://raw.githubusercontent.com/seunghee0518/R_File/main/%ED%9A%8C%EA%B7%80%EB%AA%A8%ED%98%95/market-2.txt'\n",
        "market = read.table(market.url, header=T)\n",
        "head(market, 3)\n",
        "attach(market)"
      ],
      "execution_count": null,
      "outputs": []
    },
    {
      "cell_type": "markdown",
      "metadata": {
        "id": "GI9ra1UJQoqc"
      },
      "source": [
        "1. t(X)함수로 행렬X의 행과열을 바꾼 전치행렬 만들기\n",
        "* %*%로 행렬의 곱실행\n",
        "2. solve(XTX)로 정방행렬XTX의 역행렬 구하기\n"
      ]
    },
    {
      "cell_type": "code",
      "metadata": {
        "id": "2BLR1C7jb_L1"
      },
      "source": [
        "#1. t(X)함수로 행렬X의 행과열을 바꾼 전치행렬 만들기\n",
        "X = market[, c(2,3)]\n",
        "X = cbind(1, X)\n",
        "Y = market[, 4]\n",
        "\n",
        "X = as.matrix(X)\n",
        "Y = as.matrix(Y)\n",
        "\n",
        "XTX = t(X) %*% X\n",
        "XTX"
      ],
      "execution_count": null,
      "outputs": []
    },
    {
      "cell_type": "code",
      "metadata": {
        "id": "NXC09pV06VHH"
      },
      "source": [
        "XTY = t(X) %*% Y\n",
        "XTY"
      ],
      "execution_count": null,
      "outputs": []
    },
    {
      "cell_type": "code",
      "metadata": {
        "id": "ofuy8hEC6kHf"
      },
      "source": [
        "#2. solve(XTX)로 정방행렬XTX의 역행렬 구하기\n",
        "XTX1 = solve(XTX)\n",
        "XTX1"
      ],
      "execution_count": null,
      "outputs": []
    },
    {
      "cell_type": "code",
      "metadata": {
        "id": "2-I_Ib5_SsEn"
      },
      "source": [
        "#추정량^b\n",
        "beta = XTX1 %*% XTY\n",
        "beta = round(beta, 3)\n",
        "beta\n",
        "beta = XTX1 %*% XTY\n",
        "beta = round(beta, 3)\n",
        "beta"
      ],
      "execution_count": null,
      "outputs": []
    },
    {
      "cell_type": "markdown",
      "metadata": {
        "id": "TKHAROj0S_08"
      },
      "source": [
        "적합된 회귀식 = 0.85 + 1.558X1 + 0.427X2\n",
        ">해당식으로 임의의 X1, X2의 총판매액의 기대값 측정가능\n",
        "* 광고료1,000만원, 상점크기 100이면\n",
        "* X1 = 10, X2 = 10\n",
        "* Y = 0.85+(1.558 X 10)+(0.427 X 10) = 20.7\n",
        "* 즉. 약 2억 700만원"
      ]
    }
  ]
}