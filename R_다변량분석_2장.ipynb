{
  "nbformat": 4,
  "nbformat_minor": 0,
  "metadata": {
    "colab": {
      "name": "R_다변량분석_2장.ipynb",
      "private_outputs": true,
      "provenance": [],
      "collapsed_sections": [],
      "authorship_tag": "ABX9TyNwQjiaVONHcXN2nY3nEh8u",
      "include_colab_link": true
    },
    "kernelspec": {
      "name": "ir",
      "display_name": "R"
    }
  },
  "cells": [
    {
      "cell_type": "markdown",
      "metadata": {
        "id": "view-in-github",
        "colab_type": "text"
      },
      "source": [
        "<a href=\"https://colab.research.google.com/github/seunghee0518/R_File/blob/main/R_%EB%8B%A4%EB%B3%80%EB%9F%89%EB%B6%84%EC%84%9D_2%EC%9E%A5.ipynb\" target=\"_parent\"><img src=\"https://colab.research.google.com/assets/colab-badge.svg\" alt=\"Open In Colab\"/></a>"
      ]
    },
    {
      "cell_type": "markdown",
      "metadata": {
        "id": "k8oWgXbuZVNh"
      },
      "source": [
        "**주성분분석 예시1 (상관계수행렬로 분석)**"
      ]
    },
    {
      "cell_type": "code",
      "metadata": {
        "id": "CwRV6f-LmRW8"
      },
      "source": [
        "#데이터 & 라이브러리 가져오기\r\n",
        "install.packages(\"HSAUR\")\r\n",
        "library(HSAUR)\r\n",
        "data(\"heptathlon\")\r\n",
        "head(heptathlon)"
      ],
      "execution_count": null,
      "outputs": []
    },
    {
      "cell_type": "code",
      "metadata": {
        "id": "NXC09pV06VHH"
      },
      "source": [
        "#데이터의 기초통계량 요약\r\n",
        "summary(heptathlon)"
      ],
      "execution_count": null,
      "outputs": []
    },
    {
      "cell_type": "code",
      "metadata": {
        "id": "ofuy8hEC6kHf"
      },
      "source": [
        "#자료변형하기\r\n",
        "heptathlon$hurdles = max(heptathlon$hurdles) - heptathlon$hurdles\r\n",
        "heptathlon$run200m = max(heptathlon$run200m) - heptathlon$run200m\r\n",
        "heptathlon$run800m = max(heptathlon$run800m) - heptathlon$run800m\r\n",
        "heptathlon\r\n"
      ],
      "execution_count": null,
      "outputs": []
    },
    {
      "cell_type": "code",
      "metadata": {
        "id": "M7CwQZti6lJK"
      },
      "source": [
        "#주성분분석 실행\r\n",
        "library(stats)"
      ],
      "execution_count": null,
      "outputs": []
    },
    {
      "cell_type": "code",
      "metadata": {
        "id": "0rtfi08b6m9b"
      },
      "source": [
        "#사용데이터중 8번째 score 제외\r\n",
        "hep.data = heptathlon[, -8]"
      ],
      "execution_count": null,
      "outputs": []
    },
    {
      "cell_type": "code",
      "metadata": {
        "id": "KgA_5t7z6oic"
      },
      "source": [
        "#princomp()함수 이용해 주성분분석 실시\r\n",
        "#cor=T 상관계수행렬, cor=F 공분산행렬, scores=T 주성분의 점수출력\r\n",
        "heptathlon.pca = princomp(hep.data, cor=T, scores=T)"
      ],
      "execution_count": null,
      "outputs": []
    },
    {
      "cell_type": "code",
      "metadata": {
        "id": "FWqsqdJK6r_G"
      },
      "source": [
        "#주성분분석의 개체 이름\r\n",
        "names(heptathlon.pca)"
      ],
      "execution_count": null,
      "outputs": []
    },
    {
      "cell_type": "code",
      "metadata": {
        "id": "w_xK_n2X6ugK"
      },
      "source": [
        "#주성분분석 결과\r\n",
        "summary(heptathlon.pca)"
      ],
      "execution_count": null,
      "outputs": []
    },
    {
      "cell_type": "code",
      "metadata": {
        "id": "yQGdZcF46wXL"
      },
      "source": [
        "#주성분분석의 분산 = 주성분의 크기 비교\r\n",
        "eig.val = heptathlon.pca$sdev^2\r\n",
        "eig.val"
      ],
      "execution_count": null,
      "outputs": []
    },
    {
      "cell_type": "code",
      "metadata": {
        "id": "nt1Faq_w7AZi"
      },
      "source": [
        "#스크림 그림(pch=산점도 표시 모양)\r\n",
        "screeplot(heptathlon.pca, type=\"line\", pch=19, main=\"Scree Plot\")"
      ],
      "execution_count": null,
      "outputs": []
    },
    {
      "cell_type": "code",
      "metadata": {
        "id": "mtUcPzYz7Aby"
      },
      "source": [
        "#주성분의 계수\r\n",
        "heptathlon.pca$loadings[, 1:2]"
      ],
      "execution_count": null,
      "outputs": []
    },
    {
      "cell_type": "code",
      "metadata": {
        "id": "nSY1qHbD7AeS"
      },
      "source": [
        "#행렬도(biplot)\r\n",
        "biplot(heptathlon.pca, cex=0.7, col=c(\"red\", \"blue\"), main=\"Biplot\")"
      ],
      "execution_count": null,
      "outputs": []
    },
    {
      "cell_type": "markdown",
      "metadata": {
        "id": "WcT1aygJaRNp"
      },
      "source": [
        "**주성분분석 예시2 (공분산으로 실행)"
      ]
    },
    {
      "cell_type": "code",
      "metadata": {
        "id": "FX8W8gvT7Agk"
      },
      "source": [
        "#데이터 가져오기\r\n",
        "beer <- read.csv(\"https://raw.githubusercontent.com/seunghee0518/R_File/main/%EB%8B%A4%EB%B3%80%EB%9E%91%EB%B6%84%EC%84%9D/mvadata/beer.csv\", header=T)\r\n",
        "attach(beer)\r\n",
        "head(beer)"
      ],
      "execution_count": null,
      "outputs": []
    },
    {
      "cell_type": "code",
      "metadata": {
        "id": "qM2-a_Bca7Om"
      },
      "source": [
        "#데이터의 기초통계량 요약\r\n",
        "summary(beer)"
      ],
      "execution_count": null,
      "outputs": []
    },
    {
      "cell_type": "code",
      "metadata": {
        "id": "4yXM_I9ia7wR"
      },
      "source": [
        "#상관계수행렬\r\n",
        "round(cor(beer), 2)"
      ],
      "execution_count": null,
      "outputs": []
    },
    {
      "cell_type": "code",
      "metadata": {
        "id": "H-uYxdE5a9Mg"
      },
      "source": [
        "#산점도행렬\r\n",
        "plot(beer, pch=19)"
      ],
      "execution_count": null,
      "outputs": []
    },
    {
      "cell_type": "code",
      "metadata": {
        "id": "5sSxFGj1a-br"
      },
      "source": [
        "#주성분분석 실행-공분산으로 실행(표준편차, 변수수=7, 개체수=99)\r\n",
        "library(stats)\r\n",
        "beer.pca = princomp(beer, cor=F, scores=T)\r\n",
        "beer.pca"
      ],
      "execution_count": null,
      "outputs": []
    },
    {
      "cell_type": "code",
      "metadata": {
        "id": "snxlWfu2a_m-"
      },
      "source": [
        "#주성분분석 결과\r\n",
        "summary(beer.pca)"
      ],
      "execution_count": null,
      "outputs": []
    },
    {
      "cell_type": "code",
      "metadata": {
        "id": "c3nnWlIsbBAR"
      },
      "source": [
        "#결과\r\n",
        "summary(beer.pca)"
      ],
      "execution_count": null,
      "outputs": []
    },
    {
      "cell_type": "code",
      "metadata": {
        "id": "d7eGEQ9PbCKf"
      },
      "source": [
        "#스크림 그림(pch=산점도 표시 모양)\r\n",
        "screeplot(beer.pca, type=\"line\", pch=19, main=\"beer.pca Scree Plot\")"
      ],
      "execution_count": null,
      "outputs": []
    },
    {
      "cell_type": "code",
      "metadata": {
        "id": "vlwRJjnEbD_q"
      },
      "source": [
        "#주성분의 계수\r\n",
        "beer.pca$loadings[, 1:3]"
      ],
      "execution_count": null,
      "outputs": []
    },
    {
      "cell_type": "code",
      "metadata": {
        "id": "Ou8_VE3ZbF0f"
      },
      "source": [
        "#행렬도(biplot)\r\n",
        "biplot(beer.pca, cex=0.7, col=c(\"red\", \"blue\"), main=\"Biplot\")"
      ],
      "execution_count": null,
      "outputs": []
    },
    {
      "cell_type": "code",
      "metadata": {
        "id": "hR62EZcIbG21"
      },
      "source": [
        ""
      ],
      "execution_count": null,
      "outputs": []
    }
  ]
}