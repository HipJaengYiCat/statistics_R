{
  "nbformat": 4,
  "nbformat_minor": 0,
  "metadata": {
    "colab": {
      "name": "R_예측방법론(2장 실습&연습문제).ipynb",
      "private_outputs": true,
      "provenance": [],
      "collapsed_sections": [],
      "authorship_tag": "ABX9TyNCA0OwflT+z0GbQXi/3My7",
      "include_colab_link": true
    },
    "kernelspec": {
      "name": "ir",
      "display_name": "R"
    }
  },
  "cells": [
    {
      "cell_type": "markdown",
      "metadata": {
        "id": "view-in-github",
        "colab_type": "text"
      },
      "source": [
        "<a href=\"https://colab.research.google.com/github/seunghee0518/R_File/blob/main/R_%EC%98%88%EC%B8%A1%EB%B0%A9%EB%B2%95%EB%A1%A0(2%EC%9E%A5_%EC%8B%A4%EC%8A%B5%26%EC%97%B0%EC%8A%B5%EB%AC%B8%EC%A0%9C).ipynb\" target=\"_parent\"><img src=\"https://colab.research.google.com/assets/colab-badge.svg\" alt=\"Open In Colab\"/></a>"
      ]
    },
    {
      "cell_type": "code",
      "metadata": {
        "id": "CwRV6f-LmRW8"
      },
      "source": [
        "#파일 가져오기\r\n",
        "data <- read.csv('/경제활동별 GDP(계절조정, 실질, 분기)_제조업.csv', header= T)\r\n"
      ],
      "execution_count": null,
      "outputs": []
    },
    {
      "cell_type": "code",
      "metadata": {
        "id": "NXC09pV06VHH"
      },
      "source": [
        "install.packages(c('forecast', 'mFilter'))\r\n"
      ],
      "execution_count": null,
      "outputs": []
    },
    {
      "cell_type": "code",
      "metadata": {
        "id": "ofuy8hEC6kHf"
      },
      "source": [
        "library(forecast)\r\n",
        "library(mFilter)"
      ],
      "execution_count": null,
      "outputs": []
    },
    {
      "cell_type": "code",
      "metadata": {
        "id": "M7CwQZti6lJK"
      },
      "source": [
        "# GITHUB의 data 폴더의 csv를 지정하여 읽어옴\r\n",
        "\r\n",
        "#  제조업 GDP, 서비스업 GDP, GDP  원계열\r\n",
        "url_o = \"https://raw.githubusercontent.com/data-better/forecasting_class/main/data/gdp_21.csv\"\r\n",
        "gdp_ts = url_o %>% read.csv() %>% ts(start=1970, frequency=4)\r\n",
        "gdp_ts %>% head()"
      ],
      "execution_count": null,
      "outputs": []
    },
    {
      "cell_type": "code",
      "metadata": {
        "id": "0rtfi08b6m9b"
      },
      "source": [
        "\r\n",
        "#  제조업 GDP, 서비스업 GDP, GDP  계절조정계열\r\n",
        "url_sa = \"https://raw.githubusercontent.com/data-better/forecasting_class/main/data/gdp_sa_21.csv\"\r\n",
        "gdp_sa_ts = url_sa %>% read.csv() %>% ts(start=1970, frequency=4)\r\n",
        "gdp_sa_ts %>% head()"
      ],
      "execution_count": null,
      "outputs": []
    },
    {
      "cell_type": "code",
      "metadata": {
        "id": "KgA_5t7z6oic"
      },
      "source": [
        "# 그래프 크기 조정 옵션 등\r\n",
        "options(warn=-1,repr.plot.width = 10, repr.plot.height = 6)"
      ],
      "execution_count": null,
      "outputs": []
    },
    {
      "cell_type": "code",
      "metadata": {
        "id": "FWqsqdJK6r_G"
      },
      "source": [
        "# 변수 선택\r\n",
        "gdp = gdp_ts[,3]/1000\r\n",
        "gdp_sa = gdp_sa_ts[,3]/1000"
      ],
      "execution_count": null,
      "outputs": []
    },
    {
      "cell_type": "code",
      "metadata": {
        "id": "w_xK_n2X6ugK"
      },
      "source": [
        "plot(gdp, xlab=\"\", ylab=\"GDP\" )\r\n",
        " lines(gdp_sa, col=2, lwd=2 )"
      ],
      "execution_count": null,
      "outputs": []
    },
    {
      "cell_type": "code",
      "metadata": {
        "id": "yQGdZcF46wXL"
      },
      "source": [
        "gdp %>% plot(xlab=\"\", ylab=\"GDP\" )\r\n",
        "  gdp_sa %>% lines(col=2, lwd=2 )"
      ],
      "execution_count": null,
      "outputs": []
    },
    {
      "cell_type": "markdown",
      "metadata": {
        "id": "IHML6-VZ7ECC"
      },
      "source": [
        "3. 시계열의 탐색\r\n",
        "시계열도표로 패턴 파악\r\n",
        "스펙트럴 분석\r\n",
        "표본자기상관계수, 표본 부분자기상관계수"
      ]
    },
    {
      "cell_type": "markdown",
      "metadata": {
        "id": "NZR3eou77YYg"
      },
      "source": [
        ""
      ]
    },
    {
      "cell_type": "markdown",
      "metadata": {
        "id": "3WIctjTT7GcF"
      },
      "source": [
        "(1) 시계열도표¶"
      ]
    },
    {
      "cell_type": "code",
      "metadata": {
        "id": "nt1Faq_w7AZi"
      },
      "source": [
        "\r\n",
        "cbind(gdp, gdp_sa) %>% autoplot()"
      ],
      "execution_count": null,
      "outputs": []
    },
    {
      "cell_type": "markdown",
      "metadata": {
        "id": "MR4m3EoG7OMD"
      },
      "source": [
        ""
      ]
    },
    {
      "cell_type": "code",
      "metadata": {
        "id": "mtUcPzYz7Aby"
      },
      "source": [
        "gdp_sa_gr = ts(c(NA, (gdp_sa-lag(gdp_sa,-1))/lag(gdp_sa,-1)*100),  start=1970, frequency=4)\r\n",
        "gdp_sa_p  = diff(log(gdp_sa))*100\r\n",
        "plot(cbind(gdp_sa_gr, gdp_sa_p), main=\"\")\r\n",
        "gdp_sa_gr - gdp_sa_p %>% tail(12)"
      ],
      "execution_count": null,
      "outputs": []
    },
    {
      "cell_type": "code",
      "metadata": {
        "id": "nSY1qHbD7AeS"
      },
      "source": [
        ""
      ],
      "execution_count": null,
      "outputs": []
    },
    {
      "cell_type": "code",
      "metadata": {
        "id": "FX8W8gvT7Agk"
      },
      "source": [
        ""
      ],
      "execution_count": null,
      "outputs": []
    }
  ]
}