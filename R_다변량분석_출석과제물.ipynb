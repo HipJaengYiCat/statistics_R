{
  "nbformat": 4,
  "nbformat_minor": 0,
  "metadata": {
    "colab": {
      "name": "R_다변량분석_출석과제물.ipynb",
      "private_outputs": true,
      "provenance": [],
      "collapsed_sections": [],
      "authorship_tag": "ABX9TyNMEhSSY0VrVZFBvsEEmKCy",
      "include_colab_link": true
    },
    "kernelspec": {
      "name": "ir",
      "display_name": "R"
    }
  },
  "cells": [
    {
      "cell_type": "markdown",
      "metadata": {
        "id": "view-in-github",
        "colab_type": "text"
      },
      "source": [
        "<a href=\"https://colab.research.google.com/github/seunghee0518/R_File/blob/main/R_%EB%8B%A4%EB%B3%80%EB%9F%89%EB%B6%84%EC%84%9D_%EC%B6%9C%EC%84%9D%EA%B3%BC%EC%A0%9C%EB%AC%BC.ipynb\" target=\"_parent\"><img src=\"https://colab.research.google.com/assets/colab-badge.svg\" alt=\"Open In Colab\"/></a>"
      ]
    },
    {
      "cell_type": "markdown",
      "metadata": {
        "id": "Pq_8o5RtfQA2"
      },
      "source": [
        "**1번문제**"
      ]
    },
    {
      "cell_type": "code",
      "metadata": {
        "id": "CwRV6f-LmRW8"
      },
      "source": [
        "#1.3.1 난수생성\r\n",
        "data = rt(100,5)\r\n",
        "data"
      ],
      "execution_count": null,
      "outputs": []
    },
    {
      "cell_type": "code",
      "metadata": {
        "id": "2BLR1C7jb_L1"
      },
      "source": [
        "#1.3.2 히스토그램 그리기\r\n",
        "hist(data)"
      ],
      "execution_count": null,
      "outputs": []
    },
    {
      "cell_type": "code",
      "metadata": {
        "id": "NXC09pV06VHH"
      },
      "source": [
        "#1.3.3 상자그림\r\n",
        "boxplot(data)"
      ],
      "execution_count": null,
      "outputs": []
    },
    {
      "cell_type": "code",
      "metadata": {
        "id": "ofuy8hEC6kHf"
      },
      "source": [
        "#1.3.4 줄기-잎그림\r\n",
        "stem(data)"
      ],
      "execution_count": null,
      "outputs": []
    },
    {
      "cell_type": "markdown",
      "metadata": {
        "id": "Hj-yDDr9fV0m"
      },
      "source": [
        "**2번 문제**"
      ]
    },
    {
      "cell_type": "code",
      "metadata": {
        "id": "M7CwQZti6lJK"
      },
      "source": [
        "#1.4 longley 데이터, 산점도행렬, 별그림, 얼굴그림\r\n",
        "# 산점도행렬 \r\n",
        "pairs(longley)"
      ],
      "execution_count": null,
      "outputs": []
    },
    {
      "cell_type": "code",
      "metadata": {
        "id": "0rtfi08b6m9b"
      },
      "source": [
        "#별그림\r\n",
        "stars(longley)"
      ],
      "execution_count": null,
      "outputs": []
    },
    {
      "cell_type": "code",
      "metadata": {
        "id": "KgA_5t7z6oic"
      },
      "source": [
        "#얼굴그림\r\n",
        "install.packages(\"aplpack\")\r\n",
        "library(aplpack)\r\n",
        "faces(longley, face.type=1)"
      ],
      "execution_count": null,
      "outputs": []
    },
    {
      "cell_type": "markdown",
      "metadata": {
        "id": "IKpBI1FkfPEi"
      },
      "source": [
        "**3번 문제**"
      ]
    },
    {
      "cell_type": "code",
      "metadata": {
        "id": "FWqsqdJK6r_G"
      },
      "source": [
        "#2.4\r\n",
        "crime =read.table(\"https://raw.githubusercontent.com/seunghee0518/R_File/main/%EB%8B%A4%EB%B3%80%EB%9E%91%EB%B6%84%EC%84%9D/%EC%97%B0%EC%8A%B5%EB%AC%B8%EC%A0%9C%EC%9E%90%EB%A3%8C(2-4%EC%9E%A5)/ex2-4.txt\", header=F)\r\n",
        "head(crime)"
      ],
      "execution_count": null,
      "outputs": []
    },
    {
      "cell_type": "code",
      "metadata": {
        "id": "w_xK_n2X6ugK"
      },
      "source": [
        "#자료 가공하기\r\n",
        "name <- crime$V1\r\n",
        "Murder <- crime$V2\r\n",
        "Assault <- crime$V3\r\n",
        "UrbanPop <- crime$V4\r\n",
        "Rape <- crime$V5\r\n",
        "crime <- data.frame(Murder, Assault, UrbanPop, Rape, row.names = name)\r\n",
        "head(crime)\r\n"
      ],
      "execution_count": null,
      "outputs": []
    },
    {
      "cell_type": "code",
      "metadata": {
        "id": "DjynHWKufoNY"
      },
      "source": [
        "#데이터 기초 통계량 요약\r\n",
        "summary(crime)"
      ],
      "execution_count": null,
      "outputs": []
    },
    {
      "cell_type": "code",
      "metadata": {
        "id": "j7VLNH9BfpAK"
      },
      "source": [
        "#주성분분석 실행\r\n",
        "library(stats)"
      ],
      "execution_count": null,
      "outputs": []
    },
    {
      "cell_type": "code",
      "metadata": {
        "id": "M3GWaV6Ffw-I"
      },
      "source": [
        "#데이터 가공\r\n",
        "crime.data = crime[, -4]\r\n",
        "head(crime.data)"
      ],
      "execution_count": null,
      "outputs": []
    },
    {
      "cell_type": "code",
      "metadata": {
        "id": "eatLvX3sfzSa"
      },
      "source": [
        "#princomp()함수 이용해 주성분분석 실시\r\n",
        "crime.pca = princomp(crime.data, cor=F, scores=T)\r\n",
        "crime.pca"
      ],
      "execution_count": null,
      "outputs": []
    },
    {
      "cell_type": "code",
      "metadata": {
        "id": "7FYVli8yf0zf"
      },
      "source": [
        "#주성분분석 결과\r\n",
        "summary(crime.pca)"
      ],
      "execution_count": null,
      "outputs": []
    },
    {
      "cell_type": "code",
      "metadata": {
        "id": "rW_kmTL6f1_Q"
      },
      "source": [
        "#주성분의 고유값\r\n",
        "eig.val = crime.pca$sdev^2\r\n",
        "eig.val"
      ],
      "execution_count": null,
      "outputs": []
    },
    {
      "cell_type": "code",
      "metadata": {
        "id": "j8Am5imxf3nn"
      },
      "source": [
        "#스크림 그림(pch=산점도 표시 모양)\r\n",
        "screeplot(crime.pca, type=\"line\", pch=19, main=\"Crime Scree Plot\")"
      ],
      "execution_count": null,
      "outputs": []
    },
    {
      "cell_type": "code",
      "metadata": {
        "id": "x5mGYyCqf5EH"
      },
      "source": [
        "#주성분의 계수\r\n",
        "crime.pca$loadings[, 1:2]"
      ],
      "execution_count": null,
      "outputs": []
    },
    {
      "cell_type": "code",
      "metadata": {
        "id": "suhE0mfCf6eg"
      },
      "source": [
        "#행렬도(biplot)\r\n",
        "biplot(crime.pca, cex=0.7, col=c(\"red\", \"blue\"), main=\"Crime Biplot\")"
      ],
      "execution_count": null,
      "outputs": []
    }
  ]
}