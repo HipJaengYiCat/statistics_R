{
  "nbformat": 4,
  "nbformat_minor": 0,
  "metadata": {
    "colab": {
      "name": "R_다변량분석_7장_판별분석",
      "provenance": [],
      "collapsed_sections": [],
      "authorship_tag": "ABX9TyMtRqnrYN6k9x00ahxUL4GE",
      "include_colab_link": true
    },
    "kernelspec": {
      "name": "ir",
      "display_name": "R"
    }
  },
  "cells": [
    {
      "cell_type": "markdown",
      "metadata": {
        "id": "view-in-github",
        "colab_type": "text"
      },
      "source": [
        "<a href=\"https://colab.research.google.com/github/seunghee0518/R_File/blob/main/R_%EB%8B%A4%EB%B3%80%EB%9F%89%EB%B6%84%EC%84%9D_7%EC%9E%A5_%ED%8C%90%EB%B3%84%EB%B6%84%EC%84%9D.ipynb\" target=\"_parent\"><img src=\"https://colab.research.google.com/assets/colab-badge.svg\" alt=\"Open In Colab\"/></a>"
      ]
    },
    {
      "cell_type": "markdown",
      "metadata": {
        "id": "j9H85wUjfaU6"
      },
      "source": [
        "# 사후확률을 이용한 판별분석\n",
        "* 판별점수 D = d로 주어졌을 때, 그룹 g 속할 확률 P(G = g | D = d)을 의미하는 것으로 이 값이 큰 그룹에 배정하는 방법"
      ]
    },
    {
      "cell_type": "code",
      "metadata": {
        "id": "CwRV6f-LmRW8"
      },
      "source": [
        "data7_url = 'https://raw.githubusercontent.com/seunghee0518/R_File/main/%EB%8B%A4%EB%B3%80%EB%9E%91%EB%B6%84%EC%84%9D/mvadata/data7-1.txt'\n",
        "data7 = read.table(data7_url, header=T)"
      ],
      "execution_count": 1,
      "outputs": []
    },
    {
      "cell_type": "code",
      "metadata": {
        "id": "2BLR1C7jb_L1",
        "colab": {
          "base_uri": "https://localhost:8080/",
          "height": 283
        },
        "outputId": "8f9a7072-9428-433d-fe04-e93747f1f47a"
      },
      "source": [
        "head(data7)"
      ],
      "execution_count": 2,
      "outputs": [
        {
          "output_type": "display_data",
          "data": {
            "text/plain": [
              "  group x1  x2 x3\n",
              "1 g1     98 81 38\n",
              "2 g1    103 84 38\n",
              "3 g1    103 86 42\n",
              "4 g1    105 86 42\n",
              "5 g1    109 88 44\n",
              "6 g1    123 92 50"
            ],
            "text/latex": "A data.frame: 6 × 4\n\\begin{tabular}{r|llll}\n  & group & x1 & x2 & x3\\\\\n  & <chr> & <int> & <int> & <int>\\\\\n\\hline\n\t1 & g1 &  98 & 81 & 38\\\\\n\t2 & g1 & 103 & 84 & 38\\\\\n\t3 & g1 & 103 & 86 & 42\\\\\n\t4 & g1 & 105 & 86 & 42\\\\\n\t5 & g1 & 109 & 88 & 44\\\\\n\t6 & g1 & 123 & 92 & 50\\\\\n\\end{tabular}\n",
            "text/markdown": "\nA data.frame: 6 × 4\n\n| <!--/--> | group &lt;chr&gt; | x1 &lt;int&gt; | x2 &lt;int&gt; | x3 &lt;int&gt; |\n|---|---|---|---|---|\n| 1 | g1 |  98 | 81 | 38 |\n| 2 | g1 | 103 | 84 | 38 |\n| 3 | g1 | 103 | 86 | 42 |\n| 4 | g1 | 105 | 86 | 42 |\n| 5 | g1 | 109 | 88 | 44 |\n| 6 | g1 | 123 | 92 | 50 |\n\n",
            "text/html": [
              "<table class=\"dataframe\">\n",
              "<caption>A data.frame: 6 × 4</caption>\n",
              "<thead>\n",
              "\t<tr><th></th><th scope=col>group</th><th scope=col>x1</th><th scope=col>x2</th><th scope=col>x3</th></tr>\n",
              "\t<tr><th></th><th scope=col>&lt;chr&gt;</th><th scope=col>&lt;int&gt;</th><th scope=col>&lt;int&gt;</th><th scope=col>&lt;int&gt;</th></tr>\n",
              "</thead>\n",
              "<tbody>\n",
              "\t<tr><th scope=row>1</th><td>g1</td><td> 98</td><td>81</td><td>38</td></tr>\n",
              "\t<tr><th scope=row>2</th><td>g1</td><td>103</td><td>84</td><td>38</td></tr>\n",
              "\t<tr><th scope=row>3</th><td>g1</td><td>103</td><td>86</td><td>42</td></tr>\n",
              "\t<tr><th scope=row>4</th><td>g1</td><td>105</td><td>86</td><td>42</td></tr>\n",
              "\t<tr><th scope=row>5</th><td>g1</td><td>109</td><td>88</td><td>44</td></tr>\n",
              "\t<tr><th scope=row>6</th><td>g1</td><td>123</td><td>92</td><td>50</td></tr>\n",
              "</tbody>\n",
              "</table>\n"
            ]
          },
          "metadata": {
            "tags": []
          }
        }
      ]
    },
    {
      "cell_type": "code",
      "metadata": {
        "id": "DMZfarnVZ6dD"
      },
      "source": [
        "#패키지 가져오기\n",
        "library(MASS)"
      ],
      "execution_count": 3,
      "outputs": []
    },
    {
      "cell_type": "code",
      "metadata": {
        "id": "NXC09pV06VHH",
        "colab": {
          "base_uri": "https://localhost:8080/",
          "height": 51
        },
        "outputId": "6eb0bb94-4e40-4c72-9d9b-0be3fc288041"
      },
      "source": [
        "data7.lda = lda(group ~ ., data = data7)\n",
        "pred.lda = predict(data7.lda, newdata = data7)\n",
        "pred.lda$class"
      ],
      "execution_count": 4,
      "outputs": [
        {
          "output_type": "display_data",
          "data": {
            "text/plain": [
              " [1] g2 g2 g1 g1 g1 g1 g1 g2 g2 g2 g1 g2 g2\n",
              "Levels: g1 g2"
            ],
            "text/latex": "\\begin{enumerate*}\n\\item g2\n\\item g2\n\\item g1\n\\item g1\n\\item g1\n\\item g1\n\\item g1\n\\item g2\n\\item g2\n\\item g2\n\\item g1\n\\item g2\n\\item g2\n\\end{enumerate*}\n\n\\emph{Levels}: \\begin{enumerate*}\n\\item 'g1'\n\\item 'g2'\n\\end{enumerate*}\n",
            "text/markdown": "1. g2\n2. g2\n3. g1\n4. g1\n5. g1\n6. g1\n7. g1\n8. g2\n9. g2\n10. g2\n11. g1\n12. g2\n13. g2\n\n\n\n**Levels**: 1. 'g1'\n2. 'g2'\n\n\n",
            "text/html": [
              "<style>\n",
              ".list-inline {list-style: none; margin:0; padding: 0}\n",
              ".list-inline>li {display: inline-block}\n",
              ".list-inline>li:not(:last-child)::after {content: \"\\00b7\"; padding: 0 .5ex}\n",
              "</style>\n",
              "<ol class=list-inline><li>g2</li><li>g2</li><li>g1</li><li>g1</li><li>g1</li><li>g1</li><li>g1</li><li>g2</li><li>g2</li><li>g2</li><li>g1</li><li>g2</li><li>g2</li></ol>\n",
              "\n",
              "<details>\n",
              "\t<summary style=display:list-item;cursor:pointer>\n",
              "\t\t<strong>Levels</strong>:\n",
              "\t</summary>\n",
              "\t<style>\n",
              "\t.list-inline {list-style: none; margin:0; padding: 0}\n",
              "\t.list-inline>li {display: inline-block}\n",
              "\t.list-inline>li:not(:last-child)::after {content: \"\\00b7\"; padding: 0 .5ex}\n",
              "\t</style>\n",
              "\t<ol class=list-inline><li>'g1'</li><li>'g2'</li></ol>\n",
              "</details>"
            ]
          },
          "metadata": {
            "tags": []
          }
        }
      ]
    },
    {
      "cell_type": "code",
      "metadata": {
        "id": "ofuy8hEC6kHf",
        "colab": {
          "base_uri": "https://localhost:8080/",
          "height": 469
        },
        "outputId": "ffca4c45-0bc9-41ae-bab0-fadef5cde41e"
      },
      "source": [
        "pred.lda$posterior"
      ],
      "execution_count": 5,
      "outputs": [
        {
          "output_type": "display_data",
          "data": {
            "text/plain": [
              "   g1         g2        \n",
              "1  0.35014011 0.64985989\n",
              "2  0.15881893 0.84118107\n",
              "3  0.97194803 0.02805197\n",
              "4  0.92101209 0.07898791\n",
              "5  0.96899785 0.03100215\n",
              "6  0.98515585 0.01484415\n",
              "7  0.97539841 0.02460159\n",
              "8  0.05593911 0.94406089\n",
              "9  0.03967580 0.96032420\n",
              "10 0.04071603 0.95928397\n",
              "11 0.60970846 0.39029154\n",
              "12 0.36250801 0.63749199\n",
              "13 0.14861250 0.85138750"
            ],
            "text/latex": "A matrix: 13 × 2 of type dbl\n\\begin{tabular}{r|ll}\n  & g1 & g2\\\\\n\\hline\n\t1 & 0.35014011 & 0.64985989\\\\\n\t2 & 0.15881893 & 0.84118107\\\\\n\t3 & 0.97194803 & 0.02805197\\\\\n\t4 & 0.92101209 & 0.07898791\\\\\n\t5 & 0.96899785 & 0.03100215\\\\\n\t6 & 0.98515585 & 0.01484415\\\\\n\t7 & 0.97539841 & 0.02460159\\\\\n\t8 & 0.05593911 & 0.94406089\\\\\n\t9 & 0.03967580 & 0.96032420\\\\\n\t10 & 0.04071603 & 0.95928397\\\\\n\t11 & 0.60970846 & 0.39029154\\\\\n\t12 & 0.36250801 & 0.63749199\\\\\n\t13 & 0.14861250 & 0.85138750\\\\\n\\end{tabular}\n",
            "text/markdown": "\nA matrix: 13 × 2 of type dbl\n\n| <!--/--> | g1 | g2 |\n|---|---|---|\n| 1 | 0.35014011 | 0.64985989 |\n| 2 | 0.15881893 | 0.84118107 |\n| 3 | 0.97194803 | 0.02805197 |\n| 4 | 0.92101209 | 0.07898791 |\n| 5 | 0.96899785 | 0.03100215 |\n| 6 | 0.98515585 | 0.01484415 |\n| 7 | 0.97539841 | 0.02460159 |\n| 8 | 0.05593911 | 0.94406089 |\n| 9 | 0.03967580 | 0.96032420 |\n| 10 | 0.04071603 | 0.95928397 |\n| 11 | 0.60970846 | 0.39029154 |\n| 12 | 0.36250801 | 0.63749199 |\n| 13 | 0.14861250 | 0.85138750 |\n\n",
            "text/html": [
              "<table class=\"dataframe\">\n",
              "<caption>A matrix: 13 × 2 of type dbl</caption>\n",
              "<thead>\n",
              "\t<tr><th></th><th scope=col>g1</th><th scope=col>g2</th></tr>\n",
              "</thead>\n",
              "<tbody>\n",
              "\t<tr><th scope=row>1</th><td>0.35014011</td><td>0.64985989</td></tr>\n",
              "\t<tr><th scope=row>2</th><td>0.15881893</td><td>0.84118107</td></tr>\n",
              "\t<tr><th scope=row>3</th><td>0.97194803</td><td>0.02805197</td></tr>\n",
              "\t<tr><th scope=row>4</th><td>0.92101209</td><td>0.07898791</td></tr>\n",
              "\t<tr><th scope=row>5</th><td>0.96899785</td><td>0.03100215</td></tr>\n",
              "\t<tr><th scope=row>6</th><td>0.98515585</td><td>0.01484415</td></tr>\n",
              "\t<tr><th scope=row>7</th><td>0.97539841</td><td>0.02460159</td></tr>\n",
              "\t<tr><th scope=row>8</th><td>0.05593911</td><td>0.94406089</td></tr>\n",
              "\t<tr><th scope=row>9</th><td>0.03967580</td><td>0.96032420</td></tr>\n",
              "\t<tr><th scope=row>10</th><td>0.04071603</td><td>0.95928397</td></tr>\n",
              "\t<tr><th scope=row>11</th><td>0.60970846</td><td>0.39029154</td></tr>\n",
              "\t<tr><th scope=row>12</th><td>0.36250801</td><td>0.63749199</td></tr>\n",
              "\t<tr><th scope=row>13</th><td>0.14861250</td><td>0.85138750</td></tr>\n",
              "</tbody>\n",
              "</table>\n"
            ]
          },
          "metadata": {
            "tags": []
          }
        }
      ]
    },
    {
      "cell_type": "markdown",
      "metadata": {
        "id": "ZRK2IFsHaSGC"
      },
      "source": [
        "#판별모형 평가(람다 통계량 이용)"
      ]
    },
    {
      "cell_type": "code",
      "metadata": {
        "colab": {
          "base_uri": "https://localhost:8080/",
          "height": 89
        },
        "id": "_JnhqzCCaQoC",
        "outputId": "f4191eeb-2bc5-4504-fe33-92090eb8b75a"
      },
      "source": [
        "confm.lda = table(data7$group, pred.lda$class)\n",
        "confm.lda"
      ],
      "execution_count": 6,
      "outputs": [
        {
          "output_type": "display_data",
          "data": {
            "text/plain": [
              "    \n",
              "     g1 g2\n",
              "  g1  5  2\n",
              "  g2  1  5"
            ]
          },
          "metadata": {
            "tags": []
          }
        }
      ]
    },
    {
      "cell_type": "markdown",
      "metadata": {
        "id": "eV1rCyZbajNr"
      },
      "source": [
        "# 판별분석 예제\n"
      ]
    },
    {
      "cell_type": "code",
      "metadata": {
        "colab": {
          "base_uri": "https://localhost:8080/",
          "height": 283
        },
        "id": "9JO1uQaxacxg",
        "outputId": "852c83d6-52af-4cc8-aaaa-c666fd6349bd"
      },
      "source": [
        "#알콜자료\n",
        "alcohol_url = 'https://raw.githubusercontent.com/seunghee0518/R_File/main/%EB%8B%A4%EB%B3%80%EB%9E%91%EB%B6%84%EC%84%9D/mvadata/alcohol.csv'\n",
        "alcohol = read.csv(alcohol_url, header = T)\n",
        "head(alcohol)"
      ],
      "execution_count": 7,
      "outputs": [
        {
          "output_type": "display_data",
          "data": {
            "text/plain": [
              "  TYPE  MEOH ACET BU1 MEPR ACAL LNPRO1\n",
              "1 typeA   3   15  0.2  9   9.0  5.86  \n",
              "2 typeA  23   13  0.8  9   2.0  6.67  \n",
              "3 typeA  65   96  0.4  9   4.0  5.31  \n",
              "4 typeA 279   66  0.9 36   4.8  5.45  \n",
              "5 typeA 292  210  1.1 34   8.0  4.08  \n",
              "6 typeA 371  414  1.2 39   9.0  6.22  "
            ],
            "text/latex": "A data.frame: 6 × 7\n\\begin{tabular}{r|lllllll}\n  & TYPE & MEOH & ACET & BU1 & MEPR & ACAL & LNPRO1\\\\\n  & <chr> & <dbl> & <dbl> & <dbl> & <dbl> & <dbl> & <dbl>\\\\\n\\hline\n\t1 & typeA &   3 &  15 & 0.2 &  9 & 9.0 & 5.86\\\\\n\t2 & typeA &  23 &  13 & 0.8 &  9 & 2.0 & 6.67\\\\\n\t3 & typeA &  65 &  96 & 0.4 &  9 & 4.0 & 5.31\\\\\n\t4 & typeA & 279 &  66 & 0.9 & 36 & 4.8 & 5.45\\\\\n\t5 & typeA & 292 & 210 & 1.1 & 34 & 8.0 & 4.08\\\\\n\t6 & typeA & 371 & 414 & 1.2 & 39 & 9.0 & 6.22\\\\\n\\end{tabular}\n",
            "text/markdown": "\nA data.frame: 6 × 7\n\n| <!--/--> | TYPE &lt;chr&gt; | MEOH &lt;dbl&gt; | ACET &lt;dbl&gt; | BU1 &lt;dbl&gt; | MEPR &lt;dbl&gt; | ACAL &lt;dbl&gt; | LNPRO1 &lt;dbl&gt; |\n|---|---|---|---|---|---|---|---|\n| 1 | typeA |   3 |  15 | 0.2 |  9 | 9.0 | 5.86 |\n| 2 | typeA |  23 |  13 | 0.8 |  9 | 2.0 | 6.67 |\n| 3 | typeA |  65 |  96 | 0.4 |  9 | 4.0 | 5.31 |\n| 4 | typeA | 279 |  66 | 0.9 | 36 | 4.8 | 5.45 |\n| 5 | typeA | 292 | 210 | 1.1 | 34 | 8.0 | 4.08 |\n| 6 | typeA | 371 | 414 | 1.2 | 39 | 9.0 | 6.22 |\n\n",
            "text/html": [
              "<table class=\"dataframe\">\n",
              "<caption>A data.frame: 6 × 7</caption>\n",
              "<thead>\n",
              "\t<tr><th></th><th scope=col>TYPE</th><th scope=col>MEOH</th><th scope=col>ACET</th><th scope=col>BU1</th><th scope=col>MEPR</th><th scope=col>ACAL</th><th scope=col>LNPRO1</th></tr>\n",
              "\t<tr><th></th><th scope=col>&lt;chr&gt;</th><th scope=col>&lt;dbl&gt;</th><th scope=col>&lt;dbl&gt;</th><th scope=col>&lt;dbl&gt;</th><th scope=col>&lt;dbl&gt;</th><th scope=col>&lt;dbl&gt;</th><th scope=col>&lt;dbl&gt;</th></tr>\n",
              "</thead>\n",
              "<tbody>\n",
              "\t<tr><th scope=row>1</th><td>typeA</td><td>  3</td><td> 15</td><td>0.2</td><td> 9</td><td>9.0</td><td>5.86</td></tr>\n",
              "\t<tr><th scope=row>2</th><td>typeA</td><td> 23</td><td> 13</td><td>0.8</td><td> 9</td><td>2.0</td><td>6.67</td></tr>\n",
              "\t<tr><th scope=row>3</th><td>typeA</td><td> 65</td><td> 96</td><td>0.4</td><td> 9</td><td>4.0</td><td>5.31</td></tr>\n",
              "\t<tr><th scope=row>4</th><td>typeA</td><td>279</td><td> 66</td><td>0.9</td><td>36</td><td>4.8</td><td>5.45</td></tr>\n",
              "\t<tr><th scope=row>5</th><td>typeA</td><td>292</td><td>210</td><td>1.1</td><td>34</td><td>8.0</td><td>4.08</td></tr>\n",
              "\t<tr><th scope=row>6</th><td>typeA</td><td>371</td><td>414</td><td>1.2</td><td>39</td><td>9.0</td><td>6.22</td></tr>\n",
              "</tbody>\n",
              "</table>\n"
            ]
          },
          "metadata": {
            "tags": []
          }
        }
      ]
    },
    {
      "cell_type": "code",
      "metadata": {
        "colab": {
          "base_uri": "https://localhost:8080/",
          "height": 269
        },
        "id": "RD7Whf3Ha3aB",
        "outputId": "987e7be3-1482-425a-92c1-8db16d8e727b"
      },
      "source": [
        "summary(alcohol)"
      ],
      "execution_count": 8,
      "outputs": [
        {
          "output_type": "display_data",
          "data": {
            "text/plain": [
              "     TYPE                MEOH             ACET            BU1       \n",
              " Length:77          Min.   :   3.0   Min.   : 13.0   Min.   : 0.20  \n",
              " Class :character   1st Qu.: 620.0   1st Qu.:127.0   1st Qu.: 9.30  \n",
              " Mode  :character   Median : 910.0   Median :181.0   Median :17.00  \n",
              "                    Mean   : 845.6   Mean   :211.7   Mean   :14.74  \n",
              "                    3rd Qu.:1087.0   3rd Qu.:287.0   3rd Qu.:20.00  \n",
              "                    Max.   :1548.0   Max.   :495.0   Max.   :30.00  \n",
              "      MEPR            ACAL           LNPRO1     \n",
              " Min.   : 9.00   Min.   : 2.00   Min.   :3.300  \n",
              " 1st Qu.:26.00   1st Qu.: 8.60   1st Qu.:4.280  \n",
              " Median :33.00   Median :11.00   Median :5.260  \n",
              " Mean   :35.76   Mean   :12.51   Mean   :5.301  \n",
              " 3rd Qu.:46.00   3rd Qu.:15.00   3rd Qu.:6.220  \n",
              " Max.   :72.00   Max.   :28.00   Max.   :8.010  "
            ]
          },
          "metadata": {
            "tags": []
          }
        }
      ]
    },
    {
      "cell_type": "code",
      "metadata": {
        "id": "0_FIcfw1bq5D"
      },
      "source": [
        "#패키지 가져오기\n",
        "library(MASS)"
      ],
      "execution_count": 9,
      "outputs": []
    },
    {
      "cell_type": "code",
      "metadata": {
        "colab": {
          "base_uri": "https://localhost:8080/",
          "height": 467
        },
        "id": "cwC85Gmkbyfw",
        "outputId": "31c7fe5a-9e0d-42e3-89cd-657abbaeaf92"
      },
      "source": [
        "#판별분석 실행\n",
        "alcohol.lda = lda(TYPE ~ ., data = alcohol)\n",
        "alcohol.lda"
      ],
      "execution_count": 10,
      "outputs": [
        {
          "output_type": "display_data",
          "data": {
            "text/plain": [
              "Call:\n",
              "lda(TYPE ~ ., data = alcohol)\n",
              "\n",
              "Prior probabilities of groups:\n",
              "    typeA     typeB     typeC \n",
              "0.2337662 0.3766234 0.3896104 \n",
              "\n",
              "Group means:\n",
              "           MEOH     ACET       BU1     MEPR     ACAL   LNPRO1\n",
              "typeA  378.6944 218.0167  1.511111 32.06667 11.16667 6.231111\n",
              "typeB  939.1379 247.3448 17.906897 30.55172 12.54138 4.883103\n",
              "typeC 1035.4000 173.3667 19.620000 43.00000 13.27333 5.145667\n",
              "\n",
              "Coefficients of linear discriminants:\n",
              "                 LD1           LD2\n",
              "MEOH    3.382089e-03  0.0005710473\n",
              "ACET   -4.649248e-05 -0.0066573606\n",
              "BU1     1.322048e-01 -0.0162598664\n",
              "MEPR   -2.562255e-02  0.0533609640\n",
              "ACAL   -4.048757e-02  0.0297883525\n",
              "LNPRO1 -2.791911e-01  0.3894400487\n",
              "\n",
              "Proportion of trace:\n",
              "   LD1    LD2 \n",
              "0.9168 0.0832 "
            ]
          },
          "metadata": {
            "tags": []
          }
        }
      ]
    },
    {
      "cell_type": "markdown",
      "metadata": {
        "id": "cunUfDGlb_ED"
      },
      "source": [
        "* Prior prob ... (각 그룹별 개수에 비례한 사전확률값)\n",
        "* 그룹수가 3개 이므로 2개의 선형판별함수가 출력됨"
      ]
    },
    {
      "cell_type": "code",
      "metadata": {
        "colab": {
          "base_uri": "https://localhost:8080/",
          "height": 34
        },
        "id": "PaTNfRMKb4sV",
        "outputId": "363a71f9-fc9f-4776-ad2a-ef079f4b6c04"
      },
      "source": [
        "#분류하기\n",
        "alcohol.pred.lda = predict(alcohol.lda, newdata = alcohol)\n",
        "names(alcohol.pred.lda)"
      ],
      "execution_count": 11,
      "outputs": [
        {
          "output_type": "display_data",
          "data": {
            "text/plain": [
              "[1] \"class\"     \"posterior\" \"x\"        "
            ],
            "text/latex": "\\begin{enumerate*}\n\\item 'class'\n\\item 'posterior'\n\\item 'x'\n\\end{enumerate*}\n",
            "text/markdown": "1. 'class'\n2. 'posterior'\n3. 'x'\n\n\n",
            "text/html": [
              "<style>\n",
              ".list-inline {list-style: none; margin:0; padding: 0}\n",
              ".list-inline>li {display: inline-block}\n",
              ".list-inline>li:not(:last-child)::after {content: \"\\00b7\"; padding: 0 .5ex}\n",
              "</style>\n",
              "<ol class=list-inline><li>'class'</li><li>'posterior'</li><li>'x'</li></ol>\n"
            ]
          },
          "metadata": {
            "tags": []
          }
        }
      ]
    },
    {
      "cell_type": "code",
      "metadata": {
        "colab": {
          "base_uri": "https://localhost:8080/",
          "height": 51
        },
        "id": "vI5mbYvqcbae",
        "outputId": "befc7fdf-bc83-4e77-9f04-720f64b002a7"
      },
      "source": [
        "head(alcohol.pred.lda$class)"
      ],
      "execution_count": 12,
      "outputs": [
        {
          "output_type": "display_data",
          "data": {
            "text/plain": [
              "[1] typeA typeA typeA typeA typeA typeA\n",
              "Levels: typeA typeB typeC"
            ],
            "text/latex": "\\begin{enumerate*}\n\\item typeA\n\\item typeA\n\\item typeA\n\\item typeA\n\\item typeA\n\\item typeA\n\\end{enumerate*}\n\n\\emph{Levels}: \\begin{enumerate*}\n\\item 'typeA'\n\\item 'typeB'\n\\item 'typeC'\n\\end{enumerate*}\n",
            "text/markdown": "1. typeA\n2. typeA\n3. typeA\n4. typeA\n5. typeA\n6. typeA\n\n\n\n**Levels**: 1. 'typeA'\n2. 'typeB'\n3. 'typeC'\n\n\n",
            "text/html": [
              "<style>\n",
              ".list-inline {list-style: none; margin:0; padding: 0}\n",
              ".list-inline>li {display: inline-block}\n",
              ".list-inline>li:not(:last-child)::after {content: \"\\00b7\"; padding: 0 .5ex}\n",
              "</style>\n",
              "<ol class=list-inline><li>typeA</li><li>typeA</li><li>typeA</li><li>typeA</li><li>typeA</li><li>typeA</li></ol>\n",
              "\n",
              "<details>\n",
              "\t<summary style=display:list-item;cursor:pointer>\n",
              "\t\t<strong>Levels</strong>:\n",
              "\t</summary>\n",
              "\t<style>\n",
              "\t.list-inline {list-style: none; margin:0; padding: 0}\n",
              "\t.list-inline>li {display: inline-block}\n",
              "\t.list-inline>li:not(:last-child)::after {content: \"\\00b7\"; padding: 0 .5ex}\n",
              "\t</style>\n",
              "\t<ol class=list-inline><li>'typeA'</li><li>'typeB'</li><li>'typeC'</li></ol>\n",
              "</details>"
            ]
          },
          "metadata": {
            "tags": []
          }
        }
      ]
    },
    {
      "cell_type": "code",
      "metadata": {
        "colab": {
          "base_uri": "https://localhost:8080/",
          "height": 252
        },
        "id": "hQDLEbGgNQJO",
        "outputId": "5c6f3fb3-fd05-4e92-a691-29f35f7466a6"
      },
      "source": [
        "head(alcohol.pred.lda$posterior)"
      ],
      "execution_count": 29,
      "outputs": [
        {
          "output_type": "display_data",
          "data": {
            "text/plain": [
              "  typeA     typeB        typeC       \n",
              "1 0.9999932 4.878233e-06 1.882559e-06\n",
              "2 0.9999838 1.104519e-05 5.137599e-06\n",
              "3 0.9998621 1.216151e-04 1.626668e-05\n",
              "4 0.9999067 3.768926e-05 5.562616e-05\n",
              "5 0.9993267 5.527433e-04 1.205654e-04\n",
              "6 0.9999181 7.058307e-05 1.131889e-05"
            ],
            "text/latex": "A matrix: 6 × 3 of type dbl\n\\begin{tabular}{r|lll}\n  & typeA & typeB & typeC\\\\\n\\hline\n\t1 & 0.9999932 & 4.878233e-06 & 1.882559e-06\\\\\n\t2 & 0.9999838 & 1.104519e-05 & 5.137599e-06\\\\\n\t3 & 0.9998621 & 1.216151e-04 & 1.626668e-05\\\\\n\t4 & 0.9999067 & 3.768926e-05 & 5.562616e-05\\\\\n\t5 & 0.9993267 & 5.527433e-04 & 1.205654e-04\\\\\n\t6 & 0.9999181 & 7.058307e-05 & 1.131889e-05\\\\\n\\end{tabular}\n",
            "text/markdown": "\nA matrix: 6 × 3 of type dbl\n\n| <!--/--> | typeA | typeB | typeC |\n|---|---|---|---|\n| 1 | 0.9999932 | 4.878233e-06 | 1.882559e-06 |\n| 2 | 0.9999838 | 1.104519e-05 | 5.137599e-06 |\n| 3 | 0.9998621 | 1.216151e-04 | 1.626668e-05 |\n| 4 | 0.9999067 | 3.768926e-05 | 5.562616e-05 |\n| 5 | 0.9993267 | 5.527433e-04 | 1.205654e-04 |\n| 6 | 0.9999181 | 7.058307e-05 | 1.131889e-05 |\n\n",
            "text/html": [
              "<table class=\"dataframe\">\n",
              "<caption>A matrix: 6 × 3 of type dbl</caption>\n",
              "<thead>\n",
              "\t<tr><th></th><th scope=col>typeA</th><th scope=col>typeB</th><th scope=col>typeC</th></tr>\n",
              "</thead>\n",
              "<tbody>\n",
              "\t<tr><th scope=row>1</th><td>0.9999932</td><td>4.878233e-06</td><td>1.882559e-06</td></tr>\n",
              "\t<tr><th scope=row>2</th><td>0.9999838</td><td>1.104519e-05</td><td>5.137599e-06</td></tr>\n",
              "\t<tr><th scope=row>3</th><td>0.9998621</td><td>1.216151e-04</td><td>1.626668e-05</td></tr>\n",
              "\t<tr><th scope=row>4</th><td>0.9999067</td><td>3.768926e-05</td><td>5.562616e-05</td></tr>\n",
              "\t<tr><th scope=row>5</th><td>0.9993267</td><td>5.527433e-04</td><td>1.205654e-04</td></tr>\n",
              "\t<tr><th scope=row>6</th><td>0.9999181</td><td>7.058307e-05</td><td>1.131889e-05</td></tr>\n",
              "</tbody>\n",
              "</table>\n"
            ]
          },
          "metadata": {
            "tags": []
          }
        }
      ]
    },
    {
      "cell_type": "code",
      "metadata": {
        "colab": {
          "base_uri": "https://localhost:8080/",
          "height": 252
        },
        "id": "4MG5D8zhcf7x",
        "outputId": "24121f13-6a04-4f89-c8e4-6a843647a18f"
      },
      "source": [
        "head(alcohol.pred.lda$x)"
      ],
      "execution_count": 13,
      "outputs": [
        {
          "output_type": "display_data",
          "data": {
            "text/plain": [
              "  LD1       LD2       \n",
              "1 -4.091901 -0.2497072\n",
              "2 -3.887575 -0.1277995\n",
              "3 -3.503543 -1.1199342\n",
              "4 -3.475565  0.7129591\n",
              "5 -3.107675 -0.7864612\n",
              "6 -3.602823 -0.9710812"
            ],
            "text/latex": "A matrix: 6 × 2 of type dbl\n\\begin{tabular}{r|ll}\n  & LD1 & LD2\\\\\n\\hline\n\t1 & -4.091901 & -0.2497072\\\\\n\t2 & -3.887575 & -0.1277995\\\\\n\t3 & -3.503543 & -1.1199342\\\\\n\t4 & -3.475565 &  0.7129591\\\\\n\t5 & -3.107675 & -0.7864612\\\\\n\t6 & -3.602823 & -0.9710812\\\\\n\\end{tabular}\n",
            "text/markdown": "\nA matrix: 6 × 2 of type dbl\n\n| <!--/--> | LD1 | LD2 |\n|---|---|---|\n| 1 | -4.091901 | -0.2497072 |\n| 2 | -3.887575 | -0.1277995 |\n| 3 | -3.503543 | -1.1199342 |\n| 4 | -3.475565 |  0.7129591 |\n| 5 | -3.107675 | -0.7864612 |\n| 6 | -3.602823 | -0.9710812 |\n\n",
            "text/html": [
              "<table class=\"dataframe\">\n",
              "<caption>A matrix: 6 × 2 of type dbl</caption>\n",
              "<thead>\n",
              "\t<tr><th></th><th scope=col>LD1</th><th scope=col>LD2</th></tr>\n",
              "</thead>\n",
              "<tbody>\n",
              "\t<tr><th scope=row>1</th><td>-4.091901</td><td>-0.2497072</td></tr>\n",
              "\t<tr><th scope=row>2</th><td>-3.887575</td><td>-0.1277995</td></tr>\n",
              "\t<tr><th scope=row>3</th><td>-3.503543</td><td>-1.1199342</td></tr>\n",
              "\t<tr><th scope=row>4</th><td>-3.475565</td><td> 0.7129591</td></tr>\n",
              "\t<tr><th scope=row>5</th><td>-3.107675</td><td>-0.7864612</td></tr>\n",
              "\t<tr><th scope=row>6</th><td>-3.602823</td><td>-0.9710812</td></tr>\n",
              "</tbody>\n",
              "</table>\n"
            ]
          },
          "metadata": {
            "tags": []
          }
        }
      ]
    },
    {
      "cell_type": "code",
      "metadata": {
        "colab": {
          "base_uri": "https://localhost:8080/",
          "height": 107
        },
        "id": "REmVjCR1ciK0",
        "outputId": "c93345a4-71bd-4bdc-ecf2-64cdbba7ee02"
      },
      "source": [
        "#분류표\n",
        "alcohol.confm.lda = table(alcohol$TYPE, alcohol.pred.lda$class)\n",
        "alcohol.confm.lda"
      ],
      "execution_count": 14,
      "outputs": [
        {
          "output_type": "display_data",
          "data": {
            "text/plain": [
              "       \n",
              "        typeA typeB typeC\n",
              "  typeA    18     0     0\n",
              "  typeB     0    23     6\n",
              "  typeC     0     9    21"
            ]
          },
          "metadata": {
            "tags": []
          }
        }
      ]
    },
    {
      "cell_type": "code",
      "metadata": {
        "colab": {
          "base_uri": "https://localhost:8080/",
          "height": 34
        },
        "id": "m0OcgjkPcvTD",
        "outputId": "8897c51b-b60b-40f4-e3ae-c831ae31d970"
      },
      "source": [
        "#오분류율(error rate)\n",
        "error = 1 - sum(diag(alcohol.confm.lda))/sum(alcohol.confm.lda)\n",
        "error"
      ],
      "execution_count": 15,
      "outputs": [
        {
          "output_type": "display_data",
          "data": {
            "text/plain": [
              "[1] 0.1948052"
            ],
            "text/latex": "0.194805194805195",
            "text/markdown": "0.194805194805195",
            "text/html": [
              "0.194805194805195"
            ]
          },
          "metadata": {
            "tags": []
          }
        }
      ]
    },
    {
      "cell_type": "code",
      "metadata": {
        "colab": {
          "base_uri": "https://localhost:8080/"
        },
        "id": "3mQ6N3DQc4mD",
        "outputId": "4f706def-26e0-4566-da7e-3220180e19e4"
      },
      "source": [
        "#판별변수 선택하기\n",
        "install.packages('klaR')\n",
        "library(klaR)"
      ],
      "execution_count": 16,
      "outputs": [
        {
          "output_type": "stream",
          "text": [
            "Installing package into ‘/usr/local/lib/R/site-library’\n",
            "(as ‘lib’ is unspecified)\n",
            "\n",
            "also installing the dependencies ‘sass’, ‘jquerylib’, ‘R.methodsS3’, ‘R.oo’, ‘R.utils’, ‘proxy’, ‘httpuv’, ‘xtable’, ‘sourcetools’, ‘later’, ‘promises’, ‘bslib’, ‘R.cache’, ‘e1071’, ‘shiny’, ‘miniUI’, ‘styler’, ‘classInt’, ‘labelled’, ‘combinat’, ‘questionr’\n",
            "\n",
            "\n"
          ],
          "name": "stderr"
        }
      ]
    },
    {
      "cell_type": "code",
      "metadata": {
        "colab": {
          "base_uri": "https://localhost:8080/",
          "height": 305
        },
        "id": "94EUDKZddAFC",
        "outputId": "aace57e1-f903-467c-b2db-70ef49841297"
      },
      "source": [
        "alcohol.forward = greedy.wilks(TYPE~., data = alcohol, niveau = 0.01)\n",
        "alcohol.forward"
      ],
      "execution_count": 17,
      "outputs": [
        {
          "output_type": "display_data",
          "data": {
            "text/plain": [
              "Formula containing included variables: \n",
              "\n",
              "TYPE ~ BU1 + MEPR + MEOH\n",
              "<environment: 0x563e4f544a18>\n",
              "\n",
              "\n",
              "Values calculated in each step of the selection procedure: \n",
              "\n",
              "  vars Wilks.lambda F.statistics.overall p.value.overall F.statistics.diff\n",
              "1  BU1    0.2989919             86.74917    3.975561e-20         86.749173\n",
              "2 MEPR    0.2489312             36.65654    3.402765e-21          7.340239\n",
              "3 MEOH    0.2012539             29.49819    7.226240e-23          8.528444\n",
              "  p.value.diff\n",
              "1 3.975561e-20\n",
              "2 1.235768e-03\n",
              "3 4.692630e-04"
            ]
          },
          "metadata": {
            "tags": []
          }
        }
      ]
    },
    {
      "cell_type": "code",
      "metadata": {
        "colab": {
          "base_uri": "https://localhost:8080/",
          "height": 413
        },
        "id": "dn_RhSXseBP8",
        "outputId": "acc39acf-17d8-4ef5-d47e-d13972fd9fb5"
      },
      "source": [
        "#변수선택 후 판별분석 실행\n",
        "alcohol.fwd.lda = lda(alcohol.forward$formula, data = alcohol)\n",
        "alcohol.fwd.lda"
      ],
      "execution_count": 18,
      "outputs": [
        {
          "output_type": "display_data",
          "data": {
            "text/plain": [
              "Call:\n",
              "lda(alcohol.forward$formula, data = alcohol)\n",
              "\n",
              "Prior probabilities of groups:\n",
              "    typeA     typeB     typeC \n",
              "0.2337662 0.3766234 0.3896104 \n",
              "\n",
              "Group means:\n",
              "            BU1     MEPR      MEOH\n",
              "typeA  1.511111 32.06667  378.6944\n",
              "typeB 17.906897 30.55172  939.1379\n",
              "typeC 19.620000 43.00000 1035.4000\n",
              "\n",
              "Coefficients of linear discriminants:\n",
              "              LD1           LD2\n",
              "BU1   0.149874251 -0.0313069489\n",
              "MEPR -0.025447467  0.0759388778\n",
              "MEOH  0.002809521  0.0002065334\n",
              "\n",
              "Proportion of trace:\n",
              "   LD1    LD2 \n",
              "0.9516 0.0484 "
            ]
          },
          "metadata": {
            "tags": []
          }
        }
      ]
    },
    {
      "cell_type": "code",
      "metadata": {
        "colab": {
          "base_uri": "https://localhost:8080/",
          "height": 107
        },
        "id": "aZelE-kLePXE",
        "outputId": "8f7c1b54-61cf-44c7-91db-acc2680d147d"
      },
      "source": [
        "#변수선택 후 분류표\n",
        "alcohol.pred.fwd.lda = predict(alcohol.fwd.lda, newdata = alcohol)\n",
        "confm.fwd = table(alcohol$TYPE, alcohol.pred.fwd.lda$class)\n",
        "confm.fwd"
      ],
      "execution_count": 20,
      "outputs": [
        {
          "output_type": "display_data",
          "data": {
            "text/plain": [
              "       \n",
              "        typeA typeB typeC\n",
              "  typeA    18     0     0\n",
              "  typeB     0    22     7\n",
              "  typeC     1    12    17"
            ]
          },
          "metadata": {
            "tags": []
          }
        }
      ]
    },
    {
      "cell_type": "code",
      "metadata": {
        "colab": {
          "base_uri": "https://localhost:8080/",
          "height": 34
        },
        "id": "Qki3tjSHefNi",
        "outputId": "608ed386-c4fe-49f8-83de-2f5044b7f0df"
      },
      "source": [
        "error2 = 1 - sum(diag(confm.fwd))/sum(confm.fwd)\n",
        "error2"
      ],
      "execution_count": 21,
      "outputs": [
        {
          "output_type": "display_data",
          "data": {
            "text/plain": [
              "[1] 0.2597403"
            ],
            "text/latex": "0.25974025974026",
            "text/markdown": "0.25974025974026",
            "text/html": [
              "0.25974025974026"
            ]
          },
          "metadata": {
            "tags": []
          }
        }
      ]
    },
    {
      "cell_type": "code",
      "metadata": {
        "id": "tPg3gvoJH0k0"
      },
      "source": [
        "#분류함수 구하기(R은 분류함수를 제공하는 함수가 없으므로 따로 function문 만듦)\n",
        "classfunc.lda <- function(x, groups) {\n",
        "  x.lda <- lda(groups ~ ., as.data.frame(x))\n",
        "\n",
        "  gr <- length(unique(groups)) # groups might be factors or numeric\n",
        "  v <- ncol(x)                 # variables\n",
        "  m <- x.lda$means             # group meas\n",
        "\n",
        "  w <- array(NA, dim = c(v, v, gr))\n",
        "\n",
        "  tot.len <- nrow(x)\n",
        "  subgr.len <- array(0, gr)\n",
        "\n",
        "  for (i in 1:gr){\n",
        "    tmp <- scale(subset(x, groups == unique(groups)[i]), scale = FALSE)\n",
        "    w[,,i] <- t(tmp) %*% tmp\n",
        "    subgr.len[i] <- nrow(tmp)\n",
        "  }\n",
        "\n",
        "  W <- w[, , 1]\n",
        "  for (i in 2:gr)\n",
        "   W <- W + w[, , i]\n",
        "\n",
        "  V <- W/(nrow(x) - gr)\n",
        "  iV <- solve(V)\n",
        "\n",
        "  class.func <- matrix(NA, nrow = v + 1, ncol = gr)\n",
        "\n",
        "  colnames(class.func) <- rownames(m)\n",
        "  rownames(class.func) <- c('constant', colnames(m))\n",
        "\n",
        "  for(i in 1:gr) {\n",
        "    ni <- subgr.len[i]\n",
        "    class.func[1, i] <- -0.5 * t(m[i,]) %*% iV %*% (m[i,]) + log(ni / tot.len)\n",
        "    class.func[2:(v+1), i] <- iV %*% (m[i,])\n",
        "\n",
        "  }\n",
        "  x.lda$class.func <- class.func\n",
        "  \n",
        "  return(x.lda)\n",
        "}"
      ],
      "execution_count": 26,
      "outputs": []
    },
    {
      "cell_type": "code",
      "metadata": {
        "colab": {
          "base_uri": "https://localhost:8080/",
          "height": 34
        },
        "id": "XMLHGzvGKhjh",
        "outputId": "d0a795ad-e1e3-4a0c-962f-8c802ff6d72c"
      },
      "source": [
        "#분류함수 계수\n",
        "X = alcohol[, -1]\n",
        "classfunc.result = classfunc.lda(X, alcohol$TYPE)\n",
        "names(classfunc.result)"
      ],
      "execution_count": 27,
      "outputs": [
        {
          "output_type": "display_data",
          "data": {
            "text/plain": [
              " [1] \"prior\"      \"counts\"     \"means\"      \"scaling\"    \"lev\"       \n",
              " [6] \"svd\"        \"N\"          \"call\"       \"terms\"      \"xlevels\"   \n",
              "[11] \"class.func\""
            ],
            "text/latex": "\\begin{enumerate*}\n\\item 'prior'\n\\item 'counts'\n\\item 'means'\n\\item 'scaling'\n\\item 'lev'\n\\item 'svd'\n\\item 'N'\n\\item 'call'\n\\item 'terms'\n\\item 'xlevels'\n\\item 'class.func'\n\\end{enumerate*}\n",
            "text/markdown": "1. 'prior'\n2. 'counts'\n3. 'means'\n4. 'scaling'\n5. 'lev'\n6. 'svd'\n7. 'N'\n8. 'call'\n9. 'terms'\n10. 'xlevels'\n11. 'class.func'\n\n\n",
            "text/html": [
              "<style>\n",
              ".list-inline {list-style: none; margin:0; padding: 0}\n",
              ".list-inline>li {display: inline-block}\n",
              ".list-inline>li:not(:last-child)::after {content: \"\\00b7\"; padding: 0 .5ex}\n",
              "</style>\n",
              "<ol class=list-inline><li>'prior'</li><li>'counts'</li><li>'means'</li><li>'scaling'</li><li>'lev'</li><li>'svd'</li><li>'N'</li><li>'call'</li><li>'terms'</li><li>'xlevels'</li><li>'class.func'</li></ol>\n"
            ]
          },
          "metadata": {
            "tags": []
          }
        }
      ]
    },
    {
      "cell_type": "code",
      "metadata": {
        "colab": {
          "base_uri": "https://localhost:8080/",
          "height": 283
        },
        "id": "tGoiyx6EK26P",
        "outputId": "dcce53ea-209c-4abd-e7fc-57e02d980886"
      },
      "source": [
        "classfunc.result$class.func"
      ],
      "execution_count": 28,
      "outputs": [
        {
          "output_type": "display_data",
          "data": {
            "text/plain": [
              "         typeA         typeB        typeC        \n",
              "constant -2.468616e+01 -25.14175440 -29.631643758\n",
              "MEOH      6.590818e-04   0.01520849   0.016407192\n",
              "ACET      4.449847e-04   0.00494391  -0.003769616\n",
              "BU1      -3.934206e-02   0.55665395   0.553048496\n",
              "MEPR      1.868923e-01   0.03590143   0.102270552\n",
              "ACAL      3.917393e-02  -0.16088059  -0.127328438\n",
              "LNPRO1    6.378935e+00   4.86936954   5.341430073"
            ],
            "text/latex": "A matrix: 7 × 3 of type dbl\n\\begin{tabular}{r|lll}\n  & typeA & typeB & typeC\\\\\n\\hline\n\tconstant & -2.468616e+01 & -25.14175440 & -29.631643758\\\\\n\tMEOH &  6.590818e-04 &   0.01520849 &   0.016407192\\\\\n\tACET &  4.449847e-04 &   0.00494391 &  -0.003769616\\\\\n\tBU1 & -3.934206e-02 &   0.55665395 &   0.553048496\\\\\n\tMEPR &  1.868923e-01 &   0.03590143 &   0.102270552\\\\\n\tACAL &  3.917393e-02 &  -0.16088059 &  -0.127328438\\\\\n\tLNPRO1 &  6.378935e+00 &   4.86936954 &   5.341430073\\\\\n\\end{tabular}\n",
            "text/markdown": "\nA matrix: 7 × 3 of type dbl\n\n| <!--/--> | typeA | typeB | typeC |\n|---|---|---|---|\n| constant | -2.468616e+01 | -25.14175440 | -29.631643758 |\n| MEOH |  6.590818e-04 |   0.01520849 |   0.016407192 |\n| ACET |  4.449847e-04 |   0.00494391 |  -0.003769616 |\n| BU1 | -3.934206e-02 |   0.55665395 |   0.553048496 |\n| MEPR |  1.868923e-01 |   0.03590143 |   0.102270552 |\n| ACAL |  3.917393e-02 |  -0.16088059 |  -0.127328438 |\n| LNPRO1 |  6.378935e+00 |   4.86936954 |   5.341430073 |\n\n",
            "text/html": [
              "<table class=\"dataframe\">\n",
              "<caption>A matrix: 7 × 3 of type dbl</caption>\n",
              "<thead>\n",
              "\t<tr><th></th><th scope=col>typeA</th><th scope=col>typeB</th><th scope=col>typeC</th></tr>\n",
              "</thead>\n",
              "<tbody>\n",
              "\t<tr><th scope=row>constant</th><td>-2.468616e+01</td><td>-25.14175440</td><td>-29.631643758</td></tr>\n",
              "\t<tr><th scope=row>MEOH</th><td> 6.590818e-04</td><td>  0.01520849</td><td>  0.016407192</td></tr>\n",
              "\t<tr><th scope=row>ACET</th><td> 4.449847e-04</td><td>  0.00494391</td><td> -0.003769616</td></tr>\n",
              "\t<tr><th scope=row>BU1</th><td>-3.934206e-02</td><td>  0.55665395</td><td>  0.553048496</td></tr>\n",
              "\t<tr><th scope=row>MEPR</th><td> 1.868923e-01</td><td>  0.03590143</td><td>  0.102270552</td></tr>\n",
              "\t<tr><th scope=row>ACAL</th><td> 3.917393e-02</td><td> -0.16088059</td><td> -0.127328438</td></tr>\n",
              "\t<tr><th scope=row>LNPRO1</th><td> 6.378935e+00</td><td>  4.86936954</td><td>  5.341430073</td></tr>\n",
              "</tbody>\n",
              "</table>\n"
            ]
          },
          "metadata": {
            "tags": []
          }
        }
      ]
    },
    {
      "cell_type": "markdown",
      "metadata": {
        "id": "_XKOQPhQMD0Q"
      },
      "source": [
        "> 각 그룹에 대한 분류함수 계수\n",
        "* typeA 분류함수 = -24.68616 + 0.000659 MEOH + 0.000445 ACET - 0.039342 BUI + 0.186892 MEPR + 0.039174 ACAL + 6.378935 LNPROI\n",
        "* 첫번째 케이스의 경우 (3.0,15.0, 0.2, 9.0, 9.0, 5.86)\n",
        "* 해당 케이스를 대입할 경우 첫번째 분류함수값\n",
        "* (typeA, typeB, typeC) = (14.72977, 2.499048, 1.546903)\n",
        "* 따라서 첫번째 케이스는 가장 큰값을 갖는 typeA로 분류됨"
      ]
    },
    {
      "cell_type": "code",
      "metadata": {
        "colab": {
          "base_uri": "https://localhost:8080/",
          "height": 252
        },
        "id": "Ok0gMFHzNVdM",
        "outputId": "226a6bbf-826f-4c17-a01e-28e192bc67b9"
      },
      "source": [
        "head(alcohol.pred.lda$posterior)"
      ],
      "execution_count": 30,
      "outputs": [
        {
          "output_type": "display_data",
          "data": {
            "text/plain": [
              "  typeA     typeB        typeC       \n",
              "1 0.9999932 4.878233e-06 1.882559e-06\n",
              "2 0.9999838 1.104519e-05 5.137599e-06\n",
              "3 0.9998621 1.216151e-04 1.626668e-05\n",
              "4 0.9999067 3.768926e-05 5.562616e-05\n",
              "5 0.9993267 5.527433e-04 1.205654e-04\n",
              "6 0.9999181 7.058307e-05 1.131889e-05"
            ],
            "text/latex": "A matrix: 6 × 3 of type dbl\n\\begin{tabular}{r|lll}\n  & typeA & typeB & typeC\\\\\n\\hline\n\t1 & 0.9999932 & 4.878233e-06 & 1.882559e-06\\\\\n\t2 & 0.9999838 & 1.104519e-05 & 5.137599e-06\\\\\n\t3 & 0.9998621 & 1.216151e-04 & 1.626668e-05\\\\\n\t4 & 0.9999067 & 3.768926e-05 & 5.562616e-05\\\\\n\t5 & 0.9993267 & 5.527433e-04 & 1.205654e-04\\\\\n\t6 & 0.9999181 & 7.058307e-05 & 1.131889e-05\\\\\n\\end{tabular}\n",
            "text/markdown": "\nA matrix: 6 × 3 of type dbl\n\n| <!--/--> | typeA | typeB | typeC |\n|---|---|---|---|\n| 1 | 0.9999932 | 4.878233e-06 | 1.882559e-06 |\n| 2 | 0.9999838 | 1.104519e-05 | 5.137599e-06 |\n| 3 | 0.9998621 | 1.216151e-04 | 1.626668e-05 |\n| 4 | 0.9999067 | 3.768926e-05 | 5.562616e-05 |\n| 5 | 0.9993267 | 5.527433e-04 | 1.205654e-04 |\n| 6 | 0.9999181 | 7.058307e-05 | 1.131889e-05 |\n\n",
            "text/html": [
              "<table class=\"dataframe\">\n",
              "<caption>A matrix: 6 × 3 of type dbl</caption>\n",
              "<thead>\n",
              "\t<tr><th></th><th scope=col>typeA</th><th scope=col>typeB</th><th scope=col>typeC</th></tr>\n",
              "</thead>\n",
              "<tbody>\n",
              "\t<tr><th scope=row>1</th><td>0.9999932</td><td>4.878233e-06</td><td>1.882559e-06</td></tr>\n",
              "\t<tr><th scope=row>2</th><td>0.9999838</td><td>1.104519e-05</td><td>5.137599e-06</td></tr>\n",
              "\t<tr><th scope=row>3</th><td>0.9998621</td><td>1.216151e-04</td><td>1.626668e-05</td></tr>\n",
              "\t<tr><th scope=row>4</th><td>0.9999067</td><td>3.768926e-05</td><td>5.562616e-05</td></tr>\n",
              "\t<tr><th scope=row>5</th><td>0.9993267</td><td>5.527433e-04</td><td>1.205654e-04</td></tr>\n",
              "\t<tr><th scope=row>6</th><td>0.9999181</td><td>7.058307e-05</td><td>1.131889e-05</td></tr>\n",
              "</tbody>\n",
              "</table>\n"
            ]
          },
          "metadata": {
            "tags": []
          }
        }
      ]
    },
    {
      "cell_type": "markdown",
      "metadata": {
        "id": "PH_M2kxZNWkc"
      },
      "source": [
        "* 똑같이 typeA로 구분됨"
      ]
    }
  ]
}