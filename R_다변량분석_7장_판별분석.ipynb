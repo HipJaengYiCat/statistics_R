{
  "nbformat": 4,
  "nbformat_minor": 0,
  "metadata": {
    "colab": {
      "name": "R_다변량분석_7장_판별분석",
      "private_outputs": true,
      "provenance": [],
      "collapsed_sections": [
        "y0Ye0RNF86Ta",
        "E2fyHgud8guo"
      ],
      "authorship_tag": "ABX9TyOtFM14+SxRODOEJAqcZDf2",
      "include_colab_link": true
    },
    "kernelspec": {
      "name": "ir",
      "display_name": "R"
    }
  },
  "cells": [
    {
      "cell_type": "markdown",
      "metadata": {
        "id": "view-in-github",
        "colab_type": "text"
      },
      "source": [
        "<a href=\"https://colab.research.google.com/github/seunghee0518/R_File/blob/main/R_%EB%8B%A4%EB%B3%80%EB%9F%89%EB%B6%84%EC%84%9D_7%EC%9E%A5_%ED%8C%90%EB%B3%84%EB%B6%84%EC%84%9D.ipynb\" target=\"_parent\"><img src=\"https://colab.research.google.com/assets/colab-badge.svg\" alt=\"Open In Colab\"/></a>"
      ]
    },
    {
      "cell_type": "markdown",
      "metadata": {
        "id": "_xkU6nro8gro"
      },
      "source": [
        "#예제"
      ]
    },
    {
      "cell_type": "markdown",
      "metadata": {
        "id": "y0Ye0RNF86Ta"
      },
      "source": [
        "##2. 분류계수함수를 이용한 분류방법\r\n",
        "> 분류함수 계수를 구하는 function문"
      ]
    },
    {
      "cell_type": "code",
      "metadata": {
        "id": "kXkkjp2285fz"
      },
      "source": [
        "#Function to calculate Fisher`s Classification coefficients\r\n",
        "#this code follows the formulas in Legendare and Legendre`s Numerical Ecology(1998)\r\n",
        "classfunc.lda <- function(x, groups){\r\n",
        "  x.lda <- lda(groups ~ ., as.data.frame(x))\r\n",
        "\r\n",
        "  gr <- length(unique(groups))  #groups might be factors or numeric\r\n",
        "  v <- ncol(x)                  #variables\r\n",
        "  m <- x.lda$means              #group means\r\n",
        "\r\n",
        "  w <- array(NA, dim = c(v, v, gr))\r\n",
        "\r\n",
        "  tot.len <- nrow(x)\r\n",
        "  subgr.len <- array(0, gr)\r\n",
        "\r\n",
        "  for(i in 1:gr){\r\n",
        "    tmp <- scale(subset(x, groups = unique(groups)[i]), scale=FALSE)\r\n",
        "    w[,,i] <- t(tmp) %*% tmp\r\n",
        "    subgr.len[i] <- nrow(tmp)\r\n",
        "  }\r\n",
        "\r\n",
        "  W <- w[,,1]\r\n",
        "  for(i in 2:gr){\r\n",
        "    W <- W + w[,,i]\r\n",
        "  }\r\n",
        "\r\n",
        "  V <- W/(nrow(x) - gr)\r\n",
        "  iV <- solve(V)\r\n",
        "\r\n",
        "  class.func <- matrix(NA, nrow= v + 1, ncol = gr)\r\n",
        "\r\n",
        "  colnames(class.func) <- rownames(m)\r\n",
        "  rownames(class.func) <- c(\"constant\", colnames(m) )\r\n",
        "\r\n",
        "  for(i in 1:gr) {\r\n",
        "    ni <- subgr.len[i]\r\n",
        "    class.func[1,i] <- -0.5*t(m[i,]) %*% iV %*% (m[i,]) + log(ni / tot.len)\r\n",
        "    class.func[2:(v+1) ,i] <- iV %*% (m[i,])   \r\n",
        "  } \r\n",
        "\r\n",
        "  x.lda$class.func <- class.func\r\n",
        "  return(x.lda)\r\n",
        "}\r\n",
        "\r\n",
        "#위 프로그램을 실행하기 위한 코드\r\n",
        "#source(\"c:/data/mva/classfunc.r\")"
      ],
      "execution_count": null,
      "outputs": []
    },
    {
      "cell_type": "code",
      "metadata": {
        "id": "Mmv7xVscnscy"
      },
      "source": [
        "#만든 코드로 실행하기 => 분류함수 계수 알려줌\r\n",
        "library(MASS)\r\n",
        "data_al = read.csv(\"https://raw.githubusercontent.com/seunghee0518/R_File/main/%EB%8B%A4%EB%B3%80%EB%9E%91%EB%B6%84%EC%84%9D/mvadata/alcohol.csv\", header=T)\r\n",
        "X = data_al[, -1]\r\n",
        "classfunc.result = classfunc.lda(X, data_al$TYPE)\r\n",
        "names(classfunc.result)\r\n",
        "classfunc.result$class.func"
      ],
      "execution_count": null,
      "outputs": []
    },
    {
      "cell_type": "markdown",
      "metadata": {
        "id": "E2fyHgud8guo"
      },
      "source": [
        "##3. 사후확률이용방법+판별모형 평가(분류표) (p.200)"
      ]
    },
    {
      "cell_type": "code",
      "metadata": {
        "id": "BbE7qWIP9HHW"
      },
      "source": [
        "#MASS는 기본설치패키지, 따로 install필요 X\r\n",
        "library(MASS)\r\n",
        "data7 = read.table(\"https://raw.githubusercontent.com/seunghee0518/R_File/main/%EB%8B%A4%EB%B3%80%EB%9E%91%EB%B6%84%EC%84%9D/mvadata/data7-1.txt\", header=T)\r\n",
        "head(data7)"
      ],
      "execution_count": null,
      "outputs": []
    },
    {
      "cell_type": "code",
      "metadata": {
        "id": "ue4yJoxOrvge"
      },
      "source": [
        "data7.lda = lda(group ~ ., data=data7)\r\n",
        "pred.lda = predict(data7.lda, newdata = data7)\r\n",
        "pred.lda$class"
      ],
      "execution_count": null,
      "outputs": []
    },
    {
      "cell_type": "code",
      "metadata": {
        "id": "Xfg6lwZJr_Ht"
      },
      "source": [
        "pred.lda$posterior"
      ],
      "execution_count": null,
      "outputs": []
    },
    {
      "cell_type": "markdown",
      "metadata": {
        "id": "auTW3Epq8w1g"
      },
      "source": [
        "##예제 (사후확률법 이용)\r\n",
        ">\r\n",
        "알콜 종류 3가지, 독립변수 6개, 케이스 수가 77개인 자료임, MASS패키지의 lda()함수를 이용해 판별분석하기"
      ]
    },
    {
      "cell_type": "code",
      "metadata": {
        "id": "qC7y_e7m9HiI"
      },
      "source": [
        "#데이터 읽기\r\n",
        "url_a = \"https://raw.githubusercontent.com/seunghee0518/R_File/main/%EB%8B%A4%EB%B3%80%EB%9E%91%EB%B6%84%EC%84%9D/mvadata/alcohol.csv\"\r\n",
        "alcohol = read.csv(url_a, header=T)\r\n",
        "attach(alcohol)\r\n",
        "head(alcohol, 3)"
      ],
      "execution_count": null,
      "outputs": []
    },
    {
      "cell_type": "code",
      "metadata": {
        "id": "heQbw33ReiK3"
      },
      "source": [
        "#기초통계량\r\n",
        "summary(alcohol)"
      ],
      "execution_count": null,
      "outputs": []
    },
    {
      "cell_type": "markdown",
      "metadata": {
        "id": "PAgzT4vye_cb"
      },
      "source": [
        "> lda(그룹변수 ~ 나머지변수, data = )\r\n",
        ">\r\n",
        " prior probabilities or groups = 각 그룹별 사전확률값\r\n",
        " 그룹수가 3개이므로 2개의 선형판별함수"
      ]
    },
    {
      "cell_type": "code",
      "metadata": {
        "id": "p73HFgqKenKq"
      },
      "source": [
        "#판별분석 실행\r\n",
        "library(MASS)\r\n",
        "alcohol.lda = lda(TYPE~., data = alcohol)\r\n",
        "alcohol.lda"
      ],
      "execution_count": null,
      "outputs": []
    },
    {
      "cell_type": "code",
      "metadata": {
        "id": "qIUuMyjBgGPi"
      },
      "source": [
        "#분류하기(사후확률법으로 분류됨)\r\n",
        "pred.lda = predict(alcohol.lda, newdata=alcohol)"
      ],
      "execution_count": null,
      "outputs": []
    },
    {
      "cell_type": "code",
      "metadata": {
        "id": "c4fBcK-ig5Ye"
      },
      "source": [
        "#pred.lda의 속성변수 확인\r\n",
        "names(pred.lda)"
      ],
      "execution_count": null,
      "outputs": []
    },
    {
      "cell_type": "code",
      "metadata": {
        "id": "3YlWsA-4giJ2"
      },
      "source": [
        "#맨처음6개 케이스-> 사후확률값이 큰 그룹으로 분류됨\r\n",
        "head(pred.lda$class)"
      ],
      "execution_count": null,
      "outputs": []
    },
    {
      "cell_type": "code",
      "metadata": {
        "id": "qfDfsPCkgpy3"
      },
      "source": [
        "#사후확률값 조회\r\n",
        "tail(pred.lda$posterior)"
      ],
      "execution_count": null,
      "outputs": []
    },
    {
      "cell_type": "code",
      "metadata": {
        "id": "q-P0IoGogp17"
      },
      "source": [
        "#각 케이스의 판별점수\r\n",
        "head(pred.lda$x)"
      ],
      "execution_count": null,
      "outputs": []
    },
    {
      "cell_type": "code",
      "metadata": {
        "id": "HB-D6Y0qgp5G"
      },
      "source": [
        "#분류표\r\n",
        "confm.lda = table(alcohol$TYPE, pred.lda$class)\r\n",
        "confm.lda"
      ],
      "execution_count": null,
      "outputs": []
    },
    {
      "cell_type": "code",
      "metadata": {
        "id": "RCpirZEWgp7w"
      },
      "source": [
        "#오분류율\r\n",
        "accuracy = sum(diag(confm.lda))/sum(confm.lda)\r\n",
        "accuracy\r\n",
        "error = 1-accuracy\r\n",
        "error"
      ],
      "execution_count": null,
      "outputs": []
    },
    {
      "cell_type": "code",
      "metadata": {
        "id": "hLQqHdFniShy"
      },
      "source": [
        "#판별변수 선택-패키지 설치\r\n",
        "install.packages(\"klaR\")\r\n",
        "library(klaR)"
      ],
      "execution_count": null,
      "outputs": []
    },
    {
      "cell_type": "code",
      "metadata": {
        "id": "Vjj12seCifoR"
      },
      "source": [
        "#판별변수 선택\r\n",
        "alcohol.forward = greedy.wilks(TYPE ~ ., data=alcohol, niveau=0.01)\r\n",
        "alcohol.forward"
      ],
      "execution_count": null,
      "outputs": []
    },
    {
      "cell_type": "code",
      "metadata": {
        "id": "w2_lGGshjiXD"
      },
      "source": [
        "#변수 선택 후 판별분석 실행\r\n",
        "alcohol.fwd.lda = lda(alcohol.forward$formula, data=alcohol)\r\n",
        "alcohol.fwd.lda"
      ],
      "execution_count": null,
      "outputs": []
    },
    {
      "cell_type": "code",
      "metadata": {
        "id": "gn_H9uYvjie5"
      },
      "source": [
        "#변수선택 후 분류표\r\n",
        "pred.fwd.lda = predict(alcohol.fwd.lda, newdata=alcohol)\r\n",
        "confm.fwd = table(alcohol$TYPE, pred.fwd.lda$class)\r\n",
        "confm.fwd"
      ],
      "execution_count": null,
      "outputs": []
    },
    {
      "cell_type": "markdown",
      "metadata": {
        "id": "Pissy_8_8gxI"
      },
      "source": [
        "#실습"
      ]
    },
    {
      "cell_type": "markdown",
      "metadata": {
        "id": "oUy9Eg0a8gzr"
      },
      "source": [
        "##1. 어느 시점을 기준으로 도산한 기업과 정상운영 기업을 대상으로 지난 2년 동안에 발생된 재무상황의 변동을 조사한 결과이다. 각 변수의 의미는 다음과 같은데 해당 자료로 판별분석과 그 결과를 해석하라\r\n",
        ">\r\n",
        "X1 : 운영자금/총 자산\r\n",
        "X2 : 판매수익/총 자산\r\n",
        "X3 : 세전총소득/총 자산\r\n",
        "X4 : 시장가치자산/총 자산\r\n",
        "X5 : 판매액/총 자산"
      ]
    },
    {
      "cell_type": "code",
      "metadata": {
        "id": "D_csFSp-9IBp"
      },
      "source": [
        ""
      ],
      "execution_count": null,
      "outputs": []
    },
    {
      "cell_type": "markdown",
      "metadata": {
        "id": "V6Meoh1d9Aog"
      },
      "source": [
        "##2. 공업도시와 상업도시별로 인구수(단위:만 명)와 대기오엽도를 조사한 자료, 판별분석과 결과 해석"
      ]
    },
    {
      "cell_type": "code",
      "metadata": {
        "id": "JgvXTCqK9IWI"
      },
      "source": [
        ""
      ],
      "execution_count": null,
      "outputs": []
    },
    {
      "cell_type": "markdown",
      "metadata": {
        "id": "VjlTcWpw9DXA"
      },
      "source": [
        "##3. 어느 한 시점에서 도산한 기업과 도산하지 않은 기업들의 2년 전 재무현황 자료, 이 자료 중 앞부분을 이용하여 판별분석을 수행한 후, 이를 이용하여 나머지 기업에 대한 2년 후 기업들의 도산 여부를 분류하라\r\n",
        ">\r\n",
        "X1 : 총 부채에 대한 유동성 비율\r\n",
        "X2 : 총 자산에 대한 순이익 비율\r\n",
        "X3 : 총 부채에 대한 현 자산 비율\r\n",
        "X4 : 순판매에 대한 현 자산 비율\r\n",
        "1. 판별분석하기\r\n",
        "2. 2년 후 자료를 분류하기"
      ]
    },
    {
      "cell_type": "code",
      "metadata": {
        "id": "wZZzthX29IrB"
      },
      "source": [
        ""
      ],
      "execution_count": null,
      "outputs": []
    }
  ]
}