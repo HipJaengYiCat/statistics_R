{
  "nbformat": 4,
  "nbformat_minor": 0,
  "metadata": {
    "colab": {
      "name": "R_데이터마이닝_2장_회귀모형(+로지스틱회귀)",
      "provenance": [],
      "collapsed_sections": [
        "7hiFQcY8JKrp",
        "54s4vCO6L51T",
        "pKmhPwthPiwK",
        "gLGRzHERPrF6",
        "3J0HXV6VRMyn",
        "NyKyiU7sUBOe",
        "7Hoi86kwUBOm",
        "h7vn_kUSUBOm",
        "V4pKY9PbYns3"
      ],
      "authorship_tag": "ABX9TyPsPQ/vivpRK6he5KmQaEF5",
      "include_colab_link": true
    },
    "kernelspec": {
      "name": "ir",
      "display_name": "R"
    }
  },
  "cells": [
    {
      "cell_type": "markdown",
      "metadata": {
        "id": "view-in-github",
        "colab_type": "text"
      },
      "source": [
        "<a href=\"https://colab.research.google.com/github/seunghee0518/R_File/blob/main/R_%EB%8D%B0%EC%9D%B4%ED%84%B0%EB%A7%88%EC%9D%B4%EB%8B%9D_2%EC%9E%A5_%ED%9A%8C%EA%B7%80%EB%AA%A8%ED%98%95(%2B%EB%A1%9C%EC%A7%80%EC%8A%A4%ED%8B%B1%ED%9A%8C%EA%B7%80).ipynb\" target=\"_parent\"><img src=\"https://colab.research.google.com/assets/colab-badge.svg\" alt=\"Open In Colab\"/></a>"
      ]
    },
    {
      "cell_type": "markdown",
      "metadata": {
        "id": "7hiFQcY8JKrp"
      },
      "source": [
        "# 선형 회귀모형(보스턴하우징데이터)\n",
        "선형 회귀모형에 더 나은 적합을 위해 연속형 목표변수인 medv가 최대값인 50인 관측치 16개를 찾아 제외하고, 수치형으로 입력된 chas, rad 변수를 범주형으로 변환함(함수:factor)"
      ]
    },
    {
      "cell_type": "markdown",
      "metadata": {
        "id": "_bBE43ktIpNG"
      },
      "source": [
        "##모형적합 :보스턴하우징 데이터(모든변수사용)\n",
        ">MASS패키지의 보스턴하우징데이터 사용"
      ]
    },
    {
      "cell_type": "code",
      "metadata": {
        "id": "l3OZbC-zA7kC",
        "colab": {
          "base_uri": "https://localhost:8080/",
          "height": 289
        },
        "outputId": "d95341b0-451f-44fa-9c92-e9591a06e1d1"
      },
      "source": [
        "#데이터 가져오기\n",
        "library(MASS)\n",
        "head(Boston)"
      ],
      "execution_count": 4,
      "outputs": [
        {
          "output_type": "display_data",
          "data": {
            "text/plain": [
              "  crim    zn indus chas nox   rm    age  dis    rad tax ptratio black  lstat\n",
              "1 0.00632 18 2.31  0    0.538 6.575 65.2 4.0900 1   296 15.3    396.90 4.98 \n",
              "2 0.02731  0 7.07  0    0.469 6.421 78.9 4.9671 2   242 17.8    396.90 9.14 \n",
              "3 0.02729  0 7.07  0    0.469 7.185 61.1 4.9671 2   242 17.8    392.83 4.03 \n",
              "4 0.03237  0 2.18  0    0.458 6.998 45.8 6.0622 3   222 18.7    394.63 2.94 \n",
              "5 0.06905  0 2.18  0    0.458 7.147 54.2 6.0622 3   222 18.7    396.90 5.33 \n",
              "6 0.02985  0 2.18  0    0.458 6.430 58.7 6.0622 3   222 18.7    394.12 5.21 \n",
              "  medv\n",
              "1 24.0\n",
              "2 21.6\n",
              "3 34.7\n",
              "4 33.4\n",
              "5 36.2\n",
              "6 28.7"
            ],
            "text/latex": "A data.frame: 6 × 14\n\\begin{tabular}{r|llllllllllllll}\n  & crim & zn & indus & chas & nox & rm & age & dis & rad & tax & ptratio & black & lstat & medv\\\\\n  & <dbl> & <dbl> & <dbl> & <int> & <dbl> & <dbl> & <dbl> & <dbl> & <int> & <dbl> & <dbl> & <dbl> & <dbl> & <dbl>\\\\\n\\hline\n\t1 & 0.00632 & 18 & 2.31 & 0 & 0.538 & 6.575 & 65.2 & 4.0900 & 1 & 296 & 15.3 & 396.90 & 4.98 & 24.0\\\\\n\t2 & 0.02731 &  0 & 7.07 & 0 & 0.469 & 6.421 & 78.9 & 4.9671 & 2 & 242 & 17.8 & 396.90 & 9.14 & 21.6\\\\\n\t3 & 0.02729 &  0 & 7.07 & 0 & 0.469 & 7.185 & 61.1 & 4.9671 & 2 & 242 & 17.8 & 392.83 & 4.03 & 34.7\\\\\n\t4 & 0.03237 &  0 & 2.18 & 0 & 0.458 & 6.998 & 45.8 & 6.0622 & 3 & 222 & 18.7 & 394.63 & 2.94 & 33.4\\\\\n\t5 & 0.06905 &  0 & 2.18 & 0 & 0.458 & 7.147 & 54.2 & 6.0622 & 3 & 222 & 18.7 & 396.90 & 5.33 & 36.2\\\\\n\t6 & 0.02985 &  0 & 2.18 & 0 & 0.458 & 6.430 & 58.7 & 6.0622 & 3 & 222 & 18.7 & 394.12 & 5.21 & 28.7\\\\\n\\end{tabular}\n",
            "text/markdown": "\nA data.frame: 6 × 14\n\n| <!--/--> | crim &lt;dbl&gt; | zn &lt;dbl&gt; | indus &lt;dbl&gt; | chas &lt;int&gt; | nox &lt;dbl&gt; | rm &lt;dbl&gt; | age &lt;dbl&gt; | dis &lt;dbl&gt; | rad &lt;int&gt; | tax &lt;dbl&gt; | ptratio &lt;dbl&gt; | black &lt;dbl&gt; | lstat &lt;dbl&gt; | medv &lt;dbl&gt; |\n|---|---|---|---|---|---|---|---|---|---|---|---|---|---|---|\n| 1 | 0.00632 | 18 | 2.31 | 0 | 0.538 | 6.575 | 65.2 | 4.0900 | 1 | 296 | 15.3 | 396.90 | 4.98 | 24.0 |\n| 2 | 0.02731 |  0 | 7.07 | 0 | 0.469 | 6.421 | 78.9 | 4.9671 | 2 | 242 | 17.8 | 396.90 | 9.14 | 21.6 |\n| 3 | 0.02729 |  0 | 7.07 | 0 | 0.469 | 7.185 | 61.1 | 4.9671 | 2 | 242 | 17.8 | 392.83 | 4.03 | 34.7 |\n| 4 | 0.03237 |  0 | 2.18 | 0 | 0.458 | 6.998 | 45.8 | 6.0622 | 3 | 222 | 18.7 | 394.63 | 2.94 | 33.4 |\n| 5 | 0.06905 |  0 | 2.18 | 0 | 0.458 | 7.147 | 54.2 | 6.0622 | 3 | 222 | 18.7 | 396.90 | 5.33 | 36.2 |\n| 6 | 0.02985 |  0 | 2.18 | 0 | 0.458 | 6.430 | 58.7 | 6.0622 | 3 | 222 | 18.7 | 394.12 | 5.21 | 28.7 |\n\n",
            "text/html": [
              "<table class=\"dataframe\">\n",
              "<caption>A data.frame: 6 × 14</caption>\n",
              "<thead>\n",
              "\t<tr><th></th><th scope=col>crim</th><th scope=col>zn</th><th scope=col>indus</th><th scope=col>chas</th><th scope=col>nox</th><th scope=col>rm</th><th scope=col>age</th><th scope=col>dis</th><th scope=col>rad</th><th scope=col>tax</th><th scope=col>ptratio</th><th scope=col>black</th><th scope=col>lstat</th><th scope=col>medv</th></tr>\n",
              "\t<tr><th></th><th scope=col>&lt;dbl&gt;</th><th scope=col>&lt;dbl&gt;</th><th scope=col>&lt;dbl&gt;</th><th scope=col>&lt;int&gt;</th><th scope=col>&lt;dbl&gt;</th><th scope=col>&lt;dbl&gt;</th><th scope=col>&lt;dbl&gt;</th><th scope=col>&lt;dbl&gt;</th><th scope=col>&lt;int&gt;</th><th scope=col>&lt;dbl&gt;</th><th scope=col>&lt;dbl&gt;</th><th scope=col>&lt;dbl&gt;</th><th scope=col>&lt;dbl&gt;</th><th scope=col>&lt;dbl&gt;</th></tr>\n",
              "</thead>\n",
              "<tbody>\n",
              "\t<tr><th scope=row>1</th><td>0.00632</td><td>18</td><td>2.31</td><td>0</td><td>0.538</td><td>6.575</td><td>65.2</td><td>4.0900</td><td>1</td><td>296</td><td>15.3</td><td>396.90</td><td>4.98</td><td>24.0</td></tr>\n",
              "\t<tr><th scope=row>2</th><td>0.02731</td><td> 0</td><td>7.07</td><td>0</td><td>0.469</td><td>6.421</td><td>78.9</td><td>4.9671</td><td>2</td><td>242</td><td>17.8</td><td>396.90</td><td>9.14</td><td>21.6</td></tr>\n",
              "\t<tr><th scope=row>3</th><td>0.02729</td><td> 0</td><td>7.07</td><td>0</td><td>0.469</td><td>7.185</td><td>61.1</td><td>4.9671</td><td>2</td><td>242</td><td>17.8</td><td>392.83</td><td>4.03</td><td>34.7</td></tr>\n",
              "\t<tr><th scope=row>4</th><td>0.03237</td><td> 0</td><td>2.18</td><td>0</td><td>0.458</td><td>6.998</td><td>45.8</td><td>6.0622</td><td>3</td><td>222</td><td>18.7</td><td>394.63</td><td>2.94</td><td>33.4</td></tr>\n",
              "\t<tr><th scope=row>5</th><td>0.06905</td><td> 0</td><td>2.18</td><td>0</td><td>0.458</td><td>7.147</td><td>54.2</td><td>6.0622</td><td>3</td><td>222</td><td>18.7</td><td>396.90</td><td>5.33</td><td>36.2</td></tr>\n",
              "\t<tr><th scope=row>6</th><td>0.02985</td><td> 0</td><td>2.18</td><td>0</td><td>0.458</td><td>6.430</td><td>58.7</td><td>6.0622</td><td>3</td><td>222</td><td>18.7</td><td>394.12</td><td>5.21</td><td>28.7</td></tr>\n",
              "</tbody>\n",
              "</table>\n"
            ]
          },
          "metadata": {
            "tags": []
          }
        }
      ]
    },
    {
      "cell_type": "code",
      "metadata": {
        "id": "NjUl0kj4CxVt"
      },
      "source": [
        "#데이터 가공\n",
        "i = which(Boston$medv == 50)\n",
        "boston = Boston[-i, ]\n",
        "boston$chas = factor(boston$chas)\n",
        "boston$rad = factor(boston$rad)\n",
        "attach(boston)"
      ],
      "execution_count": 10,
      "outputs": []
    },
    {
      "cell_type": "code",
      "metadata": {
        "id": "Xbwzk37_KPeR"
      },
      "source": [
        "#회귀모형 적합(모든 변수 사용)\n",
        "fit.all = lm(medv ~ ., data = boston)"
      ],
      "execution_count": 17,
      "outputs": []
    },
    {
      "cell_type": "code",
      "metadata": {
        "colab": {
          "base_uri": "https://localhost:8080/",
          "height": 675
        },
        "id": "kpXc_g1_JsNw",
        "outputId": "7728f617-9a44-4c62-fb7d-c8384f4d0a26"
      },
      "source": [
        "#선형회귀모형 적합 결과\n",
        "summary(fit.all)"
      ],
      "execution_count": 18,
      "outputs": [
        {
          "output_type": "display_data",
          "data": {
            "text/plain": [
              "\n",
              "Call:\n",
              "lm(formula = medv ~ ., data = boston)\n",
              "\n",
              "Residuals:\n",
              "    Min      1Q  Median      3Q     Max \n",
              "-9.5220 -2.2592 -0.4275  1.6778 15.2894 \n",
              "\n",
              "Coefficients:\n",
              "              Estimate Std. Error t value Pr(>|t|)    \n",
              "(Intercept)  30.120918   4.338656   6.942 1.29e-11 ***\n",
              "crim         -0.105648   0.025640  -4.120 4.47e-05 ***\n",
              "zn            0.044104   0.011352   3.885 0.000117 ***\n",
              "indus        -0.046743   0.051044  -0.916 0.360274    \n",
              "chas1         0.158802   0.736742   0.216 0.829435    \n",
              "nox         -11.576589   3.084187  -3.754 0.000196 ***\n",
              "rm            3.543733   0.356605   9.937  < 2e-16 ***\n",
              "age          -0.026082   0.010531  -2.477 0.013613 *  \n",
              "dis          -1.282095   0.160452  -7.991 1.05e-14 ***\n",
              "rad2          2.548109   1.175012   2.169 0.030616 *  \n",
              "rad3          4.605849   1.064492   4.327 1.85e-05 ***\n",
              "rad4          2.663393   0.950747   2.801 0.005299 ** \n",
              "rad5          3.077800   0.962725   3.197 0.001483 ** \n",
              "rad6          1.314892   1.157689   1.136 0.256624    \n",
              "rad7          4.864208   1.241760   3.917 0.000103 ***\n",
              "rad8          5.772296   1.194221   4.834 1.82e-06 ***\n",
              "rad24         6.195415   1.417826   4.370 1.53e-05 ***\n",
              "tax          -0.009396   0.003070  -3.061 0.002333 ** \n",
              "ptratio      -0.828498   0.114436  -7.240 1.85e-12 ***\n",
              "black         0.007875   0.002084   3.779 0.000178 ***\n",
              "lstat        -0.354606   0.041901  -8.463 3.36e-16 ***\n",
              "---\n",
              "Signif. codes:  0 ‘***’ 0.001 ‘**’ 0.01 ‘*’ 0.05 ‘.’ 0.1 ‘ ’ 1\n",
              "\n",
              "Residual standard error: 3.671 on 469 degrees of freedom\n",
              "Multiple R-squared:  0.7911,\tAdjusted R-squared:  0.7821 \n",
              "F-statistic: 88.78 on 20 and 469 DF,  p-value: < 2.2e-16\n"
            ]
          },
          "metadata": {
            "tags": []
          }
        }
      ]
    },
    {
      "cell_type": "markdown",
      "metadata": {
        "id": "54s4vCO6L51T"
      },
      "source": [
        "## 변수선택 : 단계적 선택법\n",
        "함수 step(direction = \"both\")\n",
        "어떤 변수가 제외/추가됬는지 변수선택과정보기 : 변수명$anova"
      ]
    },
    {
      "cell_type": "code",
      "metadata": {
        "id": "6rNvAUuqKFTW"
      },
      "source": [
        "#단계적선택법\n",
        "fit.step.both = step(fit.all, direction = \"both\")\n",
        "fit.step.both$anova"
      ],
      "execution_count": null,
      "outputs": []
    },
    {
      "cell_type": "markdown",
      "metadata": {
        "id": "V9b1iXqVMlP1"
      },
      "source": [
        ">해석\n",
        "2단계 : chas제외\n",
        "3단계 : indus제외\n",
        "Deviance => 이전단계모형과 Resid.Dev의 차이\n",
        "즉, chas, indus를 제외한 모형이 가장 좋은 선택임임"
      ]
    },
    {
      "cell_type": "code",
      "metadata": {
        "id": "ZJKc9IBfMZsB"
      },
      "source": [
        "#단계적선택법에 의해 생성된 모형 적합 결과\n",
        "summary(fit.step.both)"
      ],
      "execution_count": null,
      "outputs": []
    },
    {
      "cell_type": "markdown",
      "metadata": {
        "id": "HX3QTdjwNYk4"
      },
      "source": [
        "> 설명\n",
        "1. 입력변수 crim의 회귀계수 추정치는 음수이므로 crim이 증가함에 따라 목표변수 medv는 감소함.\n",
        "2. rad 변수는 9개의 범주로 구성되어 있기 때문에 8개의 가변수가 생성됨\n",
        "3. 각 입력변수의 t값의 절대값은 커서 대응하는 p값은 0.05보다 작아서 유의하다고 할 수 잇음\n",
        "(이때 rad의 가변수 중 하나는 유의하지 않지만, rad의 다른 가변수가 유의하므로 제거되지 않고 여전히 모형에 포함됨)\n",
        "4. R2는 79.07(수정된R2=7827)로 적합한 선형회귀모형으로 데이터를 설명할 수 있는 부분이 약80%로 높다고 할 수 잇음\n",
        "5. 또한 F검정의 P값(2.2e-16)이 아주 작은 것도 모형이 적합하다는 것을 지지함"
      ]
    },
    {
      "cell_type": "markdown",
      "metadata": {
        "id": "pKmhPwthPiwK"
      },
      "source": [
        "##변수선택 : 후진소거법"
      ]
    },
    {
      "cell_type": "code",
      "metadata": {
        "colab": {
          "base_uri": "https://localhost:8080/",
          "height": 1000
        },
        "id": "krnaIwX8Px9r",
        "outputId": "af892543-2aa8-479a-d4fd-92755957c55c"
      },
      "source": [
        "#후진소거법\n",
        "fit.step.back = step(fit.all, direction = \"backward\")\n",
        "fit.step.back$anova"
      ],
      "execution_count": 27,
      "outputs": [
        {
          "output_type": "stream",
          "text": [
            "Start:  AIC=1295.03\n",
            "medv ~ crim + zn + indus + chas + nox + rm + age + dis + rad + \n",
            "    tax + ptratio + black + lstat\n",
            "\n",
            "          Df Sum of Sq    RSS    AIC\n",
            "- chas     1      0.63 6321.5 1293.1\n",
            "- indus    1     11.30 6332.2 1293.9\n",
            "<none>                 6320.9 1295.0\n",
            "- age      1     82.67 6403.5 1299.4\n",
            "- tax      1    126.28 6447.1 1302.7\n",
            "- nox      1    189.88 6510.7 1307.5\n",
            "- black    1    192.42 6513.3 1307.7\n",
            "- zn       1    203.44 6524.3 1308.5\n",
            "- crim     1    228.82 6549.7 1310.5\n",
            "- rad      8    721.85 7042.7 1332.0\n",
            "- ptratio  1    706.41 7027.3 1344.9\n",
            "- dis      1    860.51 7181.4 1355.6\n",
            "- lstat    1    965.26 7286.1 1362.7\n",
            "- rm       1   1330.92 7651.8 1386.7\n",
            "\n",
            "Step:  AIC=1293.08\n",
            "medv ~ crim + zn + indus + nox + rm + age + dis + rad + tax + \n",
            "    ptratio + black + lstat\n",
            "\n",
            "          Df Sum of Sq    RSS    AIC\n",
            "- indus    1     11.00 6332.5 1291.9\n",
            "<none>                 6321.5 1293.1\n",
            "- age      1     82.48 6404.0 1297.4\n",
            "- tax      1    130.45 6451.9 1301.1\n",
            "- nox      1    189.27 6510.8 1305.5\n",
            "- black    1    193.59 6515.1 1305.9\n",
            "- zn       1    203.76 6525.2 1306.6\n",
            "- crim     1    230.58 6552.1 1308.6\n",
            "- rad      8    738.26 7059.8 1331.2\n",
            "- ptratio  1    719.40 7040.9 1343.9\n",
            "- dis      1    861.64 7183.1 1353.7\n",
            "- lstat    1    965.11 7286.6 1360.7\n",
            "- rm       1   1333.37 7654.9 1384.9\n",
            "\n",
            "Step:  AIC=1291.93\n",
            "medv ~ crim + zn + nox + rm + age + dis + rad + tax + ptratio + \n",
            "    black + lstat\n",
            "\n",
            "          Df Sum of Sq    RSS    AIC\n",
            "<none>                 6332.5 1291.9\n",
            "- age      1     81.09 6413.6 1296.2\n",
            "- tax      1    192.78 6525.3 1304.6\n",
            "- black    1    196.55 6529.0 1304.9\n",
            "- zn       1    220.63 6553.1 1306.7\n",
            "- crim     1    225.50 6558.0 1307.1\n",
            "- nox      1    239.09 6571.6 1308.1\n",
            "- rad      8    791.09 7123.6 1333.6\n",
            "- ptratio  1    732.81 7065.3 1343.6\n",
            "- dis      1    857.27 7189.8 1352.1\n",
            "- lstat    1    987.73 7320.2 1361.0\n",
            "- rm       1   1380.21 7712.7 1386.5\n"
          ],
          "name": "stdout"
        },
        {
          "output_type": "display_data",
          "data": {
            "text/plain": [
              "  Step    Df Deviance   Resid. Df Resid. Dev AIC     \n",
              "1         NA         NA 469       6320.865   1295.031\n",
              "2 - chas   1  0.6261633 470       6321.491   1293.079\n",
              "3 - indus  1 10.9964825 471       6332.487   1291.931"
            ],
            "text/latex": "A data.frame: 3 × 6\n\\begin{tabular}{llllll}\n Step & Df & Deviance & Resid. Df & Resid. Dev & AIC\\\\\n <I<chr>> & <dbl> & <dbl> & <dbl> & <dbl> & <dbl>\\\\\n\\hline\n\t         & NA &         NA & 469 & 6320.865 & 1295.031\\\\\n\t - chas  &  1 &  0.6261633 & 470 & 6321.491 & 1293.079\\\\\n\t - indus &  1 & 10.9964825 & 471 & 6332.487 & 1291.931\\\\\n\\end{tabular}\n",
            "text/markdown": "\nA data.frame: 3 × 6\n\n| Step &lt;I&lt;chr&gt;&gt; | Df &lt;dbl&gt; | Deviance &lt;dbl&gt; | Resid. Df &lt;dbl&gt; | Resid. Dev &lt;dbl&gt; | AIC &lt;dbl&gt; |\n|---|---|---|---|---|---|\n| <!----> | NA |         NA | 469 | 6320.865 | 1295.031 |\n| - chas  |  1 |  0.6261633 | 470 | 6321.491 | 1293.079 |\n| - indus |  1 | 10.9964825 | 471 | 6332.487 | 1291.931 |\n\n",
            "text/html": [
              "<table class=\"dataframe\">\n",
              "<caption>A data.frame: 3 × 6</caption>\n",
              "<thead>\n",
              "\t<tr><th scope=col>Step</th><th scope=col>Df</th><th scope=col>Deviance</th><th scope=col>Resid. Df</th><th scope=col>Resid. Dev</th><th scope=col>AIC</th></tr>\n",
              "\t<tr><th scope=col>&lt;I&lt;chr&gt;&gt;</th><th scope=col>&lt;dbl&gt;</th><th scope=col>&lt;dbl&gt;</th><th scope=col>&lt;dbl&gt;</th><th scope=col>&lt;dbl&gt;</th><th scope=col>&lt;dbl&gt;</th></tr>\n",
              "</thead>\n",
              "<tbody>\n",
              "\t<tr><td>       </td><td>NA</td><td>        NA</td><td>469</td><td>6320.865</td><td>1295.031</td></tr>\n",
              "\t<tr><td>- chas </td><td> 1</td><td> 0.6261633</td><td>470</td><td>6321.491</td><td>1293.079</td></tr>\n",
              "\t<tr><td>- indus</td><td> 1</td><td>10.9964825</td><td>471</td><td>6332.487</td><td>1291.931</td></tr>\n",
              "</tbody>\n",
              "</table>\n"
            ]
          },
          "metadata": {
            "tags": []
          }
        }
      ]
    },
    {
      "cell_type": "code",
      "metadata": {
        "colab": {
          "base_uri": "https://localhost:8080/",
          "height": 657
        },
        "id": "N5OshaFrQZq7",
        "outputId": "c0aa25fd-709e-406b-d90b-aed39a3cad25"
      },
      "source": [
        "#후진소거법에 의해 생성된 모형 적합 결과\n",
        "summary(fit.step.back)"
      ],
      "execution_count": 28,
      "outputs": [
        {
          "output_type": "display_data",
          "data": {
            "text/plain": [
              "\n",
              "Call:\n",
              "lm(formula = medv ~ crim + zn + nox + rm + age + dis + rad + \n",
              "    tax + ptratio + black + lstat, data = boston)\n",
              "\n",
              "Residuals:\n",
              "    Min      1Q  Median      3Q     Max \n",
              "-9.5200 -2.2850 -0.4688  1.7535 15.3972 \n",
              "\n",
              "Coefficients:\n",
              "              Estimate Std. Error t value Pr(>|t|)    \n",
              "(Intercept)  30.252522   4.329907   6.987 9.64e-12 ***\n",
              "crim         -0.104568   0.025533  -4.095 4.96e-05 ***\n",
              "zn            0.045510   0.011235   4.051 5.97e-05 ***\n",
              "nox         -12.366882   2.932651  -4.217 2.97e-05 ***\n",
              "rm            3.583130   0.353644  10.132  < 2e-16 ***\n",
              "age          -0.025822   0.010514  -2.456 0.014412 *  \n",
              "dis          -1.253903   0.157029  -7.985 1.08e-14 ***\n",
              "rad2          2.387130   1.160735   2.057 0.040278 *  \n",
              "rad3          4.644091   1.062157   4.372 1.51e-05 ***\n",
              "rad4          2.608777   0.944668   2.762 0.005977 ** \n",
              "rad5          3.116933   0.960550   3.245 0.001258 ** \n",
              "rad6          1.422890   1.150280   1.237 0.216705    \n",
              "rad7          4.868388   1.240114   3.926 9.94e-05 ***\n",
              "rad8          5.872144   1.180865   4.973 9.26e-07 ***\n",
              "rad24         6.420553   1.393304   4.608 5.24e-06 ***\n",
              "tax          -0.010571   0.002792  -3.787 0.000172 ***\n",
              "ptratio      -0.837356   0.113420  -7.383 7.08e-13 ***\n",
              "black         0.007949   0.002079   3.823 0.000149 ***\n",
              "lstat        -0.357576   0.041718  -8.571  < 2e-16 ***\n",
              "---\n",
              "Signif. codes:  0 ‘***’ 0.001 ‘**’ 0.01 ‘*’ 0.05 ‘.’ 0.1 ‘ ’ 1\n",
              "\n",
              "Residual standard error: 3.667 on 471 degrees of freedom\n",
              "Multiple R-squared:  0.7907,\tAdjusted R-squared:  0.7827 \n",
              "F-statistic: 98.83 on 18 and 471 DF,  p-value: < 2.2e-16\n"
            ]
          },
          "metadata": {
            "tags": []
          }
        }
      ]
    },
    {
      "cell_type": "markdown",
      "metadata": {
        "id": "gLGRzHERPrF6"
      },
      "source": [
        "##변수선택 : 전진선택법"
      ]
    },
    {
      "cell_type": "code",
      "metadata": {
        "colab": {
          "base_uri": "https://localhost:8080/",
          "height": 194
        },
        "id": "k0OBwU62P8xf",
        "outputId": "5174e39a-d960-404f-c093-7ebf67f26938"
      },
      "source": [
        "#전진선택법\n",
        "fit.step.forward = step(fit.all, direction = \"forward\")\n",
        "fit.step.forward$anova"
      ],
      "execution_count": 29,
      "outputs": [
        {
          "output_type": "stream",
          "text": [
            "Start:  AIC=1295.03\n",
            "medv ~ crim + zn + indus + chas + nox + rm + age + dis + rad + \n",
            "    tax + ptratio + black + lstat\n",
            "\n"
          ],
          "name": "stdout"
        },
        {
          "output_type": "display_data",
          "data": {
            "text/plain": [
              "  Step Df Deviance Resid. Df Resid. Dev AIC     \n",
              "1      NA NA       469       6320.865   1295.031"
            ],
            "text/latex": "A data.frame: 1 × 6\n\\begin{tabular}{llllll}\n Step & Df & Deviance & Resid. Df & Resid. Dev & AIC\\\\\n <I<chr>> & <dbl> & <dbl> & <dbl> & <dbl> & <dbl>\\\\\n\\hline\n\t  & NA & NA & 469 & 6320.865 & 1295.031\\\\\n\\end{tabular}\n",
            "text/markdown": "\nA data.frame: 1 × 6\n\n| Step &lt;I&lt;chr&gt;&gt; | Df &lt;dbl&gt; | Deviance &lt;dbl&gt; | Resid. Df &lt;dbl&gt; | Resid. Dev &lt;dbl&gt; | AIC &lt;dbl&gt; |\n|---|---|---|---|---|---|\n| <!----> | NA | NA | 469 | 6320.865 | 1295.031 |\n\n",
            "text/html": [
              "<table class=\"dataframe\">\n",
              "<caption>A data.frame: 1 × 6</caption>\n",
              "<thead>\n",
              "\t<tr><th scope=col>Step</th><th scope=col>Df</th><th scope=col>Deviance</th><th scope=col>Resid. Df</th><th scope=col>Resid. Dev</th><th scope=col>AIC</th></tr>\n",
              "\t<tr><th scope=col>&lt;I&lt;chr&gt;&gt;</th><th scope=col>&lt;dbl&gt;</th><th scope=col>&lt;dbl&gt;</th><th scope=col>&lt;dbl&gt;</th><th scope=col>&lt;dbl&gt;</th><th scope=col>&lt;dbl&gt;</th></tr>\n",
              "</thead>\n",
              "<tbody>\n",
              "\t<tr><td></td><td>NA</td><td>NA</td><td>469</td><td>6320.865</td><td>1295.031</td></tr>\n",
              "</tbody>\n",
              "</table>\n"
            ]
          },
          "metadata": {
            "tags": []
          }
        }
      ]
    },
    {
      "cell_type": "code",
      "metadata": {
        "colab": {
          "base_uri": "https://localhost:8080/",
          "height": 692
        },
        "id": "thlvRb2JQaGZ",
        "outputId": "ec6d0f49-f0ac-4f06-d4eb-9241a51b225d"
      },
      "source": [
        "#전진선택법에 의해 생성된 모형 적합 결과\n",
        "summary(fit.step.forward)"
      ],
      "execution_count": 30,
      "outputs": [
        {
          "output_type": "display_data",
          "data": {
            "text/plain": [
              "\n",
              "Call:\n",
              "lm(formula = medv ~ crim + zn + indus + chas + nox + rm + age + \n",
              "    dis + rad + tax + ptratio + black + lstat, data = boston)\n",
              "\n",
              "Residuals:\n",
              "    Min      1Q  Median      3Q     Max \n",
              "-9.5220 -2.2592 -0.4275  1.6778 15.2894 \n",
              "\n",
              "Coefficients:\n",
              "              Estimate Std. Error t value Pr(>|t|)    \n",
              "(Intercept)  30.120918   4.338656   6.942 1.29e-11 ***\n",
              "crim         -0.105648   0.025640  -4.120 4.47e-05 ***\n",
              "zn            0.044104   0.011352   3.885 0.000117 ***\n",
              "indus        -0.046743   0.051044  -0.916 0.360274    \n",
              "chas1         0.158802   0.736742   0.216 0.829435    \n",
              "nox         -11.576589   3.084187  -3.754 0.000196 ***\n",
              "rm            3.543733   0.356605   9.937  < 2e-16 ***\n",
              "age          -0.026082   0.010531  -2.477 0.013613 *  \n",
              "dis          -1.282095   0.160452  -7.991 1.05e-14 ***\n",
              "rad2          2.548109   1.175012   2.169 0.030616 *  \n",
              "rad3          4.605849   1.064492   4.327 1.85e-05 ***\n",
              "rad4          2.663393   0.950747   2.801 0.005299 ** \n",
              "rad5          3.077800   0.962725   3.197 0.001483 ** \n",
              "rad6          1.314892   1.157689   1.136 0.256624    \n",
              "rad7          4.864208   1.241760   3.917 0.000103 ***\n",
              "rad8          5.772296   1.194221   4.834 1.82e-06 ***\n",
              "rad24         6.195415   1.417826   4.370 1.53e-05 ***\n",
              "tax          -0.009396   0.003070  -3.061 0.002333 ** \n",
              "ptratio      -0.828498   0.114436  -7.240 1.85e-12 ***\n",
              "black         0.007875   0.002084   3.779 0.000178 ***\n",
              "lstat        -0.354606   0.041901  -8.463 3.36e-16 ***\n",
              "---\n",
              "Signif. codes:  0 ‘***’ 0.001 ‘**’ 0.01 ‘*’ 0.05 ‘.’ 0.1 ‘ ’ 1\n",
              "\n",
              "Residual standard error: 3.671 on 469 degrees of freedom\n",
              "Multiple R-squared:  0.7911,\tAdjusted R-squared:  0.7821 \n",
              "F-statistic: 88.78 on 20 and 469 DF,  p-value: < 2.2e-16\n"
            ]
          },
          "metadata": {
            "tags": []
          }
        }
      ]
    },
    {
      "cell_type": "markdown",
      "metadata": {
        "id": "3ZA1N-eiOSUo"
      },
      "source": [
        "##예측치 계산,관측치의 산점도(단계적선택법)\n",
        ">\n",
        "최종모형으로 목표변수의 예측치를 계산하여, 예측치와 관측치의 산점도를 그림"
      ]
    },
    {
      "cell_type": "code",
      "metadata": {
        "colab": {
          "base_uri": "https://localhost:8080/",
          "height": 51
        },
        "id": "ryUIDRFZNT3c",
        "outputId": "8002739b-9a6f-4c82-a1be-b76d52120731"
      },
      "source": [
        "#단계적선택법으로 생성됨 모형 사용\n",
        "#예측치(predictions)\n",
        "yhat = predict(fit.step.both, newdata = boston, type = \"response\")\n",
        "head(yhat)"
      ],
      "execution_count": 23,
      "outputs": [
        {
          "output_type": "display_data",
          "data": {
            "text/plain": [
              "       1        2        3        4        5        6 \n",
              "26.59831 24.00195 28.99396 29.60018 29.07676 26.41636 "
            ],
            "text/latex": "\\begin{description*}\n\\item[1] 26.5983134626011\n\\item[2] 24.0019477110981\n\\item[3] 28.9939572715744\n\\item[4] 29.6001764857432\n\\item[5] 29.0767584206083\n\\item[6] 26.4163646701588\n\\end{description*}\n",
            "text/markdown": "1\n:   26.59831346260112\n:   24.00194771109813\n:   28.99395727157444\n:   29.60017648574325\n:   29.07675842060836\n:   26.4163646701588\n\n",
            "text/html": [
              "<style>\n",
              ".dl-inline {width: auto; margin:0; padding: 0}\n",
              ".dl-inline>dt, .dl-inline>dd {float: none; width: auto; display: inline-block}\n",
              ".dl-inline>dt::after {content: \":\\0020\"; padding-right: .5ex}\n",
              ".dl-inline>dt:not(:first-of-type) {padding-left: .5ex}\n",
              "</style><dl class=dl-inline><dt>1</dt><dd>26.5983134626011</dd><dt>2</dt><dd>24.0019477110981</dd><dt>3</dt><dd>28.9939572715744</dd><dt>4</dt><dd>29.6001764857432</dd><dt>5</dt><dd>29.0767584206083</dd><dt>6</dt><dd>26.4163646701588</dd></dl>\n"
            ]
          },
          "metadata": {
            "tags": []
          }
        }
      ]
    },
    {
      "cell_type": "code",
      "metadata": {
        "colab": {
          "base_uri": "https://localhost:8080/",
          "height": 437
        },
        "id": "nfLTp23eOqsW",
        "outputId": "575aec8d-a885-4166-984b-ec47ba5e5589"
      },
      "source": [
        "#예측치와 관측치의 산점도\n",
        "plot(boston$medv, fit.step.both$fitted, xlim = c(0, 50), ylim = c(0, 50), xlab = \"Observed Values\", ylab = \"Fitted Values\")\n",
        "abline(a=0, b=1) #45도 직선"
      ],
      "execution_count": 25,
      "outputs": [
        {
          "output_type": "display_data",
          "data": {
            "image/png": "[encoded data removed]",
            "text/plain": [
              "plot without title"
            ]
          },
          "metadata": {
            "tags": [],
            "image/png": {
              "width": 420,
              "height": 420
            }
          }
        }
      ]
    },
    {
      "cell_type": "code",
      "metadata": {
        "colab": {
          "base_uri": "https://localhost:8080/",
          "height": 34
        },
        "id": "_lA-QUyyPGrh",
        "outputId": "7d7fa02a-6c8f-4eb7-af90-fab6b0e88f83"
      },
      "source": [
        "#MSE 생성\n",
        "mean((boston$medv-yhat)^2)"
      ],
      "execution_count": 26,
      "outputs": [
        {
          "output_type": "display_data",
          "data": {
            "text/plain": [
              "[1] 12.92344"
            ],
            "text/latex": "12.9234433129826",
            "text/markdown": "12.9234433129826",
            "text/html": [
              "12.9234433129826"
            ]
          },
          "metadata": {
            "tags": []
          }
        }
      ]
    },
    {
      "cell_type": "markdown",
      "metadata": {
        "id": "d5b08kGTQ-rC"
      },
      "source": [
        "#로지스틱 회귀모형(독일신용평가데이터)"
      ]
    },
    {
      "cell_type": "markdown",
      "metadata": {
        "id": "3J0HXV6VRMyn"
      },
      "source": [
        "##모형 적합 :독일신용평가데이터(모든변수사용)\n",
        "수치로 표시된 numcredits, residence, residpeaple을 범주형 변수로 변환하고, 이항형변수 y는 두개의 반응값 good과 bad를 가지는데 이를 1과 0으로 변환"
      ]
    },
    {
      "cell_type": "code",
      "metadata": {
        "colab": {
          "base_uri": "https://localhost:8080/",
          "height": 467
        },
        "id": "vnYvGKVvRLKs",
        "outputId": "6dc13703-2494-4acd-ebce-9e673276338a"
      },
      "source": [
        "#데이터 가져오기\n",
        "url_german = \"https://raw.githubusercontent.com/seunghee0518/R_File/main/%EB%8D%B0%EC%9D%B4%ED%84%B0%EB%A7%88%EC%9D%B4%EB%8B%9D/germandata.txt\"\n",
        "german = read.table(url_german, head=T)\n",
        "attach(german)\n",
        "head(german)"
      ],
      "execution_count": 34,
      "outputs": [
        {
          "output_type": "stream",
          "text": [
            "The following object is masked from boston:\n",
            "\n",
            "    age\n",
            "\n",
            "\n",
            "The following object is masked from package:MASS:\n",
            "\n",
            "    housing\n",
            "\n",
            "\n"
          ],
          "name": "stderr"
        },
        {
          "output_type": "display_data",
          "data": {
            "text/plain": [
              "  check duration history purpose credit savings employment installment personal\n",
              "1 A11    6       A34     A43     1169   A65     A75        4           A93     \n",
              "2 A12   48       A32     A43     5951   A61     A73        2           A92     \n",
              "3 A14   12       A34     A46     2096   A61     A74        2           A93     \n",
              "4 A11   42       A32     A42     7882   A61     A74        2           A93     \n",
              "5 A11   24       A33     A40     4870   A61     A73        3           A93     \n",
              "6 A14   36       A32     A46     9055   A65     A73        2           A93     \n",
              "  debtors ⋯ property age others housing numcredits job  residpeople telephone\n",
              "1 A101    ⋯ A121     67  A143   A152    2          A173 1           A192     \n",
              "2 A101    ⋯ A121     22  A143   A152    1          A173 1           A191     \n",
              "3 A101    ⋯ A121     49  A143   A152    1          A172 2           A191     \n",
              "4 A103    ⋯ A122     45  A143   A153    1          A173 2           A191     \n",
              "5 A101    ⋯ A124     53  A143   A153    2          A173 2           A191     \n",
              "6 A101    ⋯ A124     35  A143   A153    1          A172 2           A192     \n",
              "  foreign y   \n",
              "1 A201    good\n",
              "2 A201    bad \n",
              "3 A201    good\n",
              "4 A201    good\n",
              "5 A201    bad \n",
              "6 A201    good"
            ],
            "text/latex": "A data.frame: 6 × 21\n\\begin{tabular}{r|lllllllllllllllllllll}\n  & check & duration & history & purpose & credit & savings & employment & installment & personal & debtors & ⋯ & property & age & others & housing & numcredits & job & residpeople & telephone & foreign & y\\\\\n  & <chr> & <int> & <chr> & <chr> & <int> & <chr> & <chr> & <int> & <chr> & <chr> & ⋯ & <chr> & <int> & <chr> & <chr> & <int> & <chr> & <int> & <chr> & <chr> & <chr>\\\\\n\\hline\n\t1 & A11 &  6 & A34 & A43 & 1169 & A65 & A75 & 4 & A93 & A101 & ⋯ & A121 & 67 & A143 & A152 & 2 & A173 & 1 & A192 & A201 & good\\\\\n\t2 & A12 & 48 & A32 & A43 & 5951 & A61 & A73 & 2 & A92 & A101 & ⋯ & A121 & 22 & A143 & A152 & 1 & A173 & 1 & A191 & A201 & bad \\\\\n\t3 & A14 & 12 & A34 & A46 & 2096 & A61 & A74 & 2 & A93 & A101 & ⋯ & A121 & 49 & A143 & A152 & 1 & A172 & 2 & A191 & A201 & good\\\\\n\t4 & A11 & 42 & A32 & A42 & 7882 & A61 & A74 & 2 & A93 & A103 & ⋯ & A122 & 45 & A143 & A153 & 1 & A173 & 2 & A191 & A201 & good\\\\\n\t5 & A11 & 24 & A33 & A40 & 4870 & A61 & A73 & 3 & A93 & A101 & ⋯ & A124 & 53 & A143 & A153 & 2 & A173 & 2 & A191 & A201 & bad \\\\\n\t6 & A14 & 36 & A32 & A46 & 9055 & A65 & A73 & 2 & A93 & A101 & ⋯ & A124 & 35 & A143 & A153 & 1 & A172 & 2 & A192 & A201 & good\\\\\n\\end{tabular}\n",
            "text/markdown": "\nA data.frame: 6 × 21\n\n| <!--/--> | check &lt;chr&gt; | duration &lt;int&gt; | history &lt;chr&gt; | purpose &lt;chr&gt; | credit &lt;int&gt; | savings &lt;chr&gt; | employment &lt;chr&gt; | installment &lt;int&gt; | personal &lt;chr&gt; | debtors &lt;chr&gt; | ⋯ ⋯ | property &lt;chr&gt; | age &lt;int&gt; | others &lt;chr&gt; | housing &lt;chr&gt; | numcredits &lt;int&gt; | job &lt;chr&gt; | residpeople &lt;int&gt; | telephone &lt;chr&gt; | foreign &lt;chr&gt; | y &lt;chr&gt; |\n|---|---|---|---|---|---|---|---|---|---|---|---|---|---|---|---|---|---|---|---|---|---|\n| 1 | A11 |  6 | A34 | A43 | 1169 | A65 | A75 | 4 | A93 | A101 | ⋯ | A121 | 67 | A143 | A152 | 2 | A173 | 1 | A192 | A201 | good |\n| 2 | A12 | 48 | A32 | A43 | 5951 | A61 | A73 | 2 | A92 | A101 | ⋯ | A121 | 22 | A143 | A152 | 1 | A173 | 1 | A191 | A201 | bad  |\n| 3 | A14 | 12 | A34 | A46 | 2096 | A61 | A74 | 2 | A93 | A101 | ⋯ | A121 | 49 | A143 | A152 | 1 | A172 | 2 | A191 | A201 | good |\n| 4 | A11 | 42 | A32 | A42 | 7882 | A61 | A74 | 2 | A93 | A103 | ⋯ | A122 | 45 | A143 | A153 | 1 | A173 | 2 | A191 | A201 | good |\n| 5 | A11 | 24 | A33 | A40 | 4870 | A61 | A73 | 3 | A93 | A101 | ⋯ | A124 | 53 | A143 | A153 | 2 | A173 | 2 | A191 | A201 | bad  |\n| 6 | A14 | 36 | A32 | A46 | 9055 | A65 | A73 | 2 | A93 | A101 | ⋯ | A124 | 35 | A143 | A153 | 1 | A172 | 2 | A192 | A201 | good |\n\n",
            "text/html": [
              "<table class=\"dataframe\">\n",
              "<caption>A data.frame: 6 × 21</caption>\n",
              "<thead>\n",
              "\t<tr><th></th><th scope=col>check</th><th scope=col>duration</th><th scope=col>history</th><th scope=col>purpose</th><th scope=col>credit</th><th scope=col>savings</th><th scope=col>employment</th><th scope=col>installment</th><th scope=col>personal</th><th scope=col>debtors</th><th scope=col>⋯</th><th scope=col>property</th><th scope=col>age</th><th scope=col>others</th><th scope=col>housing</th><th scope=col>numcredits</th><th scope=col>job</th><th scope=col>residpeople</th><th scope=col>telephone</th><th scope=col>foreign</th><th scope=col>y</th></tr>\n",
              "\t<tr><th></th><th scope=col>&lt;chr&gt;</th><th scope=col>&lt;int&gt;</th><th scope=col>&lt;chr&gt;</th><th scope=col>&lt;chr&gt;</th><th scope=col>&lt;int&gt;</th><th scope=col>&lt;chr&gt;</th><th scope=col>&lt;chr&gt;</th><th scope=col>&lt;int&gt;</th><th scope=col>&lt;chr&gt;</th><th scope=col>&lt;chr&gt;</th><th scope=col>⋯</th><th scope=col>&lt;chr&gt;</th><th scope=col>&lt;int&gt;</th><th scope=col>&lt;chr&gt;</th><th scope=col>&lt;chr&gt;</th><th scope=col>&lt;int&gt;</th><th scope=col>&lt;chr&gt;</th><th scope=col>&lt;int&gt;</th><th scope=col>&lt;chr&gt;</th><th scope=col>&lt;chr&gt;</th><th scope=col>&lt;chr&gt;</th></tr>\n",
              "</thead>\n",
              "<tbody>\n",
              "\t<tr><th scope=row>1</th><td>A11</td><td> 6</td><td>A34</td><td>A43</td><td>1169</td><td>A65</td><td>A75</td><td>4</td><td>A93</td><td>A101</td><td>⋯</td><td>A121</td><td>67</td><td>A143</td><td>A152</td><td>2</td><td>A173</td><td>1</td><td>A192</td><td>A201</td><td>good</td></tr>\n",
              "\t<tr><th scope=row>2</th><td>A12</td><td>48</td><td>A32</td><td>A43</td><td>5951</td><td>A61</td><td>A73</td><td>2</td><td>A92</td><td>A101</td><td>⋯</td><td>A121</td><td>22</td><td>A143</td><td>A152</td><td>1</td><td>A173</td><td>1</td><td>A191</td><td>A201</td><td>bad </td></tr>\n",
              "\t<tr><th scope=row>3</th><td>A14</td><td>12</td><td>A34</td><td>A46</td><td>2096</td><td>A61</td><td>A74</td><td>2</td><td>A93</td><td>A101</td><td>⋯</td><td>A121</td><td>49</td><td>A143</td><td>A152</td><td>1</td><td>A172</td><td>2</td><td>A191</td><td>A201</td><td>good</td></tr>\n",
              "\t<tr><th scope=row>4</th><td>A11</td><td>42</td><td>A32</td><td>A42</td><td>7882</td><td>A61</td><td>A74</td><td>2</td><td>A93</td><td>A103</td><td>⋯</td><td>A122</td><td>45</td><td>A143</td><td>A153</td><td>1</td><td>A173</td><td>2</td><td>A191</td><td>A201</td><td>good</td></tr>\n",
              "\t<tr><th scope=row>5</th><td>A11</td><td>24</td><td>A33</td><td>A40</td><td>4870</td><td>A61</td><td>A73</td><td>3</td><td>A93</td><td>A101</td><td>⋯</td><td>A124</td><td>53</td><td>A143</td><td>A153</td><td>2</td><td>A173</td><td>2</td><td>A191</td><td>A201</td><td>bad </td></tr>\n",
              "\t<tr><th scope=row>6</th><td>A14</td><td>36</td><td>A32</td><td>A46</td><td>9055</td><td>A65</td><td>A73</td><td>2</td><td>A93</td><td>A101</td><td>⋯</td><td>A124</td><td>35</td><td>A143</td><td>A153</td><td>1</td><td>A172</td><td>2</td><td>A192</td><td>A201</td><td>good</td></tr>\n",
              "</tbody>\n",
              "</table>\n"
            ]
          },
          "metadata": {
            "tags": []
          }
        }
      ]
    },
    {
      "cell_type": "code",
      "metadata": {
        "id": "Lw7vONSjRnpP"
      },
      "source": [
        "#데이터 가공\n",
        "german$numcredits = factor(german$numcredits)\n",
        "german$residence = factor(german$residence)\n",
        "german$residpeople = factor(german$residpeople)\n",
        "german$y = ifelse(german$y == \"good\", 1, 0)"
      ],
      "execution_count": 35,
      "outputs": []
    },
    {
      "cell_type": "code",
      "metadata": {
        "id": "uTjcGME2Tk5Y"
      },
      "source": [
        "#로지스틱회귀모형 학습(모든 변수 사용)\n",
        "gfit.all = glm(y ~ ., family = binomial, data = german)"
      ],
      "execution_count": 46,
      "outputs": []
    },
    {
      "cell_type": "code",
      "metadata": {
        "id": "7QbC6szrT1-D"
      },
      "source": [
        "summary(gfit.all)"
      ],
      "execution_count": null,
      "outputs": []
    },
    {
      "cell_type": "markdown",
      "metadata": {
        "id": "NyKyiU7sUBOe"
      },
      "source": [
        "## 변수선택 : 단계적 선택법\n",
        "함수 step(direction = \"both\")\n",
        "어떤 변수가 제외/추가됬는지 변수선택과정보기 : 변수명$anova"
      ]
    },
    {
      "cell_type": "code",
      "metadata": {
        "colab": {
          "base_uri": "https://localhost:8080/",
          "height": 1000
        },
        "id": "3o6NNpUBUBOl",
        "outputId": "a9340b5a-766e-434e-93ca-c9ae57fc55f7"
      },
      "source": [
        "#단계적선택법\n",
        "gfit.step.both = step(gfit.all, direction = \"both\")\n",
        "gfit.step.both$anova"
      ],
      "execution_count": 48,
      "outputs": [
        {
          "output_type": "stream",
          "text": [
            "Start:  AIC=993.44\n",
            "y ~ check + duration + history + purpose + credit + savings + \n",
            "    employment + installment + personal + debtors + residence + \n",
            "    property + age + others + housing + numcredits + job + residpeople + \n",
            "    telephone + foreign\n",
            "\n",
            "              Df Deviance     AIC\n",
            "- job          3   888.00  988.00\n",
            "- numcredits   3   890.25  990.25\n",
            "- property     3   890.70  990.70\n",
            "- residpeople  1   888.52  992.52\n",
            "- age          1   889.37  993.37\n",
            "- telephone    1   889.40  993.40\n",
            "<none>             887.44  993.44\n",
            "- employment   4   895.48  993.48\n",
            "- housing      2   891.63  993.63\n",
            "- residence    3   894.74  994.74\n",
            "- debtors      2   894.80  996.80\n",
            "- others       2   895.71  997.71\n",
            "- personal     3   897.80  997.80\n",
            "- foreign      1   894.16  998.16\n",
            "- credit       1   895.07  999.07\n",
            "- duration     1   896.25 1000.25\n",
            "- installment  1   900.81 1004.81\n",
            "- savings      4   908.55 1006.55\n",
            "- history      4   911.01 1009.01\n",
            "- purpose      9   922.07 1010.07\n",
            "- check        3   957.33 1057.33\n",
            "\n",
            "Step:  AIC=988\n",
            "y ~ check + duration + history + purpose + credit + savings + \n",
            "    employment + installment + personal + debtors + residence + \n",
            "    property + age + others + housing + numcredits + residpeople + \n",
            "    telephone + foreign\n",
            "\n",
            "              Df Deviance     AIC\n",
            "- numcredits   3   890.85  984.85\n",
            "- property     3   891.21  985.21\n",
            "- residpeople  1   889.08  987.08\n",
            "- employment   4   895.67  987.67\n",
            "<none>             888.00  988.00\n",
            "- housing      2   892.01  988.01\n",
            "- age          1   890.05  988.05\n",
            "- telephone    1   890.34  988.34\n",
            "- residence    3   895.32  989.32\n",
            "- debtors      2   895.25  991.25\n",
            "- personal     3   898.31  992.31\n",
            "- others       2   896.49  992.49\n",
            "- foreign      1   894.77  992.77\n",
            "+ job          3   887.44  993.44\n",
            "- credit       1   895.72  993.72\n",
            "- duration     1   897.14  995.14\n",
            "- installment  1   901.56  999.56\n",
            "- savings      4   909.71 1001.71\n",
            "- history      4   911.44 1003.44\n",
            "- purpose      9   922.89 1004.89\n",
            "- check        3   957.60 1051.60\n",
            "\n",
            "Step:  AIC=984.85\n",
            "y ~ check + duration + history + purpose + credit + savings + \n",
            "    employment + installment + personal + debtors + residence + \n",
            "    property + age + others + housing + residpeople + telephone + \n",
            "    foreign\n",
            "\n",
            "              Df Deviance     AIC\n",
            "- property     3   894.03  982.03\n",
            "- employment   4   898.02  984.02\n",
            "- residpeople  1   892.07  984.07\n",
            "- age          1   892.85  984.85\n",
            "<none>             890.85  984.85\n",
            "- housing      2   895.09  985.09\n",
            "- telephone    1   893.29  985.29\n",
            "- residence    3   898.52  986.52\n",
            "+ numcredits   3   888.00  988.00\n",
            "- debtors      2   898.27  988.27\n",
            "- personal     3   901.17  989.17\n",
            "- others       2   899.85  989.85\n",
            "- foreign      1   898.00  990.00\n",
            "+ job          3   890.25  990.25\n",
            "- credit       1   898.64  990.64\n",
            "- duration     1   899.76  991.76\n",
            "- installment  1   904.66  996.66\n",
            "- history      4   911.95  997.95\n",
            "- savings      4   912.53  998.53\n",
            "- purpose      9   926.15 1002.15\n",
            "- check        3   959.38 1047.38\n",
            "\n",
            "Step:  AIC=982.03\n",
            "y ~ check + duration + history + purpose + credit + savings + \n",
            "    employment + installment + personal + debtors + residence + \n",
            "    age + others + housing + residpeople + telephone + foreign\n",
            "\n",
            "              Df Deviance     AIC\n",
            "- residpeople  1   895.11  981.11\n",
            "- employment   4   901.94  981.94\n",
            "- telephone    1   895.95  981.95\n",
            "<none>             894.03  982.03\n",
            "- age          1   896.10  982.10\n",
            "- housing      2   898.15  982.15\n",
            "- residence    3   901.53  983.53\n",
            "+ property     3   890.85  984.85\n",
            "+ numcredits   3   891.21  985.21\n",
            "- personal     3   903.97  985.97\n",
            "- debtors      2   902.35  986.35\n",
            "- foreign      1   901.07  987.07\n",
            "+ job          3   893.45  987.45\n",
            "- others       2   903.55  987.55\n",
            "- credit       1   902.94  988.94\n",
            "- duration     1   903.85  989.85\n",
            "- installment  1   908.62  994.62\n",
            "- savings      4   915.22  995.22\n",
            "- history      4   915.59  995.59\n",
            "- purpose      9   930.66 1000.66\n",
            "- check        3   964.51 1046.51\n",
            "\n",
            "Step:  AIC=981.11\n",
            "y ~ check + duration + history + purpose + credit + savings + \n",
            "    employment + installment + personal + debtors + residence + \n",
            "    age + others + housing + telephone + foreign\n",
            "\n",
            "              Df Deviance     AIC\n",
            "- employment   4   903.04  981.04\n",
            "- age          1   897.04  981.04\n",
            "<none>             895.11  981.11\n",
            "- telephone    1   897.12  981.12\n",
            "- housing      2   899.31  981.31\n",
            "+ residpeople  1   894.03  982.03\n",
            "- residence    3   902.80  982.80\n",
            "- personal     3   904.04  984.04\n",
            "+ property     3   892.07  984.07\n",
            "+ numcredits   3   892.19  984.19\n",
            "- debtors      2   903.15  985.15\n",
            "- foreign      1   902.06  986.06\n",
            "+ job          3   894.59  986.59\n",
            "- others       2   904.70  986.70\n",
            "- credit       1   903.73  987.73\n",
            "- duration     1   904.80  988.80\n",
            "- installment  1   909.03  993.03\n",
            "- savings      4   916.06  994.06\n",
            "- history      4   916.94  994.94\n",
            "- purpose      9   932.01 1000.01\n",
            "- check        3   965.87 1045.87\n",
            "\n",
            "Step:  AIC=981.04\n",
            "y ~ check + duration + history + purpose + credit + savings + \n",
            "    installment + personal + debtors + residence + age + others + \n",
            "    housing + telephone + foreign\n",
            "\n",
            "              Df Deviance     AIC\n",
            "- age          1   904.91  980.91\n",
            "<none>             903.04  981.04\n",
            "+ employment   4   895.11  981.11\n",
            "- telephone    1   905.28  981.28\n",
            "- housing      2   907.58  981.58\n",
            "+ residpeople  1   901.94  981.94\n",
            "- residence    3   910.50  982.50\n",
            "+ property     3   899.28  983.28\n",
            "+ numcredits   3   900.64  984.64\n",
            "- foreign      1   909.67  985.67\n",
            "- debtors      2   912.24  986.24\n",
            "+ job          3   902.89  986.89\n",
            "- personal     3   915.04  987.04\n",
            "- others       2   913.21  987.21\n",
            "- duration     1   911.34  987.34\n",
            "- credit       1   911.50  987.50\n",
            "- installment  1   917.92  993.92\n",
            "- savings      4   925.25  995.25\n",
            "- history      4   925.74  995.74\n",
            "- purpose      9   939.70  999.70\n",
            "- check        3   975.57 1047.57\n",
            "\n",
            "Step:  AIC=980.91\n",
            "y ~ check + duration + history + purpose + credit + savings + \n",
            "    installment + personal + debtors + residence + others + housing + \n",
            "    telephone + foreign\n",
            "\n",
            "              Df Deviance     AIC\n",
            "<none>             904.91  980.91\n",
            "+ age          1   903.04  981.04\n",
            "+ employment   4   897.04  981.04\n",
            "- telephone    1   907.69  981.69\n",
            "+ residpeople  1   903.95  981.95\n",
            "- housing      2   910.11  982.11\n",
            "- residence    3   912.96  982.96\n",
            "+ property     3   901.18  983.18\n",
            "+ numcredits   3   902.60  984.60\n",
            "- foreign      1   911.56  985.56\n",
            "- debtors      2   914.35  986.35\n",
            "- others       2   914.61  986.61\n",
            "+ job          3   904.63  986.63\n",
            "- credit       1   913.18  987.18\n",
            "- personal     3   917.50  987.50\n",
            "- duration     1   914.06  988.06\n",
            "- installment  1   919.35  993.35\n",
            "- savings      4   927.70  995.70\n",
            "- history      4   928.79  996.79\n",
            "- purpose      9   940.82  998.82\n",
            "- check        3   978.40 1048.40\n"
          ],
          "name": "stdout"
        },
        {
          "output_type": "display_data",
          "data": {
            "text/plain": [
              "  Step          Df Deviance  Resid. Df Resid. Dev AIC     \n",
              "1               NA        NA 947       887.4372   993.4372\n",
              "2 - job          3 0.5588674 950       887.9960   987.9960\n",
              "3 - numcredits   3 2.8582392 953       890.8543   984.8543\n",
              "4 - property     3 3.1777611 956       894.0320   982.0320\n",
              "5 - residpeople  1 1.0747973 957       895.1068   981.1068\n",
              "6 - employment   4 7.9298736 961       903.0367   981.0367\n",
              "7 - age          1 1.8704615 962       904.9072   980.9072"
            ],
            "text/latex": "A data.frame: 7 × 6\n\\begin{tabular}{llllll}\n Step & Df & Deviance & Resid. Df & Resid. Dev & AIC\\\\\n <I<chr>> & <dbl> & <dbl> & <dbl> & <dbl> & <dbl>\\\\\n\\hline\n\t               & NA &        NA & 947 & 887.4372 & 993.4372\\\\\n\t - job         &  3 & 0.5588674 & 950 & 887.9960 & 987.9960\\\\\n\t - numcredits  &  3 & 2.8582392 & 953 & 890.8543 & 984.8543\\\\\n\t - property    &  3 & 3.1777611 & 956 & 894.0320 & 982.0320\\\\\n\t - residpeople &  1 & 1.0747973 & 957 & 895.1068 & 981.1068\\\\\n\t - employment  &  4 & 7.9298736 & 961 & 903.0367 & 981.0367\\\\\n\t - age         &  1 & 1.8704615 & 962 & 904.9072 & 980.9072\\\\\n\\end{tabular}\n",
            "text/markdown": "\nA data.frame: 7 × 6\n\n| Step &lt;I&lt;chr&gt;&gt; | Df &lt;dbl&gt; | Deviance &lt;dbl&gt; | Resid. Df &lt;dbl&gt; | Resid. Dev &lt;dbl&gt; | AIC &lt;dbl&gt; |\n|---|---|---|---|---|---|\n| <!----> | NA |        NA | 947 | 887.4372 | 993.4372 |\n| - job         |  3 | 0.5588674 | 950 | 887.9960 | 987.9960 |\n| - numcredits  |  3 | 2.8582392 | 953 | 890.8543 | 984.8543 |\n| - property    |  3 | 3.1777611 | 956 | 894.0320 | 982.0320 |\n| - residpeople |  1 | 1.0747973 | 957 | 895.1068 | 981.1068 |\n| - employment  |  4 | 7.9298736 | 961 | 903.0367 | 981.0367 |\n| - age         |  1 | 1.8704615 | 962 | 904.9072 | 980.9072 |\n\n",
            "text/html": [
              "<table class=\"dataframe\">\n",
              "<caption>A data.frame: 7 × 6</caption>\n",
              "<thead>\n",
              "\t<tr><th scope=col>Step</th><th scope=col>Df</th><th scope=col>Deviance</th><th scope=col>Resid. Df</th><th scope=col>Resid. Dev</th><th scope=col>AIC</th></tr>\n",
              "\t<tr><th scope=col>&lt;I&lt;chr&gt;&gt;</th><th scope=col>&lt;dbl&gt;</th><th scope=col>&lt;dbl&gt;</th><th scope=col>&lt;dbl&gt;</th><th scope=col>&lt;dbl&gt;</th><th scope=col>&lt;dbl&gt;</th></tr>\n",
              "</thead>\n",
              "<tbody>\n",
              "\t<tr><td>             </td><td>NA</td><td>       NA</td><td>947</td><td>887.4372</td><td>993.4372</td></tr>\n",
              "\t<tr><td>- job        </td><td> 3</td><td>0.5588674</td><td>950</td><td>887.9960</td><td>987.9960</td></tr>\n",
              "\t<tr><td>- numcredits </td><td> 3</td><td>2.8582392</td><td>953</td><td>890.8543</td><td>984.8543</td></tr>\n",
              "\t<tr><td>- property   </td><td> 3</td><td>3.1777611</td><td>956</td><td>894.0320</td><td>982.0320</td></tr>\n",
              "\t<tr><td>- residpeople</td><td> 1</td><td>1.0747973</td><td>957</td><td>895.1068</td><td>981.1068</td></tr>\n",
              "\t<tr><td>- employment </td><td> 4</td><td>7.9298736</td><td>961</td><td>903.0367</td><td>981.0367</td></tr>\n",
              "\t<tr><td>- age        </td><td> 1</td><td>1.8704615</td><td>962</td><td>904.9072</td><td>980.9072</td></tr>\n",
              "</tbody>\n",
              "</table>\n"
            ]
          },
          "metadata": {
            "tags": []
          }
        }
      ]
    },
    {
      "cell_type": "markdown",
      "metadata": {
        "id": "HVqqe7pxUBOl"
      },
      "source": [
        ">해석\n",
        "2단계 : job제외\n",
        "3단계 : numcredits제외\n",
        "4단계 : property제외\n",
        "5단계 : residpeople\n",
        "6단계 : age\n",
        "7단계 : employment"
      ]
    },
    {
      "cell_type": "code",
      "metadata": {
        "colab": {
          "base_uri": "https://localhost:8080/",
          "height": 1000
        },
        "id": "md0ApfwVUBOl",
        "outputId": "6b4dd32f-706c-42fe-dc49-9fcb9a61aca5"
      },
      "source": [
        "#단계적선택법에 의해 생성된 모형 적합 결과\n",
        "summary(gfit.step.both)"
      ],
      "execution_count": 49,
      "outputs": [
        {
          "output_type": "display_data",
          "data": {
            "text/plain": [
              "\n",
              "Call:\n",
              "glm(formula = y ~ check + duration + history + purpose + credit + \n",
              "    savings + installment + personal + debtors + residence + \n",
              "    others + housing + telephone + foreign, family = binomial, \n",
              "    data = german)\n",
              "\n",
              "Deviance Residuals: \n",
              "    Min       1Q   Median       3Q      Max  \n",
              "-2.7904  -0.7290   0.3885   0.6911   2.1780  \n",
              "\n",
              "Coefficients:\n",
              "                Estimate Std. Error z value Pr(>|z|)    \n",
              "(Intercept)   -9.736e-01  7.032e-01  -1.385 0.166204    \n",
              "checkA12       3.863e-01  2.136e-01   1.809 0.070468 .  \n",
              "checkA13       1.055e+00  3.636e-01   2.902 0.003714 ** \n",
              "checkA14       1.782e+00  2.308e-01   7.721 1.15e-14 ***\n",
              "duration      -2.726e-02  9.034e-03  -3.018 0.002546 ** \n",
              "historyA31     1.290e-01  5.297e-01   0.244 0.807596    \n",
              "historyA32     8.608e-01  4.104e-01   2.097 0.035956 *  \n",
              "historyA33     9.975e-01  4.675e-01   2.133 0.032889 *  \n",
              "historyA34     1.564e+00  4.329e-01   3.612 0.000303 ***\n",
              "purposeA41     1.591e+00  3.684e-01   4.320 1.56e-05 ***\n",
              "purposeA410    1.397e+00  7.732e-01   1.806 0.070849 .  \n",
              "purposeA42     6.766e-01  2.529e-01   2.675 0.007467 ** \n",
              "purposeA43     8.867e-01  2.443e-01   3.629 0.000284 ***\n",
              "purposeA44     5.231e-01  7.546e-01   0.693 0.488206    \n",
              "purposeA45     1.335e-01  5.388e-01   0.248 0.804301    \n",
              "purposeA46    -2.006e-01  3.883e-01  -0.517 0.605426    \n",
              "purposeA48     2.060e+00  1.202e+00   1.714 0.086523 .  \n",
              "purposeA49     7.396e-01  3.318e-01   2.229 0.025820 *  \n",
              "credit        -1.230e-04  4.314e-05  -2.852 0.004351 ** \n",
              "savingsA62     3.126e-01  2.805e-01   1.115 0.264984    \n",
              "savingsA63     4.303e-01  3.887e-01   1.107 0.268291    \n",
              "savingsA64     1.396e+00  5.184e-01   2.692 0.007106 ** \n",
              "savingsA65     1.004e+00  2.606e-01   3.852 0.000117 ***\n",
              "installment   -3.218e-01  8.621e-02  -3.733 0.000189 ***\n",
              "personalA92    2.159e-01  3.754e-01   0.575 0.565268    \n",
              "personalA93    8.302e-01  3.672e-01   2.261 0.023766 *  \n",
              "personalA94    3.551e-01  4.434e-01   0.801 0.423122    \n",
              "debtorsA102   -4.978e-01  4.005e-01  -1.243 0.213967    \n",
              "debtorsA103    1.074e+00  4.205e-01   2.555 0.010628 *  \n",
              "residence2    -7.181e-01  2.796e-01  -2.568 0.010223 *  \n",
              "residence3    -3.929e-01  3.246e-01  -1.210 0.226104    \n",
              "residence4    -2.893e-01  2.806e-01  -1.031 0.302546    \n",
              "othersA142     5.959e-02  4.061e-01   0.147 0.883344    \n",
              "othersA143     6.787e-01  2.355e-01   2.882 0.003955 ** \n",
              "housingA152    5.098e-01  2.271e-01   2.245 0.024799 *  \n",
              "housingA153    2.464e-01  3.288e-01   0.749 0.453710    \n",
              "telephoneA192  3.051e-01  1.838e-01   1.660 0.096958 .  \n",
              "foreignA202    1.439e+00  6.253e-01   2.301 0.021383 *  \n",
              "---\n",
              "Signif. codes:  0 ‘***’ 0.001 ‘**’ 0.01 ‘*’ 0.05 ‘.’ 0.1 ‘ ’ 1\n",
              "\n",
              "(Dispersion parameter for binomial family taken to be 1)\n",
              "\n",
              "    Null deviance: 1221.73  on 999  degrees of freedom\n",
              "Residual deviance:  904.91  on 962  degrees of freedom\n",
              "AIC: 980.91\n",
              "\n",
              "Number of Fisher Scoring iterations: 5\n"
            ]
          },
          "metadata": {
            "tags": []
          }
        }
      ]
    },
    {
      "cell_type": "markdown",
      "metadata": {
        "id": "COnUNUSnWIV2"
      },
      "source": [
        ">해석\n",
        "1. 입력변수check(당좌예금계좌)는 4개의 범주(계좌없음/잔액없음/잔액200이하/잔액200이상)이므로 3개의 가변수가 생성됨\n",
        "2. 추정된 회귀계수는 모두 양수임\n",
        "3. 기준범주(계좌없음)에 비해 다른 범주에 속할 때 신용이 좋을 확률(Y=1)이 더 높다고 할 수 있음\n",
        "4. 또한 다른 입력변수가 일정할 때, check의 기준범주에 비해 3개 범주는 각각 exp(0.3863) = 1.472, exp(1.055)=2.872, exp(1.782)=5.942배 오즈가 증가함\n",
        "5. 연속형 입력변수 duration(대출기간)은 음의 회귀계수를 가지므로 대출기간이 증가할 수록 신용이 낮아짐\n",
        "6. 대출기간이 한달 증가할 때마다 오즈가 exp(0.0726)=1.075배 줄어듬\n",
        "7. Null deviance는 상수항만 가진 모형의 이탈도\n",
        "8. Residual deviance는 최종모형의 이탈도를 의미함\n",
        "9. 최종모형의 AIC는 980.91임"
      ]
    },
    {
      "cell_type": "markdown",
      "metadata": {
        "id": "7Hoi86kwUBOm"
      },
      "source": [
        "##변수선택 : 후진소거법"
      ]
    },
    {
      "cell_type": "code",
      "metadata": {
        "colab": {
          "base_uri": "https://localhost:8080/",
          "height": 1000
        },
        "id": "3kbWXSVTUBOm",
        "outputId": "d49fc9ff-ebc5-4ef3-b8b2-2e1f8b4940e7"
      },
      "source": [
        "#후진소거법\n",
        "gfit.step.back = step(gfit.all, direction = \"backward\")\n",
        "gfit.step.back$anova"
      ],
      "execution_count": 50,
      "outputs": [
        {
          "output_type": "stream",
          "text": [
            "Start:  AIC=993.44\n",
            "y ~ check + duration + history + purpose + credit + savings + \n",
            "    employment + installment + personal + debtors + residence + \n",
            "    property + age + others + housing + numcredits + job + residpeople + \n",
            "    telephone + foreign\n",
            "\n",
            "              Df Deviance     AIC\n",
            "- job          3   888.00  988.00\n",
            "- numcredits   3   890.25  990.25\n",
            "- property     3   890.70  990.70\n",
            "- residpeople  1   888.52  992.52\n",
            "- age          1   889.37  993.37\n",
            "- telephone    1   889.40  993.40\n",
            "<none>             887.44  993.44\n",
            "- employment   4   895.48  993.48\n",
            "- housing      2   891.63  993.63\n",
            "- residence    3   894.74  994.74\n",
            "- debtors      2   894.80  996.80\n",
            "- others       2   895.71  997.71\n",
            "- personal     3   897.80  997.80\n",
            "- foreign      1   894.16  998.16\n",
            "- credit       1   895.07  999.07\n",
            "- duration     1   896.25 1000.25\n",
            "- installment  1   900.81 1004.81\n",
            "- savings      4   908.55 1006.55\n",
            "- history      4   911.01 1009.01\n",
            "- purpose      9   922.07 1010.07\n",
            "- check        3   957.33 1057.33\n",
            "\n",
            "Step:  AIC=988\n",
            "y ~ check + duration + history + purpose + credit + savings + \n",
            "    employment + installment + personal + debtors + residence + \n",
            "    property + age + others + housing + numcredits + residpeople + \n",
            "    telephone + foreign\n",
            "\n",
            "              Df Deviance     AIC\n",
            "- numcredits   3   890.85  984.85\n",
            "- property     3   891.21  985.21\n",
            "- residpeople  1   889.08  987.08\n",
            "- employment   4   895.67  987.67\n",
            "<none>             888.00  988.00\n",
            "- housing      2   892.01  988.01\n",
            "- age          1   890.05  988.05\n",
            "- telephone    1   890.34  988.34\n",
            "- residence    3   895.32  989.32\n",
            "- debtors      2   895.25  991.25\n",
            "- personal     3   898.31  992.31\n",
            "- others       2   896.49  992.49\n",
            "- foreign      1   894.77  992.77\n",
            "- credit       1   895.72  993.72\n",
            "- duration     1   897.14  995.14\n",
            "- installment  1   901.56  999.56\n",
            "- savings      4   909.71 1001.71\n",
            "- history      4   911.44 1003.44\n",
            "- purpose      9   922.89 1004.89\n",
            "- check        3   957.60 1051.60\n",
            "\n",
            "Step:  AIC=984.85\n",
            "y ~ check + duration + history + purpose + credit + savings + \n",
            "    employment + installment + personal + debtors + residence + \n",
            "    property + age + others + housing + residpeople + telephone + \n",
            "    foreign\n",
            "\n",
            "              Df Deviance     AIC\n",
            "- property     3   894.03  982.03\n",
            "- employment   4   898.02  984.02\n",
            "- residpeople  1   892.07  984.07\n",
            "- age          1   892.85  984.85\n",
            "<none>             890.85  984.85\n",
            "- housing      2   895.09  985.09\n",
            "- telephone    1   893.29  985.29\n",
            "- residence    3   898.52  986.52\n",
            "- debtors      2   898.27  988.27\n",
            "- personal     3   901.17  989.17\n",
            "- others       2   899.85  989.85\n",
            "- foreign      1   898.00  990.00\n",
            "- credit       1   898.64  990.64\n",
            "- duration     1   899.76  991.76\n",
            "- installment  1   904.66  996.66\n",
            "- history      4   911.95  997.95\n",
            "- savings      4   912.53  998.53\n",
            "- purpose      9   926.15 1002.15\n",
            "- check        3   959.38 1047.38\n",
            "\n",
            "Step:  AIC=982.03\n",
            "y ~ check + duration + history + purpose + credit + savings + \n",
            "    employment + installment + personal + debtors + residence + \n",
            "    age + others + housing + residpeople + telephone + foreign\n",
            "\n",
            "              Df Deviance     AIC\n",
            "- residpeople  1   895.11  981.11\n",
            "- employment   4   901.94  981.94\n",
            "- telephone    1   895.95  981.95\n",
            "<none>             894.03  982.03\n",
            "- age          1   896.10  982.10\n",
            "- housing      2   898.15  982.15\n",
            "- residence    3   901.53  983.53\n",
            "- personal     3   903.97  985.97\n",
            "- debtors      2   902.35  986.35\n",
            "- foreign      1   901.07  987.07\n",
            "- others       2   903.55  987.55\n",
            "- credit       1   902.94  988.94\n",
            "- duration     1   903.85  989.85\n",
            "- installment  1   908.62  994.62\n",
            "- savings      4   915.22  995.22\n",
            "- history      4   915.59  995.59\n",
            "- purpose      9   930.66 1000.66\n",
            "- check        3   964.51 1046.51\n",
            "\n",
            "Step:  AIC=981.11\n",
            "y ~ check + duration + history + purpose + credit + savings + \n",
            "    employment + installment + personal + debtors + residence + \n",
            "    age + others + housing + telephone + foreign\n",
            "\n",
            "              Df Deviance     AIC\n",
            "- employment   4   903.04  981.04\n",
            "- age          1   897.04  981.04\n",
            "<none>             895.11  981.11\n",
            "- telephone    1   897.12  981.12\n",
            "- housing      2   899.31  981.31\n",
            "- residence    3   902.80  982.80\n",
            "- personal     3   904.04  984.04\n",
            "- debtors      2   903.15  985.15\n",
            "- foreign      1   902.06  986.06\n",
            "- others       2   904.70  986.70\n",
            "- credit       1   903.73  987.73\n",
            "- duration     1   904.80  988.80\n",
            "- installment  1   909.03  993.03\n",
            "- savings      4   916.06  994.06\n",
            "- history      4   916.94  994.94\n",
            "- purpose      9   932.01 1000.01\n",
            "- check        3   965.87 1045.87\n",
            "\n",
            "Step:  AIC=981.04\n",
            "y ~ check + duration + history + purpose + credit + savings + \n",
            "    installment + personal + debtors + residence + age + others + \n",
            "    housing + telephone + foreign\n",
            "\n",
            "              Df Deviance     AIC\n",
            "- age          1   904.91  980.91\n",
            "<none>             903.04  981.04\n",
            "- telephone    1   905.28  981.28\n",
            "- housing      2   907.58  981.58\n",
            "- residence    3   910.50  982.50\n",
            "- foreign      1   909.67  985.67\n",
            "- debtors      2   912.24  986.24\n",
            "- personal     3   915.04  987.04\n",
            "- others       2   913.21  987.21\n",
            "- duration     1   911.34  987.34\n",
            "- credit       1   911.50  987.50\n",
            "- installment  1   917.92  993.92\n",
            "- savings      4   925.25  995.25\n",
            "- history      4   925.74  995.74\n",
            "- purpose      9   939.70  999.70\n",
            "- check        3   975.57 1047.57\n",
            "\n",
            "Step:  AIC=980.91\n",
            "y ~ check + duration + history + purpose + credit + savings + \n",
            "    installment + personal + debtors + residence + others + housing + \n",
            "    telephone + foreign\n",
            "\n",
            "              Df Deviance     AIC\n",
            "<none>             904.91  980.91\n",
            "- telephone    1   907.69  981.69\n",
            "- housing      2   910.11  982.11\n",
            "- residence    3   912.96  982.96\n",
            "- foreign      1   911.56  985.56\n",
            "- debtors      2   914.35  986.35\n",
            "- others       2   914.61  986.61\n",
            "- credit       1   913.18  987.18\n",
            "- personal     3   917.50  987.50\n",
            "- duration     1   914.06  988.06\n",
            "- installment  1   919.35  993.35\n",
            "- savings      4   927.70  995.70\n",
            "- history      4   928.79  996.79\n",
            "- purpose      9   940.82  998.82\n",
            "- check        3   978.40 1048.40\n"
          ],
          "name": "stdout"
        },
        {
          "output_type": "display_data",
          "data": {
            "text/plain": [
              "  Step          Df Deviance  Resid. Df Resid. Dev AIC     \n",
              "1               NA        NA 947       887.4372   993.4372\n",
              "2 - job          3 0.5588674 950       887.9960   987.9960\n",
              "3 - numcredits   3 2.8582392 953       890.8543   984.8543\n",
              "4 - property     3 3.1777611 956       894.0320   982.0320\n",
              "5 - residpeople  1 1.0747973 957       895.1068   981.1068\n",
              "6 - employment   4 7.9298736 961       903.0367   981.0367\n",
              "7 - age          1 1.8704615 962       904.9072   980.9072"
            ],
            "text/latex": "A data.frame: 7 × 6\n\\begin{tabular}{llllll}\n Step & Df & Deviance & Resid. Df & Resid. Dev & AIC\\\\\n <I<chr>> & <dbl> & <dbl> & <dbl> & <dbl> & <dbl>\\\\\n\\hline\n\t               & NA &        NA & 947 & 887.4372 & 993.4372\\\\\n\t - job         &  3 & 0.5588674 & 950 & 887.9960 & 987.9960\\\\\n\t - numcredits  &  3 & 2.8582392 & 953 & 890.8543 & 984.8543\\\\\n\t - property    &  3 & 3.1777611 & 956 & 894.0320 & 982.0320\\\\\n\t - residpeople &  1 & 1.0747973 & 957 & 895.1068 & 981.1068\\\\\n\t - employment  &  4 & 7.9298736 & 961 & 903.0367 & 981.0367\\\\\n\t - age         &  1 & 1.8704615 & 962 & 904.9072 & 980.9072\\\\\n\\end{tabular}\n",
            "text/markdown": "\nA data.frame: 7 × 6\n\n| Step &lt;I&lt;chr&gt;&gt; | Df &lt;dbl&gt; | Deviance &lt;dbl&gt; | Resid. Df &lt;dbl&gt; | Resid. Dev &lt;dbl&gt; | AIC &lt;dbl&gt; |\n|---|---|---|---|---|---|\n| <!----> | NA |        NA | 947 | 887.4372 | 993.4372 |\n| - job         |  3 | 0.5588674 | 950 | 887.9960 | 987.9960 |\n| - numcredits  |  3 | 2.8582392 | 953 | 890.8543 | 984.8543 |\n| - property    |  3 | 3.1777611 | 956 | 894.0320 | 982.0320 |\n| - residpeople |  1 | 1.0747973 | 957 | 895.1068 | 981.1068 |\n| - employment  |  4 | 7.9298736 | 961 | 903.0367 | 981.0367 |\n| - age         |  1 | 1.8704615 | 962 | 904.9072 | 980.9072 |\n\n",
            "text/html": [
              "<table class=\"dataframe\">\n",
              "<caption>A data.frame: 7 × 6</caption>\n",
              "<thead>\n",
              "\t<tr><th scope=col>Step</th><th scope=col>Df</th><th scope=col>Deviance</th><th scope=col>Resid. Df</th><th scope=col>Resid. Dev</th><th scope=col>AIC</th></tr>\n",
              "\t<tr><th scope=col>&lt;I&lt;chr&gt;&gt;</th><th scope=col>&lt;dbl&gt;</th><th scope=col>&lt;dbl&gt;</th><th scope=col>&lt;dbl&gt;</th><th scope=col>&lt;dbl&gt;</th><th scope=col>&lt;dbl&gt;</th></tr>\n",
              "</thead>\n",
              "<tbody>\n",
              "\t<tr><td>             </td><td>NA</td><td>       NA</td><td>947</td><td>887.4372</td><td>993.4372</td></tr>\n",
              "\t<tr><td>- job        </td><td> 3</td><td>0.5588674</td><td>950</td><td>887.9960</td><td>987.9960</td></tr>\n",
              "\t<tr><td>- numcredits </td><td> 3</td><td>2.8582392</td><td>953</td><td>890.8543</td><td>984.8543</td></tr>\n",
              "\t<tr><td>- property   </td><td> 3</td><td>3.1777611</td><td>956</td><td>894.0320</td><td>982.0320</td></tr>\n",
              "\t<tr><td>- residpeople</td><td> 1</td><td>1.0747973</td><td>957</td><td>895.1068</td><td>981.1068</td></tr>\n",
              "\t<tr><td>- employment </td><td> 4</td><td>7.9298736</td><td>961</td><td>903.0367</td><td>981.0367</td></tr>\n",
              "\t<tr><td>- age        </td><td> 1</td><td>1.8704615</td><td>962</td><td>904.9072</td><td>980.9072</td></tr>\n",
              "</tbody>\n",
              "</table>\n"
            ]
          },
          "metadata": {
            "tags": []
          }
        }
      ]
    },
    {
      "cell_type": "code",
      "metadata": {
        "colab": {
          "base_uri": "https://localhost:8080/",
          "height": 1000
        },
        "id": "jx-yHembUBOm",
        "outputId": "cd6fa1ef-1c6f-44c8-a1ae-2c70d58b2161"
      },
      "source": [
        "#후진소거법에 의해 생성된 모형 적합 결과\n",
        "summary(gfit.step.back)"
      ],
      "execution_count": 51,
      "outputs": [
        {
          "output_type": "display_data",
          "data": {
            "text/plain": [
              "\n",
              "Call:\n",
              "glm(formula = y ~ check + duration + history + purpose + credit + \n",
              "    savings + installment + personal + debtors + residence + \n",
              "    others + housing + telephone + foreign, family = binomial, \n",
              "    data = german)\n",
              "\n",
              "Deviance Residuals: \n",
              "    Min       1Q   Median       3Q      Max  \n",
              "-2.7904  -0.7290   0.3885   0.6911   2.1780  \n",
              "\n",
              "Coefficients:\n",
              "                Estimate Std. Error z value Pr(>|z|)    \n",
              "(Intercept)   -9.736e-01  7.032e-01  -1.385 0.166204    \n",
              "checkA12       3.863e-01  2.136e-01   1.809 0.070468 .  \n",
              "checkA13       1.055e+00  3.636e-01   2.902 0.003714 ** \n",
              "checkA14       1.782e+00  2.308e-01   7.721 1.15e-14 ***\n",
              "duration      -2.726e-02  9.034e-03  -3.018 0.002546 ** \n",
              "historyA31     1.290e-01  5.297e-01   0.244 0.807596    \n",
              "historyA32     8.608e-01  4.104e-01   2.097 0.035956 *  \n",
              "historyA33     9.975e-01  4.675e-01   2.133 0.032889 *  \n",
              "historyA34     1.564e+00  4.329e-01   3.612 0.000303 ***\n",
              "purposeA41     1.591e+00  3.684e-01   4.320 1.56e-05 ***\n",
              "purposeA410    1.397e+00  7.732e-01   1.806 0.070849 .  \n",
              "purposeA42     6.766e-01  2.529e-01   2.675 0.007467 ** \n",
              "purposeA43     8.867e-01  2.443e-01   3.629 0.000284 ***\n",
              "purposeA44     5.231e-01  7.546e-01   0.693 0.488206    \n",
              "purposeA45     1.335e-01  5.388e-01   0.248 0.804301    \n",
              "purposeA46    -2.006e-01  3.883e-01  -0.517 0.605426    \n",
              "purposeA48     2.060e+00  1.202e+00   1.714 0.086523 .  \n",
              "purposeA49     7.396e-01  3.318e-01   2.229 0.025820 *  \n",
              "credit        -1.230e-04  4.314e-05  -2.852 0.004351 ** \n",
              "savingsA62     3.126e-01  2.805e-01   1.115 0.264984    \n",
              "savingsA63     4.303e-01  3.887e-01   1.107 0.268291    \n",
              "savingsA64     1.396e+00  5.184e-01   2.692 0.007106 ** \n",
              "savingsA65     1.004e+00  2.606e-01   3.852 0.000117 ***\n",
              "installment   -3.218e-01  8.621e-02  -3.733 0.000189 ***\n",
              "personalA92    2.159e-01  3.754e-01   0.575 0.565268    \n",
              "personalA93    8.302e-01  3.672e-01   2.261 0.023766 *  \n",
              "personalA94    3.551e-01  4.434e-01   0.801 0.423122    \n",
              "debtorsA102   -4.978e-01  4.005e-01  -1.243 0.213967    \n",
              "debtorsA103    1.074e+00  4.205e-01   2.555 0.010628 *  \n",
              "residence2    -7.181e-01  2.796e-01  -2.568 0.010223 *  \n",
              "residence3    -3.929e-01  3.246e-01  -1.210 0.226104    \n",
              "residence4    -2.893e-01  2.806e-01  -1.031 0.302546    \n",
              "othersA142     5.959e-02  4.061e-01   0.147 0.883344    \n",
              "othersA143     6.787e-01  2.355e-01   2.882 0.003955 ** \n",
              "housingA152    5.098e-01  2.271e-01   2.245 0.024799 *  \n",
              "housingA153    2.464e-01  3.288e-01   0.749 0.453710    \n",
              "telephoneA192  3.051e-01  1.838e-01   1.660 0.096958 .  \n",
              "foreignA202    1.439e+00  6.253e-01   2.301 0.021383 *  \n",
              "---\n",
              "Signif. codes:  0 ‘***’ 0.001 ‘**’ 0.01 ‘*’ 0.05 ‘.’ 0.1 ‘ ’ 1\n",
              "\n",
              "(Dispersion parameter for binomial family taken to be 1)\n",
              "\n",
              "    Null deviance: 1221.73  on 999  degrees of freedom\n",
              "Residual deviance:  904.91  on 962  degrees of freedom\n",
              "AIC: 980.91\n",
              "\n",
              "Number of Fisher Scoring iterations: 5\n"
            ]
          },
          "metadata": {
            "tags": []
          }
        }
      ]
    },
    {
      "cell_type": "markdown",
      "metadata": {
        "id": "h7vn_kUSUBOm"
      },
      "source": [
        "##변수선택 : 전진선택법"
      ]
    },
    {
      "cell_type": "code",
      "metadata": {
        "colab": {
          "base_uri": "https://localhost:8080/",
          "height": 229
        },
        "id": "uwb4-ITWUBOn",
        "outputId": "33ab16bb-142a-45c0-8e57-ce33f2484460"
      },
      "source": [
        "#전진선택법\n",
        "gfit.step.forward = step(gfit.all, direction = \"forward\")\n",
        "gfit.step.forward$anova"
      ],
      "execution_count": 52,
      "outputs": [
        {
          "output_type": "stream",
          "text": [
            "Start:  AIC=993.44\n",
            "y ~ check + duration + history + purpose + credit + savings + \n",
            "    employment + installment + personal + debtors + residence + \n",
            "    property + age + others + housing + numcredits + job + residpeople + \n",
            "    telephone + foreign\n",
            "\n"
          ],
          "name": "stdout"
        },
        {
          "output_type": "display_data",
          "data": {
            "text/plain": [
              "  Step Df Deviance Resid. Df Resid. Dev AIC     \n",
              "1      NA NA       947       887.4372   993.4372"
            ],
            "text/latex": "A data.frame: 1 × 6\n\\begin{tabular}{llllll}\n Step & Df & Deviance & Resid. Df & Resid. Dev & AIC\\\\\n <I<chr>> & <dbl> & <dbl> & <dbl> & <dbl> & <dbl>\\\\\n\\hline\n\t  & NA & NA & 947 & 887.4372 & 993.4372\\\\\n\\end{tabular}\n",
            "text/markdown": "\nA data.frame: 1 × 6\n\n| Step &lt;I&lt;chr&gt;&gt; | Df &lt;dbl&gt; | Deviance &lt;dbl&gt; | Resid. Df &lt;dbl&gt; | Resid. Dev &lt;dbl&gt; | AIC &lt;dbl&gt; |\n|---|---|---|---|---|---|\n| <!----> | NA | NA | 947 | 887.4372 | 993.4372 |\n\n",
            "text/html": [
              "<table class=\"dataframe\">\n",
              "<caption>A data.frame: 1 × 6</caption>\n",
              "<thead>\n",
              "\t<tr><th scope=col>Step</th><th scope=col>Df</th><th scope=col>Deviance</th><th scope=col>Resid. Df</th><th scope=col>Resid. Dev</th><th scope=col>AIC</th></tr>\n",
              "\t<tr><th scope=col>&lt;I&lt;chr&gt;&gt;</th><th scope=col>&lt;dbl&gt;</th><th scope=col>&lt;dbl&gt;</th><th scope=col>&lt;dbl&gt;</th><th scope=col>&lt;dbl&gt;</th><th scope=col>&lt;dbl&gt;</th></tr>\n",
              "</thead>\n",
              "<tbody>\n",
              "\t<tr><td></td><td>NA</td><td>NA</td><td>947</td><td>887.4372</td><td>993.4372</td></tr>\n",
              "</tbody>\n",
              "</table>\n"
            ]
          },
          "metadata": {
            "tags": []
          }
        }
      ]
    },
    {
      "cell_type": "code",
      "metadata": {
        "colab": {
          "base_uri": "https://localhost:8080/",
          "height": 1000
        },
        "id": "AQeREMPoUBOn",
        "outputId": "e5b11720-e6b3-4fd5-a873-9024ee19ee6d"
      },
      "source": [
        "#전진선택법에 의해 생성된 모형 적합 결과\n",
        "summary(gfit.step.forward)"
      ],
      "execution_count": 53,
      "outputs": [
        {
          "output_type": "display_data",
          "data": {
            "text/plain": [
              "\n",
              "Call:\n",
              "glm(formula = y ~ check + duration + history + purpose + credit + \n",
              "    savings + employment + installment + personal + debtors + \n",
              "    residence + property + age + others + housing + numcredits + \n",
              "    job + residpeople + telephone + foreign, family = binomial, \n",
              "    data = german)\n",
              "\n",
              "Deviance Residuals: \n",
              "    Min       1Q   Median       3Q      Max  \n",
              "-2.7703  -0.6878   0.3687   0.6998   2.2809  \n",
              "\n",
              "Coefficients:\n",
              "                Estimate Std. Error z value Pr(>|z|)    \n",
              "(Intercept)   -5.278e-01  1.017e+00  -0.519 0.603893    \n",
              "checkA12       3.838e-01  2.194e-01   1.750 0.080194 .  \n",
              "checkA13       9.769e-01  3.713e-01   2.631 0.008513 ** \n",
              "checkA14       1.782e+00  2.358e-01   7.557 4.12e-14 ***\n",
              "duration      -2.795e-02  9.444e-03  -2.960 0.003077 ** \n",
              "historyA31    -1.715e-01  5.612e-01  -0.306 0.759913    \n",
              "historyA32     5.654e-01  4.431e-01   1.276 0.201973    \n",
              "historyA33     9.481e-01  4.779e-01   1.984 0.047273 *  \n",
              "historyA34     1.496e+00  4.451e-01   3.361 0.000776 ***\n",
              "purposeA41     1.660e+00  3.781e-01   4.390 1.13e-05 ***\n",
              "purposeA410    1.492e+00  7.852e-01   1.901 0.057344 .  \n",
              "purposeA42     7.510e-01  2.630e-01   2.855 0.004303 ** \n",
              "purposeA43     8.756e-01  2.496e-01   3.508 0.000451 ***\n",
              "purposeA44     5.093e-01  7.743e-01   0.658 0.510740    \n",
              "purposeA45     1.629e-01  5.518e-01   0.295 0.767782    \n",
              "purposeA46    -1.106e-01  3.971e-01  -0.278 0.780690    \n",
              "purposeA48     1.935e+00  1.179e+00   1.642 0.100604    \n",
              "purposeA49     6.920e-01  3.371e-01   2.053 0.040095 *  \n",
              "credit        -1.233e-04  4.499e-05  -2.741 0.006120 ** \n",
              "savingsA62     3.633e-01  2.916e-01   1.246 0.212832    \n",
              "savingsA63     3.612e-01  4.012e-01   0.900 0.367894    \n",
              "savingsA64     1.455e+00  5.411e-01   2.689 0.007166 ** \n",
              "savingsA65     9.714e-01  2.651e-01   3.665 0.000248 ***\n",
              "employmentA72 -6.198e-02  4.387e-01  -0.141 0.887649    \n",
              "employmentA73  2.365e-01  4.195e-01   0.564 0.572879    \n",
              "employmentA74  7.714e-01  4.575e-01   1.686 0.091814 .  \n",
              "employmentA75  2.247e-01  4.230e-01   0.531 0.595293    \n",
              "installment   -3.217e-01  8.939e-02  -3.599 0.000320 ***\n",
              "personalA92    2.600e-01  3.887e-01   0.669 0.503455    \n",
              "personalA93    8.438e-01  3.813e-01   2.213 0.026913 *  \n",
              "personalA94    3.755e-01  4.575e-01   0.821 0.411791    \n",
              "debtorsA102   -4.284e-01  4.121e-01  -1.040 0.298544    \n",
              "debtorsA103    9.828e-01  4.266e-01   2.304 0.021223 *  \n",
              "residence2    -7.604e-01  2.990e-01  -2.543 0.010996 *  \n",
              "residence3    -5.210e-01  3.354e-01  -1.553 0.120333    \n",
              "residence4    -3.872e-01  3.028e-01  -1.279 0.200939    \n",
              "propertyA122  -2.691e-01  2.550e-01  -1.055 0.291470    \n",
              "propertyA123  -1.575e-01  2.382e-01  -0.661 0.508329    \n",
              "propertyA124  -7.397e-01  4.289e-01  -1.725 0.084591 .  \n",
              "age            1.286e-02  9.308e-03   1.382 0.167095    \n",
              "othersA142     9.053e-02  4.157e-01   0.218 0.827624    \n",
              "othersA143     6.478e-01  2.403e-01   2.696 0.007026 ** \n",
              "housingA152    4.569e-01  2.364e-01   1.933 0.053246 .  \n",
              "housingA153    6.347e-01  4.846e-01   1.310 0.190265    \n",
              "numcredits2   -4.064e-01  2.454e-01  -1.656 0.097682 .  \n",
              "numcredits3   -2.750e-01  6.087e-01  -0.452 0.651393    \n",
              "numcredits4   -4.509e-01  1.072e+00  -0.421 0.674058    \n",
              "jobA172       -4.430e-01  6.867e-01  -0.645 0.518925    \n",
              "jobA173       -4.690e-01  6.626e-01  -0.708 0.479053    \n",
              "jobA174       -3.674e-01  6.709e-01  -0.548 0.583996    \n",
              "residpeople2  -2.631e-01  2.518e-01  -1.045 0.296107    \n",
              "telephoneA192  2.825e-01  2.024e-01   1.396 0.162821    \n",
              "foreignA202    1.452e+00  6.239e-01   2.327 0.019984 *  \n",
              "---\n",
              "Signif. codes:  0 ‘***’ 0.001 ‘**’ 0.01 ‘*’ 0.05 ‘.’ 0.1 ‘ ’ 1\n",
              "\n",
              "(Dispersion parameter for binomial family taken to be 1)\n",
              "\n",
              "    Null deviance: 1221.73  on 999  degrees of freedom\n",
              "Residual deviance:  887.44  on 947  degrees of freedom\n",
              "AIC: 993.44\n",
              "\n",
              "Number of Fisher Scoring iterations: 5\n"
            ]
          },
          "metadata": {
            "tags": []
          }
        }
      ]
    },
    {
      "cell_type": "markdown",
      "metadata": {
        "id": "V4pKY9PbYns3"
      },
      "source": [
        "##예측치와 관측치\n",
        ">단계적선택법에 의한 모형 사용"
      ]
    },
    {
      "cell_type": "code",
      "metadata": {
        "id": "tjBbAhaJV7fT"
      },
      "source": [
        ""
      ],
      "execution_count": 55,
      "outputs": []
    },
    {
      "cell_type": "code",
      "metadata": {
        "id": "32rEiYhQYnC_"
      },
      "source": [
        ""
      ],
      "execution_count": null,
      "outputs": []
    }
  ]
}