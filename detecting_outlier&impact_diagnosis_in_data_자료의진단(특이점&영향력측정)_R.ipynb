{
  "nbformat": 4,
  "nbformat_minor": 0,
  "metadata": {
    "colab": {
      "name": "R_회귀모형_5장_자료의진단(특이점&영향력측정)",
      "private_outputs": true,
      "provenance": [],
      "collapsed_sections": [],
      "authorship_tag": "ABX9TyOFiIb/BsBAdEzVY/D60n8v",
      "include_colab_link": true
    },
    "kernelspec": {
      "name": "ir",
      "display_name": "R"
    }
  },
  "cells": [
    {
      "cell_type": "markdown",
      "metadata": {
        "id": "view-in-github",
        "colab_type": "text"
      },
      "source": [
        "<a href=\"https://colab.research.google.com/github/seunghee0518/R_File/blob/main/R_%ED%9A%8C%EA%B7%80%EB%AA%A8%ED%98%95_5%EC%9E%A5_%EC%9E%90%EB%A3%8C%EC%9D%98%EC%A7%84%EB%8B%A8(%ED%8A%B9%EC%9D%B4%EC%A0%90%26%EC%98%81%ED%96%A5%EB%A0%A5%EC%B8%A1%EC%A0%95).ipynb\" target=\"_parent\"><img src=\"https://colab.research.google.com/assets/colab-badge.svg\" alt=\"Open In Colab\"/></a>"
      ]
    },
    {
      "cell_type": "markdown",
      "metadata": {
        "id": "k8oWgXbuZVNh"
      },
      "source": [
        "# 특이점 검정 : Bonferroni t검정\n",
        "* <표 5.1 Forbes 자료>\n",
        "* num : 번호\n",
        "* temp : 물끊는 온도\n",
        "* press : 대기압력"
      ]
    },
    {
      "cell_type": "code",
      "metadata": {
        "id": "CwRV6f-LmRW8"
      },
      "source": [
        "#데이터 불러오기\n",
        "forbes.url = 'https://raw.githubusercontent.com/seunghee0518/R_File/main/%ED%9A%8C%EA%B7%80%EB%AA%A8%ED%98%95/forbes.txt'\n",
        "forbes = read.table(forbes.url, header=T)\n",
        "head(forbes, 3)\n",
        "attach(forbes)"
      ],
      "execution_count": null,
      "outputs": []
    },
    {
      "cell_type": "code",
      "metadata": {
        "id": "2BLR1C7jb_L1"
      },
      "source": [
        "#Lpress : 대기압력에 상용로그 취함 & 100곱함\n",
        "forbes$Lpress = 100*log10(forbes$press)\n",
        "head(forbes,3)"
      ],
      "execution_count": null,
      "outputs": []
    },
    {
      "cell_type": "code",
      "metadata": {
        "id": "NXC09pV06VHH"
      },
      "source": [
        "#산점도\n",
        "plot(forbes$temp, forbes$Lpress, pch = 19)\n",
        "\n",
        "#케이스 번호 확인\n",
        "print(identify(forbes$temp, forbes$Lpress))"
      ],
      "execution_count": null,
      "outputs": []
    },
    {
      "cell_type": "code",
      "metadata": {
        "id": "ofuy8hEC6kHf"
      },
      "source": [
        "#회귀분석\n",
        "forbes.lm = lm(Lpress ~ temp, data = forbes)\n",
        "summary(forbes.lm)"
      ],
      "execution_count": null,
      "outputs": []
    },
    {
      "cell_type": "code",
      "metadata": {
        "id": "Adny_qtWRGNZ"
      },
      "source": [
        "#분산분석표\n",
        "anova(forbes.lm)"
      ],
      "execution_count": null,
      "outputs": []
    },
    {
      "cell_type": "code",
      "metadata": {
        "id": "pkmfJohtcRl9"
      },
      "source": [
        "#잔차분석\n",
        "forbes.res = ls.diag(forbes.lm)\n",
        "names(forbes.res)"
      ],
      "execution_count": null,
      "outputs": []
    },
    {
      "cell_type": "code",
      "metadata": {
        "id": "1W8B6L3zR-TH"
      },
      "source": [
        "#표준화 잔차, 스튜던트화 잔차, Hii값 출력\n",
        "resid.result = cbind(forbes.res$std.res, forbes.res$stud.res, forbes.res$hat)\n",
        "colnames(resid.result) = c('standardized resid', 'studentized resid', 'Hat')\n",
        "resid.result = round(resid.result, 3)\n",
        "print(resid.result)"
      ],
      "execution_count": null,
      "outputs": []
    },
    {
      "cell_type": "markdown",
      "metadata": {
        "id": "2V3GfK7vSq0d"
      },
      "source": [
        "* Hii값은 0과 1사이의 값으로 중심에서 멀리 떨어져 있을수록 큰 값을 가짐\n",
        "* 12번째 스튜던트화 잔차가 가장 큼\n",
        "* 통계량의 자유도(n-k-2) : 17-1-2 = 14"
      ]
    },
    {
      "cell_type": "code",
      "metadata": {
        "id": "aVgnCq6-wuv4"
      },
      "source": [
        "#12번째 관측값 특이점 검정 -> Bonferroni보정 p값\n",
        "2*17*(1-pt(12.374, 14))"
      ],
      "execution_count": null,
      "outputs": []
    },
    {
      "cell_type": "markdown",
      "metadata": {
        "id": "eahUedSEUlC3"
      },
      "source": [
        "* 유의확률 p값이 매우 작으므로 특이값으로 판단됨"
      ]
    },
    {
      "cell_type": "code",
      "metadata": {
        "id": "x-CMod49UkRz"
      },
      "source": [
        "#유의수준 0,01의 기각치 계산\n",
        "qt(0.01/(2*17), 14)"
      ],
      "execution_count": null,
      "outputs": []
    },
    {
      "cell_type": "code",
      "metadata": {
        "id": "F6TK4iFgVBaj"
      },
      "source": [
        "#패키지 car - outlierTest()함수 이용\n",
        "install.packages('car')\n",
        "library(car)\n",
        "outlierTest(forbes.lm)"
      ],
      "execution_count": null,
      "outputs": []
    },
    {
      "cell_type": "code",
      "metadata": {
        "id": "xPsNK4BAWIvS"
      },
      "source": [
        "#비교 : rstudent()\n",
        "rstudent(forbes.lm)"
      ],
      "execution_count": null,
      "outputs": []
    },
    {
      "cell_type": "markdown",
      "metadata": {
        "id": "6T7JTAtYhOzs"
      },
      "source": [
        "#관측값의 영향력 측정\n",
        "* <표 5.3> Prater의 가솔린 자료\n",
        "* X1 : 원유중력\n",
        "* X2 : 원유증기압력\n",
        "* X3 : 원유 ASTM(10%원유가 증발했을때 온도)\n",
        "* X4 : 가솔린 증발온도(모든 가솔린 증발)\n",
        "* 일반적으로 가벼운 원유가 무거운 원유보다 더 많은 가솔린을 만듦\n",
        "* 일정한 양의 원유가 주어졌을 때는 증발하는 온도가 높아질수록 많은 양의 가솔린이 추출됨"
      ]
    },
    {
      "cell_type": "code",
      "metadata": {
        "id": "Ig8my0SLiFDC"
      },
      "source": [
        "#데이터 가져오기\n",
        "prater.url = 'https://raw.githubusercontent.com/seunghee0518/R_File/main/%ED%9A%8C%EA%B7%80%EB%AA%A8%ED%98%95/prater.txt'\n",
        "prater = read.table(prater.url, header = T)\n",
        "head(prater, 2)"
      ],
      "execution_count": null,
      "outputs": []
    },
    {
      "cell_type": "code",
      "metadata": {
        "id": "PSxZl5K6jeHg"
      },
      "source": [
        "#회귀모형 적합\n",
        "prater.lm = lm(Y ~ X1+X2+X3+X4, data = prater)\n",
        "summary(prater.lm)"
      ],
      "execution_count": null,
      "outputs": []
    },
    {
      "cell_type": "code",
      "metadata": {
        "id": "q4dzpEmWjmKv"
      },
      "source": [
        "#단계별 선택방법으로 모형적합\n",
        "start.lm = lm(Y ~ 1, data = prater)\n",
        "full.lm = prater.lm\n",
        "step(start.lm, scope = list(upper = full.lm), data = prater, direction = 'both')"
      ],
      "execution_count": null,
      "outputs": []
    },
    {
      "cell_type": "markdown",
      "metadata": {
        "id": "gfO4IkQ7kLYR"
      },
      "source": [
        "* 최종적으로 선택된 변수 : X3, X4"
      ]
    },
    {
      "cell_type": "code",
      "metadata": {
        "id": "TYqUC6BJkHb9"
      },
      "source": [
        "#^B3(i), ^B4(i) 계산\n",
        "hat = vector()\n",
        "for(i in 1:32){\n",
        "  hat.lm = lm(Y ~ X3+X4, data = prater[-i, ])\n",
        "  except = hat.lm$coefficients[-1]\n",
        "  hat = rbind(hat, except)\n",
        "}\n",
        "\n",
        "number = c(1:32)\n",
        "rownames(hat) = number\n",
        "head(hat, 3)\n",
        "tail(hat, 3)"
      ],
      "execution_count": null,
      "outputs": []
    },
    {
      "cell_type": "code",
      "metadata": {
        "id": "hgcnl5fzUlnj"
      },
      "source": [
        "#hat B3, B4의 산점도\n",
        "plot(hat[, 1], hat[, 2], xlab = 'hat_B3(i)', ylab = 'hat_B4(i)', pch = 19)\n",
        "text(hat[, 1], hat[, 2], labels = rownames(hat), pos = 1)"
      ],
      "execution_count": null,
      "outputs": []
    },
    {
      "cell_type": "markdown",
      "metadata": {
        "id": "vNCnGkcwYY-n"
      },
      "source": [
        "* 11, 32번 관측치가 다른 추정값으로부터 상대적으로 멀리 떨어져 있음\n",
        "* 추정값의 변화가 얼마나 큰지 판단하는 기준 : cook의 통계량 Di"
      ]
    },
    {
      "cell_type": "markdown",
      "metadata": {
        "id": "Ovdd7ep6lBH9"
      },
      "source": [
        "# cook의 Di통계량으로 영향력 측정\n",
        "* <표 5.5 >토양침식 자료\n",
        "* SL : 토양의 침식량(1에이커당 파운드)\n",
        "* SG : 땅의 경사도\n",
        "* LOBS : 토양침식이 가장 심한 곳의 깊이(인치)\n",
        "* PGC : 흙으로 덮여진 부분의 비율"
      ]
    },
    {
      "cell_type": "code",
      "metadata": {
        "id": "5nXcxcGrlJS8"
      },
      "source": [
        "soil_url = 'https://raw.githubusercontent.com/seunghee0518/R_File/main/%ED%9A%8C%EA%B7%80%EB%AA%A8%ED%98%95/soil.txt'\n",
        "soil = read.table(soil_url, header = T)\n",
        "head(soil, 3)"
      ],
      "execution_count": null,
      "outputs": []
    },
    {
      "cell_type": "code",
      "metadata": {
        "id": "FZqlxqehbLVO"
      },
      "source": [
        "#회귀모형 적합\n",
        "soil.lm = lm(SL ~ SG+LOBS+PGC, data = soil)\n",
        "summary(soil.lm)"
      ],
      "execution_count": null,
      "outputs": []
    },
    {
      "cell_type": "code",
      "metadata": {
        "id": "osHN0twGbY9z"
      },
      "source": [
        "anova(soil.lm)"
      ],
      "execution_count": null,
      "outputs": []
    },
    {
      "cell_type": "code",
      "metadata": {
        "id": "pYcUL_AcbbXh"
      },
      "source": [
        "#(잔차, 추정값) 산점도\n",
        "plot(soil.lm$fitted, soil.lm$resid, pch = 19)\n",
        "text(soil.lm$fitted, soil.lm$resid, labels = soil$obs, pos = 1)"
      ],
      "execution_count": null,
      "outputs": []
    },
    {
      "cell_type": "markdown",
      "metadata": {
        "id": "Ci2kQ2u4cPSA"
      },
      "source": [
        "* 7번 관측값 : 예측값이 가장 크므로 영향력 있는 관측값임\n",
        "* 10번 관측값 : 7번보다는 중간에 가깝고, 잔차가 크므로 특이점이 될 가능성이 높아보임"
      ]
    },
    {
      "cell_type": "code",
      "metadata": {
        "id": "p6NotHClb_1O"
      },
      "source": [
        "#cook의 Di통계량\n",
        "soil.diag = ls.diag(soil.lm)\n",
        "names(soil.diag)"
      ],
      "execution_count": null,
      "outputs": []
    },
    {
      "cell_type": "code",
      "metadata": {
        "id": "dGGvAwd0dWNI"
      },
      "source": [
        "diag.st = cbind(soil$obs,soil.diag$hat, soil.diag$std.res, soil.diag$stud.res, soil.diag$cooks)\n",
        "colnames(diag.st) = c('num', 'Hii', 'ri', 'ti', 'Di')\n",
        "round(diag.st, 3)"
      ],
      "execution_count": null,
      "outputs": []
    },
    {
      "cell_type": "code",
      "metadata": {
        "id": "czUv8VrAdpwY"
      },
      "source": [
        "Di = cooks.distance(soil.lm)\n",
        "round(Di, 3)"
      ],
      "execution_count": null,
      "outputs": []
    },
    {
      "cell_type": "markdown",
      "metadata": {
        "id": "eDgTtT5HeEfP"
      },
      "source": [
        "* cook거리에서 7번 관찰값이 1.227로 영향력 있는 관찰값으로 판명됨"
      ]
    },
    {
      "cell_type": "code",
      "metadata": {
        "id": "8Cp-UMbBdvtw"
      },
      "source": [
        "library(car)\n",
        "outlierTest(soil.lm)"
      ],
      "execution_count": null,
      "outputs": []
    },
    {
      "cell_type": "markdown",
      "metadata": {
        "id": "mfFIYZ-TebER"
      },
      "source": [
        "* car패키지를 이용한 outlierTest결과에서 10번 관찰값의 Bonferonni p가 0.093으로 특이점으로는 판명되지 않음을 알 수 있음"
      ]
    }
  ]
}
