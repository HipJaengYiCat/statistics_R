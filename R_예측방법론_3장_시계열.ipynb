{
  "nbformat": 4,
  "nbformat_minor": 0,
  "metadata": {
    "colab": {
      "name": "R_예측방법론_3장_시계열",
      "private_outputs": true,
      "provenance": [],
      "collapsed_sections": [],
      "authorship_tag": "ABX9TyOFLaqAT2ocDTJE7QBMbE3K",
      "include_colab_link": true
    },
    "kernelspec": {
      "name": "ir",
      "display_name": "R"
    }
  },
  "cells": [
    {
      "cell_type": "markdown",
      "metadata": {
        "id": "view-in-github",
        "colab_type": "text"
      },
      "source": [
        "<a href=\"https://colab.research.google.com/github/seunghee0518/R_File/blob/main/R_%EC%98%88%EC%B8%A1%EB%B0%A9%EB%B2%95%EB%A1%A0_3%EC%9E%A5_%EC%8B%9C%EA%B3%84%EC%97%B4.ipynb\" target=\"_parent\"><img src=\"https://colab.research.google.com/assets/colab-badge.svg\" alt=\"Open In Colab\"/></a>"
      ]
    },
    {
      "cell_type": "code",
      "metadata": {
        "id": "NXC09pV06VHH"
      },
      "source": [
        "install.packages(c('forecast', 'mFilter'))\n",
        "library(forecast)\n",
        "library(mFilter)"
      ],
      "execution_count": null,
      "outputs": []
    },
    {
      "cell_type": "markdown",
      "metadata": {
        "id": "FdSAOywHNnTl"
      },
      "source": [
        "# 3.6 R을 이용한 실습"
      ]
    },
    {
      "cell_type": "markdown",
      "metadata": {
        "id": "gR5mpSNXNtDs"
      },
      "source": [
        "## 1. 경제성장률 구하기"
      ]
    },
    {
      "cell_type": "code",
      "metadata": {
        "id": "CwRV6f-LmRW8"
      },
      "source": [
        "#파일 가져오기\n",
        "gdp <- read.csv(\"https://raw.githubusercontent.com/seunghee0518/R_File/main/%EC%98%88%EC%B8%A1%EB%B0%A9%EB%B2%95%EB%A1%A0/gdp(%EC%9B%90%EA%B3%84%EC%97%B4%2C%20%EA%B3%84%EC%A0%88%EC%A1%B0%EC%A0%95%2C%20%EC%8B%A4%EC%A7%88%2C%20%EB%B6%84%EA%B8%B0%2C%201970.1~2020.4).csv\", header= T)\n",
        "head(gdp, 3)\n",
        "gdp <- ts(gdp, start = 1970, frequency = 4)\n",
        "head(gdp, 3)"
      ],
      "execution_count": null,
      "outputs": []
    },
    {
      "cell_type": "code",
      "metadata": {
        "id": "FvXn3T3bN3nu"
      },
      "source": [
        "#데이터 가공\n",
        "gdp_o <- gdp[, 1]/1000\n",
        "gdp_o\n",
        "gdp_sa <- gdp[, 2]/1000\n",
        "gdp_sa"
      ],
      "execution_count": null,
      "outputs": []
    },
    {
      "cell_type": "code",
      "metadata": {
        "id": "ez0V4rzmSQBe"
      },
      "source": [
        "#경제성장률 : gdp_gr\n",
        "gdp_gr <- (gdp_sa - lag(gdp_sa, -1))/lag(gdp_sa, -1)*100\n",
        "head(gdp_gr)\n",
        "tail(gdp_gr)"
      ],
      "execution_count": null,
      "outputs": []
    },
    {
      "cell_type": "code",
      "metadata": {
        "id": "yrrSqTQASCjM"
      },
      "source": [
        "#경제성장률 요약\n",
        "summary(gdp_gr)"
      ],
      "execution_count": null,
      "outputs": []
    },
    {
      "cell_type": "code",
      "metadata": {
        "id": "mkbdxfp8SHEv"
      },
      "source": [
        "#경제성장률- 평균, 분산, 표준편차\n",
        "mean(gdp_gr);var(gdp_gr);sd(gdp_gr)"
      ],
      "execution_count": null,
      "outputs": []
    },
    {
      "cell_type": "code",
      "metadata": {
        "id": "ceaSVAf1SZ5q"
      },
      "source": [
        "#경제성장률 히스토그램 & 선그래프\n",
        "hist(gdp_gr, xlim = c(-11, 10))\n",
        "#density : 히스토그램을 평활화함\n",
        "#lines(density(gdp_gr))"
      ],
      "execution_count": null,
      "outputs": []
    },
    {
      "cell_type": "code",
      "metadata": {
        "id": "TyS8LwlWUF3U"
      },
      "source": [
        "#정규성 검정\n",
        "shapiro.test(gdp_gr)"
      ],
      "execution_count": null,
      "outputs": []
    },
    {
      "cell_type": "markdown",
      "metadata": {
        "id": "IHML6-VZ7ECC"
      },
      "source": [
        "3. 시계열의 탐색\n",
        "시계열도표로 패턴 파악\n",
        "스펙트럴 분석\n",
        "표본자기상관계수, 표본 부분자기상관계수"
      ]
    },
    {
      "cell_type": "markdown",
      "metadata": {
        "id": "NZR3eou77YYg"
      },
      "source": [
        ""
      ]
    },
    {
      "cell_type": "markdown",
      "metadata": {
        "id": "3WIctjTT7GcF"
      },
      "source": [
        "(1) 시계열도표¶"
      ]
    },
    {
      "cell_type": "code",
      "metadata": {
        "id": "nt1Faq_w7AZi"
      },
      "source": [
        "\n",
        "cbind(gdp, gdp_sa) %>% autoplot()"
      ],
      "execution_count": null,
      "outputs": []
    },
    {
      "cell_type": "markdown",
      "metadata": {
        "id": "MR4m3EoG7OMD"
      },
      "source": [
        ""
      ]
    },
    {
      "cell_type": "code",
      "metadata": {
        "id": "mtUcPzYz7Aby"
      },
      "source": [
        "gdp_sa_gr = ts(c(NA, (gdp_sa-lag(gdp_sa,-1))/lag(gdp_sa,-1)*100),  start=1970, frequency=4)\n",
        "gdp_sa_p  = diff(log(gdp_sa))*100\n",
        "plot(cbind(gdp_sa_gr, gdp_sa_p), main=\"\")\n",
        "gdp_sa_gr - gdp_sa_p %>% tail(12)"
      ],
      "execution_count": null,
      "outputs": []
    },
    {
      "cell_type": "code",
      "metadata": {
        "id": "nSY1qHbD7AeS"
      },
      "source": [
        ""
      ],
      "execution_count": null,
      "outputs": []
    },
    {
      "cell_type": "code",
      "metadata": {
        "id": "FX8W8gvT7Agk"
      },
      "source": [
        ""
      ],
      "execution_count": null,
      "outputs": []
    }
  ]
}