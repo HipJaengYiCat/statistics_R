{
  "nbformat": 4,
  "nbformat_minor": 0,
  "metadata": {
    "colab": {
      "name": "R_다변량분석_출석강의필기.ipynb",
      "private_outputs": true,
      "provenance": [],
      "collapsed_sections": [],
      "authorship_tag": "ABX9TyPHPlD0cVnZYiFlVK3hbl9u",
      "include_colab_link": true
    },
    "kernelspec": {
      "name": "ir",
      "display_name": "R"
    }
  },
  "cells": [
    {
      "cell_type": "markdown",
      "metadata": {
        "id": "view-in-github",
        "colab_type": "text"
      },
      "source": [
        "<a href=\"https://colab.research.google.com/github/seunghee0518/R_File/blob/main/R_%EB%8B%A4%EB%B3%80%EB%9F%89%EB%B6%84%EC%84%9D_%EC%B6%9C%EC%84%9D%EA%B0%95%EC%9D%98%ED%95%84%EA%B8%B0.ipynb\" target=\"_parent\"><img src=\"https://colab.research.google.com/assets/colab-badge.svg\" alt=\"Open In Colab\"/></a>"
      ]
    },
    {
      "cell_type": "code",
      "metadata": {
        "id": "CwRV6f-LmRW8"
      },
      "source": [
        "#1장\r\n",
        "survey = read.table(\"https://raw.githubusercontent.com/seunghee0518/R_File/main/%EB%8B%A4%EB%B3%80%EB%9E%91%EB%B6%84%EC%84%9D/mvadata/survey.txt\", header=T)\r\n",
        "head(survey)\r\n",
        "attach(survey)\r\n",
        "stem(survey$salary)"
      ],
      "execution_count": null,
      "outputs": []
    },
    {
      "cell_type": "code",
      "metadata": {
        "id": "2BLR1C7jb_L1"
      },
      "source": [
        "#scale = 간격 조절\r\n",
        "stem(survey$salary, scale = 2)"
      ],
      "execution_count": null,
      "outputs": []
    },
    {
      "cell_type": "code",
      "metadata": {
        "id": "NXC09pV06VHH"
      },
      "source": [
        "install.packages(\"HSAUR2\")\r\n",
        "install.packages(\"MVA\")"
      ],
      "execution_count": null,
      "outputs": []
    },
    {
      "cell_type": "code",
      "metadata": {
        "id": "ofuy8hEC6kHf"
      },
      "source": [
        "library(MVA)\r\n",
        "data(USairPollution)\r\n",
        "head(USairPollution)"
      ],
      "execution_count": null,
      "outputs": []
    },
    {
      "cell_type": "code",
      "metadata": {
        "id": "M7CwQZti6lJK"
      },
      "source": [
        "plot(USairPollution$manu, USairPollution$popul)\r\n",
        "x = USairPollution[, c(3,4)]\r\n",
        "bvbox(x, xlab=\"manu\", ylab=\"popul\")\r\n",
        "identify(x)"
      ],
      "execution_count": null,
      "outputs": []
    },
    {
      "cell_type": "code",
      "metadata": {
        "id": "0rtfi08b6m9b"
      },
      "source": [
        "#마우스로 벗어난값 클릭하고 오른쪽 마우스 눌러서 중지 ? 누름\r\n",
        "#참고로 R 스튜디오에서 identify 함수는 그래프 점에 마우스 클릭하고 esc를 누르면 숫자가 표시되요\r\n"
      ],
      "execution_count": null,
      "outputs": []
    },
    {
      "cell_type": "code",
      "metadata": {
        "id": "KgA_5t7z6oic"
      },
      "source": [
        "#산점도임\r\n",
        "plot(wind~temp, data=USairPollution, pch=19)\r\n",
        "#교재의 with 안쓰고 하기 p.23"
      ],
      "execution_count": null,
      "outputs": []
    },
    {
      "cell_type": "code",
      "metadata": {
        "id": "FWqsqdJK6r_G"
      },
      "source": [
        "symbols(USairPollution$temp, USairPollution$wind, circles = USairPollution$O2, inches=0.5, add = T)\r\n",
        "#버블차트가 나옴\r\n",
        "#USairPollution 변수를 계속쓰기 힘들어서 with로 씀 "
      ],
      "execution_count": null,
      "outputs": []
    },
    {
      "cell_type": "code",
      "metadata": {
        "id": "w_xK_n2X6ugK"
      },
      "source": [
        "#2장 : p.47예제"
      ],
      "execution_count": null,
      "outputs": []
    }
  ]
}