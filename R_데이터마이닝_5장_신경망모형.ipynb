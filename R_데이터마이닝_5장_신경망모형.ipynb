{
  "nbformat": 4,
  "nbformat_minor": 0,
  "metadata": {
    "colab": {
      "name": "R_데이터마이닝_5장_신경망모형",
      "provenance": [],
      "collapsed_sections": [],
      "authorship_tag": "ABX9TyOUBY6P1BgxUtiFBjBpeM/8",
      "include_colab_link": true
    },
    "kernelspec": {
      "name": "ir",
      "display_name": "R"
    }
  },
  "cells": [
    {
      "cell_type": "markdown",
      "metadata": {
        "id": "view-in-github",
        "colab_type": "text"
      },
      "source": [
        "<a href=\"https://colab.research.google.com/github/seunghee0518/R_File/blob/main/R_%EB%8D%B0%EC%9D%B4%ED%84%B0%EB%A7%88%EC%9D%B4%EB%8B%9D_5%EC%9E%A5_%EC%8B%A0%EA%B2%BD%EB%A7%9D%EB%AA%A8%ED%98%95.ipynb\" target=\"_parent\"><img src=\"https://colab.research.google.com/assets/colab-badge.svg\" alt=\"Open In Colab\"/></a>"
      ]
    },
    {
      "cell_type": "markdown",
      "metadata": {
        "id": "7hiFQcY8JKrp"
      },
      "source": [
        "# 비선형함수 신경망모형(코사인함수(cos(4πx)))\n",
        "* 대표적 비선형함수 cos함수 추정정"
      ]
    },
    {
      "cell_type": "code",
      "metadata": {
        "colab": {
          "base_uri": "https://localhost:8080/"
        },
        "id": "RLfoOSNsNw-v",
        "outputId": "b5a05326-402b-40cf-843f-182d22adb804"
      },
      "source": [
        "#패키지 설치\n",
        "install.packages(\"neuralnet\")\n",
        "library(neuralnet)"
      ],
      "execution_count": 13,
      "outputs": [
        {
          "output_type": "stream",
          "text": [
            "Installing package into ‘/usr/local/lib/R/site-library’\n",
            "(as ‘lib’ is unspecified)\n",
            "\n",
            "also installing the dependency ‘Deriv’\n",
            "\n",
            "\n"
          ],
          "name": "stderr"
        }
      ]
    },
    {
      "cell_type": "code",
      "metadata": {
        "colab": {
          "base_uri": "https://localhost:8080/",
          "height": 437
        },
        "id": "HvsvzOd6N69I",
        "outputId": "9784c1c9-467e-4911-8a00-8c4623b91510"
      },
      "source": [
        "#코사인함수 생성\n",
        "set.seed(130)\n",
        "ind1 = 1:100\n",
        "ind2 = ind1/100\n",
        "cos2 = cos(ind2*4*pi)\n",
        "cdat = data.frame(cbind(ind2, cos2))\n",
        "plot(cdat)"
      ],
      "execution_count": 31,
      "outputs": [
        {
          "output_type": "display_data",
          "data": {
            "image/png": "[encoded data removed]",
            "text/plain": [
              "plot without title"
            ]
          },
          "metadata": {
            "tags": [],
            "image/png": {
              "width": 420,
              "height": 420
            }
          }
        }
      ]
    },
    {
      "cell_type": "code",
      "metadata": {
        "id": "-XZDcVBnOeyN"
      },
      "source": [
        "#신경망모형 학습\n",
        "cos2.nn = neuralnet(cos2 ~ ind2, data = cdat, hidden = 5, linear.output = T) #회귀문제이므로 T\n",
        "plot(cos2.nn)"
      ],
      "execution_count": null,
      "outputs": []
    },
    {
      "cell_type": "code",
      "metadata": {
        "colab": {
          "base_uri": "https://localhost:8080/",
          "height": 101
        },
        "id": "QassnydvPViS",
        "outputId": "e2baf880-e51a-45b3-a85f-4b20b0bc5360"
      },
      "source": [
        "#예측\n",
        "#cos.pred = compute(cos2.nn, ind2)\n",
        "#plot(ind1, cos.pred$net.result)\n",
        "#lines(cos2)\n",
        "ind2"
      ],
      "execution_count": 40,
      "outputs": [
        {
          "output_type": "display_data",
          "data": {
            "text/plain": [
              "  [1] 0.01 0.02 0.03 0.04 0.05 0.06 0.07 0.08 0.09 0.10 0.11 0.12 0.13 0.14 0.15\n",
              " [16] 0.16 0.17 0.18 0.19 0.20 0.21 0.22 0.23 0.24 0.25 0.26 0.27 0.28 0.29 0.30\n",
              " [31] 0.31 0.32 0.33 0.34 0.35 0.36 0.37 0.38 0.39 0.40 0.41 0.42 0.43 0.44 0.45\n",
              " [46] 0.46 0.47 0.48 0.49 0.50 0.51 0.52 0.53 0.54 0.55 0.56 0.57 0.58 0.59 0.60\n",
              " [61] 0.61 0.62 0.63 0.64 0.65 0.66 0.67 0.68 0.69 0.70 0.71 0.72 0.73 0.74 0.75\n",
              " [76] 0.76 0.77 0.78 0.79 0.80 0.81 0.82 0.83 0.84 0.85 0.86 0.87 0.88 0.89 0.90\n",
              " [91] 0.91 0.92 0.93 0.94 0.95 0.96 0.97 0.98 0.99 1.00"
            ],
            "text/latex": "\\begin{enumerate*}\n\\item 0.01\n\\item 0.02\n\\item 0.03\n\\item 0.04\n\\item 0.05\n\\item 0.06\n\\item 0.07\n\\item 0.08\n\\item 0.09\n\\item 0.1\n\\item 0.11\n\\item 0.12\n\\item 0.13\n\\item 0.14\n\\item 0.15\n\\item 0.16\n\\item 0.17\n\\item 0.18\n\\item 0.19\n\\item 0.2\n\\item 0.21\n\\item 0.22\n\\item 0.23\n\\item 0.24\n\\item 0.25\n\\item 0.26\n\\item 0.27\n\\item 0.28\n\\item 0.29\n\\item 0.3\n\\item 0.31\n\\item 0.32\n\\item 0.33\n\\item 0.34\n\\item 0.35\n\\item 0.36\n\\item 0.37\n\\item 0.38\n\\item 0.39\n\\item 0.4\n\\item 0.41\n\\item 0.42\n\\item 0.43\n\\item 0.44\n\\item 0.45\n\\item 0.46\n\\item 0.47\n\\item 0.48\n\\item 0.49\n\\item 0.5\n\\item 0.51\n\\item 0.52\n\\item 0.53\n\\item 0.54\n\\item 0.55\n\\item 0.56\n\\item 0.57\n\\item 0.58\n\\item 0.59\n\\item 0.6\n\\item 0.61\n\\item 0.62\n\\item 0.63\n\\item 0.64\n\\item 0.65\n\\item 0.66\n\\item 0.67\n\\item 0.68\n\\item 0.69\n\\item 0.7\n\\item 0.71\n\\item 0.72\n\\item 0.73\n\\item 0.74\n\\item 0.75\n\\item 0.76\n\\item 0.77\n\\item 0.78\n\\item 0.79\n\\item 0.8\n\\item 0.81\n\\item 0.82\n\\item 0.83\n\\item 0.84\n\\item 0.85\n\\item 0.86\n\\item 0.87\n\\item 0.88\n\\item 0.89\n\\item 0.9\n\\item 0.91\n\\item 0.92\n\\item 0.93\n\\item 0.94\n\\item 0.95\n\\item 0.96\n\\item 0.97\n\\item 0.98\n\\item 0.99\n\\item 1\n\\end{enumerate*}\n",
            "text/markdown": "1. 0.01\n2. 0.02\n3. 0.03\n4. 0.04\n5. 0.05\n6. 0.06\n7. 0.07\n8. 0.08\n9. 0.09\n10. 0.1\n11. 0.11\n12. 0.12\n13. 0.13\n14. 0.14\n15. 0.15\n16. 0.16\n17. 0.17\n18. 0.18\n19. 0.19\n20. 0.2\n21. 0.21\n22. 0.22\n23. 0.23\n24. 0.24\n25. 0.25\n26. 0.26\n27. 0.27\n28. 0.28\n29. 0.29\n30. 0.3\n31. 0.31\n32. 0.32\n33. 0.33\n34. 0.34\n35. 0.35\n36. 0.36\n37. 0.37\n38. 0.38\n39. 0.39\n40. 0.4\n41. 0.41\n42. 0.42\n43. 0.43\n44. 0.44\n45. 0.45\n46. 0.46\n47. 0.47\n48. 0.48\n49. 0.49\n50. 0.5\n51. 0.51\n52. 0.52\n53. 0.53\n54. 0.54\n55. 0.55\n56. 0.56\n57. 0.57\n58. 0.58\n59. 0.59\n60. 0.6\n61. 0.61\n62. 0.62\n63. 0.63\n64. 0.64\n65. 0.65\n66. 0.66\n67. 0.67\n68. 0.68\n69. 0.69\n70. 0.7\n71. 0.71\n72. 0.72\n73. 0.73\n74. 0.74\n75. 0.75\n76. 0.76\n77. 0.77\n78. 0.78\n79. 0.79\n80. 0.8\n81. 0.81\n82. 0.82\n83. 0.83\n84. 0.84\n85. 0.85\n86. 0.86\n87. 0.87\n88. 0.88\n89. 0.89\n90. 0.9\n91. 0.91\n92. 0.92\n93. 0.93\n94. 0.94\n95. 0.95\n96. 0.96\n97. 0.97\n98. 0.98\n99. 0.99\n100. 1\n\n\n",
            "text/html": [
              "<style>\n",
              ".list-inline {list-style: none; margin:0; padding: 0}\n",
              ".list-inline>li {display: inline-block}\n",
              ".list-inline>li:not(:last-child)::after {content: \"\\00b7\"; padding: 0 .5ex}\n",
              "</style>\n",
              "<ol class=list-inline><li>0.01</li><li>0.02</li><li>0.03</li><li>0.04</li><li>0.05</li><li>0.06</li><li>0.07</li><li>0.08</li><li>0.09</li><li>0.1</li><li>0.11</li><li>0.12</li><li>0.13</li><li>0.14</li><li>0.15</li><li>0.16</li><li>0.17</li><li>0.18</li><li>0.19</li><li>0.2</li><li>0.21</li><li>0.22</li><li>0.23</li><li>0.24</li><li>0.25</li><li>0.26</li><li>0.27</li><li>0.28</li><li>0.29</li><li>0.3</li><li>0.31</li><li>0.32</li><li>0.33</li><li>0.34</li><li>0.35</li><li>0.36</li><li>0.37</li><li>0.38</li><li>0.39</li><li>0.4</li><li>0.41</li><li>0.42</li><li>0.43</li><li>0.44</li><li>0.45</li><li>0.46</li><li>0.47</li><li>0.48</li><li>0.49</li><li>0.5</li><li>0.51</li><li>0.52</li><li>0.53</li><li>0.54</li><li>0.55</li><li>0.56</li><li>0.57</li><li>0.58</li><li>0.59</li><li>0.6</li><li>0.61</li><li>0.62</li><li>0.63</li><li>0.64</li><li>0.65</li><li>0.66</li><li>0.67</li><li>0.68</li><li>0.69</li><li>0.7</li><li>0.71</li><li>0.72</li><li>0.73</li><li>0.74</li><li>0.75</li><li>0.76</li><li>0.77</li><li>0.78</li><li>0.79</li><li>0.8</li><li>0.81</li><li>0.82</li><li>0.83</li><li>0.84</li><li>0.85</li><li>0.86</li><li>0.87</li><li>0.88</li><li>0.89</li><li>0.9</li><li>0.91</li><li>0.92</li><li>0.93</li><li>0.94</li><li>0.95</li><li>0.96</li><li>0.97</li><li>0.98</li><li>0.99</li><li>1</li></ol>\n"
            ]
          },
          "metadata": {
            "tags": []
          }
        }
      ]
    },
    {
      "cell_type": "markdown",
      "metadata": {
        "id": "f_pzbtThUoKj"
      },
      "source": [
        "##보스턴하우징데이터(예측문제)"
      ]
    },
    {
      "cell_type": "code",
      "metadata": {
        "id": "JPBqoDD2Unnu"
      },
      "source": [
        "#패키지 가져오기\n",
        "library(MASS)"
      ],
      "execution_count": 32,
      "outputs": []
    },
    {
      "cell_type": "code",
      "metadata": {
        "id": "dZb_WwvIPuIF"
      },
      "source": [
        "#데이터 불러오기\n",
        "bdat = Boston"
      ],
      "execution_count": 33,
      "outputs": []
    },
    {
      "cell_type": "code",
      "metadata": {
        "id": "pU6iIWOGXckg"
      },
      "source": [
        "#신경망에 사용하는 수치형 변수를 0~1사이의 값으로 바꾸기\n",
        "#bdat데이터의 열 중 max값 & min값\n",
        "max1 = apply(bdat, 2, max)\n",
        "min1 = apply(bdat, 2, min)\n",
        "\n",
        "sdat = scale(bdat, center = min1, scale = max1 - min1)\n",
        "sdat = as.data.frame(sdat)"
      ],
      "execution_count": 34,
      "outputs": []
    },
    {
      "cell_type": "code",
      "metadata": {
        "id": "LPQD09ibZmaD"
      },
      "source": [
        "#훈련/검증데이터 분리\n",
        "set.seed(100)\n",
        "i = sample(1:nrow(bdat), round(0.5*nrow(bdat)))\n",
        "train.dat = sdat[i,]\n",
        "test.dat = sdat[-i, ]"
      ],
      "execution_count": 35,
      "outputs": []
    },
    {
      "cell_type": "code",
      "metadata": {
        "id": "6QvrjsxuZnxW"
      },
      "source": [
        "#신경망 학습\n",
        "n= names(train.dat)\n",
        "form = as.formula(paste(\"medv ~ \", paste(n[!n %in% \"medv\"], collapse = \" + \")))\n",
        "nn1 = neuralnet(form, data = train.dat, hidden = c(5, 3), linear.output = T)\n",
        "plot(nn1)"
      ],
      "execution_count": 36,
      "outputs": []
    },
    {
      "cell_type": "code",
      "metadata": {
        "id": "281iOsdYaXA3"
      },
      "source": [
        "#예측\n",
        "pred.nn1 = compute(nn1, test.dat[,1:13])\n",
        "pred1 = pred.nn1$net.result*(max(bdat$medv)-min(bdat$medv))+min(bdat$medv)"
      ],
      "execution_count": 44,
      "outputs": []
    },
    {
      "cell_type": "code",
      "metadata": {
        "id": "K2fm8XP1dIbQ",
        "colab": {
          "base_uri": "https://localhost:8080/"
        },
        "outputId": "19f2e8d9-64e7-4487-d74b-5f51ff1c7620"
      },
      "source": [
        "#예측평균제곱오차\n",
        "PMSE.bdat = sum((bdat[-i, 14] - pred1)^2)/nrow(test.dat)\n",
        "cat(\"PMSE : \", PMSE.bdat)"
      ],
      "execution_count": 46,
      "outputs": [
        {
          "output_type": "stream",
          "text": [
            "PMSE :  13.68262"
          ],
          "name": "stdout"
        }
      ]
    },
    {
      "cell_type": "markdown",
      "metadata": {
        "id": "zy6mk2DjjBNF"
      },
      "source": [
        "##독일신용평가데이터(목표변수:범주형 -> 분류문제)\n",
        "* 목표변수 : 신용등급\n",
        "* 입력변수 : 그외 변수\n",
        "* 분류문제 : linear.output = F"
      ]
    },
    {
      "cell_type": "code",
      "metadata": {
        "colab": {
          "base_uri": "https://localhost:8080/"
        },
        "id": "YF9l5KkufuBT",
        "outputId": "de505b63-1052-4984-b2df-c9e0bfee7563"
      },
      "source": [
        "#사용패키지\n",
        "install.packages(\"dummy\")\n",
        "library(dummy)"
      ],
      "execution_count": 2,
      "outputs": [
        {
          "output_type": "stream",
          "text": [
            "Installing package into ‘/usr/local/lib/R/site-library’\n",
            "(as ‘lib’ is unspecified)\n",
            "\n",
            "dummy 0.1.3\n",
            "\n",
            "dummyNews()\n",
            "\n"
          ],
          "name": "stderr"
        }
      ]
    },
    {
      "cell_type": "code",
      "metadata": {
        "id": "FpdVl7V7jwEp"
      },
      "source": [
        "#데이터 가져오기\n",
        "url_german = \"https://raw.githubusercontent.com/seunghee0518/R_File/main/%EB%8D%B0%EC%9D%B4%ED%84%B0%EB%A7%88%EC%9D%B4%EB%8B%9D/germandata.txt\"\n",
        "german = read.table(url_german, header=T)"
      ],
      "execution_count": 3,
      "outputs": []
    },
    {
      "cell_type": "code",
      "metadata": {
        "colab": {
          "base_uri": "https://localhost:8080/",
          "height": 1000
        },
        "id": "qV7bTIAOkXN7",
        "outputId": "27517d74-86a0-4d02-adf1-3f02d07c7f0f"
      },
      "source": [
        "dvar = c(4, 9, 10, 15, 17)\n",
        "german2 = dummy(x = german[, dvar])\n",
        "german2 = german2[, -c(10, 14, 17, 20, 24)]\n",
        "german2 = cbind(german[, -dvar], german2)\n",
        "\n",
        "for(i in 1:ncol(german2)){\n",
        "  if(!is.numeric(german2[,i]))\n",
        "  german2[, i] = as.numeric(german2[,i])}\n",
        "\n",
        "german2$y = ifelse(german$y==\"good\", 1, 0)\n",
        "\n",
        "set.seed(1000)\n",
        "i = sample(1:nrow(german2), round(0.75*nrow(german2)))\n",
        "max.german = apply(german2, 2, max)\n",
        "min.german = apply(german2, 2, min)\n",
        "\n",
        "gdat = scale(german2, center = min.german, scale = max.german - min.german)\n",
        "gdat = as.data.frame(gdat)\n",
        "\n",
        "train.german = gdat[i, ]\n",
        "test.german = gdat[-i, ]\n",
        "\n",
        "\n",
        "\n"
      ],
      "execution_count": 14,
      "outputs": [
        {
          "output_type": "stream",
          "text": [
            "Warning message in eval(expr, envir, enclos):\n",
            "“NAs introduced by coercion”\n",
            "Warning message in eval(expr, envir, enclos):\n",
            "“NAs introduced by coercion”\n",
            "Warning message in eval(expr, envir, enclos):\n",
            "“NAs introduced by coercion”\n",
            "Warning message in eval(expr, envir, enclos):\n",
            "“NAs introduced by coercion”\n",
            "Warning message in eval(expr, envir, enclos):\n",
            "“NAs introduced by coercion”\n",
            "Warning message in eval(expr, envir, enclos):\n",
            "“NAs introduced by coercion”\n",
            "Warning message in eval(expr, envir, enclos):\n",
            "“NAs introduced by coercion”\n",
            "Warning message in eval(expr, envir, enclos):\n",
            "“NAs introduced by coercion”\n",
            "Warning message in eval(expr, envir, enclos):\n",
            "“NAs introduced by coercion”\n"
          ],
          "name": "stderr"
        },
        {
          "output_type": "error",
          "ename": "ERROR",
          "evalue": "ignored",
          "traceback": [
            "Error: the error derivative contains a NA; varify that the derivative function does not divide by 0 (e.g. cross entropy)\nTraceback:\n",
            "1. neuralnet(f, data = train.german, hidden = c(3, 2), linear.output = F)",
            "2. lapply(1:rep, function(i) {\n .     if (lifesign != \"none\") {\n .         lifesign <- display(hidden, threshold, rep, i, lifesign)\n .     }\n .     calculate.neuralnet(learningrate.limit = learningrate.limit, \n .         learningrate.factor = learningrate.factor, covariate = covariate, \n .         response = response, data = data, model.list = model.list, \n .         threshold = threshold, lifesign.step = lifesign.step, \n .         stepmax = stepmax, hidden = hidden, lifesign = lifesign, \n .         startweights = startweights, algorithm = algorithm, err.fct = err.fct, \n .         err.deriv.fct = err.deriv.fct, act.fct = act.fct, act.deriv.fct = act.deriv.fct, \n .         rep = i, linear.output = linear.output, exclude = exclude, \n .         constant.weights = constant.weights, likelihood = likelihood, \n .         learningrate.bp = learningrate)\n . })",
            "3. FUN(X[[i]], ...)",
            "4. calculate.neuralnet(learningrate.limit = learningrate.limit, \n .     learningrate.factor = learningrate.factor, covariate = covariate, \n .     response = response, data = data, model.list = model.list, \n .     threshold = threshold, lifesign.step = lifesign.step, stepmax = stepmax, \n .     hidden = hidden, lifesign = lifesign, startweights = startweights, \n .     algorithm = algorithm, err.fct = err.fct, err.deriv.fct = err.deriv.fct, \n .     act.fct = act.fct, act.deriv.fct = act.deriv.fct, rep = i, \n .     linear.output = linear.output, exclude = exclude, constant.weights = constant.weights, \n .     likelihood = likelihood, learningrate.bp = learningrate)",
            "5. rprop(weights = weights, threshold = threshold, response = response, \n .     covariate = covariate, learningrate.limit = learningrate.limit, \n .     learningrate.factor = learningrate.factor, stepmax = stepmax, \n .     lifesign = lifesign, lifesign.step = lifesign.step, act.fct = act.fct, \n .     act.deriv.fct = act.deriv.fct, err.fct = err.fct, err.deriv.fct = err.deriv.fct, \n .     algorithm = algorithm, linear.output = linear.output, exclude = exclude, \n .     learningrate.bp = learningrate.bp)",
            "6. calculate.gradients(weights = weights, length.weights = length.weights, \n .     neurons = result$neurons, neuron.deriv = result$neuron.deriv, \n .     err.deriv = err.deriv, exclude = exclude, linear.output = linear.output)",
            "7. stop(\"the error derivative contains a NA; varify that the derivative function does not divide by 0 (e.g. cross entropy)\", \n .     call. = FALSE)"
          ]
        }
      ]
    },
    {
      "cell_type": "code",
      "metadata": {
        "colab": {
          "base_uri": "https://localhost:8080/",
          "height": 828
        },
        "id": "uHYbUuED8z0Q",
        "outputId": "0ab2a799-a82e-4cc7-d42f-9f87a1ca9a45"
      },
      "source": [
        "gn = names(german2)\n",
        "f = as.formula(paste(\"y ~\", paste(gn[!gn %in% \"y\"], collapse = \" + \")))\n",
        "nn1 = neuralnet(f, data = train.german, hidden = c(3, 2), linear.output = F)"
      ],
      "execution_count": 15,
      "outputs": [
        {
          "output_type": "error",
          "ename": "ERROR",
          "evalue": "ignored",
          "traceback": [
            "Error: the error derivative contains a NA; varify that the derivative function does not divide by 0 (e.g. cross entropy)\nTraceback:\n",
            "1. neuralnet(f, data = train.german, hidden = c(3, 2), linear.output = F)",
            "2. lapply(1:rep, function(i) {\n .     if (lifesign != \"none\") {\n .         lifesign <- display(hidden, threshold, rep, i, lifesign)\n .     }\n .     calculate.neuralnet(learningrate.limit = learningrate.limit, \n .         learningrate.factor = learningrate.factor, covariate = covariate, \n .         response = response, data = data, model.list = model.list, \n .         threshold = threshold, lifesign.step = lifesign.step, \n .         stepmax = stepmax, hidden = hidden, lifesign = lifesign, \n .         startweights = startweights, algorithm = algorithm, err.fct = err.fct, \n .         err.deriv.fct = err.deriv.fct, act.fct = act.fct, act.deriv.fct = act.deriv.fct, \n .         rep = i, linear.output = linear.output, exclude = exclude, \n .         constant.weights = constant.weights, likelihood = likelihood, \n .         learningrate.bp = learningrate)\n . })",
            "3. FUN(X[[i]], ...)",
            "4. calculate.neuralnet(learningrate.limit = learningrate.limit, \n .     learningrate.factor = learningrate.factor, covariate = covariate, \n .     response = response, data = data, model.list = model.list, \n .     threshold = threshold, lifesign.step = lifesign.step, stepmax = stepmax, \n .     hidden = hidden, lifesign = lifesign, startweights = startweights, \n .     algorithm = algorithm, err.fct = err.fct, err.deriv.fct = err.deriv.fct, \n .     act.fct = act.fct, act.deriv.fct = act.deriv.fct, rep = i, \n .     linear.output = linear.output, exclude = exclude, constant.weights = constant.weights, \n .     likelihood = likelihood, learningrate.bp = learningrate)",
            "5. rprop(weights = weights, threshold = threshold, response = response, \n .     covariate = covariate, learningrate.limit = learningrate.limit, \n .     learningrate.factor = learningrate.factor, stepmax = stepmax, \n .     lifesign = lifesign, lifesign.step = lifesign.step, act.fct = act.fct, \n .     act.deriv.fct = act.deriv.fct, err.fct = err.fct, err.deriv.fct = err.deriv.fct, \n .     algorithm = algorithm, linear.output = linear.output, exclude = exclude, \n .     learningrate.bp = learningrate.bp)",
            "6. calculate.gradients(weights = weights, length.weights = length.weights, \n .     neurons = result$neurons, neuron.deriv = result$neuron.deriv, \n .     err.deriv = err.deriv, exclude = exclude, linear.output = linear.output)",
            "7. stop(\"the error derivative contains a NA; varify that the derivative function does not divide by 0 (e.g. cross entropy)\", \n .     call. = FALSE)"
          ]
        }
      ]
    },
    {
      "cell_type": "code",
      "metadata": {
        "colab": {
          "base_uri": "https://localhost:8080/",
          "height": 134
        },
        "id": "LERt8CkBHleu",
        "outputId": "29b793f8-c3c6-4bc5-9060-05fb6cb59894"
      },
      "source": [
        "plot(nn1)"
      ],
      "execution_count": 16,
      "outputs": [
        {
          "output_type": "error",
          "ename": "ERROR",
          "evalue": "ignored",
          "traceback": [
            "Error in plot(nn1): object 'nn1' not found\nTraceback:\n",
            "1. plot(nn1)"
          ]
        }
      ]
    },
    {
      "cell_type": "code",
      "metadata": {
        "colab": {
          "base_uri": "https://localhost:8080/",
          "height": 152
        },
        "id": "YtGh-BQmHwEX",
        "outputId": "4cc0a588-ee6d-4bd2-abb8-9b719fb3639e"
      },
      "source": [
        "pred.nn1 = compute(nn1, test[, c(1:15, 17:dim(german2) [2])])\n",
        "pred.nn1 = ifelse(pred.nn1$net.result>0.5, 1, 0)\n",
        "\n",
        "sum(german2[-i. 16]!=pred.nn2)/length(german2[-i, 16])"
      ],
      "execution_count": 17,
      "outputs": [
        {
          "output_type": "error",
          "ename": "ERROR",
          "evalue": "ignored",
          "traceback": [
            "Error in parse(text = x, srcfile = src): <text>:4:17: unexpected numeric constant\n3: \n4: sum(german2[-i. 16\n                   ^\nTraceback:\n"
          ]
        }
      ]
    },
    {
      "cell_type": "code",
      "metadata": {
        "id": "Jb8aaC9WIF6-"
      },
      "source": [
        ""
      ],
      "execution_count": null,
      "outputs": []
    }
  ]
}