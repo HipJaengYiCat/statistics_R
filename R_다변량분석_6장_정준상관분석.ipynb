{
  "nbformat": 4,
  "nbformat_minor": 0,
  "metadata": {
    "colab": {
      "name": "R_다변량분석_6장_정준상관분석",
      "provenance": [],
      "collapsed_sections": [],
      "authorship_tag": "ABX9TyMp8w18LEmi8aOR7lbQUHZL",
      "include_colab_link": true
    },
    "kernelspec": {
      "name": "ir",
      "display_name": "R"
    }
  },
  "cells": [
    {
      "cell_type": "markdown",
      "metadata": {
        "id": "view-in-github",
        "colab_type": "text"
      },
      "source": [
        "<a href=\"https://colab.research.google.com/github/seunghee0518/R_File/blob/main/R_%EB%8B%A4%EB%B3%80%EB%9F%89%EB%B6%84%EC%84%9D_6%EC%9E%A5_%EC%A0%95%EC%A4%80%EC%83%81%EA%B4%80%EB%B6%84%EC%84%9D.ipynb\" target=\"_parent\"><img src=\"https://colab.research.google.com/assets/colab-badge.svg\" alt=\"Open In Colab\"/></a>"
      ]
    },
    {
      "cell_type": "markdown",
      "metadata": {
        "id": "pXCaJPJRfUYE"
      },
      "source": [
        "# 정준상관분석 예시"
      ]
    },
    {
      "cell_type": "code",
      "metadata": {
        "id": "CwRV6f-LmRW8"
      },
      "source": [
        "#적성시험과 판매실적 자료\n",
        "sales_url = 'https://raw.githubusercontent.com/seunghee0518/R_File/main/%EB%8B%A4%EB%B3%80%EB%9E%91%EB%B6%84%EC%84%9D/mvadata/sales.txt'\n",
        "sales = read.table(sales_url, header=T)"
      ],
      "execution_count": null,
      "outputs": []
    },
    {
      "cell_type": "code",
      "metadata": {
        "id": "2BLR1C7jb_L1",
        "colab": {
          "base_uri": "https://localhost:8080/",
          "height": 283
        },
        "outputId": "7a037a94-14db-4878-ce71-aae426f19cd8"
      },
      "source": [
        "head(sales)"
      ],
      "execution_count": null,
      "outputs": [
        {
          "output_type": "display_data",
          "data": {
            "text/plain": [
              "  ID X1 X2 X3 X4 Y1    Y2    Y3   \n",
              "1 1   9 12  9 20  93.0  96.0  97.8\n",
              "2 2   7 10 10 15  88.8  91.8  96.8\n",
              "3 3   8 12  9 26  95.0 100.3  99.0\n",
              "4 4  12 14 12 29 101.3 103.8 106.8\n",
              "5 5  10 15 12 32 102.0 107.8 103.0\n",
              "6 6  10 14 11 21  95.8  97.5  99.3"
            ],
            "text/latex": "A data.frame: 6 × 8\n\\begin{tabular}{r|llllllll}\n  & ID & X1 & X2 & X3 & X4 & Y1 & Y2 & Y3\\\\\n  & <int> & <int> & <int> & <int> & <int> & <dbl> & <dbl> & <dbl>\\\\\n\\hline\n\t1 & 1 &  9 & 12 &  9 & 20 &  93.0 &  96.0 &  97.8\\\\\n\t2 & 2 &  7 & 10 & 10 & 15 &  88.8 &  91.8 &  96.8\\\\\n\t3 & 3 &  8 & 12 &  9 & 26 &  95.0 & 100.3 &  99.0\\\\\n\t4 & 4 & 12 & 14 & 12 & 29 & 101.3 & 103.8 & 106.8\\\\\n\t5 & 5 & 10 & 15 & 12 & 32 & 102.0 & 107.8 & 103.0\\\\\n\t6 & 6 & 10 & 14 & 11 & 21 &  95.8 &  97.5 &  99.3\\\\\n\\end{tabular}\n",
            "text/markdown": "\nA data.frame: 6 × 8\n\n| <!--/--> | ID &lt;int&gt; | X1 &lt;int&gt; | X2 &lt;int&gt; | X3 &lt;int&gt; | X4 &lt;int&gt; | Y1 &lt;dbl&gt; | Y2 &lt;dbl&gt; | Y3 &lt;dbl&gt; |\n|---|---|---|---|---|---|---|---|---|\n| 1 | 1 |  9 | 12 |  9 | 20 |  93.0 |  96.0 |  97.8 |\n| 2 | 2 |  7 | 10 | 10 | 15 |  88.8 |  91.8 |  96.8 |\n| 3 | 3 |  8 | 12 |  9 | 26 |  95.0 | 100.3 |  99.0 |\n| 4 | 4 | 12 | 14 | 12 | 29 | 101.3 | 103.8 | 106.8 |\n| 5 | 5 | 10 | 15 | 12 | 32 | 102.0 | 107.8 | 103.0 |\n| 6 | 6 | 10 | 14 | 11 | 21 |  95.8 |  97.5 |  99.3 |\n\n",
            "text/html": [
              "<table class=\"dataframe\">\n",
              "<caption>A data.frame: 6 × 8</caption>\n",
              "<thead>\n",
              "\t<tr><th></th><th scope=col>ID</th><th scope=col>X1</th><th scope=col>X2</th><th scope=col>X3</th><th scope=col>X4</th><th scope=col>Y1</th><th scope=col>Y2</th><th scope=col>Y3</th></tr>\n",
              "\t<tr><th></th><th scope=col>&lt;int&gt;</th><th scope=col>&lt;int&gt;</th><th scope=col>&lt;int&gt;</th><th scope=col>&lt;int&gt;</th><th scope=col>&lt;int&gt;</th><th scope=col>&lt;dbl&gt;</th><th scope=col>&lt;dbl&gt;</th><th scope=col>&lt;dbl&gt;</th></tr>\n",
              "</thead>\n",
              "<tbody>\n",
              "\t<tr><th scope=row>1</th><td>1</td><td> 9</td><td>12</td><td> 9</td><td>20</td><td> 93.0</td><td> 96.0</td><td> 97.8</td></tr>\n",
              "\t<tr><th scope=row>2</th><td>2</td><td> 7</td><td>10</td><td>10</td><td>15</td><td> 88.8</td><td> 91.8</td><td> 96.8</td></tr>\n",
              "\t<tr><th scope=row>3</th><td>3</td><td> 8</td><td>12</td><td> 9</td><td>26</td><td> 95.0</td><td>100.3</td><td> 99.0</td></tr>\n",
              "\t<tr><th scope=row>4</th><td>4</td><td>12</td><td>14</td><td>12</td><td>29</td><td>101.3</td><td>103.8</td><td>106.8</td></tr>\n",
              "\t<tr><th scope=row>5</th><td>5</td><td>10</td><td>15</td><td>12</td><td>32</td><td>102.0</td><td>107.8</td><td>103.0</td></tr>\n",
              "\t<tr><th scope=row>6</th><td>6</td><td>10</td><td>14</td><td>11</td><td>21</td><td> 95.8</td><td> 97.5</td><td> 99.3</td></tr>\n",
              "</tbody>\n",
              "</table>\n"
            ]
          },
          "metadata": {
            "tags": []
          }
        }
      ]
    },
    {
      "cell_type": "code",
      "metadata": {
        "id": "NXC09pV06VHH",
        "colab": {
          "base_uri": "https://localhost:8080/",
          "height": 269
        },
        "outputId": "8737895c-0063-4000-dba7-e2438f675276"
      },
      "source": [
        "summary(sales[, c(2:8)])"
      ],
      "execution_count": null,
      "outputs": [
        {
          "output_type": "display_data",
          "data": {
            "text/plain": [
              "       X1              X2              X3              X4       \n",
              " Min.   : 1.00   Min.   : 5.00   Min.   : 5.00   Min.   : 9.00  \n",
              " 1st Qu.: 8.25   1st Qu.:12.00   1st Qu.: 9.00   1st Qu.:21.50  \n",
              " Median :10.00   Median :15.00   Median :11.00   Median :31.50  \n",
              " Mean   :11.20   Mean   :14.18   Mean   :10.56   Mean   :29.76  \n",
              " 3rd Qu.:14.00   3rd Qu.:17.00   3rd Qu.:12.00   3rd Qu.:37.00  \n",
              " Max.   :18.00   Max.   :20.00   Max.   :15.00   Max.   :51.00  \n",
              "       Y1               Y2              Y3        \n",
              " Min.   : 81.50   Min.   : 87.3   Min.   : 94.30  \n",
              " 1st Qu.: 93.55   1st Qu.: 99.5   1st Qu.: 99.08  \n",
              " Median :100.65   Median :106.2   Median :103.15  \n",
              " Mean   : 98.84   Mean   :106.6   Mean   :102.81  \n",
              " 3rd Qu.:105.05   3rd Qu.:114.8   3rd Qu.:106.45  \n",
              " Max.   :110.80   Max.   :122.3   Max.   :115.30  "
            ]
          },
          "metadata": {
            "tags": []
          }
        }
      ]
    },
    {
      "cell_type": "code",
      "metadata": {
        "id": "ofuy8hEC6kHf",
        "colab": {
          "base_uri": "https://localhost:8080/"
        },
        "outputId": "375054d7-e94c-47d7-db84-bd3947cfa0ac"
      },
      "source": [
        "# 각 변수별 표준편차 구하기\n",
        "install.packages('psych')\n",
        "library(psych)"
      ],
      "execution_count": null,
      "outputs": [
        {
          "output_type": "stream",
          "text": [
            "Installing package into ‘/usr/local/lib/R/site-library’\n",
            "(as ‘lib’ is unspecified)\n",
            "\n"
          ],
          "name": "stderr"
        }
      ]
    },
    {
      "cell_type": "code",
      "metadata": {
        "colab": {
          "base_uri": "https://localhost:8080/",
          "height": 51
        },
        "id": "ziA98RvJNarv",
        "outputId": "94f89766-a6d6-4c06-8b0d-df83dda8572d"
      },
      "source": [
        "SD(sales[, c(2:8)])"
      ],
      "execution_count": null,
      "outputs": [
        {
          "output_type": "display_data",
          "data": {
            "text/plain": [
              "       X1        X2        X3        X4        Y1        Y2        Y3 \n",
              " 3.943478  3.384780  2.139617 10.537707  7.337345 10.124315  4.712218 "
            ],
            "text/latex": "\\begin{description*}\n\\item[X1] 3.94347821195493\n\\item[X2] 3.38477985899786\n\\item[X3] 2.13961659735418\n\\item[X4] 10.5377068333733\n\\item[Y1] 7.33734534656056\n\\item[Y2] 10.124314842023\n\\item[Y3] 4.71221816133337\n\\end{description*}\n",
            "text/markdown": "X1\n:   3.94347821195493X2\n:   3.38477985899786X3\n:   2.13961659735418X4\n:   10.5377068333733Y1\n:   7.33734534656056Y2\n:   10.124314842023Y3\n:   4.71221816133337\n\n",
            "text/html": [
              "<style>\n",
              ".dl-inline {width: auto; margin:0; padding: 0}\n",
              ".dl-inline>dt, .dl-inline>dd {float: none; width: auto; display: inline-block}\n",
              ".dl-inline>dt::after {content: \":\\0020\"; padding-right: .5ex}\n",
              ".dl-inline>dt:not(:first-of-type) {padding-left: .5ex}\n",
              "</style><dl class=dl-inline><dt>X1</dt><dd>3.94347821195493</dd><dt>X2</dt><dd>3.38477985899786</dd><dt>X3</dt><dd>2.13961659735418</dd><dt>X4</dt><dd>10.5377068333733</dd><dt>Y1</dt><dd>7.33734534656056</dd><dt>Y2</dt><dd>10.124314842023</dd><dt>Y3</dt><dd>4.71221816133337</dd></dl>\n"
            ]
          },
          "metadata": {
            "tags": []
          }
        }
      ]
    },
    {
      "cell_type": "code",
      "metadata": {
        "id": "M7CwQZti6lJK",
        "colab": {
          "base_uri": "https://localhost:8080/"
        },
        "outputId": "e634ad36-af59-43bb-e71e-8e84e6220e61"
      },
      "source": [
        "#상관계수행렬 구하기\n",
        "library(ggplot2)\n",
        "install.packages('GGally')\n",
        "library(GGally)\n",
        "install.packages('CCA')\n",
        "library(CCA)"
      ],
      "execution_count": null,
      "outputs": [
        {
          "output_type": "stream",
          "text": [
            "Installing package into ‘/usr/local/lib/R/site-library’\n",
            "(as ‘lib’ is unspecified)\n",
            "\n",
            "Installing package into ‘/usr/local/lib/R/site-library’\n",
            "(as ‘lib’ is unspecified)\n",
            "\n",
            "also installing the dependencies ‘misc3d’, ‘mvtnorm’, ‘locfit’, ‘ash’, ‘FNN’, ‘kernlab’, ‘mclust’, ‘multicool’, ‘plot3D’, ‘pcaPP’, ‘hdrcde’, ‘ks’, ‘bitops’, ‘rainbow’, ‘RCurl’, ‘dotCall64’, ‘gridExtra’, ‘fds’, ‘spam’, ‘viridis’, ‘maps’, ‘fda’, ‘fields’\n",
            "\n",
            "\n",
            "Loading required package: fda\n",
            "\n",
            "Loading required package: splines\n",
            "\n",
            "Loading required package: Matrix\n",
            "\n",
            "Loading required package: fds\n",
            "\n",
            "Loading required package: rainbow\n",
            "\n",
            "Loading required package: MASS\n",
            "\n",
            "Loading required package: pcaPP\n",
            "\n",
            "Loading required package: RCurl\n",
            "\n",
            "\n",
            "Attaching package: ‘fda’\n",
            "\n",
            "\n",
            "The following object is masked from ‘package:graphics’:\n",
            "\n",
            "    matplot\n",
            "\n",
            "\n",
            "Loading required package: fields\n",
            "\n",
            "Loading required package: spam\n",
            "\n",
            "Loading required package: dotCall64\n",
            "\n",
            "Loading required package: grid\n",
            "\n",
            "Spam version 2.6-0 (2020-12-14) is loaded.\n",
            "Type 'help( Spam)' or 'demo( spam)' for a short introduction \n",
            "and overview of this package.\n",
            "Help for individual functions is also obtained by adding the\n",
            "suffix '.spam' to the function name, e.g. 'help( chol.spam)'.\n",
            "\n",
            "\n",
            "Attaching package: ‘spam’\n",
            "\n",
            "\n",
            "The following object is masked from ‘package:Matrix’:\n",
            "\n",
            "    det\n",
            "\n",
            "\n",
            "The following objects are masked from ‘package:base’:\n",
            "\n",
            "    backsolve, forwardsolve\n",
            "\n",
            "\n",
            "Loading required package: viridis\n",
            "\n",
            "Loading required package: viridisLite\n",
            "\n",
            "See https://github.com/NCAR/Fields for\n",
            " an extensive vignette, other supplements and source code \n",
            "\n",
            "\n",
            "Attaching package: ‘fields’\n",
            "\n",
            "\n",
            "The following object is masked from ‘package:psych’:\n",
            "\n",
            "    describe\n",
            "\n",
            "\n"
          ],
          "name": "stderr"
        }
      ]
    },
    {
      "cell_type": "code",
      "metadata": {
        "id": "0rtfi08b6m9b",
        "colab": {
          "base_uri": "https://localhost:8080/",
          "height": 437
        },
        "outputId": "7032b333-cbed-497f-f2ee-98a432a2df1b"
      },
      "source": [
        "exam = sales[, c(2:5)]\n",
        "perform = sales[, c(6:8)]\n",
        "\n",
        "#X1~X4로 이루어진 객체 exam의 산점도 및 상관계수\n",
        "ggpairs(exam)"
      ],
      "execution_count": null,
      "outputs": [
        {
          "output_type": "display_data",
          "data": {
            "image/png": "[encoded data removed]",
            "text/plain": [
              "plot without title"
            ]
          },
          "metadata": {
            "tags": [],
            "image/png": {
              "width": 420,
              "height": 420
            }
          }
        }
      ]
    },
    {
      "cell_type": "code",
      "metadata": {
        "colab": {
          "base_uri": "https://localhost:8080/",
          "height": 437
        },
        "id": "FU-IgVi9P4Ny",
        "outputId": "e9f5d71a-8ae4-4283-98be-f2d4e3a388ae"
      },
      "source": [
        "#Y1~Y3으로 이루어진 객체 perform의 산점도 및 상관계수\n",
        "ggpairs(perform)"
      ],
      "execution_count": null,
      "outputs": [
        {
          "output_type": "display_data",
          "data": {
            "image/png": "[encoded data removed]",
            "text/plain": [
              "plot without title"
            ]
          },
          "metadata": {
            "tags": [],
            "image/png": {
              "width": 420,
              "height": 420
            }
          }
        }
      ]
    },
    {
      "cell_type": "code",
      "metadata": {
        "colab": {
          "base_uri": "https://localhost:8080/",
          "height": 677
        },
        "id": "Urih1sieQD0B",
        "outputId": "a1eacb0b-fb34-4cb2-fa51-d4472027b775"
      },
      "source": [
        "# 두 변수의 상관계수행렬\n",
        "matcor(exam, perform)"
      ],
      "execution_count": null,
      "outputs": [
        {
          "output_type": "display_data",
          "data": {
            "text/plain": [
              "$Xcor\n",
              "          X1        X2        X3        X4\n",
              "X1 1.0000000 0.5920105 0.1436729 0.4137107\n",
              "X2 0.5920105 1.0000000 0.3859502 0.5745533\n",
              "X3 0.1436729 0.3859502 1.0000000 0.5663721\n",
              "X4 0.4137107 0.5745533 0.5663721 1.0000000\n",
              "\n",
              "$Ycor\n",
              "          Y1        Y2        Y3\n",
              "Y1 1.0000000 0.9260758 0.8840023\n",
              "Y2 0.9260758 1.0000000 0.8425232\n",
              "Y3 0.8840023 0.8425232 1.0000000\n",
              "\n",
              "$XYcor\n",
              "          X1        X2        X3        X4        Y1        Y2        Y3\n",
              "X1 1.0000000 0.5920105 0.1436729 0.4137107 0.5712660 0.5438665 0.6971657\n",
              "X2 0.5920105 1.0000000 0.3859502 0.5745533 0.7080738 0.7459097 0.6374712\n",
              "X3 0.1436729 0.3859502 1.0000000 0.5663721 0.6744073 0.4653880 0.6410886\n",
              "X4 0.4137107 0.5745533 0.5663721 1.0000000 0.9273116 0.9442960 0.8525682\n",
              "Y1 0.5712660 0.7080738 0.6744073 0.9273116 1.0000000 0.9260758 0.8840023\n",
              "Y2 0.5438665 0.7459097 0.4653880 0.9442960 0.9260758 1.0000000 0.8425232\n",
              "Y3 0.6971657 0.6374712 0.6410886 0.8525682 0.8840023 0.8425232 1.0000000\n"
            ],
            "text/latex": "\\begin{description}\n\\item[\\$Xcor] A matrix: 4 × 4 of type dbl\n\\begin{tabular}{r|llll}\n  & X1 & X2 & X3 & X4\\\\\n\\hline\n\tX1 & 1.0000000 & 0.5920105 & 0.1436729 & 0.4137107\\\\\n\tX2 & 0.5920105 & 1.0000000 & 0.3859502 & 0.5745533\\\\\n\tX3 & 0.1436729 & 0.3859502 & 1.0000000 & 0.5663721\\\\\n\tX4 & 0.4137107 & 0.5745533 & 0.5663721 & 1.0000000\\\\\n\\end{tabular}\n\n\\item[\\$Ycor] A matrix: 3 × 3 of type dbl\n\\begin{tabular}{r|lll}\n  & Y1 & Y2 & Y3\\\\\n\\hline\n\tY1 & 1.0000000 & 0.9260758 & 0.8840023\\\\\n\tY2 & 0.9260758 & 1.0000000 & 0.8425232\\\\\n\tY3 & 0.8840023 & 0.8425232 & 1.0000000\\\\\n\\end{tabular}\n\n\\item[\\$XYcor] A matrix: 7 × 7 of type dbl\n\\begin{tabular}{r|lllllll}\n  & X1 & X2 & X3 & X4 & Y1 & Y2 & Y3\\\\\n\\hline\n\tX1 & 1.0000000 & 0.5920105 & 0.1436729 & 0.4137107 & 0.5712660 & 0.5438665 & 0.6971657\\\\\n\tX2 & 0.5920105 & 1.0000000 & 0.3859502 & 0.5745533 & 0.7080738 & 0.7459097 & 0.6374712\\\\\n\tX3 & 0.1436729 & 0.3859502 & 1.0000000 & 0.5663721 & 0.6744073 & 0.4653880 & 0.6410886\\\\\n\tX4 & 0.4137107 & 0.5745533 & 0.5663721 & 1.0000000 & 0.9273116 & 0.9442960 & 0.8525682\\\\\n\tY1 & 0.5712660 & 0.7080738 & 0.6744073 & 0.9273116 & 1.0000000 & 0.9260758 & 0.8840023\\\\\n\tY2 & 0.5438665 & 0.7459097 & 0.4653880 & 0.9442960 & 0.9260758 & 1.0000000 & 0.8425232\\\\\n\tY3 & 0.6971657 & 0.6374712 & 0.6410886 & 0.8525682 & 0.8840023 & 0.8425232 & 1.0000000\\\\\n\\end{tabular}\n\n\\end{description}\n",
            "text/markdown": "$Xcor\n:   \nA matrix: 4 × 4 of type dbl\n\n| <!--/--> | X1 | X2 | X3 | X4 |\n|---|---|---|---|---|\n| X1 | 1.0000000 | 0.5920105 | 0.1436729 | 0.4137107 |\n| X2 | 0.5920105 | 1.0000000 | 0.3859502 | 0.5745533 |\n| X3 | 0.1436729 | 0.3859502 | 1.0000000 | 0.5663721 |\n| X4 | 0.4137107 | 0.5745533 | 0.5663721 | 1.0000000 |\n\n\n$Ycor\n:   \nA matrix: 3 × 3 of type dbl\n\n| <!--/--> | Y1 | Y2 | Y3 |\n|---|---|---|---|\n| Y1 | 1.0000000 | 0.9260758 | 0.8840023 |\n| Y2 | 0.9260758 | 1.0000000 | 0.8425232 |\n| Y3 | 0.8840023 | 0.8425232 | 1.0000000 |\n\n\n$XYcor\n:   \nA matrix: 7 × 7 of type dbl\n\n| <!--/--> | X1 | X2 | X3 | X4 | Y1 | Y2 | Y3 |\n|---|---|---|---|---|---|---|---|\n| X1 | 1.0000000 | 0.5920105 | 0.1436729 | 0.4137107 | 0.5712660 | 0.5438665 | 0.6971657 |\n| X2 | 0.5920105 | 1.0000000 | 0.3859502 | 0.5745533 | 0.7080738 | 0.7459097 | 0.6374712 |\n| X3 | 0.1436729 | 0.3859502 | 1.0000000 | 0.5663721 | 0.6744073 | 0.4653880 | 0.6410886 |\n| X4 | 0.4137107 | 0.5745533 | 0.5663721 | 1.0000000 | 0.9273116 | 0.9442960 | 0.8525682 |\n| Y1 | 0.5712660 | 0.7080738 | 0.6744073 | 0.9273116 | 1.0000000 | 0.9260758 | 0.8840023 |\n| Y2 | 0.5438665 | 0.7459097 | 0.4653880 | 0.9442960 | 0.9260758 | 1.0000000 | 0.8425232 |\n| Y3 | 0.6971657 | 0.6374712 | 0.6410886 | 0.8525682 | 0.8840023 | 0.8425232 | 1.0000000 |\n\n\n\n\n",
            "text/html": [
              "<dl>\n",
              "\t<dt>$Xcor</dt>\n",
              "\t\t<dd><table class=\"dataframe\">\n",
              "<caption>A matrix: 4 × 4 of type dbl</caption>\n",
              "<thead>\n",
              "\t<tr><th></th><th scope=col>X1</th><th scope=col>X2</th><th scope=col>X3</th><th scope=col>X4</th></tr>\n",
              "</thead>\n",
              "<tbody>\n",
              "\t<tr><th scope=row>X1</th><td>1.0000000</td><td>0.5920105</td><td>0.1436729</td><td>0.4137107</td></tr>\n",
              "\t<tr><th scope=row>X2</th><td>0.5920105</td><td>1.0000000</td><td>0.3859502</td><td>0.5745533</td></tr>\n",
              "\t<tr><th scope=row>X3</th><td>0.1436729</td><td>0.3859502</td><td>1.0000000</td><td>0.5663721</td></tr>\n",
              "\t<tr><th scope=row>X4</th><td>0.4137107</td><td>0.5745533</td><td>0.5663721</td><td>1.0000000</td></tr>\n",
              "</tbody>\n",
              "</table>\n",
              "</dd>\n",
              "\t<dt>$Ycor</dt>\n",
              "\t\t<dd><table class=\"dataframe\">\n",
              "<caption>A matrix: 3 × 3 of type dbl</caption>\n",
              "<thead>\n",
              "\t<tr><th></th><th scope=col>Y1</th><th scope=col>Y2</th><th scope=col>Y3</th></tr>\n",
              "</thead>\n",
              "<tbody>\n",
              "\t<tr><th scope=row>Y1</th><td>1.0000000</td><td>0.9260758</td><td>0.8840023</td></tr>\n",
              "\t<tr><th scope=row>Y2</th><td>0.9260758</td><td>1.0000000</td><td>0.8425232</td></tr>\n",
              "\t<tr><th scope=row>Y3</th><td>0.8840023</td><td>0.8425232</td><td>1.0000000</td></tr>\n",
              "</tbody>\n",
              "</table>\n",
              "</dd>\n",
              "\t<dt>$XYcor</dt>\n",
              "\t\t<dd><table class=\"dataframe\">\n",
              "<caption>A matrix: 7 × 7 of type dbl</caption>\n",
              "<thead>\n",
              "\t<tr><th></th><th scope=col>X1</th><th scope=col>X2</th><th scope=col>X3</th><th scope=col>X4</th><th scope=col>Y1</th><th scope=col>Y2</th><th scope=col>Y3</th></tr>\n",
              "</thead>\n",
              "<tbody>\n",
              "\t<tr><th scope=row>X1</th><td>1.0000000</td><td>0.5920105</td><td>0.1436729</td><td>0.4137107</td><td>0.5712660</td><td>0.5438665</td><td>0.6971657</td></tr>\n",
              "\t<tr><th scope=row>X2</th><td>0.5920105</td><td>1.0000000</td><td>0.3859502</td><td>0.5745533</td><td>0.7080738</td><td>0.7459097</td><td>0.6374712</td></tr>\n",
              "\t<tr><th scope=row>X3</th><td>0.1436729</td><td>0.3859502</td><td>1.0000000</td><td>0.5663721</td><td>0.6744073</td><td>0.4653880</td><td>0.6410886</td></tr>\n",
              "\t<tr><th scope=row>X4</th><td>0.4137107</td><td>0.5745533</td><td>0.5663721</td><td>1.0000000</td><td>0.9273116</td><td>0.9442960</td><td>0.8525682</td></tr>\n",
              "\t<tr><th scope=row>Y1</th><td>0.5712660</td><td>0.7080738</td><td>0.6744073</td><td>0.9273116</td><td>1.0000000</td><td>0.9260758</td><td>0.8840023</td></tr>\n",
              "\t<tr><th scope=row>Y2</th><td>0.5438665</td><td>0.7459097</td><td>0.4653880</td><td>0.9442960</td><td>0.9260758</td><td>1.0000000</td><td>0.8425232</td></tr>\n",
              "\t<tr><th scope=row>Y3</th><td>0.6971657</td><td>0.6374712</td><td>0.6410886</td><td>0.8525682</td><td>0.8840023</td><td>0.8425232</td><td>1.0000000</td></tr>\n",
              "</tbody>\n",
              "</table>\n",
              "</dd>\n",
              "</dl>\n"
            ]
          },
          "metadata": {
            "tags": []
          }
        }
      ]
    },
    {
      "cell_type": "markdown",
      "metadata": {
        "id": "sZ2QTfQuQLj7"
      },
      "source": [
        "* $Xcor의 결과에서 X변수군과 Y변수군 사이에 전반적으로 강한 양의 상관관계가 있음을 알 수 있다."
      ]
    },
    {
      "cell_type": "code",
      "metadata": {
        "id": "KgA_5t7z6oic",
        "colab": {
          "base_uri": "https://localhost:8080/",
          "height": 34
        },
        "outputId": "2bb924ee-b429-4618-b788-d19cffaba6c1"
      },
      "source": [
        "#정준상관분석 실행하기\n",
        "canonical.result = cc(exam, perform)\n",
        "names(canonical.result) # 결과를 저장하는 변수 객체"
      ],
      "execution_count": null,
      "outputs": [
        {
          "output_type": "display_data",
          "data": {
            "text/plain": [
              "[1] \"cor\"    \"names\"  \"xcoef\"  \"ycoef\"  \"scores\""
            ],
            "text/latex": "\\begin{enumerate*}\n\\item 'cor'\n\\item 'names'\n\\item 'xcoef'\n\\item 'ycoef'\n\\item 'scores'\n\\end{enumerate*}\n",
            "text/markdown": "1. 'cor'\n2. 'names'\n3. 'xcoef'\n4. 'ycoef'\n5. 'scores'\n\n\n",
            "text/html": [
              "<style>\n",
              ".list-inline {list-style: none; margin:0; padding: 0}\n",
              ".list-inline>li {display: inline-block}\n",
              ".list-inline>li:not(:last-child)::after {content: \"\\00b7\"; padding: 0 .5ex}\n",
              "</style>\n",
              "<ol class=list-inline><li>'cor'</li><li>'names'</li><li>'xcoef'</li><li>'ycoef'</li><li>'scores'</li></ol>\n"
            ]
          },
          "metadata": {
            "tags": []
          }
        }
      ]
    },
    {
      "cell_type": "code",
      "metadata": {
        "colab": {
          "base_uri": "https://localhost:8080/",
          "height": 34
        },
        "id": "d1mNa2PHQAi2",
        "outputId": "c08922dd-f9b8-4d4c-e971-d0c921280a46"
      },
      "source": [
        "#두 변수군의 정준상관계수 : 가능한 정준상관계수 쌍은 두 변수군중 작은 값이므로 3개\n",
        "canonical.result$cor"
      ],
      "execution_count": null,
      "outputs": [
        {
          "output_type": "display_data",
          "data": {
            "text/plain": [
              "[1] 0.9941528 0.8736326 0.3818977"
            ],
            "text/latex": "\\begin{enumerate*}\n\\item 0.994152777425467\n\\item 0.87363257014052\n\\item 0.381897726434084\n\\end{enumerate*}\n",
            "text/markdown": "1. 0.994152777425467\n2. 0.87363257014052\n3. 0.381897726434084\n\n\n",
            "text/html": [
              "<style>\n",
              ".list-inline {list-style: none; margin:0; padding: 0}\n",
              ".list-inline>li {display: inline-block}\n",
              ".list-inline>li:not(:last-child)::after {content: \"\\00b7\"; padding: 0 .5ex}\n",
              "</style>\n",
              "<ol class=list-inline><li>0.994152777425467</li><li>0.87363257014052</li><li>0.381897726434084</li></ol>\n"
            ]
          },
          "metadata": {
            "tags": []
          }
        }
      ]
    },
    {
      "cell_type": "markdown",
      "metadata": {
        "id": "nS7ZVatIQ_OX"
      },
      "source": [
        "* 제1정준상관계수 : 0.994\n",
        "* 즉, 두 변수집단 사이에는 매우 높은 상관관계가 있다.\n",
        "* 제2정준상관계수 : 0.874\n",
        "* 유의미한 의미를 가진다"
      ]
    },
    {
      "cell_type": "code",
      "metadata": {
        "colab": {
          "base_uri": "https://localhost:8080/",
          "height": 164
        },
        "id": "cWt9HylRtIgx",
        "outputId": "a652d354-8bdb-437f-c549-55d3544d5a24"
      },
      "source": [
        "canonical.result$names"
      ],
      "execution_count": null,
      "outputs": [
        {
          "output_type": "display_data",
          "data": {
            "text/plain": [
              "$Xnames\n",
              "[1] \"X1\" \"X2\" \"X3\" \"X4\"\n",
              "\n",
              "$Ynames\n",
              "[1] \"Y1\" \"Y2\" \"Y3\"\n",
              "\n",
              "$ind.names\n",
              " [1] \"1\"  \"2\"  \"3\"  \"4\"  \"5\"  \"6\"  \"7\"  \"8\"  \"9\"  \"10\" \"11\" \"12\" \"13\" \"14\" \"15\"\n",
              "[16] \"16\" \"17\" \"18\" \"19\" \"20\" \"21\" \"22\" \"23\" \"24\" \"25\" \"26\" \"27\" \"28\" \"29\" \"30\"\n",
              "[31] \"31\" \"32\" \"33\" \"34\" \"35\" \"36\" \"37\" \"38\" \"39\" \"40\" \"41\" \"42\" \"43\" \"44\" \"45\"\n",
              "[46] \"46\" \"47\" \"48\" \"49\" \"50\"\n"
            ],
            "text/latex": "\\begin{description}\n\\item[\\$Xnames] \\begin{enumerate*}\n\\item 'X1'\n\\item 'X2'\n\\item 'X3'\n\\item 'X4'\n\\end{enumerate*}\n\n\\item[\\$Ynames] \\begin{enumerate*}\n\\item 'Y1'\n\\item 'Y2'\n\\item 'Y3'\n\\end{enumerate*}\n\n\\item[\\$ind.names] \\begin{enumerate*}\n\\item '1'\n\\item '2'\n\\item '3'\n\\item '4'\n\\item '5'\n\\item '6'\n\\item '7'\n\\item '8'\n\\item '9'\n\\item '10'\n\\item '11'\n\\item '12'\n\\item '13'\n\\item '14'\n\\item '15'\n\\item '16'\n\\item '17'\n\\item '18'\n\\item '19'\n\\item '20'\n\\item '21'\n\\item '22'\n\\item '23'\n\\item '24'\n\\item '25'\n\\item '26'\n\\item '27'\n\\item '28'\n\\item '29'\n\\item '30'\n\\item '31'\n\\item '32'\n\\item '33'\n\\item '34'\n\\item '35'\n\\item '36'\n\\item '37'\n\\item '38'\n\\item '39'\n\\item '40'\n\\item '41'\n\\item '42'\n\\item '43'\n\\item '44'\n\\item '45'\n\\item '46'\n\\item '47'\n\\item '48'\n\\item '49'\n\\item '50'\n\\end{enumerate*}\n\n\\end{description}\n",
            "text/markdown": "$Xnames\n:   1. 'X1'\n2. 'X2'\n3. 'X3'\n4. 'X4'\n\n\n\n$Ynames\n:   1. 'Y1'\n2. 'Y2'\n3. 'Y3'\n\n\n\n$ind.names\n:   1. '1'\n2. '2'\n3. '3'\n4. '4'\n5. '5'\n6. '6'\n7. '7'\n8. '8'\n9. '9'\n10. '10'\n11. '11'\n12. '12'\n13. '13'\n14. '14'\n15. '15'\n16. '16'\n17. '17'\n18. '18'\n19. '19'\n20. '20'\n21. '21'\n22. '22'\n23. '23'\n24. '24'\n25. '25'\n26. '26'\n27. '27'\n28. '28'\n29. '29'\n30. '30'\n31. '31'\n32. '32'\n33. '33'\n34. '34'\n35. '35'\n36. '36'\n37. '37'\n38. '38'\n39. '39'\n40. '40'\n41. '41'\n42. '42'\n43. '43'\n44. '44'\n45. '45'\n46. '46'\n47. '47'\n48. '48'\n49. '49'\n50. '50'\n\n\n\n\n\n",
            "text/html": [
              "<dl>\n",
              "\t<dt>$Xnames</dt>\n",
              "\t\t<dd><style>\n",
              ".list-inline {list-style: none; margin:0; padding: 0}\n",
              ".list-inline>li {display: inline-block}\n",
              ".list-inline>li:not(:last-child)::after {content: \"\\00b7\"; padding: 0 .5ex}\n",
              "</style>\n",
              "<ol class=list-inline><li>'X1'</li><li>'X2'</li><li>'X3'</li><li>'X4'</li></ol>\n",
              "</dd>\n",
              "\t<dt>$Ynames</dt>\n",
              "\t\t<dd><style>\n",
              ".list-inline {list-style: none; margin:0; padding: 0}\n",
              ".list-inline>li {display: inline-block}\n",
              ".list-inline>li:not(:last-child)::after {content: \"\\00b7\"; padding: 0 .5ex}\n",
              "</style>\n",
              "<ol class=list-inline><li>'Y1'</li><li>'Y2'</li><li>'Y3'</li></ol>\n",
              "</dd>\n",
              "\t<dt>$ind.names</dt>\n",
              "\t\t<dd><style>\n",
              ".list-inline {list-style: none; margin:0; padding: 0}\n",
              ".list-inline>li {display: inline-block}\n",
              ".list-inline>li:not(:last-child)::after {content: \"\\00b7\"; padding: 0 .5ex}\n",
              "</style>\n",
              "<ol class=list-inline><li>'1'</li><li>'2'</li><li>'3'</li><li>'4'</li><li>'5'</li><li>'6'</li><li>'7'</li><li>'8'</li><li>'9'</li><li>'10'</li><li>'11'</li><li>'12'</li><li>'13'</li><li>'14'</li><li>'15'</li><li>'16'</li><li>'17'</li><li>'18'</li><li>'19'</li><li>'20'</li><li>'21'</li><li>'22'</li><li>'23'</li><li>'24'</li><li>'25'</li><li>'26'</li><li>'27'</li><li>'28'</li><li>'29'</li><li>'30'</li><li>'31'</li><li>'32'</li><li>'33'</li><li>'34'</li><li>'35'</li><li>'36'</li><li>'37'</li><li>'38'</li><li>'39'</li><li>'40'</li><li>'41'</li><li>'42'</li><li>'43'</li><li>'44'</li><li>'45'</li><li>'46'</li><li>'47'</li><li>'48'</li><li>'49'</li><li>'50'</li></ol>\n",
              "</dd>\n",
              "</dl>\n"
            ]
          },
          "metadata": {
            "tags": []
          }
        }
      ]
    },
    {
      "cell_type": "code",
      "metadata": {
        "colab": {
          "base_uri": "https://localhost:8080/",
          "height": 158
        },
        "id": "tjoOJdjpRSqN",
        "outputId": "9e0d579e-6fc0-4f2a-f2c8-b36ddd1876a1"
      },
      "source": [
        "#독립변수 집단의 정준변수의 선형결합계수\n",
        "canonical.result$xcoef"
      ],
      "execution_count": null,
      "outputs": [
        {
          "output_type": "display_data",
          "data": {
            "text/plain": [
              "   [,1]        [,2]        [,3]       \n",
              "X1 -0.06761486  0.19166238  0.24939818\n",
              "X2 -0.03282084 -0.20075422 -0.14457462\n",
              "X3 -0.08557668  0.50133656 -0.27278359\n",
              "X4 -0.06343222 -0.06799141  0.01048697"
            ],
            "text/latex": "A matrix: 4 × 3 of type dbl\n\\begin{tabular}{r|lll}\n\tX1 & -0.06761486 &  0.19166238 &  0.24939818\\\\\n\tX2 & -0.03282084 & -0.20075422 & -0.14457462\\\\\n\tX3 & -0.08557668 &  0.50133656 & -0.27278359\\\\\n\tX4 & -0.06343222 & -0.06799141 &  0.01048697\\\\\n\\end{tabular}\n",
            "text/markdown": "\nA matrix: 4 × 3 of type dbl\n\n| X1 | -0.06761486 |  0.19166238 |  0.24939818 |\n| X2 | -0.03282084 | -0.20075422 | -0.14457462 |\n| X3 | -0.08557668 |  0.50133656 | -0.27278359 |\n| X4 | -0.06343222 | -0.06799141 |  0.01048697 |\n\n",
            "text/html": [
              "<table class=\"dataframe\">\n",
              "<caption>A matrix: 4 × 3 of type dbl</caption>\n",
              "<tbody>\n",
              "\t<tr><th scope=row>X1</th><td>-0.06761486</td><td> 0.19166238</td><td> 0.24939818</td></tr>\n",
              "\t<tr><th scope=row>X2</th><td>-0.03282084</td><td>-0.20075422</td><td>-0.14457462</td></tr>\n",
              "\t<tr><th scope=row>X3</th><td>-0.08557668</td><td> 0.50133656</td><td>-0.27278359</td></tr>\n",
              "\t<tr><th scope=row>X4</th><td>-0.06343222</td><td>-0.06799141</td><td> 0.01048697</td></tr>\n",
              "</tbody>\n",
              "</table>\n"
            ]
          },
          "metadata": {
            "tags": []
          }
        }
      ]
    },
    {
      "cell_type": "code",
      "metadata": {
        "colab": {
          "base_uri": "https://localhost:8080/",
          "height": 127
        },
        "id": "k66QBtrPRYxH",
        "outputId": "bff890de-c35c-4757-8ca2-2bf5e214976d"
      },
      "source": [
        "#반응변수 집단의 정준변수의 선형결합계수\n",
        "canonical.result$ycoef"
      ],
      "execution_count": null,
      "outputs": [
        {
          "output_type": "display_data",
          "data": {
            "text/plain": [
              "   [,1]        [,2]       [,3]      \n",
              "Y1 -0.06089225  0.1767828 -0.3761327\n",
              "Y2 -0.02343702 -0.2424824  0.1022237\n",
              "Y3 -0.07526146  0.2370399  0.3847899"
            ],
            "text/latex": "A matrix: 3 × 3 of type dbl\n\\begin{tabular}{r|lll}\n\tY1 & -0.06089225 &  0.1767828 & -0.3761327\\\\\n\tY2 & -0.02343702 & -0.2424824 &  0.1022237\\\\\n\tY3 & -0.07526146 &  0.2370399 &  0.3847899\\\\\n\\end{tabular}\n",
            "text/markdown": "\nA matrix: 3 × 3 of type dbl\n\n| Y1 | -0.06089225 |  0.1767828 | -0.3761327 |\n| Y2 | -0.02343702 | -0.2424824 |  0.1022237 |\n| Y3 | -0.07526146 |  0.2370399 |  0.3847899 |\n\n",
            "text/html": [
              "<table class=\"dataframe\">\n",
              "<caption>A matrix: 3 × 3 of type dbl</caption>\n",
              "<tbody>\n",
              "\t<tr><th scope=row>Y1</th><td>-0.06089225</td><td> 0.1767828</td><td>-0.3761327</td></tr>\n",
              "\t<tr><th scope=row>Y2</th><td>-0.02343702</td><td>-0.2424824</td><td> 0.1022237</td></tr>\n",
              "\t<tr><th scope=row>Y3</th><td>-0.07526146</td><td> 0.2370399</td><td> 0.3847899</td></tr>\n",
              "</tbody>\n",
              "</table>\n"
            ]
          },
          "metadata": {
            "tags": []
          }
        }
      ]
    },
    {
      "cell_type": "markdown",
      "metadata": {
        "id": "YrjqCUYGSVYl"
      },
      "source": [
        "> Y변수군과 X변수군의 제1정준변수\n",
        "* V1 = -0.061 Y1 - 0.023 Y2 - 0.075 Y3\n",
        "* W1 = -0.068 X1 - 0.033 X2 - 0.086 X3 - 0.063 X4\n",
        "\n",
        "> Y변수군과 X변수군의 제2정준변수\n",
        "* V2 = 0.177 Y1 - 0.242 Y2 + 0.237 Y3\n",
        "* W1 = 0.192 X1 - 0.201 X2 + 0.501 X3 - 0.068 X4"
      ]
    },
    {
      "cell_type": "code",
      "metadata": {
        "colab": {
          "base_uri": "https://localhost:8080/",
          "height": 189
        },
        "id": "aDc5gD9yRaoy",
        "outputId": "ae964561-1860-4260-9b49-51c405f4b762"
      },
      "source": [
        "#독립변수 집단의 정준상관점수\n",
        "head(canonical.result$scores$xscores, 5)"
      ],
      "execution_count": null,
      "outputs": [
        {
          "output_type": "display_data",
          "data": {
            "text/plain": [
              "     [,1]       [,2]       [,3]       \n",
              "[1,]  0.9729002 -0.1025019  0.08968621\n",
              "[2,]  1.4053560  0.7569754 -0.44517936\n",
              "[3,]  0.6599217 -0.7021127 -0.09679012\n",
              "[4,] -0.1232061  0.9630638 -0.17523649\n",
              "[5,] -0.2110938  0.1750106 -0.78714654"
            ],
            "text/latex": "A matrix: 5 × 3 of type dbl\n\\begin{tabular}{lll}\n\t  0.9729002 & -0.1025019 &  0.08968621\\\\\n\t  1.4053560 &  0.7569754 & -0.44517936\\\\\n\t  0.6599217 & -0.7021127 & -0.09679012\\\\\n\t -0.1232061 &  0.9630638 & -0.17523649\\\\\n\t -0.2110938 &  0.1750106 & -0.78714654\\\\\n\\end{tabular}\n",
            "text/markdown": "\nA matrix: 5 × 3 of type dbl\n\n|  0.9729002 | -0.1025019 |  0.08968621 |\n|  1.4053560 |  0.7569754 | -0.44517936 |\n|  0.6599217 | -0.7021127 | -0.09679012 |\n| -0.1232061 |  0.9630638 | -0.17523649 |\n| -0.2110938 |  0.1750106 | -0.78714654 |\n\n",
            "text/html": [
              "<table class=\"dataframe\">\n",
              "<caption>A matrix: 5 × 3 of type dbl</caption>\n",
              "<tbody>\n",
              "\t<tr><td> 0.9729002</td><td>-0.1025019</td><td> 0.08968621</td></tr>\n",
              "\t<tr><td> 1.4053560</td><td> 0.7569754</td><td>-0.44517936</td></tr>\n",
              "\t<tr><td> 0.6599217</td><td>-0.7021127</td><td>-0.09679012</td></tr>\n",
              "\t<tr><td>-0.1232061</td><td> 0.9630638</td><td>-0.17523649</td></tr>\n",
              "\t<tr><td>-0.2110938</td><td> 0.1750106</td><td>-0.78714654</td></tr>\n",
              "</tbody>\n",
              "</table>\n"
            ]
          },
          "metadata": {
            "tags": []
          }
        }
      ]
    },
    {
      "cell_type": "code",
      "metadata": {
        "colab": {
          "base_uri": "https://localhost:8080/",
          "height": 189
        },
        "id": "5yVtDIVATAxQ",
        "outputId": "ab59291d-620f-4815-c145-b34c78dd29ac"
      },
      "source": [
        "#반응변수 집단의 정준상관점수\n",
        "head(canonical.result$scores$yscores, 5)"
      ],
      "execution_count": null,
      "outputs": [
        {
          "output_type": "display_data",
          "data": {
            "text/plain": [
              "     [,1]       [,2]        [,3]      \n",
              "[1,]  0.9813751  0.35637308 -0.8185078\n",
              "[2,]  1.4108195  0.39527125 -0.0528803\n",
              "[3,]  0.6684977 -0.04828754 -0.6694632\n",
              "[4,] -0.3841925  2.06566748  0.3200455\n",
              "[5,] -0.2345716  0.31873419 -0.9965541"
            ],
            "text/latex": "A matrix: 5 × 3 of type dbl\n\\begin{tabular}{lll}\n\t  0.9813751 &  0.35637308 & -0.8185078\\\\\n\t  1.4108195 &  0.39527125 & -0.0528803\\\\\n\t  0.6684977 & -0.04828754 & -0.6694632\\\\\n\t -0.3841925 &  2.06566748 &  0.3200455\\\\\n\t -0.2345716 &  0.31873419 & -0.9965541\\\\\n\\end{tabular}\n",
            "text/markdown": "\nA matrix: 5 × 3 of type dbl\n\n|  0.9813751 |  0.35637308 | -0.8185078 |\n|  1.4108195 |  0.39527125 | -0.0528803 |\n|  0.6684977 | -0.04828754 | -0.6694632 |\n| -0.3841925 |  2.06566748 |  0.3200455 |\n| -0.2345716 |  0.31873419 | -0.9965541 |\n\n",
            "text/html": [
              "<table class=\"dataframe\">\n",
              "<caption>A matrix: 5 × 3 of type dbl</caption>\n",
              "<tbody>\n",
              "\t<tr><td> 0.9813751</td><td> 0.35637308</td><td>-0.8185078</td></tr>\n",
              "\t<tr><td> 1.4108195</td><td> 0.39527125</td><td>-0.0528803</td></tr>\n",
              "\t<tr><td> 0.6684977</td><td>-0.04828754</td><td>-0.6694632</td></tr>\n",
              "\t<tr><td>-0.3841925</td><td> 2.06566748</td><td> 0.3200455</td></tr>\n",
              "\t<tr><td>-0.2345716</td><td> 0.31873419</td><td>-0.9965541</td></tr>\n",
              "</tbody>\n",
              "</table>\n"
            ]
          },
          "metadata": {
            "tags": []
          }
        }
      ]
    },
    {
      "cell_type": "markdown",
      "metadata": {
        "id": "LUcaUFMwULL2"
      },
      "source": [
        "* 정준상관점수 Vn, Wn에 각 케이스 값 대입\n",
        "* 원데이터에서 X변수들과 Y변수들의 각각의 평균을 뺀 값으로 계산하면 됨\n",
        "\n",
        "> 첫번째 케이스의 V1, W1\n",
        "* V1 = -0.061(Y1-평균Y1) - 0.023(Y2-평균Y2) - 0.075(Y3 - 평균Y3) = 0.98\n",
        "* W1 = -0.068(X1-평균X1) - 0.033(X2-평균X2) - 0.086(X3 - 평균X3) - 0.063(X4 - 평균X4) = 0.97\n",
        "* 제1정준상관계수값 0.994 -> 제1정준변수인V1, W1의 상관계수가 됨"
      ]
    },
    {
      "cell_type": "code",
      "metadata": {
        "colab": {
          "base_uri": "https://localhost:8080/",
          "height": 158
        },
        "id": "3CrqabpkTQrm",
        "outputId": "049e8692-7587-4436-fe9c-0abf181877bc"
      },
      "source": [
        "#정준변수부하 결과 : 정준변수에 대한 각 변수의 기여도를 알고자 할 때 이용됨\n",
        "#정준변수와 각 변수들의 상관계수값을 나타냄\n",
        "canonical.result$scores$corr.X.xscores"
      ],
      "execution_count": null,
      "outputs": [
        {
          "output_type": "display_data",
          "data": {
            "text/plain": [
              "   [,1]       [,2]       [,3]       \n",
              "X1 -0.6352483  0.2112406  0.65565759\n",
              "X2 -0.7236603 -0.2297134 -0.06888076\n",
              "X3 -0.6428658  0.5132111 -0.56862746\n",
              "X4 -0.9462723 -0.1866690 -0.09433235"
            ],
            "text/latex": "A matrix: 4 × 3 of type dbl\n\\begin{tabular}{r|lll}\n\tX1 & -0.6352483 &  0.2112406 &  0.65565759\\\\\n\tX2 & -0.7236603 & -0.2297134 & -0.06888076\\\\\n\tX3 & -0.6428658 &  0.5132111 & -0.56862746\\\\\n\tX4 & -0.9462723 & -0.1866690 & -0.09433235\\\\\n\\end{tabular}\n",
            "text/markdown": "\nA matrix: 4 × 3 of type dbl\n\n| X1 | -0.6352483 |  0.2112406 |  0.65565759 |\n| X2 | -0.7236603 | -0.2297134 | -0.06888076 |\n| X3 | -0.6428658 |  0.5132111 | -0.56862746 |\n| X4 | -0.9462723 | -0.1866690 | -0.09433235 |\n\n",
            "text/html": [
              "<table class=\"dataframe\">\n",
              "<caption>A matrix: 4 × 3 of type dbl</caption>\n",
              "<tbody>\n",
              "\t<tr><th scope=row>X1</th><td>-0.6352483</td><td> 0.2112406</td><td> 0.65565759</td></tr>\n",
              "\t<tr><th scope=row>X2</th><td>-0.7236603</td><td>-0.2297134</td><td>-0.06888076</td></tr>\n",
              "\t<tr><th scope=row>X3</th><td>-0.6428658</td><td> 0.5132111</td><td>-0.56862746</td></tr>\n",
              "\t<tr><th scope=row>X4</th><td>-0.9462723</td><td>-0.1866690</td><td>-0.09433235</td></tr>\n",
              "</tbody>\n",
              "</table>\n"
            ]
          },
          "metadata": {
            "tags": []
          }
        }
      ]
    },
    {
      "cell_type": "markdown",
      "metadata": {
        "id": "JjAHW1KcXbpX"
      },
      "source": [
        "* $corr.X.xscores : X변수와 X정준변수와의 부하값, X4에 경우 -0.946이며, 다른 변수들에 비해 기여도가 크다는 것을 알 수 있음"
      ]
    },
    {
      "cell_type": "code",
      "metadata": {
        "colab": {
          "base_uri": "https://localhost:8080/",
          "height": 127
        },
        "id": "-7Fp1jzAXRUP",
        "outputId": "c1f97966-1ead-4ae1-d7ab-bbbcc7a6fbf1"
      },
      "source": [
        "canonical.result$scores$corr.Y.xscores"
      ],
      "execution_count": null,
      "outputs": [
        {
          "output_type": "display_data",
          "data": {
            "text/plain": [
              "   [,1]       [,2]         [,3]        \n",
              "Y1 -0.9743097  0.009650714 -0.075803677\n",
              "Y2 -0.9442884 -0.273145316  0.002605397\n",
              "Y3 -0.9439746  0.170594666  0.093754591"
            ],
            "text/latex": "A matrix: 3 × 3 of type dbl\n\\begin{tabular}{r|lll}\n\tY1 & -0.9743097 &  0.009650714 & -0.075803677\\\\\n\tY2 & -0.9442884 & -0.273145316 &  0.002605397\\\\\n\tY3 & -0.9439746 &  0.170594666 &  0.093754591\\\\\n\\end{tabular}\n",
            "text/markdown": "\nA matrix: 3 × 3 of type dbl\n\n| Y1 | -0.9743097 |  0.009650714 | -0.075803677 |\n| Y2 | -0.9442884 | -0.273145316 |  0.002605397 |\n| Y3 | -0.9439746 |  0.170594666 |  0.093754591 |\n\n",
            "text/html": [
              "<table class=\"dataframe\">\n",
              "<caption>A matrix: 3 × 3 of type dbl</caption>\n",
              "<tbody>\n",
              "\t<tr><th scope=row>Y1</th><td>-0.9743097</td><td> 0.009650714</td><td>-0.075803677</td></tr>\n",
              "\t<tr><th scope=row>Y2</th><td>-0.9442884</td><td>-0.273145316</td><td> 0.002605397</td></tr>\n",
              "\t<tr><th scope=row>Y3</th><td>-0.9439746</td><td> 0.170594666</td><td> 0.093754591</td></tr>\n",
              "</tbody>\n",
              "</table>\n"
            ]
          },
          "metadata": {
            "tags": []
          }
        }
      ]
    },
    {
      "cell_type": "markdown",
      "metadata": {
        "id": "uGzBZr5cXlKw"
      },
      "source": [
        "* $corr.Y.xscores : Y변수와 X정준변수와의 부하값, Y변수와 제1X정준변수와의 값이 모두 크다는 것을 알 수 있음"
      ]
    },
    {
      "cell_type": "code",
      "metadata": {
        "colab": {
          "base_uri": "https://localhost:8080/",
          "height": 158
        },
        "id": "Zv8cqKbiXUM2",
        "outputId": "341c4aff-640c-4a90-afd5-856446d45a74"
      },
      "source": [
        "canonical.result$scores$corr.X.yscores"
      ],
      "execution_count": null,
      "outputs": [
        {
          "output_type": "display_data",
          "data": {
            "text/plain": [
              "   [,1]       [,2]       [,3]       \n",
              "X1 -0.6315339  0.1845467  0.25039414\n",
              "X2 -0.7194289 -0.2006851 -0.02630541\n",
              "X3 -0.6391068  0.4483580 -0.21715753\n",
              "X4 -0.9407393 -0.1630801 -0.03602531"
            ],
            "text/latex": "A matrix: 4 × 3 of type dbl\n\\begin{tabular}{r|lll}\n\tX1 & -0.6315339 &  0.1845467 &  0.25039414\\\\\n\tX2 & -0.7194289 & -0.2006851 & -0.02630541\\\\\n\tX3 & -0.6391068 &  0.4483580 & -0.21715753\\\\\n\tX4 & -0.9407393 & -0.1630801 & -0.03602531\\\\\n\\end{tabular}\n",
            "text/markdown": "\nA matrix: 4 × 3 of type dbl\n\n| X1 | -0.6315339 |  0.1845467 |  0.25039414 |\n| X2 | -0.7194289 | -0.2006851 | -0.02630541 |\n| X3 | -0.6391068 |  0.4483580 | -0.21715753 |\n| X4 | -0.9407393 | -0.1630801 | -0.03602531 |\n\n",
            "text/html": [
              "<table class=\"dataframe\">\n",
              "<caption>A matrix: 4 × 3 of type dbl</caption>\n",
              "<tbody>\n",
              "\t<tr><th scope=row>X1</th><td>-0.6315339</td><td> 0.1845467</td><td> 0.25039414</td></tr>\n",
              "\t<tr><th scope=row>X2</th><td>-0.7194289</td><td>-0.2006851</td><td>-0.02630541</td></tr>\n",
              "\t<tr><th scope=row>X3</th><td>-0.6391068</td><td> 0.4483580</td><td>-0.21715753</td></tr>\n",
              "\t<tr><th scope=row>X4</th><td>-0.9407393</td><td>-0.1630801</td><td>-0.03602531</td></tr>\n",
              "</tbody>\n",
              "</table>\n"
            ]
          },
          "metadata": {
            "tags": []
          }
        }
      ]
    },
    {
      "cell_type": "markdown",
      "metadata": {
        "id": "YjfzRh3XX0Nt"
      },
      "source": [
        "* $corr.X.yscores : X변수와 Y정준변수와의 부하값, X4변수가 제1Y정준변수와의 값이 다른 변수들에 비해 크다는 것을 알 수 있음"
      ]
    },
    {
      "cell_type": "code",
      "metadata": {
        "colab": {
          "base_uri": "https://localhost:8080/",
          "height": 127
        },
        "id": "wiEvIqHEXWJp",
        "outputId": "59a9f9e5-b58e-44d7-c0e3-86af858cd557"
      },
      "source": [
        "canonical.result$scores$corr.Y.yscores"
      ],
      "execution_count": null,
      "outputs": [
        {
          "output_type": "display_data",
          "data": {
            "text/plain": [
              "   [,1]       [,2]        [,3]        \n",
              "Y1 -0.9800402  0.01104665 -0.198492088\n",
              "Y2 -0.9498424 -0.31265469  0.006822237\n",
              "Y3 -0.9495266  0.19527050  0.245496595"
            ],
            "text/latex": "A matrix: 3 × 3 of type dbl\n\\begin{tabular}{r|lll}\n\tY1 & -0.9800402 &  0.01104665 & -0.198492088\\\\\n\tY2 & -0.9498424 & -0.31265469 &  0.006822237\\\\\n\tY3 & -0.9495266 &  0.19527050 &  0.245496595\\\\\n\\end{tabular}\n",
            "text/markdown": "\nA matrix: 3 × 3 of type dbl\n\n| Y1 | -0.9800402 |  0.01104665 | -0.198492088 |\n| Y2 | -0.9498424 | -0.31265469 |  0.006822237 |\n| Y3 | -0.9495266 |  0.19527050 |  0.245496595 |\n\n",
            "text/html": [
              "<table class=\"dataframe\">\n",
              "<caption>A matrix: 3 × 3 of type dbl</caption>\n",
              "<tbody>\n",
              "\t<tr><th scope=row>Y1</th><td>-0.9800402</td><td> 0.01104665</td><td>-0.198492088</td></tr>\n",
              "\t<tr><th scope=row>Y2</th><td>-0.9498424</td><td>-0.31265469</td><td> 0.006822237</td></tr>\n",
              "\t<tr><th scope=row>Y3</th><td>-0.9495266</td><td> 0.19527050</td><td> 0.245496595</td></tr>\n",
              "</tbody>\n",
              "</table>\n"
            ]
          },
          "metadata": {
            "tags": []
          }
        }
      ]
    },
    {
      "cell_type": "markdown",
      "metadata": {
        "id": "-Fet1zANXZbO"
      },
      "source": [
        "* $corr.Y.yscores : Y변수와 Y정준변수와의 부하값, 제1Y정준변수의 경우, Y변수 모두 값이 커서 관련이 높다는 것을 알 수 있다."
      ]
    },
    {
      "cell_type": "code",
      "metadata": {
        "colab": {
          "base_uri": "https://localhost:8080/",
          "height": 34
        },
        "id": "ToEPXmSEXX_7",
        "outputId": "2bf9e4b8-62da-45fd-db47-46c97cb108a8"
      },
      "source": [
        "#정준변수 산점도 그리기\n",
        "#제1정준변수들의 상관계수값을 구하고, 산점도 그리기\n",
        "w1 = canonical.result$scores$xscores[, 1]\n",
        "v1 = canonical.result$scores$yscores[, 1]\n",
        "cor(w1, v1)"
      ],
      "execution_count": null,
      "outputs": [
        {
          "output_type": "display_data",
          "data": {
            "text/plain": [
              "[1] 0.9941528"
            ],
            "text/latex": "0.994152777425467",
            "text/markdown": "0.994152777425467",
            "text/html": [
              "0.994152777425467"
            ]
          },
          "metadata": {
            "tags": []
          }
        }
      ]
    },
    {
      "cell_type": "markdown",
      "metadata": {
        "id": "ULm8a_x2YkzX"
      },
      "source": [
        "* 제1정준상관계수는 0.994임"
      ]
    },
    {
      "cell_type": "code",
      "metadata": {
        "colab": {
          "base_uri": "https://localhost:8080/",
          "height": 437
        },
        "id": "it9-lnrFYViy",
        "outputId": "db5e695e-fb12-4ce1-8d04-43a63c8f5fc6"
      },
      "source": [
        "plot(w1, v1, xlab = 'X(1) cano`1 variates', ylab = 'Y(1) cano`1 variates', pch = 19)"
      ],
      "execution_count": null,
      "outputs": [
        {
          "output_type": "display_data",
          "data": {
            "image/png": "[encoded data removed]",
            "text/plain": [
              "plot without title"
            ]
          },
          "metadata": {
            "tags": [],
            "image/png": {
              "width": 420,
              "height": 420
            }
          }
        }
      ]
    }
  ]
}