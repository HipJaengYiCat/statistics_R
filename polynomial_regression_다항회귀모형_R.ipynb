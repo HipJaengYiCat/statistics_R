{
  "nbformat": 4,
  "nbformat_minor": 0,
  "metadata": {
    "colab": {
      "name": "R_회귀모형_4장_다항회귀모형",
      "private_outputs": true,
      "provenance": [],
      "collapsed_sections": [],
      "authorship_tag": "ABX9TyMBt/vNZqFE7ZTQFXXG1s9t",
      "include_colab_link": true
    },
    "kernelspec": {
      "name": "ir",
      "display_name": "R"
    }
  },
  "cells": [
    {
      "cell_type": "markdown",
      "metadata": {
        "id": "view-in-github",
        "colab_type": "text"
      },
      "source": [
        "<a href=\"https://colab.research.google.com/github/seunghee0518/R_File/blob/main/R_%ED%9A%8C%EA%B7%80%EB%AA%A8%ED%98%95_4%EC%9E%A5_%EB%8B%A4%ED%95%AD%ED%9A%8C%EA%B7%80%EB%AA%A8%ED%98%95.ipynb\" target=\"_parent\"><img src=\"https://colab.research.google.com/assets/colab-badge.svg\" alt=\"Open In Colab\"/></a>"
      ]
    },
    {
      "cell_type": "markdown",
      "metadata": {
        "id": "BeYv64VRm5z3"
      },
      "source": [
        "#다항회귀모형"
      ]
    },
    {
      "cell_type": "markdown",
      "metadata": {
        "id": "k8oWgXbuZVNh"
      },
      "source": [
        "#<표 4.1> 교통범죄 발생수와 자동차보급대수 자료\n",
        "* year : 연도\n",
        "* tcratio : 교통범죄 발생수\n",
        "* motor : 자동차 보급대수"
      ]
    },
    {
      "cell_type": "code",
      "metadata": {
        "id": "CwRV6f-LmRW8"
      },
      "source": [
        "#데이터 불러오기\n",
        "tcrime.url = 'https://raw.githubusercontent.com/seunghee0518/R_File/main/%ED%9A%8C%EA%B7%80%EB%AA%A8%ED%98%95/tcrime.txt'\n",
        "tcrime = read.table(tcrime.url, header=T)\n",
        "head(tcrime, 3)\n",
        "attach(tcrime)"
      ],
      "execution_count": null,
      "outputs": []
    },
    {
      "cell_type": "code",
      "metadata": {
        "id": "2BLR1C7jb_L1"
      },
      "source": [
        "#산점도\n",
        "plot(motor, tcratio, pch = 19)"
      ],
      "execution_count": null,
      "outputs": []
    },
    {
      "cell_type": "markdown",
      "metadata": {
        "id": "gzR0e_Ilct7Z"
      },
      "source": [
        "* 시간이 갈수록 자동차 보급대수가 늘어나도 교통범죄의 증가율이 떨어지는 것을 감안하면 반응변수 Y와 설명변수 X의 관계는 2차 다항식으로 표현하는 것이 적절해 보임\n",
        "* 2차 다항식 Y = b0 + b1X + b2X^2 +e\n",
        "* 주어진 산점도가 위로볼록해서 b2는 음으로 예상됨\n"
      ]
    },
    {
      "cell_type": "code",
      "metadata": {
        "id": "NXC09pV06VHH"
      },
      "source": [
        "tcrime.lm = lm(tcratio ~ motor + I(motor^2), data = tcrime)\n",
        "summary(tcrime.lm)"
      ],
      "execution_count": null,
      "outputs": []
    },
    {
      "cell_type": "markdown",
      "metadata": {
        "id": "XBBgfg0IfHI3"
      },
      "source": [
        "* 적합된 다항회귀모형 tcratio = -7.45+0.4539 motor - 4.149e-5 motor^2\n",
        "* R2 = 0.9764"
      ]
    },
    {
      "cell_type": "markdown",
      "metadata": {
        "id": "2GPibLc3ffsD"
      },
      "source": [
        "# <표 4.2> 1990년~1992년까지의 동경국제마라톤대회 자료"
      ]
    },
    {
      "cell_type": "code",
      "metadata": {
        "id": "ofuy8hEC6kHf"
      },
      "source": [
        "#데이터 가져오기\n",
        "maraton.url = 'https://raw.githubusercontent.com/seunghee0518/R_File/main/%ED%9A%8C%EA%B7%80%EB%AA%A8%ED%98%95/maraton.txt'\n",
        "maraton = read.table(maraton.url, header = T)\n",
        "head(maraton, 3)\n",
        "attach(maraton)"
      ],
      "execution_count": null,
      "outputs": []
    },
    {
      "cell_type": "code",
      "metadata": {
        "id": "2-I_Ib5_SsEn"
      },
      "source": [
        "#1990년 그래프\n",
        "plot(maraton$sect, maraton$m1990, pch = 19)\n"
      ],
      "execution_count": null,
      "outputs": []
    },
    {
      "cell_type": "markdown",
      "metadata": {
        "id": "8TfONVtwiuMs"
      },
      "source": [
        "* 구간별 속도는 일정한 페이스를 유지하지 않고, 속도변화가 2번 발생됬다고 판단되어 해당 자료는 선형모형보다는 3차의 다항회귀모형이 더 타당해보임\n",
        "* 3차 다항회귀모형 Y = b0 + b1X + b2X^2 + b3X^3 + e\n"
      ]
    },
    {
      "cell_type": "code",
      "metadata": {
        "id": "qfuoO6CItzD4"
      },
      "source": [
        "#3차 회귀모형적합\n",
        "maraton.lm = lm(m1990 ~ sect + I(sect^2) + I(sect^3), data = maraton)\n",
        "summary(maraton.lm)"
      ],
      "execution_count": null,
      "outputs": []
    },
    {
      "cell_type": "markdown",
      "metadata": {
        "id": "TKHAROj0S_08"
      },
      "source": [
        "* m1990 = 917.593 + (13.785 sec t) - (0.683 sec t^2) + (0.012 sec t^3)\n",
        "* R2 = 0.9983"
      ]
    },
    {
      "cell_type": "markdown",
      "metadata": {
        "id": "i4a-PHNbmx8y"
      },
      "source": [
        "#가변수 회귀모형"
      ]
    },
    {
      "cell_type": "markdown",
      "metadata": {
        "id": "DrdlgRmMrdMh"
      },
      "source": [
        "#<표 4.3> 비누 생산공정에서 부산물인 비누 부스러기 양과 공정속도"
      ]
    },
    {
      "cell_type": "code",
      "metadata": {
        "id": "pba300LsnaY4"
      },
      "source": [
        "#데이터 가져오기\n",
        "soup.url = 'https://raw.githubusercontent.com/seunghee0518/R_File/main/%ED%9A%8C%EA%B7%80%EB%AA%A8%ED%98%95/soup.txt'\n",
        "soup = read.table(soup.url, header = T)\n",
        "head(soup, 3)"
      ],
      "execution_count": null,
      "outputs": []
    },
    {
      "cell_type": "code",
      "metadata": {
        "id": "_21R357KoB26"
      },
      "source": [
        "#숫자변수-> 인자변수\n",
        "soup$D = factor(soup$D, levels = c(0, 1), label = c(\"Line0\", \"Line1\"))\n",
        "soup[c(1, 15, 16, 27), ]"
      ],
      "execution_count": null,
      "outputs": []
    },
    {
      "cell_type": "code",
      "metadata": {
        "id": "UER9omfEoJEw"
      },
      "source": [
        "#각 생산공정별 공정속도와 부산물의 양의 관계 산점도\n",
        "plot(soup$X, soup$Y, type = 'n')\n",
        "points(soup$X[soup$D == 'Line1'], soup$Y[soup$D == 'Line1'], pch = 17, col = 'BLUE')\n",
        "points(soup$X[soup$D == 'Line0'], soup$Y[soup$D == 'Line0'], pch = 19, col = 'RED')\n",
        "legend('bottomright', legend = levels(soup$D), pch = c(19, 17), col = c('RED', 'BLUE'))"
      ],
      "execution_count": null,
      "outputs": []
    },
    {
      "cell_type": "markdown",
      "metadata": {
        "id": "tiALfINzFdpC"
      },
      "source": [
        "* 두 생산라인은 기울기 차이보다는 공정에 따라 차이가 있어 보임\n",
        "* 따라서 생산라인별 가변수를 고려해 모형을 추정해야됨(Line1 : D=1, Line0 : D = 0)\n",
        "* 1번 생산라인 : Y= (b0+b2) + b1X + e\n",
        "* 2번생산라인 : Y= b0 + b1X + e\n",
        "* 두 회귀선의 차이 : b2\n",
        "* 따라서 H0:b2=0을 기각하는 경우에 두 생산공정에 차이가 난다고 할 수 있음"
      ]
    },
    {
      "cell_type": "code",
      "metadata": {
        "id": "PPfWYd42odhD"
      },
      "source": [
        "#회귀모형 적합\n",
        "soup.lm = lm(Y ~ X + D, data = soup)\n",
        "summary(soup.lm)"
      ],
      "execution_count": null,
      "outputs": []
    },
    {
      "cell_type": "markdown",
      "metadata": {
        "id": "aKrW1-t2JlIX"
      },
      "source": [
        "* Y = 27.282 + 1.231 X + 54.129 D\n",
        "* 두 생산라인이 기울기가 동일할 경우 두 생산라인의 차이는 54.129가 됨"
      ]
    },
    {
      "cell_type": "code",
      "metadata": {
        "id": "LgDWR_6wogYr"
      },
      "source": [
        "#산점도에 적합된 회귀직선\n",
        "plot(soup$X, soup$Y, type = 'n')\n",
        "points(soup$X[soup$D == 'Line1'], soup$Y[soup$D == 'Line1'], pch = 17, col = 'BLUE')\n",
        "points(soup$X[soup$D == 'Line0'], soup$Y[soup$D == 'Line0'], pch = 19, col = 'RED')\n",
        "legend('bottomright', legend = levels(soup$D), pch = c(19, 17), col = c('RED', 'BLUE'))\n",
        "abline(27.28179, 1.23074, lty = 2, col = 'RED') # D = 0\n",
        "abline(27.28179+54.129, 1.23074, lty = 2, col = 'BLUE') # D=1"
      ],
      "execution_count": null,
      "outputs": []
    },
    {
      "cell_type": "markdown",
      "metadata": {
        "id": "vMYoY8h8N2FZ"
      },
      "source": [
        "* 두 생산라인의 기울기 비교 => 두 변수의 교호작용 도입 \n",
        "* 가변수D와 공정속도에서 일어나는 교호작용을 반영하는 XD변수\n",
        "* 교호작용을 포함한 모형 Y = b0 + b1X + b2D + b3XD + e \n",
        "* 1번 공정과정 : Y = (b0+b2) + (b1+b3)X + e (D = 1)\n",
        "* 2번 공정과정 : Y = b0 + b1X + e \n",
        "\n",
        "* 이미 절편의 크기(X=0일때 Y값)가 다르므로 기울기의 동질성 여부가 중요함\n",
        "* 기울기동질성 여부 가설 H0 : b3 = 0 -> F검정"
      ]
    },
    {
      "cell_type": "code",
      "metadata": {
        "id": "0KXZqSAXo6Bq"
      },
      "source": [
        "#교호작용으로 인한 절편 및 기울기의 변화\n",
        "soup2.lm = lm(Y ~ X+D+X:D, data = soup) #== Y~X*D\n",
        "summary(soup2.lm)"
      ],
      "execution_count": null,
      "outputs": []
    },
    {
      "cell_type": "markdown",
      "metadata": {
        "id": "F_DOJR6FQM1C"
      },
      "source": [
        "* b3 : -0.1767\n",
        "* t0값 유의확률 : 0.18355 (>유의수준0.05) : 유의하지 않음\n",
        "* 해당 자료는 교호작용 고려X 모형이 적합함"
      ]
    }
  ]
}
