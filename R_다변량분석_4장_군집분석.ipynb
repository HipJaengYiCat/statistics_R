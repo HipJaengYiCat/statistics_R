{
  "nbformat": 4,
  "nbformat_minor": 0,
  "metadata": {
    "colab": {
      "name": "R_다변량분석_4장_군집분석.ipynb",
      "private_outputs": true,
      "provenance": [],
      "collapsed_sections": [
        "WcT1aygJaRNp",
        "644P0rRaI4jQ"
      ],
      "authorship_tag": "ABX9TyM6BAWc17ARD43UeJNgOTm9",
      "include_colab_link": true
    },
    "kernelspec": {
      "name": "ir",
      "display_name": "R"
    }
  },
  "cells": [
    {
      "cell_type": "markdown",
      "metadata": {
        "id": "view-in-github",
        "colab_type": "text"
      },
      "source": [
        "<a href=\"https://colab.research.google.com/github/seunghee0518/R_File/blob/main/R_%EB%8B%A4%EB%B3%80%EB%9F%89%EB%B6%84%EC%84%9D_4%EC%9E%A5_%EA%B5%B0%EC%A7%91%EB%B6%84%EC%84%9D.ipynb\" target=\"_parent\"><img src=\"https://colab.research.google.com/assets/colab-badge.svg\" alt=\"Open In Colab\"/></a>"
      ]
    },
    {
      "cell_type": "markdown",
      "metadata": {
        "id": "k8oWgXbuZVNh"
      },
      "source": [
        "#**군집분석 예시1**\r\n",
        "> 미국 20개 맥주 상표와 해당 가격, 칼로리, 염분, 알코콜농도 등의 자료"
      ]
    },
    {
      "cell_type": "code",
      "metadata": {
        "id": "CwRV6f-LmRW8"
      },
      "source": [
        "#데이터 가져오기\r\n",
        "url_beerbrand = \"https://raw.githubusercontent.com/seunghee0518/R_File/main/%EB%8B%A4%EB%B3%80%EB%9E%91%EB%B6%84%EC%84%9D/mvadata/beerbrand.csv\"\r\n",
        "beer.data = read.csv(url_beerbrand)\r\n",
        "head(beer.data)"
      ],
      "execution_count": null,
      "outputs": []
    },
    {
      "cell_type": "markdown",
      "metadata": {
        "id": "fA7MxJMAauqZ"
      },
      "source": [
        "##**계층적 군집분석** \r\n",
        "\r\n",
        "파라미터\r\n",
        "\r\n",
        "\r\n",
        "```\r\n",
        "hclust(d = data\r\n",
        "      ,method = \"single\" : 최단거리법\r\n",
        "                \"complete\" : 최장거리법\r\n",
        "                \"centroid\" : 중심연결법\r\n",
        "                \"average\" : 평균기준법\r\n",
        "                \"median\" : 중앙중심법\r\n",
        "                \"ward\" : 와드의 방법\r\n",
        "      )\r\n",
        "```\r\n",
        "거리계산 파라미터\r\n",
        "\r\n",
        "```\r\n",
        "dist(x = data\r\n",
        "    ,method = \"euclidean\" (default: 유클리디안)\r\n",
        "              \"maximum\" : \r\n",
        "              \"manhattan\" : 맨해튼거리\r\n",
        "              \"canberra\"\r\n",
        "              \"binary\" : 범주형 변수 거리계산\r\n",
        "              \"minkowski\" : 민코브스티거리\r\n",
        "    ,diag = False(default) : 거리행렬의 대각선 인쇄\r\n",
        "    ,upper = FALSE(dafault) : 거리행렬의 위쪽 삼각형 인쇄\r\n",
        "    ,p =2(dafault) : 민코프스키의 거리의 힘\r\n",
        "    ) \r\n",
        "```\r\n"
      ]
    },
    {
      "cell_type": "code",
      "metadata": {
        "id": "NXC09pV06VHH"
      },
      "source": [
        "#계층적 군집분석 : 유클리디안 거리(default) + 최단연결법\r\n",
        "hc_single = hclust(dist(beer.data), method=\"single\")\r\n",
        "hc_single"
      ],
      "execution_count": null,
      "outputs": []
    },
    {
      "cell_type": "code",
      "metadata": {
        "id": "fxOIvmvuiqR-"
      },
      "source": [
        "#수형도(hang : 변수이름)\r\n",
        "#plot(hc_single)\r\n",
        "plot(hc_single, hang=-1)"
      ],
      "execution_count": null,
      "outputs": []
    },
    {
      "cell_type": "code",
      "metadata": {
        "id": "-alSV-YBjWaA"
      },
      "source": [
        "#계층적 군집분석 : 유클리디안 + 중심연결법 \r\n",
        "hc_centroid <- hclust(dist(beer.data), method = \"centroid\")\r\n",
        "hc_centroid"
      ],
      "execution_count": null,
      "outputs": []
    },
    {
      "cell_type": "code",
      "metadata": {
        "id": "M7CwQZti6lJK"
      },
      "source": [
        "#수형도 : 중심연결법\r\n",
        "plot(hc_centroid, hang=-1)"
      ],
      "execution_count": null,
      "outputs": []
    },
    {
      "cell_type": "markdown",
      "metadata": {
        "id": "vTSZXyn7kLSP"
      },
      "source": [
        "##**표준화**\r\n",
        "\r\n",
        "후 계층적 군집분석\r\n",
        "\r\n",
        ">pls 패키지 - 데이터 매트릭스의 표준화 수행 : stdize\r\n",
        "\r\n",
        "\r\n",
        "```\r\n",
        "stdize(x= data(숫자행렬)\r\n",
        "      ,center = TRUE(default)\r\n",
        "      ,scale = TRUE(default)\r\n",
        "      )\r\n",
        "```\r\n",
        "\r\n"
      ]
    },
    {
      "cell_type": "code",
      "metadata": {
        "id": "0rtfi08b6m9b"
      },
      "source": [
        "#패키지\r\n",
        "install.packages(\"pls\")\r\n",
        "library(pls)"
      ],
      "execution_count": null,
      "outputs": []
    },
    {
      "cell_type": "code",
      "metadata": {
        "id": "KgA_5t7z6oic"
      },
      "source": [
        "#표준화 + 유클리디안 + 중심연결법\r\n",
        "#as.matrix = 행렬로 변환\r\n",
        "zbeer.data <- stdize(as.matrix(beer.data))\r\n",
        "zhc = hclust(dist(zbeer.data), method=\"centroid\")\r\n",
        "plot(zhc, hang=-1)"
      ],
      "execution_count": null,
      "outputs": []
    },
    {
      "cell_type": "markdown",
      "metadata": {
        "id": "WWxHs7C8nf-4"
      },
      "source": [
        "##군집 수 정하기 -> 수형도 이용\r\n",
        "\r\n",
        "소속 군집 알기-> id할당\r\n",
        "\r\n",
        "cutree : 나무를 그룹으로 자름\r\n",
        "```\r\n",
        "cutree(tree : 객체\r\n",
        "      ,... : 그룹 수\r\n",
        "      )\r\n",
        "```\r\n",
        "\r\n"
      ]
    },
    {
      "cell_type": "code",
      "metadata": {
        "id": "FWqsqdJK6r_G"
      },
      "source": [
        "#군집 수 정하기, 소속 군집 알기(소속 군집 id할당)\r\n",
        "zhc.cent24 = cutree(zhc, 2:4)\r\n",
        "zhc.cent24"
      ],
      "execution_count": null,
      "outputs": []
    },
    {
      "cell_type": "markdown",
      "metadata": {
        "id": "42DNL2vQpxFD"
      },
      "source": [
        "##**비계층적:k-평균 군집분석**"
      ]
    },
    {
      "cell_type": "markdown",
      "metadata": {
        "id": "eJSs-UQFqHBn"
      },
      "source": [
        "kmeans 파라미터\r\n",
        "```\r\n",
        "kmeans(x : 객체\r\n",
        "      ,centers : K(클러스터)의 수\r\n",
        "      ,iter.max : 최대 반복 횟수 (default=10)\r\n",
        "      ,num.seeds : 사용할 다른 시작 임의 시드수 (defalut =10)\r\n",
        "      )\r\n",
        "```\r\n",
        "\r\n"
      ]
    },
    {
      "cell_type": "code",
      "metadata": {
        "id": "w_xK_n2X6ugK"
      },
      "source": [
        "#K=2~4\r\n",
        "#zbeer.data = 표준화+유클리디안+중심연결법\r\n",
        "#k=2일때 중심점 = \"CALORIES\", \"SODIUM\"\r\n",
        "kmc = kmeans(zbeer.data, 2)\r\n",
        "kmc"
      ],
      "execution_count": null,
      "outputs": []
    },
    {
      "cell_type": "code",
      "metadata": {
        "id": "kFgrXbXjyVSY"
      },
      "source": [
        "#중심점\r\n",
        "kmc$center"
      ],
      "execution_count": null,
      "outputs": []
    },
    {
      "cell_type": "code",
      "metadata": {
        "id": "exeEWk8KXFwD"
      },
      "source": [
        "#소속 군집 산점도\r\n",
        "#군집1 : black\r\n",
        "#군집2 : red\r\n",
        "#pch=16 : 산점도 색상 채우기\r\n",
        "plot(zbeer.data, col=kmc$cluster, pch=16)"
      ],
      "execution_count": null,
      "outputs": []
    },
    {
      "cell_type": "code",
      "metadata": {
        "id": "f6hyTdU_1LAa"
      },
      "source": [
        "#비교\r\n",
        "par(mfrow=c(2,1))\r\n",
        "plot(zhc, col=zhc$cluster, pch=16, main=\r\n",
        "\"표준화+중심연결법\")"
      ],
      "execution_count": null,
      "outputs": []
    },
    {
      "cell_type": "code",
      "metadata": {
        "id": "yQGdZcF46wXL"
      },
      "source": [
        "#산점도행렬\r\n",
        "pairs(zbeer.data, col=kmc$cluster, pch=16)"
      ],
      "execution_count": null,
      "outputs": []
    },
    {
      "cell_type": "markdown",
      "metadata": {
        "id": "WcT1aygJaRNp"
      },
      "source": [
        "#**예시2**\r\n",
        "\r\n",
        ">미국 주 50개 인구10만명당 체포자수(R내장:USArrests)\r\n"
      ]
    },
    {
      "cell_type": "code",
      "metadata": {
        "id": "FX8W8gvT7Agk"
      },
      "source": [
        "#데이터 가져오기\r\n",
        "head(USArrests)\r\n",
        "summary(USArrests)"
      ],
      "execution_count": null,
      "outputs": []
    },
    {
      "cell_type": "markdown",
      "metadata": {
        "id": "0EpYJU_x4bUr"
      },
      "source": [
        "##계층군집분석"
      ]
    },
    {
      "cell_type": "code",
      "metadata": {
        "id": "nphmDywt4hWD"
      },
      "source": [
        "#평균연결법\r\n",
        "hc_a = hclust(dist(USArrests), method = \"average\")\r\n",
        "plot(hc_a, hang=-1) "
      ],
      "execution_count": null,
      "outputs": []
    },
    {
      "cell_type": "code",
      "metadata": {
        "id": "BeK5u6vc45Lh"
      },
      "source": [
        "#소속 군집 알기 : 군집 수 4\r\n",
        "hcmember = cutree(hc_a, k=4)\r\n",
        "hcmember"
      ],
      "execution_count": null,
      "outputs": []
    },
    {
      "cell_type": "code",
      "metadata": {
        "id": "89k5wo--45Ri"
      },
      "source": [
        "#각 군집별 중심점 찾기\r\n",
        "cent = NULL\r\n",
        "for(k in 1:4){\r\n",
        "  cent = rbind(cent, colMeans(USArrests[hcmember==k, , drop=FALSE]))\r\n",
        "}\r\n",
        "cent"
      ],
      "execution_count": null,
      "outputs": []
    },
    {
      "cell_type": "code",
      "metadata": {
        "id": "IQ75RZ3O6Zcq"
      },
      "source": [
        "#k평균 군집분석\r\n",
        "install.packages(\"pls\")\r\n",
        "library(pls)\r\n",
        "zUSArrests = stdize(as.matrix(USArrests))\r\n",
        "USA_kmc = kmeans(zUSArrests, 4)\r\n",
        "USA_kmc "
      ],
      "execution_count": null,
      "outputs": []
    },
    {
      "cell_type": "code",
      "metadata": {
        "id": "EITxuMLU7bJL"
      },
      "source": [
        "#산점도 행렬\r\n",
        "#1:black, 2:red, 3:green, 4:blue\r\n",
        "pairs(zUSArrests, col=kmc$cluster, pch=16)"
      ],
      "execution_count": null,
      "outputs": []
    },
    {
      "cell_type": "markdown",
      "metadata": {
        "id": "q87jQkfp3t3w"
      },
      "source": [
        "#**4장 연습문제**"
      ]
    },
    {
      "cell_type": "markdown",
      "metadata": {
        "id": "hbjhfQDMIzIM"
      },
      "source": [
        "##문제1"
      ]
    },
    {
      "cell_type": "markdown",
      "metadata": {
        "id": "zyqKs7qz32zX"
      },
      "source": [
        "1. 국내 상장기업의 수권자본금(X1), 2000년도 최고주가(X2), 2000년도최저 PER(X3), 2000년도 12월 말 자산총계(X4), 2000년도 말 총 매출액(X5)\r\n",
        "\r\n",
        "> 군집분석 실시\r\n",
        "1. 표준화 \r\n",
        "2. 최단연결법, 최장연결법 -> 2~5개집단으로 군집화 후 비교\r\n",
        "3. 분석결과 설명\r\n",
        "4. 유사성 측정 -> 상관계수와 Euclidean제곱거리 비교\r\n",
        "5. k평균군집분석 -> 4개 군집\r\n",
        "6. k평균군집분석 -> 판별분석, 타당성설명\r\n",
        "\r\n",
        "\r\n",
        "\r\n",
        "\r\n"
      ]
    },
    {
      "cell_type": "code",
      "metadata": {
        "id": "I_JZdugL07nh"
      },
      "source": [
        "#데이터 가져오기\r\n",
        "url_4.1 = \"https://raw.githubusercontent.com/seunghee0518/R_File/main/%EB%8B%A4%EB%B3%80%EB%9E%91%EB%B6%84%EC%84%9D/%EC%97%B0%EC%8A%B5%EB%AC%B8%EC%A0%9C%EC%9E%90%EB%A3%8C(2-4%EC%9E%A5)/ex4-1.csv\"\r\n",
        "ex1 <- read.csv(url_4.1, header=F)\r\n",
        "head(ex1, 3)"
      ],
      "execution_count": null,
      "outputs": []
    },
    {
      "cell_type": "code",
      "metadata": {
        "id": "WG2oEXbc6UDh"
      },
      "source": [
        "#데이터 가공\r\n",
        "rownames(ex1) <- ex1$V1\r\n",
        "ex1 <- ex1[,c(2:6)]\r\n",
        "names(ex1) <- c('X1', 'X2', 'X3', 'X4', 'X5')\r\n",
        "head(ex1, 3)"
      ],
      "execution_count": null,
      "outputs": []
    },
    {
      "cell_type": "code",
      "metadata": {
        "id": "PrlBl5jp8iaO"
      },
      "source": [
        "#1. 표준화\r\n",
        "# 패키지\r\n",
        "install.packages(\"pls\")\r\n",
        "library(pls)\r\n",
        "#표준화 + 유클리디안\r\n",
        "#as.matrix = 행렬로 변환\r\n",
        "zenter <- stdize(as.matrix(ex1))\r\n",
        "zenter"
      ],
      "execution_count": null,
      "outputs": []
    },
    {
      "cell_type": "code",
      "metadata": {
        "id": "FTLmyXNh8oAN"
      },
      "source": [
        "#2. 최단연결법, 최장연결법 -> 2~5개집단으로 군집화 후 비교\r\n",
        "zhc_S = hclust(dist(zenter), method=\"single\")\r\n",
        "zhc_C = hclust(dist(zenter), method=\"complete\")\r\n",
        "par(mfrow=c(1, 2))\r\n",
        "plot(zhc_S, hang=-1)\r\n",
        "plot(zhc_C, hang=-1)"
      ],
      "execution_count": null,
      "outputs": []
    },
    {
      "cell_type": "code",
      "metadata": {
        "id": "Lq_cnky6_K2_"
      },
      "source": [
        "#소속 군집 알기 : 군집 수 2~5\r\n",
        "#최단연결법\r\n",
        "hcmember_S = cutree(zhc_S, k=c(2:5))\r\n",
        "hcmember_S\r\n",
        "#군집수가 2, 3일때는 한양화학을 제외하고 동일하나, 4, 5가 되면 쌍용양회, 대우전자, 동아건설의 군집이 달라집"
      ],
      "execution_count": null,
      "outputs": []
    },
    {
      "cell_type": "code",
      "metadata": {
        "id": "fw6TP0ckApE9"
      },
      "source": [
        "#소속 군집 알기 : 군집 수 2~5\r\n",
        "#최장연결법\r\n",
        "hcmember_C = cutree(zhc_C, k=c(2:5))\r\n",
        "hcmember_C"
      ],
      "execution_count": null,
      "outputs": []
    },
    {
      "cell_type": "code",
      "metadata": {
        "id": "_0UgGExo8oPL"
      },
      "source": [
        "#3. 분석결과 설명"
      ],
      "execution_count": null,
      "outputs": []
    },
    {
      "cell_type": "code",
      "metadata": {
        "id": "qlea0yPy8oU0"
      },
      "source": [
        "#4. 유사성 측정 -> 상관계수와 Euclidean제곱거리 비교\r\n",
        "#상관계수법\r\n",
        "round(cor(zenter), 3)\r\n",
        "\r\n",
        "#Euclidean제곱거리\r\n",
        "E <- as.matrix(round(dist(zenter), 3))\r\n",
        "E"
      ],
      "execution_count": null,
      "outputs": []
    },
    {
      "cell_type": "code",
      "metadata": {
        "id": "tR4VEeVwPDfc"
      },
      "source": [
        "round(cor(zenter), 5)"
      ],
      "execution_count": null,
      "outputs": []
    },
    {
      "cell_type": "code",
      "metadata": {
        "id": "E9iou4z58oXF"
      },
      "source": [
        "#5. k평균군집분석 -> 4개 군집\r\n",
        "kenter = kmeans(zenter, 4)\r\n",
        "kenter"
      ],
      "execution_count": null,
      "outputs": []
    },
    {
      "cell_type": "code",
      "metadata": {
        "id": "730COmYb8vwO"
      },
      "source": [
        "#6. k평균군집분석 -> 판별분석, 타당성설명\r\n",
        "kenter$cluster\r\n",
        "enter <- cbind(zenter, kenter$cluster)\r\n",
        "colnames(enter) <- c(\"Authorized capital\", \"Highest stock price\", \"PER\", \"Total assets\", \"take\",\"cluster\")\r\n",
        "enter <- as.data.frame(enter)"
      ],
      "execution_count": null,
      "outputs": []
    },
    {
      "cell_type": "code",
      "metadata": {
        "id": "7anUUQURm4Do"
      },
      "source": [
        "#선형판별분석-LDA(사후확률법 사용함)\r\n",
        "library(MASS)\r\n",
        "train <- sample(1:18, 15)\r\n",
        "enter_lda <- lda(formula = enter$cluster ~ ., data = enter, subset = train)\r\n",
        "enter_lda"
      ],
      "execution_count": null,
      "outputs": []
    },
    {
      "cell_type": "code",
      "metadata": {
        "id": "p7_DtouRwLmT"
      },
      "source": [
        "#판별함수의 상수항산정\r\n",
        "apply(enter_lda$means%*%enter_lda$scaling, 2, mean)"
      ],
      "execution_count": null,
      "outputs": []
    },
    {
      "cell_type": "code",
      "metadata": {
        "id": "2DTaRVcHwgAQ"
      },
      "source": [
        "#학습된 LDA모델로 test 셋 예측\r\n",
        "#lda를 통해 분류된 class\r\n",
        "predict(enter_lda, enter[-train,])$class\r\n",
        "#lda로 도출된 각 분류별 확률\r\n",
        "predict(enter_lda, enter[-train,])$posterior"
      ],
      "execution_count": null,
      "outputs": []
    },
    {
      "cell_type": "code",
      "metadata": {
        "id": "_AXeJVGxxWOT"
      },
      "source": [
        "#성능평가 : 정오분류표 작성\r\n",
        "tt <- table(enter$cluster[-train], predict(enter_lda, enter[-train,])$class)\r\n",
        "tt"
      ],
      "execution_count": null,
      "outputs": []
    },
    {
      "cell_type": "code",
      "metadata": {
        "id": "thlEciPexuJL"
      },
      "source": [
        "#정분류율 및 오분률율 계산\r\n",
        "#정분류율\r\n",
        "sum(tt[row(tt) == col(tt)])/sum(tt) "
      ],
      "execution_count": null,
      "outputs": []
    },
    {
      "cell_type": "code",
      "metadata": {
        "id": "SvKcCMuxx93N"
      },
      "source": [
        "#오분류율\r\n",
        "1-sum(tt[row(tt) == col(tt)])/sum(tt) "
      ],
      "execution_count": null,
      "outputs": []
    },
    {
      "cell_type": "markdown",
      "metadata": {
        "id": "644P0rRaI4jQ"
      },
      "source": [
        "##문제2"
      ]
    },
    {
      "cell_type": "markdown",
      "metadata": {
        "id": "97_CNuMS8AZM"
      },
      "source": [
        "2. Fisher의 붓꽃 데이터 150개의 관찰치와 4개의 변수를 모두 이용하여 다음과 같이 군집분석을 실시하라\r\n",
        "> \t\r\n",
        "1. 각 변수의 표준화한 값을 구하라\r\n",
        "2. k-평균 군집분석방법을 이용하여 3개의 군집에 대한 군집분석을 실시하라\r\n",
        "3. k-평균 군집분석의 군집결과와 붓꽃 데이터에 주어져 있는 붓꽃 종류와 분할표를 구성하고 군집분석의 성능에 대해 평가하라"
      ]
    },
    {
      "cell_type": "code",
      "metadata": {
        "id": "3G0NJw2NbGUZ"
      },
      "source": [
        "#데이터 가져오기 & 가공\r\n",
        "data(iris)\r\n",
        "head(iris,3)\r\n",
        "diris <- iris[, c(1:4)]\r\n",
        "head(diris, 3)"
      ],
      "execution_count": null,
      "outputs": []
    },
    {
      "cell_type": "code",
      "metadata": {
        "id": "_JjmyPEeHZU-"
      },
      "source": [
        "#표준화\r\n",
        "install.packages(\"pls\")\r\n",
        "library(pls)\r\n",
        "ziris <- stdize(as.matrix(diris))\r\n",
        "head(ziris, 3)"
      ],
      "execution_count": null,
      "outputs": []
    },
    {
      "cell_type": "code",
      "metadata": {
        "id": "WOiR_5qCO3Xa"
      },
      "source": [
        "#k-평균 군집분석방법 -> 3개의 군집분석\r\n",
        "kiris = kmeans(ziris, 3)\r\n",
        "kiris"
      ],
      "execution_count": null,
      "outputs": []
    },
    {
      "cell_type": "code",
      "metadata": {
        "id": "IXsLu1vLIh0m"
      },
      "source": [
        "# k-평균 군집분석의 군집결과와 붓꽃 데이터에 주어져 있는 붓꽃 종류와의 분할표를 구성하고 군집분석의 성능에 대해 평가하라 ?\r\n",
        "kresult <- kiris$cluster\r\n",
        "species <- iris$Species\r\n",
        "ctable <- cbind(kresult, species)\r\n",
        "ctable"
      ],
      "execution_count": null,
      "outputs": []
    },
    {
      "cell_type": "markdown",
      "metadata": {
        "id": "G0C5UDt5I87f"
      },
      "source": [
        "##문제3"
      ]
    },
    {
      "cell_type": "markdown",
      "metadata": {
        "id": "y5fYxhiFJN8F"
      },
      "source": [
        "3. 세계의 46개 주요 도시에 대한 물가와 소득에 대한 데이터를 다음과 같이 수집하였다(1991년 기준), 평균노동시간, 물가, 소득수준 등의 변수를 사용하여 46개 도시에 대한 군집분석을 다음과 같이 실시하라\r\n",
        "\r\n",
        ">>\r\n",
        "\r\n",
        "1. 각 변수의 표준화한 값을 구하라\r\n",
        "2. 최장연결법을 이용하여 도시들을 군집화하고 수형도로 표현하라. 몇 개의 군집이 적절하다고 판단되는가?\r\n",
        "3. k-평균 군집분석방법을 이용하여 4개 군집에 대한 군집분석을 실시하라.\r\n",
        "4. k-평균 군집분석의 군집결과를 이용하여 판별분석을 수행하고, 군집분석의 타당성을 설명하라 \r\n",
        "\r\n",
        "\r\n",
        "  "
      ]
    },
    {
      "cell_type": "code",
      "metadata": {
        "id": "e_aFdVe1iX80"
      },
      "source": [
        "#데이터 불러오기\r\n",
        "url_4.3 = \"https://raw.githubusercontent.com/seunghee0518/R_File/main/%EB%8B%A4%EB%B3%80%EB%9E%91%EB%B6%84%EC%84%9D/%EC%97%B0%EC%8A%B5%EB%AC%B8%EC%A0%9C%EC%9E%90%EB%A3%8C(2-4%EC%9E%A5)/ex4-3.txt\"\r\n",
        "data3 = read.table(url_4.3) \r\n",
        "head(data3, 3)\r\n",
        "attach(data3)"
      ],
      "execution_count": null,
      "outputs": []
    },
    {
      "cell_type": "code",
      "metadata": {
        "id": "bkwDu5sII_QO"
      },
      "source": [
        "#데이터 가공\r\n",
        "rownames(data3) <- V1\r\n",
        "data3 <- data3[, c(2:4)]\r\n",
        "names(data3) <- c(\"평균노동시간\", \"물가\", \"소득\")\r\n",
        "head(data3, 3)"
      ],
      "execution_count": null,
      "outputs": []
    },
    {
      "cell_type": "code",
      "metadata": {
        "id": "3sz6Y_G88M2y"
      },
      "source": [
        "#1. 표준화\r\n",
        "install.packages(\"pls\")\r\n",
        "library(pls)\r\n",
        "zdata3 <- stdize(as.matrix(data3))\r\n",
        "head(zdata3, 3)"
      ],
      "execution_count": null,
      "outputs": []
    },
    {
      "cell_type": "code",
      "metadata": {
        "id": "tkUAS4xU8M5Q"
      },
      "source": [
        "#2. 최장연결법 -> 수형도\r\n",
        "zhc = hclust(dist(zdata3), method=\"complete\")\r\n",
        "plot(zhc, hand=-1)"
      ],
      "execution_count": null,
      "outputs": []
    },
    {
      "cell_type": "code",
      "metadata": {
        "id": "_H2WPTy78M7n"
      },
      "source": [
        "#소속 군집에 id값 할당함?\r\n",
        "hcmember = cutree(zhc, k=c(2:4))\r\n",
        "hcmember"
      ],
      "execution_count": null,
      "outputs": []
    },
    {
      "cell_type": "code",
      "metadata": {
        "id": "sG2hEjBw8M-E"
      },
      "source": [
        "#3. k-평균 군집분석 -> 4개 군집\r\n",
        "kdata3 = kmeans(zdata3, 4)\r\n",
        "kdata3"
      ],
      "execution_count": null,
      "outputs": []
    },
    {
      "cell_type": "code",
      "metadata": {
        "id": "Tu6ZBso28bPx"
      },
      "source": [
        "#k-평균 군집분석의 군집결과를 이용하여 판별분석을 수행하고, 군집분석의 타당성을 설명하라"
      ],
      "execution_count": null,
      "outputs": []
    }
  ]
}