{
  "nbformat": 4,
  "nbformat_minor": 0,
  "metadata": {
    "colab": {
      "name": "R_다변량분석_4장_군집분석.ipynb",
      "private_outputs": true,
      "provenance": [],
      "collapsed_sections": [],
      "authorship_tag": "ABX9TyOS9rKnxAF+clWk64rNDZkl",
      "include_colab_link": true
    },
    "kernelspec": {
      "name": "ir",
      "display_name": "R"
    }
  },
  "cells": [
    {
      "cell_type": "markdown",
      "metadata": {
        "id": "view-in-github",
        "colab_type": "text"
      },
      "source": [
        "<a href=\"https://colab.research.google.com/github/seunghee0518/R_File/blob/main/R_%EB%8B%A4%EB%B3%80%EB%9F%89%EB%B6%84%EC%84%9D_4%EC%9E%A5_%EA%B5%B0%EC%A7%91%EB%B6%84%EC%84%9D.ipynb\" target=\"_parent\"><img src=\"https://colab.research.google.com/assets/colab-badge.svg\" alt=\"Open In Colab\"/></a>"
      ]
    },
    {
      "cell_type": "markdown",
      "metadata": {
        "id": "k8oWgXbuZVNh"
      },
      "source": [
        "**군집분석 예시1**\r\n",
        "> 미국 20개 맥주 상표와 해당 가격, 칼로리, 염분, 알코콜농도 등의 자료"
      ]
    },
    {
      "cell_type": "code",
      "metadata": {
        "id": "CwRV6f-LmRW8"
      },
      "source": [
        "#데이터 가져오기\r\n",
        "url_beerbrand = \"https://raw.githubusercontent.com/seunghee0518/R_File/main/%EB%8B%A4%EB%B3%80%EB%9E%91%EB%B6%84%EC%84%9D/mvadata/beerbrand.csv\"\r\n",
        "beer.data = read.csv(url_beerbrand)\r\n",
        "head(beer.data)"
      ],
      "execution_count": null,
      "outputs": []
    },
    {
      "cell_type": "markdown",
      "metadata": {
        "id": "fA7MxJMAauqZ"
      },
      "source": [
        "**계층적 군집분석** \r\n",
        "\r\n",
        "파라미터\r\n",
        "\r\n",
        "\r\n",
        "```\r\n",
        "hclust(d = data\r\n",
        "      ,method = \"single\" : 최단거리법\r\n",
        "                \"complete\" : 최장거리법\r\n",
        "                \"centroid\" : 중심연결법\r\n",
        "                \"average\" : 평균기준법\r\n",
        "                \"median\" : 중앙중심법\r\n",
        "                \"ward\" : 와드의 방법\r\n",
        "      )\r\n",
        "```\r\n",
        "거리계산 파라미터\r\n",
        "\r\n",
        "```\r\n",
        "dist(x = data\r\n",
        "    ,method = \"euclidean\" (default: 유클리디안)\r\n",
        "              \"maximum\" : \r\n",
        "              \"manhattan\" : 맨해튼거리\r\n",
        "              \"canberra\"\r\n",
        "              \"binary\" : 범주형 변수 거리계산\r\n",
        "              \"minkowski\" : 민코브스티거리\r\n",
        "    ,diag = False(default) : 거리행렬의 대각선 인쇄\r\n",
        "    ,upper = FALSE(dafault) : 거리행렬의 위쪽 삼각형 인쇄\r\n",
        "    ,p =2(dafault) : 민코프스키의 거리의 힘\r\n",
        "    ) \r\n",
        "```\r\n"
      ]
    },
    {
      "cell_type": "code",
      "metadata": {
        "id": "NXC09pV06VHH"
      },
      "source": [
        "#계층적 군집분석 : 유클리디안 거리(default) + 최단연결법\r\n",
        "hc_single = hclust(dist(beer.data), method=\"single\")\r\n",
        "hc_single"
      ],
      "execution_count": null,
      "outputs": []
    },
    {
      "cell_type": "code",
      "metadata": {
        "id": "fxOIvmvuiqR-"
      },
      "source": [
        "#수형도(hang : 변수이름)\r\n",
        "#plot(hc_single)\r\n",
        "plot(hc_single, hang=-1)"
      ],
      "execution_count": null,
      "outputs": []
    },
    {
      "cell_type": "code",
      "metadata": {
        "id": "-alSV-YBjWaA"
      },
      "source": [
        "#계층적 군집분석 : 유클리디안 + 중심연결법 \r\n",
        "hc_centroid <- hclust(dist(beer.data), method = \"centroid\")\r\n",
        "hc_centroid"
      ],
      "execution_count": null,
      "outputs": []
    },
    {
      "cell_type": "code",
      "metadata": {
        "id": "M7CwQZti6lJK"
      },
      "source": [
        "#수형도 : 중심연결법\r\n",
        "plot(hc_centroid, hang=-1)"
      ],
      "execution_count": null,
      "outputs": []
    },
    {
      "cell_type": "markdown",
      "metadata": {
        "id": "vTSZXyn7kLSP"
      },
      "source": [
        "**표준화**\r\n",
        "\r\n",
        "후 계층적 군집분석\r\n",
        "\r\n",
        ">pls 패키지 - 데이터 매트릭스의 표준화 수행 : stdize\r\n",
        "\r\n",
        "\r\n",
        "```\r\n",
        "stdize(x= data(숫자행렬)\r\n",
        "      ,center = TRUE(default)\r\n",
        "      ,scale = TRUE(default)\r\n",
        "      )\r\n",
        "```\r\n",
        "\r\n"
      ]
    },
    {
      "cell_type": "code",
      "metadata": {
        "id": "0rtfi08b6m9b"
      },
      "source": [
        "#패키지\r\n",
        "install.packages(\"pls\")\r\n",
        "library(pls)"
      ],
      "execution_count": null,
      "outputs": []
    },
    {
      "cell_type": "code",
      "metadata": {
        "id": "KgA_5t7z6oic"
      },
      "source": [
        "#표준화 + 유클리디안 + 중심연결법\r\n",
        "#as.matrix = 행렬로 변환\r\n",
        "zbeer.data <- stdize(as.matrix(beer.data))\r\n",
        "zhc = hclust(dist(zbeer.data), method=\"centroid\")\r\n",
        "plot(zhc, hang=-1)"
      ],
      "execution_count": null,
      "outputs": []
    },
    {
      "cell_type": "markdown",
      "metadata": {
        "id": "WWxHs7C8nf-4"
      },
      "source": [
        "군집 수 정하기 -> 수형도 이용\r\n",
        "\r\n",
        "소속 군집 알기-> id할당\r\n",
        "\r\n",
        "cutree : 나무를 그룹으로 자름\r\n",
        "```\r\n",
        "cutree(tree : 객체\r\n",
        "      ,... : 그룹 수\r\n",
        "      )\r\n",
        "```\r\n",
        "\r\n"
      ]
    },
    {
      "cell_type": "code",
      "metadata": {
        "id": "FWqsqdJK6r_G"
      },
      "source": [
        "#군집 수 정하기, 소속 군집 알기(소속 군집 id할당)\r\n",
        "zhc.cent24 = cutree(zhc, 2:4)\r\n",
        "zhc.cent24"
      ],
      "execution_count": null,
      "outputs": []
    },
    {
      "cell_type": "markdown",
      "metadata": {
        "id": "42DNL2vQpxFD"
      },
      "source": [
        "**비계층적:k-평균 군집분석**"
      ]
    },
    {
      "cell_type": "markdown",
      "metadata": {
        "id": "eJSs-UQFqHBn"
      },
      "source": [
        "kmeans 파라미터\r\n",
        "```\r\n",
        "kmeans(x : 객체\r\n",
        "      ,centers : K(클러스터)의 수\r\n",
        "      ,iter.max : 최대 반복 횟수 (default=10)\r\n",
        "      ,num.seeds : 사용할 다른 시작 임의 시드수 (defalut =10)\r\n",
        "      )\r\n",
        "```\r\n",
        "\r\n"
      ]
    },
    {
      "cell_type": "code",
      "metadata": {
        "id": "w_xK_n2X6ugK"
      },
      "source": [
        "#K=2~4\r\n",
        "#zbeer.data = 표준화+유클리디안+중심연결법\r\n",
        "#k=2일때 중심점 = \"CALORIES\", \"SODIUM\"\r\n",
        "kmc = kmeans(zbeer.data, 2)\r\n",
        "kmc"
      ],
      "execution_count": null,
      "outputs": []
    },
    {
      "cell_type": "code",
      "metadata": {
        "id": "kFgrXbXjyVSY"
      },
      "source": [
        "#중심점\r\n",
        "kmc$center"
      ],
      "execution_count": null,
      "outputs": []
    },
    {
      "cell_type": "code",
      "metadata": {
        "id": "exeEWk8KXFwD"
      },
      "source": [
        "#소속 군집 산점도\r\n",
        "#군집1 : black\r\n",
        "#군집2 : red\r\n",
        "#pch=16 : 산점도 색상 채우기\r\n",
        "plot(zbeer.data, col=kmc$cluster, pch=16)"
      ],
      "execution_count": null,
      "outputs": []
    },
    {
      "cell_type": "code",
      "metadata": {
        "id": "f6hyTdU_1LAa"
      },
      "source": [
        "#비교\r\n",
        "par(mfrow=c(2,1))\r\n",
        "plot(zhc, col=zhc$cluster, pch=16, main=\r\n",
        "\"표준화+중심연결법\")"
      ],
      "execution_count": null,
      "outputs": []
    },
    {
      "cell_type": "code",
      "metadata": {
        "id": "yQGdZcF46wXL"
      },
      "source": [
        "#산점도행렬\r\n",
        "pairs(zbeer.data, col=kmc$cluster, pch=16)"
      ],
      "execution_count": null,
      "outputs": []
    },
    {
      "cell_type": "markdown",
      "metadata": {
        "id": "WcT1aygJaRNp"
      },
      "source": [
        "**예시2**\r\n",
        "\r\n",
        ">미국 주 50개 인구10만명당 체포자수(R내장:USArrests)\r\n"
      ]
    },
    {
      "cell_type": "code",
      "metadata": {
        "id": "FX8W8gvT7Agk"
      },
      "source": [
        "#데이터 가져오기\r\n",
        "head(USArrests)\r\n",
        "summary(USArrests)"
      ],
      "execution_count": null,
      "outputs": []
    },
    {
      "cell_type": "markdown",
      "metadata": {
        "id": "0EpYJU_x4bUr"
      },
      "source": [
        "계층군집분석"
      ]
    },
    {
      "cell_type": "code",
      "metadata": {
        "id": "nphmDywt4hWD"
      },
      "source": [
        "#평균연결법\r\n",
        "hc_a = hclust(dist(USArrests), method = \"average\")\r\n",
        "plot(hc_a, hang=-1) "
      ],
      "execution_count": null,
      "outputs": []
    },
    {
      "cell_type": "code",
      "metadata": {
        "id": "BeK5u6vc45Lh"
      },
      "source": [
        "#소속 군집 알기 : 군집 수 4\r\n",
        "hcmember = cutree(hc_a, k=4)\r\n",
        "hcmember"
      ],
      "execution_count": null,
      "outputs": []
    },
    {
      "cell_type": "code",
      "metadata": {
        "id": "89k5wo--45Ri"
      },
      "source": [
        "#각 군집별 중심점 찾기\r\n",
        "cent = NULL\r\n",
        "for(k in 1:4){\r\n",
        "  cent = rbind(cent, colMeans(USArrests[hcmember==k, , drop=FALSE]))\r\n",
        "}\r\n",
        "cent"
      ],
      "execution_count": null,
      "outputs": []
    },
    {
      "cell_type": "code",
      "metadata": {
        "id": "IQ75RZ3O6Zcq"
      },
      "source": [
        "#k평균 군집분석\r\n",
        "install.packages(\"pls\")\r\n",
        "library(pls)\r\n",
        "zUSArrests = stdize(as.matrix(USArrests))\r\n",
        "USA_kmc = kmeans(zUSArrests, 4)\r\n",
        "USA_kmc "
      ],
      "execution_count": null,
      "outputs": []
    },
    {
      "cell_type": "code",
      "metadata": {
        "id": "EITxuMLU7bJL"
      },
      "source": [
        "#산점도 행렬\r\n",
        "#1:black, 2:red, 3:green, 4:blue\r\n",
        "pairs(zUSArrests, col=kmc$cluster, pch=16)"
      ],
      "execution_count": null,
      "outputs": []
    },
    {
      "cell_type": "markdown",
      "metadata": {
        "id": "q87jQkfp3t3w"
      },
      "source": [
        "**4장 연습문제**"
      ]
    },
    {
      "cell_type": "markdown",
      "metadata": {
        "id": "zyqKs7qz32zX"
      },
      "source": [
        "1. 국내 상장기업의 수권자본금(X1), 2000년도 최고주가(X2), 2000년도최저 PER(X3), 2000년도 12월 말 자산총계(X4), 2000년도 말 총 매출액(X5)\r\n",
        "\r\n",
        "> 군집분석 실시\r\n",
        "1. 표준화 \r\n",
        "2. 최단연결법, 최장연결법 -> 2~5개집단으로 군집화 후 비교\r\n",
        "3. 분석결과 설명\r\n",
        "4. 유사성 측정 -> 상관계수와 Euclidean제곱거리 비교\r\n",
        "5. k평균군집분석 -> 4개 군집\r\n",
        "6. k평균군집분석 -> 판별분석, 타당성설명\r\n",
        "\r\n",
        "\r\n",
        "\r\n",
        "\r\n"
      ]
    },
    {
      "cell_type": "code",
      "metadata": {
        "id": "hR62EZcIbG21"
      },
      "source": [
        "#자료 불러오기\r\n",
        "install.packages(\"ade4\")\r\n",
        "library(ade4)"
      ],
      "execution_count": null,
      "outputs": []
    },
    {
      "cell_type": "code",
      "metadata": {
        "id": "E-5s8_Z8FdJf"
      },
      "source": [
        "data(deug)\r\n",
        "data <- deug$tab\r\n",
        "head(data, 3)"
      ],
      "execution_count": null,
      "outputs": []
    },
    {
      "cell_type": "code",
      "metadata": {
        "id": "nJFhg2tm6LaP"
      },
      "source": [
        "#1. 기술통계량\r\n",
        "summary(data)"
      ],
      "execution_count": null,
      "outputs": []
    },
    {
      "cell_type": "code",
      "metadata": {
        "id": "Dq2ydMTy6eEy"
      },
      "source": [
        "#상관계수행렬\r\n",
        "round(cor(data), 2)"
      ],
      "execution_count": null,
      "outputs": []
    },
    {
      "cell_type": "code",
      "metadata": {
        "id": "zb9ykBNX6zfe"
      },
      "source": [
        "#고유근, 정보의 양 및 누적정보량\r\n",
        "library(stats)\r\n",
        "data.pca <- princomp(data, cor+T, scores = T)\r\n",
        "summary(data.pca)"
      ],
      "execution_count": null,
      "outputs": []
    },
    {
      "cell_type": "code",
      "metadata": {
        "id": "fkwjPSBB7LNr"
      },
      "source": [
        "#1보다 큰 고유근의 수 = 3, 그 고유근의 누적정보의 양= 61%"
      ],
      "execution_count": null,
      "outputs": []
    },
    {
      "cell_type": "code",
      "metadata": {
        "id": "2hlxNpc-7e1b"
      },
      "source": [
        "#scree plot\r\n",
        "screeplot(data.pca, type = \"line\", pch = 19)\r\n"
      ],
      "execution_count": null,
      "outputs": []
    },
    {
      "cell_type": "code",
      "metadata": {
        "id": "Z1rpYXqg7m-X"
      },
      "source": [
        "#biplot\r\n",
        "biplot(data.pca, cex = 0.7, col = c(\"red\", \"blue\"), main = \"data biplot\")\r\n"
      ],
      "execution_count": null,
      "outputs": []
    },
    {
      "cell_type": "markdown",
      "metadata": {
        "id": "97_CNuMS8AZM"
      },
      "source": [
        "2. 21개 회사의 재무상황 6개의 변수\r\n",
        "> \t\r\n",
        "1. 6개의 변수들에 대한 분산. 공분산행렬을 구하라\r\n",
        "2. 6개의 변수들에 대한 상관계수행렬을 구하라\r\n",
        "3. R을 이용하여 다음과 같이 주성분분석을 실시하고 결과를 비교하라\r\n",
        "\t > \r\n",
        "   1.  고유근을 구하고 그 고유근이 확보하는 정보의 양 및 누적정보량을 구하라\r\n",
        "   2. 1보다 큰 고유근의 수와 그 고유근들이 확보하는 누적정보의 양을 구하라\r\n",
        "   3. 위의 결과를 이용하여 주성분을 구하라\r\n",
        "\r\n"
      ]
    },
    {
      "cell_type": "code",
      "metadata": {
        "id": "yhjrXvQyCsMj"
      },
      "source": [
        "#데이터 가져오기\r\n",
        "url_2.2 = \"https://raw.githubusercontent.com/seunghee0518/R_File/main/%EB%8B%A4%EB%B3%80%EB%9E%91%EB%B6%84%EC%84%9D/%EC%97%B0%EC%8A%B5%EB%AC%B8%EC%A0%9C%EC%9E%90%EB%A3%8C(2-4%EC%9E%A5)/ex2-2.txt\"\r\n",
        "ex2 <- read.table(url_2.2, header=F)\r\n",
        "ex2 <- ex2[,c(2:7)]\r\n",
        "head(ex2, 3)"
      ],
      "execution_count": null,
      "outputs": []
    },
    {
      "cell_type": "code",
      "metadata": {
        "id": "_JjmyPEeHZU-"
      },
      "source": [
        "#공분산행렬\r\n",
        "round(cov(ex2))"
      ],
      "execution_count": null,
      "outputs": []
    },
    {
      "cell_type": "code",
      "metadata": {
        "id": "WOiR_5qCO3Xa"
      },
      "source": [
        "#주성분분석\r\n",
        "library(stats)\r\n",
        "ex2.pca.R <- princomp(ex2, cor=F, scores = T)\r\n",
        "ex2.pca.R"
      ],
      "execution_count": null,
      "outputs": []
    },
    {
      "cell_type": "code",
      "metadata": {
        "id": "IXsLu1vLIh0m"
      },
      "source": [
        "#pca => 1번 / 92%\r\n",
        "summary(ex2.pca.R)"
      ],
      "execution_count": null,
      "outputs": []
    },
    {
      "cell_type": "code",
      "metadata": {
        "id": "RpxgFNdHPLpa"
      },
      "source": [
        "#상관계수행렬\r\n",
        "round(cor(ex2))"
      ],
      "execution_count": null,
      "outputs": []
    },
    {
      "cell_type": "code",
      "metadata": {
        "id": "CQoNfZsIIMpz"
      },
      "source": [
        "#주성분분석\r\n",
        "ex2.pca.S <- princomp(ex2, cor=T, score=T)\r\n",
        "ex2.pca.S"
      ],
      "execution_count": null,
      "outputs": []
    },
    {
      "cell_type": "code",
      "metadata": {
        "id": "8dk7ePglIykx"
      },
      "source": [
        "#pca => 1, 2,3 => 76%\r\n",
        "summary(ex2.pca.S)"
      ],
      "execution_count": null,
      "outputs": []
    },
    {
      "cell_type": "markdown",
      "metadata": {
        "id": "y5fYxhiFJN8F"
      },
      "source": [
        "3. 14개 지역 사회조사자료\r\n",
        "\r\n",
        "> REGION : 지역번호\r\n",
        "\r\n",
        "> X1 : 총인구 (1,000) \r\n",
        "\r\n",
        "> X2 : 학력 중위수값\r\n",
        "\r\n",
        "> X3 : 총 고용자 수(1,000)\r\n",
        "\r\n",
        "> X4 : 의료종사자 수(1,000)\r\n",
        "\r\n",
        "> X5 : 주택가격 중위수 값\r\n",
        "\r\n",
        "> \r\n",
        "  1. 5개 변수들의 상관계수행렬\r\n",
        "  2. 고유근, 정보양, 누적정보량\r\n",
        "  3. 1보다 큰 고유근, 누적정보양\r\n",
        "  4. 주성분 구하기\r\n",
        "\r\n",
        "\r\n",
        "\r\n",
        "  "
      ]
    },
    {
      "cell_type": "code",
      "metadata": {
        "id": "XcG2lnoJKxDA"
      },
      "source": [
        "# import data\r\n",
        "url_ex3 = \"https://raw.githubusercontent.com/seunghee0518/R_File/main/%EB%8B%A4%EB%B3%80%EB%9E%91%EB%B6%84%EC%84%9D/%EC%97%B0%EC%8A%B5%EB%AC%B8%EC%A0%9C%EC%9E%90%EB%A3%8C(2-4%EC%9E%A5)/ex2-3.txt\"\r\n",
        "ex3 <- read.table(url_ex3)\r\n",
        "head(ex3, 3)"
      ],
      "execution_count": null,
      "outputs": []
    },
    {
      "cell_type": "code",
      "metadata": {
        "id": "mJIKjSbTLfrc"
      },
      "source": [
        "#1. calculate R\r\n",
        "round(cor(ex3))\r\n",
        "library(stats)\r\n",
        "ex3_pca_R <-princomp(ex3, cor = T, score = T)\r\n",
        "summary(ex3_pca_R)"
      ],
      "execution_count": null,
      "outputs": []
    },
    {
      "cell_type": "markdown",
      "metadata": {
        "id": "KC5qiyMJMMZr"
      },
      "source": [
        "4. 1973년 미국 각 주의 강력범죄자료\r\n",
        "\r\n",
        "> Murder, Assault, Rape : 인구 100,000명당 사고건수\r\n",
        "\r\n",
        "> UrbanPop : 도시인구비율 "
      ]
    },
    {
      "cell_type": "code",
      "metadata": {
        "id": "k7Gi8_ssM15x"
      },
      "source": [
        "#import data\r\n",
        "url_ex4 = \"https://raw.githubusercontent.com/seunghee0518/R_File/main/%EB%8B%A4%EB%B3%80%EB%9E%91%EB%B6%84%EC%84%9D/%EC%97%B0%EC%8A%B5%EB%AC%B8%EC%A0%9C%EC%9E%90%EB%A3%8C(2-4%EC%9E%A5)/ex2-4.txt\"\r\n",
        "ex4 <- read.table(url_ex4)\r\n",
        "ex4_1 <- ex4[,c(2:3)]\r\n",
        "ex4_2 <- ex4[,c(5:5)]\r\n",
        "ex4 <- cbind(ex4_1, ex4_2)\r\n",
        "head(ex4, 3)\r\n",
        "tail(ex4, 3)"
      ],
      "execution_count": null,
      "outputs": []
    },
    {
      "cell_type": "code",
      "metadata": {
        "id": "pbSu7eD0N_hT"
      },
      "source": [
        "# 공분산행렬 (corvariance matrix)\r\n",
        "round(cov(ex4))"
      ],
      "execution_count": null,
      "outputs": []
    },
    {
      "cell_type": "code",
      "metadata": {
        "id": "WjL5bagoQ41F"
      },
      "source": [
        "library(stats)\r\n",
        "ex4_pca_S <- princomp(ex4, cor =F, scores = T)\r\n",
        "summary(ex4_pca_S)"
      ],
      "execution_count": null,
      "outputs": []
    },
    {
      "cell_type": "code",
      "metadata": {
        "id": "UtR6XzH0RDcs"
      },
      "source": [
        "#  상관계수행렬 (correlation matrix)\r\n",
        "round(cor(ex4))"
      ],
      "execution_count": null,
      "outputs": []
    },
    {
      "cell_type": "code",
      "metadata": {
        "id": "4pIX--PjRYs1"
      },
      "source": [
        "ex4_pca_R <- princomp(ex4, cor =T, scores = T)\r\n",
        "summary(ex4_pca_R)"
      ],
      "execution_count": null,
      "outputs": []
    },
    {
      "cell_type": "markdown",
      "metadata": {
        "id": "a8gW_G8mTXRj"
      },
      "source": [
        "5. 상관계수행렬로 다음 구하기\r\n",
        "\r\n",
        "> \r\n",
        " 1. 고유값, 고유행렬\r\n",
        " 2. 스크리그림, 주성분 갯수\r\n",
        " 3. 주성분변수"
      ]
    },
    {
      "cell_type": "code",
      "metadata": {
        "id": "S_9cGd59TWjw"
      },
      "source": [
        "#대칭행렬\r\n",
        "r <-c(1.0000, .9885, .9929, .9836, .9958, .9885, 1.0000, .9762, .9619, .9842, .9929, .9762, 1.0000, .9968, .9969, .9836, .9619, .9968, 1.0000, .9873, .9958, .9842, .9969, .9873, 1.0000)\r\n",
        "ex5 <- matrix(r, 5)\r\n",
        "ex5"
      ],
      "execution_count": null,
      "outputs": []
    },
    {
      "cell_type": "code",
      "metadata": {
        "id": "Is5SmuM2UJRH"
      },
      "source": [
        "lower.tri(ex5, diag=F)"
      ],
      "execution_count": null,
      "outputs": []
    },
    {
      "cell_type": "code",
      "metadata": {
        "id": "77M51Nv9USwH"
      },
      "source": [
        "ex5_1<- ex5[lower.tri(ex5, diag=F)]"
      ],
      "execution_count": null,
      "outputs": []
    },
    {
      "cell_type": "code",
      "metadata": {
        "id": "GV-jbfYAVOgc"
      },
      "source": [
        "ex5_2 <- t(ex5)[lower.tri(ex5, diag=F)]\r\n"
      ],
      "execution_count": null,
      "outputs": []
    },
    {
      "cell_type": "code",
      "metadata": {
        "id": "8iSByzVmV14T"
      },
      "source": [
        "ex5_1 = ex5_2\r\n",
        "ex5"
      ],
      "execution_count": null,
      "outputs": []
    },
    {
      "cell_type": "code",
      "metadata": {
        "id": "tdw5abUhWOZq"
      },
      "source": [
        "#고유값 구하는 함수\r\n",
        "#고유값 & 고유행렬\r\n",
        "eigen(ex5)"
      ],
      "execution_count": null,
      "outputs": []
    },
    {
      "cell_type": "code",
      "metadata": {
        "id": "FYnsn_fEXdQw"
      },
      "source": [
        "#scree plot\r\n",
        "library(stats)\r\n",
        "ex5_pca <- princomp(ex5, cor=T, score=T)\r\n",
        "summary(ex5_pca)\r\n"
      ],
      "execution_count": null,
      "outputs": []
    },
    {
      "cell_type": "code",
      "metadata": {
        "id": "yQgGPJUhZuP7"
      },
      "source": [
        "screeplot(ex5_pca, type = \"line\", pch=19)"
      ],
      "execution_count": null,
      "outputs": []
    }
  ]
}