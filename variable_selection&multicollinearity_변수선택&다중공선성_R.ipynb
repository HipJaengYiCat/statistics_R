{
  "nbformat": 4,
  "nbformat_minor": 0,
  "metadata": {
    "colab": {
      "name": "R_회귀모형_3장_변수선택&다중공선성",
      "private_outputs": true,
      "provenance": [],
      "collapsed_sections": [],
      "authorship_tag": "ABX9TyNNxYKBa4UVtz8snd56MXcl",
      "include_colab_link": true
    },
    "kernelspec": {
      "name": "ir",
      "display_name": "R"
    }
  },
  "cells": [
    {
      "cell_type": "markdown",
      "metadata": {
        "id": "view-in-github",
        "colab_type": "text"
      },
      "source": [
        "<a href=\"https://colab.research.google.com/github/seunghee0518/R_File/blob/main/R_%ED%9A%8C%EA%B7%80%EB%AA%A8%ED%98%95_3%EC%9E%A5_%EB%B3%80%EC%88%98%EC%84%A0%ED%83%9D%26%EB%8B%A4%EC%A4%91%EA%B3%B5%EC%84%A0%EC%84%B1.ipynb\" target=\"_parent\"><img src=\"https://colab.research.google.com/assets/colab-badge.svg\" alt=\"Open In Colab\"/></a>"
      ]
    },
    {
      "cell_type": "markdown",
      "metadata": {
        "id": "k8oWgXbuZVNh"
      },
      "source": [
        "#<표 3.1> 해군병원의 인력자료\n",
        "* 분산팽창인자값 구하기\n",
        "* Y : 월간 의사 연 근무시간\n",
        "* X1 : 일 평균 환자수\n",
        "* X2 : 월간 X-ray 촬영 횟수\n",
        "* X3 : 월간 이용 병석수\n",
        "* X4 : 해당 지역의 병원 이용가능 인구/100\n",
        "* X5 : 평균 입원일"
      ]
    },
    {
      "cell_type": "code",
      "metadata": {
        "id": "CwRV6f-LmRW8"
      },
      "source": [
        "#데이터 불러오기\n",
        "hospital.url = 'https://raw.githubusercontent.com/seunghee0518/R_File/main/%ED%9A%8C%EA%B7%80%EB%AA%A8%ED%98%95/hospital.txt'\n",
        "hospital = read.table(hospital.url, header=T)\n",
        "head(hospital, 3)\n",
        "attach(hospital)"
      ],
      "execution_count": null,
      "outputs": []
    },
    {
      "cell_type": "markdown",
      "metadata": {
        "id": "czOunMpxrcf9"
      },
      "source": [
        "각 변수의 대한 분산팽창인자 값 구하기"
      ]
    },
    {
      "cell_type": "code",
      "metadata": {
        "id": "2BLR1C7jb_L1"
      },
      "source": [
        "#1. 회귀적합 결과\n",
        "hospital.lm = lm(Y ~ ., data = hospital)\n",
        "summary(hospital.lm)"
      ],
      "execution_count": null,
      "outputs": []
    },
    {
      "cell_type": "code",
      "metadata": {
        "id": "NXC09pV06VHH"
      },
      "source": [
        "anova(hospital.lm)"
      ],
      "execution_count": null,
      "outputs": []
    },
    {
      "cell_type": "markdown",
      "metadata": {
        "id": "fIc8XYBcsVDt"
      },
      "source": [
        "* 추정회귀식 : Y = 1962.948-15.852 X1 +0.056 X2 + 1.590 X3 - 4.219 X4 - 394.314 X5\n",
        "* 분산σ2의 추정량 MSE = 412277\n",
        "* 결정계수 R2 = 0.9908\n",
        "* 경험적으로 Y는 X1, X3, X5에 비례할 것으로 예상되나 이들의 설명변수에 대한 회귀계수의 추정값의 부호가 음이므로 설명변수들 간에 다중공선성의 존재가 예상되며 따라서 분산팽창인자 등에 대한 진단이 요구된다"
      ]
    },
    {
      "cell_type": "code",
      "metadata": {
        "id": "ofuy8hEC6kHf"
      },
      "source": [
        "#분산팽창인자계산을 위한 패키지 : fmsb - VIF()\n",
        "install.packages(\"fmsb\")\n",
        "library(fmsb)"
      ],
      "execution_count": null,
      "outputs": []
    },
    {
      "cell_type": "code",
      "metadata": {
        "id": "2-I_Ib5_SsEn"
      },
      "source": [
        "#분산팽창인자계산\n",
        "vif1 = VIF(lm(X1 ~ X2+X3+X4+X5, data = hospital))\n",
        "vif2 = VIF(lm(X2 ~ X1+X3+X4+X5, data = hospital))\n",
        "vif3 = VIF(lm(X3 ~ X1+X2+X4+X5, data = hospital))\n",
        "vif4 = VIF(lm(X4 ~ X1+X2+X3+X5, data = hospital))\n",
        "vif5 = VIF(lm(X5 ~ X1+X2+X3+X4, data = hospital))"
      ],
      "execution_count": null,
      "outputs": []
    },
    {
      "cell_type": "code",
      "metadata": {
        "id": "qfuoO6CItzD4"
      },
      "source": [
        "#분산팽창인자 표\n",
        "variable = c('X1', 'X2', 'X3', 'X4', 'X5')\n",
        "vif.value = c(vif1, vif2 ,vif3, vif4, vif5)\n",
        "vif = data.frame(variable, vif.value)\n",
        "vif"
      ],
      "execution_count": null,
      "outputs": []
    },
    {
      "cell_type": "markdown",
      "metadata": {
        "id": "TKHAROj0S_08"
      },
      "source": [
        "* 최대분산팽창인자 : VIF1 = 9597.57\n",
        "* 따라서 다중공선성 문제가 존재함"
      ]
    },
    {
      "cell_type": "code",
      "metadata": {
        "id": "pkmfJohtcRl9"
      },
      "source": [
        "#독립변수들의 상관계수\n",
        "cor(hospital[, -6])"
      ],
      "execution_count": null,
      "outputs": []
    },
    {
      "cell_type": "markdown",
      "metadata": {
        "id": "V2t2O8pncck0"
      },
      "source": [
        "* 설명변수들 사이에 (특히 X1, X2, X3,X4) 강한 선형종속관계가 있음을 짐작 할 수 있음\n",
        "* 이 중 X1, X3사이의 표본상관계수가 0.9999로 매우 강한 상관관계가 있다.\n",
        "\n"
      ]
    },
    {
      "cell_type": "code",
      "metadata": {
        "id": "OclVh7FQcak_"
      },
      "source": [
        "# 설명변수 X1을 제거한 회귀적합\n",
        "summary(lm(Y~X2+X3+X4+X5, data = hospital))"
      ],
      "execution_count": null,
      "outputs": []
    },
    {
      "cell_type": "markdown",
      "metadata": {
        "id": "R_kSBLyVdUP2"
      },
      "source": [
        "* X1을 제외한 회귀식 : Y = 2032.188 + 0.05608 X2 + 1.0884 X3 - 5.0041 X4 - 410.083 X5\n",
        "* 결정계수 R2 = 0.99080 : 거의 변하지 않음\n",
        "* 또한 각각의 추정된 회귀계수의 표준오차도 모두 줄어즘"
      ]
    },
    {
      "cell_type": "code",
      "metadata": {
        "id": "aVgnCq6-wuv4"
      },
      "source": [
        "#X1을 제외한 분산팽창인자\n",
        "exceptX1.vif2 = VIF(lm(X2 ~ X3+X4+X5, data = hospital))\n",
        "exceptX1.vif3 = VIF(lm(X3 ~ X2+X4+X5, data = hospital))\n",
        "exceptX1.vif4 = VIF(lm(X4 ~ X2+X3+X5, data = hospital))\n",
        "exceptX1.vif5 = VIF(lm(X5 ~ X2+X3+X4, data = hospital))"
      ],
      "execution_count": null,
      "outputs": []
    },
    {
      "cell_type": "code",
      "metadata": {
        "id": "ZVKZLu2gxH9M"
      },
      "source": [
        "#X1을 제외한분산팽창인자 표(X1포함한 VIF함께 비교)\n",
        "exceptX1.vif.value = c('NULL', exceptX1.vif2 ,exceptX1.vif3, exceptX1.vif4, exceptX1.vif5)\n",
        "exceptX1.vif = data.frame(variable, vif.value, exceptX1.vif.value)\n",
        "exceptX1.vif"
      ],
      "execution_count": null,
      "outputs": []
    },
    {
      "cell_type": "markdown",
      "metadata": {
        "id": "IPeSminAxeua"
      },
      "source": [
        "* X1을 포함하는 경우와 비교했을때 모두 작은 값을 가짐"
      ]
    },
    {
      "cell_type": "markdown",
      "metadata": {
        "id": "YROne8k2yWXT"
      },
      "source": [
        "#변수선택\n",
        "* Hald의 자료 \n",
        "* 1그램의 시멘트에서 발생하는 열 : 반응변수\n",
        "* 시멘트의 네가지 원료이 양 : 설명변수\n",
        "\n"
      ]
    },
    {
      "cell_type": "code",
      "metadata": {
        "id": "pba300LsnaY4"
      },
      "source": [
        "#데이터 가져오기\n",
        "hald.url = 'https://raw.githubusercontent.com/seunghee0518/R_File/main/%ED%9A%8C%EA%B7%80%EB%AA%A8%ED%98%95/hald.txt'\n",
        "hald = read.table(hald.url, header = T)\n",
        "head(hald, 3)"
      ],
      "execution_count": null,
      "outputs": []
    },
    {
      "cell_type": "markdown",
      "metadata": {
        "id": "fVgOJ0ccm4R8"
      },
      "source": [
        "##모든 가능한 회귀 : leaps패키지 - regsubsets()"
      ]
    },
    {
      "cell_type": "code",
      "metadata": {
        "id": "_21R357KoB26"
      },
      "source": [
        "#패키지 가져오기\n",
        "install.packages('leaps')\n",
        "library(leaps)"
      ],
      "execution_count": null,
      "outputs": []
    },
    {
      "cell_type": "code",
      "metadata": {
        "id": "UER9omfEoJEw"
      },
      "source": [
        "#모든 가능한 회귀 적합\n",
        "all.lm = regsubsets(Y ~ ., data = hald)\n",
        "  (rs = summary(all.lm))"
      ],
      "execution_count": null,
      "outputs": []
    },
    {
      "cell_type": "markdown",
      "metadata": {
        "id": "Vhjc2RrQokYR"
      },
      "source": [
        "* regsubsets()함수는 디폴트값으로 입력변수의 수에 따라 선택된 변수를 *로 표시함"
      ]
    },
    {
      "cell_type": "code",
      "metadata": {
        "id": "PPfWYd42odhD"
      },
      "source": [
        "names(rs)"
      ],
      "execution_count": null,
      "outputs": []
    },
    {
      "cell_type": "code",
      "metadata": {
        "id": "LgDWR_6wogYr"
      },
      "source": [
        "#결정계수(R2p)\n",
        "R2 = round(rs$rsq, 4)\n",
        "#수정결정계수\n",
        "ad_R2 = round(rs$adjr2,4)\n",
        "#Cp값\n",
        "Cp = round(rs$cp, 4)\n",
        "#Selected_variable : 선택된 변수\n",
        "SV = c('X4', 'X1,X2', 'X1,X2,X4', 'X1,X2,X3,X4')\n",
        "p = c(1, 2, 3, 4)"
      ],
      "execution_count": null,
      "outputs": []
    },
    {
      "cell_type": "code",
      "metadata": {
        "id": "0KXZqSAXo6Bq"
      },
      "source": [
        "#모든 가능한 회귀결과\n",
        "result.all = cbind(p, SV, R2, ad_R2, Cp)\n",
        "result.all"
      ],
      "execution_count": null,
      "outputs": []
    },
    {
      "cell_type": "markdown",
      "metadata": {
        "id": "6Q5cRf7wqpJ8"
      },
      "source": [
        "##앞으로부터 선택법 : step()함수"
      ]
    },
    {
      "cell_type": "code",
      "metadata": {
        "id": "-RLqdUHiqDPq"
      },
      "source": [
        "#1. 시작, 최종모형 지정\n",
        "#시작모형 : 절편만을 포함한 모형\n",
        "start.lm = lm(Y ~ 1, data = hald)\n",
        "\n",
        "#최종모형 : 모든 변수 선택\n",
        "full.lm = lm(Y ~ ., data = hald)"
      ],
      "execution_count": null,
      "outputs": []
    },
    {
      "cell_type": "code",
      "metadata": {
        "id": "YQTBWQOirVjU"
      },
      "source": [
        "#step()함수로 선택함\n",
        "step(start.lm, scope = list(lower = start.lm, upper = full.lm), direction = 'forward')"
      ],
      "execution_count": null,
      "outputs": []
    },
    {
      "cell_type": "markdown",
      "metadata": {
        "id": "9SfK0dO5rnA4"
      },
      "source": [
        "* 과정1) AIC값이 가장 작은 변수 X4 선택\n",
        "* 과정2) 설명변수 X1이 선택됨\n",
        "* 과정3) X2가 최종적으로 선택되어 중단되고 3개의 설명변수(X4, X1, X2)를 포함하는 모형이 최적회귀모형으로 결정됨"
      ]
    },
    {
      "cell_type": "markdown",
      "metadata": {
        "id": "mGswveCKr72V"
      },
      "source": [
        "##뒤로부터 제거법\n"
      ]
    },
    {
      "cell_type": "code",
      "metadata": {
        "id": "lvygMK2orm2P"
      },
      "source": [
        "#step()함수로 뒤로부터 제거법 실행\n",
        "step(full.lm ,data = hald, direction = 'backward')"
      ],
      "execution_count": null,
      "outputs": []
    },
    {
      "cell_type": "markdown",
      "metadata": {
        "id": "sV2ifcA5sPPB"
      },
      "source": [
        "* 과정1) 고려대상인 4개의 설명변수 모두를 포함하는 다중회귀모형에서 설명변수 X3가 제거됨\n",
        "* 최종적으로 3개의 설명변수(X1, X2, X4)를 포함하는 모형이 최적회귀모형으로 결정됨"
      ]
    },
    {
      "cell_type": "markdown",
      "metadata": {
        "id": "B4NJTvNCsk0G"
      },
      "source": [
        "##단계별 회귀방법"
      ]
    },
    {
      "cell_type": "code",
      "metadata": {
        "id": "TSBIyjj4rlAx"
      },
      "source": [
        "#step()함수로 단계별 회귀방법 사용\n",
        "step(start.lm, scope = list(upper = full.lm), data = hald, direction = 'both')"
      ],
      "execution_count": null,
      "outputs": []
    },
    {
      "cell_type": "markdown",
      "metadata": {
        "id": "_OH1Ts-rtETh"
      },
      "source": [
        "* 최종적으로 선택된 모형은 (X4, X1, X2) 모형임을 알 수 있음"
      ]
    },
    {
      "cell_type": "code",
      "metadata": {
        "id": "imSWuFqttD6S"
      },
      "source": [
        ""
      ],
      "execution_count": null,
      "outputs": []
    },
    {
      "cell_type": "code",
      "metadata": {
        "id": "pemf__YMtB4D"
      },
      "source": [
        ""
      ],
      "execution_count": null,
      "outputs": []
    }
  ]
}
