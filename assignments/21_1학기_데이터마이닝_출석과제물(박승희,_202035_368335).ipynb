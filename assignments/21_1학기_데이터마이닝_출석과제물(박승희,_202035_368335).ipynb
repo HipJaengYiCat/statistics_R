{
  "nbformat": 4,
  "nbformat_minor": 0,
  "metadata": {
    "colab": {
      "name": "21.1학기_데이터마이닝_출석과제물(박승희, 202035-368335)",
      "provenance": [],
      "collapsed_sections": [],
      "authorship_tag": "ABX9TyMD1kO2K4TpM5OfzFsdQpQA",
      "include_colab_link": true
    },
    "kernelspec": {
      "name": "ir",
      "display_name": "R"
    }
  },
  "cells": [
    {
      "cell_type": "markdown",
      "metadata": {
        "id": "view-in-github",
        "colab_type": "text"
      },
      "source": [
        "<a href=\"https://colab.research.google.com/github/seunghee0518/R_File/blob/main/21_1%ED%95%99%EA%B8%B0_%EB%8D%B0%EC%9D%B4%ED%84%B0%EB%A7%88%EC%9D%B4%EB%8B%9D_%EC%B6%9C%EC%84%9D%EA%B3%BC%EC%A0%9C%EB%AC%BC(%EB%B0%95%EC%8A%B9%ED%9D%AC%2C_202035_368335).ipynb\" target=\"_parent\"><img src=\"https://colab.research.google.com/assets/colab-badge.svg\" alt=\"Open In Colab\"/></a>"
      ]
    },
    {
      "cell_type": "markdown",
      "metadata": {
        "id": "7hiFQcY8JKrp"
      },
      "source": [
        "#2번(보스턴하우징데이터)\n",
        "R에 내장된 보스텀 하우징 데이터를 변형하여 로지스틱 회귀모형을 적합하고자 한다. 새로운 목표변수 y를 medv가 21보다 큰 경우 “H”로 , medv가 21보다 작거나 같은 경우 “L”로 설정하여 모형을 적합하고 결과를 해석하라. (단, medv는 모형에서 제외) (10점) *힌트:R코드 Boston$y <- ifelse(Boston$medv>21, “H”, “L”)를 활용하고 교재 참고"
      ]
    },
    {
      "cell_type": "code",
      "metadata": {
        "colab": {
          "base_uri": "https://localhost:8080/",
          "height": 178
        },
        "id": "A-iyzKO6W7c2",
        "outputId": "43e3711e-4840-45a8-ced5-92a31bb501a5"
      },
      "source": [
        "#데이터 가져오기\n",
        "library(MASS)\n",
        "head(Boston, 3)"
      ],
      "execution_count": null,
      "outputs": [
        {
          "output_type": "display_data",
          "data": {
            "text/plain": [
              "  crim    zn indus chas nox   rm    age  dis    rad tax ptratio black  lstat\n",
              "1 0.00632 18 2.31  0    0.538 6.575 65.2 4.0900 1   296 15.3    396.90 4.98 \n",
              "2 0.02731  0 7.07  0    0.469 6.421 78.9 4.9671 2   242 17.8    396.90 9.14 \n",
              "3 0.02729  0 7.07  0    0.469 7.185 61.1 4.9671 2   242 17.8    392.83 4.03 \n",
              "  medv\n",
              "1 24.0\n",
              "2 21.6\n",
              "3 34.7"
            ],
            "text/latex": "A data.frame: 3 × 14\n\\begin{tabular}{r|llllllllllllll}\n  & crim & zn & indus & chas & nox & rm & age & dis & rad & tax & ptratio & black & lstat & medv\\\\\n  & <dbl> & <dbl> & <dbl> & <int> & <dbl> & <dbl> & <dbl> & <dbl> & <int> & <dbl> & <dbl> & <dbl> & <dbl> & <dbl>\\\\\n\\hline\n\t1 & 0.00632 & 18 & 2.31 & 0 & 0.538 & 6.575 & 65.2 & 4.0900 & 1 & 296 & 15.3 & 396.90 & 4.98 & 24.0\\\\\n\t2 & 0.02731 &  0 & 7.07 & 0 & 0.469 & 6.421 & 78.9 & 4.9671 & 2 & 242 & 17.8 & 396.90 & 9.14 & 21.6\\\\\n\t3 & 0.02729 &  0 & 7.07 & 0 & 0.469 & 7.185 & 61.1 & 4.9671 & 2 & 242 & 17.8 & 392.83 & 4.03 & 34.7\\\\\n\\end{tabular}\n",
            "text/markdown": "\nA data.frame: 3 × 14\n\n| <!--/--> | crim &lt;dbl&gt; | zn &lt;dbl&gt; | indus &lt;dbl&gt; | chas &lt;int&gt; | nox &lt;dbl&gt; | rm &lt;dbl&gt; | age &lt;dbl&gt; | dis &lt;dbl&gt; | rad &lt;int&gt; | tax &lt;dbl&gt; | ptratio &lt;dbl&gt; | black &lt;dbl&gt; | lstat &lt;dbl&gt; | medv &lt;dbl&gt; |\n|---|---|---|---|---|---|---|---|---|---|---|---|---|---|---|\n| 1 | 0.00632 | 18 | 2.31 | 0 | 0.538 | 6.575 | 65.2 | 4.0900 | 1 | 296 | 15.3 | 396.90 | 4.98 | 24.0 |\n| 2 | 0.02731 |  0 | 7.07 | 0 | 0.469 | 6.421 | 78.9 | 4.9671 | 2 | 242 | 17.8 | 396.90 | 9.14 | 21.6 |\n| 3 | 0.02729 |  0 | 7.07 | 0 | 0.469 | 7.185 | 61.1 | 4.9671 | 2 | 242 | 17.8 | 392.83 | 4.03 | 34.7 |\n\n",
            "text/html": [
              "<table class=\"dataframe\">\n",
              "<caption>A data.frame: 3 × 14</caption>\n",
              "<thead>\n",
              "\t<tr><th></th><th scope=col>crim</th><th scope=col>zn</th><th scope=col>indus</th><th scope=col>chas</th><th scope=col>nox</th><th scope=col>rm</th><th scope=col>age</th><th scope=col>dis</th><th scope=col>rad</th><th scope=col>tax</th><th scope=col>ptratio</th><th scope=col>black</th><th scope=col>lstat</th><th scope=col>medv</th></tr>\n",
              "\t<tr><th></th><th scope=col>&lt;dbl&gt;</th><th scope=col>&lt;dbl&gt;</th><th scope=col>&lt;dbl&gt;</th><th scope=col>&lt;int&gt;</th><th scope=col>&lt;dbl&gt;</th><th scope=col>&lt;dbl&gt;</th><th scope=col>&lt;dbl&gt;</th><th scope=col>&lt;dbl&gt;</th><th scope=col>&lt;int&gt;</th><th scope=col>&lt;dbl&gt;</th><th scope=col>&lt;dbl&gt;</th><th scope=col>&lt;dbl&gt;</th><th scope=col>&lt;dbl&gt;</th><th scope=col>&lt;dbl&gt;</th></tr>\n",
              "</thead>\n",
              "<tbody>\n",
              "\t<tr><th scope=row>1</th><td>0.00632</td><td>18</td><td>2.31</td><td>0</td><td>0.538</td><td>6.575</td><td>65.2</td><td>4.0900</td><td>1</td><td>296</td><td>15.3</td><td>396.90</td><td>4.98</td><td>24.0</td></tr>\n",
              "\t<tr><th scope=row>2</th><td>0.02731</td><td> 0</td><td>7.07</td><td>0</td><td>0.469</td><td>6.421</td><td>78.9</td><td>4.9671</td><td>2</td><td>242</td><td>17.8</td><td>396.90</td><td>9.14</td><td>21.6</td></tr>\n",
              "\t<tr><th scope=row>3</th><td>0.02729</td><td> 0</td><td>7.07</td><td>0</td><td>0.469</td><td>7.185</td><td>61.1</td><td>4.9671</td><td>2</td><td>242</td><td>17.8</td><td>392.83</td><td>4.03</td><td>34.7</td></tr>\n",
              "</tbody>\n",
              "</table>\n"
            ]
          },
          "metadata": {
            "tags": []
          }
        }
      ]
    },
    {
      "cell_type": "code",
      "metadata": {
        "id": "2em4VNmpXYk1"
      },
      "source": [
        "#데이터 가공\n",
        "Boston$chas = factor(Boston$chas)\n",
        "Boston$rad = factor(Boston$rad)\n",
        "attach(Boston)"
      ],
      "execution_count": null,
      "outputs": []
    },
    {
      "cell_type": "code",
      "metadata": {
        "colab": {
          "base_uri": "https://localhost:8080/",
          "height": 178
        },
        "id": "z5-DDm8yYX1I",
        "outputId": "a49b59f6-b032-42ff-d551-dca9405f7d7b"
      },
      "source": [
        "#y값 생성(H,L-> 1, 0)\n",
        "Boston$y = ifelse(medv>21, \"H\", \"L\")\n",
        "Boston$y = ifelse(Boston$y == \"H\", 1, 0)\n",
        "Boston.data = Boston[, -14]\n",
        "head(Boston.data,3)"
      ],
      "execution_count": null,
      "outputs": [
        {
          "output_type": "display_data",
          "data": {
            "text/plain": [
              "  crim    zn indus chas nox   rm    age  dis    rad tax ptratio black  lstat y\n",
              "1 0.00632 18 2.31  0    0.538 6.575 65.2 4.0900 1   296 15.3    396.90 4.98  1\n",
              "2 0.02731  0 7.07  0    0.469 6.421 78.9 4.9671 2   242 17.8    396.90 9.14  1\n",
              "3 0.02729  0 7.07  0    0.469 7.185 61.1 4.9671 2   242 17.8    392.83 4.03  1"
            ],
            "text/latex": "A data.frame: 3 × 14\n\\begin{tabular}{r|llllllllllllll}\n  & crim & zn & indus & chas & nox & rm & age & dis & rad & tax & ptratio & black & lstat & y\\\\\n  & <dbl> & <dbl> & <dbl> & <fct> & <dbl> & <dbl> & <dbl> & <dbl> & <fct> & <dbl> & <dbl> & <dbl> & <dbl> & <dbl>\\\\\n\\hline\n\t1 & 0.00632 & 18 & 2.31 & 0 & 0.538 & 6.575 & 65.2 & 4.0900 & 1 & 296 & 15.3 & 396.90 & 4.98 & 1\\\\\n\t2 & 0.02731 &  0 & 7.07 & 0 & 0.469 & 6.421 & 78.9 & 4.9671 & 2 & 242 & 17.8 & 396.90 & 9.14 & 1\\\\\n\t3 & 0.02729 &  0 & 7.07 & 0 & 0.469 & 7.185 & 61.1 & 4.9671 & 2 & 242 & 17.8 & 392.83 & 4.03 & 1\\\\\n\\end{tabular}\n",
            "text/markdown": "\nA data.frame: 3 × 14\n\n| <!--/--> | crim &lt;dbl&gt; | zn &lt;dbl&gt; | indus &lt;dbl&gt; | chas &lt;fct&gt; | nox &lt;dbl&gt; | rm &lt;dbl&gt; | age &lt;dbl&gt; | dis &lt;dbl&gt; | rad &lt;fct&gt; | tax &lt;dbl&gt; | ptratio &lt;dbl&gt; | black &lt;dbl&gt; | lstat &lt;dbl&gt; | y &lt;dbl&gt; |\n|---|---|---|---|---|---|---|---|---|---|---|---|---|---|---|\n| 1 | 0.00632 | 18 | 2.31 | 0 | 0.538 | 6.575 | 65.2 | 4.0900 | 1 | 296 | 15.3 | 396.90 | 4.98 | 1 |\n| 2 | 0.02731 |  0 | 7.07 | 0 | 0.469 | 6.421 | 78.9 | 4.9671 | 2 | 242 | 17.8 | 396.90 | 9.14 | 1 |\n| 3 | 0.02729 |  0 | 7.07 | 0 | 0.469 | 7.185 | 61.1 | 4.9671 | 2 | 242 | 17.8 | 392.83 | 4.03 | 1 |\n\n",
            "text/html": [
              "<table class=\"dataframe\">\n",
              "<caption>A data.frame: 3 × 14</caption>\n",
              "<thead>\n",
              "\t<tr><th></th><th scope=col>crim</th><th scope=col>zn</th><th scope=col>indus</th><th scope=col>chas</th><th scope=col>nox</th><th scope=col>rm</th><th scope=col>age</th><th scope=col>dis</th><th scope=col>rad</th><th scope=col>tax</th><th scope=col>ptratio</th><th scope=col>black</th><th scope=col>lstat</th><th scope=col>y</th></tr>\n",
              "\t<tr><th></th><th scope=col>&lt;dbl&gt;</th><th scope=col>&lt;dbl&gt;</th><th scope=col>&lt;dbl&gt;</th><th scope=col>&lt;fct&gt;</th><th scope=col>&lt;dbl&gt;</th><th scope=col>&lt;dbl&gt;</th><th scope=col>&lt;dbl&gt;</th><th scope=col>&lt;dbl&gt;</th><th scope=col>&lt;fct&gt;</th><th scope=col>&lt;dbl&gt;</th><th scope=col>&lt;dbl&gt;</th><th scope=col>&lt;dbl&gt;</th><th scope=col>&lt;dbl&gt;</th><th scope=col>&lt;dbl&gt;</th></tr>\n",
              "</thead>\n",
              "<tbody>\n",
              "\t<tr><th scope=row>1</th><td>0.00632</td><td>18</td><td>2.31</td><td>0</td><td>0.538</td><td>6.575</td><td>65.2</td><td>4.0900</td><td>1</td><td>296</td><td>15.3</td><td>396.90</td><td>4.98</td><td>1</td></tr>\n",
              "\t<tr><th scope=row>2</th><td>0.02731</td><td> 0</td><td>7.07</td><td>0</td><td>0.469</td><td>6.421</td><td>78.9</td><td>4.9671</td><td>2</td><td>242</td><td>17.8</td><td>396.90</td><td>9.14</td><td>1</td></tr>\n",
              "\t<tr><th scope=row>3</th><td>0.02729</td><td> 0</td><td>7.07</td><td>0</td><td>0.469</td><td>7.185</td><td>61.1</td><td>4.9671</td><td>2</td><td>242</td><td>17.8</td><td>392.83</td><td>4.03</td><td>1</td></tr>\n",
              "</tbody>\n",
              "</table>\n"
            ]
          },
          "metadata": {
            "tags": []
          }
        }
      ]
    },
    {
      "cell_type": "code",
      "metadata": {
        "id": "uTjcGME2Tk5Y"
      },
      "source": [
        "#로지스틱회귀모형 학습(medv변수 제외, y변수 추가)\n",
        "gfit = glm(y ~ ., family = binomial, data = Boston.data)"
      ],
      "execution_count": null,
      "outputs": []
    },
    {
      "cell_type": "code",
      "metadata": {
        "id": "7QbC6szrT1-D",
        "colab": {
          "base_uri": "https://localhost:8080/",
          "height": 754
        },
        "outputId": "26500069-bee4-4214-8e2d-625ac37f63b0"
      },
      "source": [
        "summary(gfit)"
      ],
      "execution_count": null,
      "outputs": [
        {
          "output_type": "display_data",
          "data": {
            "text/plain": [
              "\n",
              "Call:\n",
              "glm(formula = y ~ ., family = binomial, data = Boston.data)\n",
              "\n",
              "Deviance Residuals: \n",
              "    Min       1Q   Median       3Q      Max  \n",
              "-2.0855  -0.3404   0.0107   0.2735   3.3064  \n",
              "\n",
              "Coefficients:\n",
              "             Estimate Std. Error z value Pr(>|z|)    \n",
              "(Intercept) 12.245114   4.466858   2.741 0.006119 ** \n",
              "crim        -0.067390   0.070468  -0.956 0.338915    \n",
              "zn           0.013002   0.015185   0.856 0.391873    \n",
              "indus        0.006761   0.052709   0.128 0.897930    \n",
              "chas1        1.598772   0.682285   2.343 0.019116 *  \n",
              "nox         -5.809730   2.774655  -2.094 0.036273 *  \n",
              "rm           1.579389   0.444466   3.553 0.000380 ***\n",
              "age         -0.035347   0.010805  -3.271 0.001071 ** \n",
              "dis         -0.785307   0.188788  -4.160 3.19e-05 ***\n",
              "rad2         1.510077   1.228375   1.229 0.218948    \n",
              "rad3         1.029734   0.976940   1.054 0.291865    \n",
              "rad4         0.842310   0.736668   1.143 0.252871    \n",
              "rad5         0.889263   0.736687   1.207 0.227390    \n",
              "rad6         1.360669   0.900094   1.512 0.130611    \n",
              "rad7         3.247906   1.398417   2.323 0.020203 *  \n",
              "rad8         2.789631   1.143655   2.439 0.014719 *  \n",
              "rad24        5.126148   1.533006   3.344 0.000826 ***\n",
              "tax         -0.007352   0.003526  -2.085 0.037071 *  \n",
              "ptratio     -0.551318   0.117887  -4.677 2.92e-06 ***\n",
              "black        0.004611   0.002928   1.575 0.115225    \n",
              "lstat       -0.324923   0.056390  -5.762 8.31e-09 ***\n",
              "---\n",
              "Signif. codes:  0 ‘***’ 0.001 ‘**’ 0.01 ‘*’ 0.05 ‘.’ 0.1 ‘ ’ 1\n",
              "\n",
              "(Dispersion parameter for binomial family taken to be 1)\n",
              "\n",
              "    Null deviance: 701.34  on 505  degrees of freedom\n",
              "Residual deviance: 266.63  on 485  degrees of freedom\n",
              "AIC: 308.63\n",
              "\n",
              "Number of Fisher Scoring iterations: 7\n"
            ]
          },
          "metadata": {
            "tags": []
          }
        }
      ]
    },
    {
      "cell_type": "markdown",
      "metadata": {
        "id": "NyKyiU7sUBOe"
      },
      "source": [
        "## 변수선택 : 단계적 선택법"
      ]
    },
    {
      "cell_type": "code",
      "metadata": {
        "colab": {
          "base_uri": "https://localhost:8080/",
          "height": 1000
        },
        "id": "3o6NNpUBUBOl",
        "outputId": "87f90aa1-4ecf-4dad-fd8a-877499b2a685"
      },
      "source": [
        "#단계적선택법\n",
        "gfit.step.both = step(gfit, direction = \"both\")\n",
        "gfit.step.both$anova"
      ],
      "execution_count": null,
      "outputs": [
        {
          "output_type": "stream",
          "text": [
            "Start:  AIC=308.63\n",
            "y ~ crim + zn + indus + chas + nox + rm + age + dis + rad + tax + \n",
            "    ptratio + black + lstat\n",
            "\n",
            "          Df Deviance    AIC\n",
            "- indus    1   266.65 306.65\n",
            "- zn       1   267.41 307.41\n",
            "<none>         266.63 308.63\n",
            "- crim     1   268.86 308.86\n",
            "- black    1   269.63 309.63\n",
            "- nox      1   271.16 311.16\n",
            "- tax      1   271.24 311.24\n",
            "- chas     1   272.44 312.44\n",
            "- age      1   277.94 317.94\n",
            "- rad      8   292.90 318.90\n",
            "- rm       1   282.09 322.09\n",
            "- dis      1   287.83 327.84\n",
            "- ptratio  1   294.09 334.09\n",
            "- lstat    1   312.54 352.54\n",
            "\n",
            "Step:  AIC=306.65\n",
            "y ~ crim + zn + chas + nox + rm + age + dis + rad + tax + ptratio + \n",
            "    black + lstat\n",
            "\n",
            "          Df Deviance    AIC\n",
            "- zn       1   267.42 305.41\n",
            "<none>         266.65 306.65\n",
            "- crim     1   268.90 306.90\n",
            "- black    1   269.63 307.63\n",
            "+ indus    1   266.63 308.63\n",
            "- nox      1   271.32 309.32\n",
            "- tax      1   271.41 309.41\n",
            "- chas     1   272.44 310.44\n",
            "- age      1   277.97 315.97\n",
            "- rad      8   293.20 317.20\n",
            "- rm       1   282.09 320.09\n",
            "- dis      1   290.01 328.01\n",
            "- ptratio  1   294.78 332.78\n",
            "- lstat    1   312.89 350.89\n",
            "\n",
            "Step:  AIC=305.41\n",
            "y ~ crim + chas + nox + rm + age + dis + rad + tax + ptratio + \n",
            "    black + lstat\n",
            "\n",
            "          Df Deviance    AIC\n",
            "<none>         267.42 305.41\n",
            "- crim     1   269.42 305.42\n",
            "- black    1   270.22 306.22\n",
            "+ zn       1   266.65 306.65\n",
            "+ indus    1   267.41 307.41\n",
            "- tax      1   271.97 307.97\n",
            "- nox      1   272.08 308.08\n",
            "- chas     1   273.56 309.56\n",
            "- age      1   278.26 314.26\n",
            "- rad      8   293.32 315.32\n",
            "- rm       1   283.07 319.07\n",
            "- dis      1   295.92 331.91\n",
            "- ptratio  1   300.17 336.17\n",
            "- lstat    1   314.70 350.70\n"
          ],
          "name": "stdout"
        },
        {
          "output_type": "display_data",
          "data": {
            "text/plain": [
              "  Step    Df Deviance   Resid. Df Resid. Dev AIC     \n",
              "1         NA         NA 485       266.6340   308.6340\n",
              "2 - indus  1 0.01635097 486       266.6503   306.6503\n",
              "3 - zn     1 0.76464079 487       267.4150   305.4150"
            ],
            "text/latex": "A data.frame: 3 × 6\n\\begin{tabular}{llllll}\n Step & Df & Deviance & Resid. Df & Resid. Dev & AIC\\\\\n <I<chr>> & <dbl> & <dbl> & <dbl> & <dbl> & <dbl>\\\\\n\\hline\n\t         & NA &         NA & 485 & 266.6340 & 308.6340\\\\\n\t - indus &  1 & 0.01635097 & 486 & 266.6503 & 306.6503\\\\\n\t - zn    &  1 & 0.76464079 & 487 & 267.4150 & 305.4150\\\\\n\\end{tabular}\n",
            "text/markdown": "\nA data.frame: 3 × 6\n\n| Step &lt;I&lt;chr&gt;&gt; | Df &lt;dbl&gt; | Deviance &lt;dbl&gt; | Resid. Df &lt;dbl&gt; | Resid. Dev &lt;dbl&gt; | AIC &lt;dbl&gt; |\n|---|---|---|---|---|---|\n| <!----> | NA |         NA | 485 | 266.6340 | 308.6340 |\n| - indus |  1 | 0.01635097 | 486 | 266.6503 | 306.6503 |\n| - zn    |  1 | 0.76464079 | 487 | 267.4150 | 305.4150 |\n\n",
            "text/html": [
              "<table class=\"dataframe\">\n",
              "<caption>A data.frame: 3 × 6</caption>\n",
              "<thead>\n",
              "\t<tr><th scope=col>Step</th><th scope=col>Df</th><th scope=col>Deviance</th><th scope=col>Resid. Df</th><th scope=col>Resid. Dev</th><th scope=col>AIC</th></tr>\n",
              "\t<tr><th scope=col>&lt;I&lt;chr&gt;&gt;</th><th scope=col>&lt;dbl&gt;</th><th scope=col>&lt;dbl&gt;</th><th scope=col>&lt;dbl&gt;</th><th scope=col>&lt;dbl&gt;</th><th scope=col>&lt;dbl&gt;</th></tr>\n",
              "</thead>\n",
              "<tbody>\n",
              "\t<tr><td>       </td><td>NA</td><td>        NA</td><td>485</td><td>266.6340</td><td>308.6340</td></tr>\n",
              "\t<tr><td>- indus</td><td> 1</td><td>0.01635097</td><td>486</td><td>266.6503</td><td>306.6503</td></tr>\n",
              "\t<tr><td>- zn   </td><td> 1</td><td>0.76464079</td><td>487</td><td>267.4150</td><td>305.4150</td></tr>\n",
              "</tbody>\n",
              "</table>\n"
            ]
          },
          "metadata": {
            "tags": []
          }
        }
      ]
    },
    {
      "cell_type": "code",
      "metadata": {
        "colab": {
          "base_uri": "https://localhost:8080/",
          "height": 736
        },
        "id": "md0ApfwVUBOl",
        "outputId": "4a854b34-61f6-4c52-c821-c4e8782ace64"
      },
      "source": [
        "#단계적선택법에 의해 생성된 모형 적합 결과\n",
        "summary(gfit.step.both)"
      ],
      "execution_count": null,
      "outputs": [
        {
          "output_type": "display_data",
          "data": {
            "text/plain": [
              "\n",
              "Call:\n",
              "glm(formula = y ~ crim + chas + nox + rm + age + dis + rad + \n",
              "    tax + ptratio + black + lstat, family = binomial, data = Boston.data)\n",
              "\n",
              "Deviance Residuals: \n",
              "    Min       1Q   Median       3Q      Max  \n",
              "-1.9612  -0.3288   0.0114   0.2820   3.3053  \n",
              "\n",
              "Coefficients:\n",
              "             Estimate Std. Error z value Pr(>|z|)    \n",
              "(Intercept) 12.606428   4.434369   2.843 0.004471 ** \n",
              "crim        -0.061190   0.066570  -0.919 0.358001    \n",
              "chas1        1.631041   0.678162   2.405 0.016168 *  \n",
              "nox         -5.738600   2.696998  -2.128 0.033356 *  \n",
              "rm           1.580426   0.442087   3.575 0.000350 ***\n",
              "age         -0.034383   0.010710  -3.210 0.001326 ** \n",
              "dis         -0.696193   0.139602  -4.987 6.13e-07 ***\n",
              "rad2         1.567642   1.129834   1.387 0.165290    \n",
              "rad3         0.790712   0.924014   0.856 0.392144    \n",
              "rad4         0.699038   0.708445   0.987 0.323779    \n",
              "rad5         0.707587   0.700076   1.011 0.312146    \n",
              "rad6         1.268187   0.881091   1.439 0.150055    \n",
              "rad7         2.973994   1.342281   2.216 0.026717 *  \n",
              "rad8         2.613399   1.127561   2.318 0.020463 *  \n",
              "rad24        5.015136   1.516429   3.307 0.000942 ***\n",
              "tax         -0.007129   0.003479  -2.049 0.040432 *  \n",
              "ptratio     -0.579296   0.113723  -5.094 3.51e-07 ***\n",
              "black        0.004453   0.002906   1.532 0.125436    \n",
              "lstat       -0.328725   0.056065  -5.863 4.54e-09 ***\n",
              "---\n",
              "Signif. codes:  0 ‘***’ 0.001 ‘**’ 0.01 ‘*’ 0.05 ‘.’ 0.1 ‘ ’ 1\n",
              "\n",
              "(Dispersion parameter for binomial family taken to be 1)\n",
              "\n",
              "    Null deviance: 701.34  on 505  degrees of freedom\n",
              "Residual deviance: 267.41  on 487  degrees of freedom\n",
              "AIC: 305.41\n",
              "\n",
              "Number of Fisher Scoring iterations: 7\n"
            ]
          },
          "metadata": {
            "tags": []
          }
        }
      ]
    },
    {
      "cell_type": "markdown",
      "metadata": {
        "id": "V4pKY9PbYns3"
      },
      "source": [
        "##예측치와 관측치"
      ]
    },
    {
      "cell_type": "code",
      "metadata": {
        "colab": {
          "base_uri": "https://localhost:8080/",
          "height": 88
        },
        "id": "8MWUZvBwRBJv",
        "outputId": "67400fb5-0b73-4bdb-cbac-ced29b908d8d"
      },
      "source": [
        "#분류표 작성(임계치 0.5로 설정)\n",
        "p = predict(gfit.step.both, newdata=Boston.data , type=\"response\")\n",
        "threshold = 0.5\n",
        "B.yhat = ifelse(p> threshold, 1, 0)\n",
        "class.tab = table(Boston$y, B.yhat, dnn = c(\"Actual\", \"Predicted\"))\n",
        "class.tab"
      ],
      "execution_count": null,
      "outputs": [
        {
          "output_type": "display_data",
          "data": {
            "text/plain": [
              "      Predicted\n",
              "Actual   0   1\n",
              "     0 217  32\n",
              "     1  26 231"
            ]
          },
          "metadata": {
            "tags": []
          }
        }
      ]
    },
    {
      "cell_type": "code",
      "metadata": {
        "colab": {
          "base_uri": "https://localhost:8080/"
        },
        "id": "E9QoRdUeRmNA",
        "outputId": "8a8cdb7d-0d1d-411c-c7a0-e7bba2a635ea"
      },
      "source": [
        "#예측력측도\n",
        "prediction_Accuracy = sum((Boston$y==B.yhat) / length(Boston$y))\n",
        "Misclassificaton_Rate = sum((Boston$y!=B.yhat)/length(Boston$y))\n",
        "Specificity = class.tab[1, 1]/apply(class.tab, 1, sum)[1]\n",
        "Sensitivity = class.tab[2, 2]/apply(class.tab, 1, sum)[2]\n",
        "\n",
        "cat(\"prediction_Accuracy(예측정확도) : \",prediction_Accuracy , '\\n')\n",
        "cat(\"Misclassificaton_Rate(오분류율) : \", Misclassificaton_Rate, '\\n')\n",
        "cat(\"Specificity(민감도) : \", Specificity, '\\n')\n",
        "cat(\"Sensitivity(특이도) : \",Sensitivity)"
      ],
      "execution_count": null,
      "outputs": [
        {
          "output_type": "stream",
          "text": [
            "prediction_Accuracy(예측정확도) :  0.8853755 \n",
            "Misclassificaton_Rate(오분류율) :  0.1146245 \n",
            "Specificity(민감도) :  0.8714859 \n",
            "Sensitivity(특이도) :  0.8988327"
          ],
          "name": "stdout"
        }
      ]
    },
    {
      "cell_type": "code",
      "metadata": {
        "colab": {
          "base_uri": "https://localhost:8080/",
          "height": 544
        },
        "id": "m0u_IpPgS1_H",
        "outputId": "116f1b7c-5a7a-43e2-d256-84a93ae25eba"
      },
      "source": [
        "#ROC 곡선 & AUC생성\n",
        "install.packages(\"ROCR\")\n",
        "library(ROCR)\n",
        "\n",
        "pred <- prediction(p, Boston$y)\n",
        "perf <- performance(pred, \"tpr\", \"fpr\")\n",
        "plot(perf, lty= 1, col = 2, xlim = c(0, 1), ylim = c(0, 1), xlab = \"1-Specificity\", ylab = \"Sensitivity\", main = \"ROC Curve\")\n",
        "lines(x = c(0, 1), y = c(0, 1), col = \"grey\")"
      ],
      "execution_count": null,
      "outputs": [
        {
          "output_type": "stream",
          "text": [
            "Installing package into ‘/usr/local/lib/R/site-library’\n",
            "(as ‘lib’ is unspecified)\n",
            "\n",
            "also installing the dependencies ‘bitops’, ‘gtools’, ‘caTools’, ‘gplots’\n",
            "\n",
            "\n"
          ],
          "name": "stderr"
        },
        {
          "output_type": "display_data",
          "data": {
            "image/png": "[encoded data removed]",
            "text/plain": [
              "Plot with title “ROC Curve”"
            ]
          },
          "metadata": {
            "tags": [],
            "image/png": {
              "width": 420,
              "height": 420
            }
          }
        }
      ]
    },
    {
      "cell_type": "code",
      "metadata": {
        "colab": {
          "base_uri": "https://localhost:8080/",
          "height": 61
        },
        "id": "tN0mOTfgS2ig",
        "outputId": "8a0b754f-c331-428c-ab1f-635e0907e278"
      },
      "source": [
        "#AUC 생성\n",
        "AUC = performance(pred, \"auc\")@y.values\n",
        "AUC"
      ],
      "execution_count": null,
      "outputs": [
        {
          "output_type": "display_data",
          "data": {
            "text/plain": [
              "[[1]]\n",
              "[1] 0.9573235\n"
            ],
            "text/latex": "\\begin{enumerate}\n\\item 0.957323457253135\n\\end{enumerate}\n",
            "text/markdown": "1. 0.957323457253135\n\n\n",
            "text/html": [
              "<ol>\n",
              "\t<li>0.957323457253135</li>\n",
              "</ol>\n"
            ]
          },
          "metadata": {
            "tags": []
          }
        }
      ]
    },
    {
      "cell_type": "markdown",
      "metadata": {
        "id": "uPfO38M6sD53"
      },
      "source": [
        "#3. (3) 지니지수를 이용해 최적의 분리점을 찾으시오."
      ]
    },
    {
      "cell_type": "code",
      "metadata": {
        "colab": {
          "base_uri": "https://localhost:8080/",
          "height": 265
        },
        "id": "ey0mGTwDkxsi",
        "outputId": "bb8fda66-fc34-488e-a954-9ccb4a58434e"
      },
      "source": [
        "#데이터 가져오기\n",
        "url_3 = \"https://raw.githubusercontent.com/seunghee0518/R_File/main/%EB%8D%B0%EC%9D%B4%ED%84%B0%EB%A7%88%EC%9D%B4%EB%8B%9D/table.txt\"\n",
        "data = read.table(url_3, header = T)\n",
        "head(data)"
      ],
      "execution_count": null,
      "outputs": [
        {
          "output_type": "display_data",
          "data": {
            "text/plain": [
              "  X1 X2 Y\n",
              "1 1  1  1\n",
              "2 1  1  1\n",
              "3 1  2  1\n",
              "4 1  2  1\n",
              "5 1  2  1\n",
              "6 1  3  1"
            ],
            "text/latex": "A data.frame: 6 × 3\n\\begin{tabular}{r|lll}\n  & X1 & X2 & Y\\\\\n  & <int> & <int> & <int>\\\\\n\\hline\n\t1 & 1 & 1 & 1\\\\\n\t2 & 1 & 1 & 1\\\\\n\t3 & 1 & 2 & 1\\\\\n\t4 & 1 & 2 & 1\\\\\n\t5 & 1 & 2 & 1\\\\\n\t6 & 1 & 3 & 1\\\\\n\\end{tabular}\n",
            "text/markdown": "\nA data.frame: 6 × 3\n\n| <!--/--> | X1 &lt;int&gt; | X2 &lt;int&gt; | Y &lt;int&gt; |\n|---|---|---|---|\n| 1 | 1 | 1 | 1 |\n| 2 | 1 | 1 | 1 |\n| 3 | 1 | 2 | 1 |\n| 4 | 1 | 2 | 1 |\n| 5 | 1 | 2 | 1 |\n| 6 | 1 | 3 | 1 |\n\n",
            "text/html": [
              "<table class=\"dataframe\">\n",
              "<caption>A data.frame: 6 × 3</caption>\n",
              "<thead>\n",
              "\t<tr><th></th><th scope=col>X1</th><th scope=col>X2</th><th scope=col>Y</th></tr>\n",
              "\t<tr><th></th><th scope=col>&lt;int&gt;</th><th scope=col>&lt;int&gt;</th><th scope=col>&lt;int&gt;</th></tr>\n",
              "</thead>\n",
              "<tbody>\n",
              "\t<tr><th scope=row>1</th><td>1</td><td>1</td><td>1</td></tr>\n",
              "\t<tr><th scope=row>2</th><td>1</td><td>1</td><td>1</td></tr>\n",
              "\t<tr><th scope=row>3</th><td>1</td><td>2</td><td>1</td></tr>\n",
              "\t<tr><th scope=row>4</th><td>1</td><td>2</td><td>1</td></tr>\n",
              "\t<tr><th scope=row>5</th><td>1</td><td>2</td><td>1</td></tr>\n",
              "\t<tr><th scope=row>6</th><td>1</td><td>3</td><td>1</td></tr>\n",
              "</tbody>\n",
              "</table>\n"
            ]
          },
          "metadata": {
            "tags": []
          }
        }
      ]
    },
    {
      "cell_type": "code",
      "metadata": {
        "id": "UwQjEedBVJCN"
      },
      "source": [
        "#부분집합 생성 :Y=1  (1, 1) (1, 2) (2, 3)\n",
        "sub.11 = subset(data, X1 == 1 & X2 == 1)\n",
        "sub.12 = subset(data, X1 == 1 & X2 == 2)\n",
        "sub.23 = subset(data, X1 == 2 & X2 == 3)\n",
        "all.1 = rbind(sub.11, sub.12, sub.23)"
      ],
      "execution_count": null,
      "outputs": []
    },
    {
      "cell_type": "code",
      "metadata": {
        "id": "7h86mqh8XraM"
      },
      "source": [
        "#부분집합 생성 :Y=0  (2, 1) (3, 1) (3, 2)\n",
        "sub.21 = subset(data, X1 == 2 & X2 == 1)\n",
        "sub.31 = subset(data, X1 == 3 & X2 == 1)\n",
        "sub.32 = subset(data, X1 == 3 & X2 == 2)\n",
        "all.0 = rbind(sub.21, sub.31, sub.32)"
      ],
      "execution_count": null,
      "outputs": []
    },
    {
      "cell_type": "code",
      "metadata": {
        "id": "oSEU-pIJX9Xe"
      },
      "source": [
        "#나머지 부분집합\n",
        "sub.13 = subset(data, X1 ==1 & X2 == 3)\n",
        "sub.22 = subset(data, X1 ==2 & X2 == 2)\n",
        "sub.33 = subset(data, X1 ==3 & X2 == 3)"
      ],
      "execution_count": null,
      "outputs": []
    },
    {
      "cell_type": "code",
      "metadata": {
        "colab": {
          "base_uri": "https://localhost:8080/",
          "height": 33
        },
        "id": "R_uwqYEZZbDs",
        "outputId": "324698be-3ee5-400f-c3f6-5d5e7fa1164b"
      },
      "source": [
        "#전체 데이터 갯수\n",
        "data.n = nrow(data)\n",
        "data.n"
      ],
      "execution_count": null,
      "outputs": [
        {
          "output_type": "display_data",
          "data": {
            "text/plain": [
              "[1] 39"
            ],
            "text/latex": "39",
            "text/markdown": "39",
            "text/html": [
              "39"
            ]
          },
          "metadata": {
            "tags": []
          }
        }
      ]
    },
    {
      "cell_type": "code",
      "metadata": {
        "id": "pnJbTjuWVEot"
      },
      "source": [
        "#지니지수 함수\n",
        "gini = function(pj1) {\n",
        "  return ( 1 - (pj1^2 + (1-pj1)^2) )\n",
        "}\n",
        "\n",
        "#가중평균한 지니지수\n",
        "gini2 = function(r, pj1, pj2) {\n",
        "  one = gini(pj1)\n",
        "  two = gini(pj2)\n",
        "\n",
        "  return(r * one + (1-r) * two)\n",
        "}\n",
        "\n",
        "#분할개선도\n",
        "t = nrow(subset(data, Y == 0)) / data.n  \n",
        "gini.t = gini(t) #뿌리노드의 지니지수\n",
        "\n",
        "gdnss = function(g) {\n",
        "  return(gini.t-g)\n",
        "}"
      ],
      "execution_count": null,
      "outputs": []
    },
    {
      "cell_type": "code",
      "metadata": {
        "colab": {
          "base_uri": "https://localhost:8080/"
        },
        "id": "b5JpTUaGHb7F",
        "outputId": "61c0699a-c6d4-4e1a-eab3-6fa82c604bfb"
      },
      "source": [
        "#뿌리 노드의 지니지수\n",
        "cat(\"뿌리노드의 지니지수 : \", round(gini.t, 3))"
      ],
      "execution_count": null,
      "outputs": [
        {
          "output_type": "stream",
          "text": [
            "뿌리노드의 지니지수 :  0.497"
          ],
          "name": "stdout"
        }
      ]
    },
    {
      "cell_type": "code",
      "metadata": {
        "colab": {
          "base_uri": "https://localhost:8080/"
        },
        "id": "oN4h2DyJey6p",
        "outputId": "26ca9859-9e81-4c33-de4e-ce4e1b21c897"
      },
      "source": [
        "#경우1, 좌측 :(1, 1)(1, 2)(2, 3)\n",
        "case1 = all.1\n",
        "n = nrow(case1)/data.n  \n",
        "t1 = nrow(subset(case1, Y == 0)) / nrow(case1) \n",
        "\n",
        "\n",
        "#우측 : (2, 1)(3, 1)(3, 2) (1, 3)(2, 2)(3, 3)\n",
        "remain1 = rbind(all.0, sub.13, sub.22, sub.33)\n",
        "t2 = nrow(subset(remain1, Y==0)) / (data.n-nrow(case1))\n",
        "\n",
        "#경우1 지니지수 & 분할개선도\n",
        "g1 = gini2(n, t1, t2)\n",
        "gdnss1 = gdnss(g1)\n",
        "\n",
        "cat(\"지니지수 : \", round(g1, 3), \"분할개선도 : \", round(gdnss1, 3))"
      ],
      "execution_count": null,
      "outputs": [
        {
          "output_type": "stream",
          "text": [
            "지니지수 :  0.392 분할개선도 :  0.105"
          ],
          "name": "stdout"
        }
      ]
    },
    {
      "cell_type": "code",
      "metadata": {
        "colab": {
          "base_uri": "https://localhost:8080/"
        },
        "id": "rztNQvKtfJ2j",
        "outputId": "4c00f9a3-c897-4dd3-9d74-38286dfa99db"
      },
      "source": [
        "#경우2, 좌측 :(2, 1)(3, 1)(3, 2)\n",
        "case2 = all.0\n",
        "n = nrow(case2)/data.n # 12/39\n",
        "t1 = nrow(subset(case2, Y == 0)) / nrow(case2) # 10/12\n",
        "\n",
        "#우측 : (1, 1)(1, 2)(2, 3) (1, 3)(2, 2)(3, 3)\n",
        "remain2 = rbind(all.1, sub.13, sub.22, sub.33)\n",
        "t2 = nrow(subset(remain2, Y==0)) / (data.n-nrow(case2))\n",
        "\n",
        "#경우2 지니지수 & 분할개선도\n",
        "g2 = gini2(n, t1, t2)\n",
        "gdnss2 = gdnss(g2)\n",
        "\n",
        "cat(\"지니지수 : \", round(g2, 2), \"분할개선도 : \", round(gdnss2, 2))"
      ],
      "execution_count": null,
      "outputs": [
        {
          "output_type": "stream",
          "text": [
            "지니지수 :  0.26 분할개선도 :  0.24"
          ],
          "name": "stdout"
        }
      ]
    },
    {
      "cell_type": "code",
      "metadata": {
        "colab": {
          "base_uri": "https://localhost:8080/"
        },
        "id": "oAXPQbvlYVuM",
        "outputId": "e8194f62-5ddb-481a-e071-9ee59c06e0df"
      },
      "source": [
        "#경우3, 좌측 :(1, 1)(1, 2)(2, 3) (1, 3)\n",
        "case3 = rbind(all.1, sub.13)\n",
        "n = nrow(case3)/data.n \n",
        "t1 = nrow(subset(case3, Y == 0)) / nrow(case3) \n",
        "\n",
        "\n",
        "#우측 : (2, 1)(3, 1)(3, 2) (2, 2)(3, 3)\n",
        "remain3 = rbind(all.0, sub.22, sub.33)\n",
        "t2 = nrow(subset(remain3, Y==0)) / (data.n-nrow(case3))\n",
        "\n",
        "#경우3 지니지수 & 분할개선도\n",
        "g3 = gini2(n, t1, t2)\n",
        "gdnss3 = gdnss(g3)\n",
        "\n",
        "cat(\"지니지수 : \", round(g3, 2), \"분할개선도 : \", round(gdnss3, 2))"
      ],
      "execution_count": null,
      "outputs": [
        {
          "output_type": "stream",
          "text": [
            "지니지수 :  0.37 분할개선도 :  0.12"
          ],
          "name": "stdout"
        }
      ]
    },
    {
      "cell_type": "code",
      "metadata": {
        "colab": {
          "base_uri": "https://localhost:8080/"
        },
        "id": "1rngy0Hvfjvc",
        "outputId": "a9c535b5-5a14-4a64-c1b1-9f75c9dbcfa5"
      },
      "source": [
        "#경우4, 좌측 :(1, 1)(1, 2)(2, 3) (2, 2)\n",
        "case4 = rbind(all.1, sub.22)\n",
        "n = nrow(case4)/data.n \n",
        "t1 = nrow(subset(case4, Y == 0)) / nrow(case4)\n",
        "\n",
        "\n",
        "#우측 : (2, 1)(3, 1)(3, 2) (1, 3)(3, 3)\n",
        "remain4 = rbind(all.0, sub.13, sub.33)\n",
        "t2 = nrow(subset(remain4, Y==0)) / (data.n-nrow(case4))\n",
        "\n",
        "#경우4 지니지수 & 분할개선도\n",
        "g4 = gini2(n, t1, t2)\n",
        "gdnss4 = gdnss(g4)\n",
        "\n",
        "cat(\"지니지수 : \", round(g4, 2), \"분할개선도 : \", round(gdnss4, 2))"
      ],
      "execution_count": null,
      "outputs": [
        {
          "output_type": "stream",
          "text": [
            "지니지수 :  0.38 분할개선도 :  0.12"
          ],
          "name": "stdout"
        }
      ]
    },
    {
      "cell_type": "code",
      "metadata": {
        "colab": {
          "base_uri": "https://localhost:8080/"
        },
        "id": "3x5rm2C4Y6sI",
        "outputId": "5a4930a7-55d0-4d8e-a183-d322f7f028ae"
      },
      "source": [
        "#경우5, 좌측 :(1, 1)(1, 2)(2, 3) (3, 3)\n",
        "case5 = rbind(all.1, sub.33)\n",
        "n = nrow(case5)/data.n \n",
        "t1 = nrow(subset(case5, Y == 0)) / nrow(case5)\n",
        "\n",
        "\n",
        "#우측 : (2, 1)(3, 1)(3, 2) (1, 3)(2, 2)\n",
        "remain5 = rbind(all.0, sub.13, sub.22)\n",
        "t2 = nrow(subset(remain5, Y==0)) / (data.n-nrow(case5))\n",
        "\n",
        "#경우5 지니지수 & 분할개선도\n",
        "g5 = gini2(n, t1, t2)\n",
        "gdnss5 = gdnss(g5)\n",
        "\n",
        "cat(\"지니지수 : \", round(g5, 3), \"분할개선도 : \", round(gdnss5, 3))"
      ],
      "execution_count": null,
      "outputs": [
        {
          "output_type": "stream",
          "text": [
            "지니지수 :  0.387 분할개선도 :  0.11"
          ],
          "name": "stdout"
        }
      ]
    },
    {
      "cell_type": "code",
      "metadata": {
        "colab": {
          "base_uri": "https://localhost:8080/"
        },
        "id": "aS_3WEXmgE6a",
        "outputId": "ad59402a-1c10-4029-a18e-762fd6432e2b"
      },
      "source": [
        "#경우6, 좌측 :(2, 1)(3, 1)(3, 2) (1, 3)\n",
        "case6 = rbind(all.0, sub.13)\n",
        "n = nrow(case6)/data.n \n",
        "t1 = nrow(subset(case6, Y == 0)) / nrow(case6)\n",
        "\n",
        "\n",
        "#우측 : (1, 1)(1, 2)(2, 3) (2, 2)(3, 3)\n",
        "remain6 = rbind(all.1, sub.22, sub.33)\n",
        "t2 = nrow(subset(remain6, Y==0)) / (data.n-nrow(case6))\n",
        "\n",
        "#경우6 지니지수 & 분할개선도\n",
        "g6 = gini2(n, t1, t2)\n",
        "gdnss6 = gdnss(g6)\n",
        "\n",
        "cat(\"지니지수 : \", round(g6, 2), \"분할개선도 : \", round(gdnss6, 2))"
      ],
      "execution_count": null,
      "outputs": [
        {
          "output_type": "stream",
          "text": [
            "지니지수 :  0.35 분할개선도 :  0.14"
          ],
          "name": "stdout"
        }
      ]
    },
    {
      "cell_type": "code",
      "metadata": {
        "colab": {
          "base_uri": "https://localhost:8080/"
        },
        "id": "tM9RyCaihJKU",
        "outputId": "d04d825b-0ef8-418a-a93e-85b671e2da03"
      },
      "source": [
        "#경우7, 좌측 :(2, 1)(3, 1)(3, 2) (2, 2)\n",
        "case7 = rbind(all.0, sub.22)\n",
        "n = nrow(case7)/data.n \n",
        "t1 = nrow(subset(case7, Y == 0)) / nrow(case7)\n",
        "\n",
        "\n",
        "#우측 : (1, 1)(1, 2)(2, 3)  (1, 3)(3, 3)\n",
        "remain7 = rbind(all.1, sub.13, sub.33)\n",
        "t2 = nrow(subset(remain7, Y==0)) / (data.n-nrow(case7))\n",
        "\n",
        "#경우1 지니지수 & 분할개선도\n",
        "g7 = gini2(n, t1, t2)\n",
        "gdnss7 = gdnss(g7)\n",
        "\n",
        "cat(\"지니지수 : \", round(g7, 2), \"분할개선도 : \", round(gdnss7, 2))"
      ],
      "execution_count": null,
      "outputs": [
        {
          "output_type": "stream",
          "text": [
            "지니지수 :  0.35 분할개선도 :  0.14"
          ],
          "name": "stdout"
        }
      ]
    },
    {
      "cell_type": "code",
      "metadata": {
        "colab": {
          "base_uri": "https://localhost:8080/"
        },
        "id": "4vCf9gOZhXgi",
        "outputId": "07cd2ffc-c3c2-43ac-b82d-984f04bf9757"
      },
      "source": [
        "#경우8, 좌측 :(2, 1)(3, 1)(3, 2) (3, 3)\n",
        "case8 = rbind(all.0, sub.33)\n",
        "n = nrow(case8)/data.n \n",
        "t1 = nrow(subset(case8, Y == 0)) / nrow(case8)\n",
        "\n",
        "\n",
        "#우측 : (1, 1)(1, 2)(2, 3)  (1, 3)(2, 2)\n",
        "remain8 = rbind(all.1, sub.13, sub.22)\n",
        "t2 = nrow(subset(remain8, Y==0)) / (data.n-nrow(case8))\n",
        "\n",
        "#경우8 지니지수 & 분할개선도\n",
        "g8 = gini2(n, t1, t2)\n",
        "gdnss8 = gdnss(g8)\n",
        "\n",
        "cat(\"지니지수 : \", round(g8, 2), \"분할개선도 : \", round(gdnss8, 2))"
      ],
      "execution_count": null,
      "outputs": [
        {
          "output_type": "stream",
          "text": [
            "지니지수 :  0.31 분할개선도 :  0.18"
          ],
          "name": "stdout"
        }
      ]
    },
    {
      "cell_type": "markdown",
      "metadata": {
        "id": "qD0O8EcQmahB"
      },
      "source": [
        "#3. (4) 뿌리노드가 한번 분할된 분류나무를 생성하고, 두 자식노드에서 관찰치들의 집단별빈도를 밝히시오"
      ]
    },
    {
      "cell_type": "code",
      "metadata": {
        "id": "5iScO2s8k63k"
      },
      "source": [
        "#패키지 가져오기\n",
        "library(rpart)"
      ],
      "execution_count": null,
      "outputs": []
    },
    {
      "cell_type": "code",
      "metadata": {
        "colab": {
          "base_uri": "https://localhost:8080/"
        },
        "id": "F1ryv1nvlDco",
        "outputId": "50799cd8-b227-4c70-ce8f-a020d46cda78"
      },
      "source": [
        "#옵션 선택(한번만 분할된 분류나무)\n",
        "my.control = rpart.control(xval = 10, cp = -0.1, minsplit = 1, maxdepth = 1)\n",
        "\n",
        "#CART나무모형 - 지니지수로 실행\n",
        "fit.data = rpart(Y ~., data = data, method = \"class\", control = my.control)\n",
        "print(fit.data)"
      ],
      "execution_count": null,
      "outputs": [
        {
          "output_type": "stream",
          "text": [
            "n= 39 \n",
            "\n",
            "node), split, n, loss, yval, (yprob)\n",
            "      * denotes terminal node\n",
            "\n",
            "1) root 39 18 0 (0.5384615 0.4615385)  \n",
            "  2) X1>=2.5 15  2 0 (0.8666667 0.1333333) *\n",
            "  3) X1< 2.5 24  8 1 (0.3333333 0.6666667) *\n"
          ],
          "name": "stdout"
        }
      ]
    },
    {
      "cell_type": "markdown",
      "metadata": {
        "id": "hUlnwdLAjm1e"
      },
      "source": [
        "결과값 의미\n",
        "1. 노드번호\n",
        "2. 분할규칙\n",
        "3. 해당 노드의 총관측치 수\n",
        "4. 해당 노드에서 오분류되는 관측치 수 (Y=1, 18개)\n",
        "5. 해당 노드의 목표변수 예측치의 순서\n",
        "6. 괄호 : 목표변수의 집단별 비율(y=0, y=1)"
      ]
    },
    {
      "cell_type": "code",
      "metadata": {
        "colab": {
          "base_uri": "https://localhost:8080/",
          "height": 436
        },
        "id": "985BrPxnmARd",
        "outputId": "0f0f025a-7260-4c17-9f7f-d5909d96854d"
      },
      "source": [
        "#나무모형 시각화\n",
        "plot(fit.data, uniform = T, compress = T, margin = 0.1)\n",
        "text(fit.data, use.n = T, col = \"blue\")"
      ],
      "execution_count": null,
      "outputs": [
        {
          "output_type": "display_data",
          "data": {
            "image/png": "[encoded data removed]",
            "text/plain": [
              "plot without title"
            ]
          },
          "metadata": {
            "tags": [],
            "image/png": {
              "width": 420,
              "height": 420
            }
          }
        }
      ]
    },
    {
      "cell_type": "markdown",
      "metadata": {
        "id": "1PK5bfrumsK9"
      },
      "source": [
        "#3. (5) 위에서 생성된 분류나무의 오분류율을 계산하시오."
      ]
    },
    {
      "cell_type": "code",
      "metadata": {
        "id": "isK1l2vrmxRX"
      },
      "source": [
        "#분류예측치 구하기\n",
        "pred.data = predict(fit.data, newdata = data, type = \"class\")"
      ],
      "execution_count": null,
      "outputs": []
    },
    {
      "cell_type": "code",
      "metadata": {
        "colab": {
          "base_uri": "https://localhost:8080/"
        },
        "id": "c1a6r9MlmMyl",
        "outputId": "2072ec05-4088-4ac1-e31d-d151b14ac2f7"
      },
      "source": [
        "#오분류표\n",
        "tab = table(data$Y, pred.data, dnn = c(\"Actual\", \"Predicted\"))\n",
        "print(tab)"
      ],
      "execution_count": null,
      "outputs": [
        {
          "output_type": "stream",
          "text": [
            "      Predicted\n",
            "Actual  0  1\n",
            "     0 13  8\n",
            "     1  2 16\n"
          ],
          "name": "stdout"
        }
      ]
    },
    {
      "cell_type": "code",
      "metadata": {
        "colab": {
          "base_uri": "https://localhost:8080/",
          "height": 33
        },
        "id": "s81ptNLwmVEJ",
        "outputId": "139cd730-0c1d-442a-ab24-40253c0c73cf"
      },
      "source": [
        "#오분류율\n",
        "round(1-sum(diag(tab))/(sum(tab)), 2)"
      ],
      "execution_count": null,
      "outputs": [
        {
          "output_type": "display_data",
          "data": {
            "text/plain": [
              "[1] 0.26"
            ],
            "text/latex": "0.26",
            "text/markdown": "0.26",
            "text/html": [
              "0.26"
            ]
          },
          "metadata": {
            "tags": []
          }
        }
      ]
    }
  ]
}
