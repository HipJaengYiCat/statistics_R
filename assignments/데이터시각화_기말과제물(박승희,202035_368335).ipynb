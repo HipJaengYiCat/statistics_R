{
  "nbformat": 4,
  "nbformat_minor": 0,
  "metadata": {
    "colab": {
      "name": "데이터시각화_기말과제물(박승희,202035-368335)",
      "private_outputs": true,
      "provenance": [],
      "collapsed_sections": [],
      "authorship_tag": "ABX9TyMcUVfi8LVnPpanOugJiH1H",
      "include_colab_link": true
    },
    "kernelspec": {
      "name": "ir",
      "display_name": "R"
    }
  },
  "cells": [
    {
      "cell_type": "markdown",
      "metadata": {
        "id": "view-in-github",
        "colab_type": "text"
      },
      "source": [
        "<a href=\"https://colab.research.google.com/github/seunghee0518/R_File/blob/main/%EB%8D%B0%EC%9D%B4%ED%84%B0%EC%8B%9C%EA%B0%81%ED%99%94_%EA%B8%B0%EB%A7%90%EA%B3%BC%EC%A0%9C%EB%AC%BC(%EB%B0%95%EC%8A%B9%ED%9D%AC%2C202035_368335).ipynb\" target=\"_parent\"><img src=\"https://colab.research.google.com/assets/colab-badge.svg\" alt=\"Open In Colab\"/></a>"
      ]
    },
    {
      "cell_type": "markdown",
      "metadata": {
        "id": "6C4zpG7vzjGd"
      },
      "source": [
        "# 3. 버클리대학 입학자료를 바탕으로 성차별여부 시각화"
      ]
    },
    {
      "cell_type": "code",
      "metadata": {
        "id": "SfAvjbrdO8I2"
      },
      "source": [
        "UCBAdmissions"
      ],
      "execution_count": null,
      "outputs": []
    },
    {
      "cell_type": "code",
      "metadata": {
        "id": "Bc9uOHrP0T3O"
      },
      "source": [
        "str(UCBAdmissions)"
      ],
      "execution_count": null,
      "outputs": []
    },
    {
      "cell_type": "code",
      "metadata": {
        "id": "lcus_sQNkJ55"
      },
      "source": [
        "mosaicplot(~Gender + Admit, data = UCBAdmissions, color = c('red', 'grey'),\n",
        " main = 'UC Berkeley Admissions')"
      ],
      "execution_count": null,
      "outputs": []
    },
    {
      "cell_type": "markdown",
      "metadata": {
        "id": "fNViyaQvlS9B"
      },
      "source": [
        "* 성별 합격율의 모자이크 플롯이다.\n",
        "* 전체 사각형을 성별의 빈도인 2691, 1835의 비율로 수직 방향으로 사각형을 분할하고, 각 사각형을 성별 합격율에 비례하게 수평방향으로 분할해 얻은 것이다.\n"
      ]
    },
    {
      "cell_type": "code",
      "metadata": {
        "id": "HrvbavTKlarg"
      },
      "source": [
        "addmargins(apply(UCBAdmissions, c(1, 2), sum))"
      ],
      "execution_count": null,
      "outputs": []
    },
    {
      "cell_type": "markdown",
      "metadata": {
        "id": "zjRYUHGmsTKi"
      },
      "source": [
        "* 성별 지원자의 비율은 남자가 여자보다 약 1.5배 더 많다(2691/1835=59.46/40.54)\n",
        "* 남성 지원자 중 합격율은 44.52%\n",
        "* 여성 지원자 중 합격율은 30.35%\n",
        "* 성별 합격율은 남성이 14.17% 더 높다"
      ]
    },
    {
      "cell_type": "code",
      "metadata": {
        "id": "ouTs6CnMkjdG"
      },
      "source": [
        "mosaicplot(~ Dept + Gender + Admit, data = UCBAdmissions, color = c('red', 'grey'),\n",
        "dir = c('v', 'v', 'h'), off = 1, main = 'UC Berkeley Admissions')"
      ],
      "execution_count": null,
      "outputs": []
    },
    {
      "cell_type": "markdown",
      "metadata": {
        "id": "Aqgdie4eA1pd"
      },
      "source": [
        "* 전체 사각형 중 학과별 지원자 비율과 지원자의 성비율로 세로축으로 나누고 가로축으로는 합격자 비율대로 나누었다\n"
      ]
    },
    {
      "cell_type": "code",
      "metadata": {
        "id": "eLs-ucRQq-Zi"
      },
      "source": [
        "mosaicplot(~Admit + Dept + Gender, data = UCBAdmissions, \n",
        "color = c('red', 'grey'), main = 'UC Berkeley Admissions')"
      ],
      "execution_count": null,
      "outputs": []
    },
    {
      "cell_type": "markdown",
      "metadata": {
        "id": "LqHDiOLfSLYP"
      },
      "source": [
        "* 전체 정사각형 중 세로축은 합격율과, 성비로 나누고 가로축은 학과로 나누었다."
      ]
    },
    {
      "cell_type": "code",
      "metadata": {
        "id": "AUkdve7gmprp"
      },
      "source": [
        "addmargins(apply(UCBAdmissions, c(1,3), sum))\n",
        "addmargins(apply(UCBAdmissions, c(2,3), sum))"
      ],
      "execution_count": null,
      "outputs": []
    },
    {
      "cell_type": "markdown",
      "metadata": {
        "id": "9fvoy7rhwCpu"
      },
      "source": [
        "# 학과별 지원율 성비\n",
        "* A학과 성별 지원율 : 88.42%/11.58% (7.64배)\n",
        "* B학과 성별 지원율 : 95.73%/4.27% (22.4배)\n",
        "* C학과 성별 지원율 : 35.40%/64.60% (1.82배)\n",
        "* D학과 성별 지원율 : 52.65%/47.35% (1.11배)\n",
        "* E학과 성별 지원율 : 32.71%/67.29% (2.06배)\n",
        "* F학과 성별 지원율 : 52.24%/47.76% (1.09배)\n",
        "\n",
        "* A, B, D, F 학과의 남성 지원율이 높음\n",
        "* 특히 A,B학과가 남자 지원자 수가 많음\n",
        "* 전체 지원자 : 2691 A학과 : 933, B학과 : 585\n"
      ]
    },
    {
      "cell_type": "markdown",
      "metadata": {
        "id": "UfReG2G5yoGi"
      },
      "source": [
        "# 학과별 합격자의 성비\n",
        "* A학과 합격자의 성비 : 85.19%/14.81% (5.75)\n",
        "* B학과 합격자의 성비 : 95.41%/4.59% (20.76)\n",
        "* C학과 합격자의 성비 : 37.27%/62.73% (1.68)\n",
        "* D학과 합격자의 성비 : 51.20%/48.70% (1.05)\n",
        "* E학과 합격자의 성비 : 36.05%/63.95% (1.77)\n",
        "* F학과 합격자의 성비 : 47.83%/52.17% (1.09)\n",
        "* A, B학과가 합격자중 남자의 비중이 압도적으로 높고 D, F학과는 남여 비슷한 성비율, C, E학과는 여성이 합격율이 더 높은 것으로 나왔다\n",
        "* A, B학과는 전체 학과에서 지원자의 비율이 56.41%로 절반 이상이고 남자의 지원자 비율도 앞도적으로 많고 합격자도 남자가 압도적으로 많다\n"
      ]
    },
    {
      "cell_type": "markdown",
      "metadata": {
        "id": "cZNm3E3RmwU8"
      },
      "source": [
        "* 정리\n",
        ">\n",
        "A, B학과는 전체 학과에서 지원자의 비율이 56.41%로 절반 이상이고 남자의 지원자 비율도 앞도적으로 많고 합격자도 남자가 압도적으로 많다.\n",
        "하지만 학과별, 성별에 따른 합격율이 A, B학과를 제외하고 4개의 학과가 여자가 더 높거나 비슷한 수준이다. \n",
        "따라서 A,B학과에서 남성의 합격율이 압도적으로 높고 타 학과의 여자 합격자의 수가 절대적으로 적기 때문에 학과를 제외한 성별과 합격률만 따지면 남자의 합격율이 14.17% 더 높은 것으로 나온다.\n",
        "위 내용을 고려할 때  여자의 합격률이 남자에 비해 낮은 것으로 나오는 것은 여자의 합격자 수가 남자의 합격자 대비 월등히 낮기 때문이지 학과별로 고려했을 때는 모든 학과가 남녀 차별적으로 합격자를 뽑았다고 볼 수 없다.\n",
        "\n"
      ]
    },
    {
      "cell_type": "markdown",
      "metadata": {
        "id": "swrFtZFozrA8"
      },
      "source": [
        "# 4. 2020년 1월 22 부터 2021년 1월 21까지 코로나19 확진자수의 변화 시각화\n",
        "* 1, 2, 3차 대유행 시점에 관하여 논하기\n",
        "* 4차 대유행 가능성에 대하여 논하기\n",
        "* 패키지 'coronavirus' -coronavirus"
      ]
    },
    {
      "cell_type": "code",
      "metadata": {
        "id": "6nR9-pt02fMU"
      },
      "source": [
        "install.packages('coronavirus')\n",
        "library(coronavirus)"
      ],
      "execution_count": null,
      "outputs": []
    },
    {
      "cell_type": "code",
      "metadata": {
        "id": "ypReOXLk2qmZ"
      },
      "source": [
        "#coronavirus(country = 'Korea, South', type = 'confirmed')\n",
        "head(coronavirus)"
      ],
      "execution_count": null,
      "outputs": []
    },
    {
      "cell_type": "code",
      "metadata": {
        "id": "kph7rHUS24pS"
      },
      "source": [
        "#일부 데이터 추출\n",
        "corona = subset(coronavirus, coronavirus$country == 'Korea, South' & coronavirus$type == 'confirmed')\n",
        "head(corona, 3)\n",
        "tail(corona, 3)"
      ],
      "execution_count": null,
      "outputs": []
    },
    {
      "cell_type": "markdown",
      "metadata": {
        "id": "2FF58rlNIJVm"
      },
      "source": [
        "* 코로나 확진자 수 데이터는 일정한 주기를 가지는 데이터는 아니므로 zoo패키지를 이용하였다"
      ]
    },
    {
      "cell_type": "code",
      "metadata": {
        "id": "ZZ3hAFt85clU"
      },
      "source": [
        "install.packages('zoo')\n",
        "library(zoo)"
      ],
      "execution_count": null,
      "outputs": []
    },
    {
      "cell_type": "code",
      "metadata": {
        "id": "IfsgOuQRJH-R"
      },
      "source": [
        "date = as.Date(corona$date)\n",
        "head(date, 3)\n",
        "head(corona[, 7], 3)"
      ],
      "execution_count": null,
      "outputs": []
    },
    {
      "cell_type": "markdown",
      "metadata": {
        "id": "3kauUMVUpafG"
      },
      "source": [
        "* 주, 나라 , 위도, 경도, 타입은 모두 같은 내용이므로 date, cases만 사용하였다."
      ]
    },
    {
      "cell_type": "code",
      "metadata": {
        "id": "4CvCuv1wK0DO"
      },
      "source": [
        "co_data=corona[, 7]\n",
        "corona.cases = zoo(co_data, date)\n",
        "head(corona.cases)"
      ],
      "execution_count": null,
      "outputs": []
    },
    {
      "cell_type": "code",
      "metadata": {
        "id": "VA6CLugAGY5r"
      },
      "source": [
        "plot(corona.cases)"
      ],
      "execution_count": null,
      "outputs": []
    },
    {
      "cell_type": "code",
      "metadata": {
        "id": "mZfpl-dTSjK8"
      },
      "source": [
        "#대유행 기준 : 400명 이상\n",
        "pandemic_2.5 = subset(corona.cases, corona.cases > 400 & corona.cases < 800)\n",
        "pandemic_2.5"
      ],
      "execution_count": null,
      "outputs": []
    },
    {
      "cell_type": "code",
      "metadata": {
        "id": "MYIYpEZVwD32"
      },
      "source": [
        "#대유행 기준 : 800명이상\n",
        "pandemic_3 = subset(corona.cases, corona.cases >= 800)\n",
        "pandemic_3"
      ],
      "execution_count": null,
      "outputs": []
    },
    {
      "cell_type": "code",
      "metadata": {
        "id": "cNmEW8epxEXh"
      },
      "source": [
        "plot(corona.cases)\n",
        "points(pandemic_2.5, col = 'blue') # 400명이상\n",
        "points(pandemic_3, col = 'red') # 800명 이상"
      ],
      "execution_count": null,
      "outputs": []
    }
  ]
}
