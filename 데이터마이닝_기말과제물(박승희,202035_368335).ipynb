{
  "nbformat": 4,
  "nbformat_minor": 0,
  "metadata": {
    "colab": {
      "name": "데이터마이닝_기말과제물(박승희,202035-368335)",
      "private_outputs": true,
      "provenance": [],
      "collapsed_sections": [],
      "authorship_tag": "ABX9TyMpY+rpPCgBbYP/8YQ58F2+",
      "include_colab_link": true
    },
    "kernelspec": {
      "name": "ir",
      "display_name": "R"
    }
  },
  "cells": [
    {
      "cell_type": "markdown",
      "metadata": {
        "id": "view-in-github",
        "colab_type": "text"
      },
      "source": [
        "<a href=\"https://colab.research.google.com/github/seunghee0518/R_File/blob/main/%EB%8D%B0%EC%9D%B4%ED%84%B0%EB%A7%88%EC%9D%B4%EB%8B%9D_%EA%B8%B0%EB%A7%90%EA%B3%BC%EC%A0%9C%EB%AC%BC(%EB%B0%95%EC%8A%B9%ED%9D%AC%2C202035_368335).ipynb\" target=\"_parent\"><img src=\"https://colab.research.google.com/assets/colab-badge.svg\" alt=\"Open In Colab\"/></a>"
      ]
    },
    {
      "cell_type": "markdown",
      "metadata": {
        "id": "830CNQI8_hjN"
      },
      "source": [
        "#1번\n",
        "* numcredits변수에 factor()함수 적용\n",
        "* dummy함수 적용"
      ]
    },
    {
      "cell_type": "code",
      "metadata": {
        "id": "a6l3uZ38A6fr"
      },
      "source": [
        "#german 데이터 불러오기\n",
        "german_url = 'https://raw.githubusercontent.com/seunghee0518/R_File/main/%EB%8D%B0%EC%9D%B4%ED%84%B0%EB%A7%88%EC%9D%B4%EB%8B%9D/germandata.txt'\n",
        "german = read.table(german_url, header = T)\n",
        "head(german)\n",
        "attach(german)"
      ],
      "execution_count": null,
      "outputs": []
    },
    {
      "cell_type": "code",
      "metadata": {
        "id": "7RlLf19MA7AC"
      },
      "source": [
        "summary(numcredits)"
      ],
      "execution_count": null,
      "outputs": []
    },
    {
      "cell_type": "code",
      "metadata": {
        "id": "ALj3iUZefEqb"
      },
      "source": [
        "summary(factor(numcredits))"
      ],
      "execution_count": null,
      "outputs": []
    },
    {
      "cell_type": "code",
      "metadata": {
        "id": "UxVZZDurhsjz"
      },
      "source": [
        "german$numcredits = factor(german$numcredits)\n",
        "german$residence = factor(german$residence)\n",
        "german$residpeople = factor(german$residpeople)"
      ],
      "execution_count": null,
      "outputs": []
    },
    {
      "cell_type": "code",
      "metadata": {
        "id": "l3OZbC-zA7kC"
      },
      "source": [
        "install.packages('dummy')\n",
        "library(dummy)\n",
        "dvar = c(4, 9, 10, 15, 17)\n",
        "german2 = dummy(x = german[, dvar])\n",
        "german2 = german2[, -c(10, 14, 17, 20, 24)]\n",
        "german2 = cbind(german[, -dvar], german2)\n",
        "for(i in 1:ncol(german2)) if(!is.numeric(german2[, i])) german2[, i]=as.numeric(german2[,i])\n",
        "german2$y = ifelse(german$y == 'good', 1, 0)\n"
      ],
      "execution_count": null,
      "outputs": []
    },
    {
      "cell_type": "code",
      "metadata": {
        "id": "NjUl0kj4CxVt"
      },
      "source": [
        "head(german2)"
      ],
      "execution_count": null,
      "outputs": []
    },
    {
      "cell_type": "code",
      "metadata": {
        "id": "gD7BZzwOfia6"
      },
      "source": [
        "names(german2)"
      ],
      "execution_count": null,
      "outputs": []
    },
    {
      "cell_type": "code",
      "metadata": {
        "id": "kMOIvHGdjB2W"
      },
      "source": [
        "summary(german2$numcredits)"
      ],
      "execution_count": null,
      "outputs": []
    },
    {
      "cell_type": "code",
      "metadata": {
        "id": "4oVHvdMWjVh-"
      },
      "source": [
        "type(german2$numcredits)"
      ],
      "execution_count": null,
      "outputs": []
    },
    {
      "cell_type": "markdown",
      "metadata": {
        "id": "MO7lsg9qiHiq"
      },
      "source": [
        "##2번"
      ]
    },
    {
      "cell_type": "code",
      "metadata": {
        "id": "0DAYK28Hf2Oq"
      },
      "source": [
        "a = 1-((2/6)^2 + (4/6)^2)\n",
        "b = 1-((1/5)^2 + (4/5)^2)\n",
        "c = 1-((5/7)^2 + (2/7)^2)"
      ],
      "execution_count": null,
      "outputs": []
    },
    {
      "cell_type": "code",
      "metadata": {
        "id": "oBn6fnXnnuyJ"
      },
      "source": [
        "a"
      ],
      "execution_count": null,
      "outputs": []
    },
    {
      "cell_type": "code",
      "metadata": {
        "id": "3nU_S4-envfa"
      },
      "source": [
        "b"
      ],
      "execution_count": null,
      "outputs": []
    },
    {
      "cell_type": "code",
      "metadata": {
        "id": "x0cXVakInwoG"
      },
      "source": [
        "c"
      ],
      "execution_count": null,
      "outputs": []
    },
    {
      "cell_type": "code",
      "metadata": {
        "id": "KBSh4-Uxnw84"
      },
      "source": [
        "bc = 1-((6/12)^2 + (6/12)^2)\n",
        "ca = 1-((7/13)^2 + (6/13)^2)\n",
        "ab = 1-((3/11)^2 + (8/11)^2)"
      ],
      "execution_count": null,
      "outputs": []
    },
    {
      "cell_type": "code",
      "metadata": {
        "id": "cev04g_gsZfJ"
      },
      "source": [
        "a_bc = (6/18)*a + (12/18)*bc\n",
        "a_bc"
      ],
      "execution_count": null,
      "outputs": []
    },
    {
      "cell_type": "code",
      "metadata": {
        "id": "y54CH4pqtMF4"
      },
      "source": [
        "b_ca = (5/18)*b + (13/18)*ca\n",
        "b_ca"
      ],
      "execution_count": null,
      "outputs": []
    },
    {
      "cell_type": "code",
      "metadata": {
        "id": "VBonwRPrtZuD"
      },
      "source": [
        "c_ab = (7/18)*c + (11/18)*ab\n",
        "c_ab"
      ],
      "execution_count": null,
      "outputs": []
    },
    {
      "cell_type": "markdown",
      "metadata": {
        "id": "ztgJdNQ1tsvq"
      },
      "source": [
        "#3번"
      ]
    },
    {
      "cell_type": "code",
      "metadata": {
        "id": "daOMmdLNthn9"
      },
      "source": [
        ""
      ],
      "execution_count": null,
      "outputs": []
    },
    {
      "cell_type": "markdown",
      "metadata": {
        "id": "-HGfNeKcA4IN"
      },
      "source": [
        "#5번 : 신경망\n",
        "* 50%(종별25개) - 학습데이터\n",
        "* seed : 368335\n",
        "* 나머지로 종류분류 평가\n",
        "* 신경망 구조도 출력"
      ]
    },
    {
      "cell_type": "code",
      "metadata": {
        "id": "QeZNPYXjA-L7"
      },
      "source": [
        "#패키지\n",
        "install.packages(\"neuralnet\")\n",
        "library(neuralnet)"
      ],
      "execution_count": null,
      "outputs": []
    },
    {
      "cell_type": "code",
      "metadata": {
        "id": "8pszXsUZBHn_"
      },
      "source": [
        "iris"
      ],
      "execution_count": null,
      "outputs": []
    },
    {
      "cell_type": "code",
      "metadata": {
        "id": "6SsJ2bXp_fgW"
      },
      "source": [
        "#목표변수 Species -> 수치형 변환\n",
        "#setosa = 1\n",
        "#versicolor = 2\n",
        "#virginica = 3\n",
        "iris$Species = ifelse(iris$Species == \"setosa\", 1, \n",
        "              +        ifelse(iris$Species == \"versicolor\", 2, 3))\n",
        "iris$Species"
      ],
      "execution_count": null,
      "outputs": []
    },
    {
      "cell_type": "code",
      "metadata": {
        "id": "Z8e_uRZABQB6"
      },
      "source": [
        "#train data\n",
        "set.seed(368335)\n",
        "i <- c(sample(1:50, 25), sample(51:100, 25), sample(101:150, 25))\n",
        "\n",
        "#표준화\n",
        "max.iris = apply(iris, 2, max)\n",
        "min.iris = apply(iris, 2, min)\n",
        "\n",
        "ziris = scale(iris, center = min.iris, scale = max.iris - min.iris)\n",
        "ziris = as.data.frame(ziris)\n",
        "\n",
        "#훈련/검증 데이터 분리\n",
        "train <- ziris[i, ]\n",
        "test <- ziris[-i, ]"
      ],
      "execution_count": null,
      "outputs": []
    },
    {
      "cell_type": "code",
      "metadata": {
        "id": "zvodQeE-EGfH"
      },
      "source": [
        "#신경망 학습\n",
        "n = names(train)\n",
        "form = as.formula(paste(\"Species ~ \", paste(n[!n %in% \"Species\"], collapse = \"+\")))\n",
        "nn1 = neuralnet(form, data = train, hidden = c(5, 3), linear.output = F)\n",
        "nn2 = neuralnet(form, data = train, hidden = c(3, 2), linear.output = F)"
      ],
      "execution_count": null,
      "outputs": []
    },
    {
      "cell_type": "code",
      "metadata": {
        "id": "oXkfdQD6YKTB"
      },
      "source": [
        "install.packages(\"devtools\")\n",
        "library(devtools)\n",
        "source('https://gist.githubusercontent.com/fawda123/7471137/raw/466c1474d0a505ff044412703516c34f1a4684a5/nnet_plot_update.r')\n",
        "plot.nnet(nn1)"
      ],
      "execution_count": null,
      "outputs": []
    },
    {
      "cell_type": "code",
      "metadata": {
        "id": "VAZE6JcSEJbT"
      },
      "source": [
        "#예측(첫번째 은닉층5개, 두번째 은닉층 3개)\n",
        "pred.nn1 = compute(nn1, test)\n",
        "\n",
        "#원래대로 복귀\n",
        "pred1 = pred.nn1$net.result*(max(iris$Species)-min(iris$Species))+min(iris$Species)\n",
        "\n",
        "#m1값미만 : 1(setosa)/ m2이상 3(virginica)\n",
        "#경계라인 : (max-min)/3을 기준으로 분류\n",
        "d = max(pred1)-min(pred1)\n",
        "m1 = min(pred1)+(d/3)\n",
        "m2 = max(pred1)-(d/3)\n",
        "\n",
        "pred.nn2 = ifelse(pred1<m1, 1,\n",
        "            +ifelse(pred1>= m1 & pred1 < m2, 2, 3))"
      ],
      "execution_count": null,
      "outputs": []
    },
    {
      "cell_type": "code",
      "metadata": {
        "id": "gnl6QZXqEXZV"
      },
      "source": [
        "#오분류율\n",
        "# 테스트 데이터의 5열(종)과 예측값 비교해서 틀린 개수 / 테스트 데이터의 갯수\n",
        "sum(iris[-i, 5] != pred.nn2) / length(iris[-i, 5])"
      ],
      "execution_count": null,
      "outputs": []
    },
    {
      "cell_type": "code",
      "metadata": {
        "id": "YYaAY0i8E3ow"
      },
      "source": [
        "#오분류표\n",
        "table(iris[-i, 5], pred.nn2)"
      ],
      "execution_count": null,
      "outputs": []
    },
    {
      "cell_type": "code",
      "metadata": {
        "id": "lx8_f_wqJDjo"
      },
      "source": [
        "#예측 (첫번째 은닉층3개, 두번째 은닉층 2개)\n",
        "pred.nn2 = compute(nn2, test)\n",
        "\n",
        "#원래대로 복귀\n",
        "pred2 = pred.nn2$net.result*(max(iris$Species)-min(iris$Species))+min(iris$Species)\n",
        "\n",
        "#m1값미만 : 1(setosa)/ m2이상 3(virginica)\n",
        "#경계라인 : (max-min)/3을 기준으로 분류\n",
        "d = max(pred2)-min(pred2)\n",
        "m1 = min(pred2)+(d/3)\n",
        "m2 = max(pred2)-(d/3)\n",
        "\n",
        "pred.32 = ifelse(pred2<m1, 1,\n",
        "            +ifelse(pred2>= m1 & pred2 < m2, 2, 3))\n",
        "\n",
        "sum(iris[-i, 5] != pred.32) / length(iris[-i, 5])\n",
        "table(iris[-i, 5], pred.32)"
      ],
      "execution_count": null,
      "outputs": []
    },
    {
      "cell_type": "code",
      "metadata": {
        "id": "4KmWcITQJhuo"
      },
      "source": [
        "plot.nnet(nn2)"
      ],
      "execution_count": null,
      "outputs": []
    },
    {
      "cell_type": "code",
      "metadata": {
        "id": "vQXlu9VfJ8jJ"
      },
      "source": [
        ""
      ],
      "execution_count": null,
      "outputs": []
    }
  ]
}