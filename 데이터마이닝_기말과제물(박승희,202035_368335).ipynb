{
  "nbformat": 4,
  "nbformat_minor": 0,
  "metadata": {
    "colab": {
      "name": "데이터마이닝_기말과제물(박승희,202035-368335)",
      "private_outputs": true,
      "provenance": [],
      "collapsed_sections": [
        "-HGfNeKcA4IN",
        "jffqsUIwK_Y9",
        "VW1HTkVoLVs8"
      ],
      "authorship_tag": "ABX9TyMWBy73mv+g/HYW94XjDmAW",
      "include_colab_link": true
    },
    "kernelspec": {
      "name": "ir",
      "display_name": "R"
    }
  },
  "cells": [
    {
      "cell_type": "markdown",
      "metadata": {
        "id": "view-in-github",
        "colab_type": "text"
      },
      "source": [
        "<a href=\"https://colab.research.google.com/github/seunghee0518/R_File/blob/main/%EB%8D%B0%EC%9D%B4%ED%84%B0%EB%A7%88%EC%9D%B4%EB%8B%9D_%EA%B8%B0%EB%A7%90%EA%B3%BC%EC%A0%9C%EB%AC%BC(%EB%B0%95%EC%8A%B9%ED%9D%AC%2C202035_368335).ipynb\" target=\"_parent\"><img src=\"https://colab.research.google.com/assets/colab-badge.svg\" alt=\"Open In Colab\"/></a>"
      ]
    },
    {
      "cell_type": "markdown",
      "metadata": {
        "id": "830CNQI8_hjN"
      },
      "source": [
        "#1번\n",
        "* numcredits변수에 factor()함수 적용\n",
        "* dummy함수 적용"
      ]
    },
    {
      "cell_type": "code",
      "metadata": {
        "id": "a6l3uZ38A6fr"
      },
      "source": [
        "#german 데이터 불러오기\n",
        "german_url = 'https://raw.githubusercontent.com/seunghee0518/R_File/main/%EB%8D%B0%EC%9D%B4%ED%84%B0%EB%A7%88%EC%9D%B4%EB%8B%9D/germandata.txt'\n",
        "german = read.table(german_url, header = T)\n",
        "head(german)\n",
        "attach(german)"
      ],
      "execution_count": null,
      "outputs": []
    },
    {
      "cell_type": "code",
      "metadata": {
        "id": "7RlLf19MA7AC"
      },
      "source": [
        "class(numcredits)\n",
        "summary(numcredits)\n",
        "head(numcredits)\n",
        "tail(numcredits)"
      ],
      "execution_count": null,
      "outputs": []
    },
    {
      "cell_type": "code",
      "metadata": {
        "id": "ALj3iUZefEqb"
      },
      "source": [
        "german$numcredits = factor(german$numcredits)\n",
        "class(german$numcredits)\n",
        "summary(german$numcredits)\n",
        "head(german$numcredits)\n",
        "tail(german$numcredits)"
      ],
      "execution_count": null,
      "outputs": []
    },
    {
      "cell_type": "code",
      "metadata": {
        "id": "UxVZZDurhsjz"
      },
      "source": [
        "#residence, residpeople 범주형으로 변환(실제 범주형인데 수치형으로 인식됨)\n",
        "german$residence = factor(german$residence)\n",
        "german$residpeople = factor(german$residpeople)"
      ],
      "execution_count": null,
      "outputs": []
    },
    {
      "cell_type": "code",
      "metadata": {
        "id": "jK7gC39CMdSs"
      },
      "source": [
        "#factor 전 데이터 가져오기\n",
        "german_d = read.table(german_url, header = T)"
      ],
      "execution_count": null,
      "outputs": []
    },
    {
      "cell_type": "code",
      "metadata": {
        "id": "zgs2gDKW05X9"
      },
      "source": [
        "install.packages('dummy')\n",
        "library(dummy)"
      ],
      "execution_count": null,
      "outputs": []
    },
    {
      "cell_type": "code",
      "metadata": {
        "id": "J1lVYXW9KG0R"
      },
      "source": [
        "#순서가 있는 범주형 변수이지만 최근 R에서는 순서를 인지 하지 못하여 ordered함수로 순서형 팩터를 생성함\n",
        "german_d$check = ordered(german_d$check)\n",
        "german_d$history = ordered(german_d$history)\n",
        "german_d$savings = ordered(german_d$savings)\n",
        "german_d$employment = ordered(german_d$employment)\n",
        "german_d$property = ordered(german_d$property)\n",
        "german_d$others = ordered(german_d$others)\n",
        "german_d$telephone = ordered(german_d$telephone)\n",
        "german_d$foreign = ordered(german_d$foreign)"
      ],
      "execution_count": null,
      "outputs": []
    },
    {
      "cell_type": "code",
      "metadata": {
        "id": "l3OZbC-zA7kC"
      },
      "source": [
        "dvar = c(4, 9, 10, 15, 17) #purpose, personal, debtors, job, telephone(명목형 변수)\n",
        "german2 = dummy(x = german_d[, dvar]) # 명목형 변수를 더미변수화\n",
        "german2 = german2[, -c(10, 14, 17, 20, 24)] #중복변수 삭제\n",
        "german2 = cbind(german_d[, -dvar], german2) # 변수결합 \n",
        "#순서가 있는 범주형 변수의 수치형 변수화\n",
        "for(i in 1:ncol(german2)) if(!is.numeric(german2[, i])) german2[, i]=as.numeric(german2[,i]) \n",
        "german2$y = ifelse(german$y == 'good', 1, 0) # 목표변수 변환"
      ],
      "execution_count": null,
      "outputs": []
    },
    {
      "cell_type": "code",
      "metadata": {
        "id": "g4DF9VLgK6wb"
      },
      "source": [
        "head(german2)"
      ],
      "execution_count": null,
      "outputs": []
    },
    {
      "cell_type": "code",
      "metadata": {
        "id": "PiTTsH70L0h5"
      },
      "source": [
        "table(german$purpose)"
      ],
      "execution_count": null,
      "outputs": []
    },
    {
      "cell_type": "code",
      "metadata": {
        "id": "Ms9X11nxLCWl"
      },
      "source": [
        "#일부 데이터만 확인 : check, purpose, duration, numcredits\n",
        "var = c(1, 2, 12, 17, 18, 19, 20, 21, 22, 23, 24, 25)\n",
        "head(german2[, var])"
      ],
      "execution_count": null,
      "outputs": []
    },
    {
      "cell_type": "code",
      "metadata": {
        "id": "J7y1q7AjRl33"
      },
      "source": [
        "#dummy()함수를 파악하기 위해 일부 변수만 사용함\n",
        "var = c(1,2, 4, 16)\n",
        "german_dummy = german_d[, var]\n",
        "head(german_dummy) "
      ],
      "execution_count": null,
      "outputs": []
    },
    {
      "cell_type": "code",
      "metadata": {
        "id": "daL5YWYvSIJG"
      },
      "source": [
        "#dummy()함수로 가변수생성\n",
        "gdummy = dummy(german_dummy)\n",
        "head(gdummy)"
      ],
      "execution_count": null,
      "outputs": []
    },
    {
      "cell_type": "code",
      "metadata": {
        "id": "2aw9WT4MX224"
      },
      "source": [
        "german_d$numcredits = factor(german_d$numcredits)\n",
        "german_dummy = german_d[, var]\n",
        "head(german_dummy) "
      ],
      "execution_count": null,
      "outputs": []
    },
    {
      "cell_type": "code",
      "metadata": {
        "id": "Y4J3bpp2YArH"
      },
      "source": [
        "gdummy = dummy(german_dummy)\n",
        "head(gdummy)"
      ],
      "execution_count": null,
      "outputs": []
    },
    {
      "cell_type": "markdown",
      "metadata": {
        "id": "-HGfNeKcA4IN"
      },
      "source": [
        "#5번 : 신경망\n",
        "* 50%(종별25개) - 학습데이터\n",
        "* seed : 368335(학번 뒷자리)\n",
        "* 나머지로 종류분류 평가\n",
        "* 신경망 구조도 출력"
      ]
    },
    {
      "cell_type": "code",
      "metadata": {
        "id": "QeZNPYXjA-L7"
      },
      "source": [
        "#패키지\n",
        "install.packages(\"neuralnet\")\n",
        "library(neuralnet)"
      ],
      "execution_count": null,
      "outputs": []
    },
    {
      "cell_type": "code",
      "metadata": {
        "id": "8pszXsUZBHn_"
      },
      "source": [
        "iris"
      ],
      "execution_count": null,
      "outputs": []
    },
    {
      "cell_type": "code",
      "metadata": {
        "id": "6SsJ2bXp_fgW"
      },
      "source": [
        "#목표변수 Species -> 수치형 변환\n",
        "#setosa = 1\n",
        "#versicolor = 2\n",
        "#virginica = 3\n",
        "iris$Species = ifelse(iris$Species == \"setosa\", 1, \n",
        "              +        ifelse(iris$Species == \"versicolor\", 2, 3))\n",
        "iris$Species"
      ],
      "execution_count": null,
      "outputs": []
    },
    {
      "cell_type": "code",
      "metadata": {
        "id": "Z8e_uRZABQB6"
      },
      "source": [
        "#train data\n",
        "set.seed(368335)\n",
        "i <- c(sample(1:50, 25), sample(51:100, 25), sample(101:150, 25))\n",
        "\n",
        "#표준화\n",
        "max.iris = apply(iris, 2, max)\n",
        "min.iris = apply(iris, 2, min)\n",
        "\n",
        "ziris = scale(iris, center = min.iris, scale = max.iris - min.iris)\n",
        "ziris = as.data.frame(ziris)\n",
        "\n",
        "#훈련/검증 데이터 분리\n",
        "train <- ziris[i, ]\n",
        "test <- ziris[-i, ]"
      ],
      "execution_count": null,
      "outputs": []
    },
    {
      "cell_type": "code",
      "metadata": {
        "id": "zvodQeE-EGfH"
      },
      "source": [
        "#신경망 학습\n",
        "n = names(train)\n",
        "form = as.formula(paste(\"Species ~ \", paste(n[!n %in% \"Species\"], collapse = \"+\")))\n",
        "nn1 = neuralnet(form, data = train, hidden = c(5, 3), linear.output = F)\n",
        "nn2 = neuralnet(form, data = train, hidden = c(3, 2), linear.output = F)"
      ],
      "execution_count": null,
      "outputs": []
    },
    {
      "cell_type": "code",
      "metadata": {
        "id": "oXkfdQD6YKTB"
      },
      "source": [
        "install.packages(\"devtools\")\n",
        "library(devtools)\n",
        "source('https://gist.githubusercontent.com/fawda123/7471137/raw/466c1474d0a505ff044412703516c34f1a4684a5/nnet_plot_update.r')\n",
        "plot.nnet(nn1)"
      ],
      "execution_count": null,
      "outputs": []
    },
    {
      "cell_type": "code",
      "metadata": {
        "id": "VAZE6JcSEJbT"
      },
      "source": [
        "#예측(첫번째 은닉층5개, 두번째 은닉층 3개)\n",
        "pred.nn1 = compute(nn1, test)\n",
        "\n",
        "#원래대로 복귀\n",
        "pred1 = pred.nn1$net.result*(max(iris$Species)-min(iris$Species))+min(iris$Species)\n",
        "\n",
        "#m1값미만 : 1(setosa)/ m2이상 3(virginica)\n",
        "#경계라인 : (max-min)/3을 기준으로 분류\n",
        "d = max(pred1)-min(pred1)\n",
        "m1 = min(pred1)+(d/3)\n",
        "m2 = max(pred1)-(d/3)\n",
        "\n",
        "pred.nn2 = ifelse(pred1<m1, 1,\n",
        "            +ifelse(pred1>= m1 & pred1 < m2, 2, 3))"
      ],
      "execution_count": null,
      "outputs": []
    },
    {
      "cell_type": "code",
      "metadata": {
        "id": "gnl6QZXqEXZV"
      },
      "source": [
        "#오분류율\n",
        "# 테스트 데이터의 5열(종)과 예측값 비교해서 틀린 개수 / 테스트 데이터의 갯수\n",
        "sum(iris[-i, 5] != pred.nn2) / length(iris[-i, 5])"
      ],
      "execution_count": null,
      "outputs": []
    },
    {
      "cell_type": "code",
      "metadata": {
        "id": "YYaAY0i8E3ow"
      },
      "source": [
        "#오분류표\n",
        "table(iris[-i, 5], pred.nn2)"
      ],
      "execution_count": null,
      "outputs": []
    },
    {
      "cell_type": "code",
      "metadata": {
        "id": "lx8_f_wqJDjo"
      },
      "source": [
        "#예측 (첫번째 은닉층3개, 두번째 은닉층 2개)\n",
        "pred.nn2 = compute(nn2, test)\n",
        "\n",
        "#원래대로 복귀\n",
        "pred2 = pred.nn2$net.result*(max(iris$Species)-min(iris$Species))+min(iris$Species)\n",
        "\n",
        "#m1값미만 : 1(setosa)/ m2이상 3(virginica)\n",
        "#경계라인 : (max-min)/3을 기준으로 분류\n",
        "d = max(pred2)-min(pred2)\n",
        "m1 = min(pred2)+(d/3)\n",
        "m2 = max(pred2)-(d/3)\n",
        "\n",
        "pred.32 = ifelse(pred2<m1, 1,\n",
        "            +ifelse(pred2>= m1 & pred2 < m2, 2, 3))\n",
        "\n",
        "sum(iris[-i, 5] != pred.32) / length(iris[-i, 5])\n",
        "table(iris[-i, 5], pred.32)"
      ],
      "execution_count": null,
      "outputs": []
    },
    {
      "cell_type": "code",
      "metadata": {
        "id": "4KmWcITQJhuo"
      },
      "source": [
        "plot.nnet(nn2)"
      ],
      "execution_count": null,
      "outputs": []
    },
    {
      "cell_type": "markdown",
      "metadata": {
        "id": "jffqsUIwK_Y9"
      },
      "source": [
        "#6번 USArrests 군집분석(맨해탄거리)\n",
        "1. 단일연결법, 완전연결법, 평균연결법으로 군집화 & 나무그림\n",
        "2. DIANA를 이용한 군집화 & 나무형 그림\n",
        "3. 몇개의 군집을 좋을지 판단\n",
        "4. 위 결과를 바탕으로 k-평균 군집분석 실시\n"
      ]
    },
    {
      "cell_type": "code",
      "metadata": {
        "id": "vQXlu9VfJ8jJ"
      },
      "source": [
        "#데이터 가져오기\n",
        "head(USArrests)\n",
        "summary(USArrests)"
      ],
      "execution_count": null,
      "outputs": []
    },
    {
      "cell_type": "code",
      "metadata": {
        "id": "5ByckmCtKlfX"
      },
      "source": [
        "USArrests2 = as.matrix(USArrests)"
      ],
      "execution_count": null,
      "outputs": []
    },
    {
      "cell_type": "code",
      "metadata": {
        "id": "o7dTQ6V1tBA6"
      },
      "source": [
        "USA.hclusting1 = hclust(dist(USArrests2), method = 'single') #단일연결법\n",
        "USA.hclusting2 = hclust(dist(USArrests2), method = 'complete') #완전연결법\n",
        "USA.hclusting3 = hclust(dist(USArrests2), method = \"average\") #평균연결법"
      ],
      "execution_count": null,
      "outputs": []
    },
    {
      "cell_type": "code",
      "metadata": {
        "id": "nfGXDz7ktBII"
      },
      "source": [
        "#나무그림\n",
        "plot(USA.hclusting1, hang=-1)\n",
        "plot(USA.hclusting2, hang=-1)\n",
        "plot(USA.hclusting3, hang=-1)"
      ],
      "execution_count": null,
      "outputs": []
    },
    {
      "cell_type": "code",
      "metadata": {
        "id": "jmg0rD55FOoW"
      },
      "source": [
        "#분할분석(DIANA)\n",
        "library(cluster)\n",
        "USA.divclustering = diana(USArrests2)"
      ],
      "execution_count": null,
      "outputs": []
    },
    {
      "cell_type": "code",
      "metadata": {
        "id": "fYJ7MzG7FVla"
      },
      "source": [
        "#나무그림\n",
        "plot(USA.divclustering)"
      ],
      "execution_count": null,
      "outputs": []
    },
    {
      "cell_type": "code",
      "metadata": {
        "id": "ygBluH9sJWeq"
      },
      "source": [
        "#k-평균\n",
        "USA.initial.aver = tapply(USArrests2, list(rep(cutree(USA.hclusting3, 3), ncol(USArrests2)), col(USArrests2)), mean)\n",
        "USA.initial.div = tapply(USArrests2, list(rep(cutree(USA.divclustering, 4), ncol(USArrests2)), col(USArrests2)), mean)\n",
        "USA.kmeans.aver = kmeans(USArrests2, USA.initial.aver, algorithm = 'MacQueen')\n",
        "USA.kmeans.div = kmeans(USArrests2, USA.initial.div, algorithm = 'MacQueen')"
      ],
      "execution_count": null,
      "outputs": []
    },
    {
      "cell_type": "code",
      "metadata": {
        "id": "aqtPA-bCvTic"
      },
      "source": [
        "#평균연결법을 바탕으로 k-평균\n",
        "USA.kmeans.aver"
      ],
      "execution_count": null,
      "outputs": []
    },
    {
      "cell_type": "code",
      "metadata": {
        "id": "IkOnlRxgvUvv"
      },
      "source": [
        "#DIANA을 바탕으로 k-평균\n",
        "USA.kmeans.div"
      ],
      "execution_count": null,
      "outputs": []
    },
    {
      "cell_type": "markdown",
      "metadata": {
        "id": "VW1HTkVoLVs8"
      },
      "source": [
        "#7번 연관규칙 구하기"
      ]
    },
    {
      "cell_type": "code",
      "metadata": {
        "id": "J8hm8g2OMi_7"
      },
      "source": [
        "#패키지\n",
        "install.packages('arules')\n",
        "library(arules)"
      ],
      "execution_count": null,
      "outputs": []
    },
    {
      "cell_type": "code",
      "metadata": {
        "id": "6VBZkHybFCZg"
      },
      "source": [
        "#데이터 읽기\n",
        "url_trans = 'https://raw.githubusercontent.com/seunghee0518/R_File/main/%EB%8D%B0%EC%9D%B4%ED%84%B0%EB%A7%88%EC%9D%B4%EB%8B%9D/%EA%B8%B0%EB%A7%90_%EA%B1%B0%EB%9E%98%EC%9E%90%EB%A3%8C.txt'\n",
        "trans = read.transactions(url_trans, sep=',')\n",
        "as(trans, 'data.frame')\n",
        "trans"
      ],
      "execution_count": null,
      "outputs": []
    },
    {
      "cell_type": "code",
      "metadata": {
        "id": "hFS1JSysOqb6"
      },
      "source": [
        "#연관규칙, 지지율0.4, 신뢰도0.4 이상\n",
        "rules1 = apriori(trans, parameter = list(supp= 0.4, conf = 0.4))\n",
        "inspect(rules1)"
      ],
      "execution_count": null,
      "outputs": []
    },
    {
      "cell_type": "markdown",
      "metadata": {
        "id": "Waf6ViXzO82m"
      },
      "source": [
        "* 우유 -> 빵 : 지지율 0.6, 신뢰도 1.0, 향상도 1.67\n",
        "* 빵 -> 우유도 동일"
      ]
    }
  ]
}