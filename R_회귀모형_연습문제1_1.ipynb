{
  "nbformat": 4,
  "nbformat_minor": 0,
  "metadata": {
    "colab": {
      "name": "R_회귀모형_연습문제1.1.ipynb",
      "private_outputs": true,
      "provenance": [],
      "collapsed_sections": [],
      "authorship_tag": "ABX9TyN6u5bJF0DcV9rTvHETeTdp",
      "include_colab_link": true
    },
    "kernelspec": {
      "name": "ir",
      "display_name": "R"
    }
  },
  "cells": [
    {
      "cell_type": "markdown",
      "metadata": {
        "id": "view-in-github",
        "colab_type": "text"
      },
      "source": [
        "<a href=\"https://colab.research.google.com/github/seunghee0518/R_File/blob/main/R_%ED%9A%8C%EA%B7%80%EB%AA%A8%ED%98%95_%EC%97%B0%EC%8A%B5%EB%AC%B8%EC%A0%9C1_1.ipynb\" target=\"_parent\"><img src=\"https://colab.research.google.com/assets/colab-badge.svg\" alt=\"Open In Colab\"/></a>"
      ]
    },
    {
      "cell_type": "markdown",
      "metadata": {
        "id": "k8oWgXbuZVNh"
      },
      "source": [
        "**Q1 . 기계의 사용연도와 정비비용간의 관계**\r\n",
        "1. 산점도 그리기\r\n",
        "2. 최소제곱법에 의한 회귀직선 적합시키기\r\n",
        "3. 추정치의 표준오차 Sx*y 구하기\r\n",
        "4. 결정계수와 상관계수 구하기\r\n",
        "5. 분산분석표 작성, 회귀직선의 유의여부 검정(유의수준 a=0.05)\r\n",
        "6. 사용연도가 4년인 기계의 평균 정비비용 추정\r\n",
        "7. 잔차 ei를 구하여 잔차의 합이 0임을 확인\r\n",
        "8. 잔차들의 xi에 대한 가중합(Σxiei) 구하기\r\n",
        "9. 잔차들의 yi에 대한 가중합(Σyiei) 구하기\r\n",
        "10. 두 변수 x, y를 표준화된 변수로 고친 후 회귀직선을 적합시키고, 그 회귀계수가 두 변수 x,y간의 상관계수와 같음을 밝혀라."
      ]
    },
    {
      "cell_type": "code",
      "metadata": {
        "id": "CwRV6f-LmRW8"
      },
      "source": [
        "#데이터 불러오기\r\n",
        "machine = read.table(\"https://raw.githubusercontent.com/seunghee0518/R_File/main/%ED%9A%8C%EA%B7%80%EB%AA%A8%ED%98%95/exercise_1.1.txt\", header=T)\r\n",
        "head(machine, 3)\r\n",
        "attach(machine)\r\n",
        "X = machine$age\r\n",
        "Y = machine$cost"
      ],
      "execution_count": null,
      "outputs": []
    },
    {
      "cell_type": "code",
      "metadata": {
        "id": "2BLR1C7jb_L1"
      },
      "source": [
        "#1. 산점도\r\n",
        "plot(X, Y, pch=19)"
      ],
      "execution_count": null,
      "outputs": []
    },
    {
      "cell_type": "code",
      "metadata": {
        "id": "NXC09pV06VHH"
      },
      "source": [
        "#2. 최소제곱법-> 회귀직선 적합\r\n",
        "machine.lm = lm(Y~X, data = machine)\r\n",
        "summary(machine.lm)\r\n",
        "abline(machine.lm)"
      ],
      "execution_count": null,
      "outputs": []
    },
    {
      "cell_type": "code",
      "metadata": {
        "id": "ofuy8hEC6kHf"
      },
      "source": [
        "#3. 추정치의 표준오차\r\n",
        "Sxy=29.11"
      ],
      "execution_count": null,
      "outputs": []
    },
    {
      "cell_type": "code",
      "metadata": {
        "id": "M7CwQZti6lJK"
      },
      "source": [
        "#주성분분석 실행\r\n",
        "library(stats)"
      ],
      "execution_count": null,
      "outputs": []
    },
    {
      "cell_type": "code",
      "metadata": {
        "id": "0rtfi08b6m9b"
      },
      "source": [
        "#4. 결정계수 R2 = SSR/SST 와 상관계수=R\r\n",
        "anova(machine.lm)"
      ],
      "execution_count": null,
      "outputs": []
    },
    {
      "cell_type": "code",
      "metadata": {
        "id": "KgA_5t7z6oic"
      },
      "source": [
        "SSR = 15887\r\n",
        "SSE = 10166\r\n",
        "SST = SSR+SSE\r\n",
        "R2 = SSR/SST\r\n",
        "R2"
      ],
      "execution_count": null,
      "outputs": []
    },
    {
      "cell_type": "code",
      "metadata": {
        "id": "FWqsqdJK6r_G"
      },
      "source": [
        "R = sqrt(R2)\r\n",
        "R"
      ],
      "execution_count": null,
      "outputs": []
    },
    {
      "cell_type": "code",
      "metadata": {
        "id": "w_xK_n2X6ugK"
      },
      "source": [
        "#5. 회귀직선의 유의여부 검정(유의수준 a=0.05)\r\n",
        "#p값 = 1-pf(F0, 1, 자유도 n-2) = 2*(1-pt(t값, 자유도n-2))\r\n",
        "#2*(1-pt(4.330, 12)) = 1-pf(18.753, 1, 12)\r\n",
        "#p값이 0.000978로 매우작음,귀무가설 기각\r\n",
        "p = 2*(1-pt(4.330, 12))\r\n",
        "p"
      ],
      "execution_count": null,
      "outputs": []
    },
    {
      "cell_type": "code",
      "metadata": {
        "id": "yQGdZcF46wXL"
      },
      "source": [
        "#6. 사용연도가 4년인 기계의 평균 정비비용 추정\r\n",
        "yi <- function(x){\r\n",
        "  y <- 29.107+13.637*x\r\n",
        "  return(y)\r\n",
        "}\r\n",
        "yi(4)"
      ],
      "execution_count": null,
      "outputs": []
    },
    {
      "cell_type": "code",
      "metadata": {
        "id": "HMbIfKVxdIF7"
      },
      "source": [
        "#7.잔차 ei를 구하여 잔차의 합이 0임을 확인\r\n",
        "names(machine.lm)"
      ],
      "execution_count": null,
      "outputs": []
    },
    {
      "cell_type": "code",
      "metadata": {
        "id": "nt1Faq_w7AZi"
      },
      "source": [
        "sum(machine.lm$residuals)"
      ],
      "execution_count": null,
      "outputs": []
    },
    {
      "cell_type": "code",
      "metadata": {
        "id": "mtUcPzYz7Aby"
      },
      "source": [
        "#8. 잔차들의 xi에 대한 가중합(Σxiei) 구하기\r\n",
        "sum(machine.lm$X*machine.lm$residuals)"
      ],
      "execution_count": null,
      "outputs": []
    },
    {
      "cell_type": "code",
      "metadata": {
        "id": "nSY1qHbD7AeS"
      },
      "source": [
        "#9. 잔차들의 yi에 대한 가중합(Σyiei) 구하기\r\n",
        "sum(machine.lm$Y*machine.lm$residuals)"
      ],
      "execution_count": null,
      "outputs": []
    },
    {
      "cell_type": "code",
      "metadata": {
        "id": "FX8W8gvT7Agk"
      },
      "source": [
        "#10. 두 변수 x, y를 표준화된 변수로 고친 후 회귀직선을 적합시키고,\r\n",
        "#     그 회귀계수가 두 변수 x,y간의 상관계수와 같음을 밝혀라."
      ],
      "execution_count": null,
      "outputs": []
    },
    {
      "cell_type": "code",
      "metadata": {
        "id": "qM2-a_Bca7Om"
      },
      "source": [
        ""
      ],
      "execution_count": null,
      "outputs": []
    },
    {
      "cell_type": "code",
      "metadata": {
        "id": "4yXM_I9ia7wR"
      },
      "source": [
        "#Q5. b1, b0, uyx(x=8에서의) 90%신뢰구간을 구하라\r\n",
        "#또한 다음의 가설검정을 a= 0.01에서 실시하라\r\n",
        "#H0 : b1 = 10\r\n",
        "#H1 : b1 ≠ \r\n"
      ],
      "execution_count": null,
      "outputs": []
    },
    {
      "cell_type": "code",
      "metadata": {
        "id": "H-uYxdE5a9Mg"
      },
      "source": [
        ""
      ],
      "execution_count": null,
      "outputs": []
    }
  ]
}