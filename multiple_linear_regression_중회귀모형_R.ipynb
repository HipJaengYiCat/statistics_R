{
  "nbformat": 4,
  "nbformat_minor": 0,
  "metadata": {
    "colab": {
      "name": "R_회귀모형_2강_중회귀모형",
      "private_outputs": true,
      "provenance": [],
      "collapsed_sections": [],
      "authorship_tag": "ABX9TyM1Q98LGzO/cbba023rF+Cf",
      "include_colab_link": true
    },
    "kernelspec": {
      "name": "ir",
      "display_name": "R"
    }
  },
  "cells": [
    {
      "cell_type": "markdown",
      "metadata": {
        "id": "view-in-github",
        "colab_type": "text"
      },
      "source": [
        "<a href=\"https://colab.research.google.com/github/seunghee0518/R_File/blob/main/R_%ED%9A%8C%EA%B7%80%EB%AA%A8%ED%98%95_2%EA%B0%95_%EC%A4%91%ED%9A%8C%EA%B7%80%EB%AA%A8%ED%98%95.ipynb\" target=\"_parent\"><img src=\"https://colab.research.google.com/assets/colab-badge.svg\" alt=\"Open In Colab\"/></a>"
      ]
    },
    {
      "cell_type": "markdown",
      "metadata": {
        "id": "k8oWgXbuZVNh"
      },
      "source": [
        "#<표 2.1> 표본상점의 총판매액 자료\n",
        "*중회귀모형식(Yi = b0+b1X1+b2X2+ei) 구해보기\n",
        "* ID : 상점번호\n",
        "* X1 : 광고료(단위: 100만원)\n",
        "* X2 : 상점의 크기 (단위 : 10m2)\n",
        "* Y : 총판매액(단위 : 1,000만원)"
      ]
    },
    {
      "cell_type": "code",
      "metadata": {
        "id": "CwRV6f-LmRW8"
      },
      "source": [
        "#데이터 불러오기\n",
        "market.url = 'https://raw.githubusercontent.com/seunghee0518/R_File/main/%ED%9A%8C%EA%B7%80%EB%AA%A8%ED%98%95/market-2.txt'\n",
        "market = read.table(market.url, header=T)\n",
        "head(market, 3)\n",
        "attach(market)"
      ],
      "execution_count": null,
      "outputs": []
    },
    {
      "cell_type": "markdown",
      "metadata": {
        "id": "GI9ra1UJQoqc"
      },
      "source": [
        "1. t(X)함수로 행렬X의 행과열을 바꾼 전치행렬 만들기\n",
        "* %*%로 행렬의 곱실행\n",
        "2. solve(XTX)로 정방행렬XTX의 역행렬 구하기\n"
      ]
    },
    {
      "cell_type": "code",
      "metadata": {
        "id": "2BLR1C7jb_L1"
      },
      "source": [
        "#1. t(X)함수로 행렬X의 행과열을 바꾼 전치행렬 만들기\n",
        "X = market[, c(2,3)]\n",
        "X = cbind(1, X)\n",
        "Y = market[, 4]\n",
        "\n",
        "X = as.matrix(X)\n",
        "Y = as.matrix(Y)\n",
        "\n",
        "XTX = t(X) %*% X\n",
        "XTX"
      ],
      "execution_count": null,
      "outputs": []
    },
    {
      "cell_type": "code",
      "metadata": {
        "id": "NXC09pV06VHH"
      },
      "source": [
        "XTY = t(X) %*% Y\n",
        "XTY"
      ],
      "execution_count": null,
      "outputs": []
    },
    {
      "cell_type": "code",
      "metadata": {
        "id": "ofuy8hEC6kHf"
      },
      "source": [
        "#2. solve(XTX)로 정방행렬XTX의 역행렬 구하기\n",
        "XTX1 = solve(XTX)\n",
        "XTX1"
      ],
      "execution_count": null,
      "outputs": []
    },
    {
      "cell_type": "code",
      "metadata": {
        "id": "2-I_Ib5_SsEn"
      },
      "source": [
        "#추정량^b\n",
        "beta = XTX1 %*% XTY\n",
        "beta = round(beta, 3)\n",
        "beta\n",
        "beta = XTX1 %*% XTY\n",
        "beta = round(beta, 3)\n",
        "beta"
      ],
      "execution_count": null,
      "outputs": []
    },
    {
      "cell_type": "markdown",
      "metadata": {
        "id": "TKHAROj0S_08"
      },
      "source": [
        "적합된 회귀식 = 0.85 + 1.558X1 + 0.427X2\n",
        ">해당식으로 임의의 X1, X2의 총판매액의 기대값 측정가능\n",
        "* 광고료1,000만원, 상점크기 100이면\n",
        "* X1 = 10, X2 = 10\n",
        "* Y = 0.85+(1.558 X 10)+(0.427 X 10) = 20.7\n",
        "* 즉. 약 2억 700만원"
      ]
    },
    {
      "cell_type": "markdown",
      "metadata": {
        "id": "jOoSljjOcG6E"
      },
      "source": [
        "# 분산분석표에 의한 F검정\n",
        "* 적합된 회귀모형에 대한 유의수준 a= 0.05로 검정\n"
      ]
    },
    {
      "cell_type": "code",
      "metadata": {
        "id": "pkmfJohtcRl9"
      },
      "source": [
        "market.lm = lm(Y ~ X1+X2, data = market)\n",
        "summary(market.lm)"
      ],
      "execution_count": null,
      "outputs": []
    },
    {
      "cell_type": "markdown",
      "metadata": {
        "id": "V2t2O8pncck0"
      },
      "source": [
        "* 회귀분석결과에 적합된 회귀식 ^Y = 0.85014 + 1.55811 X1 + 0.42736 X2\n",
        "* 결정계수 : 0.9799\n",
        "* F값 : 292.5\n",
        "* 유의확률 p값 : 6.597 * e-11(10의 -11승)\n",
        "* p값이 매우 작아 적합된 중회귀모형이 이 데이터를 설명하는데 유의함을 알 수 있음\n",
        "* (즉. 귀무가설 (H0=b1=b2=0)이 기각되므로 b1, b2가 동시에 0이 되지 않을 것이라는 의미)\n",
        "* 수정결정계수(multiple R-squared) : 0.9799\n",
        "* 잔차평균제곱(Residual standard error) : 0.9318 (자유도12)\n"
      ]
    },
    {
      "cell_type": "code",
      "metadata": {
        "id": "OclVh7FQcak_"
      },
      "source": [
        "#F-검정의 기각치 F(2, 12; 0.05)\n",
        "qf(0.95, 2, 12)"
      ],
      "execution_count": null,
      "outputs": []
    },
    {
      "cell_type": "markdown",
      "metadata": {
        "id": "R_kSBLyVdUP2"
      },
      "source": [
        "* F0 = 292.5 > F(2, 12;0.05)=3.89\n",
        "* 위와 같이 성립되어 가정된 중회귀모형이 해당 데이터를 설명하는데 유의함"
      ]
    },
    {
      "cell_type": "markdown",
      "metadata": {
        "id": "utf0kWOMdjuQ"
      },
      "source": [
        "## 분산분석표 작성"
      ]
    },
    {
      "cell_type": "code",
      "metadata": {
        "id": "2PqUOqaMdSmm"
      },
      "source": [
        "anova(market.lm)"
      ],
      "execution_count": null,
      "outputs": []
    },
    {
      "cell_type": "markdown",
      "metadata": {
        "id": "ZghciRxkdvp4"
      },
      "source": [
        "* SS(X1) = 485.57 : X1이 적합됬을 때 제곱합\n",
        "* SS(X2|X1) = 22.30 : X1이 적합된 후, 변수 X2가 추가되었을 때의 추가제곱합\n",
        "* 회귀제곱합 SS(X1, X2) = SS(X1)+SS(X2|X1) = 507.87\n"
      ]
    },
    {
      "cell_type": "markdown",
      "metadata": {
        "id": "aUyXt4gJlwR3"
      },
      "source": [
        "# 표준화된 중회귀모형 적합\n",
        "* lm.beta 패키지 이용"
      ]
    },
    {
      "cell_type": "code",
      "metadata": {
        "id": "uUY3l8RSdnCg"
      },
      "source": [
        "install.packages(\"lm.beta\")\n",
        "library(lm.beta)"
      ],
      "execution_count": null,
      "outputs": []
    },
    {
      "cell_type": "code",
      "metadata": {
        "id": "cZMmxFncl7XX"
      },
      "source": [
        "market.beta = lm.beta(market.lm)\n",
        "print(market.beta)"
      ],
      "execution_count": null,
      "outputs": []
    },
    {
      "cell_type": "code",
      "metadata": {
        "id": "RD7vMFfkmLf0"
      },
      "source": [
        "coef(market.beta)"
      ],
      "execution_count": null,
      "outputs": []
    },
    {
      "cell_type": "code",
      "metadata": {
        "id": "8HqsE-5lmRk3"
      },
      "source": [
        "summary(market.beta)"
      ],
      "execution_count": null,
      "outputs": []
    },
    {
      "cell_type": "markdown",
      "metadata": {
        "id": "WCFVnRE9nAt4"
      },
      "source": [
        "* 적합된 표준회귀계수 모형 : Y* = 0.7016Z1 + 0.3376Z2\n",
        "* 이때 X1의 계수가 X2의 계수보다 크므로 상대적으로 X1의 영향이 더 큼을 알 수 있음음"
      ]
    },
    {
      "cell_type": "markdown",
      "metadata": {
        "id": "_EiqT5dQxnh1"
      },
      "source": [
        "# 95%신뢰구간 추정 & 0.05로 가설검정\n",
        "> y= b0+b1X1+b2X2+e를 적합시켰을 때\n",
        "1. x1=10, x2=10에서 E(y)를 95% 신뢰구간으로 추정\n",
        "2. H0 : b1=0, H0 : b2 =0 에 대하여 유의수준 a=0.05로 가설검정 \n"
      ]
    },
    {
      "cell_type": "code",
      "metadata": {
        "id": "RMZHqjGemT19"
      },
      "source": [
        "#E(y)의 95% 신뢰구간 추정\n",
        "pred.x = data.frame(X1 = 10, X2 = 10)\n",
        "pc = predict(market.lm, int = \"c\", newdata = pred.x)\n",
        "pc"
      ],
      "execution_count": null,
      "outputs": []
    },
    {
      "cell_type": "markdown",
      "metadata": {
        "id": "4N7p-X9FyQ7L"
      },
      "source": [
        "* x1 = 10, x2 = 10 에서 추정값 : 20.705\n",
        "* 95% 신뢰구간 : (19.958, 21.452)"
      ]
    },
    {
      "cell_type": "code",
      "metadata": {
        "id": "wbvNGqfsyPg_"
      },
      "source": [
        "#99% 신뢰구간 : (19.658, 21.752)\n",
        "pc99 = predict(market.lm, int = \"c\", level = 0.99, newdata = pred.x)\n",
        "pc99"
      ],
      "execution_count": null,
      "outputs": []
    },
    {
      "cell_type": "code",
      "metadata": {
        "id": "XIMQnVbQyliU"
      },
      "source": [
        "# 가설검정 : 회귀적합 결과를 이용해 구함\n",
        "summary(market.lm)"
      ],
      "execution_count": null,
      "outputs": []
    },
    {
      "cell_type": "markdown",
      "metadata": {
        "id": "WJhFdlvWy6OQ"
      },
      "source": [
        "* coefficients결과에서 ^b1 = 1.55811, 표준오차 0.14793이되며\n",
        "* t값(1.55811/0.14793) = 10.532에 대한 p값이 2.04 X e-7(10의 -7승)이 되므로\n",
        "* H0 : b1 = 0에 대한 귀무가설을 기각하게됨\n",
        "* H0 : b2 = 0에 대한 귀무가설도 같은 결과임임이"
      ]
    },
    {
      "cell_type": "markdown",
      "metadata": {
        "id": "IWEMZjEM5_Ek"
      },
      "source": [
        "#추가제곱합\n",
        "특정 변수를 회귀모형에 포함하는 것이 바람직한 것을 결정할 때 활용함"
      ]
    },
    {
      "cell_type": "markdown",
      "metadata": {
        "id": "BD73BJgQ6HVL"
      },
      "source": [
        "헬스클럽 자료\n",
        "* X1 : 몸무게(파운드)\n",
        "* X2 : 분당 맥박수\n",
        "* X3 : 근력(들어올릴 수 있는 무게 : 파운드)\n",
        "* X4 : 1/4마일 달리는 시험기간(처)\n",
        "* Y : 1마일 달리는 시간(초)\n",
        "\n",
        "추가제곱합\n",
        "* Y : 종속변수\n",
        "* 1 => X1를 독립변수\n",
        "* 2 => (X1, X4)를 독립변수\n",
        "* 3 => (X1, X3, X4)를 독립변수\n",
        "* 4 => (X1, X2, X3, X4)를 독립변수"
      ]
    },
    {
      "cell_type": "code",
      "metadata": {
        "id": "quUZMPL-y4rn"
      },
      "source": [
        "#데이터 가져오기\n",
        "health.url = 'https://raw.githubusercontent.com/seunghee0518/R_File/main/%ED%9A%8C%EA%B7%80%EB%AA%A8%ED%98%95/health.txt'\n",
        "health = read.table(health.url, header = T)\n",
        "attach(health)\n",
        "head(health, 3)"
      ],
      "execution_count": null,
      "outputs": []
    },
    {
      "cell_type": "code",
      "metadata": {
        "id": "2xaUIokF7MQG"
      },
      "source": [
        "#추가제곱합을 얻기위해 모형 적합\n",
        "h1.lm = lm(Y ~ X1, data = health)\n",
        "h2.lm = lm(Y ~ X1+X4, data = health)\n",
        "h3.lm = lm(Y ~ X1+X3+X4, data = health)\n",
        "h4.lm = lm(Y ~ X1+X2+X3+X4, data = health)"
      ],
      "execution_count": null,
      "outputs": []
    },
    {
      "cell_type": "code",
      "metadata": {
        "id": "pPScJyAS7hXc"
      },
      "source": [
        "#anova()함수로 추가제곱합 구하기 : h1 & h2\n",
        "anova(h1.lm, h2.lm)"
      ],
      "execution_count": null,
      "outputs": []
    },
    {
      "cell_type": "markdown",
      "metadata": {
        "id": "RGXexghH9pHW"
      },
      "source": [
        "X1모형에서 X4가 추가되는 경우\n",
        "* SSR(X4|X1) = SSR(X1, X4)-SSR(X1) = SSE(X1) - SSE(X1, X4) = 26746"
      ]
    },
    {
      "cell_type": "markdown",
      "metadata": {
        "id": "G6yIS46B-qeZ"
      },
      "source": [
        "* 모형1(X1)의 잔차제곱합 = 50795\n",
        "* 모형2(X1, X4)의 잔차제곱합 = 24049\n",
        "* 추가제곱합 = 50795-24049 = 26746\n",
        "* 완전모형 : Y = b0 + b1X1 + b4X4 + e\n",
        "* 축소모형 : Y = b0 + b1X1 + e\n",
        "* 검정통계량 F0 = (50795-24049)/(24049/27) = 30.027\n",
        "* 이에 대한 유의확률 p값 = 8.419 X e-6(10의 -6승)\n",
        "* 변수 X4가 유의한 변수임을 알 수 있음"
      ]
    },
    {
      "cell_type": "code",
      "metadata": {
        "id": "n3y2cVu27rOF"
      },
      "source": [
        "#anova()함수로 추가제곱합 구하기 : h2 & h3\n",
        "anova(h2.lm, h3.lm)"
      ],
      "execution_count": null,
      "outputs": []
    },
    {
      "cell_type": "markdown",
      "metadata": {
        "id": "9kCChuF99_3P"
      },
      "source": [
        "(X1, X4)모형에서 X3가 추가되는 경우\n",
        "* SSR(X3|X1, X4) = SSR(X1,X3,X4)-SSR(X1, X4) = 3193.5"
      ]
    },
    {
      "cell_type": "code",
      "metadata": {
        "id": "a2Qe8Q7Y7065"
      },
      "source": [
        "#anova()함수로 추가제곱합 구하기 : h3 & h4\n",
        "anova(h3.lm, h4.lm)"
      ],
      "execution_count": null,
      "outputs": []
    },
    {
      "cell_type": "markdown",
      "metadata": {
        "id": "0qDHWgh3-MU6"
      },
      "source": [
        "(X1,X3, X4)모형에서 X2가 추가되는 경우\n",
        "* SSR(X2|X1,X3,X4) = SSR(X1,X2,X3,X4)-SSR(X1, X3,X4) = 304.62\n",
        "* 추가제곱합이 작을 수록 회귀에 대한 기여도가 떨어진다는 것임"
      ]
    },
    {
      "cell_type": "markdown",
      "metadata": {
        "id": "ELmF90oNBOMl"
      },
      "source": [
        "# 추가변수그림\n",
        "car패키지의 avPlots()함수 이용"
      ]
    },
    {
      "cell_type": "markdown",
      "metadata": {
        "id": "Q_KTZ2PwBp0F"
      },
      "source": [
        "독립변수가 4개인 경우 : 변수X1에 대한 추가변수그림은 Y를 (X2, X3, X4)로 회귀한 후 얻어지는 잔차 e(X1|X2, X3, X4)와 X1을 (X2, X3, X4)로 회귀한 후 얻어지는 잔차 e(X1|X2, X3, X4)의 산점도를 그리면 됨"
      ]
    },
    {
      "cell_type": "code",
      "metadata": {
        "id": "tNOtRAJL_mnN"
      },
      "source": [
        "install.packages('car')\n",
        "library(car)"
      ],
      "execution_count": null,
      "outputs": []
    },
    {
      "cell_type": "code",
      "metadata": {
        "id": "r5gmnT4-74dg"
      },
      "source": [
        "avPlots(h4.lm)"
      ],
      "execution_count": null,
      "outputs": []
    },
    {
      "cell_type": "markdown",
      "metadata": {
        "id": "CC8oiEfLCm41"
      },
      "source": [
        "* 변수X1과 X4에 대한 추가변수그림이 선형성이 강한 것을 알 수 있음 => 두 변수가 회귀모형에서 매우 유의함\n",
        "*e(Y|X2, X3, X4)를 e(X1|X2, X3, X4)로 회귀하여 얻은계수는 Y를 (X1, X2, X3, X4)로 회귀했을 때의 X1의 회귀계수와 같아짐\n",
        "* 즉. 변수 X1의 추가변수그림에서 회귀계수는 1.268이됨"
      ]
    },
    {
      "cell_type": "code",
      "metadata": {
        "id": "ScC8zZndDEtI"
      },
      "source": [
        "#회귀계수결과 :변수 X1의 추가변수그림에서 회귀계수는 1.268임을 확인\n",
        "summary(h4.lm)"
      ],
      "execution_count": null,
      "outputs": []
    },
    {
      "cell_type": "markdown",
      "metadata": {
        "id": "irHNs79SFne-"
      },
      "source": [
        "# 분석사례 1 : 화학공장 데이터\n",
        "NH3를 HNO3로 산화시키는 공정 데이터\n",
        "* X1 : 공정의 작업속도\n",
        "* X2 : 냉각수 온도\n",
        "* Y : NH3를 HNO3로 바꿀 때 손실되는 NH3의 함량%(LOSS)"
      ]
    },
    {
      "cell_type": "code",
      "metadata": {
        "id": "iQt9-pU6DNEO"
      },
      "source": [
        "#데이터\n",
        "chemical.url = 'https://raw.githubusercontent.com/seunghee0518/R_File/main/%ED%9A%8C%EA%B7%80%EB%AA%A8%ED%98%95/chemical.txt'\n",
        "chemical = read.table(chemical.url, header = T)\n",
        "head(chemical, 3)\n",
        "attach(chemical)"
      ],
      "execution_count": null,
      "outputs": []
    },
    {
      "cell_type": "code",
      "metadata": {
        "id": "WLorHS9RGYF9"
      },
      "source": [
        "#기술통계량\n",
        "summary(chemical[, -1])"
      ],
      "execution_count": null,
      "outputs": []
    },
    {
      "cell_type": "code",
      "metadata": {
        "id": "b2z73A-EGkvt"
      },
      "source": [
        "#상관계수\n",
        "cor(chemical[, -1])"
      ],
      "execution_count": null,
      "outputs": []
    },
    {
      "cell_type": "markdown",
      "metadata": {
        "id": "IIBe7FyhGx2a"
      },
      "source": [
        "독립변수들과 종속변수 간의 상관관계가(0.854, 0.895) 높음, 또한 독립변수들간에도 상관계수(0.802)가 높음"
      ]
    },
    {
      "cell_type": "code",
      "metadata": {
        "id": "dcnWsJCHGudU"
      },
      "source": [
        "#회귀모형 적합\n",
        "chemical.lm = lm(loss ~ speed+temp, data = chemical)\n",
        "summary(chemical.lm)"
      ],
      "execution_count": null,
      "outputs": []
    },
    {
      "cell_type": "markdown",
      "metadata": {
        "id": "ffTJm8C2HMdC"
      },
      "source": [
        "* 추정된 회귀방정식 : Y = -47.624+0.442speed+1.992temp\n",
        "* 결정계수 R2 = 0.854 => 중회귀모형이 종속변수 loss의 총변동을 85.4% 설명하고 있음\n",
        "* 추정값의 표준오차 루트(MSE) = 4.465\n",
        "* 즉. σ의 추정치 : 4.465\n",
        "* 변수speed의 t0값 : 1.794, 유의확률p값 : 0.106\n",
        "* 따라서. 유의수준 0.05에서 귀무가설 기각못함 = speed는 loss를 설명하는데 큰 영향을 준다고 볼수 없음\n",
        "* 변수temp의 t0값 : 2.754, 유의확률 p값 : 0.022, 즉. 유의수준 0.05에서 귀무가설 기각시킴\n",
        "* 즉. temp은 loss를 설명하는데 유의한 변수임"
      ]
    },
    {
      "cell_type": "code",
      "metadata": {
        "id": "-ZvXtdlxHLLr"
      },
      "source": [
        "# 추가변수그림\n",
        "library(car)\n",
        "avPlots(chemical.lm)"
      ],
      "execution_count": null,
      "outputs": []
    },
    {
      "cell_type": "code",
      "metadata": {
        "id": "Ep365ZQKIKCS"
      },
      "source": [
        "|#분산분석표\n",
        "anova(chemical.lm)"
      ],
      "execution_count": null,
      "outputs": []
    },
    {
      "cell_type": "markdown",
      "metadata": {
        "id": "WYp5-vJKIP0n"
      },
      "source": [
        "* 회귀제곱합 = 1048.81(897.55+151.26)\n",
        "* F값 = 26.3에 대한 유의확률 : 0.00017\n",
        "* 유의확률이 매우 작으므로 중회귀모형이 매우 유의함\n",
        "* 오차분산 σ2의 추정치 MSE = 19.94"
      ]
    },
    {
      "cell_type": "code",
      "metadata": {
        "id": "UN6HXGzEIOix"
      },
      "source": [
        "#잔차 산점도 그리기 : identify()함수 - 산점도에서 각 케이스의 번호를 보여줌\n",
        "plot(chemical$speed, chemical.lm$resid)\n",
        "identify(chemical$speed, chemical.lm$resid)"
      ],
      "execution_count": null,
      "outputs": []
    },
    {
      "cell_type": "markdown",
      "metadata": {
        "id": "3-ixyxP6JakA"
      },
      "source": [
        "* speed가 증가하면서 잔차의 산포도 약간 증가함\n",
        "* speed = 72 에서 12번째 케이스의 잔차가 음으로 매우 큼\n",
        "* 따라서 12번째 케이스가 특이점으로 의심이됨"
      ]
    },
    {
      "cell_type": "code",
      "metadata": {
        "id": "qQphjLYsJIRh"
      },
      "source": [
        "plot(chemical$temp, chemical.lm$resid)\n",
        "identify(chemical$temp, chemical.lm$resid)"
      ],
      "execution_count": null,
      "outputs": []
    },
    {
      "cell_type": "markdown",
      "metadata": {
        "id": "zzK8Nz88JoW8"
      },
      "source": [
        "* temp에서도 12번째 케이스가 잔차가 매우 커 특이점으로 의심이됨\n",
        "* 12번째 케이스를 제외하면 나머지 데이터는 temp가 증가할 때마다 잔차가 2차의 곡선의 모양을 갖는 것처럼 보임임"
      ]
    },
    {
      "cell_type": "code",
      "metadata": {
        "id": "a9TkcgEFJYu_"
      },
      "source": [
        "# 추정값과 잔차의 산점도\n",
        "plot(chemical.lm$fitted.values, chemical.lm$resid)\n",
        "abline(h = 0, lty = 2)\n",
        "identify(chemical.lm$fitted.values, chemical.lm$resid)"
      ],
      "execution_count": null,
      "outputs": []
    },
    {
      "cell_type": "markdown",
      "metadata": {
        "id": "EHWHU4_5Kj73"
      },
      "source": [
        "* 12번 케이스를 제외하면 다른 케이스는 뚜렷한 현상이 나타나지 않음\n",
        "* 따라서 전반적으로 12번째 케이스에 대한 면밀한 조사를 거쳐 특이점으로 판명되면 이 케이스를 제외하고 다시 분석에 들어가는게 좋다고 생각됨됨"
      ]
    }
  ]
}
