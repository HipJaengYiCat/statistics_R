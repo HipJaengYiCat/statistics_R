{
  "nbformat": 4,
  "nbformat_minor": 0,
  "metadata": {
    "colab": {
      "name": "R_데이터마이닝_3장_나무모형(의사결정트리)",
      "provenance": [],
      "collapsed_sections": [
        "_bBE43ktIpNG",
        "54s4vCO6L51T",
        "gLGRzHERPrF6",
        "3ZA1N-eiOSUo",
        "d5b08kGTQ-rC",
        "NyKyiU7sUBOe"
      ],
      "authorship_tag": "ABX9TyO+LZMqMp/H2/gT/txCTsx9",
      "include_colab_link": true
    },
    "kernelspec": {
      "name": "ir",
      "display_name": "R"
    }
  },
  "cells": [
    {
      "cell_type": "markdown",
      "metadata": {
        "id": "view-in-github",
        "colab_type": "text"
      },
      "source": [
        "<a href=\"https://colab.research.google.com/github/seunghee0518/R_File/blob/main/R_%EB%8D%B0%EC%9D%B4%ED%84%B0%EB%A7%88%EC%9D%B4%EB%8B%9D_3%EC%9E%A5_%EB%82%98%EB%AC%B4%EB%AA%A8%ED%98%95(%EC%9D%98%EC%82%AC%EA%B2%B0%EC%A0%95%ED%8A%B8%EB%A6%AC).ipynb\" target=\"_parent\"><img src=\"https://colab.research.google.com/assets/colab-badge.svg\" alt=\"Open In Colab\"/></a>"
      ]
    },
    {
      "cell_type": "markdown",
      "metadata": {
        "id": "7hiFQcY8JKrp"
      },
      "source": [
        "# 분류나무모형(타이타닉 데이터 & 독일신용평가 데이터)\n",
        "가장 대중적인 모형인 CART방법으로 의사결정트리 구축"
      ]
    },
    {
      "cell_type": "markdown",
      "metadata": {
        "id": "_bBE43ktIpNG"
      },
      "source": [
        "##데이터 읽기 : 타이타닉데이터\n"
      ]
    },
    {
      "cell_type": "code",
      "metadata": {
        "id": "l3OZbC-zA7kC",
        "colab": {
          "base_uri": "https://localhost:8080/"
        },
        "outputId": "8e503b9b-d41d-40b9-9bee-ed3c2d4e52a4"
      },
      "source": [
        "#데이터 가져오기\n",
        "url_titanic = \"https://raw.githubusercontent.com/seunghee0518/R_File/main/%EB%8D%B0%EC%9D%B4%ED%84%B0%EB%A7%88%EC%9D%B4%EB%8B%9D/titanic.csv\"\n",
        "titanic = read.csv(url_titanic, header =T)\n",
        "attach(titanic)\n",
        "head(titanic)"
      ],
      "execution_count": null,
      "outputs": [
        {
          "output_type": "display_data",
          "data": {
            "text/plain": [
              "  Class Age   Sex  Survived\n",
              "1 First Adult Male Yes     \n",
              "2 First Adult Male Yes     \n",
              "3 First Adult Male Yes     \n",
              "4 First Adult Male Yes     \n",
              "5 First Adult Male Yes     \n",
              "6 First Adult Male Yes     "
            ],
            "text/latex": "A data.frame: 6 × 4\n\\begin{tabular}{r|llll}\n  & Class & Age & Sex & Survived\\\\\n  & <chr> & <chr> & <chr> & <chr>\\\\\n\\hline\n\t1 & First & Adult & Male & Yes\\\\\n\t2 & First & Adult & Male & Yes\\\\\n\t3 & First & Adult & Male & Yes\\\\\n\t4 & First & Adult & Male & Yes\\\\\n\t5 & First & Adult & Male & Yes\\\\\n\t6 & First & Adult & Male & Yes\\\\\n\\end{tabular}\n",
            "text/markdown": "\nA data.frame: 6 × 4\n\n| <!--/--> | Class &lt;chr&gt; | Age &lt;chr&gt; | Sex &lt;chr&gt; | Survived &lt;chr&gt; |\n|---|---|---|---|---|\n| 1 | First | Adult | Male | Yes |\n| 2 | First | Adult | Male | Yes |\n| 3 | First | Adult | Male | Yes |\n| 4 | First | Adult | Male | Yes |\n| 5 | First | Adult | Male | Yes |\n| 6 | First | Adult | Male | Yes |\n\n",
            "text/html": [
              "<table class=\"dataframe\">\n",
              "<caption>A data.frame: 6 × 4</caption>\n",
              "<thead>\n",
              "\t<tr><th></th><th scope=col>Class</th><th scope=col>Age</th><th scope=col>Sex</th><th scope=col>Survived</th></tr>\n",
              "\t<tr><th></th><th scope=col>&lt;chr&gt;</th><th scope=col>&lt;chr&gt;</th><th scope=col>&lt;chr&gt;</th><th scope=col>&lt;chr&gt;</th></tr>\n",
              "</thead>\n",
              "<tbody>\n",
              "\t<tr><th scope=row>1</th><td>First</td><td>Adult</td><td>Male</td><td>Yes</td></tr>\n",
              "\t<tr><th scope=row>2</th><td>First</td><td>Adult</td><td>Male</td><td>Yes</td></tr>\n",
              "\t<tr><th scope=row>3</th><td>First</td><td>Adult</td><td>Male</td><td>Yes</td></tr>\n",
              "\t<tr><th scope=row>4</th><td>First</td><td>Adult</td><td>Male</td><td>Yes</td></tr>\n",
              "\t<tr><th scope=row>5</th><td>First</td><td>Adult</td><td>Male</td><td>Yes</td></tr>\n",
              "\t<tr><th scope=row>6</th><td>First</td><td>Adult</td><td>Male</td><td>Yes</td></tr>\n",
              "</tbody>\n",
              "</table>\n"
            ]
          },
          "metadata": {
            "tags": []
          }
        }
      ]
    },
    {
      "cell_type": "code",
      "metadata": {
        "id": "NjUl0kj4CxVt",
        "colab": {
          "base_uri": "https://localhost:8080/"
        },
        "outputId": "8ac31d48-830c-4da9-fe75-527352984f94"
      },
      "source": [
        "#데이터 요약\n",
        "summary(titanic)"
      ],
      "execution_count": null,
      "outputs": [
        {
          "output_type": "display_data",
          "data": {
            "text/plain": [
              "    Class               Age                Sex              Survived        \n",
              " Length:2201        Length:2201        Length:2201        Length:2201       \n",
              " Class :character   Class :character   Class :character   Class :character  \n",
              " Mode  :character   Mode  :character   Mode  :character   Mode  :character  "
            ]
          },
          "metadata": {
            "tags": []
          }
        }
      ]
    },
    {
      "cell_type": "markdown",
      "metadata": {
        "id": "54s4vCO6L51T"
      },
      "source": [
        "## CART 나무모형 실행\n",
        "패키지 : rpart\n",
        ">\n",
        "* 목표변수 : Survived 변수\n",
        "* 입력변수 : 나머지변수\n",
        "\n",
        "* minsplit = 1 : 중간노드를 분할하기 위한 최소 자료의 수, 이 값보다 적은 개수의 관측치가 있으면 노드를 분할하지 않음\n",
        "* cp : cost-complexity의 약어로 비용복잡함수에서 a값을 의미함.\n",
        "* cp = 0이면 오분류울값이 최솟값이 될 때까지 계속 분할하라는 뜻이 됨\n",
        "* cp =  0.1이면 a=0.1에 해당하는 비용복잡함수의 최솟값이 될 때까지만 계속 분할하라는 뜻\n",
        "* cp = -0.01이면 설사 비용복잡함수가 현상유지하지 못하고 미세하게 증가하더라도 계속적으로 나무모형을 구축하도록 하라는 뜻\n",
        "* xval : 가지치기에 필요한 cross-validation의 약어로 xval = 10이면 10-fold 교차타당성 오분류율로 계산하게됨\n",
        "\n"
      ]
    },
    {
      "cell_type": "code",
      "metadata": {
        "id": "6rNvAUuqKFTW"
      },
      "source": [
        "#패키지 가져오기\n",
        "library(rpart)"
      ],
      "execution_count": null,
      "outputs": []
    },
    {
      "cell_type": "code",
      "metadata": {
        "id": "ZJKc9IBfMZsB",
        "colab": {
          "base_uri": "https://localhost:8080/"
        },
        "outputId": "e09047dc-e3ab-4a8f-9705-bf068d7b6607"
      },
      "source": [
        "#옵션 선택\n",
        "my.control <- rpart.control(xval = 10, cp = -0.01, minsplit = 1)\n",
        "#CART나무모형 실행 (가지치기전이라 모형이 매우 큼)\n",
        "fit.titanic <- rpart(Survived ~ ., data = titanic, method = \"class\", control = my.control)\n",
        "print(fit.titanic)"
      ],
      "execution_count": null,
      "outputs": [
        {
          "output_type": "stream",
          "text": [
            "n= 2201 \n",
            "\n",
            "node), split, n, loss, yval, (yprob)\n",
            "      * denotes terminal node\n",
            "\n",
            " 1) root 2201 711 No (0.67696502 0.32303498)  \n",
            "   2) Sex=Male 1731 367 No (0.78798382 0.21201618)  \n",
            "     4) Age=Adult 1667 338 No (0.79724055 0.20275945)  \n",
            "       8) Class=Second,Third 630  89 No (0.85873016 0.14126984)  \n",
            "        16) Class=Second 168  14 No (0.91666667 0.08333333) *\n",
            "        17) Class=Third 462  75 No (0.83766234 0.16233766) *\n",
            "       9) Class=Crew,First 1037 249 No (0.75988428 0.24011572)  \n",
            "        18) Class=Crew 862 192 No (0.77726218 0.22273782) *\n",
            "        19) Class=First 175  57 No (0.67428571 0.32571429) *\n",
            "     5) Age=Child 64  29 No (0.54687500 0.45312500)  \n",
            "      10) Class=Third 48  13 No (0.72916667 0.27083333) *\n",
            "      11) Class=First,Second 16   0 Yes (0.00000000 1.00000000) *\n",
            "   3) Sex=Female 470 126 Yes (0.26808511 0.73191489)  \n",
            "     6) Class=Third 196  90 No (0.54081633 0.45918367)  \n",
            "      12) Age=Child 31  14 No (0.54838710 0.45161290) *\n",
            "      13) Age=Adult 165  76 No (0.53939394 0.46060606) *\n",
            "     7) Class=Crew,First,Second 274  20 Yes (0.07299270 0.92700730)  \n",
            "      14) Class=Crew,Second 129  16 Yes (0.12403101 0.87596899)  \n",
            "        28) Age=Adult 116  16 Yes (0.13793103 0.86206897)  \n",
            "          56) Class=Second 93  13 Yes (0.13978495 0.86021505) *\n",
            "          57) Class=Crew 23   3 Yes (0.13043478 0.86956522) *\n",
            "        29) Age=Child 13   0 Yes (0.00000000 1.00000000) *\n",
            "      15) Class=First 145   4 Yes (0.02758621 0.97241379)  \n",
            "        30) Age=Adult 144   4 Yes (0.02777778 0.97222222) *\n",
            "        31) Age=Child 1   0 Yes (0.00000000 1.00000000) *\n"
          ],
          "name": "stdout"
        }
      ]
    },
    {
      "cell_type": "markdown",
      "metadata": {
        "id": "HX3QTdjwNYk4"
      },
      "source": [
        "> 설명\n",
        "* 아직 가지치기 전 상태임임"
      ]
    },
    {
      "cell_type": "code",
      "metadata": {
        "colab": {
          "base_uri": "https://localhost:8080/"
        },
        "id": "krnaIwX8Px9r",
        "outputId": "54f47056-21c9-4687-d229-45f55568f350"
      },
      "source": [
        "#나무모형 구축 과정 결과\n",
        "printcp(fit.titanic)"
      ],
      "execution_count": null,
      "outputs": [
        {
          "output_type": "stream",
          "text": [
            "\n",
            "Classification tree:\n",
            "rpart(formula = Survived ~ ., data = titanic, method = \"class\", \n",
            "    control = my.control)\n",
            "\n",
            "Variables actually used in tree construction:\n",
            "[1] Age   Class Sex  \n",
            "\n",
            "Root node error: 711/2201 = 0.32303\n",
            "\n",
            "n= 2201 \n",
            "\n",
            "         CP nsplit rel error  xerror     xstd\n",
            "1  0.306610      0   1.00000 1.00000 0.030857\n",
            "2  0.022504      1   0.69339 0.69339 0.027510\n",
            "3  0.011252      2   0.67089 0.70183 0.027628\n",
            "4  0.000000      4   0.64838 0.65401 0.026935\n",
            "5 -0.010000     12   0.64838 0.65401 0.026935\n"
          ],
          "name": "stdout"
        }
      ]
    },
    {
      "cell_type": "markdown",
      "metadata": {
        "id": "mCy70uyryd45"
      },
      "source": [
        "설명\n",
        ">\n",
        "* 뿌리노드가 최종노드가 갈때 갖게되는 cp의 값(비용복잡함수의 a)은 0.3066임\n",
        "* 중간노드를 계속 분할하려면 cp값은 적은 값이어야 하므로 cp = -0.01일때는 분할의 횟수가 12회인 규모가 상당히 큰 나무구조가 도출됨을 알 수 있고, 이 단계에 해당하는 나무구조가 최대나무이다\n",
        "* xerror는 교차타당성 방법에 의한 오분류울을 의미하므로 xerror의 최솟값은 분할 횟수가 4번째인 경우 이며 cp가 0이다\n",
        "* 따라서 cp=0(a=0)일 때 교차타당성 오분류율을 최소화시키는 최적의 나무사이즈 이므로 이 값을 기준으로 가지치기를 진행해야한다"
      ]
    },
    {
      "cell_type": "markdown",
      "metadata": {
        "id": "gLGRzHERPrF6"
      },
      "source": [
        "## 가지치기"
      ]
    },
    {
      "cell_type": "code",
      "metadata": {
        "colab": {
          "base_uri": "https://localhost:8080/"
        },
        "id": "k0OBwU62P8xf",
        "outputId": "0d25ade7-ea82-4c3c-eb05-2c91c6b76661"
      },
      "source": [
        "#cp=0일 때 최적의 나무사이즈임\n",
        "fit.prun.titanic <- prune(fit.titanic, cp=0.0)\n",
        "print(fit.prun.titanic)"
      ],
      "execution_count": null,
      "outputs": [
        {
          "output_type": "stream",
          "text": [
            "n= 2201 \n",
            "\n",
            "node), split, n, loss, yval, (yprob)\n",
            "      * denotes terminal node\n",
            "\n",
            " 1) root 2201 711 No (0.6769650 0.3230350)  \n",
            "   2) Sex=Male 1731 367 No (0.7879838 0.2120162)  \n",
            "     4) Age=Adult 1667 338 No (0.7972406 0.2027594) *\n",
            "     5) Age=Child 64  29 No (0.5468750 0.4531250)  \n",
            "      10) Class=Third 48  13 No (0.7291667 0.2708333) *\n",
            "      11) Class=First,Second 16   0 Yes (0.0000000 1.0000000) *\n",
            "   3) Sex=Female 470 126 Yes (0.2680851 0.7319149)  \n",
            "     6) Class=Third 196  90 No (0.5408163 0.4591837) *\n",
            "     7) Class=Crew,First,Second 274  20 Yes (0.0729927 0.9270073) *\n"
          ],
          "name": "stdout"
        }
      ]
    },
    {
      "cell_type": "markdown",
      "metadata": {
        "id": "w8furyFt0Ffa"
      },
      "source": [
        "설명\n",
        ">\n",
        "제공되는 정보 순서 : \n",
        "1. 노드번호, \n",
        "2. 분할규칙, \n",
        "3. 해당 노드이 총 관측치 수, \n",
        "4. 해당 노드에서 오분류되는 관측치의 수, \n",
        "5. 해당 노드의 목표변수 예측치, \n",
        "6. 괄호: 목표변수의 집단별 비율, \n",
        "7. * : 해당 노드가 최종노드임을 의미\n"
      ]
    },
    {
      "cell_type": "code",
      "metadata": {
        "colab": {
          "base_uri": "https://localhost:8080/"
        },
        "id": "rNdwBkjE1mmx",
        "outputId": "54e39496-fcbf-4ccf-d8fe-9a3e02bf751c"
      },
      "source": [
        "#가지치기한 나무모형 시각화\n",
        "plot(fit.prun.titanic, uniform = T, compress = T, margin = 0.1)\n",
        "text(fit.prun.titanic, use.n = T, col = \"blue\")"
      ],
      "execution_count": null,
      "outputs": [
        {
          "output_type": "display_data",
          "data": {
            "image/png": "[encoded data removed]",
            "text/plain": [
              "plot without title"
            ]
          },
          "metadata": {
            "tags": [],
            "image/png": {
              "width": 420,
              "height": 420
            }
          }
        }
      ]
    },
    {
      "cell_type": "markdown",
      "metadata": {
        "id": "wDbk2qXF19Ly"
      },
      "source": [
        "명령어 설명\n",
        ">\n",
        "* uniform : 가로폭 크기 좁히기\n",
        "* compress : 세로폭의 크기 좁히기\n",
        "* margin : 여백설정\n",
        "* text : 나무모형에 변수값 출력\n",
        "* use.n : 집단별 관측치의 수\n",
        "* sex = b : 왼쪽 가지로 가는 조건이 무엇인지 알려주는 것, summary(titanic)에서 sex의 변수에서 male은 두번째 범주임임으로 b임, 따라서 남성이 왼쪽 노드임\n"
      ]
    },
    {
      "cell_type": "code",
      "metadata": {
        "colab": {
          "base_uri": "https://localhost:8080/"
        },
        "id": "T4UGriI12yzy",
        "outputId": "5227ada8-1512-41fb-8ea5-8b55b4fe8925"
      },
      "source": [
        "#가지치기된 모형의 구체적 사항 모두 출력\n",
        "summary(fit.prun.titanic)"
      ],
      "execution_count": null,
      "outputs": [
        {
          "output_type": "stream",
          "text": [
            "Call:\n",
            "rpart(formula = Survived ~ ., data = titanic, method = \"class\", \n",
            "    control = my.control)\n",
            "  n= 2201 \n",
            "\n",
            "          CP nsplit rel error    xerror       xstd\n",
            "1 0.30661041      0 1.0000000 1.0000000 0.03085662\n",
            "2 0.02250352      1 0.6933896 0.6933896 0.02750982\n",
            "3 0.01125176      2 0.6708861 0.7018284 0.02762806\n",
            "4 0.00000000      4 0.6483826 0.6540084 0.02693529\n",
            "\n",
            "Variable importance\n",
            "  Sex Class   Age \n",
            "   73    23     4 \n",
            "\n",
            "Node number 1: 2201 observations,    complexity param=0.3066104\n",
            "  predicted class=No   expected loss=0.323035  P(node) =1\n",
            "    class counts:  1490   711\n",
            "   probabilities: 0.677 0.323 \n",
            "  left son=2 (1731 obs) right son=3 (470 obs)\n",
            "  Primary splits:\n",
            "      Sex   splits as  RL,   improve=199.821600, (0 missing)\n",
            "      Class splits as  LRRL, improve= 69.684100, (0 missing)\n",
            "      Age   splits as  LR,   improve=  9.165241, (0 missing)\n",
            "\n",
            "Node number 2: 1731 observations,    complexity param=0.01125176\n",
            "  predicted class=No   expected loss=0.2120162  P(node) =0.7864607\n",
            "    class counts:  1364   367\n",
            "   probabilities: 0.788 0.212 \n",
            "  left son=4 (1667 obs) right son=5 (64 obs)\n",
            "  Primary splits:\n",
            "      Age   splits as  LR,   improve=7.726764, (0 missing)\n",
            "      Class splits as  LRLL, improve=7.046106, (0 missing)\n",
            "\n",
            "Node number 3: 470 observations,    complexity param=0.02250352\n",
            "  predicted class=Yes  expected loss=0.2680851  P(node) =0.2135393\n",
            "    class counts:   126   344\n",
            "   probabilities: 0.268 0.732 \n",
            "  left son=6 (196 obs) right son=7 (274 obs)\n",
            "  Primary splits:\n",
            "      Class splits as  RRRL, improve=50.015320, (0 missing)\n",
            "      Age   splits as  RL,   improve= 1.197586, (0 missing)\n",
            "  Surrogate splits:\n",
            "      Age splits as  RL, agree=0.619, adj=0.087, (0 split)\n",
            "\n",
            "Node number 4: 1667 observations\n",
            "  predicted class=No   expected loss=0.2027594  P(node) =0.757383\n",
            "    class counts:  1329   338\n",
            "   probabilities: 0.797 0.203 \n",
            "\n",
            "Node number 5: 64 observations,    complexity param=0.01125176\n",
            "  predicted class=No   expected loss=0.453125  P(node) =0.02907769\n",
            "    class counts:    35    29\n",
            "   probabilities: 0.547 0.453 \n",
            "  left son=10 (48 obs) right son=11 (16 obs)\n",
            "  Primary splits:\n",
            "      Class splits as  -RRL, improve=12.76042, (0 missing)\n",
            "\n",
            "Node number 6: 196 observations\n",
            "  predicted class=No   expected loss=0.4591837  P(node) =0.08905043\n",
            "    class counts:   106    90\n",
            "   probabilities: 0.541 0.459 \n",
            "\n",
            "Node number 7: 274 observations\n",
            "  predicted class=Yes  expected loss=0.0729927  P(node) =0.1244889\n",
            "    class counts:    20   254\n",
            "   probabilities: 0.073 0.927 \n",
            "\n",
            "Node number 10: 48 observations\n",
            "  predicted class=No   expected loss=0.2708333  P(node) =0.02180827\n",
            "    class counts:    35    13\n",
            "   probabilities: 0.729 0.271 \n",
            "\n",
            "Node number 11: 16 observations\n",
            "  predicted class=Yes  expected loss=0  P(node) =0.007269423\n",
            "    class counts:     0    16\n",
            "   probabilities: 0.000 1.000 \n",
            "\n"
          ],
          "name": "stdout"
        }
      ]
    },
    {
      "cell_type": "markdown",
      "metadata": {
        "id": "3ZA1N-eiOSUo"
      },
      "source": [
        "## 데이터 읽기(독일신용평가데이터)\n"
      ]
    },
    {
      "cell_type": "code",
      "metadata": {
        "colab": {
          "base_uri": "https://localhost:8080/"
        },
        "id": "ryUIDRFZNT3c",
        "outputId": "a5927237-c606-464e-ee02-056a6b2ac27f"
      },
      "source": [
        "#데이터 가져오기\n",
        "url_german = \"https://raw.githubusercontent.com/seunghee0518/R_File/main/%EB%8D%B0%EC%9D%B4%ED%84%B0%EB%A7%88%EC%9D%B4%EB%8B%9D/germandata.txt\"\n",
        "german = read.table(url_german, header =T)\n",
        "german$numcredits = factor(german$numcredits)\n",
        "german$residence = factor(german$residence)\n",
        "german$residpeople = factor(german$residpeople)\n",
        "attach(german)\n",
        "head(german)"
      ],
      "execution_count": null,
      "outputs": [
        {
          "output_type": "stream",
          "text": [
            "The following objects are masked _by_ .GlobalEnv:\n",
            "\n",
            "    numcredits, residence, residpeople\n",
            "\n",
            "\n",
            "The following objects are masked from german (pos = 3):\n",
            "\n",
            "    age, check, credit, debtors, duration, employment, foreign,\n",
            "    history, housing, installment, job, numcredits, others, personal,\n",
            "    property, purpose, residence, residpeople, savings, telephone, y\n",
            "\n",
            "\n",
            "The following objects are masked from german (pos = 4):\n",
            "\n",
            "    age, check, credit, debtors, duration, employment, foreign,\n",
            "    history, housing, installment, job, numcredits, others, personal,\n",
            "    property, purpose, residence, residpeople, savings, telephone, y\n",
            "\n",
            "\n",
            "The following objects are masked from german (pos = 5):\n",
            "\n",
            "    age, check, credit, debtors, duration, employment, foreign,\n",
            "    history, housing, installment, job, numcredits, others, personal,\n",
            "    property, purpose, residence, residpeople, savings, telephone, y\n",
            "\n",
            "\n",
            "The following objects are masked from german (pos = 6):\n",
            "\n",
            "    age, check, credit, debtors, duration, employment, foreign,\n",
            "    history, housing, installment, job, numcredits, others, personal,\n",
            "    property, purpose, residence, residpeople, savings, telephone, y\n",
            "\n",
            "\n"
          ],
          "name": "stderr"
        },
        {
          "output_type": "display_data",
          "data": {
            "text/plain": [
              "  check duration history purpose credit savings employment installment personal\n",
              "1 A11    6       A34     A43     1169   A65     A75        4           A93     \n",
              "2 A12   48       A32     A43     5951   A61     A73        2           A92     \n",
              "3 A14   12       A34     A46     2096   A61     A74        2           A93     \n",
              "4 A11   42       A32     A42     7882   A61     A74        2           A93     \n",
              "5 A11   24       A33     A40     4870   A61     A73        3           A93     \n",
              "6 A14   36       A32     A46     9055   A65     A73        2           A93     \n",
              "  debtors ⋯ property age others housing numcredits job  residpeople telephone\n",
              "1 A101    ⋯ A121     67  A143   A152    2          A173 1           A192     \n",
              "2 A101    ⋯ A121     22  A143   A152    1          A173 1           A191     \n",
              "3 A101    ⋯ A121     49  A143   A152    1          A172 2           A191     \n",
              "4 A103    ⋯ A122     45  A143   A153    1          A173 2           A191     \n",
              "5 A101    ⋯ A124     53  A143   A153    2          A173 2           A191     \n",
              "6 A101    ⋯ A124     35  A143   A153    1          A172 2           A192     \n",
              "  foreign y   \n",
              "1 A201    good\n",
              "2 A201    bad \n",
              "3 A201    good\n",
              "4 A201    good\n",
              "5 A201    bad \n",
              "6 A201    good"
            ],
            "text/latex": "A data.frame: 6 × 21\n\\begin{tabular}{r|lllllllllllllllllllll}\n  & check & duration & history & purpose & credit & savings & employment & installment & personal & debtors & ⋯ & property & age & others & housing & numcredits & job & residpeople & telephone & foreign & y\\\\\n  & <chr> & <int> & <chr> & <chr> & <int> & <chr> & <chr> & <int> & <chr> & <chr> & ⋯ & <chr> & <int> & <chr> & <chr> & <fct> & <chr> & <fct> & <chr> & <chr> & <chr>\\\\\n\\hline\n\t1 & A11 &  6 & A34 & A43 & 1169 & A65 & A75 & 4 & A93 & A101 & ⋯ & A121 & 67 & A143 & A152 & 2 & A173 & 1 & A192 & A201 & good\\\\\n\t2 & A12 & 48 & A32 & A43 & 5951 & A61 & A73 & 2 & A92 & A101 & ⋯ & A121 & 22 & A143 & A152 & 1 & A173 & 1 & A191 & A201 & bad \\\\\n\t3 & A14 & 12 & A34 & A46 & 2096 & A61 & A74 & 2 & A93 & A101 & ⋯ & A121 & 49 & A143 & A152 & 1 & A172 & 2 & A191 & A201 & good\\\\\n\t4 & A11 & 42 & A32 & A42 & 7882 & A61 & A74 & 2 & A93 & A103 & ⋯ & A122 & 45 & A143 & A153 & 1 & A173 & 2 & A191 & A201 & good\\\\\n\t5 & A11 & 24 & A33 & A40 & 4870 & A61 & A73 & 3 & A93 & A101 & ⋯ & A124 & 53 & A143 & A153 & 2 & A173 & 2 & A191 & A201 & bad \\\\\n\t6 & A14 & 36 & A32 & A46 & 9055 & A65 & A73 & 2 & A93 & A101 & ⋯ & A124 & 35 & A143 & A153 & 1 & A172 & 2 & A192 & A201 & good\\\\\n\\end{tabular}\n",
            "text/markdown": "\nA data.frame: 6 × 21\n\n| <!--/--> | check &lt;chr&gt; | duration &lt;int&gt; | history &lt;chr&gt; | purpose &lt;chr&gt; | credit &lt;int&gt; | savings &lt;chr&gt; | employment &lt;chr&gt; | installment &lt;int&gt; | personal &lt;chr&gt; | debtors &lt;chr&gt; | ⋯ ⋯ | property &lt;chr&gt; | age &lt;int&gt; | others &lt;chr&gt; | housing &lt;chr&gt; | numcredits &lt;fct&gt; | job &lt;chr&gt; | residpeople &lt;fct&gt; | telephone &lt;chr&gt; | foreign &lt;chr&gt; | y &lt;chr&gt; |\n|---|---|---|---|---|---|---|---|---|---|---|---|---|---|---|---|---|---|---|---|---|---|\n| 1 | A11 |  6 | A34 | A43 | 1169 | A65 | A75 | 4 | A93 | A101 | ⋯ | A121 | 67 | A143 | A152 | 2 | A173 | 1 | A192 | A201 | good |\n| 2 | A12 | 48 | A32 | A43 | 5951 | A61 | A73 | 2 | A92 | A101 | ⋯ | A121 | 22 | A143 | A152 | 1 | A173 | 1 | A191 | A201 | bad  |\n| 3 | A14 | 12 | A34 | A46 | 2096 | A61 | A74 | 2 | A93 | A101 | ⋯ | A121 | 49 | A143 | A152 | 1 | A172 | 2 | A191 | A201 | good |\n| 4 | A11 | 42 | A32 | A42 | 7882 | A61 | A74 | 2 | A93 | A103 | ⋯ | A122 | 45 | A143 | A153 | 1 | A173 | 2 | A191 | A201 | good |\n| 5 | A11 | 24 | A33 | A40 | 4870 | A61 | A73 | 3 | A93 | A101 | ⋯ | A124 | 53 | A143 | A153 | 2 | A173 | 2 | A191 | A201 | bad  |\n| 6 | A14 | 36 | A32 | A46 | 9055 | A65 | A73 | 2 | A93 | A101 | ⋯ | A124 | 35 | A143 | A153 | 1 | A172 | 2 | A192 | A201 | good |\n\n",
            "text/html": [
              "<table class=\"dataframe\">\n",
              "<caption>A data.frame: 6 × 21</caption>\n",
              "<thead>\n",
              "\t<tr><th></th><th scope=col>check</th><th scope=col>duration</th><th scope=col>history</th><th scope=col>purpose</th><th scope=col>credit</th><th scope=col>savings</th><th scope=col>employment</th><th scope=col>installment</th><th scope=col>personal</th><th scope=col>debtors</th><th scope=col>⋯</th><th scope=col>property</th><th scope=col>age</th><th scope=col>others</th><th scope=col>housing</th><th scope=col>numcredits</th><th scope=col>job</th><th scope=col>residpeople</th><th scope=col>telephone</th><th scope=col>foreign</th><th scope=col>y</th></tr>\n",
              "\t<tr><th></th><th scope=col>&lt;chr&gt;</th><th scope=col>&lt;int&gt;</th><th scope=col>&lt;chr&gt;</th><th scope=col>&lt;chr&gt;</th><th scope=col>&lt;int&gt;</th><th scope=col>&lt;chr&gt;</th><th scope=col>&lt;chr&gt;</th><th scope=col>&lt;int&gt;</th><th scope=col>&lt;chr&gt;</th><th scope=col>&lt;chr&gt;</th><th scope=col>⋯</th><th scope=col>&lt;chr&gt;</th><th scope=col>&lt;int&gt;</th><th scope=col>&lt;chr&gt;</th><th scope=col>&lt;chr&gt;</th><th scope=col>&lt;fct&gt;</th><th scope=col>&lt;chr&gt;</th><th scope=col>&lt;fct&gt;</th><th scope=col>&lt;chr&gt;</th><th scope=col>&lt;chr&gt;</th><th scope=col>&lt;chr&gt;</th></tr>\n",
              "</thead>\n",
              "<tbody>\n",
              "\t<tr><th scope=row>1</th><td>A11</td><td> 6</td><td>A34</td><td>A43</td><td>1169</td><td>A65</td><td>A75</td><td>4</td><td>A93</td><td>A101</td><td>⋯</td><td>A121</td><td>67</td><td>A143</td><td>A152</td><td>2</td><td>A173</td><td>1</td><td>A192</td><td>A201</td><td>good</td></tr>\n",
              "\t<tr><th scope=row>2</th><td>A12</td><td>48</td><td>A32</td><td>A43</td><td>5951</td><td>A61</td><td>A73</td><td>2</td><td>A92</td><td>A101</td><td>⋯</td><td>A121</td><td>22</td><td>A143</td><td>A152</td><td>1</td><td>A173</td><td>1</td><td>A191</td><td>A201</td><td>bad </td></tr>\n",
              "\t<tr><th scope=row>3</th><td>A14</td><td>12</td><td>A34</td><td>A46</td><td>2096</td><td>A61</td><td>A74</td><td>2</td><td>A93</td><td>A101</td><td>⋯</td><td>A121</td><td>49</td><td>A143</td><td>A152</td><td>1</td><td>A172</td><td>2</td><td>A191</td><td>A201</td><td>good</td></tr>\n",
              "\t<tr><th scope=row>4</th><td>A11</td><td>42</td><td>A32</td><td>A42</td><td>7882</td><td>A61</td><td>A74</td><td>2</td><td>A93</td><td>A103</td><td>⋯</td><td>A122</td><td>45</td><td>A143</td><td>A153</td><td>1</td><td>A173</td><td>2</td><td>A191</td><td>A201</td><td>good</td></tr>\n",
              "\t<tr><th scope=row>5</th><td>A11</td><td>24</td><td>A33</td><td>A40</td><td>4870</td><td>A61</td><td>A73</td><td>3</td><td>A93</td><td>A101</td><td>⋯</td><td>A124</td><td>53</td><td>A143</td><td>A153</td><td>2</td><td>A173</td><td>2</td><td>A191</td><td>A201</td><td>bad </td></tr>\n",
              "\t<tr><th scope=row>6</th><td>A14</td><td>36</td><td>A32</td><td>A46</td><td>9055</td><td>A65</td><td>A73</td><td>2</td><td>A93</td><td>A101</td><td>⋯</td><td>A124</td><td>35</td><td>A143</td><td>A153</td><td>1</td><td>A172</td><td>2</td><td>A192</td><td>A201</td><td>good</td></tr>\n",
              "</tbody>\n",
              "</table>\n"
            ]
          },
          "metadata": {
            "tags": []
          }
        }
      ]
    },
    {
      "cell_type": "code",
      "metadata": {
        "colab": {
          "base_uri": "https://localhost:8080/"
        },
        "id": "nfLTp23eOqsW",
        "outputId": "30c23b06-893c-40d3-c4af-c2fcb262c019"
      },
      "source": [
        "#데이터 요약\n",
        "summary(german)"
      ],
      "execution_count": null,
      "outputs": [
        {
          "output_type": "display_data",
          "data": {
            "text/plain": [
              "    check              duration      history            purpose         \n",
              " Length:1000        Min.   : 4.0   Length:1000        Length:1000       \n",
              " Class :character   1st Qu.:12.0   Class :character   Class :character  \n",
              " Mode  :character   Median :18.0   Mode  :character   Mode  :character  \n",
              "                    Mean   :20.9                                        \n",
              "                    3rd Qu.:24.0                                        \n",
              "                    Max.   :72.0                                        \n",
              "     credit        savings           employment         installment   \n",
              " Min.   :  250   Length:1000        Length:1000        Min.   :1.000  \n",
              " 1st Qu.: 1366   Class :character   Class :character   1st Qu.:2.000  \n",
              " Median : 2320   Mode  :character   Mode  :character   Median :3.000  \n",
              " Mean   : 3271                                         Mean   :2.973  \n",
              " 3rd Qu.: 3972                                         3rd Qu.:4.000  \n",
              " Max.   :18424                                         Max.   :4.000  \n",
              "   personal           debtors          residence   property        \n",
              " Length:1000        Length:1000        1:130     Length:1000       \n",
              " Class :character   Class :character   2:308     Class :character  \n",
              " Mode  :character   Mode  :character   3:149     Mode  :character  \n",
              "                                       4:413                       \n",
              "                                                                   \n",
              "                                                                   \n",
              "      age           others            housing          numcredits\n",
              " Min.   :19.00   Length:1000        Length:1000        1:633     \n",
              " 1st Qu.:27.00   Class :character   Class :character   2:333     \n",
              " Median :33.00   Mode  :character   Mode  :character   3: 28     \n",
              " Mean   :35.55                                         4:  6     \n",
              " 3rd Qu.:42.00                                                   \n",
              " Max.   :75.00                                                   \n",
              "     job            residpeople  telephone           foreign         \n",
              " Length:1000        1:845       Length:1000        Length:1000       \n",
              " Class :character   2:155       Class :character   Class :character  \n",
              " Mode  :character               Mode  :character   Mode  :character  \n",
              "                                                                     \n",
              "                                                                     \n",
              "                                                                     \n",
              "      y            \n",
              " Length:1000       \n",
              " Class :character  \n",
              " Mode  :character  \n",
              "                   \n",
              "                   \n",
              "                   "
            ]
          },
          "metadata": {
            "tags": []
          }
        }
      ]
    },
    {
      "cell_type": "markdown",
      "metadata": {
        "id": "d5b08kGTQ-rC"
      },
      "source": [
        "##CART 나무모형 실행\n",
        ">\n",
        "* 중간노드를 분할하는 최소 자료수 : 5\n",
        "* a=0으로 하여 오분류값이 최소가 될 때까지 분할\n",
        "* 10-fold 교차타당성 수행해 최적의 cp값 찾도록함"
      ]
    },
    {
      "cell_type": "code",
      "metadata": {
        "colab": {
          "base_uri": "https://localhost:8080/"
        },
        "id": "vnYvGKVvRLKs",
        "outputId": "a21c1654-1d1b-4f1c-df40-65875d4dc520"
      },
      "source": [
        "my.control.german <- rpart.control(xcal = 10, cp=0, minsplit = 5)\n",
        "fit.german <- rpart(y ~ ., data = german, method = \"class\", control = my.control.german)\n",
        "print(fit.german)"
      ],
      "execution_count": null,
      "outputs": [
        {
          "output_type": "stream",
          "text": [
            "n= 1000 \n",
            "\n",
            "node), split, n, loss, yval, (yprob)\n",
            "      * denotes terminal node\n",
            "\n",
            "    1) root 1000 300 good (0.300000000 0.700000000)  \n",
            "      2) check=A11,A12 543 240 good (0.441988950 0.558011050)  \n",
            "        4) duration>=22.5 237 103 bad (0.565400844 0.434599156)  \n",
            "          8) savings=A61,A62,A63 196  74 bad (0.622448980 0.377551020)  \n",
            "           16) duration>=47.5 36   5 bad (0.861111111 0.138888889)  \n",
            "             32) residence=2,4 30   2 bad (0.933333333 0.066666667)  \n",
            "               64) history=A30,A32,A34 24   0 bad (1.000000000 0.000000000) *\n",
            "               65) history=A31,A33 6   2 bad (0.666666667 0.333333333)  \n",
            "                130) age>=34 4   0 bad (1.000000000 0.000000000) *\n",
            "                131) age< 34 2   0 good (0.000000000 1.000000000) *\n",
            "             33) residence=1,3 6   3 bad (0.500000000 0.500000000)  \n",
            "               66) purpose=A42,A43,A49 3   0 bad (1.000000000 0.000000000) *\n",
            "               67) purpose=A40,A41,A46 3   0 good (0.000000000 1.000000000) *\n",
            "           17) duration< 47.5 160  69 bad (0.568750000 0.431250000)  \n",
            "             34) purpose=A40,A410,A42,A43,A45,A46,A49 137  52 bad (0.620437956 0.379562044)  \n",
            "               68) credit< 2313 37   9 bad (0.756756757 0.243243243)  \n",
            "                136) employment=A71,A72,A73 21   2 bad (0.904761905 0.095238095)  \n",
            "                  272) residence=2,3,4 18   0 bad (1.000000000 0.000000000) *\n",
            "                  273) residence=1 3   1 good (0.333333333 0.666666667) *\n",
            "                137) employment=A74,A75 16   7 bad (0.562500000 0.437500000)  \n",
            "                  274) purpose=A40,A49 8   1 bad (0.875000000 0.125000000) *\n",
            "                  275) purpose=A410,A43,A46 8   2 good (0.250000000 0.750000000)  \n",
            "                    550) history=A31 2   0 bad (1.000000000 0.000000000) *\n",
            "                    551) history=A32,A33,A34 6   0 good (0.000000000 1.000000000) *\n",
            "               69) credit>=2313 100  43 bad (0.570000000 0.430000000)  \n",
            "                138) credit>=2353.5 96  39 bad (0.593750000 0.406250000)  \n",
            "                  276) installment>=2.5 53  17 bad (0.679245283 0.320754717)  \n",
            "                    552) others=A141,A143 48  13 bad (0.729166667 0.270833333)  \n",
            "                     1104) age< 60.5 46  11 bad (0.760869565 0.239130435)  \n",
            "                       2208) age>=38 8   0 bad (1.000000000 0.000000000) *\n",
            "                       2209) age< 38 38  11 bad (0.710526316 0.289473684)  \n",
            "                         4418) age< 27.5 18   2 bad (0.888888889 0.111111111) *\n",
            "                         4419) age>=27.5 20   9 bad (0.550000000 0.450000000)  \n",
            "                           8838) savings=A61,A63 15   5 bad (0.666666667 0.333333333)  \n",
            "                            17676) property=A121,A123,A124 9   1 bad (0.888888889 0.111111111) *\n",
            "                            17677) property=A122 6   2 good (0.333333333 0.666666667)  \n",
            "                              35354) residence=2 3   1 bad (0.666666667 0.333333333) *\n",
            "                              35355) residence=1,3,4 3   0 good (0.000000000 1.000000000) *\n",
            "                           8839) savings=A62 5   1 good (0.200000000 0.800000000) *\n",
            "                     1105) age>=60.5 2   0 good (0.000000000 1.000000000) *\n",
            "                    553) others=A142 5   1 good (0.200000000 0.800000000) *\n",
            "                  277) installment< 2.5 43  21 good (0.488372093 0.511627907)  \n",
            "                    554) credit>=4231 28  11 bad (0.607142857 0.392857143)  \n",
            "                     1108) credit< 5518 8   1 bad (0.875000000 0.125000000) *\n",
            "                     1109) credit>=5518 20  10 bad (0.500000000 0.500000000)  \n",
            "                       2218) credit>=7984 13   4 bad (0.692307692 0.307692308)  \n",
            "                         4436) employment=A73,A75 6   0 bad (1.000000000 0.000000000) *\n",
            "                         4437) employment=A71,A72,A74 7   3 good (0.428571429 0.571428571)  \n",
            "                           8874) purpose=A40,A42,A45 4   1 bad (0.750000000 0.250000000) *\n",
            "                           8875) purpose=A410,A46,A49 3   0 good (0.000000000 1.000000000) *\n",
            "                       2219) credit< 7984 7   1 good (0.142857143 0.857142857) *\n",
            "                    555) credit< 4231 15   4 good (0.266666667 0.733333333)  \n",
            "                     1110) purpose=A42 8   4 bad (0.500000000 0.500000000)  \n",
            "                       2220) credit< 3530.5 5   1 bad (0.800000000 0.200000000) *\n",
            "                       2221) credit>=3530.5 3   0 good (0.000000000 1.000000000) *\n",
            "                     1111) purpose=A40,A43,A49 7   0 good (0.000000000 1.000000000) *\n",
            "                139) credit< 2353.5 4   0 good (0.000000000 1.000000000) *\n",
            "             35) purpose=A41 23   6 good (0.260869565 0.739130435)  \n",
            "               70) credit>=8097.5 7   2 bad (0.714285714 0.285714286)  \n",
            "                140) history=A32 4   0 bad (1.000000000 0.000000000) *\n",
            "                141) history=A31,A34 3   1 good (0.333333333 0.666666667) *\n",
            "               71) credit< 8097.5 16   1 good (0.062500000 0.937500000) *\n",
            "          9) savings=A64,A65 41  12 good (0.292682927 0.707317073)  \n",
            "           18) check=A11 17   7 bad (0.588235294 0.411764706)  \n",
            "             36) numcredits=1 13   3 bad (0.769230769 0.230769231)  \n",
            "               72) purpose=A40,A410,A43,A46 7   0 bad (1.000000000 0.000000000) *\n",
            "               73) purpose=A41,A42 6   3 bad (0.500000000 0.500000000)  \n",
            "                146) duration>=27 2   0 bad (1.000000000 0.000000000) *\n",
            "                147) duration< 27 4   1 good (0.250000000 0.750000000) *\n",
            "             37) numcredits=2,3 4   0 good (0.000000000 1.000000000) *\n",
            "           19) check=A12 24   2 good (0.083333333 0.916666667) *\n",
            "        5) duration< 22.5 306 106 good (0.346405229 0.653594771)  \n",
            "         10) history=A30,A31 28   7 bad (0.750000000 0.250000000)  \n",
            "           20) purpose=A40,A42,A45,A46 18   1 bad (0.944444444 0.055555556) *\n",
            "           21) purpose=A41,A43,A48,A49 10   4 good (0.400000000 0.600000000)  \n",
            "             42) personal=A91,A92 3   0 bad (1.000000000 0.000000000) *\n",
            "             43) personal=A93,A94 7   1 good (0.142857143 0.857142857) *\n",
            "         11) history=A32,A33,A34 278  85 good (0.305755396 0.694244604)  \n",
            "           22) credit>=7491.5 7   1 bad (0.857142857 0.142857143) *\n",
            "           23) credit< 7491.5 271  79 good (0.291512915 0.708487085)  \n",
            "             46) purpose=A44,A46 15   5 bad (0.666666667 0.333333333)  \n",
            "               92) employment=A71,A72,A73,A75 13   3 bad (0.769230769 0.230769231)  \n",
            "                184) savings=A61,A62,A64 10   1 bad (0.900000000 0.100000000) *\n",
            "                185) savings=A65 3   1 good (0.333333333 0.666666667) *\n",
            "               93) employment=A74 2   0 good (0.000000000 1.000000000) *\n",
            "             47) purpose=A40,A41,A410,A42,A43,A45,A48,A49 256  69 good (0.269531250 0.730468750)  \n",
            "               94) duration>=11.5 183  60 good (0.327868852 0.672131148)  \n",
            "                188) credit< 1387.5 65  31 good (0.476923077 0.523076923)  \n",
            "                  376) property=A123,A124 20   3 bad (0.850000000 0.150000000)  \n",
            "                    752) numcredits=1,4 17   1 bad (0.941176471 0.058823529) *\n",
            "                    753) numcredits=2,3 3   1 good (0.333333333 0.666666667) *\n",
            "                  377) property=A121,A122 45  14 good (0.311111111 0.688888889)  \n",
            "                    754) purpose=A40,A48 16   7 bad (0.562500000 0.437500000)  \n",
            "                     1508) age< 37.5 10   2 bad (0.800000000 0.200000000)  \n",
            "                       3016) personal=A92,A93 7   0 bad (1.000000000 0.000000000) *\n",
            "                       3017) personal=A94 3   1 good (0.333333333 0.666666667) *\n",
            "                     1509) age>=37.5 6   1 good (0.166666667 0.833333333) *\n",
            "                    755) purpose=A42,A43,A49 29   5 good (0.172413793 0.827586207)  \n",
            "                     1510) age>=53 3   1 bad (0.666666667 0.333333333) *\n",
            "                     1511) age< 53 26   3 good (0.115384615 0.884615385)  \n",
            "                       3022) job=A173 12   3 good (0.250000000 0.750000000)  \n",
            "                         6044) numcredits=1 6   3 bad (0.500000000 0.500000000)  \n",
            "                          12088) purpose=A43,A49 4   1 bad (0.750000000 0.250000000) *\n",
            "                          12089) purpose=A42 2   0 good (0.000000000 1.000000000) *\n",
            "                         6045) numcredits=2 6   0 good (0.000000000 1.000000000) *\n",
            "                       3023) job=A172,A174 14   0 good (0.000000000 1.000000000) *\n",
            "                189) credit>=1387.5 118  29 good (0.245762712 0.754237288)  \n",
            "                  378) employment=A71,A72,A73,A75 100  29 good (0.290000000 0.710000000)  \n",
            "                    756) purpose=A40,A42,A43 75  26 good (0.346666667 0.653333333)  \n",
            "                     1512) age>=57.5 2   0 bad (1.000000000 0.000000000) *\n",
            "                     1513) age< 57.5 73  24 good (0.328767123 0.671232877)  \n",
            "                       3026) property=A121 22  11 bad (0.500000000 0.500000000)  \n",
            "                         6052) age< 33.5 15   4 bad (0.733333333 0.266666667)  \n",
            "                          12104) credit< 3201.5 10   1 bad (0.900000000 0.100000000) *\n",
            "                          12105) credit>=3201.5 5   2 good (0.400000000 0.600000000)  \n",
            "                            24210) check=A11 2   0 bad (1.000000000 0.000000000) *\n",
            "                            24211) check=A12 3   0 good (0.000000000 1.000000000) *\n",
            "                         6053) age>=33.5 7   0 good (0.000000000 1.000000000) *\n",
            "                       3027) property=A122,A123,A124 51  13 good (0.254901961 0.745098039)  \n",
            "                         6054) others=A141 7   3 bad (0.571428571 0.428571429)  \n",
            "                          12108) housing=A151 3   0 bad (1.000000000 0.000000000) *\n",
            "                          12109) housing=A152 4   1 good (0.250000000 0.750000000) *\n",
            "                         6055) others=A142,A143 44   9 good (0.204545455 0.795454545)  \n",
            "                          12110) credit>=3805 12   5 good (0.416666667 0.583333333)  \n",
            "                            24220) age>=41.5 3   0 bad (1.000000000 0.000000000) *\n",
            "                            24221) age< 41.5 9   2 good (0.222222222 0.777777778)  \n",
            "                              48442) personal=A91,A92 3   1 bad (0.666666667 0.333333333) *\n",
            "                              48443) personal=A93 6   0 good (0.000000000 1.000000000) *\n",
            "                          12111) credit< 3805 32   4 good (0.125000000 0.875000000)  \n",
            "                            24222) residence=2 5   2 good (0.400000000 0.600000000)  \n",
            "                              48444) credit< 2560.5 3   1 bad (0.666666667 0.333333333) *\n",
            "                              48445) credit>=2560.5 2   0 good (0.000000000 1.000000000) *\n",
            "                            24223) residence=1,3,4 27   2 good (0.074074074 0.925925926) *\n",
            "                    757) purpose=A41,A410,A45,A49 25   3 good (0.120000000 0.880000000) *\n",
            "                  379) employment=A74 18   0 good (0.000000000 1.000000000) *\n",
            "               95) duration< 11.5 73   9 good (0.123287671 0.876712329)  \n",
            "                190) age< 30.5 24   7 good (0.291666667 0.708333333)  \n",
            "                  380) property=A122,A123,A124 12   6 bad (0.500000000 0.500000000)  \n",
            "                    760) duration>=7.5 8   2 bad (0.750000000 0.250000000)  \n",
            "                     1520) employment=A72,A73 6   0 bad (1.000000000 0.000000000) *\n",
            "                     1521) employment=A74,A75 2   0 good (0.000000000 1.000000000) *\n",
            "                    761) duration< 7.5 4   0 good (0.000000000 1.000000000) *\n",
            "                  381) property=A121 12   1 good (0.083333333 0.916666667) *\n",
            "                191) age>=30.5 49   2 good (0.040816327 0.959183673) *\n",
            "      3) check=A13,A14 457  60 good (0.131291028 0.868708972)  \n",
            "        6) others=A141,A142 76  22 good (0.289473684 0.710526316)  \n",
            "         12) purpose=A40,A46,A49 32  16 bad (0.500000000 0.500000000)  \n",
            "           24) age< 45 26  10 bad (0.615384615 0.384615385)  \n",
            "             48) savings=A61,A63,A65 22   6 bad (0.727272727 0.272727273)  \n",
            "               96) installment>=1.5 17   2 bad (0.882352941 0.117647059)  \n",
            "                192) others=A141 11   0 bad (1.000000000 0.000000000) *\n",
            "                193) others=A142 6   2 bad (0.666666667 0.333333333)  \n",
            "                  386) history=A30,A34 3   0 bad (1.000000000 0.000000000) *\n",
            "                  387) history=A32,A33 3   1 good (0.333333333 0.666666667) *\n",
            "               97) installment< 1.5 5   1 good (0.200000000 0.800000000) *\n",
            "             49) savings=A62,A64 4   0 good (0.000000000 1.000000000) *\n",
            "           25) age>=45 6   0 good (0.000000000 1.000000000) *\n",
            "         13) purpose=A41,A410,A42,A43 44   6 good (0.136363636 0.863636364)  \n",
            "           26) employment=A71,A73 12   4 good (0.333333333 0.666666667)  \n",
            "             52) housing=A151 2   0 bad (1.000000000 0.000000000) *\n",
            "             53) housing=A152,A153 10   2 good (0.200000000 0.800000000)  \n",
            "              106) age>=35 3   1 bad (0.666666667 0.333333333) *\n",
            "              107) age< 35 7   0 good (0.000000000 1.000000000) *\n",
            "           27) employment=A72,A74,A75 32   2 good (0.062500000 0.937500000) *\n",
            "        7) others=A143 381  38 good (0.099737533 0.900262467)  \n",
            "         14) employment=A71,A72 66  14 good (0.212121212 0.787878788)  \n",
            "           28) credit>=6708 4   0 bad (1.000000000 0.000000000) *\n",
            "           29) credit< 6708 62  10 good (0.161290323 0.838709677)  \n",
            "             58) debtors=A102 3   0 bad (1.000000000 0.000000000) *\n",
            "             59) debtors=A101,A103 59   7 good (0.118644068 0.881355932)  \n",
            "              118) history=A30,A31 3   1 bad (0.666666667 0.333333333) *\n",
            "              119) history=A32,A33,A34 56   5 good (0.089285714 0.910714286)  \n",
            "                238) purpose=A45,A46 5   2 good (0.400000000 0.600000000)  \n",
            "                  476) duration>=16.5 2   0 bad (1.000000000 0.000000000) *\n",
            "                  477) duration< 16.5 3   0 good (0.000000000 1.000000000) *\n",
            "                239) purpose=A40,A41,A42,A43,A44,A48 51   3 good (0.058823529 0.941176471)  \n",
            "                  478) credit>=4602.5 5   2 good (0.400000000 0.600000000)  \n",
            "                    956) housing=A152 2   0 bad (1.000000000 0.000000000) *\n",
            "                    957) housing=A151,A153 3   0 good (0.000000000 1.000000000) *\n",
            "                  479) credit< 4602.5 46   1 good (0.021739130 0.978260870) *\n",
            "         15) employment=A73,A74,A75 315  24 good (0.076190476 0.923809524)  \n",
            "           30) history=A32,A33 176  20 good (0.113636364 0.886363636)  \n",
            "             60) age>=65 3   1 bad (0.666666667 0.333333333) *\n",
            "             61) age< 65 173  18 good (0.104046243 0.895953757)  \n",
            "              122) job=A172,A174 54  10 good (0.185185185 0.814814815)  \n",
            "                244) employment=A73 26   8 good (0.307692308 0.692307692)  \n",
            "                  488) credit>=2557.5 9   4 bad (0.555555556 0.444444444)  \n",
            "                    976) credit< 4654.5 6   1 bad (0.833333333 0.166666667) *\n",
            "                    977) credit>=4654.5 3   0 good (0.000000000 1.000000000) *\n",
            "                  489) credit< 2557.5 17   3 good (0.176470588 0.823529412)  \n",
            "                    978) credit< 1363.5 6   3 bad (0.500000000 0.500000000)  \n",
            "                     1956) duration< 11 2   0 bad (1.000000000 0.000000000) *\n",
            "                     1957) duration>=11 4   1 good (0.250000000 0.750000000) *\n",
            "                    979) credit>=1363.5 11   0 good (0.000000000 1.000000000) *\n",
            "                245) employment=A74,A75 28   2 good (0.071428571 0.928571429) *\n",
            "              123) job=A173 119   8 good (0.067226891 0.932773109)  \n",
            "                246) age< 22.5 10   3 good (0.300000000 0.700000000)  \n",
            "                  492) installment>=2.5 4   1 bad (0.750000000 0.250000000) *\n",
            "                  493) installment< 2.5 6   0 good (0.000000000 1.000000000) *\n",
            "                247) age>=22.5 109   5 good (0.045871560 0.954128440) *\n",
            "           31) history=A30,A31,A34 139   4 good (0.028776978 0.971223022)  \n",
            "             62) credit>=10765.5 2   1 bad (0.500000000 0.500000000) *\n",
            "             63) credit< 10765.5 137   3 good (0.021897810 0.978102190)  \n",
            "              126) check=A13 15   2 good (0.133333333 0.866666667)  \n",
            "                252) credit< 1273 5   2 good (0.400000000 0.600000000)  \n",
            "                  504) savings=A63,A65 2   0 bad (1.000000000 0.000000000) *\n",
            "                  505) savings=A61,A64 3   0 good (0.000000000 1.000000000) *\n",
            "                253) credit>=1273 10   0 good (0.000000000 1.000000000) *\n",
            "              127) check=A14 122   1 good (0.008196721 0.991803279) *\n"
          ],
          "name": "stdout"
        }
      ]
    },
    {
      "cell_type": "code",
      "metadata": {
        "id": "Lw7vONSjRnpP",
        "colab": {
          "base_uri": "https://localhost:8080/"
        },
        "outputId": "422adc24-7b93-42f7-a67d-4b9fccdf53ca"
      },
      "source": [
        "#모든 cp값에 대한 나무모형 성능 결과\n",
        "printcp(fit.german)"
      ],
      "execution_count": null,
      "outputs": [
        {
          "output_type": "stream",
          "text": [
            "\n",
            "Classification tree:\n",
            "rpart(formula = y ~ ., data = german, method = \"class\", control = my.control.german)\n",
            "\n",
            "Variables actually used in tree construction:\n",
            " [1] age         check       credit      debtors     duration    employment \n",
            " [7] history     housing     installment job         numcredits  others     \n",
            "[13] personal    property    purpose     residence   savings    \n",
            "\n",
            "Root node error: 300/1000 = 0.3\n",
            "\n",
            "n= 1000 \n",
            "\n",
            "          CP nsplit rel error  xerror     xstd\n",
            "1  0.0516667      0   1.00000 1.00000 0.048305\n",
            "2  0.0466667      3   0.84000 0.99667 0.048258\n",
            "3  0.0183333      4   0.79333 0.86000 0.046120\n",
            "4  0.0166667      6   0.75667 0.86333 0.046178\n",
            "5  0.0155556      8   0.72333 0.87667 0.046408\n",
            "6  0.0116667     11   0.67667 0.88000 0.046464\n",
            "7  0.0100000     13   0.65333 0.86667 0.046236\n",
            "8  0.0083333     16   0.62333 0.89333 0.046688\n",
            "9  0.0066667     18   0.60667 0.91667 0.047067\n",
            "10 0.0060000     38   0.44333 0.94000 0.047431\n",
            "11 0.0050000     43   0.41333 0.98667 0.048118\n",
            "12 0.0044444     55   0.35333 0.98667 0.048118\n",
            "13 0.0033333     59   0.33333 0.99667 0.048258\n",
            "14 0.0029167     83   0.25000 0.98667 0.048118\n",
            "15 0.0022222     93   0.22000 0.99333 0.048212\n",
            "16 0.0016667     96   0.21333 1.01000 0.048441\n",
            "17 0.0000000    104   0.20000 1.03000 0.048708\n"
          ],
          "name": "stdout"
        }
      ]
    },
    {
      "cell_type": "markdown",
      "metadata": {
        "id": "7rbQgKRJ6AT1"
      },
      "source": [
        "해석\n",
        ">\n",
        "* 오분류율이 최소가 되는 것은 3번째단계 4번 분리할 때임(오분류율 = 0.86)"
      ]
    },
    {
      "cell_type": "code",
      "metadata": {
        "id": "uTjcGME2Tk5Y",
        "colab": {
          "base_uri": "https://localhost:8080/"
        },
        "outputId": "e493d867-8bc5-4f3f-ce8f-3dcf1032b3ba"
      },
      "source": [
        "#가지치기 실행\n",
        "fit.prun.german <- prune(fit.german, cp = 0.0183333)\n",
        "print(fit.prun.german)"
      ],
      "execution_count": null,
      "outputs": [
        {
          "output_type": "stream",
          "text": [
            "n= 1000 \n",
            "\n",
            "node), split, n, loss, yval, (yprob)\n",
            "      * denotes terminal node\n",
            "\n",
            " 1) root 1000 300 good (0.3000000 0.7000000)  \n",
            "   2) check=A11,A12 543 240 good (0.4419890 0.5580110)  \n",
            "     4) duration>=22.5 237 103 bad (0.5654008 0.4345992)  \n",
            "       8) savings=A61,A62,A63 196  74 bad (0.6224490 0.3775510)  \n",
            "        16) duration>=47.5 36   5 bad (0.8611111 0.1388889) *\n",
            "        17) duration< 47.5 160  69 bad (0.5687500 0.4312500)  \n",
            "          34) purpose=A40,A410,A42,A43,A45,A46,A49 137  52 bad (0.6204380 0.3795620) *\n",
            "          35) purpose=A41 23   6 good (0.2608696 0.7391304) *\n",
            "       9) savings=A64,A65 41  12 good (0.2926829 0.7073171) *\n",
            "     5) duration< 22.5 306 106 good (0.3464052 0.6535948)  \n",
            "      10) history=A30,A31 28   7 bad (0.7500000 0.2500000) *\n",
            "      11) history=A32,A33,A34 278  85 good (0.3057554 0.6942446) *\n",
            "   3) check=A13,A14 457  60 good (0.1312910 0.8687090) *\n"
          ],
          "name": "stdout"
        }
      ]
    },
    {
      "cell_type": "code",
      "metadata": {
        "id": "7QbC6szrT1-D",
        "colab": {
          "base_uri": "https://localhost:8080/"
        },
        "outputId": "07f2639d-d36e-4a6c-dc93-9fc02109427d"
      },
      "source": [
        "#가지치기 후 모형 시각화\n",
        "plot(fit.prun.german, uniform=T, compress=T, margin=0.1)\n",
        "text(fit.prun.german, use.n = T, com = \"blue\")"
      ],
      "execution_count": null,
      "outputs": [
        {
          "output_type": "stream",
          "text": [
            "Warning message in text.default(xy$x, xy$y + 0.5 * cxy[2L], rows[left.child], ...):\n",
            "“\"com\" is not a graphical parameter”\n",
            "Warning message in text.default(xy$x[leaves], xy$y[leaves] - 0.5 * cxy[2L], stat, :\n",
            "“\"com\" is not a graphical parameter”\n"
          ],
          "name": "stderr"
        },
        {
          "output_type": "display_data",
          "data": {
            "image/png": "[encoded data removed]",
            "text/plain": [
              "plot without title"
            ]
          },
          "metadata": {
            "tags": [],
            "image/png": {
              "width": 420,
              "height": 420
            }
          }
        }
      ]
    },
    {
      "cell_type": "markdown",
      "metadata": {
        "id": "eg93iJgS63jF"
      },
      "source": [
        "설명\n",
        ">\n",
        "* 가장 아래 분할점 purpose=acdeghj : purpose 변수의 범주값 중 알파벳 순서로 1, 3, 4, 5, 7, 8, 10번째 범주값임(A40, A410, A42, A43, A45, A46, A49)\n",
        "* 또한 오분류울이 낮은 것중 최소 오분류율 표준편차의 1배 범위 내에 있는 것은 1-s.e법칙에 따라 선택하는 경우도 있다(가지치기 횟수를 줄이기 위해 사용)"
      ]
    },
    {
      "cell_type": "markdown",
      "metadata": {
        "id": "NyKyiU7sUBOe"
      },
      "source": [
        "## 목표변수의 분류예측치 & 정확도 평가\n",
        "* 참고 : newdata에서 같은 데이터를 사용해 분류예측치를 구하였고 동일한 형식의 새로운 데이터를 사용하면 예측치를 구하게됨\n",
        "* type = class : 분류나무의 집단값 예측결과를 의미함\n",
        "* type = \"vector\" : 회귀나무일경우 사용함함"
      ]
    },
    {
      "cell_type": "code",
      "metadata": {
        "id": "3o6NNpUBUBOl"
      },
      "source": [
        "#분류예측치 구하기\n",
        "pred.german <- predict(fit.prun.german, newdata = german, type= \"class\")"
      ],
      "execution_count": null,
      "outputs": []
    },
    {
      "cell_type": "code",
      "metadata": {
        "colab": {
          "base_uri": "https://localhost:8080/"
        },
        "id": "md0ApfwVUBOl",
        "outputId": "71fbf673-ca06-44a0-80f9-835b7abcb5a0"
      },
      "source": [
        "#오분류표\n",
        "tab = table(y, pred.german, dnn = c(\"Actual\", \"Predicted\"))\n",
        "print(tab)"
      ],
      "execution_count": null,
      "outputs": [
        {
          "output_type": "stream",
          "text": [
            "      Predicted\n",
            "Actual bad good\n",
            "  bad  137  163\n",
            "  good  64  636\n"
          ],
          "name": "stdout"
        }
      ]
    },
    {
      "cell_type": "code",
      "metadata": {
        "colab": {
          "base_uri": "https://localhost:8080/"
        },
        "id": "3kbWXSVTUBOm",
        "outputId": "35d3f0f9-a4ea-4240-8c3e-3f1f3655252a"
      },
      "source": [
        "#오분류울\n",
        "1-sum(diag(tab))/(sum(tab))"
      ],
      "execution_count": null,
      "outputs": [
        {
          "output_type": "display_data",
          "data": {
            "text/plain": [
              "[1] 0.227"
            ],
            "text/latex": "0.227",
            "text/markdown": "0.227",
            "text/html": [
              "0.227"
            ]
          },
          "metadata": {
            "tags": []
          }
        }
      ]
    },
    {
      "cell_type": "markdown",
      "metadata": {
        "id": "cv6RBE6W_xm3"
      },
      "source": [
        "## 훈련/검증데이터를 이용한 분류예측치 & 정확도평가"
      ]
    },
    {
      "cell_type": "code",
      "metadata": {
        "colab": {
          "base_uri": "https://localhost:8080/"
        },
        "id": "jx-yHembUBOm",
        "outputId": "7d670214-7398-4774-c96c-b00d7d2e5159"
      },
      "source": [
        "#분류나무 평가하기\n",
        "set.seed(1234)\n",
        "\n",
        "#german데이터의 70%를 훈련데이터 / 30%를 검증데이터로 랜분류나무 평가하기\n",
        "i = sample(1:nrow(german), round(nrow(german)*0.7))\n",
        "german.train <- german[i, ]\n",
        "german.test <- german[-i,]\n",
        "\n",
        "#훈련데이터로 학습\n",
        "fit.german.train <- rpart(y ~ .,data = german.train, method=\"class\", control = my.control.german)\n",
        "printcp(fit.german.train)"
      ],
      "execution_count": null,
      "outputs": [
        {
          "output_type": "stream",
          "text": [
            "\n",
            "Classification tree:\n",
            "rpart(formula = y ~ ., data = german.train, method = \"class\", \n",
            "    control = my.control.german)\n",
            "\n",
            "Variables actually used in tree construction:\n",
            " [1] age         check       credit      duration    employment  history    \n",
            " [7] housing     installment job         others      personal    property   \n",
            "[13] purpose     residence   residpeople savings     telephone  \n",
            "\n",
            "Root node error: 209/700 = 0.29857\n",
            "\n",
            "n= 700 \n",
            "\n",
            "          CP nsplit rel error  xerror     xstd\n",
            "1  0.0861244      0   1.00000 1.00000 0.057932\n",
            "2  0.0382775      3   0.74163 0.82297 0.054499\n",
            "3  0.0167464      4   0.70335 0.77033 0.053274\n",
            "4  0.0159490      6   0.66986 0.79426 0.053843\n",
            "5  0.0143541      9   0.62201 0.80383 0.054065\n",
            "6  0.0119617     12   0.57895 0.84211 0.054920\n",
            "7  0.0095694     14   0.55502 0.85167 0.055125\n",
            "8  0.0076555     28   0.40670 0.85167 0.055125\n",
            "9  0.0071770     33   0.36842 0.86603 0.055428\n",
            "10 0.0059809     37   0.33971 0.89474 0.056012\n",
            "11 0.0047847     41   0.31579 0.90431 0.056201\n",
            "12 0.0031898     54   0.25359 0.93780 0.056839\n",
            "13 0.0011962     68   0.19617 0.95694 0.057188\n",
            "14 0.0000000     72   0.19139 0.96172 0.057273\n"
          ],
          "name": "stdout"
        }
      ]
    },
    {
      "cell_type": "markdown",
      "metadata": {
        "id": "P_7XiPxB--fT"
      },
      "source": [
        "해석\n",
        ">\n",
        "* 데이터의 70%를 랜덤하게 훈련데이터로 할당하고 30%는 검증데이터로 할당\n",
        "* 훈련데이터로 의사결정나무 적합시키고, 비용복잡함수에 의한 다양항 크기의 나무구조를 출력함\n",
        "* 교차타당성 최소오류율은 3번째 나무구조임(0.77033)"
      ]
    },
    {
      "cell_type": "code",
      "metadata": {
        "colab": {
          "base_uri": "https://localhost:8080/"
        },
        "id": "uwb4-ITWUBOn",
        "outputId": "862daad2-2d5c-42eb-d13b-706ea25c1146"
      },
      "source": [
        "#cp = 0.0167464 로 훈련데이터의 나무구조 가지치기\n",
        "fit.prun.german.train <- prune(fit.german.train, cp = 0.0167464)\n",
        "print(fit.prun.german.train)"
      ],
      "execution_count": null,
      "outputs": [
        {
          "output_type": "stream",
          "text": [
            "n= 700 \n",
            "\n",
            "node), split, n, loss, yval, (yprob)\n",
            "      * denotes terminal node\n",
            "\n",
            " 1) root 700 209 good (0.29857143 0.70142857)  \n",
            "   2) check=A11,A12 360 168 good (0.46666667 0.53333333)  \n",
            "     4) history=A30,A31 45  10 bad (0.77777778 0.22222222) *\n",
            "     5) history=A32,A33,A34 315 133 good (0.42222222 0.57777778)  \n",
            "      10) duration>=27.5 81  26 bad (0.67901235 0.32098765) *\n",
            "      11) duration< 27.5 234  78 good (0.33333333 0.66666667)  \n",
            "        22) credit>=8472 8   0 bad (1.00000000 0.00000000) *\n",
            "        23) credit< 8472 226  70 good (0.30973451 0.69026549) *\n",
            "   3) check=A13,A14 340  41 good (0.12058824 0.87941176)  \n",
            "     6) purpose=A49 36  12 good (0.33333333 0.66666667)  \n",
            "      12) employment=A71,A72 7   0 bad (1.00000000 0.00000000) *\n",
            "      13) employment=A73,A74,A75 29   5 good (0.17241379 0.82758621) *\n",
            "     7) purpose=A40,A41,A42,A43,A44,A45,A46,A48 304  29 good (0.09539474 0.90460526) *\n"
          ],
          "name": "stdout"
        }
      ]
    },
    {
      "cell_type": "code",
      "metadata": {
        "colab": {
          "base_uri": "https://localhost:8080/"
        },
        "id": "AQeREMPoUBOn",
        "outputId": "276c46cc-6ea1-4d83-aa96-38e9863865c3"
      },
      "source": [
        "#30%의 검증데이터로 분류예측치 구하기\n",
        "p.german.test = predict(fit.prun.german.train, newdata=german.test, type = \"class\")\n",
        "tab = table(german.test$y, p.german.test, dnn = c(\"Actual\", \"Predicted\"))\n",
        "print(tab)"
      ],
      "execution_count": null,
      "outputs": [
        {
          "output_type": "stream",
          "text": [
            "      Predicted\n",
            "Actual bad good\n",
            "  bad   25   66\n",
            "  good  29  180\n"
          ],
          "name": "stdout"
        }
      ]
    },
    {
      "cell_type": "code",
      "metadata": {
        "colab": {
          "base_uri": "https://localhost:8080/",
          "height": 34
        },
        "id": "r4eC7Q0NAQ5Z",
        "outputId": "5320e8fc-3cf1-4387-d8e1-497a7f4b26c7"
      },
      "source": [
        "# 오분류율\n",
        "1- sum(diag(tab))/sum(tab)"
      ],
      "execution_count": null,
      "outputs": [
        {
          "output_type": "display_data",
          "data": {
            "text/plain": [
              "[1] 0.3166667"
            ],
            "text/latex": "0.316666666666667",
            "text/markdown": "0.316666666666667",
            "text/html": [
              "0.316666666666667"
            ]
          },
          "metadata": {
            "tags": []
          }
        }
      ]
    },
    {
      "cell_type": "markdown",
      "metadata": {
        "id": "VcpzYJKPAfYu"
      },
      "source": [
        "#회귀나무모형(보스턴하우징데이터)\n",
        ">보스턴하우징데이터\n",
        "* chas, rad : 범주형 입력변수\n",
        "* 그외 : 연속형 입력변수\n",
        "* medv : 목표변수"
      ]
    },
    {
      "cell_type": "markdown",
      "metadata": {
        "id": "tnZp7s511rXp"
      },
      "source": [
        "##CART방법 회귀나무모형"
      ]
    },
    {
      "cell_type": "code",
      "metadata": {
        "colab": {
          "base_uri": "https://localhost:8080/",
          "height": 586
        },
        "id": "TXfxGihz1qL6",
        "outputId": "cc277d64-f76f-4b45-ff8e-4bc66adfc38f"
      },
      "source": [
        "#데이터 가져오기\n",
        "library(MASS)\n",
        "Boston$chas = factor(Boston$chas)\n",
        "Boston$rad = factor(Boston$rad)\n",
        "attach(Boston)\n",
        "summary(Boston)"
      ],
      "execution_count": 4,
      "outputs": [
        {
          "output_type": "display_data",
          "data": {
            "text/plain": [
              "      crim                zn             indus       chas         nox        \n",
              " Min.   : 0.00632   Min.   :  0.00   Min.   : 0.46   0:471   Min.   :0.3850  \n",
              " 1st Qu.: 0.08205   1st Qu.:  0.00   1st Qu.: 5.19   1: 35   1st Qu.:0.4490  \n",
              " Median : 0.25651   Median :  0.00   Median : 9.69           Median :0.5380  \n",
              " Mean   : 3.61352   Mean   : 11.36   Mean   :11.14           Mean   :0.5547  \n",
              " 3rd Qu.: 3.67708   3rd Qu.: 12.50   3rd Qu.:18.10           3rd Qu.:0.6240  \n",
              " Max.   :88.97620   Max.   :100.00   Max.   :27.74           Max.   :0.8710  \n",
              "                                                                             \n",
              "       rm             age              dis              rad     \n",
              " Min.   :3.561   Min.   :  2.90   Min.   : 1.130   24     :132  \n",
              " 1st Qu.:5.886   1st Qu.: 45.02   1st Qu.: 2.100   5      :115  \n",
              " Median :6.208   Median : 77.50   Median : 3.207   4      :110  \n",
              " Mean   :6.285   Mean   : 68.57   Mean   : 3.795   3      : 38  \n",
              " 3rd Qu.:6.623   3rd Qu.: 94.08   3rd Qu.: 5.188   6      : 26  \n",
              " Max.   :8.780   Max.   :100.00   Max.   :12.127   2      : 24  \n",
              "                                                   (Other): 61  \n",
              "      tax           ptratio          black            lstat      \n",
              " Min.   :187.0   Min.   :12.60   Min.   :  0.32   Min.   : 1.73  \n",
              " 1st Qu.:279.0   1st Qu.:17.40   1st Qu.:375.38   1st Qu.: 6.95  \n",
              " Median :330.0   Median :19.05   Median :391.44   Median :11.36  \n",
              " Mean   :408.2   Mean   :18.46   Mean   :356.67   Mean   :12.65  \n",
              " 3rd Qu.:666.0   3rd Qu.:20.20   3rd Qu.:396.23   3rd Qu.:16.95  \n",
              " Max.   :711.0   Max.   :22.00   Max.   :396.90   Max.   :37.97  \n",
              "                                                                 \n",
              "      medv      \n",
              " Min.   : 5.00  \n",
              " 1st Qu.:17.02  \n",
              " Median :21.20  \n",
              " Mean   :22.53  \n",
              " 3rd Qu.:25.00  \n",
              " Max.   :50.00  \n",
              "                "
            ]
          },
          "metadata": {
            "tags": []
          }
        }
      ]
    },
    {
      "cell_type": "code",
      "metadata": {
        "colab": {
          "base_uri": "https://localhost:8080/"
        },
        "id": "l3aF3_pV2DwW",
        "outputId": "26a7f39b-ceb9-442f-f181-06ef36a81a1d"
      },
      "source": [
        "#CART 회귀나무모형 실행\n",
        "library(rpart)\n",
        "my.control.boston <- rpart.control(xval = 10, cp=0, minsplit = nrow(Boston)*0.05)\n",
        "fit.Boston = rpart(medv ~ ., data = Boston, method = \"anova\", control = my.control.boston)\n",
        "print(fit.Boston)"
      ],
      "execution_count": 6,
      "outputs": [
        {
          "output_type": "stream",
          "text": [
            "n= 506 \n",
            "\n",
            "node), split, n, deviance, yval\n",
            "      * denotes terminal node\n",
            "\n",
            "   1) root 506 42716.30000 22.532810  \n",
            "     2) rm< 6.941 430 17317.32000 19.933720  \n",
            "       4) lstat>=14.4 175  3373.25100 14.956000  \n",
            "         8) crim>=6.99237 74  1085.90500 11.978380  \n",
            "          16) nox>=0.6055 62   552.28840 11.077420  \n",
            "            32) lstat>=19.645 44   271.79180  9.913636  \n",
            "              64) nox>=0.675 34   160.86260  9.114706  \n",
            "               128) crim>=13.2402 19    52.44737  8.052632 *\n",
            "               129) crim< 13.2402 15    59.83600 10.460000 *\n",
            "              65) nox< 0.675 10    15.44100 12.630000 *\n",
            "            33) lstat< 19.645 18    75.23111 13.922220 *\n",
            "          17) nox< 0.6055 12   223.26670 16.633330 *\n",
            "         9) crim< 6.99237 101  1150.53700 17.137620  \n",
            "          18) nox>=0.531 77   672.46310 16.238960  \n",
            "            36) lstat>=18.885 24   188.67830 14.041670 *\n",
            "            37) lstat< 18.885 53   315.43890 17.233960  \n",
            "              74) age>=85.2 41   187.72980 16.597560  \n",
            "               148) crim>=0.614845 25    63.97040 15.628000  \n",
            "                 296) lstat>=17.275 10    10.12100 14.730000 *\n",
            "                 297) lstat< 17.275 15    40.40933 16.226670 *\n",
            "               149) crim< 0.614845 16    63.53750 18.112500 *\n",
            "              75) age< 85.2 12    54.36917 19.408330 *\n",
            "          19) nox< 0.531 24   216.37960 20.020830 *\n",
            "       5) lstat< 14.4 255  6632.21700 23.349800  \n",
            "        10) lstat>=4.91 235  4223.80700 22.650640  \n",
            "          20) lstat>=9.715 113   734.87770 20.769910  \n",
            "            40) ptratio>=17.85 80   396.76190 20.318750  \n",
            "              80) indus< 10.245 44   191.40430 19.661360  \n",
            "               160) age>=70.1 18    48.02500 18.750000 *\n",
            "               161) age< 70.1 26   118.07850 20.292310  \n",
            "                 322) rm< 5.909 13    31.14308 19.076920 *\n",
            "                 323) rm>=5.909 13    48.52923 21.507690 *\n",
            "              81) indus>=10.245 36   163.10220 21.122220  \n",
            "               162) nox< 0.6275 24    98.23333 20.783330 *\n",
            "               163) nox>=0.6275 12    56.60000 21.800000 *\n",
            "            41) ptratio< 17.85 33   282.35640 21.863640  \n",
            "              82) rad=1,4,6 13    33.26923 20.192310 *\n",
            "              83) rad=3,5,8 20   189.17000 22.950000 *\n",
            "          21) lstat< 9.715 122  2719.02300 24.392620  \n",
            "            42) age< 88.65 114  1259.52300 23.830700  \n",
            "              84) rm< 6.1245 30   186.77470 20.853330  \n",
            "               168) crim< 0.0478 8    66.42000 19.150000 *\n",
            "               169) crim>=0.0478 22    88.70364 21.472730 *\n",
            "              85) rm>=6.1245 84   711.82700 24.894050  \n",
            "               170) rm< 6.611 61   411.85740 24.006560  \n",
            "                 340) rad=1,2,4,5,6,7,8 53   227.81920 23.603770  \n",
            "                   680) crim< 0.052215 20    75.80800 22.560000 *\n",
            "                   681) crim>=0.052215 33   117.01640 24.236360  \n",
            "                    1362) rm< 6.4815 22    41.15864 23.722730 *\n",
            "                    1363) rm>=6.4815 11    58.44545 25.263640 *\n",
            "                 341) rad=3,24 8   118.47500 26.675000 *\n",
            "               171) rm>=6.611 23   124.49740 27.247830 *\n",
            "            43) age>=88.65 8   910.56000 32.400000 *\n",
            "        11) lstat< 4.91 20   943.74550 31.565000 *\n",
            "     3) rm>=6.941 76  6059.41900 37.238160  \n",
            "       6) rm< 7.437 46  1899.61200 32.113040  \n",
            "        12) lstat>=9.1 8   533.98000 24.400000 *\n",
            "        13) lstat< 9.1 38   789.50840 33.736840  \n",
            "          26) rad=1,2,7,8 17   188.25060 31.423530 *\n",
            "          27) rad=3,4,5,24 21   436.63810 35.609520 *\n",
            "       7) rm>=7.437 30  1098.85000 45.096670  \n",
            "        14) rad=2,3,7,24 9   495.70000 39.833330 *\n",
            "        15) rad=1,4,5,8 21   246.97240 47.352380 *\n"
          ],
          "name": "stdout"
        }
      ]
    },
    {
      "cell_type": "code",
      "metadata": {
        "colab": {
          "base_uri": "https://localhost:8080/"
        },
        "id": "pOjI1zpG219w",
        "outputId": "e28bc9bc-fb24-4cc5-af21-646ec6534acc"
      },
      "source": [
        "#비용복잡함수a와 교차타당성 오류율\n",
        "printcp(fit.Boston)"
      ],
      "execution_count": 7,
      "outputs": [
        {
          "output_type": "stream",
          "text": [
            "\n",
            "Regression tree:\n",
            "rpart(formula = medv ~ ., data = Boston, method = \"anova\", control = my.control.boston)\n",
            "\n",
            "Variables actually used in tree construction:\n",
            "[1] age     crim    indus   lstat   nox     ptratio rad     rm     \n",
            "\n",
            "Root node error: 42716/506 = 84.42\n",
            "\n",
            "n= 506 \n",
            "\n",
            "           CP nsplit rel error  xerror     xstd\n",
            "1  0.45274420      0   1.00000 1.00265 0.083025\n",
            "2  0.17117244      1   0.54726 0.62510 0.057106\n",
            "3  0.07165784      2   0.37608 0.43869 0.045726\n",
            "4  0.03428819      3   0.30443 0.35374 0.043063\n",
            "5  0.02661300      4   0.27014 0.32365 0.042899\n",
            "6  0.01802372      5   0.24352 0.30388 0.040154\n",
            "7  0.01348721      6   0.22550 0.29187 0.040403\n",
            "8  0.01285085      7   0.21201 0.27959 0.040408\n",
            "9  0.00844925      8   0.19916 0.27645 0.039350\n",
            "10 0.00833821      9   0.19071 0.27633 0.039283\n",
            "11 0.00726539     10   0.18238 0.26660 0.036513\n",
            "12 0.00612633     11   0.17511 0.24182 0.029830\n",
            "13 0.00480532     12   0.16898 0.23700 0.029556\n",
            "14 0.00410785     13   0.16418 0.22706 0.029307\n",
            "15 0.00394102     14   0.16007 0.22783 0.029555\n",
            "16 0.00385379     15   0.15613 0.22736 0.029555\n",
            "17 0.00223540     16   0.15228 0.21585 0.027986\n",
            "18 0.00171691     17   0.15004 0.21426 0.027787\n",
            "19 0.00153485     18   0.14832 0.21520 0.027786\n",
            "20 0.00140981     19   0.14679 0.21505 0.027768\n",
            "21 0.00135401     20   0.14538 0.21491 0.027760\n",
            "22 0.00113725     22   0.14267 0.21547 0.027733\n",
            "23 0.00098921     23   0.14153 0.21460 0.027715\n",
            "24 0.00081924     24   0.14054 0.21512 0.027640\n",
            "25 0.00074570     25   0.13972 0.21487 0.027627\n",
            "26 0.00074096     27   0.13823 0.21380 0.027502\n",
            "27 0.00040763     28   0.13749 0.21274 0.027501\n",
            "28 0.00031464     29   0.13708 0.21228 0.027473\n",
            "29 0.00019358     30   0.13677 0.21236 0.027486\n",
            "30 0.00000000     31   0.13658 0.21204 0.027489\n"
          ],
          "name": "stdout"
        }
      ]
    },
    {
      "cell_type": "markdown",
      "metadata": {
        "id": "odiExwUj4LwO"
      },
      "source": [
        "해석\n",
        ">\n",
        "* 오류율 최소 나무구조 30번째, cp = 0\n",
        "* 1-s.e법칙 : 최소교차타당성 오류율 + 표준편차 (0.21204+0.027489) = 0.239529\n",
        "* 0.239529보다 교차타당성 오분류율이 작고 가장 적은 크기 나무구조 : 13번 나무구조(0.23700, cp = 0.00480532)"
      ]
    },
    {
      "cell_type": "markdown",
      "metadata": {
        "id": "fqYlZHsC8ugL"
      },
      "source": [
        "## 가지치기"
      ]
    },
    {
      "cell_type": "code",
      "metadata": {
        "colab": {
          "base_uri": "https://localhost:8080/"
        },
        "id": "g4lUeosK3vyX",
        "outputId": "f2609fb1-24fe-4acb-d728-3ac326d4e496"
      },
      "source": [
        "#가지치기 실행\n",
        "fit.prun.Boston <- prune(fit.Boston, cp = 0.00480532)\n",
        "print(fit.prun.Boston)"
      ],
      "execution_count": 8,
      "outputs": [
        {
          "output_type": "stream",
          "text": [
            "n= 506 \n",
            "\n",
            "node), split, n, deviance, yval\n",
            "      * denotes terminal node\n",
            "\n",
            " 1) root 506 42716.3000 22.53281  \n",
            "   2) rm< 6.941 430 17317.3200 19.93372  \n",
            "     4) lstat>=14.4 175  3373.2510 14.95600  \n",
            "       8) crim>=6.99237 74  1085.9050 11.97838  \n",
            "        16) nox>=0.6055 62   552.2884 11.07742 *\n",
            "        17) nox< 0.6055 12   223.2667 16.63333 *\n",
            "       9) crim< 6.99237 101  1150.5370 17.13762  \n",
            "        18) nox>=0.531 77   672.4631 16.23896 *\n",
            "        19) nox< 0.531 24   216.3796 20.02083 *\n",
            "     5) lstat< 14.4 255  6632.2170 23.34980  \n",
            "      10) lstat>=4.91 235  4223.8070 22.65064  \n",
            "        20) lstat>=9.715 113   734.8777 20.76991 *\n",
            "        21) lstat< 9.715 122  2719.0230 24.39262  \n",
            "          42) age< 88.65 114  1259.5230 23.83070  \n",
            "            84) rm< 6.1245 30   186.7747 20.85333 *\n",
            "            85) rm>=6.1245 84   711.8270 24.89405 *\n",
            "          43) age>=88.65 8   910.5600 32.40000 *\n",
            "      11) lstat< 4.91 20   943.7455 31.56500 *\n",
            "   3) rm>=6.941 76  6059.4190 37.23816  \n",
            "     6) rm< 7.437 46  1899.6120 32.11304  \n",
            "      12) lstat>=9.1 8   533.9800 24.40000 *\n",
            "      13) lstat< 9.1 38   789.5084 33.73684 *\n",
            "     7) rm>=7.437 30  1098.8500 45.09667  \n",
            "      14) rad=2,3,7,24 9   495.7000 39.83333 *\n",
            "      15) rad=1,4,5,8 21   246.9724 47.35238 *\n"
          ],
          "name": "stdout"
        }
      ]
    },
    {
      "cell_type": "code",
      "metadata": {
        "colab": {
          "base_uri": "https://localhost:8080/",
          "height": 437
        },
        "id": "8CtQIWZH6KjT",
        "outputId": "752b55ac-49ac-43a8-c4bb-4c652f148f84"
      },
      "source": [
        "#가지치기한 나무모형 시각화\n",
        "plot(fit.prun.Boston, uniform = T, compress = T, margin = 0.1)\n",
        "text(fit.prun.Boston, use.n = T, col = \"blue\")"
      ],
      "execution_count": 14,
      "outputs": [
        {
          "output_type": "display_data",
          "data": {
            "image/png": "[encoded data removed]",
            "text/plain": [
              "plot without title"
            ]
          },
          "metadata": {
            "tags": [],
            "image/png": {
              "width": 420,
              "height": 420
            }
          }
        }
      ]
    },
    {
      "cell_type": "code",
      "metadata": {
        "colab": {
          "base_uri": "https://localhost:8080/"
        },
        "id": "cm8NYzBk6cFz",
        "outputId": "73268864-d4f9-4661-8ff5-b33d2fbd72f2"
      },
      "source": [
        "# 나무모형의 구체적사항 출력\n",
        "summary(fit.prun.Boston)"
      ],
      "execution_count": 15,
      "outputs": [
        {
          "output_type": "stream",
          "text": [
            "Call:\n",
            "rpart(formula = medv ~ ., data = Boston, method = \"anova\", control = my.control.boston)\n",
            "  n= 506 \n",
            "\n",
            "            CP nsplit rel error    xerror       xstd\n",
            "1  0.452744201      0 1.0000000 1.0026474 0.08302479\n",
            "2  0.171172436      1 0.5472558 0.6250965 0.05710639\n",
            "3  0.071657841      2 0.3760834 0.4386912 0.04572626\n",
            "4  0.034288193      3 0.3044255 0.3537395 0.04306267\n",
            "5  0.026613000      4 0.2701373 0.3236497 0.04289904\n",
            "6  0.018023715      5 0.2435243 0.3038814 0.04015364\n",
            "7  0.013487212      6 0.2255006 0.2918667 0.04040259\n",
            "8  0.012850853      7 0.2120134 0.2795886 0.04040829\n",
            "9  0.008449255      8 0.1991625 0.2764480 0.03934954\n",
            "10 0.008338206      9 0.1907133 0.2763296 0.03928262\n",
            "11 0.007265385     10 0.1823751 0.2666021 0.03651334\n",
            "12 0.006126335     11 0.1751097 0.2418226 0.02982952\n",
            "13 0.004805320     12 0.1689834 0.2369991 0.02955627\n",
            "\n",
            "Variable importance\n",
            "     rm   lstat   indus     nox     age ptratio     dis     tax    crim      zn \n",
            "     30      22       8       7       7       6       6       5       3       2 \n",
            "    rad   black \n",
            "      2       1 \n",
            "\n",
            "Node number 1: 506 observations,    complexity param=0.4527442\n",
            "  mean=22.53281, MSE=84.41956 \n",
            "  left son=2 (430 obs) right son=3 (76 obs)\n",
            "  Primary splits:\n",
            "      rm      < 6.941    to the left,  improve=0.4527442, (0 missing)\n",
            "      lstat   < 9.725    to the right, improve=0.4423650, (0 missing)\n",
            "      indus   < 6.66     to the right, improve=0.2594613, (0 missing)\n",
            "      ptratio < 19.9     to the right, improve=0.2443727, (0 missing)\n",
            "      nox     < 0.6695   to the right, improve=0.2232456, (0 missing)\n",
            "  Surrogate splits:\n",
            "      lstat   < 4.83     to the right, agree=0.891, adj=0.276, (0 split)\n",
            "      ptratio < 14.55    to the right, agree=0.875, adj=0.171, (0 split)\n",
            "      zn      < 87.5     to the left,  agree=0.862, adj=0.079, (0 split)\n",
            "      indus   < 1.605    to the right, agree=0.862, adj=0.079, (0 split)\n",
            "      crim    < 0.013355 to the right, agree=0.852, adj=0.013, (0 split)\n",
            "\n",
            "Node number 2: 430 observations,    complexity param=0.1711724\n",
            "  mean=19.93372, MSE=40.27284 \n",
            "  left son=4 (175 obs) right son=5 (255 obs)\n",
            "  Primary splits:\n",
            "      lstat   < 14.4     to the right, improve=0.4222277, (0 missing)\n",
            "      nox     < 0.6695   to the right, improve=0.2775455, (0 missing)\n",
            "      crim    < 5.84803  to the right, improve=0.2483622, (0 missing)\n",
            "      ptratio < 19.9     to the right, improve=0.2199328, (0 missing)\n",
            "      age     < 75.75    to the right, improve=0.2089435, (0 missing)\n",
            "  Surrogate splits:\n",
            "      age   < 84.3     to the right, agree=0.814, adj=0.543, (0 split)\n",
            "      indus < 16.57    to the right, agree=0.781, adj=0.463, (0 split)\n",
            "      nox   < 0.5765   to the right, agree=0.781, adj=0.463, (0 split)\n",
            "      dis   < 2.23935  to the left,  agree=0.781, adj=0.463, (0 split)\n",
            "      tax   < 434.5    to the right, agree=0.774, adj=0.446, (0 split)\n",
            "\n",
            "Node number 3: 76 observations,    complexity param=0.07165784\n",
            "  mean=37.23816, MSE=79.7292 \n",
            "  left son=6 (46 obs) right son=7 (30 obs)\n",
            "  Primary splits:\n",
            "      rm      < 7.437    to the left,  improve=0.5051569, (0 missing)\n",
            "      lstat   < 4.68     to the right, improve=0.3318914, (0 missing)\n",
            "      ptratio < 19.7     to the right, improve=0.2498786, (0 missing)\n",
            "      rad     splits as  LLRRR-LRL,    improve=0.1926083, (0 missing)\n",
            "      crim    < 1.92198  to the right, improve=0.1402915, (0 missing)\n",
            "  Surrogate splits:\n",
            "      lstat   < 3.99     to the right, agree=0.776, adj=0.433, (0 split)\n",
            "      ptratio < 14.75    to the right, agree=0.671, adj=0.167, (0 split)\n",
            "      black   < 389.885  to the right, agree=0.658, adj=0.133, (0 split)\n",
            "      crim    < 0.11276  to the left,  agree=0.645, adj=0.100, (0 split)\n",
            "      indus   < 18.84    to the left,  agree=0.645, adj=0.100, (0 split)\n",
            "\n",
            "Node number 4: 175 observations,    complexity param=0.026613\n",
            "  mean=14.956, MSE=19.27572 \n",
            "  left son=8 (74 obs) right son=9 (101 obs)\n",
            "  Primary splits:\n",
            "      crim  < 6.99237  to the right, improve=0.3370069, (0 missing)\n",
            "      nox   < 0.607    to the right, improve=0.3307926, (0 missing)\n",
            "      dis   < 2.0037   to the left,  improve=0.2927244, (0 missing)\n",
            "      tax   < 567.5    to the right, improve=0.2825858, (0 missing)\n",
            "      lstat < 19.83    to the right, improve=0.2696497, (0 missing)\n",
            "  Surrogate splits:\n",
            "      rad     splits as  -RRRRRRRL,    agree=0.880, adj=0.716, (0 split)\n",
            "      tax     < 567.5    to the right, agree=0.857, adj=0.662, (0 split)\n",
            "      nox     < 0.657    to the right, agree=0.760, adj=0.432, (0 split)\n",
            "      dis     < 2.202    to the left,  agree=0.737, adj=0.378, (0 split)\n",
            "      ptratio < 20.15    to the right, agree=0.720, adj=0.338, (0 split)\n",
            "\n",
            "Node number 5: 255 observations,    complexity param=0.03428819\n",
            "  mean=23.3498, MSE=26.0087 \n",
            "  left son=10 (235 obs) right son=11 (20 obs)\n",
            "  Primary splits:\n",
            "      lstat < 4.91     to the right, improve=0.22084090, (0 missing)\n",
            "      rm    < 6.543    to the left,  improve=0.21720990, (0 missing)\n",
            "      dis   < 1.6009   to the right, improve=0.18994250, (0 missing)\n",
            "      crim  < 4.866945 to the left,  improve=0.06629933, (0 missing)\n",
            "      chas  splits as  LR,           improve=0.06223827, (0 missing)\n",
            "  Surrogate splits:\n",
            "      zn < 87.5     to the left,  agree=0.929, adj=0.1, (0 split)\n",
            "\n",
            "Node number 6: 46 observations,    complexity param=0.01348721\n",
            "  mean=32.11304, MSE=41.29592 \n",
            "  left son=12 (8 obs) right son=13 (38 obs)\n",
            "  Primary splits:\n",
            "      lstat   < 9.1      to the right, improve=0.3032849, (0 missing)\n",
            "      rad     splits as  LLRRR-RLL,    improve=0.2001608, (0 missing)\n",
            "      ptratio < 18.9     to the right, improve=0.1833821, (0 missing)\n",
            "      nox     < 0.639    to the right, improve=0.1663927, (0 missing)\n",
            "      indus   < 9.5      to the right, improve=0.1521488, (0 missing)\n",
            "  Surrogate splits:\n",
            "      nox  < 0.6095   to the right, agree=0.913, adj=0.500, (0 split)\n",
            "      crim < 0.724605 to the right, agree=0.891, adj=0.375, (0 split)\n",
            "      dis  < 2.61675  to the left,  agree=0.870, adj=0.250, (0 split)\n",
            "      rad  splits as  RRRRR-RRL,    agree=0.870, adj=0.250, (0 split)\n",
            "      tax  < 534.5    to the right, agree=0.870, adj=0.250, (0 split)\n",
            "\n",
            "Node number 7: 30 observations,    complexity param=0.008338206\n",
            "  mean=45.09667, MSE=36.62832 \n",
            "  left son=14 (9 obs) right son=15 (21 obs)\n",
            "  Primary splits:\n",
            "      rad     splits as  RLLRR-LRL,    improve=0.32413650, (0 missing)\n",
            "      ptratio < 15.4     to the right, improve=0.25849790, (0 missing)\n",
            "      lstat   < 4.175    to the right, improve=0.07517194, (0 missing)\n",
            "      crim    < 0.063585 to the right, improve=0.05970297, (0 missing)\n",
            "      age     < 84.9     to the left,  improve=0.05439904, (0 missing)\n",
            "  Surrogate splits:\n",
            "      ptratio < 17.6     to the right, agree=0.933, adj=0.778, (0 split)\n",
            "      black   < 390.66   to the right, agree=0.833, adj=0.444, (0 split)\n",
            "      dis     < 6.0775   to the right, agree=0.800, adj=0.333, (0 split)\n",
            "      nox     < 0.496    to the left,  agree=0.767, adj=0.222, (0 split)\n",
            "      age     < 16.35    to the left,  agree=0.767, adj=0.222, (0 split)\n",
            "\n",
            "Node number 8: 74 observations,    complexity param=0.007265385\n",
            "  mean=11.97838, MSE=14.6744 \n",
            "  left son=16 (62 obs) right son=17 (12 obs)\n",
            "  Primary splits:\n",
            "      nox   < 0.6055   to the right, improve=0.28579870, (0 missing)\n",
            "      lstat < 19.85    to the right, improve=0.23736110, (0 missing)\n",
            "      crim  < 15.718   to the right, improve=0.15710630, (0 missing)\n",
            "      dis   < 2.0122   to the left,  improve=0.15472990, (0 missing)\n",
            "      rm    < 5.9965   to the left,  improve=0.07222882, (0 missing)\n",
            "  Surrogate splits:\n",
            "      age < 73.75    to the right, agree=0.892, adj=0.333, (0 split)\n",
            "      rm  < 6.8285   to the left,  agree=0.865, adj=0.167, (0 split)\n",
            "      dis < 2.8034   to the left,  agree=0.865, adj=0.167, (0 split)\n",
            "\n",
            "Node number 9: 101 observations,    complexity param=0.006126335\n",
            "  mean=17.13762, MSE=11.39146 \n",
            "  left son=18 (77 obs) right son=19 (24 obs)\n",
            "  Primary splits:\n",
            "      nox     < 0.531    to the right, improve=0.2274541, (0 missing)\n",
            "      age     < 73.3     to the right, improve=0.2075790, (0 missing)\n",
            "      crim    < 0.18118  to the right, improve=0.1962823, (0 missing)\n",
            "      dis     < 1.9864   to the left,  improve=0.1862734, (0 missing)\n",
            "      ptratio < 19.45    to the right, improve=0.1769808, (0 missing)\n",
            "  Surrogate splits:\n",
            "      indus < 8.005    to the right, agree=0.891, adj=0.542, (0 split)\n",
            "      dis   < 5.06645  to the left,  agree=0.881, adj=0.500, (0 split)\n",
            "      zn    < 6.25     to the left,  agree=0.842, adj=0.333, (0 split)\n",
            "      age   < 70.95    to the right, agree=0.832, adj=0.292, (0 split)\n",
            "      rad   splits as  -LRLLLRRL,    agree=0.832, adj=0.292, (0 split)\n",
            "\n",
            "Node number 10: 235 observations,    complexity param=0.01802372\n",
            "  mean=22.65064, MSE=17.97365 \n",
            "  left son=20 (113 obs) right son=21 (122 obs)\n",
            "  Primary splits:\n",
            "      lstat < 9.715    to the right, improve=0.18227780, (0 missing)\n",
            "      rm    < 6.543    to the left,  improve=0.14702280, (0 missing)\n",
            "      crim  < 7.24712  to the left,  improve=0.07175414, (0 missing)\n",
            "      dis   < 1.6156   to the right, improve=0.06823983, (0 missing)\n",
            "      tax   < 222.5    to the right, improve=0.06419443, (0 missing)\n",
            "  Surrogate splits:\n",
            "      nox   < 0.519    to the right, agree=0.728, adj=0.434, (0 split)\n",
            "      indus < 7.625    to the right, agree=0.711, adj=0.398, (0 split)\n",
            "      rm    < 6.0285   to the left,  agree=0.706, adj=0.389, (0 split)\n",
            "      crim  < 0.130245 to the right, agree=0.698, adj=0.372, (0 split)\n",
            "      age   < 58.75    to the right, agree=0.685, adj=0.345, (0 split)\n",
            "\n",
            "Node number 11: 20 observations\n",
            "  mean=31.565, MSE=47.18727 \n",
            "\n",
            "Node number 12: 8 observations\n",
            "  mean=24.4, MSE=66.7475 \n",
            "\n",
            "Node number 13: 38 observations\n",
            "  mean=33.73684, MSE=20.77654 \n",
            "\n",
            "Node number 14: 9 observations\n",
            "  mean=39.83333, MSE=55.07778 \n",
            "\n",
            "Node number 15: 21 observations\n",
            "  mean=47.35238, MSE=11.76059 \n",
            "\n",
            "Node number 16: 62 observations\n",
            "  mean=11.07742, MSE=8.907877 \n",
            "\n",
            "Node number 17: 12 observations\n",
            "  mean=16.63333, MSE=18.60556 \n",
            "\n",
            "Node number 18: 77 observations\n",
            "  mean=16.23896, MSE=8.733287 \n",
            "\n",
            "Node number 19: 24 observations\n",
            "  mean=20.02083, MSE=9.015816 \n",
            "\n",
            "Node number 20: 113 observations\n",
            "  mean=20.76991, MSE=6.503342 \n",
            "\n",
            "Node number 21: 122 observations,    complexity param=0.01285085\n",
            "  mean=24.39262, MSE=22.28708 \n",
            "  left son=42 (114 obs) right son=43 (8 obs)\n",
            "  Primary splits:\n",
            "      age   < 88.65    to the left,  improve=0.2018890, (0 missing)\n",
            "      nox   < 0.589    to the left,  improve=0.1894793, (0 missing)\n",
            "      dis   < 2.3382   to the right, improve=0.1635635, (0 missing)\n",
            "      rad   splits as  LLRLLLLLR,    improve=0.1561160, (0 missing)\n",
            "      black < 367.195  to the right, improve=0.1554917, (0 missing)\n",
            "  Surrogate splits:\n",
            "      dis     < 2.1491   to the right, agree=0.975, adj=0.625, (0 split)\n",
            "      nox     < 0.589    to the left,  agree=0.967, adj=0.500, (0 split)\n",
            "      indus   < 18.84    to the left,  agree=0.959, adj=0.375, (0 split)\n",
            "      ptratio < 14.75    to the right, agree=0.959, adj=0.375, (0 split)\n",
            "      black   < 354.295  to the right, agree=0.959, adj=0.375, (0 split)\n",
            "\n",
            "Node number 42: 114 observations,    complexity param=0.008449255\n",
            "  mean=23.8307, MSE=11.04844 \n",
            "  left son=84 (30 obs) right son=85 (84 obs)\n",
            "  Primary splits:\n",
            "      rm      < 6.1245   to the left,  improve=0.28655370, (0 missing)\n",
            "      lstat   < 7.685    to the right, improve=0.12712160, (0 missing)\n",
            "      ptratio < 20.95    to the right, improve=0.12010870, (0 missing)\n",
            "      dis     < 4.46815  to the right, improve=0.09820717, (0 missing)\n",
            "      rad     splits as  LLRLLLRRR,    improve=0.07967456, (0 missing)\n",
            "  Surrogate splits:\n",
            "      ptratio < 20.95    to the right, agree=0.789, adj=0.200, (0 split)\n",
            "      dis     < 9.20395  to the right, agree=0.772, adj=0.133, (0 split)\n",
            "      crim    < 0.621045 to the right, agree=0.763, adj=0.100, (0 split)\n",
            "      nox     < 0.396    to the left,  agree=0.746, adj=0.033, (0 split)\n",
            "\n",
            "Node number 43: 8 observations\n",
            "  mean=32.4, MSE=113.82 \n",
            "\n",
            "Node number 84: 30 observations\n",
            "  mean=20.85333, MSE=6.225822 \n",
            "\n",
            "Node number 85: 84 observations\n",
            "  mean=24.89405, MSE=8.474131 \n",
            "\n"
          ],
          "name": "stdout"
        }
      ]
    },
    {
      "cell_type": "markdown",
      "metadata": {
        "id": "lUjYOScu6874"
      },
      "source": [
        "## 분류예측치 & 정확도평가"
      ]
    },
    {
      "cell_type": "code",
      "metadata": {
        "colab": {
          "base_uri": "https://localhost:8080/",
          "height": 34
        },
        "id": "7XzxC24K68kt",
        "outputId": "e1f56ec5-e910-45b9-9b8b-168ca9be79dc"
      },
      "source": [
        "#MSE : Mean Squared Error\n",
        "medv.hat = predict(fit.prun.Boston, newdata = Boston, type = \"vector\")\n",
        "mean((Boston$medv - medv.hat)^2)"
      ],
      "execution_count": 17,
      "outputs": [
        {
          "output_type": "display_data",
          "data": {
            "text/plain": [
              "[1] 14.2655"
            ],
            "text/latex": "14.2655008805853",
            "text/markdown": "14.2655008805853",
            "text/html": [
              "14.2655008805853"
            ]
          },
          "metadata": {
            "tags": []
          }
        }
      ]
    },
    {
      "cell_type": "code",
      "metadata": {
        "colab": {
          "base_uri": "https://localhost:8080/",
          "height": 437
        },
        "id": "Tp-CLTCR62xI",
        "outputId": "b1b069cf-1ff5-48a7-be7b-83b3c25b0742"
      },
      "source": [
        "#적합값과 실제값의 일치도\n",
        "plot(Boston$medv, medv.hat, xlab = \"Observed Values\", ylab = \"Fitted Values\")\n",
        "abline(0, 1)"
      ],
      "execution_count": 18,
      "outputs": [
        {
          "output_type": "display_data",
          "data": {
            "image/png": "[encoded data removed]",
            "text/plain": [
              "plot without title"
            ]
          },
          "metadata": {
            "tags": [],
            "image/png": {
              "width": 420,
              "height": 420
            }
          }
        }
      ]
    },
    {
      "cell_type": "markdown",
      "metadata": {
        "id": "bEkvjq0q8pu0"
      },
      "source": [
        "##훈련/검증데이터로 분류예측치 & 정확도평가"
      ]
    },
    {
      "cell_type": "code",
      "metadata": {
        "colab": {
          "base_uri": "https://localhost:8080/"
        },
        "id": "wzD9YazW781D",
        "outputId": "f8ffd866-c587-4870-e8dd-14f615085a11"
      },
      "source": [
        "set.seed(1234)\n",
        "i = sample(1:nrow(Boston), round(nrow(Boston)*0.7))\n",
        "Boston.train = Boston[i, ]\n",
        "Boston.test = Boston[-i, ]\n",
        "fit.Boston.train = rpart(medv ~ ., data = Boston.train, method = \"anova\", control = my.control.boston)\n",
        "printcp(fit.Boston.train)"
      ],
      "execution_count": 19,
      "outputs": [
        {
          "output_type": "stream",
          "text": [
            "\n",
            "Regression tree:\n",
            "rpart(formula = medv ~ ., data = Boston.train, method = \"anova\", \n",
            "    control = my.control.boston)\n",
            "\n",
            "Variables actually used in tree construction:\n",
            "[1] age   crim  dis   lstat nox   rad   rm    tax  \n",
            "\n",
            "Root node error: 29579/354 = 83.558\n",
            "\n",
            "n= 354 \n",
            "\n",
            "           CP nsplit rel error  xerror     xstd\n",
            "1  0.43578609      0   1.00000 1.00749 0.099553\n",
            "2  0.18765587      1   0.56421 0.66192 0.064228\n",
            "3  0.07146406      2   0.37656 0.41627 0.048035\n",
            "4  0.04919306      3   0.30509 0.38137 0.047272\n",
            "5  0.03218859      4   0.25590 0.34902 0.047949\n",
            "6  0.02280242      5   0.22371 0.31554 0.048227\n",
            "7  0.01235187      6   0.20091 0.30220 0.048469\n",
            "8  0.01057173      7   0.18856 0.28198 0.044766\n",
            "9  0.00470152      9   0.16741 0.26144 0.043981\n",
            "10 0.00424599     10   0.16271 0.25495 0.043789\n",
            "11 0.00417930     11   0.15847 0.25302 0.043806\n",
            "12 0.00331793     12   0.15429 0.25173 0.043987\n",
            "13 0.00305744     13   0.15097 0.25108 0.043999\n",
            "14 0.00262729     14   0.14791 0.25046 0.044007\n",
            "15 0.00168228     15   0.14529 0.24618 0.043820\n",
            "16 0.00157602     16   0.14360 0.24182 0.040838\n",
            "17 0.00150420     17   0.14203 0.24160 0.040841\n",
            "18 0.00138673     18   0.14052 0.24168 0.040844\n",
            "19 0.00080072     19   0.13914 0.24198 0.040871\n",
            "20 0.00054569     20   0.13834 0.24031 0.040885\n",
            "21 0.00042868     21   0.13779 0.24029 0.040887\n",
            "22 0.00000000     22   0.13736 0.24008 0.040887\n"
          ],
          "name": "stdout"
        }
      ]
    },
    {
      "cell_type": "markdown",
      "metadata": {
        "id": "cWC3B9TM9a5I"
      },
      "source": [
        "해석\n",
        ">\n",
        "* 최소오분류율 : 0.24008(22번째)\n",
        "* 1-s.e법칙 : 0.280967 (0.24008+0.040887) -> 9번째 : 0.26144, cp = 0.00470152"
      ]
    },
    {
      "cell_type": "code",
      "metadata": {
        "colab": {
          "base_uri": "https://localhost:8080/"
        },
        "id": "9hBb9dOi9YVt",
        "outputId": "4047d384-02e5-450f-d616-32f8889a791a"
      },
      "source": [
        "#가지치기\n",
        "fit.prun.Boston.train <- prune(fit.Boston.train, cp = 0.00470152)\n",
        "print(fit.prun.Boston.train)"
      ],
      "execution_count": 21,
      "outputs": [
        {
          "output_type": "stream",
          "text": [
            "n= 354 \n",
            "\n",
            "node), split, n, deviance, yval\n",
            "      * denotes terminal node\n",
            "\n",
            " 1) root 354 29579.44000 22.379380  \n",
            "   2) lstat>=9.95 199  5197.11500 17.053770  \n",
            "     4) lstat>=14.915 112  2254.63100 14.181250  \n",
            "       8) nox>=0.603 74   838.97510 12.091890  \n",
            "        16) crim>=9.71509 33   208.14240  9.615152 *\n",
            "        17) crim< 9.71509 41   265.47120 14.085370 *\n",
            "       9) nox< 0.603 38   463.53500 18.250000 *\n",
            "     5) lstat< 14.915 87   828.61720 20.751720 *\n",
            "   3) lstat< 9.95 155 11492.02000 29.216770  \n",
            "     6) rm< 7.47 134  4969.49400 26.847760  \n",
            "      12) rm< 6.543 71  2083.97500 23.743660  \n",
            "        24) rad=1,2,4,5,6,7,8 62   431.43180 22.569350  \n",
            "          48) rm< 6.062 18   104.51610 20.227780 *\n",
            "          49) rm>=6.062 44   187.84730 23.527270 *\n",
            "        25) rad=3,24 9   978.06000 31.833330 *\n",
            "      13) rm>=6.543 63  1430.41700 30.346030  \n",
            "        26) lstat>=5.215 40   544.26970 28.677500  \n",
            "          52) rm< 7.0835 29   191.98550 26.934480 *\n",
            "          53) rm>=7.0835 11    31.90182 33.272730 *\n",
            "        27) lstat< 5.215 23   581.11740 33.247830 *\n",
            "     7) rm>=7.47 21   971.76670 44.333330 *\n"
          ],
          "name": "stdout"
        }
      ]
    },
    {
      "cell_type": "code",
      "metadata": {
        "colab": {
          "base_uri": "https://localhost:8080/",
          "height": 34
        },
        "id": "4Vt-Ue-P-IDU",
        "outputId": "f0feb8f1-f837-4253-dfa3-64b4cc27789e"
      },
      "source": [
        "#30% 검증데이터로 예측치 구하기(PMSE:predicted mean squared error)\n",
        "medv.hat.test = predict(fit.prun.Boston.train, newdata = Boston.test, type = \"vector\")\n",
        "mean((Boston.test$medv - medv.hat.test)^2)"
      ],
      "execution_count": 29,
      "outputs": [
        {
          "output_type": "display_data",
          "data": {
            "text/plain": [
              "[1] 17.31423"
            ],
            "text/latex": "17.3142296390364",
            "text/markdown": "17.3142296390364",
            "text/html": [
              "17.3142296390364"
            ]
          },
          "metadata": {
            "tags": []
          }
        }
      ]
    }
  ]
}