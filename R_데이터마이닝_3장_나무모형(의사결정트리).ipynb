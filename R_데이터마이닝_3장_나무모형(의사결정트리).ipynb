{
  "nbformat": 4,
  "nbformat_minor": 0,
  "metadata": {
    "colab": {
      "name": "R_데이터마이닝_3장_나무모형(의사결정트리)",
      "provenance": [],
      "collapsed_sections": [
        "NyKyiU7sUBOe"
      ],
      "authorship_tag": "ABX9TyMJN/FjZ6POwqDpcTV1LRaB",
      "include_colab_link": true
    },
    "kernelspec": {
      "name": "ir",
      "display_name": "R"
    }
  },
  "cells": [
    {
      "cell_type": "markdown",
      "metadata": {
        "id": "view-in-github",
        "colab_type": "text"
      },
      "source": [
        "<a href=\"https://colab.research.google.com/github/seunghee0518/R_File/blob/main/R_%EB%8D%B0%EC%9D%B4%ED%84%B0%EB%A7%88%EC%9D%B4%EB%8B%9D_3%EC%9E%A5_%EB%82%98%EB%AC%B4%EB%AA%A8%ED%98%95(%EC%9D%98%EC%82%AC%EA%B2%B0%EC%A0%95%ED%8A%B8%EB%A6%AC).ipynb\" target=\"_parent\"><img src=\"https://colab.research.google.com/assets/colab-badge.svg\" alt=\"Open In Colab\"/></a>"
      ]
    },
    {
      "cell_type": "markdown",
      "metadata": {
        "id": "7hiFQcY8JKrp"
      },
      "source": [
        "# 분류나무모형(타이타닉 데이터 & 독일신용평가 데이터)\n",
        "가장 대중적인 모형인 CART방법으로 의사결정트리 구축"
      ]
    },
    {
      "cell_type": "markdown",
      "metadata": {
        "id": "_bBE43ktIpNG"
      },
      "source": [
        "##데이터 읽기 : 타이타닉데이터\n"
      ]
    },
    {
      "cell_type": "code",
      "metadata": {
        "id": "l3OZbC-zA7kC",
        "colab": {
          "base_uri": "https://localhost:8080/",
          "height": 0
        },
        "outputId": "8e503b9b-d41d-40b9-9bee-ed3c2d4e52a4"
      },
      "source": [
        "#데이터 가져오기\n",
        "url_titanic = \"https://raw.githubusercontent.com/seunghee0518/R_File/main/%EB%8D%B0%EC%9D%B4%ED%84%B0%EB%A7%88%EC%9D%B4%EB%8B%9D/titanic.csv\"\n",
        "titanic = read.csv(url_titanic, header =T)\n",
        "attach(titanic)\n",
        "head(titanic)"
      ],
      "execution_count": 1,
      "outputs": [
        {
          "output_type": "display_data",
          "data": {
            "text/plain": [
              "  Class Age   Sex  Survived\n",
              "1 First Adult Male Yes     \n",
              "2 First Adult Male Yes     \n",
              "3 First Adult Male Yes     \n",
              "4 First Adult Male Yes     \n",
              "5 First Adult Male Yes     \n",
              "6 First Adult Male Yes     "
            ],
            "text/latex": "A data.frame: 6 × 4\n\\begin{tabular}{r|llll}\n  & Class & Age & Sex & Survived\\\\\n  & <chr> & <chr> & <chr> & <chr>\\\\\n\\hline\n\t1 & First & Adult & Male & Yes\\\\\n\t2 & First & Adult & Male & Yes\\\\\n\t3 & First & Adult & Male & Yes\\\\\n\t4 & First & Adult & Male & Yes\\\\\n\t5 & First & Adult & Male & Yes\\\\\n\t6 & First & Adult & Male & Yes\\\\\n\\end{tabular}\n",
            "text/markdown": "\nA data.frame: 6 × 4\n\n| <!--/--> | Class &lt;chr&gt; | Age &lt;chr&gt; | Sex &lt;chr&gt; | Survived &lt;chr&gt; |\n|---|---|---|---|---|\n| 1 | First | Adult | Male | Yes |\n| 2 | First | Adult | Male | Yes |\n| 3 | First | Adult | Male | Yes |\n| 4 | First | Adult | Male | Yes |\n| 5 | First | Adult | Male | Yes |\n| 6 | First | Adult | Male | Yes |\n\n",
            "text/html": [
              "<table class=\"dataframe\">\n",
              "<caption>A data.frame: 6 × 4</caption>\n",
              "<thead>\n",
              "\t<tr><th></th><th scope=col>Class</th><th scope=col>Age</th><th scope=col>Sex</th><th scope=col>Survived</th></tr>\n",
              "\t<tr><th></th><th scope=col>&lt;chr&gt;</th><th scope=col>&lt;chr&gt;</th><th scope=col>&lt;chr&gt;</th><th scope=col>&lt;chr&gt;</th></tr>\n",
              "</thead>\n",
              "<tbody>\n",
              "\t<tr><th scope=row>1</th><td>First</td><td>Adult</td><td>Male</td><td>Yes</td></tr>\n",
              "\t<tr><th scope=row>2</th><td>First</td><td>Adult</td><td>Male</td><td>Yes</td></tr>\n",
              "\t<tr><th scope=row>3</th><td>First</td><td>Adult</td><td>Male</td><td>Yes</td></tr>\n",
              "\t<tr><th scope=row>4</th><td>First</td><td>Adult</td><td>Male</td><td>Yes</td></tr>\n",
              "\t<tr><th scope=row>5</th><td>First</td><td>Adult</td><td>Male</td><td>Yes</td></tr>\n",
              "\t<tr><th scope=row>6</th><td>First</td><td>Adult</td><td>Male</td><td>Yes</td></tr>\n",
              "</tbody>\n",
              "</table>\n"
            ]
          },
          "metadata": {
            "tags": []
          }
        }
      ]
    },
    {
      "cell_type": "code",
      "metadata": {
        "id": "NjUl0kj4CxVt",
        "colab": {
          "base_uri": "https://localhost:8080/",
          "height": 0
        },
        "outputId": "8ac31d48-830c-4da9-fe75-527352984f94"
      },
      "source": [
        "#데이터 요약\n",
        "summary(titanic)"
      ],
      "execution_count": 2,
      "outputs": [
        {
          "output_type": "display_data",
          "data": {
            "text/plain": [
              "    Class               Age                Sex              Survived        \n",
              " Length:2201        Length:2201        Length:2201        Length:2201       \n",
              " Class :character   Class :character   Class :character   Class :character  \n",
              " Mode  :character   Mode  :character   Mode  :character   Mode  :character  "
            ]
          },
          "metadata": {
            "tags": []
          }
        }
      ]
    },
    {
      "cell_type": "markdown",
      "metadata": {
        "id": "54s4vCO6L51T"
      },
      "source": [
        "## CART 나무모형 실행\n",
        "패키지 : rpart\n",
        ">\n",
        "* 목표변수 : Survived 변수\n",
        "* 입력변수 : 나머지변수\n",
        "\n",
        "* minsplit = 1 : 중간노드를 분할하기 위한 최소 자료의 수, 이 값보다 적은 개수의 관측치가 있으면 노드를 분할하지 않음\n",
        "* cp : cost-complexity의 약어로 비용복잡함수에서 a값을 의미함.\n",
        "* cp = 0이면 오분류울값이 최솟값이 될 때까지 계속 분할하라는 뜻이 됨\n",
        "* cp =  0.1이면 a=0.1에 해당하는 비용복잡함수의 최솟값이 될 때까지만 계속 분할하라는 뜻\n",
        "* cp = -0.01이면 설사 비용복잡함수가 현상유지하지 못하고 미세하게 증가하더라도 계속적으로 나무모형을 구축하도록 하라는 뜻\n",
        "* xval : 가지치기에 필요한 cross-validation의 약어로 xval = 10이면 10-fold 교차타당성 오분류율로 계산하게됨\n",
        "\n"
      ]
    },
    {
      "cell_type": "code",
      "metadata": {
        "id": "6rNvAUuqKFTW"
      },
      "source": [
        "#패키지 가져오기\n",
        "library(rpart)"
      ],
      "execution_count": 3,
      "outputs": []
    },
    {
      "cell_type": "code",
      "metadata": {
        "id": "ZJKc9IBfMZsB",
        "colab": {
          "base_uri": "https://localhost:8080/"
        },
        "outputId": "e09047dc-e3ab-4a8f-9705-bf068d7b6607"
      },
      "source": [
        "#옵션 선택\n",
        "my.control <- rpart.control(xval = 10, cp = -0.01, minsplit = 1)\n",
        "#CART나무모형 실행 (가지치기전이라 모형이 매우 큼)\n",
        "fit.titanic <- rpart(Survived ~ ., data = titanic, method = \"class\", control = my.control)\n",
        "print(fit.titanic)"
      ],
      "execution_count": 4,
      "outputs": [
        {
          "output_type": "stream",
          "text": [
            "n= 2201 \n",
            "\n",
            "node), split, n, loss, yval, (yprob)\n",
            "      * denotes terminal node\n",
            "\n",
            " 1) root 2201 711 No (0.67696502 0.32303498)  \n",
            "   2) Sex=Male 1731 367 No (0.78798382 0.21201618)  \n",
            "     4) Age=Adult 1667 338 No (0.79724055 0.20275945)  \n",
            "       8) Class=Second,Third 630  89 No (0.85873016 0.14126984)  \n",
            "        16) Class=Second 168  14 No (0.91666667 0.08333333) *\n",
            "        17) Class=Third 462  75 No (0.83766234 0.16233766) *\n",
            "       9) Class=Crew,First 1037 249 No (0.75988428 0.24011572)  \n",
            "        18) Class=Crew 862 192 No (0.77726218 0.22273782) *\n",
            "        19) Class=First 175  57 No (0.67428571 0.32571429) *\n",
            "     5) Age=Child 64  29 No (0.54687500 0.45312500)  \n",
            "      10) Class=Third 48  13 No (0.72916667 0.27083333) *\n",
            "      11) Class=First,Second 16   0 Yes (0.00000000 1.00000000) *\n",
            "   3) Sex=Female 470 126 Yes (0.26808511 0.73191489)  \n",
            "     6) Class=Third 196  90 No (0.54081633 0.45918367)  \n",
            "      12) Age=Child 31  14 No (0.54838710 0.45161290) *\n",
            "      13) Age=Adult 165  76 No (0.53939394 0.46060606) *\n",
            "     7) Class=Crew,First,Second 274  20 Yes (0.07299270 0.92700730)  \n",
            "      14) Class=Crew,Second 129  16 Yes (0.12403101 0.87596899)  \n",
            "        28) Age=Adult 116  16 Yes (0.13793103 0.86206897)  \n",
            "          56) Class=Second 93  13 Yes (0.13978495 0.86021505) *\n",
            "          57) Class=Crew 23   3 Yes (0.13043478 0.86956522) *\n",
            "        29) Age=Child 13   0 Yes (0.00000000 1.00000000) *\n",
            "      15) Class=First 145   4 Yes (0.02758621 0.97241379)  \n",
            "        30) Age=Adult 144   4 Yes (0.02777778 0.97222222) *\n",
            "        31) Age=Child 1   0 Yes (0.00000000 1.00000000) *\n"
          ],
          "name": "stdout"
        }
      ]
    },
    {
      "cell_type": "markdown",
      "metadata": {
        "id": "HX3QTdjwNYk4"
      },
      "source": [
        "> 설명\n",
        "* 아직 가지치기 전 상태임임"
      ]
    },
    {
      "cell_type": "code",
      "metadata": {
        "colab": {
          "base_uri": "https://localhost:8080/"
        },
        "id": "krnaIwX8Px9r",
        "outputId": "54f47056-21c9-4687-d229-45f55568f350"
      },
      "source": [
        "#나무모형 구축 과정 결과\n",
        "printcp(fit.titanic)"
      ],
      "execution_count": 5,
      "outputs": [
        {
          "output_type": "stream",
          "text": [
            "\n",
            "Classification tree:\n",
            "rpart(formula = Survived ~ ., data = titanic, method = \"class\", \n",
            "    control = my.control)\n",
            "\n",
            "Variables actually used in tree construction:\n",
            "[1] Age   Class Sex  \n",
            "\n",
            "Root node error: 711/2201 = 0.32303\n",
            "\n",
            "n= 2201 \n",
            "\n",
            "         CP nsplit rel error  xerror     xstd\n",
            "1  0.306610      0   1.00000 1.00000 0.030857\n",
            "2  0.022504      1   0.69339 0.69339 0.027510\n",
            "3  0.011252      2   0.67089 0.70183 0.027628\n",
            "4  0.000000      4   0.64838 0.65401 0.026935\n",
            "5 -0.010000     12   0.64838 0.65401 0.026935\n"
          ],
          "name": "stdout"
        }
      ]
    },
    {
      "cell_type": "markdown",
      "metadata": {
        "id": "mCy70uyryd45"
      },
      "source": [
        "설명\n",
        ">\n",
        "* 뿌리노드가 최종노드가 갈때 갖게되는 cp의 값(비용복잡함수의 a)은 0.3066임\n",
        "* 중간노드를 계속 분할하려면 cp값은 적은 값이어야 하므로 cp = -0.01일때는 분할의 횟수가 12회인 규모가 상당히 큰 나무구조가 도출됨을 알 수 있고, 이 단계에 해당하는 나무구조가 최대나무이다\n",
        "* xerror는 교차타당성 방법에 의한 오분류울을 의미하므로 xerror의 최솟값은 분할 횟수가 4번째인 경우 이며 cp가 0이다\n",
        "* 따라서 cp=0(a=0)일 때 교차타당성 오분류율을 최소화시키는 최적의 나무사이즈 이므로 이 값을 기준으로 가지치기를 진행해야한다"
      ]
    },
    {
      "cell_type": "markdown",
      "metadata": {
        "id": "gLGRzHERPrF6"
      },
      "source": [
        "## 가지치기"
      ]
    },
    {
      "cell_type": "code",
      "metadata": {
        "colab": {
          "base_uri": "https://localhost:8080/"
        },
        "id": "k0OBwU62P8xf",
        "outputId": "0d25ade7-ea82-4c3c-eb05-2c91c6b76661"
      },
      "source": [
        "#cp=0일 때 최적의 나무사이즈임\n",
        "fit.prun.titanic <- prune(fit.titanic, cp=0.0)\n",
        "print(fit.prun.titanic)"
      ],
      "execution_count": 7,
      "outputs": [
        {
          "output_type": "stream",
          "text": [
            "n= 2201 \n",
            "\n",
            "node), split, n, loss, yval, (yprob)\n",
            "      * denotes terminal node\n",
            "\n",
            " 1) root 2201 711 No (0.6769650 0.3230350)  \n",
            "   2) Sex=Male 1731 367 No (0.7879838 0.2120162)  \n",
            "     4) Age=Adult 1667 338 No (0.7972406 0.2027594) *\n",
            "     5) Age=Child 64  29 No (0.5468750 0.4531250)  \n",
            "      10) Class=Third 48  13 No (0.7291667 0.2708333) *\n",
            "      11) Class=First,Second 16   0 Yes (0.0000000 1.0000000) *\n",
            "   3) Sex=Female 470 126 Yes (0.2680851 0.7319149)  \n",
            "     6) Class=Third 196  90 No (0.5408163 0.4591837) *\n",
            "     7) Class=Crew,First,Second 274  20 Yes (0.0729927 0.9270073) *\n"
          ],
          "name": "stdout"
        }
      ]
    },
    {
      "cell_type": "markdown",
      "metadata": {
        "id": "w8furyFt0Ffa"
      },
      "source": [
        "설명\n",
        ">\n",
        "제공되는 정보 순서 : \n",
        "1. 노드번호, \n",
        "2. 분할규칙, \n",
        "3. 해당 노드이 총 관측치 수, \n",
        "4. 해당 노드에서 오분류되는 관측치의 수, \n",
        "5. 해당 노드의 목표변수 예측치, \n",
        "6. 괄호: 목표변수의 집단별 비율, \n",
        "7. * : 해당 노드가 최종노드임을 의미\n"
      ]
    },
    {
      "cell_type": "code",
      "metadata": {
        "colab": {
          "base_uri": "https://localhost:8080/",
          "height": 0
        },
        "id": "rNdwBkjE1mmx",
        "outputId": "54e39496-fcbf-4ccf-d8fe-9a3e02bf751c"
      },
      "source": [
        "#가지치기한 나무모형 시각화\n",
        "plot(fit.prun.titanic, uniform = T, compress = T, margin = 0.1)\n",
        "text(fit.prun.titanic, use.n = T, col = \"blue\")"
      ],
      "execution_count": 9,
      "outputs": [
        {
          "output_type": "display_data",
          "data": {
            "image/png": "[encoded data removed]",
            "text/plain": [
              "plot without title"
            ]
          },
          "metadata": {
            "tags": [],
            "image/png": {
              "width": 420,
              "height": 420
            }
          }
        }
      ]
    },
    {
      "cell_type": "markdown",
      "metadata": {
        "id": "wDbk2qXF19Ly"
      },
      "source": [
        "명령어 설명\n",
        ">\n",
        "* uniform : 가로폭 크기 좁히기\n",
        "* compress : 세로폭의 크기 좁히기\n",
        "* margin : 여백설정\n",
        "* text : 나무모형에 변수값 출력\n",
        "* use.n : 집단별 관측치의 수\n",
        "* sex = b : 왼쪽 가지로 가는 조건이 무엇인지 알려주는 것, summary(titanic)에서 sex의 변수에서 male은 두번째 범주임임으로 b임, 따라서 남성이 왼쪽 노드임\n"
      ]
    },
    {
      "cell_type": "code",
      "metadata": {
        "colab": {
          "base_uri": "https://localhost:8080/"
        },
        "id": "T4UGriI12yzy",
        "outputId": "5227ada8-1512-41fb-8ea5-8b55b4fe8925"
      },
      "source": [
        "#가지치기된 모형의 구체적 사항 모두 출력\n",
        "summary(fit.prun.titanic)"
      ],
      "execution_count": 10,
      "outputs": [
        {
          "output_type": "stream",
          "text": [
            "Call:\n",
            "rpart(formula = Survived ~ ., data = titanic, method = \"class\", \n",
            "    control = my.control)\n",
            "  n= 2201 \n",
            "\n",
            "          CP nsplit rel error    xerror       xstd\n",
            "1 0.30661041      0 1.0000000 1.0000000 0.03085662\n",
            "2 0.02250352      1 0.6933896 0.6933896 0.02750982\n",
            "3 0.01125176      2 0.6708861 0.7018284 0.02762806\n",
            "4 0.00000000      4 0.6483826 0.6540084 0.02693529\n",
            "\n",
            "Variable importance\n",
            "  Sex Class   Age \n",
            "   73    23     4 \n",
            "\n",
            "Node number 1: 2201 observations,    complexity param=0.3066104\n",
            "  predicted class=No   expected loss=0.323035  P(node) =1\n",
            "    class counts:  1490   711\n",
            "   probabilities: 0.677 0.323 \n",
            "  left son=2 (1731 obs) right son=3 (470 obs)\n",
            "  Primary splits:\n",
            "      Sex   splits as  RL,   improve=199.821600, (0 missing)\n",
            "      Class splits as  LRRL, improve= 69.684100, (0 missing)\n",
            "      Age   splits as  LR,   improve=  9.165241, (0 missing)\n",
            "\n",
            "Node number 2: 1731 observations,    complexity param=0.01125176\n",
            "  predicted class=No   expected loss=0.2120162  P(node) =0.7864607\n",
            "    class counts:  1364   367\n",
            "   probabilities: 0.788 0.212 \n",
            "  left son=4 (1667 obs) right son=5 (64 obs)\n",
            "  Primary splits:\n",
            "      Age   splits as  LR,   improve=7.726764, (0 missing)\n",
            "      Class splits as  LRLL, improve=7.046106, (0 missing)\n",
            "\n",
            "Node number 3: 470 observations,    complexity param=0.02250352\n",
            "  predicted class=Yes  expected loss=0.2680851  P(node) =0.2135393\n",
            "    class counts:   126   344\n",
            "   probabilities: 0.268 0.732 \n",
            "  left son=6 (196 obs) right son=7 (274 obs)\n",
            "  Primary splits:\n",
            "      Class splits as  RRRL, improve=50.015320, (0 missing)\n",
            "      Age   splits as  RL,   improve= 1.197586, (0 missing)\n",
            "  Surrogate splits:\n",
            "      Age splits as  RL, agree=0.619, adj=0.087, (0 split)\n",
            "\n",
            "Node number 4: 1667 observations\n",
            "  predicted class=No   expected loss=0.2027594  P(node) =0.757383\n",
            "    class counts:  1329   338\n",
            "   probabilities: 0.797 0.203 \n",
            "\n",
            "Node number 5: 64 observations,    complexity param=0.01125176\n",
            "  predicted class=No   expected loss=0.453125  P(node) =0.02907769\n",
            "    class counts:    35    29\n",
            "   probabilities: 0.547 0.453 \n",
            "  left son=10 (48 obs) right son=11 (16 obs)\n",
            "  Primary splits:\n",
            "      Class splits as  -RRL, improve=12.76042, (0 missing)\n",
            "\n",
            "Node number 6: 196 observations\n",
            "  predicted class=No   expected loss=0.4591837  P(node) =0.08905043\n",
            "    class counts:   106    90\n",
            "   probabilities: 0.541 0.459 \n",
            "\n",
            "Node number 7: 274 observations\n",
            "  predicted class=Yes  expected loss=0.0729927  P(node) =0.1244889\n",
            "    class counts:    20   254\n",
            "   probabilities: 0.073 0.927 \n",
            "\n",
            "Node number 10: 48 observations\n",
            "  predicted class=No   expected loss=0.2708333  P(node) =0.02180827\n",
            "    class counts:    35    13\n",
            "   probabilities: 0.729 0.271 \n",
            "\n",
            "Node number 11: 16 observations\n",
            "  predicted class=Yes  expected loss=0  P(node) =0.007269423\n",
            "    class counts:     0    16\n",
            "   probabilities: 0.000 1.000 \n",
            "\n"
          ],
          "name": "stdout"
        }
      ]
    },
    {
      "cell_type": "markdown",
      "metadata": {
        "id": "3ZA1N-eiOSUo"
      },
      "source": [
        "## 데이터 읽기(독일신용평가데이터)\n"
      ]
    },
    {
      "cell_type": "code",
      "metadata": {
        "colab": {
          "base_uri": "https://localhost:8080/",
          "height": 0
        },
        "id": "ryUIDRFZNT3c",
        "outputId": "a5927237-c606-464e-ee02-056a6b2ac27f"
      },
      "source": [
        "#데이터 가져오기\n",
        "url_german = \"https://raw.githubusercontent.com/seunghee0518/R_File/main/%EB%8D%B0%EC%9D%B4%ED%84%B0%EB%A7%88%EC%9D%B4%EB%8B%9D/germandata.txt\"\n",
        "german = read.table(url_german, header =T)\n",
        "german$numcredits = factor(german$numcredits)\n",
        "german$residence = factor(german$residence)\n",
        "german$residpeople = factor(german$residpeople)\n",
        "attach(german)\n",
        "head(german)"
      ],
      "execution_count": 19,
      "outputs": [
        {
          "output_type": "stream",
          "text": [
            "The following objects are masked _by_ .GlobalEnv:\n",
            "\n",
            "    numcredits, residence, residpeople\n",
            "\n",
            "\n",
            "The following objects are masked from german (pos = 3):\n",
            "\n",
            "    age, check, credit, debtors, duration, employment, foreign,\n",
            "    history, housing, installment, job, numcredits, others, personal,\n",
            "    property, purpose, residence, residpeople, savings, telephone, y\n",
            "\n",
            "\n",
            "The following objects are masked from german (pos = 4):\n",
            "\n",
            "    age, check, credit, debtors, duration, employment, foreign,\n",
            "    history, housing, installment, job, numcredits, others, personal,\n",
            "    property, purpose, residence, residpeople, savings, telephone, y\n",
            "\n",
            "\n",
            "The following objects are masked from german (pos = 5):\n",
            "\n",
            "    age, check, credit, debtors, duration, employment, foreign,\n",
            "    history, housing, installment, job, numcredits, others, personal,\n",
            "    property, purpose, residence, residpeople, savings, telephone, y\n",
            "\n",
            "\n",
            "The following objects are masked from german (pos = 6):\n",
            "\n",
            "    age, check, credit, debtors, duration, employment, foreign,\n",
            "    history, housing, installment, job, numcredits, others, personal,\n",
            "    property, purpose, residence, residpeople, savings, telephone, y\n",
            "\n",
            "\n"
          ],
          "name": "stderr"
        },
        {
          "output_type": "display_data",
          "data": {
            "text/plain": [
              "  check duration history purpose credit savings employment installment personal\n",
              "1 A11    6       A34     A43     1169   A65     A75        4           A93     \n",
              "2 A12   48       A32     A43     5951   A61     A73        2           A92     \n",
              "3 A14   12       A34     A46     2096   A61     A74        2           A93     \n",
              "4 A11   42       A32     A42     7882   A61     A74        2           A93     \n",
              "5 A11   24       A33     A40     4870   A61     A73        3           A93     \n",
              "6 A14   36       A32     A46     9055   A65     A73        2           A93     \n",
              "  debtors ⋯ property age others housing numcredits job  residpeople telephone\n",
              "1 A101    ⋯ A121     67  A143   A152    2          A173 1           A192     \n",
              "2 A101    ⋯ A121     22  A143   A152    1          A173 1           A191     \n",
              "3 A101    ⋯ A121     49  A143   A152    1          A172 2           A191     \n",
              "4 A103    ⋯ A122     45  A143   A153    1          A173 2           A191     \n",
              "5 A101    ⋯ A124     53  A143   A153    2          A173 2           A191     \n",
              "6 A101    ⋯ A124     35  A143   A153    1          A172 2           A192     \n",
              "  foreign y   \n",
              "1 A201    good\n",
              "2 A201    bad \n",
              "3 A201    good\n",
              "4 A201    good\n",
              "5 A201    bad \n",
              "6 A201    good"
            ],
            "text/latex": "A data.frame: 6 × 21\n\\begin{tabular}{r|lllllllllllllllllllll}\n  & check & duration & history & purpose & credit & savings & employment & installment & personal & debtors & ⋯ & property & age & others & housing & numcredits & job & residpeople & telephone & foreign & y\\\\\n  & <chr> & <int> & <chr> & <chr> & <int> & <chr> & <chr> & <int> & <chr> & <chr> & ⋯ & <chr> & <int> & <chr> & <chr> & <fct> & <chr> & <fct> & <chr> & <chr> & <chr>\\\\\n\\hline\n\t1 & A11 &  6 & A34 & A43 & 1169 & A65 & A75 & 4 & A93 & A101 & ⋯ & A121 & 67 & A143 & A152 & 2 & A173 & 1 & A192 & A201 & good\\\\\n\t2 & A12 & 48 & A32 & A43 & 5951 & A61 & A73 & 2 & A92 & A101 & ⋯ & A121 & 22 & A143 & A152 & 1 & A173 & 1 & A191 & A201 & bad \\\\\n\t3 & A14 & 12 & A34 & A46 & 2096 & A61 & A74 & 2 & A93 & A101 & ⋯ & A121 & 49 & A143 & A152 & 1 & A172 & 2 & A191 & A201 & good\\\\\n\t4 & A11 & 42 & A32 & A42 & 7882 & A61 & A74 & 2 & A93 & A103 & ⋯ & A122 & 45 & A143 & A153 & 1 & A173 & 2 & A191 & A201 & good\\\\\n\t5 & A11 & 24 & A33 & A40 & 4870 & A61 & A73 & 3 & A93 & A101 & ⋯ & A124 & 53 & A143 & A153 & 2 & A173 & 2 & A191 & A201 & bad \\\\\n\t6 & A14 & 36 & A32 & A46 & 9055 & A65 & A73 & 2 & A93 & A101 & ⋯ & A124 & 35 & A143 & A153 & 1 & A172 & 2 & A192 & A201 & good\\\\\n\\end{tabular}\n",
            "text/markdown": "\nA data.frame: 6 × 21\n\n| <!--/--> | check &lt;chr&gt; | duration &lt;int&gt; | history &lt;chr&gt; | purpose &lt;chr&gt; | credit &lt;int&gt; | savings &lt;chr&gt; | employment &lt;chr&gt; | installment &lt;int&gt; | personal &lt;chr&gt; | debtors &lt;chr&gt; | ⋯ ⋯ | property &lt;chr&gt; | age &lt;int&gt; | others &lt;chr&gt; | housing &lt;chr&gt; | numcredits &lt;fct&gt; | job &lt;chr&gt; | residpeople &lt;fct&gt; | telephone &lt;chr&gt; | foreign &lt;chr&gt; | y &lt;chr&gt; |\n|---|---|---|---|---|---|---|---|---|---|---|---|---|---|---|---|---|---|---|---|---|---|\n| 1 | A11 |  6 | A34 | A43 | 1169 | A65 | A75 | 4 | A93 | A101 | ⋯ | A121 | 67 | A143 | A152 | 2 | A173 | 1 | A192 | A201 | good |\n| 2 | A12 | 48 | A32 | A43 | 5951 | A61 | A73 | 2 | A92 | A101 | ⋯ | A121 | 22 | A143 | A152 | 1 | A173 | 1 | A191 | A201 | bad  |\n| 3 | A14 | 12 | A34 | A46 | 2096 | A61 | A74 | 2 | A93 | A101 | ⋯ | A121 | 49 | A143 | A152 | 1 | A172 | 2 | A191 | A201 | good |\n| 4 | A11 | 42 | A32 | A42 | 7882 | A61 | A74 | 2 | A93 | A103 | ⋯ | A122 | 45 | A143 | A153 | 1 | A173 | 2 | A191 | A201 | good |\n| 5 | A11 | 24 | A33 | A40 | 4870 | A61 | A73 | 3 | A93 | A101 | ⋯ | A124 | 53 | A143 | A153 | 2 | A173 | 2 | A191 | A201 | bad  |\n| 6 | A14 | 36 | A32 | A46 | 9055 | A65 | A73 | 2 | A93 | A101 | ⋯ | A124 | 35 | A143 | A153 | 1 | A172 | 2 | A192 | A201 | good |\n\n",
            "text/html": [
              "<table class=\"dataframe\">\n",
              "<caption>A data.frame: 6 × 21</caption>\n",
              "<thead>\n",
              "\t<tr><th></th><th scope=col>check</th><th scope=col>duration</th><th scope=col>history</th><th scope=col>purpose</th><th scope=col>credit</th><th scope=col>savings</th><th scope=col>employment</th><th scope=col>installment</th><th scope=col>personal</th><th scope=col>debtors</th><th scope=col>⋯</th><th scope=col>property</th><th scope=col>age</th><th scope=col>others</th><th scope=col>housing</th><th scope=col>numcredits</th><th scope=col>job</th><th scope=col>residpeople</th><th scope=col>telephone</th><th scope=col>foreign</th><th scope=col>y</th></tr>\n",
              "\t<tr><th></th><th scope=col>&lt;chr&gt;</th><th scope=col>&lt;int&gt;</th><th scope=col>&lt;chr&gt;</th><th scope=col>&lt;chr&gt;</th><th scope=col>&lt;int&gt;</th><th scope=col>&lt;chr&gt;</th><th scope=col>&lt;chr&gt;</th><th scope=col>&lt;int&gt;</th><th scope=col>&lt;chr&gt;</th><th scope=col>&lt;chr&gt;</th><th scope=col>⋯</th><th scope=col>&lt;chr&gt;</th><th scope=col>&lt;int&gt;</th><th scope=col>&lt;chr&gt;</th><th scope=col>&lt;chr&gt;</th><th scope=col>&lt;fct&gt;</th><th scope=col>&lt;chr&gt;</th><th scope=col>&lt;fct&gt;</th><th scope=col>&lt;chr&gt;</th><th scope=col>&lt;chr&gt;</th><th scope=col>&lt;chr&gt;</th></tr>\n",
              "</thead>\n",
              "<tbody>\n",
              "\t<tr><th scope=row>1</th><td>A11</td><td> 6</td><td>A34</td><td>A43</td><td>1169</td><td>A65</td><td>A75</td><td>4</td><td>A93</td><td>A101</td><td>⋯</td><td>A121</td><td>67</td><td>A143</td><td>A152</td><td>2</td><td>A173</td><td>1</td><td>A192</td><td>A201</td><td>good</td></tr>\n",
              "\t<tr><th scope=row>2</th><td>A12</td><td>48</td><td>A32</td><td>A43</td><td>5951</td><td>A61</td><td>A73</td><td>2</td><td>A92</td><td>A101</td><td>⋯</td><td>A121</td><td>22</td><td>A143</td><td>A152</td><td>1</td><td>A173</td><td>1</td><td>A191</td><td>A201</td><td>bad </td></tr>\n",
              "\t<tr><th scope=row>3</th><td>A14</td><td>12</td><td>A34</td><td>A46</td><td>2096</td><td>A61</td><td>A74</td><td>2</td><td>A93</td><td>A101</td><td>⋯</td><td>A121</td><td>49</td><td>A143</td><td>A152</td><td>1</td><td>A172</td><td>2</td><td>A191</td><td>A201</td><td>good</td></tr>\n",
              "\t<tr><th scope=row>4</th><td>A11</td><td>42</td><td>A32</td><td>A42</td><td>7882</td><td>A61</td><td>A74</td><td>2</td><td>A93</td><td>A103</td><td>⋯</td><td>A122</td><td>45</td><td>A143</td><td>A153</td><td>1</td><td>A173</td><td>2</td><td>A191</td><td>A201</td><td>good</td></tr>\n",
              "\t<tr><th scope=row>5</th><td>A11</td><td>24</td><td>A33</td><td>A40</td><td>4870</td><td>A61</td><td>A73</td><td>3</td><td>A93</td><td>A101</td><td>⋯</td><td>A124</td><td>53</td><td>A143</td><td>A153</td><td>2</td><td>A173</td><td>2</td><td>A191</td><td>A201</td><td>bad </td></tr>\n",
              "\t<tr><th scope=row>6</th><td>A14</td><td>36</td><td>A32</td><td>A46</td><td>9055</td><td>A65</td><td>A73</td><td>2</td><td>A93</td><td>A101</td><td>⋯</td><td>A124</td><td>35</td><td>A143</td><td>A153</td><td>1</td><td>A172</td><td>2</td><td>A192</td><td>A201</td><td>good</td></tr>\n",
              "</tbody>\n",
              "</table>\n"
            ]
          },
          "metadata": {
            "tags": []
          }
        }
      ]
    },
    {
      "cell_type": "code",
      "metadata": {
        "colab": {
          "base_uri": "https://localhost:8080/",
          "height": 0
        },
        "id": "nfLTp23eOqsW",
        "outputId": "30c23b06-893c-40d3-c4af-c2fcb262c019"
      },
      "source": [
        "#데이터 요약\n",
        "summary(german)"
      ],
      "execution_count": 20,
      "outputs": [
        {
          "output_type": "display_data",
          "data": {
            "text/plain": [
              "    check              duration      history            purpose         \n",
              " Length:1000        Min.   : 4.0   Length:1000        Length:1000       \n",
              " Class :character   1st Qu.:12.0   Class :character   Class :character  \n",
              " Mode  :character   Median :18.0   Mode  :character   Mode  :character  \n",
              "                    Mean   :20.9                                        \n",
              "                    3rd Qu.:24.0                                        \n",
              "                    Max.   :72.0                                        \n",
              "     credit        savings           employment         installment   \n",
              " Min.   :  250   Length:1000        Length:1000        Min.   :1.000  \n",
              " 1st Qu.: 1366   Class :character   Class :character   1st Qu.:2.000  \n",
              " Median : 2320   Mode  :character   Mode  :character   Median :3.000  \n",
              " Mean   : 3271                                         Mean   :2.973  \n",
              " 3rd Qu.: 3972                                         3rd Qu.:4.000  \n",
              " Max.   :18424                                         Max.   :4.000  \n",
              "   personal           debtors          residence   property        \n",
              " Length:1000        Length:1000        1:130     Length:1000       \n",
              " Class :character   Class :character   2:308     Class :character  \n",
              " Mode  :character   Mode  :character   3:149     Mode  :character  \n",
              "                                       4:413                       \n",
              "                                                                   \n",
              "                                                                   \n",
              "      age           others            housing          numcredits\n",
              " Min.   :19.00   Length:1000        Length:1000        1:633     \n",
              " 1st Qu.:27.00   Class :character   Class :character   2:333     \n",
              " Median :33.00   Mode  :character   Mode  :character   3: 28     \n",
              " Mean   :35.55                                         4:  6     \n",
              " 3rd Qu.:42.00                                                   \n",
              " Max.   :75.00                                                   \n",
              "     job            residpeople  telephone           foreign         \n",
              " Length:1000        1:845       Length:1000        Length:1000       \n",
              " Class :character   2:155       Class :character   Class :character  \n",
              " Mode  :character               Mode  :character   Mode  :character  \n",
              "                                                                     \n",
              "                                                                     \n",
              "                                                                     \n",
              "      y            \n",
              " Length:1000       \n",
              " Class :character  \n",
              " Mode  :character  \n",
              "                   \n",
              "                   \n",
              "                   "
            ]
          },
          "metadata": {
            "tags": []
          }
        }
      ]
    },
    {
      "cell_type": "markdown",
      "metadata": {
        "id": "d5b08kGTQ-rC"
      },
      "source": [
        "##CART 나무모형 실행\n",
        ">\n",
        "* 중간노드를 분할하는 최소 자료수 : 5\n",
        "* a=0으로 하여 오분류값이 최소가 될 때까지 분할\n",
        "* 10-fold 교차타당성 수행해 최적의 cp값 찾도록함"
      ]
    },
    {
      "cell_type": "code",
      "metadata": {
        "colab": {
          "base_uri": "https://localhost:8080/"
        },
        "id": "vnYvGKVvRLKs",
        "outputId": "a21c1654-1d1b-4f1c-df40-65875d4dc520"
      },
      "source": [
        "my.control.german <- rpart.control(xcal = 10, cp=0, minsplit = 5)\n",
        "fit.german <- rpart(y ~ ., data = german, method = \"class\", control = my.control.german)\n",
        "print(fit.german)"
      ],
      "execution_count": 21,
      "outputs": [
        {
          "output_type": "stream",
          "text": [
            "n= 1000 \n",
            "\n",
            "node), split, n, loss, yval, (yprob)\n",
            "      * denotes terminal node\n",
            "\n",
            "    1) root 1000 300 good (0.300000000 0.700000000)  \n",
            "      2) check=A11,A12 543 240 good (0.441988950 0.558011050)  \n",
            "        4) duration>=22.5 237 103 bad (0.565400844 0.434599156)  \n",
            "          8) savings=A61,A62,A63 196  74 bad (0.622448980 0.377551020)  \n",
            "           16) duration>=47.5 36   5 bad (0.861111111 0.138888889)  \n",
            "             32) residence=2,4 30   2 bad (0.933333333 0.066666667)  \n",
            "               64) history=A30,A32,A34 24   0 bad (1.000000000 0.000000000) *\n",
            "               65) history=A31,A33 6   2 bad (0.666666667 0.333333333)  \n",
            "                130) age>=34 4   0 bad (1.000000000 0.000000000) *\n",
            "                131) age< 34 2   0 good (0.000000000 1.000000000) *\n",
            "             33) residence=1,3 6   3 bad (0.500000000 0.500000000)  \n",
            "               66) purpose=A42,A43,A49 3   0 bad (1.000000000 0.000000000) *\n",
            "               67) purpose=A40,A41,A46 3   0 good (0.000000000 1.000000000) *\n",
            "           17) duration< 47.5 160  69 bad (0.568750000 0.431250000)  \n",
            "             34) purpose=A40,A410,A42,A43,A45,A46,A49 137  52 bad (0.620437956 0.379562044)  \n",
            "               68) credit< 2313 37   9 bad (0.756756757 0.243243243)  \n",
            "                136) employment=A71,A72,A73 21   2 bad (0.904761905 0.095238095)  \n",
            "                  272) residence=2,3,4 18   0 bad (1.000000000 0.000000000) *\n",
            "                  273) residence=1 3   1 good (0.333333333 0.666666667) *\n",
            "                137) employment=A74,A75 16   7 bad (0.562500000 0.437500000)  \n",
            "                  274) purpose=A40,A49 8   1 bad (0.875000000 0.125000000) *\n",
            "                  275) purpose=A410,A43,A46 8   2 good (0.250000000 0.750000000)  \n",
            "                    550) history=A31 2   0 bad (1.000000000 0.000000000) *\n",
            "                    551) history=A32,A33,A34 6   0 good (0.000000000 1.000000000) *\n",
            "               69) credit>=2313 100  43 bad (0.570000000 0.430000000)  \n",
            "                138) credit>=2353.5 96  39 bad (0.593750000 0.406250000)  \n",
            "                  276) installment>=2.5 53  17 bad (0.679245283 0.320754717)  \n",
            "                    552) others=A141,A143 48  13 bad (0.729166667 0.270833333)  \n",
            "                     1104) age< 60.5 46  11 bad (0.760869565 0.239130435)  \n",
            "                       2208) age>=38 8   0 bad (1.000000000 0.000000000) *\n",
            "                       2209) age< 38 38  11 bad (0.710526316 0.289473684)  \n",
            "                         4418) age< 27.5 18   2 bad (0.888888889 0.111111111) *\n",
            "                         4419) age>=27.5 20   9 bad (0.550000000 0.450000000)  \n",
            "                           8838) savings=A61,A63 15   5 bad (0.666666667 0.333333333)  \n",
            "                            17676) property=A121,A123,A124 9   1 bad (0.888888889 0.111111111) *\n",
            "                            17677) property=A122 6   2 good (0.333333333 0.666666667)  \n",
            "                              35354) residence=2 3   1 bad (0.666666667 0.333333333) *\n",
            "                              35355) residence=1,3,4 3   0 good (0.000000000 1.000000000) *\n",
            "                           8839) savings=A62 5   1 good (0.200000000 0.800000000) *\n",
            "                     1105) age>=60.5 2   0 good (0.000000000 1.000000000) *\n",
            "                    553) others=A142 5   1 good (0.200000000 0.800000000) *\n",
            "                  277) installment< 2.5 43  21 good (0.488372093 0.511627907)  \n",
            "                    554) credit>=4231 28  11 bad (0.607142857 0.392857143)  \n",
            "                     1108) credit< 5518 8   1 bad (0.875000000 0.125000000) *\n",
            "                     1109) credit>=5518 20  10 bad (0.500000000 0.500000000)  \n",
            "                       2218) credit>=7984 13   4 bad (0.692307692 0.307692308)  \n",
            "                         4436) employment=A73,A75 6   0 bad (1.000000000 0.000000000) *\n",
            "                         4437) employment=A71,A72,A74 7   3 good (0.428571429 0.571428571)  \n",
            "                           8874) purpose=A40,A42,A45 4   1 bad (0.750000000 0.250000000) *\n",
            "                           8875) purpose=A410,A46,A49 3   0 good (0.000000000 1.000000000) *\n",
            "                       2219) credit< 7984 7   1 good (0.142857143 0.857142857) *\n",
            "                    555) credit< 4231 15   4 good (0.266666667 0.733333333)  \n",
            "                     1110) purpose=A42 8   4 bad (0.500000000 0.500000000)  \n",
            "                       2220) credit< 3530.5 5   1 bad (0.800000000 0.200000000) *\n",
            "                       2221) credit>=3530.5 3   0 good (0.000000000 1.000000000) *\n",
            "                     1111) purpose=A40,A43,A49 7   0 good (0.000000000 1.000000000) *\n",
            "                139) credit< 2353.5 4   0 good (0.000000000 1.000000000) *\n",
            "             35) purpose=A41 23   6 good (0.260869565 0.739130435)  \n",
            "               70) credit>=8097.5 7   2 bad (0.714285714 0.285714286)  \n",
            "                140) history=A32 4   0 bad (1.000000000 0.000000000) *\n",
            "                141) history=A31,A34 3   1 good (0.333333333 0.666666667) *\n",
            "               71) credit< 8097.5 16   1 good (0.062500000 0.937500000) *\n",
            "          9) savings=A64,A65 41  12 good (0.292682927 0.707317073)  \n",
            "           18) check=A11 17   7 bad (0.588235294 0.411764706)  \n",
            "             36) numcredits=1 13   3 bad (0.769230769 0.230769231)  \n",
            "               72) purpose=A40,A410,A43,A46 7   0 bad (1.000000000 0.000000000) *\n",
            "               73) purpose=A41,A42 6   3 bad (0.500000000 0.500000000)  \n",
            "                146) duration>=27 2   0 bad (1.000000000 0.000000000) *\n",
            "                147) duration< 27 4   1 good (0.250000000 0.750000000) *\n",
            "             37) numcredits=2,3 4   0 good (0.000000000 1.000000000) *\n",
            "           19) check=A12 24   2 good (0.083333333 0.916666667) *\n",
            "        5) duration< 22.5 306 106 good (0.346405229 0.653594771)  \n",
            "         10) history=A30,A31 28   7 bad (0.750000000 0.250000000)  \n",
            "           20) purpose=A40,A42,A45,A46 18   1 bad (0.944444444 0.055555556) *\n",
            "           21) purpose=A41,A43,A48,A49 10   4 good (0.400000000 0.600000000)  \n",
            "             42) personal=A91,A92 3   0 bad (1.000000000 0.000000000) *\n",
            "             43) personal=A93,A94 7   1 good (0.142857143 0.857142857) *\n",
            "         11) history=A32,A33,A34 278  85 good (0.305755396 0.694244604)  \n",
            "           22) credit>=7491.5 7   1 bad (0.857142857 0.142857143) *\n",
            "           23) credit< 7491.5 271  79 good (0.291512915 0.708487085)  \n",
            "             46) purpose=A44,A46 15   5 bad (0.666666667 0.333333333)  \n",
            "               92) employment=A71,A72,A73,A75 13   3 bad (0.769230769 0.230769231)  \n",
            "                184) savings=A61,A62,A64 10   1 bad (0.900000000 0.100000000) *\n",
            "                185) savings=A65 3   1 good (0.333333333 0.666666667) *\n",
            "               93) employment=A74 2   0 good (0.000000000 1.000000000) *\n",
            "             47) purpose=A40,A41,A410,A42,A43,A45,A48,A49 256  69 good (0.269531250 0.730468750)  \n",
            "               94) duration>=11.5 183  60 good (0.327868852 0.672131148)  \n",
            "                188) credit< 1387.5 65  31 good (0.476923077 0.523076923)  \n",
            "                  376) property=A123,A124 20   3 bad (0.850000000 0.150000000)  \n",
            "                    752) numcredits=1,4 17   1 bad (0.941176471 0.058823529) *\n",
            "                    753) numcredits=2,3 3   1 good (0.333333333 0.666666667) *\n",
            "                  377) property=A121,A122 45  14 good (0.311111111 0.688888889)  \n",
            "                    754) purpose=A40,A48 16   7 bad (0.562500000 0.437500000)  \n",
            "                     1508) age< 37.5 10   2 bad (0.800000000 0.200000000)  \n",
            "                       3016) personal=A92,A93 7   0 bad (1.000000000 0.000000000) *\n",
            "                       3017) personal=A94 3   1 good (0.333333333 0.666666667) *\n",
            "                     1509) age>=37.5 6   1 good (0.166666667 0.833333333) *\n",
            "                    755) purpose=A42,A43,A49 29   5 good (0.172413793 0.827586207)  \n",
            "                     1510) age>=53 3   1 bad (0.666666667 0.333333333) *\n",
            "                     1511) age< 53 26   3 good (0.115384615 0.884615385)  \n",
            "                       3022) job=A173 12   3 good (0.250000000 0.750000000)  \n",
            "                         6044) numcredits=1 6   3 bad (0.500000000 0.500000000)  \n",
            "                          12088) purpose=A43,A49 4   1 bad (0.750000000 0.250000000) *\n",
            "                          12089) purpose=A42 2   0 good (0.000000000 1.000000000) *\n",
            "                         6045) numcredits=2 6   0 good (0.000000000 1.000000000) *\n",
            "                       3023) job=A172,A174 14   0 good (0.000000000 1.000000000) *\n",
            "                189) credit>=1387.5 118  29 good (0.245762712 0.754237288)  \n",
            "                  378) employment=A71,A72,A73,A75 100  29 good (0.290000000 0.710000000)  \n",
            "                    756) purpose=A40,A42,A43 75  26 good (0.346666667 0.653333333)  \n",
            "                     1512) age>=57.5 2   0 bad (1.000000000 0.000000000) *\n",
            "                     1513) age< 57.5 73  24 good (0.328767123 0.671232877)  \n",
            "                       3026) property=A121 22  11 bad (0.500000000 0.500000000)  \n",
            "                         6052) age< 33.5 15   4 bad (0.733333333 0.266666667)  \n",
            "                          12104) credit< 3201.5 10   1 bad (0.900000000 0.100000000) *\n",
            "                          12105) credit>=3201.5 5   2 good (0.400000000 0.600000000)  \n",
            "                            24210) check=A11 2   0 bad (1.000000000 0.000000000) *\n",
            "                            24211) check=A12 3   0 good (0.000000000 1.000000000) *\n",
            "                         6053) age>=33.5 7   0 good (0.000000000 1.000000000) *\n",
            "                       3027) property=A122,A123,A124 51  13 good (0.254901961 0.745098039)  \n",
            "                         6054) others=A141 7   3 bad (0.571428571 0.428571429)  \n",
            "                          12108) housing=A151 3   0 bad (1.000000000 0.000000000) *\n",
            "                          12109) housing=A152 4   1 good (0.250000000 0.750000000) *\n",
            "                         6055) others=A142,A143 44   9 good (0.204545455 0.795454545)  \n",
            "                          12110) credit>=3805 12   5 good (0.416666667 0.583333333)  \n",
            "                            24220) age>=41.5 3   0 bad (1.000000000 0.000000000) *\n",
            "                            24221) age< 41.5 9   2 good (0.222222222 0.777777778)  \n",
            "                              48442) personal=A91,A92 3   1 bad (0.666666667 0.333333333) *\n",
            "                              48443) personal=A93 6   0 good (0.000000000 1.000000000) *\n",
            "                          12111) credit< 3805 32   4 good (0.125000000 0.875000000)  \n",
            "                            24222) residence=2 5   2 good (0.400000000 0.600000000)  \n",
            "                              48444) credit< 2560.5 3   1 bad (0.666666667 0.333333333) *\n",
            "                              48445) credit>=2560.5 2   0 good (0.000000000 1.000000000) *\n",
            "                            24223) residence=1,3,4 27   2 good (0.074074074 0.925925926) *\n",
            "                    757) purpose=A41,A410,A45,A49 25   3 good (0.120000000 0.880000000) *\n",
            "                  379) employment=A74 18   0 good (0.000000000 1.000000000) *\n",
            "               95) duration< 11.5 73   9 good (0.123287671 0.876712329)  \n",
            "                190) age< 30.5 24   7 good (0.291666667 0.708333333)  \n",
            "                  380) property=A122,A123,A124 12   6 bad (0.500000000 0.500000000)  \n",
            "                    760) duration>=7.5 8   2 bad (0.750000000 0.250000000)  \n",
            "                     1520) employment=A72,A73 6   0 bad (1.000000000 0.000000000) *\n",
            "                     1521) employment=A74,A75 2   0 good (0.000000000 1.000000000) *\n",
            "                    761) duration< 7.5 4   0 good (0.000000000 1.000000000) *\n",
            "                  381) property=A121 12   1 good (0.083333333 0.916666667) *\n",
            "                191) age>=30.5 49   2 good (0.040816327 0.959183673) *\n",
            "      3) check=A13,A14 457  60 good (0.131291028 0.868708972)  \n",
            "        6) others=A141,A142 76  22 good (0.289473684 0.710526316)  \n",
            "         12) purpose=A40,A46,A49 32  16 bad (0.500000000 0.500000000)  \n",
            "           24) age< 45 26  10 bad (0.615384615 0.384615385)  \n",
            "             48) savings=A61,A63,A65 22   6 bad (0.727272727 0.272727273)  \n",
            "               96) installment>=1.5 17   2 bad (0.882352941 0.117647059)  \n",
            "                192) others=A141 11   0 bad (1.000000000 0.000000000) *\n",
            "                193) others=A142 6   2 bad (0.666666667 0.333333333)  \n",
            "                  386) history=A30,A34 3   0 bad (1.000000000 0.000000000) *\n",
            "                  387) history=A32,A33 3   1 good (0.333333333 0.666666667) *\n",
            "               97) installment< 1.5 5   1 good (0.200000000 0.800000000) *\n",
            "             49) savings=A62,A64 4   0 good (0.000000000 1.000000000) *\n",
            "           25) age>=45 6   0 good (0.000000000 1.000000000) *\n",
            "         13) purpose=A41,A410,A42,A43 44   6 good (0.136363636 0.863636364)  \n",
            "           26) employment=A71,A73 12   4 good (0.333333333 0.666666667)  \n",
            "             52) housing=A151 2   0 bad (1.000000000 0.000000000) *\n",
            "             53) housing=A152,A153 10   2 good (0.200000000 0.800000000)  \n",
            "              106) age>=35 3   1 bad (0.666666667 0.333333333) *\n",
            "              107) age< 35 7   0 good (0.000000000 1.000000000) *\n",
            "           27) employment=A72,A74,A75 32   2 good (0.062500000 0.937500000) *\n",
            "        7) others=A143 381  38 good (0.099737533 0.900262467)  \n",
            "         14) employment=A71,A72 66  14 good (0.212121212 0.787878788)  \n",
            "           28) credit>=6708 4   0 bad (1.000000000 0.000000000) *\n",
            "           29) credit< 6708 62  10 good (0.161290323 0.838709677)  \n",
            "             58) debtors=A102 3   0 bad (1.000000000 0.000000000) *\n",
            "             59) debtors=A101,A103 59   7 good (0.118644068 0.881355932)  \n",
            "              118) history=A30,A31 3   1 bad (0.666666667 0.333333333) *\n",
            "              119) history=A32,A33,A34 56   5 good (0.089285714 0.910714286)  \n",
            "                238) purpose=A45,A46 5   2 good (0.400000000 0.600000000)  \n",
            "                  476) duration>=16.5 2   0 bad (1.000000000 0.000000000) *\n",
            "                  477) duration< 16.5 3   0 good (0.000000000 1.000000000) *\n",
            "                239) purpose=A40,A41,A42,A43,A44,A48 51   3 good (0.058823529 0.941176471)  \n",
            "                  478) credit>=4602.5 5   2 good (0.400000000 0.600000000)  \n",
            "                    956) housing=A152 2   0 bad (1.000000000 0.000000000) *\n",
            "                    957) housing=A151,A153 3   0 good (0.000000000 1.000000000) *\n",
            "                  479) credit< 4602.5 46   1 good (0.021739130 0.978260870) *\n",
            "         15) employment=A73,A74,A75 315  24 good (0.076190476 0.923809524)  \n",
            "           30) history=A32,A33 176  20 good (0.113636364 0.886363636)  \n",
            "             60) age>=65 3   1 bad (0.666666667 0.333333333) *\n",
            "             61) age< 65 173  18 good (0.104046243 0.895953757)  \n",
            "              122) job=A172,A174 54  10 good (0.185185185 0.814814815)  \n",
            "                244) employment=A73 26   8 good (0.307692308 0.692307692)  \n",
            "                  488) credit>=2557.5 9   4 bad (0.555555556 0.444444444)  \n",
            "                    976) credit< 4654.5 6   1 bad (0.833333333 0.166666667) *\n",
            "                    977) credit>=4654.5 3   0 good (0.000000000 1.000000000) *\n",
            "                  489) credit< 2557.5 17   3 good (0.176470588 0.823529412)  \n",
            "                    978) credit< 1363.5 6   3 bad (0.500000000 0.500000000)  \n",
            "                     1956) duration< 11 2   0 bad (1.000000000 0.000000000) *\n",
            "                     1957) duration>=11 4   1 good (0.250000000 0.750000000) *\n",
            "                    979) credit>=1363.5 11   0 good (0.000000000 1.000000000) *\n",
            "                245) employment=A74,A75 28   2 good (0.071428571 0.928571429) *\n",
            "              123) job=A173 119   8 good (0.067226891 0.932773109)  \n",
            "                246) age< 22.5 10   3 good (0.300000000 0.700000000)  \n",
            "                  492) installment>=2.5 4   1 bad (0.750000000 0.250000000) *\n",
            "                  493) installment< 2.5 6   0 good (0.000000000 1.000000000) *\n",
            "                247) age>=22.5 109   5 good (0.045871560 0.954128440) *\n",
            "           31) history=A30,A31,A34 139   4 good (0.028776978 0.971223022)  \n",
            "             62) credit>=10765.5 2   1 bad (0.500000000 0.500000000) *\n",
            "             63) credit< 10765.5 137   3 good (0.021897810 0.978102190)  \n",
            "              126) check=A13 15   2 good (0.133333333 0.866666667)  \n",
            "                252) credit< 1273 5   2 good (0.400000000 0.600000000)  \n",
            "                  504) savings=A63,A65 2   0 bad (1.000000000 0.000000000) *\n",
            "                  505) savings=A61,A64 3   0 good (0.000000000 1.000000000) *\n",
            "                253) credit>=1273 10   0 good (0.000000000 1.000000000) *\n",
            "              127) check=A14 122   1 good (0.008196721 0.991803279) *\n"
          ],
          "name": "stdout"
        }
      ]
    },
    {
      "cell_type": "code",
      "metadata": {
        "id": "Lw7vONSjRnpP",
        "colab": {
          "base_uri": "https://localhost:8080/"
        },
        "outputId": "422adc24-7b93-42f7-a67d-4b9fccdf53ca"
      },
      "source": [
        "#모든 cp값에 대한 나무모형 성능 결과\n",
        "printcp(fit.german)"
      ],
      "execution_count": 22,
      "outputs": [
        {
          "output_type": "stream",
          "text": [
            "\n",
            "Classification tree:\n",
            "rpart(formula = y ~ ., data = german, method = \"class\", control = my.control.german)\n",
            "\n",
            "Variables actually used in tree construction:\n",
            " [1] age         check       credit      debtors     duration    employment \n",
            " [7] history     housing     installment job         numcredits  others     \n",
            "[13] personal    property    purpose     residence   savings    \n",
            "\n",
            "Root node error: 300/1000 = 0.3\n",
            "\n",
            "n= 1000 \n",
            "\n",
            "          CP nsplit rel error  xerror     xstd\n",
            "1  0.0516667      0   1.00000 1.00000 0.048305\n",
            "2  0.0466667      3   0.84000 0.99667 0.048258\n",
            "3  0.0183333      4   0.79333 0.86000 0.046120\n",
            "4  0.0166667      6   0.75667 0.86333 0.046178\n",
            "5  0.0155556      8   0.72333 0.87667 0.046408\n",
            "6  0.0116667     11   0.67667 0.88000 0.046464\n",
            "7  0.0100000     13   0.65333 0.86667 0.046236\n",
            "8  0.0083333     16   0.62333 0.89333 0.046688\n",
            "9  0.0066667     18   0.60667 0.91667 0.047067\n",
            "10 0.0060000     38   0.44333 0.94000 0.047431\n",
            "11 0.0050000     43   0.41333 0.98667 0.048118\n",
            "12 0.0044444     55   0.35333 0.98667 0.048118\n",
            "13 0.0033333     59   0.33333 0.99667 0.048258\n",
            "14 0.0029167     83   0.25000 0.98667 0.048118\n",
            "15 0.0022222     93   0.22000 0.99333 0.048212\n",
            "16 0.0016667     96   0.21333 1.01000 0.048441\n",
            "17 0.0000000    104   0.20000 1.03000 0.048708\n"
          ],
          "name": "stdout"
        }
      ]
    },
    {
      "cell_type": "markdown",
      "metadata": {
        "id": "7rbQgKRJ6AT1"
      },
      "source": [
        "해석\n",
        ">\n",
        "* 오분류율이 최소가 되는 것은 3번째단계 4번 분리할 때임(오분류율 = 0.86)"
      ]
    },
    {
      "cell_type": "code",
      "metadata": {
        "id": "uTjcGME2Tk5Y",
        "colab": {
          "base_uri": "https://localhost:8080/"
        },
        "outputId": "e493d867-8bc5-4f3f-ce8f-3dcf1032b3ba"
      },
      "source": [
        "#가지치기 실행\n",
        "fit.prun.german <- prune(fit.german, cp = 0.0183333)\n",
        "print(fit.prun.german)"
      ],
      "execution_count": 23,
      "outputs": [
        {
          "output_type": "stream",
          "text": [
            "n= 1000 \n",
            "\n",
            "node), split, n, loss, yval, (yprob)\n",
            "      * denotes terminal node\n",
            "\n",
            " 1) root 1000 300 good (0.3000000 0.7000000)  \n",
            "   2) check=A11,A12 543 240 good (0.4419890 0.5580110)  \n",
            "     4) duration>=22.5 237 103 bad (0.5654008 0.4345992)  \n",
            "       8) savings=A61,A62,A63 196  74 bad (0.6224490 0.3775510)  \n",
            "        16) duration>=47.5 36   5 bad (0.8611111 0.1388889) *\n",
            "        17) duration< 47.5 160  69 bad (0.5687500 0.4312500)  \n",
            "          34) purpose=A40,A410,A42,A43,A45,A46,A49 137  52 bad (0.6204380 0.3795620) *\n",
            "          35) purpose=A41 23   6 good (0.2608696 0.7391304) *\n",
            "       9) savings=A64,A65 41  12 good (0.2926829 0.7073171) *\n",
            "     5) duration< 22.5 306 106 good (0.3464052 0.6535948)  \n",
            "      10) history=A30,A31 28   7 bad (0.7500000 0.2500000) *\n",
            "      11) history=A32,A33,A34 278  85 good (0.3057554 0.6942446) *\n",
            "   3) check=A13,A14 457  60 good (0.1312910 0.8687090) *\n"
          ],
          "name": "stdout"
        }
      ]
    },
    {
      "cell_type": "code",
      "metadata": {
        "id": "7QbC6szrT1-D",
        "colab": {
          "base_uri": "https://localhost:8080/",
          "height": 0
        },
        "outputId": "07f2639d-d36e-4a6c-dc93-9fc02109427d"
      },
      "source": [
        "#가지치기 후 모형 시각화\n",
        "plot(fit.prun.german, uniform=T, compress=T, margin=0.1)\n",
        "text(fit.prun.german, use.n = T, com = \"blue\")"
      ],
      "execution_count": 24,
      "outputs": [
        {
          "output_type": "stream",
          "text": [
            "Warning message in text.default(xy$x, xy$y + 0.5 * cxy[2L], rows[left.child], ...):\n",
            "“\"com\" is not a graphical parameter”\n",
            "Warning message in text.default(xy$x[leaves], xy$y[leaves] - 0.5 * cxy[2L], stat, :\n",
            "“\"com\" is not a graphical parameter”\n"
          ],
          "name": "stderr"
        },
        {
          "output_type": "display_data",
          "data": {
            "image/png": "[encoded data removed]",
            "text/plain": [
              "plot without title"
            ]
          },
          "metadata": {
            "tags": [],
            "image/png": {
              "width": 420,
              "height": 420
            }
          }
        }
      ]
    },
    {
      "cell_type": "markdown",
      "metadata": {
        "id": "eg93iJgS63jF"
      },
      "source": [
        "설명\n",
        ">\n",
        "* 가장 아래 분할점 purpose=acdeghj : purpose 변수의 범주값 중 알파벳 순서로 1, 3, 4, 5, 7, 8, 10번째 범주값임(A40, A410, A42, A43, A45, A46, A49)\n",
        "* 또한 오분류울이 낮은 것중 최소 오분류율 표준편차의 1배 범위 내에 있는 것은 1-s.e법칙에 따라 선택하는 경우도 있다(가지치기 횟수를 줄이기 위해 사용)"
      ]
    },
    {
      "cell_type": "markdown",
      "metadata": {
        "id": "NyKyiU7sUBOe"
      },
      "source": [
        "## 목표변수의 분류예측치 & 정확도 평가\n",
        "* 참고 : newdata에서 같은 데이터를 사용해 분류예측치를 구하였고 동일한 형식의 새로운 데이터를 사용하면 예측치를 구하게됨\n",
        "* type = class : 분류나무의 집단값 예측결과를 의미함\n",
        "* type = \"vector\" : 회귀나무일경우 사용함함"
      ]
    },
    {
      "cell_type": "code",
      "metadata": {
        "id": "3o6NNpUBUBOl"
      },
      "source": [
        "#분류예측치 구하기\n",
        "pred.german <- predict(fit.prun.german, newdata = german, type= \"class\")"
      ],
      "execution_count": 26,
      "outputs": []
    },
    {
      "cell_type": "code",
      "metadata": {
        "colab": {
          "base_uri": "https://localhost:8080/"
        },
        "id": "md0ApfwVUBOl",
        "outputId": "71fbf673-ca06-44a0-80f9-835b7abcb5a0"
      },
      "source": [
        "#오분류표\n",
        "tab = table(y, pred.german, dnn = c(\"Actual\", \"Predicted\"))\n",
        "print(tab)"
      ],
      "execution_count": 27,
      "outputs": [
        {
          "output_type": "stream",
          "text": [
            "      Predicted\n",
            "Actual bad good\n",
            "  bad  137  163\n",
            "  good  64  636\n"
          ],
          "name": "stdout"
        }
      ]
    },
    {
      "cell_type": "code",
      "metadata": {
        "colab": {
          "base_uri": "https://localhost:8080/",
          "height": 0
        },
        "id": "3kbWXSVTUBOm",
        "outputId": "35d3f0f9-a4ea-4240-8c3e-3f1f3655252a"
      },
      "source": [
        "#오분류울\n",
        "1-sum(diag(tab))/(sum(tab))"
      ],
      "execution_count": 28,
      "outputs": [
        {
          "output_type": "display_data",
          "data": {
            "text/plain": [
              "[1] 0.227"
            ],
            "text/latex": "0.227",
            "text/markdown": "0.227",
            "text/html": [
              "0.227"
            ]
          },
          "metadata": {
            "tags": []
          }
        }
      ]
    },
    {
      "cell_type": "markdown",
      "metadata": {
        "id": "cv6RBE6W_xm3"
      },
      "source": [
        "## 훈련/검증데이터를 이용한 분류예측치 & 정확도평가"
      ]
    },
    {
      "cell_type": "code",
      "metadata": {
        "colab": {
          "base_uri": "https://localhost:8080/"
        },
        "id": "jx-yHembUBOm",
        "outputId": "7d670214-7398-4774-c96c-b00d7d2e5159"
      },
      "source": [
        "#분류나무 평가하기\n",
        "set.seed(1234)\n",
        "\n",
        "#german데이터의 70%를 훈련데이터 / 30%를 검증데이터로 랜분류나무 평가하기\n",
        "i = sample(1:nrow(german), round(nrow(german)*0.7))\n",
        "german.train <- german[i, ]\n",
        "german.test <- german[-i,]\n",
        "\n",
        "#훈련데이터로 학습\n",
        "fit.german.train <- rpart(y ~ .,data = german.train, method=\"class\", control = my.control.german)\n",
        "printcp(fit.german.train)"
      ],
      "execution_count": 29,
      "outputs": [
        {
          "output_type": "stream",
          "text": [
            "\n",
            "Classification tree:\n",
            "rpart(formula = y ~ ., data = german.train, method = \"class\", \n",
            "    control = my.control.german)\n",
            "\n",
            "Variables actually used in tree construction:\n",
            " [1] age         check       credit      duration    employment  history    \n",
            " [7] housing     installment job         others      personal    property   \n",
            "[13] purpose     residence   residpeople savings     telephone  \n",
            "\n",
            "Root node error: 209/700 = 0.29857\n",
            "\n",
            "n= 700 \n",
            "\n",
            "          CP nsplit rel error  xerror     xstd\n",
            "1  0.0861244      0   1.00000 1.00000 0.057932\n",
            "2  0.0382775      3   0.74163 0.82297 0.054499\n",
            "3  0.0167464      4   0.70335 0.77033 0.053274\n",
            "4  0.0159490      6   0.66986 0.79426 0.053843\n",
            "5  0.0143541      9   0.62201 0.80383 0.054065\n",
            "6  0.0119617     12   0.57895 0.84211 0.054920\n",
            "7  0.0095694     14   0.55502 0.85167 0.055125\n",
            "8  0.0076555     28   0.40670 0.85167 0.055125\n",
            "9  0.0071770     33   0.36842 0.86603 0.055428\n",
            "10 0.0059809     37   0.33971 0.89474 0.056012\n",
            "11 0.0047847     41   0.31579 0.90431 0.056201\n",
            "12 0.0031898     54   0.25359 0.93780 0.056839\n",
            "13 0.0011962     68   0.19617 0.95694 0.057188\n",
            "14 0.0000000     72   0.19139 0.96172 0.057273\n"
          ],
          "name": "stdout"
        }
      ]
    },
    {
      "cell_type": "markdown",
      "metadata": {
        "id": "P_7XiPxB--fT"
      },
      "source": [
        "해석\n",
        ">\n",
        "* 데이터의 70%를 랜덤하게 훈련데이터로 할당하고 30%는 검증데이터로 할당\n",
        "* 훈련데이터로 의사결정나무 적합시키고, 비용복잡함수에 의한 다양항 크기의 나무구조를 출력함\n",
        "* 교차타당성 최소오류율은 3번째 나무구조임(0.77033)"
      ]
    },
    {
      "cell_type": "code",
      "metadata": {
        "colab": {
          "base_uri": "https://localhost:8080/"
        },
        "id": "uwb4-ITWUBOn",
        "outputId": "862daad2-2d5c-42eb-d13b-706ea25c1146"
      },
      "source": [
        "#cp = 0.0167464 로 훈련데이터의 나무구조 가지치기\n",
        "fit.prun.german.train <- prune(fit.german.train, cp = 0.0167464)\n",
        "print(fit.prun.german.train)"
      ],
      "execution_count": 30,
      "outputs": [
        {
          "output_type": "stream",
          "text": [
            "n= 700 \n",
            "\n",
            "node), split, n, loss, yval, (yprob)\n",
            "      * denotes terminal node\n",
            "\n",
            " 1) root 700 209 good (0.29857143 0.70142857)  \n",
            "   2) check=A11,A12 360 168 good (0.46666667 0.53333333)  \n",
            "     4) history=A30,A31 45  10 bad (0.77777778 0.22222222) *\n",
            "     5) history=A32,A33,A34 315 133 good (0.42222222 0.57777778)  \n",
            "      10) duration>=27.5 81  26 bad (0.67901235 0.32098765) *\n",
            "      11) duration< 27.5 234  78 good (0.33333333 0.66666667)  \n",
            "        22) credit>=8472 8   0 bad (1.00000000 0.00000000) *\n",
            "        23) credit< 8472 226  70 good (0.30973451 0.69026549) *\n",
            "   3) check=A13,A14 340  41 good (0.12058824 0.87941176)  \n",
            "     6) purpose=A49 36  12 good (0.33333333 0.66666667)  \n",
            "      12) employment=A71,A72 7   0 bad (1.00000000 0.00000000) *\n",
            "      13) employment=A73,A74,A75 29   5 good (0.17241379 0.82758621) *\n",
            "     7) purpose=A40,A41,A42,A43,A44,A45,A46,A48 304  29 good (0.09539474 0.90460526) *\n"
          ],
          "name": "stdout"
        }
      ]
    },
    {
      "cell_type": "code",
      "metadata": {
        "colab": {
          "base_uri": "https://localhost:8080/"
        },
        "id": "AQeREMPoUBOn",
        "outputId": "276c46cc-6ea1-4d83-aa96-38e9863865c3"
      },
      "source": [
        "#30%의 검증데이터로 분류예측치 구하기\n",
        "p.german.test = predict(fit.prun.german.train, newdata=german.test, type = \"class\")\n",
        "tab = table(german.test$y, p.german.test, dnn = c(\"Actual\", \"Predicted\"))\n",
        "print(tab)"
      ],
      "execution_count": 31,
      "outputs": [
        {
          "output_type": "stream",
          "text": [
            "      Predicted\n",
            "Actual bad good\n",
            "  bad   25   66\n",
            "  good  29  180\n"
          ],
          "name": "stdout"
        }
      ]
    },
    {
      "cell_type": "code",
      "metadata": {
        "colab": {
          "base_uri": "https://localhost:8080/",
          "height": 34
        },
        "id": "r4eC7Q0NAQ5Z",
        "outputId": "5320e8fc-3cf1-4387-d8e1-497a7f4b26c7"
      },
      "source": [
        "# 오분류율\n",
        "1- sum(diag(tab))/sum(tab)"
      ],
      "execution_count": 32,
      "outputs": [
        {
          "output_type": "display_data",
          "data": {
            "text/plain": [
              "[1] 0.3166667"
            ],
            "text/latex": "0.316666666666667",
            "text/markdown": "0.316666666666667",
            "text/html": [
              "0.316666666666667"
            ]
          },
          "metadata": {
            "tags": []
          }
        }
      ]
    },
    {
      "cell_type": "markdown",
      "metadata": {
        "id": "VcpzYJKPAfYu"
      },
      "source": [
        "#회귀나무모형"
      ]
    }
  ]
}