{
  "nbformat": 4,
  "nbformat_minor": 0,
  "metadata": {
    "colab": {
      "name": "회귀모형_출석과제물(박승희, 202035-368335)",
      "provenance": [],
      "collapsed_sections": [],
      "authorship_tag": "ABX9TyMcE/uzm79hG3NjjYCoGYqL",
      "include_colab_link": true
    },
    "kernelspec": {
      "name": "ir",
      "display_name": "R"
    }
  },
  "cells": [
    {
      "cell_type": "markdown",
      "metadata": {
        "id": "view-in-github",
        "colab_type": "text"
      },
      "source": [
        "<a href=\"https://colab.research.google.com/github/seunghee0518/R_File/blob/main/%ED%9A%8C%EA%B7%80%EB%AA%A8%ED%98%95_%EC%B6%9C%EC%84%9D%EA%B3%BC%EC%A0%9C%EB%AC%BC(%EB%B0%95%EC%8A%B9%ED%9D%AC%2C_202035_368335).ipynb\" target=\"_parent\"><img src=\"https://colab.research.google.com/assets/colab-badge.svg\" alt=\"Open In Colab\"/></a>"
      ]
    },
    {
      "cell_type": "markdown",
      "metadata": {
        "id": "k8oWgXbuZVNh"
      },
      "source": [
        "# 2.2 제품의 강도 자료\n",
        "* X1 : 공정온도\n",
        "* X2 : 공정압력\n",
        "* Y : 강도"
      ]
    },
    {
      "cell_type": "code",
      "metadata": {
        "id": "_R9jHB_fXRS5",
        "colab": {
          "base_uri": "https://localhost:8080/",
          "height": 282
        },
        "outputId": "10169081-0ffa-4480-de7f-d435cdfa38f4"
      },
      "source": [
        "url_2.2 = 'https://raw.githubusercontent.com/seunghee0518/R_File/main/%ED%9A%8C%EA%B7%80%EB%AA%A8%ED%98%95/exercise_2.2.txt'\n",
        "strength = read.table(url_2.2, header = T)\n",
        "head(strength)"
      ],
      "execution_count": 21,
      "outputs": [
        {
          "output_type": "display_data",
          "data": {
            "text/plain": [
              "  X1  X2 Y    \n",
              "1 195 57  81.4\n",
              "2 179 61 122.0\n",
              "3 205 60 101.7\n",
              "4 204 62 175.6\n",
              "5 201 61 150.3\n",
              "6 184 54  64.8"
            ],
            "text/latex": "A data.frame: 6 × 3\n\\begin{tabular}{r|lll}\n  & X1 & X2 & Y\\\\\n  & <int> & <int> & <dbl>\\\\\n\\hline\n\t1 & 195 & 57 &  81.4\\\\\n\t2 & 179 & 61 & 122.0\\\\\n\t3 & 205 & 60 & 101.7\\\\\n\t4 & 204 & 62 & 175.6\\\\\n\t5 & 201 & 61 & 150.3\\\\\n\t6 & 184 & 54 &  64.8\\\\\n\\end{tabular}\n",
            "text/markdown": "\nA data.frame: 6 × 3\n\n| <!--/--> | X1 &lt;int&gt; | X2 &lt;int&gt; | Y &lt;dbl&gt; |\n|---|---|---|---|\n| 1 | 195 | 57 |  81.4 |\n| 2 | 179 | 61 | 122.0 |\n| 3 | 205 | 60 | 101.7 |\n| 4 | 204 | 62 | 175.6 |\n| 5 | 201 | 61 | 150.3 |\n| 6 | 184 | 54 |  64.8 |\n\n",
            "text/html": [
              "<table class=\"dataframe\">\n",
              "<caption>A data.frame: 6 × 3</caption>\n",
              "<thead>\n",
              "\t<tr><th></th><th scope=col>X1</th><th scope=col>X2</th><th scope=col>Y</th></tr>\n",
              "\t<tr><th></th><th scope=col>&lt;int&gt;</th><th scope=col>&lt;int&gt;</th><th scope=col>&lt;dbl&gt;</th></tr>\n",
              "</thead>\n",
              "<tbody>\n",
              "\t<tr><th scope=row>1</th><td>195</td><td>57</td><td> 81.4</td></tr>\n",
              "\t<tr><th scope=row>2</th><td>179</td><td>61</td><td>122.0</td></tr>\n",
              "\t<tr><th scope=row>3</th><td>205</td><td>60</td><td>101.7</td></tr>\n",
              "\t<tr><th scope=row>4</th><td>204</td><td>62</td><td>175.6</td></tr>\n",
              "\t<tr><th scope=row>5</th><td>201</td><td>61</td><td>150.3</td></tr>\n",
              "\t<tr><th scope=row>6</th><td>184</td><td>54</td><td> 64.8</td></tr>\n",
              "</tbody>\n",
              "</table>\n"
            ]
          },
          "metadata": {
            "tags": []
          }
        }
      ]
    },
    {
      "cell_type": "code",
      "metadata": {
        "id": "VF3XiOKkZlzN",
        "colab": {
          "base_uri": "https://localhost:8080/",
          "height": 355
        },
        "outputId": "c7ba344e-238b-4da7-ab61-269b6efcc618"
      },
      "source": [
        "#회귀모형 적합\n",
        "strength.lm = lm(Y ~ ., data = strength)\n",
        "summary(strength.lm)"
      ],
      "execution_count": 22,
      "outputs": [
        {
          "output_type": "display_data",
          "data": {
            "text/plain": [
              "\n",
              "Call:\n",
              "lm(formula = Y ~ ., data = strength)\n",
              "\n",
              "Residuals:\n",
              "      1       2       3       4       5       6       7       8 \n",
              " -5.250 -14.817 -18.742  31.294  17.316  11.768  -3.781 -17.789 \n",
              "\n",
              "Coefficients:\n",
              "             Estimate Std. Error t value Pr(>|t|)  \n",
              "(Intercept) -554.5267   197.2264  -2.812   0.0375 *\n",
              "X1            -0.1743     0.7636  -0.228   0.8285  \n",
              "X2            11.8449     3.2342   3.662   0.0146 *\n",
              "---\n",
              "Signif. codes:  0 ‘***’ 0.001 ‘**’ 0.01 ‘*’ 0.05 ‘.’ 0.1 ‘ ’ 1\n",
              "\n",
              "Residual standard error: 21.66 on 5 degrees of freedom\n",
              "Multiple R-squared:  0.747,\tAdjusted R-squared:  0.6459 \n",
              "F-statistic: 7.383 on 2 and 5 DF,  p-value: 0.03218\n"
            ]
          },
          "metadata": {
            "tags": []
          }
        }
      ]
    },
    {
      "cell_type": "code",
      "metadata": {
        "colab": {
          "base_uri": "https://localhost:8080/",
          "height": 189
        },
        "id": "vRFOzG6gRX6K",
        "outputId": "b9c442e9-dabb-42ec-c74d-204e6a9e754f"
      },
      "source": [
        "#분산분석표\n",
        "anova(strength.lm)"
      ],
      "execution_count": 23,
      "outputs": [
        {
          "output_type": "display_data",
          "data": {
            "text/plain": [
              "          Df Sum Sq    Mean Sq   F value   Pr(>F)    \n",
              "X1        1   634.8752  634.8752  1.352639 0.29730076\n",
              "X2        1  6295.6511 6295.6511 13.413253 0.01455821\n",
              "Residuals 5  2346.8024  469.3605        NA         NA"
            ],
            "text/latex": "A anova: 3 × 5\n\\begin{tabular}{r|lllll}\n  & Df & Sum Sq & Mean Sq & F value & Pr(>F)\\\\\n  & <int> & <dbl> & <dbl> & <dbl> & <dbl>\\\\\n\\hline\n\tX1 & 1 &  634.8752 &  634.8752 &  1.352639 & 0.29730076\\\\\n\tX2 & 1 & 6295.6511 & 6295.6511 & 13.413253 & 0.01455821\\\\\n\tResiduals & 5 & 2346.8024 &  469.3605 &        NA &         NA\\\\\n\\end{tabular}\n",
            "text/markdown": "\nA anova: 3 × 5\n\n| <!--/--> | Df &lt;int&gt; | Sum Sq &lt;dbl&gt; | Mean Sq &lt;dbl&gt; | F value &lt;dbl&gt; | Pr(&gt;F) &lt;dbl&gt; |\n|---|---|---|---|---|---|\n| X1 | 1 |  634.8752 |  634.8752 |  1.352639 | 0.29730076 |\n| X2 | 1 | 6295.6511 | 6295.6511 | 13.413253 | 0.01455821 |\n| Residuals | 5 | 2346.8024 |  469.3605 |        NA |         NA |\n\n",
            "text/html": [
              "<table class=\"dataframe\">\n",
              "<caption>A anova: 3 × 5</caption>\n",
              "<thead>\n",
              "\t<tr><th></th><th scope=col>Df</th><th scope=col>Sum Sq</th><th scope=col>Mean Sq</th><th scope=col>F value</th><th scope=col>Pr(&gt;F)</th></tr>\n",
              "\t<tr><th></th><th scope=col>&lt;int&gt;</th><th scope=col>&lt;dbl&gt;</th><th scope=col>&lt;dbl&gt;</th><th scope=col>&lt;dbl&gt;</th><th scope=col>&lt;dbl&gt;</th></tr>\n",
              "</thead>\n",
              "<tbody>\n",
              "\t<tr><th scope=row>X1</th><td>1</td><td> 634.8752</td><td> 634.8752</td><td> 1.352639</td><td>0.29730076</td></tr>\n",
              "\t<tr><th scope=row>X2</th><td>1</td><td>6295.6511</td><td>6295.6511</td><td>13.413253</td><td>0.01455821</td></tr>\n",
              "\t<tr><th scope=row>Residuals</th><td>5</td><td>2346.8024</td><td> 469.3605</td><td>       NA</td><td>        NA</td></tr>\n",
              "</tbody>\n",
              "</table>\n"
            ]
          },
          "metadata": {
            "tags": []
          }
        }
      ]
    },
    {
      "cell_type": "code",
      "metadata": {
        "colab": {
          "base_uri": "https://localhost:8080/",
          "height": 158
        },
        "id": "SRDT8fKPlCH9",
        "outputId": "68cf268f-afa8-456b-fee7-f67d9677d013"
      },
      "source": [
        "# 2번 문제 : (X'X)-1 계산\n",
        "X = strength[, c(1:2)]\n",
        "X = cbind(1, X)\n",
        "X = as.matrix(X)\n",
        "Y = strength[, 3]\n",
        "Y = as.matrix(Y)\n",
        "XTX = t(X)%*% X\n",
        "XTXI = solve(XTX)\n",
        "XTXI"
      ],
      "execution_count": 24,
      "outputs": [
        {
          "output_type": "display_data",
          "data": {
            "text/plain": [
              "   1          X1           X2          \n",
              "1  82.8749894 -0.134598917 -0.945973490\n",
              "X1 -0.1345989  0.001242266 -0.001887521\n",
              "X2 -0.9459735 -0.001887521  0.022285408"
            ],
            "text/latex": "A matrix: 3 × 3 of type dbl\n\\begin{tabular}{r|lll}\n  & 1 & X1 & X2\\\\\n\\hline\n\t1 & 82.8749894 & -0.134598917 & -0.945973490\\\\\n\tX1 & -0.1345989 &  0.001242266 & -0.001887521\\\\\n\tX2 & -0.9459735 & -0.001887521 &  0.022285408\\\\\n\\end{tabular}\n",
            "text/markdown": "\nA matrix: 3 × 3 of type dbl\n\n| <!--/--> | 1 | X1 | X2 |\n|---|---|---|---|\n| 1 | 82.8749894 | -0.134598917 | -0.945973490 |\n| X1 | -0.1345989 |  0.001242266 | -0.001887521 |\n| X2 | -0.9459735 | -0.001887521 |  0.022285408 |\n\n",
            "text/html": [
              "<table class=\"dataframe\">\n",
              "<caption>A matrix: 3 × 3 of type dbl</caption>\n",
              "<thead>\n",
              "\t<tr><th></th><th scope=col>1</th><th scope=col>X1</th><th scope=col>X2</th></tr>\n",
              "</thead>\n",
              "<tbody>\n",
              "\t<tr><th scope=row>1</th><td>82.8749894</td><td>-0.134598917</td><td>-0.945973490</td></tr>\n",
              "\t<tr><th scope=row>X1</th><td>-0.1345989</td><td> 0.001242266</td><td>-0.001887521</td></tr>\n",
              "\t<tr><th scope=row>X2</th><td>-0.9459735</td><td>-0.001887521</td><td> 0.022285408</td></tr>\n",
              "</tbody>\n",
              "</table>\n"
            ]
          },
          "metadata": {
            "tags": []
          }
        }
      ]
    },
    {
      "cell_type": "code",
      "metadata": {
        "colab": {
          "base_uri": "https://localhost:8080/",
          "height": 34
        },
        "id": "ON0NflslSf3N",
        "outputId": "73541ede-6b66-4599-bb61-088d4e8771a3"
      },
      "source": [
        "#3번 문제 : X1 = 200, X2 = 59일 경우 추정치\n",
        "hat.Y = -554.5267 +(-0.1743*200)+(11.8449*59)\n",
        "hat.Y"
      ],
      "execution_count": 25,
      "outputs": [
        {
          "output_type": "display_data",
          "data": {
            "text/plain": [
              "[1] 109.4624"
            ],
            "text/latex": "109.4624",
            "text/markdown": "109.4624",
            "text/html": [
              "109.4624"
            ]
          },
          "metadata": {
            "tags": []
          }
        }
      ]
    },
    {
      "cell_type": "code",
      "metadata": {
        "colab": {
          "base_uri": "https://localhost:8080/",
          "height": 34
        },
        "id": "t9CHgpipTIqF",
        "outputId": "fe979700-3fbb-4e05-a1e6-235ab4f00cec"
      },
      "source": [
        "# 5번 문제 : F검정\n",
        "qf(0.95, 2, 5)"
      ],
      "execution_count": 26,
      "outputs": [
        {
          "output_type": "display_data",
          "data": {
            "text/plain": [
              "[1] 5.786135"
            ],
            "text/latex": "5.78613504334997",
            "text/markdown": "5.78613504334997",
            "text/html": [
              "5.78613504334997"
            ]
          },
          "metadata": {
            "tags": []
          }
        }
      ]
    },
    {
      "cell_type": "code",
      "metadata": {
        "colab": {
          "base_uri": "https://localhost:8080/"
        },
        "id": "wjT93zqLUez2",
        "outputId": "1aff1e0d-6ea4-4d83-f4bc-099c9a02d785"
      },
      "source": [
        "#7번 문제 : 표준화회귀모형\n",
        "install.packages('lm.beta')\n",
        "library(lm.beta)\n",
        "strength.beta = lm.beta(strength.lm)\n",
        "print(strength.beta)"
      ],
      "execution_count": 27,
      "outputs": [
        {
          "output_type": "stream",
          "text": [
            "Installing package into ‘/usr/local/lib/R/site-library’\n",
            "(as ‘lib’ is unspecified)\n",
            "\n"
          ],
          "name": "stderr"
        },
        {
          "output_type": "stream",
          "text": [
            "\n",
            "Call:\n",
            "lm(formula = Y ~ ., data = strength)\n",
            "\n",
            "Standardized Coefficients::\n",
            "(Intercept)          X1          X2 \n",
            " 0.00000000 -0.05499279  0.88251635 \n",
            "\n"
          ],
          "name": "stdout"
        }
      ]
    },
    {
      "cell_type": "markdown",
      "metadata": {
        "id": "Ytt5ceL7YIg6"
      },
      "source": [
        "# 2.3 물의 소비량\n",
        "* Y : 물소비량\n",
        "* X1 : 평균온도\n",
        "* X2 : 작업일수\n",
        "* X3 : 작업량\n",
        "\n",
        "3. 분산분석표를 작성하고, 결정계수 R2를 구하라."
      ]
    },
    {
      "cell_type": "code",
      "metadata": {
        "id": "UoTvPeO7XUqM",
        "colab": {
          "base_uri": "https://localhost:8080/",
          "height": 282
        },
        "outputId": "8fda17b2-5462-4f55-8c66-19c02bdaaceb"
      },
      "source": [
        "url_2.3 = 'https://raw.githubusercontent.com/seunghee0518/R_File/main/%ED%9A%8C%EA%B7%80%EB%AA%A8%ED%98%95/exercise_2.3.txt'\n",
        "water = read.table(url_2.3, header = T)\n",
        "head(water)"
      ],
      "execution_count": 28,
      "outputs": [
        {
          "output_type": "display_data",
          "data": {
            "text/plain": [
              "  Y   X1 X2 X3\n",
              "1 2.8 10 27 64\n",
              "2 3.9 24 26 72\n",
              "3 3.9 25 28 80\n",
              "4 4.4 28 26 88\n",
              "5 3.1 15 30 81\n",
              "6 3.1 18 24 45"
            ],
            "text/latex": "A data.frame: 6 × 4\n\\begin{tabular}{r|llll}\n  & Y & X1 & X2 & X3\\\\\n  & <dbl> & <int> & <int> & <int>\\\\\n\\hline\n\t1 & 2.8 & 10 & 27 & 64\\\\\n\t2 & 3.9 & 24 & 26 & 72\\\\\n\t3 & 3.9 & 25 & 28 & 80\\\\\n\t4 & 4.4 & 28 & 26 & 88\\\\\n\t5 & 3.1 & 15 & 30 & 81\\\\\n\t6 & 3.1 & 18 & 24 & 45\\\\\n\\end{tabular}\n",
            "text/markdown": "\nA data.frame: 6 × 4\n\n| <!--/--> | Y &lt;dbl&gt; | X1 &lt;int&gt; | X2 &lt;int&gt; | X3 &lt;int&gt; |\n|---|---|---|---|---|\n| 1 | 2.8 | 10 | 27 | 64 |\n| 2 | 3.9 | 24 | 26 | 72 |\n| 3 | 3.9 | 25 | 28 | 80 |\n| 4 | 4.4 | 28 | 26 | 88 |\n| 5 | 3.1 | 15 | 30 | 81 |\n| 6 | 3.1 | 18 | 24 | 45 |\n\n",
            "text/html": [
              "<table class=\"dataframe\">\n",
              "<caption>A data.frame: 6 × 4</caption>\n",
              "<thead>\n",
              "\t<tr><th></th><th scope=col>Y</th><th scope=col>X1</th><th scope=col>X2</th><th scope=col>X3</th></tr>\n",
              "\t<tr><th></th><th scope=col>&lt;dbl&gt;</th><th scope=col>&lt;int&gt;</th><th scope=col>&lt;int&gt;</th><th scope=col>&lt;int&gt;</th></tr>\n",
              "</thead>\n",
              "<tbody>\n",
              "\t<tr><th scope=row>1</th><td>2.8</td><td>10</td><td>27</td><td>64</td></tr>\n",
              "\t<tr><th scope=row>2</th><td>3.9</td><td>24</td><td>26</td><td>72</td></tr>\n",
              "\t<tr><th scope=row>3</th><td>3.9</td><td>25</td><td>28</td><td>80</td></tr>\n",
              "\t<tr><th scope=row>4</th><td>4.4</td><td>28</td><td>26</td><td>88</td></tr>\n",
              "\t<tr><th scope=row>5</th><td>3.1</td><td>15</td><td>30</td><td>81</td></tr>\n",
              "\t<tr><th scope=row>6</th><td>3.1</td><td>18</td><td>24</td><td>45</td></tr>\n",
              "</tbody>\n",
              "</table>\n"
            ]
          },
          "metadata": {
            "tags": []
          }
        }
      ]
    },
    {
      "cell_type": "code",
      "metadata": {
        "id": "jQC3r-LGZjWk",
        "colab": {
          "base_uri": "https://localhost:8080/",
          "height": 372
        },
        "outputId": "e6d8f5e6-4b52-44c8-801f-4eaeb1edf41d"
      },
      "source": [
        "#회귀모형 적합\n",
        "water.lm = lm(Y ~ X1+X2+X3, data = water)\n",
        "summary(water.lm)"
      ],
      "execution_count": 34,
      "outputs": [
        {
          "output_type": "display_data",
          "data": {
            "text/plain": [
              "\n",
              "Call:\n",
              "lm(formula = Y ~ X1 + X2 + X3, data = water)\n",
              "\n",
              "Residuals:\n",
              "     Min       1Q   Median       3Q      Max \n",
              "-0.23490 -0.07744 -0.02166  0.08840  0.23442 \n",
              "\n",
              "Coefficients:\n",
              "             Estimate Std. Error t value Pr(>|t|)   \n",
              "(Intercept)  2.409213   1.125954   2.140  0.07618 . \n",
              "X1           0.069788   0.012640   5.521  0.00149 **\n",
              "X2          -0.024767   0.044830  -0.552  0.60060   \n",
              "X3           0.005864   0.005052   1.161  0.28978   \n",
              "---\n",
              "Signif. codes:  0 ‘***’ 0.001 ‘**’ 0.01 ‘*’ 0.05 ‘.’ 0.1 ‘ ’ 1\n",
              "\n",
              "Residual standard error: 0.172 on 6 degrees of freedom\n",
              "Multiple R-squared:  0.9202,\tAdjusted R-squared:  0.8803 \n",
              "F-statistic: 23.05 on 3 and 6 DF,  p-value: 0.001079\n"
            ]
          },
          "metadata": {
            "tags": []
          }
        }
      ]
    },
    {
      "cell_type": "code",
      "metadata": {
        "id": "MjFcU4OxGgSe",
        "colab": {
          "base_uri": "https://localhost:8080/",
          "height": 220
        },
        "outputId": "1ad9b276-bcbf-4ad2-e3e7-08807b9bf7cf"
      },
      "source": [
        "#분산분석결과\n",
        "anova(water.lm)"
      ],
      "execution_count": 35,
      "outputs": [
        {
          "output_type": "display_data",
          "data": {
            "text/plain": [
              "          Df Sum Sq      Mean Sq     F value     Pr(>F)      \n",
              "X1        1  2.004315887 2.004315887 67.73858599 0.0001737553\n",
              "X2        1  0.002273071 0.002273071  0.07682153 0.7909535228\n",
              "X3        1  0.039877142 0.039877142  1.34770234 0.2897755827\n",
              "Residuals 6  0.177533900 0.029588983          NA           NA"
            ],
            "text/latex": "A anova: 4 × 5\n\\begin{tabular}{r|lllll}\n  & Df & Sum Sq & Mean Sq & F value & Pr(>F)\\\\\n  & <int> & <dbl> & <dbl> & <dbl> & <dbl>\\\\\n\\hline\n\tX1 & 1 & 2.004315887 & 2.004315887 & 67.73858599 & 0.0001737553\\\\\n\tX2 & 1 & 0.002273071 & 0.002273071 &  0.07682153 & 0.7909535228\\\\\n\tX3 & 1 & 0.039877142 & 0.039877142 &  1.34770234 & 0.2897755827\\\\\n\tResiduals & 6 & 0.177533900 & 0.029588983 &          NA &           NA\\\\\n\\end{tabular}\n",
            "text/markdown": "\nA anova: 4 × 5\n\n| <!--/--> | Df &lt;int&gt; | Sum Sq &lt;dbl&gt; | Mean Sq &lt;dbl&gt; | F value &lt;dbl&gt; | Pr(&gt;F) &lt;dbl&gt; |\n|---|---|---|---|---|---|\n| X1 | 1 | 2.004315887 | 2.004315887 | 67.73858599 | 0.0001737553 |\n| X2 | 1 | 0.002273071 | 0.002273071 |  0.07682153 | 0.7909535228 |\n| X3 | 1 | 0.039877142 | 0.039877142 |  1.34770234 | 0.2897755827 |\n| Residuals | 6 | 0.177533900 | 0.029588983 |          NA |           NA |\n\n",
            "text/html": [
              "<table class=\"dataframe\">\n",
              "<caption>A anova: 4 × 5</caption>\n",
              "<thead>\n",
              "\t<tr><th></th><th scope=col>Df</th><th scope=col>Sum Sq</th><th scope=col>Mean Sq</th><th scope=col>F value</th><th scope=col>Pr(&gt;F)</th></tr>\n",
              "\t<tr><th></th><th scope=col>&lt;int&gt;</th><th scope=col>&lt;dbl&gt;</th><th scope=col>&lt;dbl&gt;</th><th scope=col>&lt;dbl&gt;</th><th scope=col>&lt;dbl&gt;</th></tr>\n",
              "</thead>\n",
              "<tbody>\n",
              "\t<tr><th scope=row>X1</th><td>1</td><td>2.004315887</td><td>2.004315887</td><td>67.73858599</td><td>0.0001737553</td></tr>\n",
              "\t<tr><th scope=row>X2</th><td>1</td><td>0.002273071</td><td>0.002273071</td><td> 0.07682153</td><td>0.7909535228</td></tr>\n",
              "\t<tr><th scope=row>X3</th><td>1</td><td>0.039877142</td><td>0.039877142</td><td> 1.34770234</td><td>0.2897755827</td></tr>\n",
              "\t<tr><th scope=row>Residuals</th><td>6</td><td>0.177533900</td><td>0.029588983</td><td>         NA</td><td>          NA</td></tr>\n",
              "</tbody>\n",
              "</table>\n"
            ]
          },
          "metadata": {
            "tags": []
          }
        }
      ]
    },
    {
      "cell_type": "code",
      "metadata": {
        "colab": {
          "base_uri": "https://localhost:8080/",
          "height": 34
        },
        "id": "uxgHnuecvgu4",
        "outputId": "f5961d5e-ba8c-4da1-825d-72d00aab9547"
      },
      "source": [
        "#1번 문제 : F검정\n",
        "qf(0.95, 3, 6)"
      ],
      "execution_count": 32,
      "outputs": [
        {
          "output_type": "display_data",
          "data": {
            "text/plain": [
              "[1] 4.757063"
            ],
            "text/latex": "4.75706266308941",
            "text/markdown": "4.75706266308941",
            "text/html": [
              "4.75706266308941"
            ]
          },
          "metadata": {
            "tags": []
          }
        }
      ]
    },
    {
      "cell_type": "code",
      "metadata": {
        "colab": {
          "base_uri": "https://localhost:8080/",
          "height": 34
        },
        "id": "V_hYMQAhe-SR",
        "outputId": "48b4e386-8278-4636-b83f-e8d0a9a42a42"
      },
      "source": [
        "#4번 문제 : X1 = 20, X2 = 27, X3 = 60\n",
        "hat.Y2 = 2.409213 + (0.069788 * 20) + (-0.024767 * 27) + (0.005864 * 60)\n",
        "hat.Y2"
      ],
      "execution_count": 31,
      "outputs": [
        {
          "output_type": "display_data",
          "data": {
            "text/plain": [
              "[1] 3.488104"
            ],
            "text/latex": "3.488104",
            "text/markdown": "3.488104",
            "text/html": [
              "3.488104"
            ]
          },
          "metadata": {
            "tags": []
          }
        }
      ]
    }
  ]
}