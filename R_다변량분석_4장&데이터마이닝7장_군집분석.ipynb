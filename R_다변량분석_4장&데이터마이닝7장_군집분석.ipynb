{
  "nbformat": 4,
  "nbformat_minor": 0,
  "metadata": {
    "colab": {
      "name": "R_다변량분석4장&데이터마이닝7장_군집분석",
      "private_outputs": true,
      "provenance": [],
      "collapsed_sections": [
        "WcT1aygJaRNp",
        "644P0rRaI4jQ"
      ],
      "authorship_tag": "ABX9TyMNbPadG174Vs2q0UN3rLNT",
      "include_colab_link": true
    },
    "kernelspec": {
      "name": "ir",
      "display_name": "R"
    }
  },
  "cells": [
    {
      "cell_type": "markdown",
      "metadata": {
        "id": "view-in-github",
        "colab_type": "text"
      },
      "source": [
        "<a href=\"https://colab.research.google.com/github/seunghee0518/R_File/blob/main/R_%EB%8B%A4%EB%B3%80%EB%9F%89%EB%B6%84%EC%84%9D4%EC%9E%A5%26%EB%8D%B0%EC%9D%B4%ED%84%B0%EB%A7%88%EC%9D%B4%EB%8B%9D7%EC%9E%A5_%EA%B5%B0%EC%A7%91%EB%B6%84%EC%84%9D.ipynb\" target=\"_parent\"><img src=\"https://colab.research.google.com/assets/colab-badge.svg\" alt=\"Open In Colab\"/></a>"
      ]
    },
    {
      "cell_type": "markdown",
      "metadata": {
        "id": "k8oWgXbuZVNh"
      },
      "source": [
        "##다변량분석 응집분석 예시1(맥주 자료)\n",
        "> 미국 20개 맥주 상표와 해당 가격, 칼로리, 염분, 알코콜농도 등의 자료"
      ]
    },
    {
      "cell_type": "code",
      "metadata": {
        "id": "CwRV6f-LmRW8"
      },
      "source": [
        "#데이터 가져오기\n",
        "url_beerbrand = \"https://raw.githubusercontent.com/seunghee0518/R_File/main/%EB%8B%A4%EB%B3%80%EB%9E%91%EB%B6%84%EC%84%9D/mvadata/beerbrand.csv\"\n",
        "beer.data = read.csv(url_beerbrand)\n",
        "head(beer.data)"
      ],
      "execution_count": null,
      "outputs": []
    },
    {
      "cell_type": "markdown",
      "metadata": {
        "id": "fA7MxJMAauqZ"
      },
      "source": [
        "계층적 군집분석(응집분석)\n",
        "\n",
        "파라미터\n",
        "\n",
        "\n",
        "```\n",
        "hclust(d = data\n",
        "      ,method = \"single\" : 최단거리법\n",
        "                \"complete\" : 최장거리법\n",
        "                \"centroid\" : 중심연결법\n",
        "                \"average\" : 평균기준법\n",
        "                \"median\" : 중앙중심법\n",
        "                \"ward\" : 와드의 방법\n",
        "      )\n",
        "```\n",
        "거리계산 파라미터\n",
        "\n",
        "```\n",
        "dist(x = data\n",
        "    ,method = \"euclidean\" (default: 유클리디안)\n",
        "              \"maximum\" : \n",
        "              \"manhattan\" : 맨해튼거리\n",
        "              \"canberra\"\n",
        "              \"binary\" : 범주형 변수 거리계산\n",
        "              \"minkowski\" : 민코브스티거리\n",
        "    ,diag = False(default) : 거리행렬의 대각선 인쇄\n",
        "    ,upper = FALSE(dafault) : 거리행렬의 위쪽 삼각형 인쇄\n",
        "    ,p =2(dafault) : 민코프스키의 거리의 힘\n",
        "    ) \n",
        "```\n"
      ]
    },
    {
      "cell_type": "code",
      "metadata": {
        "id": "NXC09pV06VHH"
      },
      "source": [
        "#계층적 군집분석 : 유클리디안 거리(default) + 최단연결법\n",
        "hc_single = hclust(dist(beer.data), method=\"single\")\n",
        "hc_single"
      ],
      "execution_count": null,
      "outputs": []
    },
    {
      "cell_type": "code",
      "metadata": {
        "id": "fxOIvmvuiqR-"
      },
      "source": [
        "#수형도(hang : 변수이름)\n",
        "#plot(hc_single)\n",
        "plot(hc_single, hang=-1)"
      ],
      "execution_count": null,
      "outputs": []
    },
    {
      "cell_type": "code",
      "metadata": {
        "id": "-alSV-YBjWaA"
      },
      "source": [
        "#계층적 군집분석 : 유클리디안 + 중심연결법 \n",
        "hc_centroid <- hclust(dist(beer.data), method = \"centroid\")\n",
        "hc_centroid"
      ],
      "execution_count": null,
      "outputs": []
    },
    {
      "cell_type": "code",
      "metadata": {
        "id": "M7CwQZti6lJK"
      },
      "source": [
        "#수형도 : 중심연결법\n",
        "plot(hc_centroid, hang=-1)"
      ],
      "execution_count": null,
      "outputs": []
    },
    {
      "cell_type": "markdown",
      "metadata": {
        "id": "vTSZXyn7kLSP"
      },
      "source": [
        "표준화\n",
        "\n",
        "후 계층적 군집분석\n",
        "\n",
        ">pls 패키지 - 데이터 매트릭스의 표준화 수행 : stdize\n",
        "\n",
        "\n",
        "```\n",
        "stdize(x= data(숫자행렬)\n",
        "      ,center = TRUE(default)\n",
        "      ,scale = TRUE(default)\n",
        "      )\n",
        "```\n",
        "\n"
      ]
    },
    {
      "cell_type": "code",
      "metadata": {
        "id": "0rtfi08b6m9b"
      },
      "source": [
        "#패키지\n",
        "install.packages(\"pls\")\n",
        "library(pls)"
      ],
      "execution_count": null,
      "outputs": []
    },
    {
      "cell_type": "code",
      "metadata": {
        "id": "KgA_5t7z6oic"
      },
      "source": [
        "#표준화 + 유클리디안 + 중심연결법\n",
        "#as.matrix = 행렬로 변환\n",
        "zbeer.data <- stdize(as.matrix(beer.data))\n",
        "zhc = hclust(dist(zbeer.data), method=\"centroid\")\n",
        "plot(zhc, hang=-1)"
      ],
      "execution_count": null,
      "outputs": []
    },
    {
      "cell_type": "markdown",
      "metadata": {
        "id": "WWxHs7C8nf-4"
      },
      "source": [
        "군집 수 정하기 -> 수형도 이용\n",
        "\n",
        "소속 군집 알기-> id할당\n",
        "\n",
        "cutree : 나무를 그룹으로 자름\n",
        "```\n",
        "cutree(tree : 객체\n",
        "      ,... : 그룹 수\n",
        "      )\n",
        "```\n",
        "\n"
      ]
    },
    {
      "cell_type": "code",
      "metadata": {
        "id": "FWqsqdJK6r_G"
      },
      "source": [
        "#군집 수 정하기, 소속 군집 알기(소속 군집 id할당)\n",
        "zhc.cent24 = cutree(zhc, 2:4)\n",
        "zhc.cent24"
      ],
      "execution_count": null,
      "outputs": []
    },
    {
      "cell_type": "markdown",
      "metadata": {
        "id": "42DNL2vQpxFD"
      },
      "source": [
        "#비계층적:k-평균 군집분석(맥주자료)"
      ]
    },
    {
      "cell_type": "markdown",
      "metadata": {
        "id": "eJSs-UQFqHBn"
      },
      "source": [
        "kmeans 파라미터\n",
        "```\n",
        "kmeans(x : 객체\n",
        "      ,centers : K(클러스터)의 수\n",
        "      ,iter.max : 최대 반복 횟수 (default=10)\n",
        "      ,num.seeds : 사용할 다른 시작 임의 시드수 (defalut =10)\n",
        "      )\n",
        "```\n",
        "\n"
      ]
    },
    {
      "cell_type": "code",
      "metadata": {
        "id": "w_xK_n2X6ugK"
      },
      "source": [
        "#K=2~4\n",
        "#zbeer.data = 표준화+유클리디안+중심연결법\n",
        "#k=2일때 중심점 = \"CALORIES\", \"SODIUM\"\n",
        "kmc = kmeans(zbeer.data, 2)\n",
        "kmc"
      ],
      "execution_count": null,
      "outputs": []
    },
    {
      "cell_type": "code",
      "metadata": {
        "id": "kFgrXbXjyVSY"
      },
      "source": [
        "#중심점\n",
        "kmc$center"
      ],
      "execution_count": null,
      "outputs": []
    },
    {
      "cell_type": "code",
      "metadata": {
        "id": "exeEWk8KXFwD"
      },
      "source": [
        "#소속 군집 산점도\n",
        "#군집1 : black\n",
        "#군집2 : red\n",
        "#pch=16 : 산점도 색상 채우기\n",
        "plot(zbeer.data, col=kmc$cluster, pch=16)"
      ],
      "execution_count": null,
      "outputs": []
    },
    {
      "cell_type": "code",
      "metadata": {
        "id": "f6hyTdU_1LAa"
      },
      "source": [
        "#비교\n",
        "par(mfrow=c(2,1))\n",
        "plot(zhc, col=zhc$cluster, pch=16, main=\n",
        "\"표준화+중심연결법\")"
      ],
      "execution_count": null,
      "outputs": []
    },
    {
      "cell_type": "code",
      "metadata": {
        "id": "yQGdZcF46wXL"
      },
      "source": [
        "#산점도행렬\n",
        "pairs(zbeer.data, col=kmc$cluster, pch=16)"
      ],
      "execution_count": null,
      "outputs": []
    },
    {
      "cell_type": "markdown",
      "metadata": {
        "id": "WcT1aygJaRNp"
      },
      "source": [
        "#다변량분석 응집분석&k-평균 예시2(USArrests)\n",
        "\n",
        ">미국 주 50개 인구10만명당 체포자수(R내장:USArrests)\n"
      ]
    },
    {
      "cell_type": "code",
      "metadata": {
        "id": "FX8W8gvT7Agk"
      },
      "source": [
        "#데이터 가져오기\n",
        "head(USArrests)\n",
        "summary(USArrests)"
      ],
      "execution_count": null,
      "outputs": []
    },
    {
      "cell_type": "code",
      "metadata": {
        "id": "nphmDywt4hWD"
      },
      "source": [
        "#평균연결법\n",
        "hc_a = hclust(dist(USArrests), method = \"average\")\n",
        "plot(hc_a, hang=-1) "
      ],
      "execution_count": null,
      "outputs": []
    },
    {
      "cell_type": "code",
      "metadata": {
        "id": "BeK5u6vc45Lh"
      },
      "source": [
        "#소속 군집 알기 : 군집 수 4\n",
        "hcmember = cutree(hc_a, k=4)\n",
        "hcmember"
      ],
      "execution_count": null,
      "outputs": []
    },
    {
      "cell_type": "code",
      "metadata": {
        "id": "89k5wo--45Ri"
      },
      "source": [
        "#각 군집별 중심점 찾기\n",
        "cent = NULL\n",
        "for(k in 1:4){\n",
        "  cent = rbind(cent, colMeans(USArrests[hcmember==k, , drop=FALSE]))\n",
        "}\n",
        "cent"
      ],
      "execution_count": null,
      "outputs": []
    },
    {
      "cell_type": "code",
      "metadata": {
        "id": "IQ75RZ3O6Zcq"
      },
      "source": [
        "#k평균 군집분석\n",
        "install.packages(\"pls\")\n",
        "library(pls)\n",
        "zUSArrests = stdize(as.matrix(USArrests))\n",
        "USA_kmc = kmeans(zUSArrests, 4)\n",
        "USA_kmc "
      ],
      "execution_count": null,
      "outputs": []
    },
    {
      "cell_type": "code",
      "metadata": {
        "id": "EITxuMLU7bJL"
      },
      "source": [
        "#산점도 행렬\n",
        "#1:black, 2:red, 3:green, 4:blue\n",
        "pairs(zUSArrests, col=kmc$cluster, pch=16)"
      ],
      "execution_count": null,
      "outputs": []
    },
    {
      "cell_type": "markdown",
      "metadata": {
        "id": "hbjhfQDMIzIM"
      },
      "source": [
        "#다변량 분석 연습문제1(국내상장기업자료) : 응집분석 + k-평균"
      ]
    },
    {
      "cell_type": "markdown",
      "metadata": {
        "id": "zyqKs7qz32zX"
      },
      "source": [
        "1. 국내 상장기업의 수권자본금(X1), 2000년도 최고주가(X2), 2000년도최저 PER(X3), 2000년도 12월 말 자산총계(X4), 2000년도 말 총 매출액(X5)\n",
        "\n",
        "> 군집분석 실시\n",
        "1. 표준화 \n",
        "2. 최단연결법, 최장연결법 -> 2~5개집단으로 군집화 후 비교\n",
        "3. 분석결과 설명\n",
        "4. 유사성 측정 -> 상관계수와 Euclidean제곱거리 비교\n",
        "5. k평균군집분석 -> 4개 군집\n",
        "6. k평균군집분석 -> 판별분석, 타당성설명\n",
        "\n",
        "\n",
        "\n",
        "\n"
      ]
    },
    {
      "cell_type": "code",
      "metadata": {
        "id": "I_JZdugL07nh"
      },
      "source": [
        "#데이터 가져오기\n",
        "url_4.1 = \"https://raw.githubusercontent.com/seunghee0518/R_File/main/%EB%8B%A4%EB%B3%80%EB%9E%91%EB%B6%84%EC%84%9D/%EC%97%B0%EC%8A%B5%EB%AC%B8%EC%A0%9C%EC%9E%90%EB%A3%8C(2-4%EC%9E%A5)/ex4-1.csv\"\n",
        "ex1 <- read.csv(url_4.1, header=F)\n",
        "head(ex1, 3)"
      ],
      "execution_count": null,
      "outputs": []
    },
    {
      "cell_type": "code",
      "metadata": {
        "id": "WG2oEXbc6UDh"
      },
      "source": [
        "#데이터 가공\n",
        "rownames(ex1) <- ex1$V1\n",
        "ex1 <- ex1[,c(2:6)]\n",
        "names(ex1) <- c('X1', 'X2', 'X3', 'X4', 'X5')\n",
        "head(ex1, 3)"
      ],
      "execution_count": null,
      "outputs": []
    },
    {
      "cell_type": "code",
      "metadata": {
        "id": "PrlBl5jp8iaO"
      },
      "source": [
        "#1. 표준화\n",
        "# 패키지\n",
        "install.packages(\"pls\")\n",
        "library(pls)\n",
        "#표준화 + 유클리디안\n",
        "#as.matrix = 행렬로 변환\n",
        "zenter <- stdize(as.matrix(ex1))\n",
        "zenter"
      ],
      "execution_count": null,
      "outputs": []
    },
    {
      "cell_type": "code",
      "metadata": {
        "id": "FTLmyXNh8oAN"
      },
      "source": [
        "#2. 최단연결법, 최장연결법 -> 2~5개집단으로 군집화 후 비교\n",
        "zhc_S = hclust(dist(zenter), method=\"single\")\n",
        "zhc_C = hclust(dist(zenter), method=\"complete\")\n",
        "par(mfrow=c(1, 2))\n",
        "plot(zhc_S, hang=-1)\n",
        "plot(zhc_C, hang=-1)"
      ],
      "execution_count": null,
      "outputs": []
    },
    {
      "cell_type": "code",
      "metadata": {
        "id": "Lq_cnky6_K2_"
      },
      "source": [
        "#소속 군집 알기 : 군집 수 2~5\n",
        "#최단연결법\n",
        "hcmember_S = cutree(zhc_S, k=c(2:5))\n",
        "hcmember_S\n",
        "#군집수가 2, 3일때는 한양화학을 제외하고 동일하나, 4, 5가 되면 쌍용양회, 대우전자, 동아건설의 군집이 달라집"
      ],
      "execution_count": null,
      "outputs": []
    },
    {
      "cell_type": "code",
      "metadata": {
        "id": "fw6TP0ckApE9"
      },
      "source": [
        "#소속 군집 알기 : 군집 수 2~5\n",
        "#최장연결법\n",
        "hcmember_C = cutree(zhc_C, k=c(2:5))\n",
        "hcmember_C"
      ],
      "execution_count": null,
      "outputs": []
    },
    {
      "cell_type": "code",
      "metadata": {
        "id": "_0UgGExo8oPL"
      },
      "source": [
        "#3. 분석결과 설명"
      ],
      "execution_count": null,
      "outputs": []
    },
    {
      "cell_type": "code",
      "metadata": {
        "id": "qlea0yPy8oU0"
      },
      "source": [
        "#4. 유사성 측정 -> 상관계수와 Euclidean제곱거리 비교\n",
        "#상관계수법\n",
        "round(cor(zenter), 3)\n",
        "\n",
        "#Euclidean제곱거리\n",
        "E <- as.matrix(round(dist(zenter), 3))\n",
        "E"
      ],
      "execution_count": null,
      "outputs": []
    },
    {
      "cell_type": "code",
      "metadata": {
        "id": "tR4VEeVwPDfc"
      },
      "source": [
        "round(cor(zenter), 5)"
      ],
      "execution_count": null,
      "outputs": []
    },
    {
      "cell_type": "code",
      "metadata": {
        "id": "E9iou4z58oXF"
      },
      "source": [
        "#5. k평균군집분석 -> 4개 군집\n",
        "kenter = kmeans(zenter, 4)\n",
        "kenter"
      ],
      "execution_count": null,
      "outputs": []
    },
    {
      "cell_type": "code",
      "metadata": {
        "id": "730COmYb8vwO"
      },
      "source": [
        "#6. k평균군집분석 -> 판별분석, 타당성설명\n",
        "kenter$cluster\n",
        "enter <- cbind(zenter, kenter$cluster)\n",
        "colnames(enter) <- c(\"Authorized capital\", \"Highest stock price\", \"PER\", \"Total assets\", \"take\",\"cluster\")\n",
        "enter <- as.data.frame(enter)"
      ],
      "execution_count": null,
      "outputs": []
    },
    {
      "cell_type": "code",
      "metadata": {
        "id": "7anUUQURm4Do"
      },
      "source": [
        "#선형판별분석-LDA(사후확률법 사용함)\n",
        "library(MASS)\n",
        "train <- sample(1:18, 15)\n",
        "enter_lda <- lda(formula = enter$cluster ~ ., data = enter, subset = train)\n",
        "enter_lda"
      ],
      "execution_count": null,
      "outputs": []
    },
    {
      "cell_type": "code",
      "metadata": {
        "id": "p7_DtouRwLmT"
      },
      "source": [
        "#판별함수의 상수항산정\n",
        "apply(enter_lda$means%*%enter_lda$scaling, 2, mean)"
      ],
      "execution_count": null,
      "outputs": []
    },
    {
      "cell_type": "code",
      "metadata": {
        "id": "2DTaRVcHwgAQ"
      },
      "source": [
        "#학습된 LDA모델로 test 셋 예측\n",
        "#lda를 통해 분류된 class\n",
        "predict(enter_lda, enter[-train,])$class\n",
        "#lda로 도출된 각 분류별 확률\n",
        "predict(enter_lda, enter[-train,])$posterior"
      ],
      "execution_count": null,
      "outputs": []
    },
    {
      "cell_type": "code",
      "metadata": {
        "id": "_AXeJVGxxWOT"
      },
      "source": [
        "#성능평가 : 정오분류표 작성\n",
        "tt <- table(enter$cluster[-train], predict(enter_lda, enter[-train,])$class)\n",
        "tt"
      ],
      "execution_count": null,
      "outputs": []
    },
    {
      "cell_type": "code",
      "metadata": {
        "id": "thlEciPexuJL"
      },
      "source": [
        "#정분류율 및 오분률율 계산\n",
        "#정분류율\n",
        "sum(tt[row(tt) == col(tt)])/sum(tt) "
      ],
      "execution_count": null,
      "outputs": []
    },
    {
      "cell_type": "code",
      "metadata": {
        "id": "SvKcCMuxx93N"
      },
      "source": [
        "#오분류율\n",
        "1-sum(tt[row(tt) == col(tt)])/sum(tt) "
      ],
      "execution_count": null,
      "outputs": []
    },
    {
      "cell_type": "markdown",
      "metadata": {
        "id": "644P0rRaI4jQ"
      },
      "source": [
        "#다변량 분석 연습문제2(붓꽃데이터):표준화 + k-평균"
      ]
    },
    {
      "cell_type": "markdown",
      "metadata": {
        "id": "97_CNuMS8AZM"
      },
      "source": [
        "2. Fisher의 붓꽃 데이터 150개의 관찰치와 4개의 변수를 모두 이용하여 다음과 같이 군집분석을 실시하라\n",
        "> \t\n",
        "1. 각 변수의 표준화한 값을 구하라\n",
        "2. k-평균 군집분석방법을 이용하여 3개의 군집에 대한 군집분석을 실시하라\n",
        "3. k-평균 군집분석의 군집결과와 붓꽃 데이터에 주어져 있는 붓꽃 종류와 분할표를 구성하고 군집분석의 성능에 대해 평가하라"
      ]
    },
    {
      "cell_type": "code",
      "metadata": {
        "id": "3G0NJw2NbGUZ"
      },
      "source": [
        "#데이터 가져오기 & 가공\n",
        "data(iris)\n",
        "head(iris,3)\n",
        "diris <- iris[, c(1:4)]\n",
        "head(diris, 3)"
      ],
      "execution_count": null,
      "outputs": []
    },
    {
      "cell_type": "code",
      "metadata": {
        "id": "_JjmyPEeHZU-"
      },
      "source": [
        "#표준화\n",
        "install.packages(\"pls\")\n",
        "library(pls)\n",
        "ziris <- stdize(as.matrix(diris))\n",
        "head(ziris, 3)"
      ],
      "execution_count": null,
      "outputs": []
    },
    {
      "cell_type": "code",
      "metadata": {
        "id": "WOiR_5qCO3Xa"
      },
      "source": [
        "#k-평균 군집분석방법 -> 3개의 군집분석\n",
        "kiris = kmeans(ziris, 3)\n",
        "kiris"
      ],
      "execution_count": null,
      "outputs": []
    },
    {
      "cell_type": "code",
      "metadata": {
        "id": "IXsLu1vLIh0m"
      },
      "source": [
        "# k-평균 군집분석의 군집결과와 붓꽃 데이터에 주어져 있는 붓꽃 종류와의 분할표를 구성하고 군집분석의 성능에 대해 평가하라 ?\n",
        "kresult <- kiris$cluster\n",
        "species <- iris$Species\n",
        "ctable <- cbind(kresult, species)\n",
        "ctable"
      ],
      "execution_count": null,
      "outputs": []
    },
    {
      "cell_type": "markdown",
      "metadata": {
        "id": "czWLMsjcXkfa"
      },
      "source": [
        "#데이터마이닝(붓꽃데이터) : 응집분석 + 분할분석 + k-평균"
      ]
    },
    {
      "cell_type": "code",
      "metadata": {
        "id": "P-4mO3rzXopR"
      },
      "source": [
        "#응집분석\n",
        "#행렬화 : 목표변수 제외\n",
        "iris2 = as.matrix(iris[, 1:4])"
      ],
      "execution_count": null,
      "outputs": []
    },
    {
      "cell_type": "code",
      "metadata": {
        "id": "sVw9ZfhuYSlm"
      },
      "source": [
        "#3가지 방법으로 응집분석\n",
        "iclustering1 = hclust(dist(iris2), method = 'single')\n",
        "iclustering2 = hclust(dist(iris2), method = 'complete')\n",
        "iclustering3 = hclust(dist(iris2), method = 'average')"
      ],
      "execution_count": null,
      "outputs": []
    },
    {
      "cell_type": "code",
      "metadata": {
        "id": "ubzZ-kR_YU8N"
      },
      "source": [
        "#분할분석\n",
        "library(cluster)\n",
        "idivclustering = diana(iris2)"
      ],
      "execution_count": null,
      "outputs": []
    },
    {
      "cell_type": "code",
      "metadata": {
        "id": "-z4Z3_MeYe3R"
      },
      "source": [
        "#나무그림 비교\n",
        "par(mfrow = c(2, 3))\n",
        "plot(iclustering1)\n",
        "plot(iclustering2)\n",
        "plot(iclustering3)\n",
        "plot(idivclustering)"
      ],
      "execution_count": null,
      "outputs": []
    },
    {
      "cell_type": "markdown",
      "metadata": {
        "id": "3yvycBkhYrfl"
      },
      "source": [
        "* 단일연결법&완전연결법 : 군집수 2개가 적절\n",
        "* 평균연결법&DIANA : 군집수 2 or 3개가 적절"
      ]
    },
    {
      "cell_type": "code",
      "metadata": {
        "id": "6UtVCdFKY6Hd"
      },
      "source": [
        "#계층적 군집화에서 특정 군집수에 대한 각 개체의 군집 id값 얻기\n",
        "id.iclustering1 = cutree(iclustering1, 3)\n",
        "id.iclustering2 = cutree(iclustering2, 3)\n",
        "id.iclustering3 = cutree(iclustering3, 3)\n",
        "id.idivclustering = cutree(idivclustering, 3)"
      ],
      "execution_count": null,
      "outputs": []
    },
    {
      "cell_type": "code",
      "metadata": {
        "id": "K7mSg2OeZTHl"
      },
      "source": [
        "#얻어진 군집id와 원자료 실제 종이름 비교 : table()\n",
        "t1 = table(iris[, 5], id.iclustering1)\n",
        "t2 = table(iris[, 5], id.iclustering2)\n",
        "t3 = table(iris[, 5], id.iclustering3)\n",
        "t4 = table(iris[, 5], id.idivclustering)\n",
        "t1\n",
        "t2\n",
        "t3\n",
        "t4"
      ],
      "execution_count": null,
      "outputs": []
    },
    {
      "cell_type": "markdown",
      "metadata": {
        "id": "YV9PxyVHZ6BW"
      },
      "source": [
        "* 단일 : 군집2에서 versicolor와 virginica 비등함\n",
        "* 완전 : 군집2는 virginica의 성격이 강하고, 군집3는 versicolor 성격이 강함\n",
        "* 평균 : 군집2는 virginica가 섞여잇지만 versicolor 성격이 강함\n",
        "* DIANA : 군집2는 versicolor의 성격이 강하고, 군집3는  virginica성격이 강함"
      ]
    },
    {
      "cell_type": "code",
      "metadata": {
        "id": "B3R-M-Biayxp"
      },
      "source": [
        "#k-평균 : 평균연결법의 군집결과에서 각 군집의 평균벡터를 구해 수행함\n",
        "iris.initial = tapply(iris2, list(rep(cutree(iclustering3, 3), ncol(iris2)), col(iris2)), mean)\n",
        "ikmeans = kmeans(iris2, iris.initial, algorithm = 'MacQueen')\n",
        "ikmeans"
      ],
      "execution_count": null,
      "outputs": []
    },
    {
      "cell_type": "code",
      "metadata": {
        "id": "Iopk1l8CczWJ"
      },
      "source": [
        "#k-평균 분할표\n",
        "table(iris[, 5], ikmeans$cluster)"
      ],
      "execution_count": null,
      "outputs": []
    },
    {
      "cell_type": "markdown",
      "metadata": {
        "id": "G0C5UDt5I87f"
      },
      "source": [
        "#다변량 분석 연습문제3(세계 주요 도시에 대한 물가와 소득에 대한 데이터) : 응집분석 + k-평균"
      ]
    },
    {
      "cell_type": "markdown",
      "metadata": {
        "id": "y5fYxhiFJN8F"
      },
      "source": [
        "3. 세계의 46개 주요 도시에 대한 물가와 소득에 대한 데이터를 다음과 같이 수집하였다(1991년 기준), 평균노동시간, 물가, 소득수준 등의 변수를 사용하여 46개 도시에 대한 군집분석을 다음과 같이 실시하라\n",
        "\n",
        ">>\n",
        "\n",
        "1. 각 변수의 표준화한 값을 구하라\n",
        "2. 최장연결법을 이용하여 도시들을 군집화하고 수형도로 표현하라. 몇 개의 군집이 적절하다고 판단되는가?\n",
        "3. k-평균 군집분석방법을 이용하여 4개 군집에 대한 군집분석을 실시하라.\n",
        "4. k-평균 군집분석의 군집결과를 이용하여 판별분석을 수행하고, 군집분석의 타당성을 설명하라 \n",
        "\n",
        "\n",
        "  "
      ]
    },
    {
      "cell_type": "code",
      "metadata": {
        "id": "e_aFdVe1iX80"
      },
      "source": [
        "#데이터 불러오기\n",
        "url_4.3 = \"https://raw.githubusercontent.com/seunghee0518/R_File/main/%EB%8B%A4%EB%B3%80%EB%9E%91%EB%B6%84%EC%84%9D/%EC%97%B0%EC%8A%B5%EB%AC%B8%EC%A0%9C%EC%9E%90%EB%A3%8C(2-4%EC%9E%A5)/ex4-3.txt\"\n",
        "data3 = read.table(url_4.3) \n",
        "head(data3, 3)\n",
        "attach(data3)"
      ],
      "execution_count": null,
      "outputs": []
    },
    {
      "cell_type": "code",
      "metadata": {
        "id": "bkwDu5sII_QO"
      },
      "source": [
        "#데이터 가공\n",
        "rownames(data3) <- V1\n",
        "data3 <- data3[, c(2:4)]\n",
        "names(data3) <- c(\"평균노동시간\", \"물가\", \"소득\")\n",
        "head(data3, 3)"
      ],
      "execution_count": null,
      "outputs": []
    },
    {
      "cell_type": "code",
      "metadata": {
        "id": "3sz6Y_G88M2y"
      },
      "source": [
        "#1. 표준화\n",
        "install.packages(\"pls\")\n",
        "library(pls)\n",
        "zdata3 <- stdize(as.matrix(data3))\n",
        "head(zdata3, 3)"
      ],
      "execution_count": null,
      "outputs": []
    },
    {
      "cell_type": "code",
      "metadata": {
        "id": "tkUAS4xU8M5Q"
      },
      "source": [
        "#2. 최장연결법 -> 수형도\n",
        "zhc = hclust(dist(zdata3), method=\"complete\")\n",
        "plot(zhc, hand=-1)"
      ],
      "execution_count": null,
      "outputs": []
    },
    {
      "cell_type": "code",
      "metadata": {
        "id": "_H2WPTy78M7n"
      },
      "source": [
        "#소속 군집에 id값 할당함?\n",
        "hcmember = cutree(zhc, k=c(2:4))\n",
        "hcmember"
      ],
      "execution_count": null,
      "outputs": []
    },
    {
      "cell_type": "code",
      "metadata": {
        "id": "sG2hEjBw8M-E"
      },
      "source": [
        "#3. k-평균 군집분석 -> 4개 군집\n",
        "kdata3 = kmeans(zdata3, 4)\n",
        "kdata3"
      ],
      "execution_count": null,
      "outputs": []
    },
    {
      "cell_type": "code",
      "metadata": {
        "id": "Tu6ZBso28bPx"
      },
      "source": [
        "#k-평균 군집분석의 군집결과를 이용하여 판별분석을 수행하고, 군집분석의 타당성을 설명하라"
      ],
      "execution_count": null,
      "outputs": []
    },
    {
      "cell_type": "markdown",
      "metadata": {
        "id": "Kfr_7X9dPFkT"
      },
      "source": [
        "# 데이터마이닝 예제(응집분석)"
      ]
    },
    {
      "cell_type": "code",
      "metadata": {
        "id": "P1Oc3BGrPJh6"
      },
      "source": [
        "url7.2 = 'https://raw.githubusercontent.com/seunghee0518/R_File/main/%EB%8D%B0%EC%9D%B4%ED%84%B0%EB%A7%88%EC%9D%B4%EB%8B%9D/ex7-2.txt'\n",
        "ex2 = read.table(url7.2, header = T)\n",
        "head(ex2)"
      ],
      "execution_count": null,
      "outputs": []
    },
    {
      "cell_type": "code",
      "metadata": {
        "id": "m2rOGVQ0QCw0"
      },
      "source": [
        "#거리 구하기 : 기본값인 euclidean\n",
        "dist(ex2)"
      ],
      "execution_count": null,
      "outputs": []
    },
    {
      "cell_type": "code",
      "metadata": {
        "id": "VsBOBndYQQH1"
      },
      "source": [
        "#거리 구하기 : manhattan 방식\n",
        "dman = dist(ex2, method = 'manhattan')\n",
        "dman"
      ],
      "execution_count": null,
      "outputs": []
    },
    {
      "cell_type": "code",
      "metadata": {
        "id": "_nmLtZTcQo99"
      },
      "source": [
        "#단일연결법/완전연결법/평균연결법(거리는 mangattan방식)\n",
        "ex2.single = hclust(dman, method = 'single')\n",
        "ex2.complete = hclust(dman, method = 'complete')\n",
        "ex2.average = hclust(dman, method = 'average')"
      ],
      "execution_count": null,
      "outputs": []
    },
    {
      "cell_type": "code",
      "metadata": {
        "id": "_qNmu0AZRqTc"
      },
      "source": [
        "#나무그림 : 개체3이 군집(1,2), 군집(4.5) 중 어느쪽에 가까운지에 따라 달라짐\n",
        "par(mfrow = c(1,3))\n",
        "plot(ex2.single)\n",
        "plot(ex2.complete)\n",
        "plot(ex2.average)"
      ],
      "execution_count": null,
      "outputs": []
    },
    {
      "cell_type": "markdown",
      "metadata": {
        "id": "TvIV2Hy-R9MD"
      },
      "source": [
        "#데이터마이닝(분할분석)\n",
        "* DIANA 방식\n"
      ]
    },
    {
      "cell_type": "code",
      "metadata": {
        "id": "tbTTS_QcRvrT"
      },
      "source": [
        "#패키지 설치 불러오기\n",
        "library(cluster)"
      ],
      "execution_count": null,
      "outputs": []
    },
    {
      "cell_type": "code",
      "metadata": {
        "id": "IIZiEnlgSE0s"
      },
      "source": [
        "#분할분석 방식\n",
        "divclustering = diana(ex2, metric = 'manhattan')\n",
        "plot(divclustering)"
      ],
      "execution_count": null,
      "outputs": []
    },
    {
      "cell_type": "markdown",
      "metadata": {
        "id": "qyEZVNDnShZr"
      },
      "source": [
        "#데이터마이닝(k-평균 군집분석)\n",
        "* 평균연결법으로 얻은 응집분석결과를 토대로 군집수 2로한 k-평균"
      ]
    },
    {
      "cell_type": "code",
      "metadata": {
        "id": "52jYL_W1SP3h"
      },
      "source": [
        "#k-평균은 대상자료가 행렬이어야됨\n",
        "ex2.m = as.matrix(ex2)\n",
        "#행렬로 변환한 자료 계층적 군집분석(평균연결법)\n",
        "ave = hclust(dist(ex2.m), method = 'average')\n",
        "\n",
        "#생성한 군집수에 대해 id값 부여하고 함수결과 산출\n",
        "initial = tapply(ex2.m, list(rep(cutree(ave, 2), ncol(ex2.m)), col(ex2.m)), mean)\n",
        "\n",
        "#k-평균 군집분석 실시\n",
        "ex2.kmeans = kmeans(ex2.m, initial, algorithm = 'MacQueen')\n",
        "ex2.kmeans"
      ],
      "execution_count": null,
      "outputs": []
    },
    {
      "cell_type": "markdown",
      "metadata": {
        "id": "jLnCSuQOT7Pi"
      },
      "source": [
        "* 중심점(cluster means) :(1.67, 2.33)/(6.00, 5.25)\n",
        "* 군집분석 결과(clustering vector) : {1, 2, 3}/{4,5} "
      ]
    },
    {
      "cell_type": "code",
      "metadata": {
        "id": "5u0yZ_1HT0Us"
      },
      "source": [
        ""
      ],
      "execution_count": null,
      "outputs": []
    }
  ]
}
