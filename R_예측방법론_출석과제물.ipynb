{
  "nbformat": 4,
  "nbformat_minor": 0,
  "metadata": {
    "colab": {
      "name": "R_예측방법론_출석과제물",
      "private_outputs": true,
      "provenance": [],
      "collapsed_sections": [],
      "authorship_tag": "ABX9TyMIOHXQ+EnSakeoMQXXtbLn",
      "include_colab_link": true
    },
    "kernelspec": {
      "name": "ir",
      "display_name": "R"
    }
  },
  "cells": [
    {
      "cell_type": "markdown",
      "metadata": {
        "id": "view-in-github",
        "colab_type": "text"
      },
      "source": [
        "<a href=\"https://colab.research.google.com/github/seunghee0518/R_File/blob/main/R_%EC%98%88%EC%B8%A1%EB%B0%A9%EB%B2%95%EB%A1%A0_%EC%B6%9C%EC%84%9D%EA%B3%BC%EC%A0%9C%EB%AC%BC.ipynb\" target=\"_parent\"><img src=\"https://colab.research.google.com/assets/colab-badge.svg\" alt=\"Open In Colab\"/></a>"
      ]
    },
    {
      "cell_type": "markdown",
      "metadata": {
        "id": "830CNQI8_hjN"
      },
      "source": [
        "#출석과제물\r\n",
        ">1970년 1분기 ~ 2020년 4분기까지 분기별 실질 제조업 GDP의 원계열과 계절조정계열에 대한 다음 문제에 답하시오."
      ]
    },
    {
      "cell_type": "markdown",
      "metadata": {
        "id": "AqBSGTO9_rB9"
      },
      "source": [
        "## 1번\r\n",
        ">분기 제조업 GDP의 원계열과 계절조정계열에 대한 시계열도표를 같이 그리고, 특징을 변동요인 중심으로 기술하시오.(5점)"
      ]
    },
    {
      "cell_type": "code",
      "metadata": {
        "id": "NJ9BVUzrB8W7"
      },
      "source": [
        "#사용할 패키지 불러오기\r\n",
        "install.packages(c('forecast', 'mFilter'))\r\n",
        "library(forecast)\r\n",
        "library(mFilter)"
      ],
      "execution_count": null,
      "outputs": []
    },
    {
      "cell_type": "code",
      "metadata": {
        "id": "a6l3uZ38A6fr"
      },
      "source": [
        "#개인 깃허브 계정의 파일을 저장해 읽어옴\r\n",
        "#  제조업 GDP, GDP  원계열\r\n",
        "url_o = \"https://raw.githubusercontent.com/seunghee0518/R_File/main/%EC%98%88%EC%B8%A1%EB%B0%A9%EB%B2%95%EB%A1%A0/%EA%B2%BD%EC%A0%9C%ED%99%9C%EB%8F%99%EB%B3%84%20GDP(%EC%9B%90%EA%B3%84%EC%97%B4%2C%20%EC%8B%A4%EC%A7%88%2C%20%EB%B6%84%EA%B8%B0)_%EC%A0%9C%EC%A1%B0%EC%97%85.csv\"\r\n",
        "gdp_ts = url_o %>% read.csv() %>% ts(start=1970, frequency=4)\r\n",
        "gdp_ts %>% tail()"
      ],
      "execution_count": null,
      "outputs": []
    },
    {
      "cell_type": "code",
      "metadata": {
        "id": "9pbyz4pOC39P"
      },
      "source": [
        "#  제조업 GDP, GDP  계절조정계열\r\n",
        "url_sa = \"https://raw.githubusercontent.com/seunghee0518/R_File/main/%EC%98%88%EC%B8%A1%EB%B0%A9%EB%B2%95%EB%A1%A0/%EA%B2%BD%EC%A0%9C%ED%99%9C%EB%8F%99%EB%B3%84%20GDP(%EA%B3%84%EC%A0%88%EC%A1%B0%EC%A0%95%2C%20%EC%8B%A4%EC%A7%88%2C%20%EB%B6%84%EA%B8%B0)_%EC%A0%9C%EC%A1%B0%EC%97%85.csv\"\r\n",
        "gdp_sa_ts = url_sa %>% read.csv() %>% ts(start=1970, frequency=4)\r\n",
        "gdp_sa_ts %>% head()"
      ],
      "execution_count": null,
      "outputs": []
    },
    {
      "cell_type": "code",
      "metadata": {
        "id": "EVF9veEeD9vQ"
      },
      "source": [
        "#제조업 gdp 원계열, 계절조정 gdp, 계절조정계열 데이터 합치기\r\n",
        "#제조업 gdp 원계열 : gdp_m\r\n",
        "gdp_m <- gdp_ts[, 1]\r\n",
        "#제조업 계절조정 gdp : gdp_m_sa\r\n",
        "gdp_m_sa <- gdp_sa_ts[, 1]\r\n",
        "\r\n",
        "#합친 데이터 : gdp\r\n",
        "gdp <- cbind(gdp_m, gdp_m_sa)\r\n",
        "head(gdp)"
      ],
      "execution_count": null,
      "outputs": []
    },
    {
      "cell_type": "code",
      "metadata": {
        "id": "r9NdlKpfDApH"
      },
      "source": [
        "#분기 제조업 GDP의 원계열과 계절조정계열 시계열도표\r\n",
        "autoplot(gdp)\r\n",
        "#그래프 크기 조정\r\n",
        "options(warn=-1,repr.plot.width = 12, repr.plot.height = 6)"
      ],
      "execution_count": null,
      "outputs": []
    },
    {
      "cell_type": "markdown",
      "metadata": {
        "id": "DiZmfXpa_wwW"
      },
      "source": [
        "##2번\r\n",
        ">분기 제조업 GDP의 원계열과 계절조정계열에 대한 스펙트럼과 같이 그래프를 표현하고 그 특징을 시계열들의 변동요인과 연계해서 설명하시오. (10점)"
      ]
    },
    {
      "cell_type": "code",
      "metadata": {
        "id": "7RlLf19MA7AC"
      },
      "source": [
        "nn = gdp %>% length()\r\n",
        "sin1 = sin(1:nn/nn*12*pi) %>% ts(start=1970, frequency=4)\r\n",
        "sin2 = sin(1:nn/nn*36*pi) %>% ts(start=1970, frequency=4)\r\n",
        "plot(cbind(sin1, sin2), main=\"gdp_m 원계열 & 계절조정계열\", xlab=\"\", ylab=\"\", col=\"steelblue\")\r\n",
        "spectrum(cbind(sin1, sin2), spans=c(3,3), main=\"\", col=1:2)"
      ],
      "execution_count": null,
      "outputs": []
    },
    {
      "cell_type": "markdown",
      "metadata": {
        "id": "UQsmmwOXAHoe"
      },
      "source": [
        "##3번\r\n",
        "분기 제조업 GDP의 계정조절계열의 로그 계열과 로그차분 계열에 대해 다음을 구하시오.\r\n",
        ">\r\n",
        "1. 두 계열의 상관도표와 부분상관도표를 작성하고 그 특징을 정리하시오.(5점)\r\n",
        "2. 로그차분 계열의 ARIMA 모형을 작성하고, 향후 1년을 예측하시오.(10점)\r\n"
      ]
    },
    {
      "cell_type": "code",
      "metadata": {
        "id": "l3OZbC-zA7kC"
      },
      "source": [
        ""
      ],
      "execution_count": null,
      "outputs": []
    }
  ]
}