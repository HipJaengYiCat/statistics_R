{
  "nbformat": 4,
  "nbformat_minor": 0,
  "metadata": {
    "colab": {
      "name": "R_데이터마이닝_4장_앙상블모형",
      "provenance": [],
      "collapsed_sections": [
        "7hiFQcY8JKrp"
      ],
      "authorship_tag": "ABX9TyPZia2LzWAinwvEf+3YHiUk",
      "include_colab_link": true
    },
    "kernelspec": {
      "name": "ir",
      "display_name": "R"
    }
  },
  "cells": [
    {
      "cell_type": "markdown",
      "metadata": {
        "id": "view-in-github",
        "colab_type": "text"
      },
      "source": [
        "<a href=\"https://colab.research.google.com/github/seunghee0518/R_File/blob/main/R_%EB%8D%B0%EC%9D%B4%ED%84%B0%EB%A7%88%EC%9D%B4%EB%8B%9D_4%EC%9E%A5_%EC%95%99%EC%83%81%EB%B8%94%EB%AA%A8%ED%98%95.ipynb\" target=\"_parent\"><img src=\"https://colab.research.google.com/assets/colab-badge.svg\" alt=\"Open In Colab\"/></a>"
      ]
    },
    {
      "cell_type": "markdown",
      "metadata": {
        "id": "7hiFQcY8JKrp"
      },
      "source": [
        "# 회귀앙상블모형(보스턴하우징데이터 + 랜덤포레스트)\n",
        "* 회귀앙상블은 randomForest패키지에서 가능\n",
        "* (adabag패키지는 분류앙상블만 제공)"
      ]
    },
    {
      "cell_type": "markdown",
      "metadata": {
        "id": "_bBE43ktIpNG"
      },
      "source": [
        "##데이터 읽기 : 보스턴하우징\n"
      ]
    },
    {
      "cell_type": "code",
      "metadata": {
        "id": "l3OZbC-zA7kC",
        "colab": {
          "base_uri": "https://localhost:8080/",
          "height": 586
        },
        "outputId": "5e28e254-c7de-40db-a50f-e2b4d923f36b"
      },
      "source": [
        "#데이터 가져오기\n",
        "library(MASS)\n",
        "Boston$chas = factor(Boston$chas)\n",
        "Boston$rad = factor(Boston$rad)\n",
        "summary(Boston)"
      ],
      "execution_count": 2,
      "outputs": [
        {
          "output_type": "display_data",
          "data": {
            "text/plain": [
              "      crim                zn             indus       chas         nox        \n",
              " Min.   : 0.00632   Min.   :  0.00   Min.   : 0.46   0:471   Min.   :0.3850  \n",
              " 1st Qu.: 0.08205   1st Qu.:  0.00   1st Qu.: 5.19   1: 35   1st Qu.:0.4490  \n",
              " Median : 0.25651   Median :  0.00   Median : 9.69           Median :0.5380  \n",
              " Mean   : 3.61352   Mean   : 11.36   Mean   :11.14           Mean   :0.5547  \n",
              " 3rd Qu.: 3.67708   3rd Qu.: 12.50   3rd Qu.:18.10           3rd Qu.:0.6240  \n",
              " Max.   :88.97620   Max.   :100.00   Max.   :27.74           Max.   :0.8710  \n",
              "                                                                             \n",
              "       rm             age              dis              rad     \n",
              " Min.   :3.561   Min.   :  2.90   Min.   : 1.130   24     :132  \n",
              " 1st Qu.:5.886   1st Qu.: 45.02   1st Qu.: 2.100   5      :115  \n",
              " Median :6.208   Median : 77.50   Median : 3.207   4      :110  \n",
              " Mean   :6.285   Mean   : 68.57   Mean   : 3.795   3      : 38  \n",
              " 3rd Qu.:6.623   3rd Qu.: 94.08   3rd Qu.: 5.188   6      : 26  \n",
              " Max.   :8.780   Max.   :100.00   Max.   :12.127   2      : 24  \n",
              "                                                   (Other): 61  \n",
              "      tax           ptratio          black            lstat      \n",
              " Min.   :187.0   Min.   :12.60   Min.   :  0.32   Min.   : 1.73  \n",
              " 1st Qu.:279.0   1st Qu.:17.40   1st Qu.:375.38   1st Qu.: 6.95  \n",
              " Median :330.0   Median :19.05   Median :391.44   Median :11.36  \n",
              " Mean   :408.2   Mean   :18.46   Mean   :356.67   Mean   :12.65  \n",
              " 3rd Qu.:666.0   3rd Qu.:20.20   3rd Qu.:396.23   3rd Qu.:16.95  \n",
              " Max.   :711.0   Max.   :22.00   Max.   :396.90   Max.   :37.97  \n",
              "                                                                 \n",
              "      medv      \n",
              " Min.   : 5.00  \n",
              " 1st Qu.:17.02  \n",
              " Median :21.20  \n",
              " Mean   :22.53  \n",
              " 3rd Qu.:25.00  \n",
              " Max.   :50.00  \n",
              "                "
            ]
          },
          "metadata": {
            "tags": []
          }
        }
      ]
    },
    {
      "cell_type": "code",
      "metadata": {
        "id": "NjUl0kj4CxVt",
        "colab": {
          "base_uri": "https://localhost:8080/"
        },
        "outputId": "256dd89e-d955-438f-dab3-05b06ebad723"
      },
      "source": [
        "#랜덤포레스트 패키지\n",
        "install.packages('randomForest')\n",
        "library(randomForest)"
      ],
      "execution_count": 5,
      "outputs": [
        {
          "output_type": "stream",
          "text": [
            "Installing package into ‘/usr/local/lib/R/site-library’\n",
            "(as ‘lib’ is unspecified)\n",
            "\n",
            "randomForest 4.6-14\n",
            "\n",
            "Type rfNews() to see new features/changes/bug fixes.\n",
            "\n"
          ],
          "name": "stderr"
        }
      ]
    },
    {
      "cell_type": "code",
      "metadata": {
        "colab": {
          "base_uri": "https://localhost:8080/",
          "height": 355
        },
        "id": "g1CMz2S0PXD0",
        "outputId": "571f4b58-c0ac-44b1-adf1-4637b3cf3e69"
      },
      "source": [
        "#랜덤포레스트 실행\n",
        "rf.boston = randomForest(medv ~ ., data = Boston, ntree = 100, mtry = 5, importance = T, na.action = na.omit)\n",
        "summary(rf.boston)"
      ],
      "execution_count": 6,
      "outputs": [
        {
          "output_type": "display_data",
          "data": {
            "text/plain": [
              "                Length Class  Mode     \n",
              "call              7    -none- call     \n",
              "type              1    -none- character\n",
              "predicted       506    -none- numeric  \n",
              "mse             100    -none- numeric  \n",
              "rsq             100    -none- numeric  \n",
              "oob.times       506    -none- numeric  \n",
              "importance       26    -none- numeric  \n",
              "importanceSD     13    -none- numeric  \n",
              "localImportance   0    -none- NULL     \n",
              "proximity         0    -none- NULL     \n",
              "ntree             1    -none- numeric  \n",
              "mtry              1    -none- numeric  \n",
              "forest           11    -none- list     \n",
              "coefs             0    -none- NULL     \n",
              "y               506    -none- numeric  \n",
              "test              0    -none- NULL     \n",
              "inbag             0    -none- NULL     \n",
              "terms             3    terms  call     "
            ]
          },
          "metadata": {
            "tags": []
          }
        }
      ]
    },
    {
      "cell_type": "code",
      "metadata": {
        "colab": {
          "base_uri": "https://localhost:8080/",
          "height": 439
        },
        "id": "KEius1VLP3FT",
        "outputId": "3a138e7a-a293-4291-80d2-51f82058cbbb"
      },
      "source": [
        "#랜덤포레스트에 의한 훈련 데이터의 예측집단\n",
        "head(rf.boston$predicted, 100)"
      ],
      "execution_count": 9,
      "outputs": [
        {
          "output_type": "display_data",
          "data": {
            "text/plain": [
              "       1        2        3        4        5        6        7        8 \n",
              "27.05923 22.59806 35.66789 37.23778 34.51167 27.02718 21.03059 17.46940 \n",
              "       9       10       11       12       13       14       15       16 \n",
              "19.74120 19.24405 20.69396 22.23618 21.66663 20.34252 19.11605 20.83129 \n",
              "      17       18       19       20       21       22       23       24 \n",
              "21.27508 17.72551 18.65325 19.17763 14.35557 17.91752 15.24513 15.18884 \n",
              "      25       26       27       28       29       30       31       32 \n",
              "16.78894 15.87556 16.89288 14.94127 19.65383 20.36527 14.72368 19.82097 \n",
              "      33       34       35       36       37       38       39       40 \n",
              "15.75757 14.32164 14.50538 21.79162 21.73542 21.49453 20.80495 28.39546 \n",
              "      41       42       43       44       45       46       47       48 \n",
              "34.57511 29.69786 25.09122 24.52867 23.41077 20.30518 20.41228 19.33422 \n",
              "      49       50       51       52       53       54       55       56 \n",
              "18.15008 19.25185 20.58817 22.05419 25.58990 21.32026 19.85515 35.00833 \n",
              "      57       58       59       60       61       62       63       64 \n",
              "24.54526 30.80970 22.86984 20.95500 19.47647 20.07590 23.08721 25.07049 \n",
              "      65       66       67       68       69       70       71       72 \n",
              "31.96891 25.20133 20.09864 20.45217 19.74411 20.27944 23.85817 21.70696 \n",
              "      73       74       75       76       77       78       79       80 \n",
              "23.60687 23.47878 24.00362 23.27363 21.08258 22.09829 21.07297 22.05170 \n",
              "      81       82       83       84       85       86       87       88 \n",
              "26.39872 25.41224 23.53707 23.35218 23.71375 27.16763 20.70022 23.41579 \n",
              "      89       90       91       92       93       94       95       96 \n",
              "30.39620 29.54917 23.63576 23.34030 23.52256 24.07154 21.83149 25.55887 \n",
              "      97       98       99      100 \n",
              "22.86486 39.98748 40.33741 31.45261 "
            ],
            "text/latex": "\\begin{description*}\n\\item[1] 27.0592342342342\n\\item[2] 22.5980555555556\n\\item[3] 35.6678947368421\n\\item[4] 37.2377777777778\n\\item[5] 34.5116666666667\n\\item[6] 27.0271759259259\n\\item[7] 21.0305882352941\n\\item[8] 17.4694017094017\n\\item[9] 19.7411965811966\n\\item[10] 19.2440476190476\n\\item[11] 20.6939583333333\n\\item[12] 22.2361827956989\n\\item[13] 21.666626984127\n\\item[14] 20.3425225225225\n\\item[15] 19.1160526315789\n\\item[16] 20.8312878787879\n\\item[17] 21.2750793650794\n\\item[18] 17.725505050505\n\\item[19] 18.6532456140351\n\\item[20] 19.1776315789474\n\\item[21] 14.3555691056911\n\\item[22] 17.9175185185185\n\\item[23] 15.2451333333333\n\\item[24] 15.1888416988417\n\\item[25] 16.7889393939394\n\\item[26] 15.8755555555556\n\\item[27] 16.8928787878788\n\\item[28] 14.9412719298246\n\\item[29] 19.6538288288288\n\\item[30] 20.3652702702703\n\\item[31] 14.7236752136752\n\\item[32] 19.8209722222222\n\\item[33] 15.7575675675676\n\\item[34] 14.3216353383459\n\\item[35] 14.5053794642857\n\\item[36] 21.791625\n\\item[37] 21.7354166666667\n\\item[38] 21.4945299145299\n\\item[39] 20.804954954955\n\\item[40] 28.3954583333333\n\\item[41] 34.5751086956522\n\\item[42] 29.6978645833333\n\\item[43] 25.0912162162162\n\\item[44] 24.5286666666667\n\\item[45] 23.4107657657658\n\\item[46] 20.3051811594203\n\\item[47] 20.4122777777778\n\\item[48] 19.3342156862745\n\\item[49] 18.1500757575758\n\\item[50] 19.2518518518519\n\\item[51] 20.5881720430108\n\\item[52] 22.0541935483871\n\\item[53] 25.589898989899\n\\item[54] 21.3202564102564\n\\item[55] 19.8551470588235\n\\item[56] 35.0083333333333\n\\item[57] 24.5452564102564\n\\item[58] 30.8097023809524\n\\item[59] 22.86984375\n\\item[60] 20.955\n\\item[61] 19.4764705882353\n\\item[62] 20.0758974358974\n\\item[63] 23.0872093023256\n\\item[64] 25.0704938271605\n\\item[65] 31.968908045977\n\\item[66] 25.2013333333333\n\\item[67] 20.0986403508772\n\\item[68] 20.4521717171717\n\\item[69] 19.7441145833333\n\\item[70] 20.2794444444444\n\\item[71] 23.8581746031746\n\\item[72] 21.7069583333333\n\\item[73] 23.6068699186992\n\\item[74] 23.4787804878049\n\\item[75] 24.0036178861789\n\\item[76] 23.2736324786325\n\\item[77] 21.0825757575758\n\\item[78] 22.0982882882883\n\\item[79] 21.0729710144928\n\\item[80] 22.0517037037037\n\\item[81] 26.3987179487179\n\\item[82] 25.4122413793103\n\\item[83] 23.5370707070707\n\\item[84] 23.3521759259259\n\\item[85] 23.71375\n\\item[86] 27.1676344086022\n\\item[87] 20.7002192982456\n\\item[88] 23.4157916666667\n\\item[89] 30.3962\n\\item[90] 29.5491666666667\n\\item[91] 23.6357575757576\n\\item[92] 23.3402976190476\n\\item[93] 23.5225581395349\n\\item[94] 24.0715416666667\n\\item[95] 21.8314942528736\n\\item[96] 25.5588709677419\n\\item[97] 22.8648611111111\n\\item[98] 39.9874796747967\n\\item[99] 40.3374122807018\n\\item[100] 31.4526111111111\n\\end{description*}\n",
            "text/markdown": "1\n:   27.05923423423422\n:   22.59805555555563\n:   35.66789473684214\n:   37.23777777777785\n:   34.51166666666676\n:   27.02717592592597\n:   21.03058823529418\n:   17.46940170940179\n:   19.741196581196610\n:   19.244047619047611\n:   20.693958333333312\n:   22.236182795698913\n:   21.66662698412714\n:   20.342522522522515\n:   19.116052631578916\n:   20.831287878787917\n:   21.275079365079418\n:   17.72550505050519\n:   18.653245614035120\n:   19.177631578947421\n:   14.355569105691122\n:   17.917518518518523\n:   15.245133333333324\n:   15.188841698841725\n:   16.788939393939426\n:   15.875555555555627\n:   16.892878787878828\n:   14.941271929824629\n:   19.653828828828830\n:   20.365270270270331\n:   14.723675213675232\n:   19.820972222222233\n:   15.757567567567634\n:   14.321635338345935\n:   14.505379464285736\n:   21.79162537\n:   21.735416666666738\n:   21.494529914529939\n:   20.80495495495540\n:   28.395458333333341\n:   34.575108695652242\n:   29.697864583333343\n:   25.091216216216244\n:   24.528666666666745\n:   23.410765765765846\n:   20.305181159420347\n:   20.412277777777848\n:   19.334215686274549\n:   18.150075757575850\n:   19.251851851851951\n:   20.588172043010852\n:   22.054193548387153\n:   25.58989898989954\n:   21.320256410256455\n:   19.855147058823556\n:   35.008333333333357\n:   24.545256410256458\n:   30.809702380952459\n:   22.8698437560\n:   20.95561\n:   19.476470588235362\n:   20.075897435897463\n:   23.087209302325664\n:   25.070493827160565\n:   31.96890804597766\n:   25.201333333333367\n:   20.098640350877268\n:   20.452171717171769\n:   19.744114583333370\n:   20.279444444444471\n:   23.858174603174672\n:   21.706958333333373\n:   23.606869918699274\n:   23.478780487804975\n:   24.003617886178976\n:   23.273632478632577\n:   21.082575757575878\n:   22.098288288288379\n:   21.072971014492880\n:   22.051703703703781\n:   26.398717948717982\n:   25.412241379310383\n:   23.537070707070784\n:   23.352175925925985\n:   23.7137586\n:   27.167634408602287\n:   20.700219298245688\n:   23.415791666666789\n:   30.396290\n:   29.549166666666791\n:   23.635757575757692\n:   23.340297619047693\n:   23.522558139534994\n:   24.071541666666795\n:   21.831494252873696\n:   25.558870967741997\n:   22.864861111111198\n:   39.987479674796799\n:   40.3374122807018100\n:   31.4526111111111\n\n",
            "text/html": [
              "<style>\n",
              ".dl-inline {width: auto; margin:0; padding: 0}\n",
              ".dl-inline>dt, .dl-inline>dd {float: none; width: auto; display: inline-block}\n",
              ".dl-inline>dt::after {content: \":\\0020\"; padding-right: .5ex}\n",
              ".dl-inline>dt:not(:first-of-type) {padding-left: .5ex}\n",
              "</style><dl class=dl-inline><dt>1</dt><dd>27.0592342342342</dd><dt>2</dt><dd>22.5980555555556</dd><dt>3</dt><dd>35.6678947368421</dd><dt>4</dt><dd>37.2377777777778</dd><dt>5</dt><dd>34.5116666666667</dd><dt>6</dt><dd>27.0271759259259</dd><dt>7</dt><dd>21.0305882352941</dd><dt>8</dt><dd>17.4694017094017</dd><dt>9</dt><dd>19.7411965811966</dd><dt>10</dt><dd>19.2440476190476</dd><dt>11</dt><dd>20.6939583333333</dd><dt>12</dt><dd>22.2361827956989</dd><dt>13</dt><dd>21.666626984127</dd><dt>14</dt><dd>20.3425225225225</dd><dt>15</dt><dd>19.1160526315789</dd><dt>16</dt><dd>20.8312878787879</dd><dt>17</dt><dd>21.2750793650794</dd><dt>18</dt><dd>17.725505050505</dd><dt>19</dt><dd>18.6532456140351</dd><dt>20</dt><dd>19.1776315789474</dd><dt>21</dt><dd>14.3555691056911</dd><dt>22</dt><dd>17.9175185185185</dd><dt>23</dt><dd>15.2451333333333</dd><dt>24</dt><dd>15.1888416988417</dd><dt>25</dt><dd>16.7889393939394</dd><dt>26</dt><dd>15.8755555555556</dd><dt>27</dt><dd>16.8928787878788</dd><dt>28</dt><dd>14.9412719298246</dd><dt>29</dt><dd>19.6538288288288</dd><dt>30</dt><dd>20.3652702702703</dd><dt>31</dt><dd>14.7236752136752</dd><dt>32</dt><dd>19.8209722222222</dd><dt>33</dt><dd>15.7575675675676</dd><dt>34</dt><dd>14.3216353383459</dd><dt>35</dt><dd>14.5053794642857</dd><dt>36</dt><dd>21.791625</dd><dt>37</dt><dd>21.7354166666667</dd><dt>38</dt><dd>21.4945299145299</dd><dt>39</dt><dd>20.804954954955</dd><dt>40</dt><dd>28.3954583333333</dd><dt>41</dt><dd>34.5751086956522</dd><dt>42</dt><dd>29.6978645833333</dd><dt>43</dt><dd>25.0912162162162</dd><dt>44</dt><dd>24.5286666666667</dd><dt>45</dt><dd>23.4107657657658</dd><dt>46</dt><dd>20.3051811594203</dd><dt>47</dt><dd>20.4122777777778</dd><dt>48</dt><dd>19.3342156862745</dd><dt>49</dt><dd>18.1500757575758</dd><dt>50</dt><dd>19.2518518518519</dd><dt>51</dt><dd>20.5881720430108</dd><dt>52</dt><dd>22.0541935483871</dd><dt>53</dt><dd>25.589898989899</dd><dt>54</dt><dd>21.3202564102564</dd><dt>55</dt><dd>19.8551470588235</dd><dt>56</dt><dd>35.0083333333333</dd><dt>57</dt><dd>24.5452564102564</dd><dt>58</dt><dd>30.8097023809524</dd><dt>59</dt><dd>22.86984375</dd><dt>60</dt><dd>20.955</dd><dt>61</dt><dd>19.4764705882353</dd><dt>62</dt><dd>20.0758974358974</dd><dt>63</dt><dd>23.0872093023256</dd><dt>64</dt><dd>25.0704938271605</dd><dt>65</dt><dd>31.968908045977</dd><dt>66</dt><dd>25.2013333333333</dd><dt>67</dt><dd>20.0986403508772</dd><dt>68</dt><dd>20.4521717171717</dd><dt>69</dt><dd>19.7441145833333</dd><dt>70</dt><dd>20.2794444444444</dd><dt>71</dt><dd>23.8581746031746</dd><dt>72</dt><dd>21.7069583333333</dd><dt>73</dt><dd>23.6068699186992</dd><dt>74</dt><dd>23.4787804878049</dd><dt>75</dt><dd>24.0036178861789</dd><dt>76</dt><dd>23.2736324786325</dd><dt>77</dt><dd>21.0825757575758</dd><dt>78</dt><dd>22.0982882882883</dd><dt>79</dt><dd>21.0729710144928</dd><dt>80</dt><dd>22.0517037037037</dd><dt>81</dt><dd>26.3987179487179</dd><dt>82</dt><dd>25.4122413793103</dd><dt>83</dt><dd>23.5370707070707</dd><dt>84</dt><dd>23.3521759259259</dd><dt>85</dt><dd>23.71375</dd><dt>86</dt><dd>27.1676344086022</dd><dt>87</dt><dd>20.7002192982456</dd><dt>88</dt><dd>23.4157916666667</dd><dt>89</dt><dd>30.3962</dd><dt>90</dt><dd>29.5491666666667</dd><dt>91</dt><dd>23.6357575757576</dd><dt>92</dt><dd>23.3402976190476</dd><dt>93</dt><dd>23.5225581395349</dd><dt>94</dt><dd>24.0715416666667</dd><dt>95</dt><dd>21.8314942528736</dd><dt>96</dt><dd>25.5588709677419</dd><dt>97</dt><dd>22.8648611111111</dd><dt>98</dt><dd>39.9874796747967</dd><dt>99</dt><dd>40.3374122807018</dd><dt>100</dt><dd>31.4526111111111</dd></dl>\n"
            ]
          },
          "metadata": {
            "tags": []
          }
        }
      ]
    },
    {
      "cell_type": "code",
      "metadata": {
        "id": "6rNvAUuqKFTW",
        "colab": {
          "base_uri": "https://localhost:8080/",
          "height": 462
        },
        "outputId": "414013c6-f126-48b6-efed-658e9c2eb11d"
      },
      "source": [
        "#계산된 입력변수의 중요도 - 각 입력변수들의 목표변수에 대한 설명력\n",
        "importance(rf.boston, type = 1)"
      ],
      "execution_count": 10,
      "outputs": [
        {
          "output_type": "display_data",
          "data": {
            "text/plain": [
              "        %IncMSE  \n",
              "crim     7.440522\n",
              "zn       2.256277\n",
              "indus    4.796338\n",
              "chas     1.688645\n",
              "nox      9.283347\n",
              "rm      18.194105\n",
              "age      6.831333\n",
              "dis      9.562692\n",
              "rad      6.698528\n",
              "tax      6.516609\n",
              "ptratio  6.405823\n",
              "black    5.033892\n",
              "lstat   12.927429"
            ],
            "text/latex": "A matrix: 13 × 1 of type dbl\n\\begin{tabular}{r|l}\n  & \\%IncMSE\\\\\n\\hline\n\tcrim &  7.440522\\\\\n\tzn &  2.256277\\\\\n\tindus &  4.796338\\\\\n\tchas &  1.688645\\\\\n\tnox &  9.283347\\\\\n\trm & 18.194105\\\\\n\tage &  6.831333\\\\\n\tdis &  9.562692\\\\\n\trad &  6.698528\\\\\n\ttax &  6.516609\\\\\n\tptratio &  6.405823\\\\\n\tblack &  5.033892\\\\\n\tlstat & 12.927429\\\\\n\\end{tabular}\n",
            "text/markdown": "\nA matrix: 13 × 1 of type dbl\n\n| <!--/--> | %IncMSE |\n|---|---|\n| crim |  7.440522 |\n| zn |  2.256277 |\n| indus |  4.796338 |\n| chas |  1.688645 |\n| nox |  9.283347 |\n| rm | 18.194105 |\n| age |  6.831333 |\n| dis |  9.562692 |\n| rad |  6.698528 |\n| tax |  6.516609 |\n| ptratio |  6.405823 |\n| black |  5.033892 |\n| lstat | 12.927429 |\n\n",
            "text/html": [
              "<table class=\"dataframe\">\n",
              "<caption>A matrix: 13 × 1 of type dbl</caption>\n",
              "<thead>\n",
              "\t<tr><th></th><th scope=col>%IncMSE</th></tr>\n",
              "</thead>\n",
              "<tbody>\n",
              "\t<tr><th scope=row>crim</th><td> 7.440522</td></tr>\n",
              "\t<tr><th scope=row>zn</th><td> 2.256277</td></tr>\n",
              "\t<tr><th scope=row>indus</th><td> 4.796338</td></tr>\n",
              "\t<tr><th scope=row>chas</th><td> 1.688645</td></tr>\n",
              "\t<tr><th scope=row>nox</th><td> 9.283347</td></tr>\n",
              "\t<tr><th scope=row>rm</th><td>18.194105</td></tr>\n",
              "\t<tr><th scope=row>age</th><td> 6.831333</td></tr>\n",
              "\t<tr><th scope=row>dis</th><td> 9.562692</td></tr>\n",
              "\t<tr><th scope=row>rad</th><td> 6.698528</td></tr>\n",
              "\t<tr><th scope=row>tax</th><td> 6.516609</td></tr>\n",
              "\t<tr><th scope=row>ptratio</th><td> 6.405823</td></tr>\n",
              "\t<tr><th scope=row>black</th><td> 5.033892</td></tr>\n",
              "\t<tr><th scope=row>lstat</th><td>12.927429</td></tr>\n",
              "</tbody>\n",
              "</table>\n"
            ]
          },
          "metadata": {
            "tags": []
          }
        }
      ]
    },
    {
      "cell_type": "code",
      "metadata": {
        "id": "ZJKc9IBfMZsB",
        "colab": {
          "base_uri": "https://localhost:8080/"
        },
        "outputId": "bc4b68e2-f0a5-42e0-9902-ee89947b7b39"
      },
      "source": [
        "#랜덤포레스트 방법의 적합값 및 평균제곱오차\n",
        "Boston$medv.hat = predict(rf.boston, newdata =Boston)\n",
        "cat('MES : ', mean((Boston$medv - Boston$medv.hat)^2))"
      ],
      "execution_count": 14,
      "outputs": [
        {
          "output_type": "stream",
          "text": [
            "MES :  1.897951"
          ],
          "name": "stdout"
        }
      ]
    },
    {
      "cell_type": "markdown",
      "metadata": {
        "id": "SP2MNT4PSDcD"
      },
      "source": [
        "해석\n",
        "> \n",
        "* 나무모형에서의 MES가 16.099이였던것을 감안하면 랜덤포레스트가 훈련데이터에 대한 설명력을 매우 증가시켰음을 알 수 있음음\n",
        "* 랜덤포레스트 방법에 의한 표본추출에 의한 분류기생성방식은 부트스트랩을 사용하기 때문에 확률임의 추출에 의한 변동성이 있어 결과값이 달라질 수 있음"
      ]
    },
    {
      "cell_type": "code",
      "metadata": {
        "colab": {
          "base_uri": "https://localhost:8080/",
          "height": 437
        },
        "id": "krnaIwX8Px9r",
        "outputId": "70e35776-f534-4a24-aa83-730c239b95fa"
      },
      "source": [
        "#랜덤포레스트 회귀앙상블의 적합값과 실제값의 일치도\n",
        "plot(Boston$medv, Boston$medv.hat, xlab = \"Observed Values\", ylab = \"Fitted Values\")\n",
        "abline(0, 1)"
      ],
      "execution_count": 17,
      "outputs": [
        {
          "output_type": "display_data",
          "data": {
            "image/png": "[encoded data removed]",
            "text/plain": [
              "plot without title"
            ]
          },
          "metadata": {
            "tags": [],
            "image/png": {
              "width": 420,
              "height": 420
            }
          }
        }
      ]
    },
    {
      "cell_type": "code",
      "metadata": {
        "colab": {
          "base_uri": "https://localhost:8080/"
        },
        "id": "k0OBwU62P8xf",
        "outputId": "b46a154c-b3e2-4fbd-8911-a47bd5218775"
      },
      "source": [
        "#훈련/검증데이터로 분할해 평가\n",
        "set.seed(1234)\n",
        "i = sample(1:nrow(Boston), round(nrow(Boston)*0.7))\n",
        "Boston.train = Boston[i, ]\n",
        "Boston.test = Boston[-i, ]\n",
        "\n",
        "rf.train.boston = randomForest(medv ~ ., data = Boston.train, ntree = 100, importance = T, na.action = na.omit)\n",
        "medv.hat.test <- predict(rf.train.boston, newdata = Boston.test)\n",
        "cat('PMSE : ', mean((Boston.test$medv - medv.hat.test)^2))"
      ],
      "execution_count": 26,
      "outputs": [
        {
          "output_type": "stream",
          "text": [
            "PMSE :  3.495843"
          ],
          "name": "stdout"
        }
      ]
    },
    {
      "cell_type": "markdown",
      "metadata": {
        "id": "w8furyFt0Ffa"
      },
      "source": [
        "설명\n",
        ">\n",
        "* 분류나무에서의 검증데이터 오분류율이 19.872것을 봤을 때 상당히 향상된 결과임을 알 수 있음\n",
        "* 랜덤포레스트는 부트스트랩에의한 임의성으로 결과값이 달라질 수 있음"
      ]
    },
    {
      "cell_type": "markdown",
      "metadata": {
        "id": "tZUWPHuIWkVa"
      },
      "source": [
        "# 분류앙상블(독일신용평가 + CART방법)"
      ]
    },
    {
      "cell_type": "code",
      "metadata": {
        "id": "rNdwBkjE1mmx"
      },
      "source": [
        "#데이터 가져오기\n",
        "url_german = 'https://raw.githubusercontent.com/seunghee0518/R_File/main/%EB%8D%B0%EC%9D%B4%ED%84%B0%EB%A7%88%EC%9D%B4%EB%8B%9D/germandata.txt'\n",
        "german = read.table(url_german, header=T)\n",
        "german$numcredits = factor(german$numcredits)\n",
        "german$residence = factor(german$residence)\n",
        "german$residpeople = factor(german$residpeople)\n",
        "summary(german)"
      ],
      "execution_count": null,
      "outputs": []
    },
    {
      "cell_type": "code",
      "metadata": {
        "colab": {
          "base_uri": "https://localhost:8080/"
        },
        "id": "-UBuaZ2puwkA",
        "outputId": "547aecc1-70c2-46a7-9bc3-aab64e1acef1"
      },
      "source": [
        "#배깅 방법- 패키기 가져오기\n",
        "install.packages('adabag')\n",
        "install.packages('rpart')\n",
        "library(rpart)\n",
        "library(adabag)"
      ],
      "execution_count": 32,
      "outputs": [
        {
          "output_type": "stream",
          "text": [
            "Installing package into ‘/usr/local/lib/R/site-library’\n",
            "(as ‘lib’ is unspecified)\n",
            "\n",
            "Installing package into ‘/usr/local/lib/R/site-library’\n",
            "(as ‘lib’ is unspecified)\n",
            "\n"
          ],
          "name": "stderr"
        }
      ]
    },
    {
      "cell_type": "code",
      "metadata": {
        "colab": {
          "base_uri": "https://localhost:8080/",
          "height": 152
        },
        "id": "T4UGriI12yzy",
        "outputId": "66f425c3-1f29-44d3-a03d-7f1c27ed3635"
      },
      "source": [
        "#배깅 실행\n",
        "control.german.bagging = rpart.control(xval = 0, cp =0, minsplit = 5, maxdepth = 10)\n",
        "bag.german = bagging(y ~ ., data = german, mfinal = 50, control = control.german.bagging)\n",
        "summary(bag.german)"
      ],
      "execution_count": 40,
      "outputs": [
        {
          "output_type": "error",
          "ename": "ERROR",
          "evalue": "ignored",
          "traceback": [
            "Error in `[<-`(`*tmp*`, , i, value = matrix(as.numeric(pred == levels(vardep)[i]), : subscript out of bounds\nTraceback:\n",
            "1. bagging(y ~ ., data = german, mfinal = 50, control = my.control.german)"
          ]
        }
      ]
    },
    {
      "cell_type": "code",
      "metadata": {
        "id": "ryUIDRFZNT3c"
      },
      "source": [
        "#배깅 방법의 변수 중요도 시각화\n",
        "print(bag.german$importance)\n",
        "importanceplot(bag.german)"
      ],
      "execution_count": null,
      "outputs": []
    },
    {
      "cell_type": "code",
      "metadata": {
        "id": "o12VZkp40vd3"
      },
      "source": [
        ""
      ],
      "execution_count": null,
      "outputs": []
    },
    {
      "cell_type": "code",
      "metadata": {
        "id": "J9sA938z0cnd"
      },
      "source": [
        ""
      ],
      "execution_count": null,
      "outputs": []
    },
    {
      "cell_type": "markdown",
      "metadata": {
        "id": "z-CB1oDU0dYN"
      },
      "source": [
        "##분류앙상블 (독일신용평가 + 부스팅)"
      ]
    },
    {
      "cell_type": "code",
      "metadata": {
        "colab": {
          "base_uri": "https://localhost:8080/",
          "height": 152
        },
        "id": "wsaqy4FY0x5D",
        "outputId": "c5a14a1d-94e3-4096-803b-c7df268648e5"
      },
      "source": [
        "#부스팅 실행\n",
        "control.german.boosting <- rpart.control(xval = 10, cp = 0, maxdepth = 1)\n",
        "boo.german <- boosting(y ~., data = german, boos = T, mfinal = 100, control = control.german.boosting)\n"
      ],
      "execution_count": 42,
      "outputs": [
        {
          "output_type": "error",
          "ename": "ERROR",
          "evalue": "ignored",
          "traceback": [
            "Error in `[<-`(`*tmp*`, , i, value = matrix(as.numeric(pred == levels(vardep)[i]), : subscript out of bounds\nTraceback:\n",
            "1. boosting(y ~ ., data = german, boos = T, mfinal = 100, control = control.german.boosting)"
          ]
        }
      ]
    },
    {
      "cell_type": "code",
      "metadata": {
        "id": "zt9gjXLG0x-c"
      },
      "source": [
        ""
      ],
      "execution_count": null,
      "outputs": []
    }
  ]
}
