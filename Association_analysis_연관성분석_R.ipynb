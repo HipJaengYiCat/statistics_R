{
  "nbformat": 4,
  "nbformat_minor": 0,
  "metadata": {
    "colab": {
      "name": "R_데이터마이닝_8장_연관성분석",
      "private_outputs": true,
      "provenance": [],
      "collapsed_sections": [],
      "authorship_tag": "ABX9TyOmHrXSwLOO8HxBOQoMQksd",
      "include_colab_link": true
    },
    "kernelspec": {
      "name": "ir",
      "display_name": "R"
    }
  },
  "cells": [
    {
      "cell_type": "markdown",
      "metadata": {
        "id": "view-in-github",
        "colab_type": "text"
      },
      "source": [
        "<a href=\"https://colab.research.google.com/github/seunghee0518/R_File/blob/main/R_%EB%8D%B0%EC%9D%B4%ED%84%B0%EB%A7%88%EC%9D%B4%EB%8B%9D_8%EC%9E%A5_%EC%97%B0%EA%B4%80%EC%84%B1%EB%B6%84%EC%84%9D.ipynb\" target=\"_parent\"><img src=\"https://colab.research.google.com/assets/colab-badge.svg\" alt=\"Open In Colab\"/></a>"
      ]
    },
    {
      "cell_type": "markdown",
      "metadata": {
        "id": "830CNQI8_hjN"
      },
      "source": [
        "#식료품점 거래데이터\n"
      ]
    },
    {
      "cell_type": "code",
      "metadata": {
        "id": "SvQee_0V-NVP"
      },
      "source": [
        "install.packages('arules')\n",
        "library(arules)"
      ],
      "execution_count": null,
      "outputs": []
    },
    {
      "cell_type": "code",
      "metadata": {
        "id": "a6l3uZ38A6fr"
      },
      "source": [
        "#read.transactions()로 데이터 읽기\n",
        "url_trans = 'https://raw.githubusercontent.com/seunghee0518/R_File/main/%EB%8D%B0%EC%9D%B4%ED%84%B0%EB%A7%88%EC%9D%B4%EB%8B%9D/trans1.txt'\n",
        "tr1 = read.transactions(url_trans, sep=',')\n",
        "as(tr1, \"data.frame\")"
      ],
      "execution_count": null,
      "outputs": []
    },
    {
      "cell_type": "code",
      "metadata": {
        "id": "7RlLf19MA7AC"
      },
      "source": [
        "#apriori()함수로 연관규칙 산출 : 지지율 0.4, 신뢰도0.4이상\n",
        "rules1 = apriori(tr1, parameter = list(supp =0.4, conf = 0.4))"
      ],
      "execution_count": null,
      "outputs": []
    },
    {
      "cell_type": "code",
      "metadata": {
        "id": "EvCWd1O5_Kay"
      },
      "source": [
        "#연관성 규칙 보기\n",
        "inspect(rules1)"
      ],
      "execution_count": null,
      "outputs": []
    },
    {
      "cell_type": "markdown",
      "metadata": {
        "id": "UQsmmwOXAHoe"
      },
      "source": [
        "* 빵 -> 버터 지지율 : 0.6 => 전체 거래 중 빵과 버터를 모두 구매한 비율은 60%\n",
        "* 빵 -> 버터 신뢰도 : 1.0(100%) => 빵을 구매한 고객은 반드시 버터를 산다\n",
        "* 빵 -> 버터 향상도 : 1.25(125%) => 해당 연관규칙을 모를때와 비교해 25% 효과가 증가한다\n",
        "\n"
      ]
    },
    {
      "cell_type": "markdown",
      "metadata": {
        "id": "mDPd-B8U_vaS"
      },
      "source": [
        "# income데이터분석\n",
        "* income : Hastie에서 소개된 데이터로 원래의 데이터에서 연간소득에 관한 결측치가 있는 관측치를 제거해 일부 관측치만 추려서 만든 데이터이다\n",
        "* 소득의 크기에 따른 범주, 성별, 결혼상태, 연령대, 교육수준, 직업 등 14개의 인구통계적 범주형 변수를 포함하고 있음\n",
        "* arules패키지에 이미 거래형으로 변환된 데이터가 내장됨"
      ]
    },
    {
      "cell_type": "code",
      "metadata": {
        "id": "V49uQCsjAJGr"
      },
      "source": [
        "#패키지 & 데이터 가져오기\n",
        "library(arules)\n",
        "data(Income)\n",
        "str(Income)"
      ],
      "execution_count": null,
      "outputs": []
    },
    {
      "cell_type": "code",
      "metadata": {
        "id": "l3OZbC-zA7kC"
      },
      "source": [
        "#연관규칙 : 지지율 0.4, 신뢰도 0.8이상\n",
        "rules2 = apriori(Income, parameter = list(supp=0.4, conf = 0.8))"
      ],
      "execution_count": null,
      "outputs": []
    },
    {
      "cell_type": "code",
      "metadata": {
        "id": "NjUl0kj4CxVt"
      },
      "source": [
        "#연관규칙 보기\n",
        "inspect(rules2)"
      ],
      "execution_count": null,
      "outputs": []
    },
    {
      "cell_type": "code",
      "metadata": {
        "id": "ShjTn_U8CZlL"
      },
      "source": [
        "#연관규칙 시각화 패키지\n",
        "install.packages('arulesViz')\n",
        "library(arulesViz)"
      ],
      "execution_count": null,
      "outputs": []
    },
    {
      "cell_type": "code",
      "metadata": {
        "id": "RRQw7rrYClOE"
      },
      "source": [
        "#기본값 : 각 규칙의 지지율, 신뢰도가 좌표로 향상도가 진하기로 표시됨\n",
        "plot(rules2)"
      ],
      "execution_count": null,
      "outputs": []
    },
    {
      "cell_type": "code",
      "metadata": {
        "id": "la19LHtCEO2x"
      },
      "source": [
        "#원의 크기 : 각 규칙의 지지율, 색상의 진하기 : 향상도, 조건 이름 앞 숫자 : 그 조건으로 되어 있는 연관규칙의 수\n",
        "plot(rules2, method = 'grouped')"
      ],
      "execution_count": null,
      "outputs": []
    },
    {
      "cell_type": "code",
      "metadata": {
        "id": "XbdlPVmAEUIY"
      },
      "source": [
        "#원의크기 : 각 규칙이 지지율, 색상의 진하기 향상도, 집에서 사용하는 언어는 영어다가 중심에 위치함\n",
        "plot(rules2, method = 'graph')"
      ],
      "execution_count": null,
      "outputs": []
    },
    {
      "cell_type": "code",
      "metadata": {
        "id": "shPPhwQFEU-t"
      },
      "source": [
        "#품목(특성)간의 연간관계를 병렬적으로 확인가능, 화살표두께 : 지지율, 화살표의 색상진하기 : 향상도\n",
        "plot(rules2, method = 'paracoord')"
      ],
      "execution_count": null,
      "outputs": []
    },
    {
      "cell_type": "code",
      "metadata": {
        "id": "Bwx3huzAEcpq"
      },
      "source": [
        ""
      ],
      "execution_count": null,
      "outputs": []
    }
  ]
}
