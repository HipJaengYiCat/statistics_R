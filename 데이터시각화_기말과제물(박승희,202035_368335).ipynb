{
  "nbformat": 4,
  "nbformat_minor": 0,
  "metadata": {
    "colab": {
      "name": "데이터시각화_기말과제물(박승희,202035-368335)",
      "private_outputs": true,
      "provenance": [],
      "collapsed_sections": [],
      "authorship_tag": "ABX9TyMkal1FFcTqVWJSb9Sx7jH3",
      "include_colab_link": true
    },
    "kernelspec": {
      "name": "ir",
      "display_name": "R"
    }
  },
  "cells": [
    {
      "cell_type": "markdown",
      "metadata": {
        "id": "view-in-github",
        "colab_type": "text"
      },
      "source": [
        "<a href=\"https://colab.research.google.com/github/seunghee0518/R_File/blob/main/%EB%8D%B0%EC%9D%B4%ED%84%B0%EC%8B%9C%EA%B0%81%ED%99%94_%EA%B8%B0%EB%A7%90%EA%B3%BC%EC%A0%9C%EB%AC%BC(%EB%B0%95%EC%8A%B9%ED%9D%AC%2C202035_368335).ipynb\" target=\"_parent\"><img src=\"https://colab.research.google.com/assets/colab-badge.svg\" alt=\"Open In Colab\"/></a>"
      ]
    },
    {
      "cell_type": "markdown",
      "metadata": {
        "id": "6C4zpG7vzjGd"
      },
      "source": [
        "# 3. 버클리대학 입학자료를 바탕으로 성차별여부 시각화"
      ]
    },
    {
      "cell_type": "code",
      "metadata": {
        "id": "SfAvjbrdO8I2"
      },
      "source": [
        "UCBAdmissions"
      ],
      "execution_count": null,
      "outputs": []
    },
    {
      "cell_type": "code",
      "metadata": {
        "id": "Bc9uOHrP0T3O"
      },
      "source": [
        "str(UCBAdmissions)"
      ],
      "execution_count": null,
      "outputs": []
    },
    {
      "cell_type": "code",
      "metadata": {
        "id": "EzJTeWwM1LFg"
      },
      "source": [
        "addmargins(apply(UCBAdmissions, c(1, 2), sum))"
      ],
      "execution_count": null,
      "outputs": []
    },
    {
      "cell_type": "code",
      "metadata": {
        "id": "oNaPYaiM0dzY"
      },
      "source": [
        "plot(UCBAdmissions)\n",
        "mosaicplot(apply(UCBAdmissions, c(1, 2), sum), color=c(\"gray\", \"red\"),\n",
        "           main = \"Student admissions at UC Berkeley\")"
      ],
      "execution_count": null,
      "outputs": []
    },
    {
      "cell_type": "code",
      "metadata": {
        "id": "SXtnd6Rb078w"
      },
      "source": [
        "summary(UCBAdmissions)"
      ],
      "execution_count": null,
      "outputs": []
    },
    {
      "cell_type": "code",
      "metadata": {
        "id": "oleKgdECO5UC"
      },
      "source": [
        "apply(UCBAdmissions, c(2,1), sum) # 성별, 학격여부별 합계\n",
        "addmargins(apply(UCBAdmissions, c(2,1), sum)) # 행별 열별 합계 추가"
      ],
      "execution_count": null,
      "outputs": []
    },
    {
      "cell_type": "code",
      "metadata": {
        "id": "17mW9NH716Dk"
      },
      "source": [
        "par(mfrow = c(2, 3))  # 그림은 2X3 행렬\n",
        "\n",
        "for(i in 1:6)\n",
        "  mosaicplot(UCBAdmissions[,,i],\n",
        "             xlab = \"Admit\", ylab = \"Sex\", color=c(\"red\", \"grey\"),\n",
        "             main = paste(\"Department\", LETTERS[i]))   # 알파벳 A,B,C...\n",
        "\n",
        "mtext(expression(bold(\"Student admissions at UC Berkeley\")),\n",
        "      outer = TRUE, cex = 1.5)"
      ],
      "execution_count": null,
      "outputs": []
    },
    {
      "cell_type": "markdown",
      "metadata": {
        "id": "swrFtZFozrA8"
      },
      "source": [
        "# 4. 2020년 1월 22 부터 2021년 1월 21까지 코로나19 확진자수의 변화 시각화\n",
        "* 1, 2, 3차 대유행 시점에 관하여 논하기\n",
        "* 4차 대유행 가능성에 대하여 논하기\n",
        "* 패키지 'coronavirus' -coronavirus"
      ]
    },
    {
      "cell_type": "code",
      "metadata": {
        "id": "6nR9-pt02fMU"
      },
      "source": [
        "install.packages('coronavirus')\n",
        "library(coronavirus)"
      ],
      "execution_count": null,
      "outputs": []
    },
    {
      "cell_type": "code",
      "metadata": {
        "id": "ypReOXLk2qmZ"
      },
      "source": [
        "#coronavirus(country = 'Korea, South', type = 'confirmed')\n",
        "head(coronavirus)\n"
      ],
      "execution_count": null,
      "outputs": []
    },
    {
      "cell_type": "code",
      "metadata": {
        "id": "kph7rHUS24pS"
      },
      "source": [
        "#일부 데이터 추출\n",
        "corona = subset(coronavirus, coronavirus$country == 'Korea, South' &coronavirus$type == 'confirmed')\n",
        "head(corona, 3)\n",
        "tail(corona, 3)"
      ],
      "execution_count": null,
      "outputs": []
    },
    {
      "cell_type": "code",
      "metadata": {
        "id": "ZZ3hAFt85clU"
      },
      "source": [
        "install.packages('zoo')\n",
        "library(zoo)"
      ],
      "execution_count": null,
      "outputs": []
    },
    {
      "cell_type": "code",
      "metadata": {
        "id": "IfsgOuQRJH-R"
      },
      "source": [
        "date = as.Date(corona$date)\n",
        "corona.cases = zoo(corona[, 7], date)\n",
        "plot(corona.cases)"
      ],
      "execution_count": null,
      "outputs": []
    },
    {
      "cell_type": "code",
      "metadata": {
        "id": "4wRfOdLkJhLf"
      },
      "source": [
        ""
      ],
      "execution_count": null,
      "outputs": []
    }
  ]
}