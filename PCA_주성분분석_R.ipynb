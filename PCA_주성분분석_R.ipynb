{
  "nbformat": 4,
  "nbformat_minor": 0,
  "metadata": {
    "colab": {
      "name": "R_다변량분석_2장.ipynb",
      "private_outputs": true,
      "provenance": [],
      "collapsed_sections": [],
      "authorship_tag": "ABX9TyMBkcBnmqlpo+qAiP5+2YT1",
      "include_colab_link": true
    },
    "kernelspec": {
      "name": "ir",
      "display_name": "R"
    }
  },
  "cells": [
    {
      "cell_type": "markdown",
      "metadata": {
        "id": "view-in-github",
        "colab_type": "text"
      },
      "source": [
        "<a href=\"https://colab.research.google.com/github/seunghee0518/R_File/blob/main/R_%EB%8B%A4%EB%B3%80%EB%9F%89%EB%B6%84%EC%84%9D_2%EC%9E%A5.ipynb\" target=\"_parent\"><img src=\"https://colab.research.google.com/assets/colab-badge.svg\" alt=\"Open In Colab\"/></a>"
      ]
    },
    {
      "cell_type": "markdown",
      "metadata": {
        "id": "k8oWgXbuZVNh"
      },
      "source": [
        "**주성분분석 예시1 (상관계수행렬로 분석)**"
      ]
    },
    {
      "cell_type": "code",
      "metadata": {
        "id": "CwRV6f-LmRW8"
      },
      "source": [
        "#데이터 & 라이브러리 가져오기\r\n",
        "install.packages(\"HSAUR\")\r\n",
        "library(HSAUR)\r\n",
        "data(\"heptathlon\")\r\n",
        "head(heptathlon)"
      ],
      "execution_count": null,
      "outputs": []
    },
    {
      "cell_type": "code",
      "metadata": {
        "id": "NXC09pV06VHH"
      },
      "source": [
        "#데이터의 기초통계량 요약\r\n",
        "summary(heptathlon)"
      ],
      "execution_count": null,
      "outputs": []
    },
    {
      "cell_type": "code",
      "metadata": {
        "id": "ofuy8hEC6kHf"
      },
      "source": [
        "#자료변형하기\r\n",
        "heptathlon$hurdles = max(heptathlon$hurdles) - heptathlon$hurdles\r\n",
        "heptathlon$run200m = max(heptathlon$run200m) - heptathlon$run200m\r\n",
        "heptathlon$run800m = max(heptathlon$run800m) - heptathlon$run800m\r\n",
        "heptathlon\r\n"
      ],
      "execution_count": null,
      "outputs": []
    },
    {
      "cell_type": "code",
      "metadata": {
        "id": "M7CwQZti6lJK"
      },
      "source": [
        "#주성분분석 실행\r\n",
        "library(stats)"
      ],
      "execution_count": null,
      "outputs": []
    },
    {
      "cell_type": "code",
      "metadata": {
        "id": "0rtfi08b6m9b"
      },
      "source": [
        "#사용데이터중 8번째 score 제외\r\n",
        "hep.data = heptathlon[, -8]"
      ],
      "execution_count": null,
      "outputs": []
    },
    {
      "cell_type": "code",
      "metadata": {
        "id": "KgA_5t7z6oic"
      },
      "source": [
        "#princomp()함수 이용해 주성분분석 실시\r\n",
        "#cor=T 상관계수행렬, cor=F 공분산행렬, scores=T 주성분의 점수출력\r\n",
        "heptathlon.pca = princomp(hep.data, cor=T, scores=T)"
      ],
      "execution_count": null,
      "outputs": []
    },
    {
      "cell_type": "code",
      "metadata": {
        "id": "FWqsqdJK6r_G"
      },
      "source": [
        "#주성분분석의 개체 이름\r\n",
        "names(heptathlon.pca)"
      ],
      "execution_count": null,
      "outputs": []
    },
    {
      "cell_type": "code",
      "metadata": {
        "id": "w_xK_n2X6ugK"
      },
      "source": [
        "#주성분분석 결과\r\n",
        "summary(heptathlon.pca)"
      ],
      "execution_count": null,
      "outputs": []
    },
    {
      "cell_type": "code",
      "metadata": {
        "id": "exeEWk8KXFwD"
      },
      "source": [
        "heptathlon.pca"
      ],
      "execution_count": null,
      "outputs": []
    },
    {
      "cell_type": "code",
      "metadata": {
        "id": "yQGdZcF46wXL"
      },
      "source": [
        "#주성분분석의 분산 = 주성분의 크기 비교\r\n",
        "eig.val = heptathlon.pca$sdev^2\r\n",
        "eig.val"
      ],
      "execution_count": null,
      "outputs": []
    },
    {
      "cell_type": "code",
      "metadata": {
        "id": "nt1Faq_w7AZi"
      },
      "source": [
        "#스크림 그림(pch=산점도 표시 모양)\r\n",
        "screeplot(heptathlon.pca, type=\"line\", pch=19, main=\"Scree Plot\")"
      ],
      "execution_count": null,
      "outputs": []
    },
    {
      "cell_type": "code",
      "metadata": {
        "id": "mtUcPzYz7Aby"
      },
      "source": [
        "#주성분의 계수\r\n",
        "heptathlon.pca$loadings[, 1:2]"
      ],
      "execution_count": null,
      "outputs": []
    },
    {
      "cell_type": "code",
      "metadata": {
        "id": "nSY1qHbD7AeS"
      },
      "source": [
        "#행렬도(biplot)\r\n",
        "biplot(heptathlon.pca, cex=0.7, col=c(\"red\", \"blue\"), main=\"Biplot\")"
      ],
      "execution_count": null,
      "outputs": []
    },
    {
      "cell_type": "markdown",
      "metadata": {
        "id": "WcT1aygJaRNp"
      },
      "source": [
        "**주성분분석 예시2 (공분산으로 실행)"
      ]
    },
    {
      "cell_type": "code",
      "metadata": {
        "id": "FX8W8gvT7Agk"
      },
      "source": [
        "#데이터 가져오기\r\n",
        "beer <- read.csv(\"https://raw.githubusercontent.com/seunghee0518/R_File/main/%EB%8B%A4%EB%B3%80%EB%9E%91%EB%B6%84%EC%84%9D/mvadata/beer.csv\", header=T)\r\n",
        "attach(beer)\r\n",
        "head(beer)"
      ],
      "execution_count": null,
      "outputs": []
    },
    {
      "cell_type": "code",
      "metadata": {
        "id": "qM2-a_Bca7Om"
      },
      "source": [
        "#데이터의 기초통계량 요약\r\n",
        "summary(beer)"
      ],
      "execution_count": null,
      "outputs": []
    },
    {
      "cell_type": "code",
      "metadata": {
        "id": "4yXM_I9ia7wR"
      },
      "source": [
        "#상관계수행렬\r\n",
        "round(cor(beer), 2)"
      ],
      "execution_count": null,
      "outputs": []
    },
    {
      "cell_type": "code",
      "metadata": {
        "id": "H-uYxdE5a9Mg"
      },
      "source": [
        "#산점도행렬\r\n",
        "plot(beer, pch=19)"
      ],
      "execution_count": null,
      "outputs": []
    },
    {
      "cell_type": "code",
      "metadata": {
        "id": "5sSxFGj1a-br"
      },
      "source": [
        "#주성분분석 실행-공분산으로 실행(표준편차, 변수수=7, 개체수=99)\r\n",
        "library(stats)\r\n",
        "beer.pca = princomp(beer, cor=F, scores=T)\r\n",
        "beer.pca"
      ],
      "execution_count": null,
      "outputs": []
    },
    {
      "cell_type": "code",
      "metadata": {
        "id": "snxlWfu2a_m-"
      },
      "source": [
        "#주성분분석 결과\r\n",
        "summary(beer.pca)"
      ],
      "execution_count": null,
      "outputs": []
    },
    {
      "cell_type": "code",
      "metadata": {
        "id": "c3nnWlIsbBAR"
      },
      "source": [
        "#결과\r\n",
        "summary(beer.pca)"
      ],
      "execution_count": null,
      "outputs": []
    },
    {
      "cell_type": "code",
      "metadata": {
        "id": "d7eGEQ9PbCKf"
      },
      "source": [
        "#스크림 그림(pch=산점도 표시 모양)\r\n",
        "screeplot(beer.pca, type=\"line\", pch=19, main=\"beer.pca Scree Plot\")"
      ],
      "execution_count": null,
      "outputs": []
    },
    {
      "cell_type": "code",
      "metadata": {
        "id": "vlwRJjnEbD_q"
      },
      "source": [
        "#주성분의 계수\r\n",
        "beer.pca$loadings[, 1:3]"
      ],
      "execution_count": null,
      "outputs": []
    },
    {
      "cell_type": "code",
      "metadata": {
        "id": "Ou8_VE3ZbF0f"
      },
      "source": [
        "#행렬도(biplot)\r\n",
        "biplot(beer.pca, cex=0.7, col=c(\"red\", \"blue\"), main=\"Biplot\")"
      ],
      "execution_count": null,
      "outputs": []
    },
    {
      "cell_type": "markdown",
      "metadata": {
        "id": "q87jQkfp3t3w"
      },
      "source": [
        "**2장 연습문제**"
      ]
    },
    {
      "cell_type": "markdown",
      "metadata": {
        "id": "zyqKs7qz32zX"
      },
      "source": [
        "1. \"ade4\" 패키지의 \"deug\"자료로 주성분분석 실행\r\n",
        "자료 설명 : http://cran.r-project.org/web/packages/ade4.pdf\r\n",
        "\r\n",
        "\r\n",
        "> 들여쓴 블록\r\n",
        "1.   \r\n",
        "\r\n",
        "2. 9개 변수들 사이의 상관계수행렬을 구하라.\r\n",
        "3. 고유근을 구하고 그 고유근이 확보하는 정보의 양 및 누적정보량을 구하라\r\n",
        "4.\t1보다 큰 고유근의 수와 그 고유근들이 확보하는 누적정보의 양을 구하라\r\n",
        "5. Scree plot을 그리고 해석하라\r\n",
        "6. 위의 결과를 이용하여 주성분을 구하라 \r\n",
        "7. biplot을 그려보고 주성분의 특징을 정해보라\r\n",
        "\r\n",
        "\r\n",
        "\r\n",
        "\r\n"
      ]
    },
    {
      "cell_type": "code",
      "metadata": {
        "id": "hR62EZcIbG21"
      },
      "source": [
        "#자료 불러오기\r\n",
        "install.packages(\"ade4\")\r\n",
        "library(ade4)"
      ],
      "execution_count": null,
      "outputs": []
    },
    {
      "cell_type": "code",
      "metadata": {
        "id": "E-5s8_Z8FdJf"
      },
      "source": [
        "data(deug)\r\n",
        "data <- deug$tab\r\n",
        "head(data, 3)"
      ],
      "execution_count": null,
      "outputs": []
    },
    {
      "cell_type": "code",
      "metadata": {
        "id": "nJFhg2tm6LaP"
      },
      "source": [
        "#1. 기술통계량\r\n",
        "summary(data)"
      ],
      "execution_count": null,
      "outputs": []
    },
    {
      "cell_type": "code",
      "metadata": {
        "id": "Dq2ydMTy6eEy"
      },
      "source": [
        "#상관계수행렬\r\n",
        "round(cor(data), 2)"
      ],
      "execution_count": null,
      "outputs": []
    },
    {
      "cell_type": "code",
      "metadata": {
        "id": "zb9ykBNX6zfe"
      },
      "source": [
        "#고유근, 정보의 양 및 누적정보량\r\n",
        "library(stats)\r\n",
        "data.pca <- princomp(data, cor+T, scores = T)\r\n",
        "summary(data.pca)"
      ],
      "execution_count": null,
      "outputs": []
    },
    {
      "cell_type": "code",
      "metadata": {
        "id": "fkwjPSBB7LNr"
      },
      "source": [
        "#1보다 큰 고유근의 수 = 3, 그 고유근의 누적정보의 양= 61%"
      ],
      "execution_count": null,
      "outputs": []
    },
    {
      "cell_type": "code",
      "metadata": {
        "id": "2hlxNpc-7e1b"
      },
      "source": [
        "#scree plot\r\n",
        "screeplot(data.pca, type = \"line\", pch = 19)\r\n"
      ],
      "execution_count": null,
      "outputs": []
    },
    {
      "cell_type": "code",
      "metadata": {
        "id": "Z1rpYXqg7m-X"
      },
      "source": [
        "#biplot\r\n",
        "biplot(data.pca, cex = 0.7, col = c(\"red\", \"blue\"), main = \"data biplot\")\r\n"
      ],
      "execution_count": null,
      "outputs": []
    },
    {
      "cell_type": "markdown",
      "metadata": {
        "id": "97_CNuMS8AZM"
      },
      "source": [
        "2. 21개 회사의 재무상황 6개의 변수\r\n",
        "> \t\r\n",
        "1. 6개의 변수들에 대한 분산. 공분산행렬을 구하라\r\n",
        "2. 6개의 변수들에 대한 상관계수행렬을 구하라\r\n",
        "3. R을 이용하여 다음과 같이 주성분분석을 실시하고 결과를 비교하라\r\n",
        "\t > \r\n",
        "   1.  고유근을 구하고 그 고유근이 확보하는 정보의 양 및 누적정보량을 구하라\r\n",
        "   2. 1보다 큰 고유근의 수와 그 고유근들이 확보하는 누적정보의 양을 구하라\r\n",
        "   3. 위의 결과를 이용하여 주성분을 구하라\r\n",
        "\r\n"
      ]
    },
    {
      "cell_type": "code",
      "metadata": {
        "id": "yhjrXvQyCsMj"
      },
      "source": [
        "#데이터 가져오기\r\n",
        "url_2.2 = \"https://raw.githubusercontent.com/seunghee0518/R_File/main/%EB%8B%A4%EB%B3%80%EB%9E%91%EB%B6%84%EC%84%9D/%EC%97%B0%EC%8A%B5%EB%AC%B8%EC%A0%9C%EC%9E%90%EB%A3%8C(2-4%EC%9E%A5)/ex2-2.txt\"\r\n",
        "ex2 <- read.table(url_2.2, header=F)\r\n",
        "ex2 <- ex2[,c(2:7)]\r\n",
        "head(ex2, 3)"
      ],
      "execution_count": null,
      "outputs": []
    },
    {
      "cell_type": "code",
      "metadata": {
        "id": "_JjmyPEeHZU-"
      },
      "source": [
        "#공분산행렬\r\n",
        "round(cov(ex2))"
      ],
      "execution_count": null,
      "outputs": []
    },
    {
      "cell_type": "code",
      "metadata": {
        "id": "WOiR_5qCO3Xa"
      },
      "source": [
        "#주성분분석\r\n",
        "library(stats)\r\n",
        "ex2.pca.R <- princomp(ex2, cor=F, scores = T)\r\n",
        "ex2.pca.R"
      ],
      "execution_count": null,
      "outputs": []
    },
    {
      "cell_type": "code",
      "metadata": {
        "id": "IXsLu1vLIh0m"
      },
      "source": [
        "#pca => 1번 / 92%\r\n",
        "summary(ex2.pca.R)"
      ],
      "execution_count": null,
      "outputs": []
    },
    {
      "cell_type": "code",
      "metadata": {
        "id": "RpxgFNdHPLpa"
      },
      "source": [
        "#상관계수행렬\r\n",
        "round(cor(ex2))"
      ],
      "execution_count": null,
      "outputs": []
    },
    {
      "cell_type": "code",
      "metadata": {
        "id": "CQoNfZsIIMpz"
      },
      "source": [
        "#주성분분석\r\n",
        "ex2.pca.S <- princomp(ex2, cor=T, score=T)\r\n",
        "ex2.pca.S"
      ],
      "execution_count": null,
      "outputs": []
    },
    {
      "cell_type": "code",
      "metadata": {
        "id": "8dk7ePglIykx"
      },
      "source": [
        "#pca => 1, 2,3 => 76%\r\n",
        "summary(ex2.pca.S)"
      ],
      "execution_count": null,
      "outputs": []
    },
    {
      "cell_type": "markdown",
      "metadata": {
        "id": "y5fYxhiFJN8F"
      },
      "source": [
        "3. 14개 지역 사회조사자료\r\n",
        "\r\n",
        "> REGION : 지역번호\r\n",
        "\r\n",
        "> X1 : 총인구 (1,000) \r\n",
        "\r\n",
        "> X2 : 학력 중위수값\r\n",
        "\r\n",
        "> X3 : 총 고용자 수(1,000)\r\n",
        "\r\n",
        "> X4 : 의료종사자 수(1,000)\r\n",
        "\r\n",
        "> X5 : 주택가격 중위수 값\r\n",
        "\r\n",
        "> \r\n",
        "  1. 5개 변수들의 상관계수행렬\r\n",
        "  2. 고유근, 정보양, 누적정보량\r\n",
        "  3. 1보다 큰 고유근, 누적정보양\r\n",
        "  4. 주성분 구하기\r\n",
        "\r\n",
        "\r\n",
        "\r\n",
        "  "
      ]
    },
    {
      "cell_type": "code",
      "metadata": {
        "id": "XcG2lnoJKxDA"
      },
      "source": [
        "# import data\r\n",
        "url_ex3 = \"https://raw.githubusercontent.com/seunghee0518/R_File/main/%EB%8B%A4%EB%B3%80%EB%9E%91%EB%B6%84%EC%84%9D/%EC%97%B0%EC%8A%B5%EB%AC%B8%EC%A0%9C%EC%9E%90%EB%A3%8C(2-4%EC%9E%A5)/ex2-3.txt\"\r\n",
        "ex3 <- read.table(url_ex3)\r\n",
        "head(ex3, 3)"
      ],
      "execution_count": null,
      "outputs": []
    },
    {
      "cell_type": "code",
      "metadata": {
        "id": "mJIKjSbTLfrc"
      },
      "source": [
        "#1. calculate R\r\n",
        "round(cor(ex3))\r\n",
        "library(stats)\r\n",
        "ex3_pca_R <-princomp(ex3, cor = T, score = T)\r\n",
        "summary(ex3_pca_R)"
      ],
      "execution_count": null,
      "outputs": []
    },
    {
      "cell_type": "markdown",
      "metadata": {
        "id": "KC5qiyMJMMZr"
      },
      "source": [
        "4. 1973년 미국 각 주의 강력범죄자료\r\n",
        "\r\n",
        "> Murder, Assault, Rape : 인구 100,000명당 사고건수\r\n",
        "\r\n",
        "> UrbanPop : 도시인구비율 "
      ]
    },
    {
      "cell_type": "code",
      "metadata": {
        "id": "k7Gi8_ssM15x"
      },
      "source": [
        "#import data\r\n",
        "url_ex4 = \"https://raw.githubusercontent.com/seunghee0518/R_File/main/%EB%8B%A4%EB%B3%80%EB%9E%91%EB%B6%84%EC%84%9D/%EC%97%B0%EC%8A%B5%EB%AC%B8%EC%A0%9C%EC%9E%90%EB%A3%8C(2-4%EC%9E%A5)/ex2-4.txt\"\r\n",
        "ex4 <- read.table(url_ex4)\r\n",
        "ex4_1 <- ex4[,c(2:3)]\r\n",
        "ex4_2 <- ex4[,c(5:5)]\r\n",
        "ex4 <- cbind(ex4_1, ex4_2)\r\n",
        "head(ex4, 3)\r\n",
        "tail(ex4, 3)"
      ],
      "execution_count": null,
      "outputs": []
    },
    {
      "cell_type": "code",
      "metadata": {
        "id": "pbSu7eD0N_hT"
      },
      "source": [
        "# 공분산행렬 (corvariance matrix)\r\n",
        "round(cov(ex4))"
      ],
      "execution_count": null,
      "outputs": []
    },
    {
      "cell_type": "code",
      "metadata": {
        "id": "WjL5bagoQ41F"
      },
      "source": [
        "library(stats)\r\n",
        "ex4_pca_S <- princomp(ex4, cor =F, scores = T)\r\n",
        "summary(ex4_pca_S)"
      ],
      "execution_count": null,
      "outputs": []
    },
    {
      "cell_type": "code",
      "metadata": {
        "id": "UtR6XzH0RDcs"
      },
      "source": [
        "#  상관계수행렬 (correlation matrix)\r\n",
        "round(cor(ex4))"
      ],
      "execution_count": null,
      "outputs": []
    },
    {
      "cell_type": "code",
      "metadata": {
        "id": "4pIX--PjRYs1"
      },
      "source": [
        "ex4_pca_R <- princomp(ex4, cor =T, scores = T)\r\n",
        "summary(ex4_pca_R)"
      ],
      "execution_count": null,
      "outputs": []
    },
    {
      "cell_type": "markdown",
      "metadata": {
        "id": "a8gW_G8mTXRj"
      },
      "source": [
        "5. 상관계수행렬로 다음 구하기\r\n",
        "\r\n",
        "> \r\n",
        " 1. 고유값, 고유행렬\r\n",
        " 2. 스크리그림, 주성분 갯수\r\n",
        " 3. 주성분변수"
      ]
    },
    {
      "cell_type": "code",
      "metadata": {
        "id": "S_9cGd59TWjw"
      },
      "source": [
        "#대칭행렬\r\n",
        "r <-c(1.0000, .9885, .9929, .9836, .9958, .9885, 1.0000, .9762, .9619, .9842, .9929, .9762, 1.0000, .9968, .9969, .9836, .9619, .9968, 1.0000, .9873, .9958, .9842, .9969, .9873, 1.0000)\r\n",
        "ex5 <- matrix(r, 5)\r\n",
        "ex5"
      ],
      "execution_count": null,
      "outputs": []
    },
    {
      "cell_type": "code",
      "metadata": {
        "id": "Is5SmuM2UJRH"
      },
      "source": [
        "lower.tri(ex5, diag=F)"
      ],
      "execution_count": null,
      "outputs": []
    },
    {
      "cell_type": "code",
      "metadata": {
        "id": "77M51Nv9USwH"
      },
      "source": [
        "ex5_1<- ex5[lower.tri(ex5, diag=F)]"
      ],
      "execution_count": null,
      "outputs": []
    },
    {
      "cell_type": "code",
      "metadata": {
        "id": "GV-jbfYAVOgc"
      },
      "source": [
        "ex5_2 <- t(ex5)[lower.tri(ex5, diag=F)]\r\n"
      ],
      "execution_count": null,
      "outputs": []
    },
    {
      "cell_type": "code",
      "metadata": {
        "id": "8iSByzVmV14T"
      },
      "source": [
        "ex5_1 = ex5_2\r\n",
        "ex5"
      ],
      "execution_count": null,
      "outputs": []
    },
    {
      "cell_type": "code",
      "metadata": {
        "id": "tdw5abUhWOZq"
      },
      "source": [
        "#고유값 구하는 함수\r\n",
        "#고유값 & 고유행렬\r\n",
        "eigen(ex5)"
      ],
      "execution_count": null,
      "outputs": []
    },
    {
      "cell_type": "code",
      "metadata": {
        "id": "FYnsn_fEXdQw"
      },
      "source": [
        "#scree plot\r\n",
        "library(stats)\r\n",
        "ex5_pca <- princomp(ex5, cor=T, score=T)\r\n",
        "summary(ex5_pca)\r\n"
      ],
      "execution_count": null,
      "outputs": []
    },
    {
      "cell_type": "code",
      "metadata": {
        "id": "yQgGPJUhZuP7"
      },
      "source": [
        "screeplot(ex5_pca, type = \"line\", pch=19)"
      ],
      "execution_count": null,
      "outputs": []
    }
  ]
}
