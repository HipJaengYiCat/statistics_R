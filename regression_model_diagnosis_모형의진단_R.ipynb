{
  "nbformat": 4,
  "nbformat_minor": 0,
  "metadata": {
    "colab": {
      "name": "R_회귀모형_6장_모형의진단",
      "private_outputs": true,
      "provenance": [],
      "collapsed_sections": [
        "Unp_toUNqJzB"
      ],
      "authorship_tag": "ABX9TyN9bTN0wkwuoL9pVVryqiR+",
      "include_colab_link": true
    },
    "kernelspec": {
      "name": "ir",
      "display_name": "R"
    }
  },
  "cells": [
    {
      "cell_type": "markdown",
      "metadata": {
        "id": "view-in-github",
        "colab_type": "text"
      },
      "source": [
        "<a href=\"https://colab.research.google.com/github/seunghee0518/R_File/blob/main/R_%ED%9A%8C%EA%B7%80%EB%AA%A8%ED%98%95_6%EC%9E%A5_%EB%AA%A8%ED%98%95%EC%9D%98%EC%A7%84%EB%8B%A8.ipynb\" target=\"_parent\"><img src=\"https://colab.research.google.com/assets/colab-badge.svg\" alt=\"Open In Colab\"/></a>"
      ]
    },
    {
      "cell_type": "markdown",
      "metadata": {
        "id": "Unp_toUNqJzB"
      },
      "source": [
        "# 오차의 등분산성 검정 : 스코어검정\n",
        "* <표 6.1> 흰기러기 데이터\n",
        "* photo(Y) : 사진 \n",
        "* obsA(X1) : 관측자A\n",
        "* obsB(X2) : 관측자B"
      ]
    },
    {
      "cell_type": "code",
      "metadata": {
        "id": "z4rHNJrchOAt"
      },
      "source": [
        "#데이터 가져오기\n",
        "goose_url = 'https://raw.githubusercontent.com/seunghee0518/R_File/main/%ED%9A%8C%EA%B7%80%EB%AA%A8%ED%98%95/goose.txt'\n",
        "goose = read.table(goose_url, header = T)\n",
        "head(goose, 3)"
      ],
      "execution_count": null,
      "outputs": []
    },
    {
      "cell_type": "code",
      "metadata": {
        "id": "pR0HFmP0rMre"
      },
      "source": [
        "#회귀모형 적합 : obsA\n",
        "goose.lm = lm(photo ~ obsA, data = goose)\n",
        "plot(goose.lm$fitted, goose.lm$resid, pch =19)\n",
        "text(goose.lm$fitted, goose.lm$resid, labels = goose$photo, pos = 1)"
      ],
      "execution_count": null,
      "outputs": []
    },
    {
      "cell_type": "code",
      "metadata": {
        "id": "LledXTM3r_OQ"
      },
      "source": [
        "#스코어 검정 : car패키지 - ncvTest()\n",
        "install.packages('car')\n",
        "library(car)\n",
        "ncvTest(goose.lm)"
      ],
      "execution_count": null,
      "outputs": []
    },
    {
      "cell_type": "markdown",
      "metadata": {
        "id": "fy1GfvaTszXq"
      },
      "source": [
        "* 스코어 검정의 통계량값 : Chisquare = 81.41318\n",
        "* 자유도가 1인 X2(1)값과 비교해 검정함\n",
        "* 유의확률 p값 : 1.83e-19 -> 0.05보다 매우 작으므로 등분산가정(귀무가설)을 기각함\n",
        "* 즉, 설명변수X1이 분산의 크기에 영향을 미쳐 등분산가정을 만족하지 않음"
      ]
    },
    {
      "cell_type": "markdown",
      "metadata": {
        "id": "H_hn7SMut7Gt"
      },
      "source": [
        "# 회귀모형의 비선형성"
      ]
    },
    {
      "cell_type": "code",
      "metadata": {
        "id": "QbC5j3jIt6pf"
      },
      "source": [
        "#데이터\n",
        "tree_url = 'https://raw.githubusercontent.com/seunghee0518/R_File/main/%ED%9A%8C%EA%B7%80%EB%AA%A8%ED%98%95/tree.txt'\n",
        "tree = read.table(tree_url, header = T)\n",
        "head(tree, 3)"
      ],
      "execution_count": null,
      "outputs": []
    },
    {
      "cell_type": "code",
      "metadata": {
        "id": "CsJfgpwVsZCk"
      },
      "source": [
        "#회귀 적합\n",
        "tree.lm = lm(V ~ D+H, data = tree)"
      ],
      "execution_count": null,
      "outputs": []
    },
    {
      "cell_type": "code",
      "metadata": {
        "id": "JzeGfk9rvpdW"
      },
      "source": [
        "#잔차산점도\n",
        "plot(tree$D, tree.lm$resid, pch = 19)"
      ],
      "execution_count": null,
      "outputs": []
    },
    {
      "cell_type": "markdown",
      "metadata": {
        "id": "RJv9ll4Kv4uw"
      },
      "source": [
        "* 변수D와 잔차의 산점도에서 2차함수 형태의 비선형모양이 뚜렷하게 나타남\n",
        "* 즉. 모형의 선형성 가정에 위배됨을 알 수 있음\n",
        "* 이 경우 변수D^2항을 모형에 포함시켜도 좋을 것 같음 "
      ]
    },
    {
      "cell_type": "code",
      "metadata": {
        "id": "5535bAA5vxDX"
      },
      "source": [
        "plot(tree$H, tree.lm$resid, pch = 19)"
      ],
      "execution_count": null,
      "outputs": []
    },
    {
      "cell_type": "markdown",
      "metadata": {
        "id": "krFiy_ezwpSq"
      },
      "source": [
        "* 어떤 뚜렷한 현상은 보이지 않음"
      ]
    },
    {
      "cell_type": "markdown",
      "metadata": {
        "id": "tFmk84ssww3S"
      },
      "source": [
        "# 오차의 정규성\n",
        "* <표 6.1> 흰기러기 데이터\n",
        "* 잔차산점도와 스코어 검정을 통해 등분산 가정에 문제가 있다는 것을 이미 확인함\n",
        "* 정규확률그림을 통해 오차정규성 여부 확인"
      ]
    },
    {
      "cell_type": "code",
      "metadata": {
        "id": "5JWobHF3v19H"
      },
      "source": [
        "#흰기러기 데이터\n",
        "goose_url = 'https://raw.githubusercontent.com/seunghee0518/R_File/main/%ED%9A%8C%EA%B7%80%EB%AA%A8%ED%98%95/goose.txt'\n",
        "goose = read.table(goose_url, header = T)\n",
        "head(goose, 3)"
      ],
      "execution_count": null,
      "outputs": []
    },
    {
      "cell_type": "code",
      "metadata": {
        "id": "iWnychvhoWQO"
      },
      "source": [
        "#car 패키지 - qqPlot()\n",
        "install.packages('car')\n",
        "library(car)\n",
        "goose.lm = lm(photo ~ obsA, data = goose)\n",
        "qqPlot(goose.lm)"
      ],
      "execution_count": null,
      "outputs": []
    },
    {
      "cell_type": "markdown",
      "metadata": {
        "id": "DuSl9g3-pHO2"
      },
      "source": [
        "* 잔차가 직선의 형태를 따름 : 정규성 가정에 문제가 없다\n",
        "* 해당 그래프는 잔차가 곡선의 형태이므로 정규성 가정에 위배된다고 판단됨"
      ]
    },
    {
      "cell_type": "code",
      "metadata": {
        "id": "c8qwnhHjpF3e"
      },
      "source": [
        "# W통계량으로 정규성 검정 : mvnormtest패키지-shapiro.test()\n",
        "install.packages('mvnormtest')\n",
        "library(mvnormtest)\n",
        "goose.rstudent = rstudent(goose.lm)\n",
        "shapiro.test(goose.rstudent)"
      ],
      "execution_count": null,
      "outputs": []
    },
    {
      "cell_type": "markdown",
      "metadata": {
        "id": "amMG9KreqfdB"
      },
      "source": [
        "* W통계량 : 0.7192\n",
        "* p값 : 5.97e-8\n",
        "* W통계량과 p값이 매우 작으므로 스튜던트화 잔차가 정규분포를 따르지 않음\n",
        "* 따라서 해당 자료는 등분산성을 만족하지 않고 오차의 정규성을 따르지 않음"
      ]
    },
    {
      "cell_type": "markdown",
      "metadata": {
        "id": "Dan30FQY7fOA"
      },
      "source": [
        "# Box-Cox의 변환 : 변수의 변환\n",
        "* X : 월 총에너지 사용량\n",
        "* Y : 시간당 최대수요\n"
      ]
    },
    {
      "cell_type": "code",
      "metadata": {
        "id": "ESYGXGcqqX8P"
      },
      "source": [
        "#데이터 가져오기\n",
        "energy_url = 'https://raw.githubusercontent.com/seunghee0518/R_File/main/%ED%9A%8C%EA%B7%80%EB%AA%A8%ED%98%95/energy.txt'\n",
        "energy = read.table(energy_url, header = T)\n",
        "head(energy, 3)"
      ],
      "execution_count": null,
      "outputs": []
    },
    {
      "cell_type": "code",
      "metadata": {
        "id": "QzoWD8oX8yyD"
      },
      "source": [
        "#잔차산점도\n",
        "energy.lm = lm(Y ~ X, data = energy)\n",
        "plot(energy.lm$fitted, energy$resid, pch = 19)"
      ],
      "execution_count": null,
      "outputs": []
    },
    {
      "cell_type": "markdown",
      "metadata": {
        "id": "kv-2eDlQ9ERu"
      },
      "source": [
        "* 잔차산점도의 형태로 보아 등분산가정에 의심됨"
      ]
    },
    {
      "cell_type": "code",
      "metadata": {
        "id": "oxmQXXKq9DEc"
      },
      "source": [
        "#경험적으로 변수변환 : Y -> 루트로 변수변환\n",
        "energy$sqrtY = sqrt(energy$Y)\n",
        "energy.lm2 = lm(sqrtY ~ X, data = energy)\n",
        "plot(energy.lm2$fitted, energy.lm2$resid, pch = 19)"
      ],
      "execution_count": null,
      "outputs": []
    },
    {
      "cell_type": "code",
      "metadata": {
        "id": "kzHcSU1U-HJz"
      },
      "source": [
        "#Box-Cox변환방법 : MASS패키지 - boxcox()\n",
        "install.packages('MASS')\n",
        "library(MASS)\n",
        "boxcox(Y ~ X, data = energy, lambda = seq(-2, 2, 1/2), plotit = TRUE)"
      ],
      "execution_count": null,
      "outputs": []
    },
    {
      "cell_type": "markdown",
      "metadata": {
        "id": "qWSvim3Q_lUY"
      },
      "source": [
        "* log-likelihood 값이 최대일때를 찾으면 됨\n",
        "* 즉, 0.5일때 최대임\n",
        "* 따라서 이는 루트 변수변환에 해당함을 알 수 있음"
      ]
    }
  ]
}
